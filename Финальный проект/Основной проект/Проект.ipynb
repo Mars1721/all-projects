{
 "cells": [
  {
   "cell_type": "markdown",
   "metadata": {},
   "source": [
    "# Описание проекта"
   ]
  },
  {
   "cell_type": "markdown",
   "metadata": {},
   "source": [
    "# Проект представляет собой массив клиентов банка. Необходимо исследовать портреты уходящих и постоянных клиентов."
   ]
  },
  {
   "cell_type": "markdown",
   "metadata": {},
   "source": [
    "# Шаг 1. Изучение общей информации"
   ]
  },
  {
   "cell_type": "code",
   "execution_count": 1,
   "metadata": {},
   "outputs": [
    {
     "name": "stdout",
     "output_type": "stream",
     "text": [
      "Requirement already satisfied: pandas in c:\\users\\user\\anaconda3\\lib\\site-packages (1.5.3)\n",
      "Collecting pandas\n",
      "  Downloading pandas-2.0.3-cp310-cp310-win_amd64.whl (10.7 MB)\n",
      "     ---------------------------------------- 10.7/10.7 MB 5.2 MB/s eta 0:00:00\n",
      "Requirement already satisfied: pytz>=2020.1 in c:\\users\\user\\anaconda3\\lib\\site-packages (from pandas) (2022.7)\n",
      "Requirement already satisfied: numpy>=1.21.0 in c:\\users\\user\\anaconda3\\lib\\site-packages (from pandas) (1.23.5)\n",
      "Collecting tzdata>=2022.1\n",
      "  Downloading tzdata-2023.3-py2.py3-none-any.whl (341 kB)\n",
      "     -------------------------------------- 341.8/341.8 kB 5.3 MB/s eta 0:00:00\n",
      "Requirement already satisfied: python-dateutil>=2.8.2 in c:\\users\\user\\anaconda3\\lib\\site-packages (from pandas) (2.8.2)\n",
      "Requirement already satisfied: six>=1.5 in c:\\users\\user\\anaconda3\\lib\\site-packages (from python-dateutil>=2.8.2->pandas) (1.16.0)\n",
      "Installing collected packages: tzdata, pandas\n",
      "  Attempting uninstall: pandas\n",
      "    Found existing installation: pandas 1.5.3\n",
      "    Uninstalling pandas-1.5.3:\n",
      "      Successfully uninstalled pandas-1.5.3\n",
      "Successfully installed pandas-2.0.3 tzdata-2023.3\n"
     ]
    }
   ],
   "source": [
    "import pandas as pd\n",
    "import matplotlib.pyplot as plt\n",
    "import numpy as np\n",
    "import seaborn as sns\n",
    "import plotly.express as px\n",
    "from plotly import graph_objects as go\n",
    "import json\n",
    "from scipy import stats as st\n",
    "import math as mth\n",
    "!pip install -U pandas\n",
    "\n",
    "#import sys\n",
    "#!\"{sys.executable}\" -m pip install phik"
   ]
  },
  {
   "cell_type": "code",
   "execution_count": 2,
   "metadata": {
    "scrolled": false
   },
   "outputs": [
    {
     "data": {
      "text/html": [
       "<div>\n",
       "<style scoped>\n",
       "    .dataframe tbody tr th:only-of-type {\n",
       "        vertical-align: middle;\n",
       "    }\n",
       "\n",
       "    .dataframe tbody tr th {\n",
       "        vertical-align: top;\n",
       "    }\n",
       "\n",
       "    .dataframe thead th {\n",
       "        text-align: right;\n",
       "    }\n",
       "</style>\n",
       "<table border=\"1\" class=\"dataframe\">\n",
       "  <thead>\n",
       "    <tr style=\"text-align: right;\">\n",
       "      <th></th>\n",
       "      <th>USERID</th>\n",
       "      <th>score</th>\n",
       "      <th>city</th>\n",
       "      <th>gender</th>\n",
       "      <th>age</th>\n",
       "      <th>equity</th>\n",
       "      <th>balance</th>\n",
       "      <th>products</th>\n",
       "      <th>credit_card</th>\n",
       "      <th>last_activity</th>\n",
       "      <th>EST_SALARY</th>\n",
       "      <th>churn</th>\n",
       "    </tr>\n",
       "  </thead>\n",
       "  <tbody>\n",
       "    <tr>\n",
       "      <th>0</th>\n",
       "      <td>183012</td>\n",
       "      <td>850.0</td>\n",
       "      <td>Рыбинск</td>\n",
       "      <td>Ж</td>\n",
       "      <td>25.0</td>\n",
       "      <td>1</td>\n",
       "      <td>59214.82</td>\n",
       "      <td>2</td>\n",
       "      <td>0</td>\n",
       "      <td>1</td>\n",
       "      <td>75719.14</td>\n",
       "      <td>1</td>\n",
       "    </tr>\n",
       "    <tr>\n",
       "      <th>1</th>\n",
       "      <td>146556</td>\n",
       "      <td>861.0</td>\n",
       "      <td>Рыбинск</td>\n",
       "      <td>Ж</td>\n",
       "      <td>37.0</td>\n",
       "      <td>5</td>\n",
       "      <td>850594.33</td>\n",
       "      <td>3</td>\n",
       "      <td>1</td>\n",
       "      <td>0</td>\n",
       "      <td>86621.77</td>\n",
       "      <td>0</td>\n",
       "    </tr>\n",
       "    <tr>\n",
       "      <th>2</th>\n",
       "      <td>120722</td>\n",
       "      <td>892.0</td>\n",
       "      <td>Рыбинск</td>\n",
       "      <td>Ж</td>\n",
       "      <td>30.0</td>\n",
       "      <td>0</td>\n",
       "      <td>NaN</td>\n",
       "      <td>1</td>\n",
       "      <td>1</td>\n",
       "      <td>1</td>\n",
       "      <td>107683.34</td>\n",
       "      <td>0</td>\n",
       "    </tr>\n",
       "    <tr>\n",
       "      <th>3</th>\n",
       "      <td>225363</td>\n",
       "      <td>866.0</td>\n",
       "      <td>Ярославль</td>\n",
       "      <td>Ж</td>\n",
       "      <td>51.0</td>\n",
       "      <td>5</td>\n",
       "      <td>1524746.26</td>\n",
       "      <td>2</td>\n",
       "      <td>0</td>\n",
       "      <td>1</td>\n",
       "      <td>174423.53</td>\n",
       "      <td>1</td>\n",
       "    </tr>\n",
       "    <tr>\n",
       "      <th>4</th>\n",
       "      <td>157978</td>\n",
       "      <td>730.0</td>\n",
       "      <td>Ярославль</td>\n",
       "      <td>М</td>\n",
       "      <td>34.0</td>\n",
       "      <td>5</td>\n",
       "      <td>174.00</td>\n",
       "      <td>1</td>\n",
       "      <td>1</td>\n",
       "      <td>0</td>\n",
       "      <td>67353.16</td>\n",
       "      <td>1</td>\n",
       "    </tr>\n",
       "  </tbody>\n",
       "</table>\n",
       "</div>"
      ],
      "text/plain": [
       "   USERID  score       city gender   age  equity     balance  products  \\\n",
       "0  183012  850.0    Рыбинск      Ж  25.0       1    59214.82         2   \n",
       "1  146556  861.0    Рыбинск      Ж  37.0       5   850594.33         3   \n",
       "2  120722  892.0    Рыбинск      Ж  30.0       0         NaN         1   \n",
       "3  225363  866.0  Ярославль      Ж  51.0       5  1524746.26         2   \n",
       "4  157978  730.0  Ярославль      М  34.0       5      174.00         1   \n",
       "\n",
       "   credit_card  last_activity  EST_SALARY  churn  \n",
       "0            0              1    75719.14      1  \n",
       "1            1              0    86621.77      0  \n",
       "2            1              1   107683.34      0  \n",
       "3            0              1   174423.53      1  \n",
       "4            1              0    67353.16      1  "
      ]
     },
     "execution_count": 2,
     "metadata": {},
     "output_type": "execute_result"
    }
   ],
   "source": [
    "# Откроем таблицу\n",
    "path = \"https://drive.google.com/uc?export=download&id=1-U61mhTz_N1ARjy2XSAZ7IlQqGjeqP0F\" \n",
    "data = pd.read_csv(path)\n",
    "data.head(5)"
   ]
  },
  {
   "cell_type": "code",
   "execution_count": 83,
   "metadata": {},
   "outputs": [
    {
     "name": "stdout",
     "output_type": "stream",
     "text": [
      "<class 'pandas.core.frame.DataFrame'>\n",
      "RangeIndex: 10000 entries, 0 to 9999\n",
      "Data columns (total 12 columns):\n",
      " #   Column         Non-Null Count  Dtype  \n",
      "---  ------         --------------  -----  \n",
      " 0   USERID         10000 non-null  int64  \n",
      " 1   score          10000 non-null  float64\n",
      " 2   city           10000 non-null  object \n",
      " 3   gender         10000 non-null  object \n",
      " 4   age            9974 non-null   float64\n",
      " 5   equity         10000 non-null  int64  \n",
      " 6   balance        7705 non-null   float64\n",
      " 7   products       10000 non-null  int64  \n",
      " 8   credit_card    10000 non-null  int64  \n",
      " 9   last_activity  10000 non-null  int64  \n",
      " 10  EST_SALARY     10000 non-null  float64\n",
      " 11  churn          10000 non-null  int64  \n",
      "dtypes: float64(4), int64(6), object(2)\n",
      "memory usage: 937.6+ KB\n"
     ]
    }
   ],
   "source": [
    "# Общая информация о таблице\n",
    "data.info()"
   ]
  },
  {
   "cell_type": "markdown",
   "metadata": {},
   "source": [
    "Вывод: в результате загрузки данных были получены общие данные о таблице"
   ]
  },
  {
   "cell_type": "markdown",
   "metadata": {},
   "source": [
    "# Шаг 2. Предобработка данных"
   ]
  },
  {
   "cell_type": "markdown",
   "metadata": {},
   "source": [
    "## Приведение к нижнему регистру"
   ]
  },
  {
   "cell_type": "code",
   "execution_count": 84,
   "metadata": {},
   "outputs": [
    {
     "data": {
      "text/html": [
       "<div>\n",
       "<style scoped>\n",
       "    .dataframe tbody tr th:only-of-type {\n",
       "        vertical-align: middle;\n",
       "    }\n",
       "\n",
       "    .dataframe tbody tr th {\n",
       "        vertical-align: top;\n",
       "    }\n",
       "\n",
       "    .dataframe thead th {\n",
       "        text-align: right;\n",
       "    }\n",
       "</style>\n",
       "<table border=\"1\" class=\"dataframe\">\n",
       "  <thead>\n",
       "    <tr style=\"text-align: right;\">\n",
       "      <th></th>\n",
       "      <th>userid</th>\n",
       "      <th>score</th>\n",
       "      <th>city</th>\n",
       "      <th>gender</th>\n",
       "      <th>age</th>\n",
       "      <th>equity</th>\n",
       "      <th>balance</th>\n",
       "      <th>products</th>\n",
       "      <th>credit_card</th>\n",
       "      <th>last_activity</th>\n",
       "      <th>est_salary</th>\n",
       "      <th>churn</th>\n",
       "    </tr>\n",
       "  </thead>\n",
       "  <tbody>\n",
       "    <tr>\n",
       "      <th>0</th>\n",
       "      <td>183012</td>\n",
       "      <td>850.0</td>\n",
       "      <td>Рыбинск</td>\n",
       "      <td>Ж</td>\n",
       "      <td>25.0</td>\n",
       "      <td>1</td>\n",
       "      <td>59214.82</td>\n",
       "      <td>2</td>\n",
       "      <td>0</td>\n",
       "      <td>1</td>\n",
       "      <td>75719.14</td>\n",
       "      <td>1</td>\n",
       "    </tr>\n",
       "    <tr>\n",
       "      <th>1</th>\n",
       "      <td>146556</td>\n",
       "      <td>861.0</td>\n",
       "      <td>Рыбинск</td>\n",
       "      <td>Ж</td>\n",
       "      <td>37.0</td>\n",
       "      <td>5</td>\n",
       "      <td>850594.33</td>\n",
       "      <td>3</td>\n",
       "      <td>1</td>\n",
       "      <td>0</td>\n",
       "      <td>86621.77</td>\n",
       "      <td>0</td>\n",
       "    </tr>\n",
       "    <tr>\n",
       "      <th>2</th>\n",
       "      <td>120722</td>\n",
       "      <td>892.0</td>\n",
       "      <td>Рыбинск</td>\n",
       "      <td>Ж</td>\n",
       "      <td>30.0</td>\n",
       "      <td>0</td>\n",
       "      <td>NaN</td>\n",
       "      <td>1</td>\n",
       "      <td>1</td>\n",
       "      <td>1</td>\n",
       "      <td>107683.34</td>\n",
       "      <td>0</td>\n",
       "    </tr>\n",
       "    <tr>\n",
       "      <th>3</th>\n",
       "      <td>225363</td>\n",
       "      <td>866.0</td>\n",
       "      <td>Ярославль</td>\n",
       "      <td>Ж</td>\n",
       "      <td>51.0</td>\n",
       "      <td>5</td>\n",
       "      <td>1524746.26</td>\n",
       "      <td>2</td>\n",
       "      <td>0</td>\n",
       "      <td>1</td>\n",
       "      <td>174423.53</td>\n",
       "      <td>1</td>\n",
       "    </tr>\n",
       "    <tr>\n",
       "      <th>4</th>\n",
       "      <td>157978</td>\n",
       "      <td>730.0</td>\n",
       "      <td>Ярославль</td>\n",
       "      <td>М</td>\n",
       "      <td>34.0</td>\n",
       "      <td>5</td>\n",
       "      <td>174.00</td>\n",
       "      <td>1</td>\n",
       "      <td>1</td>\n",
       "      <td>0</td>\n",
       "      <td>67353.16</td>\n",
       "      <td>1</td>\n",
       "    </tr>\n",
       "  </tbody>\n",
       "</table>\n",
       "</div>"
      ],
      "text/plain": [
       "   userid  score       city gender   age  equity     balance  products  \\\n",
       "0  183012  850.0    Рыбинск      Ж  25.0       1    59214.82         2   \n",
       "1  146556  861.0    Рыбинск      Ж  37.0       5   850594.33         3   \n",
       "2  120722  892.0    Рыбинск      Ж  30.0       0         NaN         1   \n",
       "3  225363  866.0  Ярославль      Ж  51.0       5  1524746.26         2   \n",
       "4  157978  730.0  Ярославль      М  34.0       5      174.00         1   \n",
       "\n",
       "   credit_card  last_activity  est_salary  churn  \n",
       "0            0              1    75719.14      1  \n",
       "1            1              0    86621.77      0  \n",
       "2            1              1   107683.34      0  \n",
       "3            0              1   174423.53      1  \n",
       "4            1              0    67353.16      1  "
      ]
     },
     "execution_count": 84,
     "metadata": {},
     "output_type": "execute_result"
    }
   ],
   "source": [
    "# Приведём названия столбцов к нижнему регистру\n",
    "data.columns = map(str.lower, data.columns)\n",
    "data.head()"
   ]
  },
  {
   "cell_type": "markdown",
   "metadata": {},
   "source": [
    "## Изменение типов данных"
   ]
  },
  {
   "cell_type": "markdown",
   "metadata": {},
   "source": [
    "Посмотрим, нужно ли менять типы данных в столбцах. В представленной выше таблице, и по данным, которые там хранятся, можно сделать вывод, что типы соответствуют данным в каждом столбце, следовательно, изменения типов будут излишними."
   ]
  },
  {
   "cell_type": "markdown",
   "metadata": {},
   "source": [
    "## Работа с пропусками"
   ]
  },
  {
   "cell_type": "markdown",
   "metadata": {},
   "source": [
    "### Замена пропусков в столбце \"age\""
   ]
  },
  {
   "cell_type": "code",
   "execution_count": 85,
   "metadata": {},
   "outputs": [
    {
     "name": "stdout",
     "output_type": "stream",
     "text": [
      "Пропусков в столбце \"age\": 26\n"
     ]
    }
   ],
   "source": [
    "# Найдём количество пропусков в столбце \"age\"\n",
    "print('Пропусков в столбце \"age\":', len(data[data['age'].isna()]))"
   ]
  },
  {
   "cell_type": "markdown",
   "metadata": {},
   "source": [
    "В столбце \"age\" 26 значений, где не указан возраст, что составляет 0,26% от всех записей этого столбца"
   ]
  },
  {
   "cell_type": "code",
   "execution_count": 86,
   "metadata": {},
   "outputs": [
    {
     "name": "stdout",
     "output_type": "stream",
     "text": [
      "Максимальный возраст клиента: 86.0\n",
      "Минимальный возраст клиента: 18.0\n"
     ]
    }
   ],
   "source": [
    "# Посмотрим какой диапазон возраста представлен в таблице\n",
    "print('Максимальный возраст клиента:', data['age'].max())\n",
    "print('Минимальный возраст клиента:', data['age'].min())"
   ]
  },
  {
   "cell_type": "code",
   "execution_count": 87,
   "metadata": {},
   "outputs": [
    {
     "data": {
      "text/plain": [
       "<AxesSubplot:>"
      ]
     },
     "execution_count": 87,
     "metadata": {},
     "output_type": "execute_result"
    },
    {
     "data": {
      "image/png": "[encoded data removed]",
      "text/plain": [
       "<Figure size 432x288 with 1 Axes>"
      ]
     },
     "metadata": {
      "needs_background": "light"
     },
     "output_type": "display_data"
    }
   ],
   "source": [
    "data.boxplot('age')"
   ]
  },
  {
   "cell_type": "markdown",
   "metadata": {},
   "source": [
    "Видно, что есть редкие значения, люди почтенного возраста, поэтому пропуски значений в столбце \"age\" заполним медианным значением."
   ]
  },
  {
   "cell_type": "code",
   "execution_count": 88,
   "metadata": {},
   "outputs": [
    {
     "data": {
      "text/plain": [
       "40.0"
      ]
     },
     "execution_count": 88,
     "metadata": {},
     "output_type": "execute_result"
    }
   ],
   "source": [
    "# Найдём медиану возраста\n",
    "data['age'].median()"
   ]
  },
  {
   "cell_type": "code",
   "execution_count": 89,
   "metadata": {},
   "outputs": [],
   "source": [
    "# Заменим пропуски в столбце \"age\"\n",
    "data['age'] = data['age'].fillna(data['age'].median())"
   ]
  },
  {
   "cell_type": "markdown",
   "metadata": {},
   "source": [
    "### Замена пропусков в столбце \"balance\""
   ]
  },
  {
   "cell_type": "code",
   "execution_count": 90,
   "metadata": {},
   "outputs": [
    {
     "name": "stdout",
     "output_type": "stream",
     "text": [
      "Пропусков в столбце \"balance\": 2295\n"
     ]
    }
   ],
   "source": [
    "# Найдём количество пропусков в столбце \"balance\"\n",
    "print('Пропусков в столбце \"balance\":', len(data[data['balance'].isna()]))"
   ]
  },
  {
   "cell_type": "markdown",
   "metadata": {},
   "source": [
    "В столбце \"age\" 2295 значений, где не указан размер баланса, что составляет 22,95% от всех записей этого столбца"
   ]
  },
  {
   "cell_type": "code",
   "execution_count": 91,
   "metadata": {},
   "outputs": [
    {
     "name": "stdout",
     "output_type": "stream",
     "text": [
      "Максимальное значение баланса: 119113552.01\n",
      "Минимальное значение баланса: 0.0\n"
     ]
    }
   ],
   "source": [
    "# Посмотрим какой диапазон баланса представлен в таблице\n",
    "print('Максимальное значение баланса:', data['balance'].max())\n",
    "print('Минимальное значение баланса:', data['balance'].min())"
   ]
  },
  {
   "cell_type": "code",
   "execution_count": 92,
   "metadata": {
    "scrolled": true
   },
   "outputs": [
    {
     "data": {
      "text/plain": [
       "<AxesSubplot:>"
      ]
     },
     "execution_count": 92,
     "metadata": {},
     "output_type": "execute_result"
    },
    {
     "data": {
      "image/png": "[encoded data removed]",
      "text/plain": [
       "<Figure size 432x288 with 1 Axes>"
      ]
     },
     "metadata": {
      "needs_background": "light"
     },
     "output_type": "display_data"
    }
   ],
   "source": [
    "data.boxplot('balance')"
   ]
  },
  {
   "cell_type": "markdown",
   "metadata": {},
   "source": [
    "Видно, что есть редкие значения, самое высокое из которых более 100 миллионов, что не похоже на правду. Удалим выбивающиеся значение. Пусть выбивающиеся значения те, что находятся выше 95 квантиля."
   ]
  },
  {
   "cell_type": "markdown",
   "metadata": {},
   "source": [
    "### Начало анализа пропусков в balance"
   ]
  },
  {
   "cell_type": "code",
   "execution_count": 93,
   "metadata": {},
   "outputs": [],
   "source": [
    "data['+/-'] = np.where(np.isnan(data['balance']), '1', '0')"
   ]
  },
  {
   "cell_type": "code",
   "execution_count": 94,
   "metadata": {},
   "outputs": [],
   "source": [
    "# Посчитаем данные о ср. возрасте\n",
    "new_1 = data.pivot_table(index=['+/-'], values=['age'], aggfunc=['mean']).reset_index()\n",
    "new_1.columns = ['отток', 'ср. возраст']\n",
    "new_1.drop('отток', axis=1, inplace=True)\n",
    "s = new_1.T\n",
    "s.columns = ['Не пропущено', 'Пропущено']\n",
    "s.reset_index(inplace= True)"
   ]
  },
  {
   "cell_type": "code",
   "execution_count": 95,
   "metadata": {},
   "outputs": [],
   "source": [
    "# Посчитаем данные о ср. зарплате\n",
    "new_2 = data.pivot_table(index=['+/-'], values=['est_salary'], aggfunc=['mean']).reset_index()\n",
    "new_2.columns = ['отток', 'ср. зарплата']\n",
    "new_2.drop('отток', axis=1, inplace=True)\n",
    "sq = new_2.T\n",
    "sq.columns = ['Не пропущено', 'Пропущено']\n",
    "sq.reset_index(inplace= True)"
   ]
  },
  {
   "cell_type": "code",
   "execution_count": 96,
   "metadata": {},
   "outputs": [],
   "source": [
    "# Посчитаем данные о ср. балле кредит. скор.\n",
    "new_3 = data.pivot_table(index=['+/-'], values=['score'], aggfunc=['mean']).reset_index()\n",
    "new_3.columns = ['отток', 'ср. балл']\n",
    "new_3.drop('отток', axis=1, inplace=True)\n",
    "sw = new_3.T\n",
    "sw.columns = ['Не пропущено', 'Пропущено']\n",
    "sw.reset_index(inplace= True)"
   ]
  },
  {
   "cell_type": "code",
   "execution_count": 97,
   "metadata": {},
   "outputs": [],
   "source": [
    "# Посчитаем медианное количество продуктов\n",
    "new_4 = data.pivot_table(index=['+/-'], values=['products'], aggfunc=['median']).reset_index()\n",
    "new_4.columns = ['отток', 'мед. кол-во продуктов']\n",
    "new_4.drop('отток', axis=1, inplace=True)\n",
    "se = new_4.T\n",
    "se.columns = ['Не пропущено', 'Пропущено']\n",
    "se.reset_index(inplace= True)"
   ]
  },
  {
   "cell_type": "code",
   "execution_count": 98,
   "metadata": {},
   "outputs": [],
   "source": [
    "# Посчитаем медианное количество объектов в собственности\n",
    "new_5 = data.pivot_table(index=['+/-'], values=['equity'], aggfunc=['median']).reset_index()\n",
    "new_5.columns = ['отток', 'мед. кол-во собственности']\n",
    "new_5.drop('отток', axis=1, inplace=True)\n",
    "sr = new_5.T\n",
    "sr.columns = ['Не пропущено', 'Пропущено']\n",
    "sr.reset_index(inplace= True)"
   ]
  },
  {
   "cell_type": "code",
   "execution_count": 99,
   "metadata": {},
   "outputs": [
    {
     "data": {
      "text/html": [
       "<div>\n",
       "<style scoped>\n",
       "    .dataframe tbody tr th:only-of-type {\n",
       "        vertical-align: middle;\n",
       "    }\n",
       "\n",
       "    .dataframe tbody tr th {\n",
       "        vertical-align: top;\n",
       "    }\n",
       "\n",
       "    .dataframe thead th {\n",
       "        text-align: right;\n",
       "    }\n",
       "</style>\n",
       "<table border=\"1\" class=\"dataframe\">\n",
       "  <thead>\n",
       "    <tr style=\"text-align: right;\">\n",
       "      <th></th>\n",
       "      <th>index</th>\n",
       "      <th>Не пропущено</th>\n",
       "      <th>Пропущено</th>\n",
       "      <th>Разница</th>\n",
       "    </tr>\n",
       "  </thead>\n",
       "  <tbody>\n",
       "    <tr>\n",
       "      <th>0</th>\n",
       "      <td>ср. возраст</td>\n",
       "      <td>42.920571</td>\n",
       "      <td>42.078431</td>\n",
       "      <td>-0.019621</td>\n",
       "    </tr>\n",
       "    <tr>\n",
       "      <th>0</th>\n",
       "      <td>ср. зарплата</td>\n",
       "      <td>124501.872366</td>\n",
       "      <td>226310.208654</td>\n",
       "      <td>0.817725</td>\n",
       "    </tr>\n",
       "    <tr>\n",
       "      <th>0</th>\n",
       "      <td>ср. балл</td>\n",
       "      <td>843.739260</td>\n",
       "      <td>865.352070</td>\n",
       "      <td>0.025616</td>\n",
       "    </tr>\n",
       "    <tr>\n",
       "      <th>0</th>\n",
       "      <td>мед. кол-во продуктов</td>\n",
       "      <td>2.000000</td>\n",
       "      <td>1.000000</td>\n",
       "      <td>-0.500000</td>\n",
       "    </tr>\n",
       "    <tr>\n",
       "      <th>0</th>\n",
       "      <td>мед. кол-во собственности</td>\n",
       "      <td>4.000000</td>\n",
       "      <td>0.000000</td>\n",
       "      <td>-1.000000</td>\n",
       "    </tr>\n",
       "  </tbody>\n",
       "</table>\n",
       "</div>"
      ],
      "text/plain": [
       "                       index   Не пропущено      Пропущено   Разница\n",
       "0                ср. возраст      42.920571      42.078431 -0.019621\n",
       "0               ср. зарплата  124501.872366  226310.208654  0.817725\n",
       "0                   ср. балл     843.739260     865.352070  0.025616\n",
       "0      мед. кол-во продуктов       2.000000       1.000000 -0.500000\n",
       "0  мед. кол-во собственности       4.000000       0.000000 -1.000000"
      ]
     },
     "execution_count": 99,
     "metadata": {},
     "output_type": "execute_result"
    }
   ],
   "source": [
    "new = [s, sq, sw, se, sr]\n",
    "result = pd.concat(new)\n",
    "result['Разница'] = (result['Пропущено'] - result['Не пропущено']) / result['Не пропущено']\n",
    "result"
   ]
  },
  {
   "cell_type": "code",
   "execution_count": 100,
   "metadata": {},
   "outputs": [],
   "source": [
    "# Посчитаем моду по городу\n",
    "q = 'мода по городу'\n",
    "q_1 = data.query('churn == 1')\n",
    "q1 = list(q_1['city'].mode())\n",
    "q_0 = data.query('churn == 0')\n",
    "q0 = list(q_0['city'].mode())\n",
    "\n",
    "result.loc[len(result.index)] = [q, q0[0], q1[0], '-']"
   ]
  },
  {
   "cell_type": "code",
   "execution_count": 101,
   "metadata": {},
   "outputs": [],
   "source": [
    "# Посчитаем моду по полу\n",
    "q2 = 'мода по полу'\n",
    "q_12 = data.query('churn == 1')\n",
    "q12 = list(q_12['gender'].mode())\n",
    "q_02 = data.query('churn == 0')\n",
    "q02 = list(q_02['gender'].mode())\n",
    "\n",
    "result.loc[len(result.index)] = [q2, q02[0], q12[0], '-']"
   ]
  },
  {
   "cell_type": "code",
   "execution_count": 102,
   "metadata": {},
   "outputs": [],
   "source": [
    "# Посчитаем моду по наличию кредитной карты\n",
    "q3 = 'мода по карте'\n",
    "q_13 = data.query('churn == 1')\n",
    "q13 = list(q_13['credit_card'].mode())\n",
    "q_03 = data.query('churn == 0')\n",
    "q03 = list(q_03['credit_card'].mode())\n",
    "\n",
    "result.loc[len(result.index)] = [q3, q03[0], q13[0], '-']"
   ]
  },
  {
   "cell_type": "code",
   "execution_count": 103,
   "metadata": {},
   "outputs": [],
   "source": [
    "# Посчитаем моду по активности\n",
    "q4 = 'мода по активности'\n",
    "q_14 = data.query('churn == 1')\n",
    "q14 = list(q_14['last_activity'].mode())\n",
    "q_04 = data.query('churn == 0')\n",
    "q04 = list(q_04['last_activity'].mode())\n",
    "\n",
    "result.loc[len(result.index)] = [q4, q04[0], q14[0], '-']"
   ]
  },
  {
   "cell_type": "code",
   "execution_count": 104,
   "metadata": {},
   "outputs": [
    {
     "data": {
      "text/html": [
       "<div>\n",
       "<style scoped>\n",
       "    .dataframe tbody tr th:only-of-type {\n",
       "        vertical-align: middle;\n",
       "    }\n",
       "\n",
       "    .dataframe tbody tr th {\n",
       "        vertical-align: top;\n",
       "    }\n",
       "\n",
       "    .dataframe thead th {\n",
       "        text-align: right;\n",
       "    }\n",
       "</style>\n",
       "<table border=\"1\" class=\"dataframe\">\n",
       "  <thead>\n",
       "    <tr style=\"text-align: right;\">\n",
       "      <th></th>\n",
       "      <th>index</th>\n",
       "      <th>Не пропущено</th>\n",
       "      <th>Пропущено</th>\n",
       "      <th>Разница</th>\n",
       "    </tr>\n",
       "  </thead>\n",
       "  <tbody>\n",
       "    <tr>\n",
       "      <th>0</th>\n",
       "      <td>ср. возраст</td>\n",
       "      <td>42.920571</td>\n",
       "      <td>42.078431</td>\n",
       "      <td>-0.019621</td>\n",
       "    </tr>\n",
       "    <tr>\n",
       "      <th>0</th>\n",
       "      <td>ср. зарплата</td>\n",
       "      <td>124501.872366</td>\n",
       "      <td>226310.208654</td>\n",
       "      <td>0.817725</td>\n",
       "    </tr>\n",
       "    <tr>\n",
       "      <th>0</th>\n",
       "      <td>ср. балл</td>\n",
       "      <td>843.73926</td>\n",
       "      <td>865.35207</td>\n",
       "      <td>0.025616</td>\n",
       "    </tr>\n",
       "    <tr>\n",
       "      <th>0</th>\n",
       "      <td>мед. кол-во продуктов</td>\n",
       "      <td>2.0</td>\n",
       "      <td>1.0</td>\n",
       "      <td>-0.5</td>\n",
       "    </tr>\n",
       "    <tr>\n",
       "      <th>0</th>\n",
       "      <td>мед. кол-во собственности</td>\n",
       "      <td>4.0</td>\n",
       "      <td>0.0</td>\n",
       "      <td>-1.0</td>\n",
       "    </tr>\n",
       "    <tr>\n",
       "      <th>5</th>\n",
       "      <td>мода по городу</td>\n",
       "      <td>Ярославль</td>\n",
       "      <td>Ярославль</td>\n",
       "      <td>-</td>\n",
       "    </tr>\n",
       "    <tr>\n",
       "      <th>6</th>\n",
       "      <td>мода по полу</td>\n",
       "      <td>Ж</td>\n",
       "      <td>М</td>\n",
       "      <td>-</td>\n",
       "    </tr>\n",
       "    <tr>\n",
       "      <th>7</th>\n",
       "      <td>мода по карте</td>\n",
       "      <td>1</td>\n",
       "      <td>1</td>\n",
       "      <td>-</td>\n",
       "    </tr>\n",
       "    <tr>\n",
       "      <th>8</th>\n",
       "      <td>мода по активности</td>\n",
       "      <td>0</td>\n",
       "      <td>1</td>\n",
       "      <td>-</td>\n",
       "    </tr>\n",
       "  </tbody>\n",
       "</table>\n",
       "</div>"
      ],
      "text/plain": [
       "                       index   Не пропущено      Пропущено   Разница\n",
       "0                ср. возраст      42.920571      42.078431 -0.019621\n",
       "0               ср. зарплата  124501.872366  226310.208654  0.817725\n",
       "0                   ср. балл      843.73926      865.35207  0.025616\n",
       "0      мед. кол-во продуктов            2.0            1.0      -0.5\n",
       "0  мед. кол-во собственности            4.0            0.0      -1.0\n",
       "5             мода по городу      Ярославль      Ярославль         -\n",
       "6               мода по полу              Ж              М         -\n",
       "7              мода по карте              1              1         -\n",
       "8         мода по активности              0              1         -"
      ]
     },
     "execution_count": 104,
     "metadata": {},
     "output_type": "execute_result"
    }
   ],
   "source": [
    "result"
   ]
  },
  {
   "cell_type": "markdown",
   "metadata": {},
   "source": [
    "По полученной таблице можно сделать вывод, что пропуски относятся к типу MCAR, следовательно оставляем пропуски как есть"
   ]
  },
  {
   "cell_type": "markdown",
   "metadata": {},
   "source": [
    "### Конец анализа пропусков в balance"
   ]
  },
  {
   "cell_type": "code",
   "execution_count": 105,
   "metadata": {},
   "outputs": [
    {
     "data": {
      "text/plain": [
       "0.95    2116704.784\n",
       "Name: balance, dtype: float64"
      ]
     },
     "execution_count": 105,
     "metadata": {},
     "output_type": "execute_result"
    }
   ],
   "source": [
    "# Найдём 95 квантиль баланса карты\n",
    "data['balance'].quantile([0.95])"
   ]
  },
  {
   "cell_type": "code",
   "execution_count": 106,
   "metadata": {},
   "outputs": [
    {
     "data": {
      "text/plain": [
       "2295"
      ]
     },
     "execution_count": 106,
     "metadata": {},
     "output_type": "execute_result"
    }
   ],
   "source": [
    "# Проверим столбец \"balance\" на пропуски\n",
    "data['balance'].isna().sum()"
   ]
  },
  {
   "cell_type": "markdown",
   "metadata": {},
   "source": [
    "Проверим таблицу на пропуски"
   ]
  },
  {
   "cell_type": "code",
   "execution_count": 107,
   "metadata": {},
   "outputs": [
    {
     "name": "stdout",
     "output_type": "stream",
     "text": [
      "<class 'pandas.core.frame.DataFrame'>\n",
      "RangeIndex: 10000 entries, 0 to 9999\n",
      "Data columns (total 13 columns):\n",
      " #   Column         Non-Null Count  Dtype  \n",
      "---  ------         --------------  -----  \n",
      " 0   userid         10000 non-null  int64  \n",
      " 1   score          10000 non-null  float64\n",
      " 2   city           10000 non-null  object \n",
      " 3   gender         10000 non-null  object \n",
      " 4   age            10000 non-null  float64\n",
      " 5   equity         10000 non-null  int64  \n",
      " 6   balance        7705 non-null   float64\n",
      " 7   products       10000 non-null  int64  \n",
      " 8   credit_card    10000 non-null  int64  \n",
      " 9   last_activity  10000 non-null  int64  \n",
      " 10  est_salary     10000 non-null  float64\n",
      " 11  churn          10000 non-null  int64  \n",
      " 12  +/-            10000 non-null  object \n",
      "dtypes: float64(4), int64(6), object(3)\n",
      "memory usage: 1015.8+ KB\n"
     ]
    }
   ],
   "source": [
    "data.info()"
   ]
  },
  {
   "cell_type": "markdown",
   "metadata": {},
   "source": [
    "Вывод: в пунктах 3.1 и 3.2 последовательно нашли и заменили пропуски в данных на медианные значения, кроме того в столбце \"balance\" найдены аномалии, которые впоследствии были удалены."
   ]
  },
  {
   "cell_type": "markdown",
   "metadata": {},
   "source": [
    "## Изучение уникальных значений. Обработка дубликатов"
   ]
  },
  {
   "cell_type": "markdown",
   "metadata": {},
   "source": [
    "### Поиск дубликатов"
   ]
  },
  {
   "cell_type": "code",
   "execution_count": 108,
   "metadata": {},
   "outputs": [
    {
     "data": {
      "text/plain": [
       "0"
      ]
     },
     "execution_count": 108,
     "metadata": {},
     "output_type": "execute_result"
    }
   ],
   "source": [
    "data.duplicated().sum()"
   ]
  },
  {
   "cell_type": "markdown",
   "metadata": {},
   "source": [
    "Дубликатов не встречается."
   ]
  },
  {
   "cell_type": "markdown",
   "metadata": {},
   "source": [
    "### Поиск неявных дубликатов по userid"
   ]
  },
  {
   "cell_type": "code",
   "execution_count": 109,
   "metadata": {},
   "outputs": [
    {
     "data": {
      "text/plain": [
       "userid\n",
       "141265    2\n",
       "217826    2\n",
       "126368    2\n",
       "195884    2\n",
       "202983    2\n",
       "         ..\n",
       "199413    1\n",
       "205705    1\n",
       "221433    1\n",
       "152512    1\n",
       "96267     1\n",
       "Name: count, Length: 9927, dtype: int64"
      ]
     },
     "execution_count": 109,
     "metadata": {},
     "output_type": "execute_result"
    }
   ],
   "source": [
    "# Найдём дубликаты в userid\n",
    "data['userid'].value_counts()"
   ]
  },
  {
   "cell_type": "code",
   "execution_count": 110,
   "metadata": {},
   "outputs": [
    {
     "data": {
      "text/html": [
       "<div>\n",
       "<style scoped>\n",
       "    .dataframe tbody tr th:only-of-type {\n",
       "        vertical-align: middle;\n",
       "    }\n",
       "\n",
       "    .dataframe tbody tr th {\n",
       "        vertical-align: top;\n",
       "    }\n",
       "\n",
       "    .dataframe thead th {\n",
       "        text-align: right;\n",
       "    }\n",
       "</style>\n",
       "<table border=\"1\" class=\"dataframe\">\n",
       "  <thead>\n",
       "    <tr style=\"text-align: right;\">\n",
       "      <th></th>\n",
       "      <th>userid</th>\n",
       "      <th>score</th>\n",
       "      <th>city</th>\n",
       "      <th>gender</th>\n",
       "      <th>age</th>\n",
       "      <th>equity</th>\n",
       "      <th>balance</th>\n",
       "      <th>products</th>\n",
       "      <th>credit_card</th>\n",
       "      <th>last_activity</th>\n",
       "      <th>est_salary</th>\n",
       "      <th>churn</th>\n",
       "      <th>+/-</th>\n",
       "    </tr>\n",
       "  </thead>\n",
       "  <tbody>\n",
       "    <tr>\n",
       "      <th>1893</th>\n",
       "      <td>116540</td>\n",
       "      <td>883.0</td>\n",
       "      <td>Рыбинск</td>\n",
       "      <td>Ж</td>\n",
       "      <td>55.0</td>\n",
       "      <td>1</td>\n",
       "      <td>362756.49</td>\n",
       "      <td>3</td>\n",
       "      <td>0</td>\n",
       "      <td>1</td>\n",
       "      <td>175920.48</td>\n",
       "      <td>1</td>\n",
       "      <td>0</td>\n",
       "    </tr>\n",
       "    <tr>\n",
       "      <th>7694</th>\n",
       "      <td>116540</td>\n",
       "      <td>887.0</td>\n",
       "      <td>Ярославль</td>\n",
       "      <td>Ж</td>\n",
       "      <td>38.0</td>\n",
       "      <td>0</td>\n",
       "      <td>NaN</td>\n",
       "      <td>1</td>\n",
       "      <td>0</td>\n",
       "      <td>1</td>\n",
       "      <td>119247.61</td>\n",
       "      <td>0</td>\n",
       "      <td>1</td>\n",
       "    </tr>\n",
       "    <tr>\n",
       "      <th>7542</th>\n",
       "      <td>117943</td>\n",
       "      <td>880.0</td>\n",
       "      <td>Ярославль</td>\n",
       "      <td>Ж</td>\n",
       "      <td>40.0</td>\n",
       "      <td>0</td>\n",
       "      <td>NaN</td>\n",
       "      <td>1</td>\n",
       "      <td>1</td>\n",
       "      <td>0</td>\n",
       "      <td>137718.93</td>\n",
       "      <td>0</td>\n",
       "      <td>1</td>\n",
       "    </tr>\n",
       "    <tr>\n",
       "      <th>4866</th>\n",
       "      <td>117943</td>\n",
       "      <td>855.0</td>\n",
       "      <td>Рыбинск</td>\n",
       "      <td>Ж</td>\n",
       "      <td>32.0</td>\n",
       "      <td>6</td>\n",
       "      <td>1036832.93</td>\n",
       "      <td>4</td>\n",
       "      <td>1</td>\n",
       "      <td>1</td>\n",
       "      <td>107792.71</td>\n",
       "      <td>1</td>\n",
       "      <td>0</td>\n",
       "    </tr>\n",
       "    <tr>\n",
       "      <th>5896</th>\n",
       "      <td>120258</td>\n",
       "      <td>905.0</td>\n",
       "      <td>Ярославль</td>\n",
       "      <td>М</td>\n",
       "      <td>30.0</td>\n",
       "      <td>0</td>\n",
       "      <td>NaN</td>\n",
       "      <td>1</td>\n",
       "      <td>1</td>\n",
       "      <td>1</td>\n",
       "      <td>146427.96</td>\n",
       "      <td>0</td>\n",
       "      <td>1</td>\n",
       "    </tr>\n",
       "  </tbody>\n",
       "</table>\n",
       "</div>"
      ],
      "text/plain": [
       "      userid  score       city gender   age  equity     balance  products  \\\n",
       "1893  116540  883.0    Рыбинск      Ж  55.0       1   362756.49         3   \n",
       "7694  116540  887.0  Ярославль      Ж  38.0       0         NaN         1   \n",
       "7542  117943  880.0  Ярославль      Ж  40.0       0         NaN         1   \n",
       "4866  117943  855.0    Рыбинск      Ж  32.0       6  1036832.93         4   \n",
       "5896  120258  905.0  Ярославль      М  30.0       0         NaN         1   \n",
       "\n",
       "      credit_card  last_activity  est_salary  churn +/-  \n",
       "1893            0              1   175920.48      1   0  \n",
       "7694            0              1   119247.61      0   1  \n",
       "7542            1              0   137718.93      0   1  \n",
       "4866            1              1   107792.71      1   0  \n",
       "5896            1              1   146427.96      0   1  "
      ]
     },
     "execution_count": 110,
     "metadata": {},
     "output_type": "execute_result"
    }
   ],
   "source": [
    "# Создадим таблицу со всеми вхождениями дубликатов по userid\n",
    "duplicated_data = data[data['userid'].duplicated(keep=False)].sort_values(by='userid', ascending=True)\n",
    "duplicated_data.head()"
   ]
  },
  {
   "cell_type": "markdown",
   "metadata": {},
   "source": [
    "В повторящихся значениях userid есть отличия, например разный возраст или город, разная зарплата. Вывод: несмотря на одинаковый id пользователи - разыне люди"
   ]
  },
  {
   "cell_type": "markdown",
   "metadata": {},
   "source": [
    "### Исследуем редкие значения"
   ]
  },
  {
   "cell_type": "markdown",
   "metadata": {},
   "source": [
    "#### Столбец \"products\""
   ]
  },
  {
   "cell_type": "code",
   "execution_count": 111,
   "metadata": {},
   "outputs": [
    {
     "data": {
      "text/plain": [
       "count    10000.000000\n",
       "mean         1.870100\n",
       "std          0.792647\n",
       "min          0.000000\n",
       "25%          1.000000\n",
       "50%          2.000000\n",
       "75%          2.000000\n",
       "max          5.000000\n",
       "Name: products, dtype: float64"
      ]
     },
     "execution_count": 111,
     "metadata": {},
     "output_type": "execute_result"
    }
   ],
   "source": [
    "data['products'].describe()"
   ]
  },
  {
   "cell_type": "markdown",
   "metadata": {},
   "source": [
    "Максимальный показатель количества продуктов, которыми пользуется клиент - 5 - вполне адекватное число, минимальный - 0, что не верно - удалим такие значения."
   ]
  },
  {
   "cell_type": "code",
   "execution_count": 112,
   "metadata": {},
   "outputs": [],
   "source": [
    "data = data.query('products > 0')"
   ]
  },
  {
   "cell_type": "markdown",
   "metadata": {},
   "source": [
    "#### Столбец \"estimated_salary\""
   ]
  },
  {
   "cell_type": "code",
   "execution_count": 113,
   "metadata": {},
   "outputs": [
    {
     "data": {
      "text/plain": [
       "count    9.999000e+03\n",
       "mean     1.478792e+05\n",
       "std      1.393901e+05\n",
       "min      2.546300e+03\n",
       "25%      7.525212e+04\n",
       "50%      1.196615e+05\n",
       "75%      1.745011e+05\n",
       "max      1.395064e+06\n",
       "Name: est_salary, dtype: float64"
      ]
     },
     "execution_count": 113,
     "metadata": {},
     "output_type": "execute_result"
    }
   ],
   "source": [
    "data['est_salary'].describe()"
   ]
  },
  {
   "cell_type": "code",
   "execution_count": 114,
   "metadata": {},
   "outputs": [
    {
     "name": "stdout",
     "output_type": "stream",
     "text": [
      "Максимальное значение заработной платы: 1395064.45\n",
      "Минимальное значение заработной платы: 2546.3\n"
     ]
    },
    {
     "data": {
      "text/plain": [
       "0.95    316885.609\n",
       "Name: est_salary, dtype: float64"
      ]
     },
     "execution_count": 114,
     "metadata": {},
     "output_type": "execute_result"
    }
   ],
   "source": [
    "# Посчитаем максимальное и минимальное значение ЗП клиентов\n",
    "print('Максимальное значение заработной платы:', data['est_salary'].max())\n",
    "print('Минимальное значение заработной платы:', data['est_salary'].min())\n",
    "data['est_salary'].quantile([0.95])"
   ]
  },
  {
   "cell_type": "code",
   "execution_count": 115,
   "metadata": {},
   "outputs": [
    {
     "data": {
      "text/plain": [
       "4005    1395064.45\n",
       "4637    1363549.52\n",
       "4473    1333687.36\n",
       "1600    1307090.18\n",
       "5160    1296838.08\n",
       "           ...    \n",
       "1700       7054.82\n",
       "4860       5341.50\n",
       "1753       5043.14\n",
       "2186       3487.33\n",
       "8783       2546.30\n",
       "Name: est_salary, Length: 9999, dtype: float64"
      ]
     },
     "execution_count": 115,
     "metadata": {},
     "output_type": "execute_result"
    }
   ],
   "source": [
    "data['est_salary'].sort_values(ascending=False)"
   ]
  },
  {
   "cell_type": "markdown",
   "metadata": {},
   "source": [
    "Видно, что среди данных имеются клиенты с ЗП, не характерной для Ярославской области, так как природу ошибки определить не представляется возможным, удалим значения зарплаты, которые выше 95 квантиля."
   ]
  },
  {
   "cell_type": "code",
   "execution_count": 116,
   "metadata": {},
   "outputs": [],
   "source": [
    "# Исправим значение заработной платы\n",
    "data = data.query('est_salary < 224518')"
   ]
  },
  {
   "cell_type": "code",
   "execution_count": 117,
   "metadata": {},
   "outputs": [
    {
     "data": {
      "text/plain": [
       "8130    224511.07\n",
       "6026    224500.32\n",
       "3025    224413.00\n",
       "7107    224338.35\n",
       "49      224319.39\n",
       "          ...    \n",
       "1700      7054.82\n",
       "4860      5341.50\n",
       "1753      5043.14\n",
       "2186      3487.33\n",
       "8783      2546.30\n",
       "Name: est_salary, Length: 8739, dtype: float64"
      ]
     },
     "execution_count": 117,
     "metadata": {},
     "output_type": "execute_result"
    }
   ],
   "source": [
    "# Проверим рейтинг зарплат\n",
    "data['est_salary'].sort_values(ascending=False)"
   ]
  },
  {
   "cell_type": "code",
   "execution_count": 118,
   "metadata": {},
   "outputs": [
    {
     "data": {
      "text/plain": [
       "count      8739.000000\n",
       "mean     111272.640634\n",
       "std       52421.664190\n",
       "min        2546.300000\n",
       "25%       70020.505000\n",
       "50%      107792.710000\n",
       "75%      150954.320000\n",
       "max      224511.070000\n",
       "Name: est_salary, dtype: float64"
      ]
     },
     "execution_count": 118,
     "metadata": {},
     "output_type": "execute_result"
    }
   ],
   "source": [
    "# Информация о заработной плате\n",
    "data['est_salary'].describe()"
   ]
  },
  {
   "cell_type": "markdown",
   "metadata": {},
   "source": [
    "Вывод: в процессе обработки данных были обработаны пропуски, типы данных и редкие значения."
   ]
  },
  {
   "cell_type": "code",
   "execution_count": 119,
   "metadata": {},
   "outputs": [],
   "source": [
    "#удаление ненужного столбца\n",
    "data = data.drop(['+/-'], axis=1)"
   ]
  },
  {
   "cell_type": "markdown",
   "metadata": {},
   "source": [
    "# Шаг 3. Исследовательский анализ данных"
   ]
  },
  {
   "cell_type": "markdown",
   "metadata": {},
   "source": [
    "## Выделим портреты клиентов, которые склонны уходить из банка"
   ]
  },
  {
   "cell_type": "markdown",
   "metadata": {},
   "source": [
    "### EDA"
   ]
  },
  {
   "cell_type": "code",
   "execution_count": 120,
   "metadata": {},
   "outputs": [
    {
     "data": {
      "text/html": [
       "<div>\n",
       "<style scoped>\n",
       "    .dataframe tbody tr th:only-of-type {\n",
       "        vertical-align: middle;\n",
       "    }\n",
       "\n",
       "    .dataframe tbody tr th {\n",
       "        vertical-align: top;\n",
       "    }\n",
       "\n",
       "    .dataframe thead th {\n",
       "        text-align: right;\n",
       "    }\n",
       "</style>\n",
       "<table border=\"1\" class=\"dataframe\">\n",
       "  <thead>\n",
       "    <tr style=\"text-align: right;\">\n",
       "      <th></th>\n",
       "      <th>userid</th>\n",
       "      <th>score</th>\n",
       "      <th>city</th>\n",
       "      <th>gender</th>\n",
       "      <th>age</th>\n",
       "      <th>equity</th>\n",
       "      <th>balance</th>\n",
       "      <th>products</th>\n",
       "      <th>credit_card</th>\n",
       "      <th>last_activity</th>\n",
       "      <th>est_salary</th>\n",
       "      <th>churn</th>\n",
       "    </tr>\n",
       "  </thead>\n",
       "  <tbody>\n",
       "    <tr>\n",
       "      <th>0</th>\n",
       "      <td>183012</td>\n",
       "      <td>850.0</td>\n",
       "      <td>Рыбинск</td>\n",
       "      <td>Ж</td>\n",
       "      <td>25.0</td>\n",
       "      <td>1</td>\n",
       "      <td>59214.82</td>\n",
       "      <td>2</td>\n",
       "      <td>0</td>\n",
       "      <td>1</td>\n",
       "      <td>75719.14</td>\n",
       "      <td>1</td>\n",
       "    </tr>\n",
       "    <tr>\n",
       "      <th>3</th>\n",
       "      <td>225363</td>\n",
       "      <td>866.0</td>\n",
       "      <td>Ярославль</td>\n",
       "      <td>Ж</td>\n",
       "      <td>51.0</td>\n",
       "      <td>5</td>\n",
       "      <td>1524746.26</td>\n",
       "      <td>2</td>\n",
       "      <td>0</td>\n",
       "      <td>1</td>\n",
       "      <td>174423.53</td>\n",
       "      <td>1</td>\n",
       "    </tr>\n",
       "    <tr>\n",
       "      <th>4</th>\n",
       "      <td>157978</td>\n",
       "      <td>730.0</td>\n",
       "      <td>Ярославль</td>\n",
       "      <td>М</td>\n",
       "      <td>34.0</td>\n",
       "      <td>5</td>\n",
       "      <td>174.00</td>\n",
       "      <td>1</td>\n",
       "      <td>1</td>\n",
       "      <td>0</td>\n",
       "      <td>67353.16</td>\n",
       "      <td>1</td>\n",
       "    </tr>\n",
       "    <tr>\n",
       "      <th>12</th>\n",
       "      <td>132970</td>\n",
       "      <td>845.0</td>\n",
       "      <td>Ярославль</td>\n",
       "      <td>Ж</td>\n",
       "      <td>31.0</td>\n",
       "      <td>3</td>\n",
       "      <td>591928.52</td>\n",
       "      <td>2</td>\n",
       "      <td>1</td>\n",
       "      <td>1</td>\n",
       "      <td>112697.16</td>\n",
       "      <td>1</td>\n",
       "    </tr>\n",
       "    <tr>\n",
       "      <th>40</th>\n",
       "      <td>129705</td>\n",
       "      <td>811.0</td>\n",
       "      <td>Рыбинск</td>\n",
       "      <td>М</td>\n",
       "      <td>34.0</td>\n",
       "      <td>2</td>\n",
       "      <td>129799.35</td>\n",
       "      <td>1</td>\n",
       "      <td>0</td>\n",
       "      <td>0</td>\n",
       "      <td>96242.71</td>\n",
       "      <td>1</td>\n",
       "    </tr>\n",
       "  </tbody>\n",
       "</table>\n",
       "</div>"
      ],
      "text/plain": [
       "    userid  score       city gender   age  equity     balance  products  \\\n",
       "0   183012  850.0    Рыбинск      Ж  25.0       1    59214.82         2   \n",
       "3   225363  866.0  Ярославль      Ж  51.0       5  1524746.26         2   \n",
       "4   157978  730.0  Ярославль      М  34.0       5      174.00         1   \n",
       "12  132970  845.0  Ярославль      Ж  31.0       3   591928.52         2   \n",
       "40  129705  811.0    Рыбинск      М  34.0       2   129799.35         1   \n",
       "\n",
       "    credit_card  last_activity  est_salary  churn  \n",
       "0             0              1    75719.14      1  \n",
       "3             0              1   174423.53      1  \n",
       "4             1              0    67353.16      1  \n",
       "12            1              1   112697.16      1  \n",
       "40            0              0    96242.71      1  "
      ]
     },
     "execution_count": 120,
     "metadata": {},
     "output_type": "execute_result"
    }
   ],
   "source": [
    "ottok = data.query('churn == 1')\n",
    "ottok.head()"
   ]
  },
  {
   "cell_type": "markdown",
   "metadata": {},
   "source": [
    "### Графики"
   ]
  },
  {
   "cell_type": "markdown",
   "metadata": {},
   "source": [
    "#### График отточности клиентов по возрасту"
   ]
  },
  {
   "cell_type": "code",
   "execution_count": 121,
   "metadata": {},
   "outputs": [
    {
     "data": {
      "image/png": "[encoded data removed]",
      "text/plain": [
       "<Figure size 432x288 with 1 Axes>"
      ]
     },
     "metadata": {
      "needs_background": "light"
     },
     "output_type": "display_data"
    }
   ],
   "source": [
    "graph1 = sns.histplot(data, x='age', hue='churn', stat='density', common_norm=False, binwidth=1)\n",
    "graph1.set(xlabel='Возраст клиентов', ylabel='Плотнось распределения', title='График плотности распределения возрасов клиентов в разрезе оттока');"
   ]
  },
  {
   "cell_type": "markdown",
   "metadata": {},
   "source": [
    "Наиболее отточные интервалы по возрасту: примерно с 53 до 62"
   ]
  },
  {
   "cell_type": "markdown",
   "metadata": {},
   "source": [
    "#### График отточности по баллам кредитного скоринга"
   ]
  },
  {
   "cell_type": "code",
   "execution_count": 122,
   "metadata": {},
   "outputs": [
    {
     "data": {
      "image/png": "[encoded data removed]",
      "text/plain": [
       "<Figure size 432x288 with 1 Axes>"
      ]
     },
     "metadata": {
      "needs_background": "light"
     },
     "output_type": "display_data"
    }
   ],
   "source": [
    "graph2 = sns.histplot(data, x='score', hue='churn', stat='density', common_norm=False, bins=100)\n",
    "graph2.set(xlabel='Количество баллов', ylabel='Плотнось распределения', title='График плотности распределения клиентов по количеству баллов в разрезе оттока');"
   ]
  },
  {
   "cell_type": "markdown",
   "metadata": {},
   "source": [
    "Отточные интервалы по баллам кредитного скоринга: с 850 до 900"
   ]
  },
  {
   "cell_type": "markdown",
   "metadata": {},
   "source": [
    "#### График отточности по зарплате клиентов"
   ]
  },
  {
   "cell_type": "code",
   "execution_count": 123,
   "metadata": {},
   "outputs": [
    {
     "data": {
      "image/png": "[encoded data removed]",
      "text/plain": [
       "<Figure size 432x288 with 1 Axes>"
      ]
     },
     "metadata": {
      "needs_background": "light"
     },
     "output_type": "display_data"
    }
   ],
   "source": [
    "graph3 = sns.histplot(data, x='est_salary', hue='churn', stat='density', common_norm=False, bins=100)\n",
    "graph3.set(xlabel='Зарплата клиентов', ylabel='Плотнось распределения', title='График плотности распределения зарплаты клиентов в разрезе оттока');"
   ]
  },
  {
   "cell_type": "markdown",
   "metadata": {},
   "source": [
    "#### График отточности по балансу клиентов"
   ]
  },
  {
   "cell_type": "code",
   "execution_count": 124,
   "metadata": {},
   "outputs": [
    {
     "data": {
      "image/png": "[encoded data removed]",
      "text/plain": [
       "<Figure size 432x288 with 1 Axes>"
      ]
     },
     "metadata": {
      "needs_background": "light"
     },
     "output_type": "display_data"
    }
   ],
   "source": [
    "graph4 = sns.histplot(data, x='balance', hue='churn', stat='density', common_norm=False, bins=500)\n",
    "graph4.set(xlabel='Баланс клиентов', ylabel='Плотнось распределения', title='График плотности распределения баланса клиентов в разрезе оттока')\n",
    "plt.xlim([0, 3000000]);"
   ]
  },
  {
   "cell_type": "markdown",
   "metadata": {},
   "source": [
    "Отточный интервал начинается после прохождения отметки по оси х в 1,5 млн"
   ]
  },
  {
   "cell_type": "markdown",
   "metadata": {},
   "source": [
    "#### График отточности по количеству собственности"
   ]
  },
  {
   "cell_type": "code",
   "execution_count": 125,
   "metadata": {},
   "outputs": [
    {
     "name": "stdout",
     "output_type": "stream",
     "text": [
      "Средний отток по количеству собственности: 0.18\n"
     ]
    }
   ],
   "source": [
    "e_vsego = data['equity'].count()\n",
    "\n",
    "equity_ottok = data.query('churn == 1')\n",
    "e_ottok = equity_ottok['equity'].count()\n",
    "\n",
    "e_u = round(e_ottok / e_vsego, 2)\n",
    "\n",
    "print('Средний отток по количеству собственности:', e_u)"
   ]
  },
  {
   "cell_type": "code",
   "execution_count": 126,
   "metadata": {},
   "outputs": [
    {
     "data": {
      "image/png": "[encoded data removed]",
      "text/plain": [
       "<Figure size 432x288 with 1 Axes>"
      ]
     },
     "metadata": {
      "needs_background": "light"
     },
     "output_type": "display_data"
    }
   ],
   "source": [
    "graph5 = sns.barplot(data=data, x='equity', y='churn')\n",
    "graph5.set(xlabel='количество собственности', ylabel='Плотнось распределения', title='График плотности распределения клиентов по количеству собственности банка в разрезе оттока')\n",
    "\n",
    "plt.axhline(y=e_u, linewidth='1', color='red', zorder=1);"
   ]
  },
  {
   "cell_type": "markdown",
   "metadata": {},
   "source": [
    "Отточные интервалы по количеству собственности: с 4 до 7"
   ]
  },
  {
   "cell_type": "markdown",
   "metadata": {},
   "source": [
    "#### График отточности по количеству продукции"
   ]
  },
  {
   "cell_type": "code",
   "execution_count": 127,
   "metadata": {},
   "outputs": [
    {
     "name": "stdout",
     "output_type": "stream",
     "text": [
      "Средний отток по количеству продукции: 0.18\n"
     ]
    }
   ],
   "source": [
    "p_vsego = data['products'].count()\n",
    "\n",
    "products_ottok = data.query('churn == 1')\n",
    "p_ottok = products_ottok['products'].count()\n",
    "\n",
    "p_u = round(p_ottok / p_vsego, 2)\n",
    "\n",
    "print('Средний отток по количеству продукции:', p_u)"
   ]
  },
  {
   "cell_type": "code",
   "execution_count": 128,
   "metadata": {},
   "outputs": [
    {
     "data": {
      "image/png": "[encoded data removed]",
      "text/plain": [
       "<Figure size 432x288 with 1 Axes>"
      ]
     },
     "metadata": {
      "needs_background": "light"
     },
     "output_type": "display_data"
    }
   ],
   "source": [
    "graph6 = sns.barplot(data=data, x='products', y='churn')\n",
    "graph6.set(xlabel='Количество продуктов', ylabel='Плотнось распределения', title='График плотности распределения клиентов по количеству продуктов в банке в разрезе оттока')\n",
    "\n",
    "plt.axhline(y=p_u, linewidth='1', color='red', zorder=1);"
   ]
  },
  {
   "cell_type": "markdown",
   "metadata": {},
   "source": [
    "Отточные интервалы по количеству продукции: от 3 до 5"
   ]
  },
  {
   "cell_type": "markdown",
   "metadata": {},
   "source": [
    "#### График отточности по полу"
   ]
  },
  {
   "cell_type": "code",
   "execution_count": 129,
   "metadata": {},
   "outputs": [
    {
     "name": "stdout",
     "output_type": "stream",
     "text": [
      "Средний отток по полу: 0.18\n"
     ]
    }
   ],
   "source": [
    "g_vsego = data['gender'].count()\n",
    "\n",
    "gender_ottok = data.query('churn == 1')\n",
    "g_ottok = gender_ottok['gender'].count()\n",
    "\n",
    "g_u = round(g_ottok / g_vsego, 2)\n",
    "\n",
    "print('Средний отток по полу:', g_u)"
   ]
  },
  {
   "cell_type": "code",
   "execution_count": 130,
   "metadata": {
    "scrolled": true
   },
   "outputs": [
    {
     "data": {
      "image/png": "[encoded data removed]",
      "text/plain": [
       "<Figure size 432x288 with 1 Axes>"
      ]
     },
     "metadata": {
      "needs_background": "light"
     },
     "output_type": "display_data"
    }
   ],
   "source": [
    "graph7 = sns.barplot(data=data, x='gender', y='churn')\n",
    "graph7.set(xlabel='Пол клиента', ylabel='Плотнось распределения', title='График плотности распределения клиентов по полу в разрезе оттока')\n",
    "\n",
    "plt.axhline(y=g_u, linewidth='1', color='red', zorder=1);"
   ]
  },
  {
   "cell_type": "markdown",
   "metadata": {},
   "source": [
    "#### График отточности по наличию кредитной карты"
   ]
  },
  {
   "cell_type": "code",
   "execution_count": 131,
   "metadata": {},
   "outputs": [
    {
     "name": "stdout",
     "output_type": "stream",
     "text": [
      "Средний отток по наличию кредитной карты: 0.18\n"
     ]
    }
   ],
   "source": [
    "c_vsego = data['credit_card'].count()\n",
    "\n",
    "credit_ottok = data.query('churn == 1')\n",
    "c_ottok = credit_ottok['credit_card'].count()\n",
    "\n",
    "c_u = round(c_ottok / c_vsego, 2)\n",
    "\n",
    "print('Средний отток по наличию кредитной карты:', c_u)"
   ]
  },
  {
   "cell_type": "code",
   "execution_count": 132,
   "metadata": {},
   "outputs": [
    {
     "data": {
      "image/png": "[encoded data removed]",
      "text/plain": [
       "<Figure size 432x288 with 1 Axes>"
      ]
     },
     "metadata": {
      "needs_background": "light"
     },
     "output_type": "display_data"
    }
   ],
   "source": [
    "graph8 = sns.barplot(data=data, x='credit_card', y='churn')\n",
    "graph8.set(xlabel='Наличие кредитной карты', ylabel='Плотнось распределения', title='График плотности распределения клиентов по наличию кредитной карты в разрезе оттока')\n",
    "\n",
    "plt.axhline(y=g_u, linewidth='1', color='red', zorder=1);"
   ]
  },
  {
   "cell_type": "markdown",
   "metadata": {},
   "source": [
    "#### График отточности по активности"
   ]
  },
  {
   "cell_type": "code",
   "execution_count": 133,
   "metadata": {},
   "outputs": [
    {
     "name": "stdout",
     "output_type": "stream",
     "text": [
      "Средний отток по активности: 0.18\n"
     ]
    }
   ],
   "source": [
    "a_vsego = data['last_activity'].count()\n",
    "\n",
    "activ_ottok = data.query('churn == 1')\n",
    "a_ottok = activ_ottok['last_activity'].count()\n",
    "\n",
    "a_u = round(a_ottok / a_vsego, 2)\n",
    "\n",
    "print('Средний отток по активности:', a_u)"
   ]
  },
  {
   "cell_type": "code",
   "execution_count": 134,
   "metadata": {},
   "outputs": [
    {
     "data": {
      "image/png": "[encoded data removed]",
      "text/plain": [
       "<Figure size 432x288 with 1 Axes>"
      ]
     },
     "metadata": {
      "needs_background": "light"
     },
     "output_type": "display_data"
    }
   ],
   "source": [
    "graph9 = sns.barplot(data=data, x='last_activity', y='churn')\n",
    "graph9.set(xlabel='Активность клиентов', ylabel='Плотнось распределения', title='График плотности распределения клиентов по активности в разрезе оттока')\n",
    "\n",
    "plt.axhline(y=g_u, linewidth='1', color='red', zorder=1);"
   ]
  },
  {
   "cell_type": "markdown",
   "metadata": {},
   "source": [
    "### Общая таблица данных оттока/не оттока клиентов"
   ]
  },
  {
   "cell_type": "code",
   "execution_count": 135,
   "metadata": {},
   "outputs": [],
   "source": [
    "# Посчитаем данные о ср. зарплате\n",
    "new_data_sal = data.pivot_table(index=['churn'], values=['est_salary'], aggfunc=['mean']).reset_index()\n",
    "new_data_sal.columns = ['отток', 'ср. зарплата']\n",
    "new_data_sal.drop('отток', axis=1, inplace=True)\n",
    "salary = new_data_sal.T\n",
    "salary.columns = ['Не отток', 'Отток']\n",
    "salary.reset_index(inplace= True)"
   ]
  },
  {
   "cell_type": "code",
   "execution_count": 136,
   "metadata": {},
   "outputs": [],
   "source": [
    "# Посчитаем данные о ср. возрасте\n",
    "new_data_age = data.pivot_table(index=['churn'], values=['age'], aggfunc=['mean']).reset_index()\n",
    "new_data_age.columns = ['отток', 'ср. возраст']\n",
    "new_data_age.drop('отток', axis=1, inplace=True)\n",
    "age = new_data_age.T\n",
    "age.columns = ['Не отток', 'Отток']\n",
    "age.reset_index(inplace= True)"
   ]
  },
  {
   "cell_type": "code",
   "execution_count": 137,
   "metadata": {},
   "outputs": [],
   "source": [
    "# Посчитаем данные о ср. балле кредит. скор.\n",
    "new_data_score = data.pivot_table(index=['churn'], values=['score'], aggfunc=['mean']).reset_index()\n",
    "new_data_score.columns = ['отток', 'ср. балл']\n",
    "new_data_score.drop('отток', axis=1, inplace=True)\n",
    "score = new_data_score.T\n",
    "score.columns = ['Не отток', 'Отток']\n",
    "score.reset_index(inplace= True)"
   ]
  },
  {
   "cell_type": "code",
   "execution_count": 138,
   "metadata": {},
   "outputs": [],
   "source": [
    "# Посчитаем данные о ср. балансе\n",
    "new_data_bal = data.pivot_table(index=['churn'], values=['balance'], aggfunc=['mean']).reset_index()\n",
    "new_data_bal.columns = ['отток', 'ср. баланс']\n",
    "new_data_bal.drop('отток', axis=1, inplace=True)\n",
    "balance = new_data_bal.T\n",
    "balance.columns = ['Не отток', 'Отток']\n",
    "balance.reset_index(inplace= True)"
   ]
  },
  {
   "cell_type": "code",
   "execution_count": 139,
   "metadata": {},
   "outputs": [],
   "source": [
    "# Посчитаем медианное количество продуктов\n",
    "new_data_prod = data.pivot_table(index=['churn'], values=['products'], aggfunc=['median']).reset_index()\n",
    "new_data_prod.columns = ['отток', 'мед. кол-во продуктов']\n",
    "new_data_prod.drop('отток', axis=1, inplace=True)\n",
    "products = new_data_prod.T\n",
    "products.columns = ['Не отток', 'Отток']\n",
    "products.reset_index(inplace= True)"
   ]
  },
  {
   "cell_type": "code",
   "execution_count": 140,
   "metadata": {},
   "outputs": [],
   "source": [
    "# Посчитаем медианное количество объектов в собственности\n",
    "new_data_equ = data.pivot_table(index=['churn'], values=['equity'], aggfunc=['median']).reset_index()\n",
    "new_data_equ.columns = ['отток', 'мед. кол-во собственности']\n",
    "new_data_equ.drop('отток', axis=1, inplace=True)\n",
    "equity = new_data_equ.T\n",
    "equity.columns = ['Не отток', 'Отток']\n",
    "equity.reset_index(inplace= True)"
   ]
  },
  {
   "cell_type": "code",
   "execution_count": 141,
   "metadata": {},
   "outputs": [
    {
     "data": {
      "text/html": [
       "<div>\n",
       "<style scoped>\n",
       "    .dataframe tbody tr th:only-of-type {\n",
       "        vertical-align: middle;\n",
       "    }\n",
       "\n",
       "    .dataframe tbody tr th {\n",
       "        vertical-align: top;\n",
       "    }\n",
       "\n",
       "    .dataframe thead th {\n",
       "        text-align: right;\n",
       "    }\n",
       "</style>\n",
       "<table border=\"1\" class=\"dataframe\">\n",
       "  <thead>\n",
       "    <tr style=\"text-align: right;\">\n",
       "      <th></th>\n",
       "      <th>index</th>\n",
       "      <th>Не отток</th>\n",
       "      <th>Отток</th>\n",
       "      <th>Разница</th>\n",
       "    </tr>\n",
       "  </thead>\n",
       "  <tbody>\n",
       "    <tr>\n",
       "      <th>0</th>\n",
       "      <td>ср. зарплата</td>\n",
       "      <td>109965.437155</td>\n",
       "      <td>117109.684309</td>\n",
       "      <td>0.000010</td>\n",
       "    </tr>\n",
       "    <tr>\n",
       "      <th>0</th>\n",
       "      <td>ср. возраст</td>\n",
       "      <td>43.148459</td>\n",
       "      <td>41.539087</td>\n",
       "      <td>0.022311</td>\n",
       "    </tr>\n",
       "    <tr>\n",
       "      <th>0</th>\n",
       "      <td>ср. балл</td>\n",
       "      <td>842.044538</td>\n",
       "      <td>858.625391</td>\n",
       "      <td>0.001211</td>\n",
       "    </tr>\n",
       "    <tr>\n",
       "      <th>0</th>\n",
       "      <td>ср. баланс</td>\n",
       "      <td>634836.056665</td>\n",
       "      <td>923867.325853</td>\n",
       "      <td>0.000002</td>\n",
       "    </tr>\n",
       "    <tr>\n",
       "      <th>0</th>\n",
       "      <td>мед. кол-во продуктов</td>\n",
       "      <td>2.000000</td>\n",
       "      <td>2.000000</td>\n",
       "      <td>0.500000</td>\n",
       "    </tr>\n",
       "    <tr>\n",
       "      <th>0</th>\n",
       "      <td>мед. кол-во собственности</td>\n",
       "      <td>3.000000</td>\n",
       "      <td>4.000000</td>\n",
       "      <td>0.444444</td>\n",
       "    </tr>\n",
       "  </tbody>\n",
       "</table>\n",
       "</div>"
      ],
      "text/plain": [
       "                       index       Не отток          Отток   Разница\n",
       "0               ср. зарплата  109965.437155  117109.684309  0.000010\n",
       "0                ср. возраст      43.148459      41.539087  0.022311\n",
       "0                   ср. балл     842.044538     858.625391  0.001211\n",
       "0                 ср. баланс  634836.056665  923867.325853  0.000002\n",
       "0      мед. кол-во продуктов       2.000000       2.000000  0.500000\n",
       "0  мед. кол-во собственности       3.000000       4.000000  0.444444"
      ]
     },
     "execution_count": 141,
     "metadata": {},
     "output_type": "execute_result"
    }
   ],
   "source": [
    "frames = [salary, age, score, balance, products, equity]\n",
    "result = pd.concat(frames)\n",
    "result['Разница'] = (result['Отток'] / result['Не отток']) / result['Не отток']\n",
    "result"
   ]
  },
  {
   "cell_type": "code",
   "execution_count": 143,
   "metadata": {},
   "outputs": [],
   "source": [
    "# Посчитаем моду по городу\n",
    "a = 'мода по городу'\n",
    "city_1 = data.query('churn == 1')\n",
    "x = list(city_1['city'].mode())\n",
    "city_0 = data.query('churn == 0')\n",
    "y = list(city_0['city'].mode())\n",
    "\n",
    "result.loc[len(result.index)] = [a, y[0], x[0], '-']"
   ]
  },
  {
   "cell_type": "code",
   "execution_count": 144,
   "metadata": {},
   "outputs": [],
   "source": [
    "# Посчитаем моду по полу\n",
    "b = 'мода по полу'\n",
    "pol_1 = data.query('churn == 1')\n",
    "z = list(pol_1['gender'].mode())\n",
    "pol_0 = data.query('churn == 0')\n",
    "l = list(pol_0['gender'].mode())\n",
    "\n",
    "result.loc[len(result.index)] = [b, l[0], z[0], '-']"
   ]
  },
  {
   "cell_type": "code",
   "execution_count": 145,
   "metadata": {},
   "outputs": [],
   "source": [
    "# Посчитаем моду по наличию кредитной карты\n",
    "e = 'мода по карте'\n",
    "card_1 = data.query('churn == 1')\n",
    "f = list(card_1['credit_card'].mode())\n",
    "card_0 = data.query('churn == 0')\n",
    "g = list(card_0['credit_card'].mode())\n",
    "\n",
    "result.loc[len(result.index)] = [e, g[0], f[0], '-']"
   ]
  },
  {
   "cell_type": "code",
   "execution_count": 146,
   "metadata": {},
   "outputs": [],
   "source": [
    "# Посчитаем моду по активности\n",
    "n = 'мода по активности'\n",
    "act_1 = data.query('churn == 1')\n",
    "o = list(act_1['last_activity'].mode())\n",
    "act_0 = data.query('churn == 0')\n",
    "p = list(act_0['last_activity'].mode())\n",
    "\n",
    "result.loc[len(result.index)] = [n, p[0], o[0], '-']"
   ]
  },
  {
   "cell_type": "code",
   "execution_count": 147,
   "metadata": {},
   "outputs": [
    {
     "data": {
      "text/html": [
       "<div>\n",
       "<style scoped>\n",
       "    .dataframe tbody tr th:only-of-type {\n",
       "        vertical-align: middle;\n",
       "    }\n",
       "\n",
       "    .dataframe tbody tr th {\n",
       "        vertical-align: top;\n",
       "    }\n",
       "\n",
       "    .dataframe thead th {\n",
       "        text-align: right;\n",
       "    }\n",
       "</style>\n",
       "<table border=\"1\" class=\"dataframe\">\n",
       "  <thead>\n",
       "    <tr style=\"text-align: right;\">\n",
       "      <th></th>\n",
       "      <th>index</th>\n",
       "      <th>Не отток</th>\n",
       "      <th>Отток</th>\n",
       "      <th>Разница</th>\n",
       "    </tr>\n",
       "  </thead>\n",
       "  <tbody>\n",
       "    <tr>\n",
       "      <th>0</th>\n",
       "      <td>ср. зарплата</td>\n",
       "      <td>109965.437155</td>\n",
       "      <td>117109.684309</td>\n",
       "      <td>0.00001</td>\n",
       "    </tr>\n",
       "    <tr>\n",
       "      <th>0</th>\n",
       "      <td>ср. возраст</td>\n",
       "      <td>43.148459</td>\n",
       "      <td>41.539087</td>\n",
       "      <td>0.022311</td>\n",
       "    </tr>\n",
       "    <tr>\n",
       "      <th>0</th>\n",
       "      <td>ср. балл</td>\n",
       "      <td>842.044538</td>\n",
       "      <td>858.625391</td>\n",
       "      <td>0.001211</td>\n",
       "    </tr>\n",
       "    <tr>\n",
       "      <th>0</th>\n",
       "      <td>ср. баланс</td>\n",
       "      <td>634836.056665</td>\n",
       "      <td>923867.325853</td>\n",
       "      <td>0.000002</td>\n",
       "    </tr>\n",
       "    <tr>\n",
       "      <th>0</th>\n",
       "      <td>мед. кол-во продуктов</td>\n",
       "      <td>2.0</td>\n",
       "      <td>2.0</td>\n",
       "      <td>0.5</td>\n",
       "    </tr>\n",
       "    <tr>\n",
       "      <th>0</th>\n",
       "      <td>мед. кол-во собственности</td>\n",
       "      <td>3.0</td>\n",
       "      <td>4.0</td>\n",
       "      <td>0.444444</td>\n",
       "    </tr>\n",
       "    <tr>\n",
       "      <th>6</th>\n",
       "      <td>мода по городу</td>\n",
       "      <td>Ярославль</td>\n",
       "      <td>Ярославль</td>\n",
       "      <td>-</td>\n",
       "    </tr>\n",
       "    <tr>\n",
       "      <th>7</th>\n",
       "      <td>мода по городу</td>\n",
       "      <td>Ярославль</td>\n",
       "      <td>Ярославль</td>\n",
       "      <td>-</td>\n",
       "    </tr>\n",
       "    <tr>\n",
       "      <th>8</th>\n",
       "      <td>мода по полу</td>\n",
       "      <td>Ж</td>\n",
       "      <td>М</td>\n",
       "      <td>-</td>\n",
       "    </tr>\n",
       "    <tr>\n",
       "      <th>9</th>\n",
       "      <td>мода по карте</td>\n",
       "      <td>1</td>\n",
       "      <td>1</td>\n",
       "      <td>-</td>\n",
       "    </tr>\n",
       "    <tr>\n",
       "      <th>10</th>\n",
       "      <td>мода по активности</td>\n",
       "      <td>0</td>\n",
       "      <td>1</td>\n",
       "      <td>-</td>\n",
       "    </tr>\n",
       "  </tbody>\n",
       "</table>\n",
       "</div>"
      ],
      "text/plain": [
       "                        index       Не отток          Отток   Разница\n",
       "0                ср. зарплата  109965.437155  117109.684309   0.00001\n",
       "0                 ср. возраст      43.148459      41.539087  0.022311\n",
       "0                    ср. балл     842.044538     858.625391  0.001211\n",
       "0                  ср. баланс  634836.056665  923867.325853  0.000002\n",
       "0       мед. кол-во продуктов            2.0            2.0       0.5\n",
       "0   мед. кол-во собственности            3.0            4.0  0.444444\n",
       "6              мода по городу      Ярославль      Ярославль         -\n",
       "7              мода по городу      Ярославль      Ярославль         -\n",
       "8                мода по полу              Ж              М         -\n",
       "9               мода по карте              1              1         -\n",
       "10         мода по активности              0              1         -"
      ]
     },
     "execution_count": 147,
     "metadata": {},
     "output_type": "execute_result"
    }
   ],
   "source": [
    "result"
   ]
  },
  {
   "cell_type": "markdown",
   "metadata": {},
   "source": [
    "### Корреляция"
   ]
  },
  {
   "cell_type": "code",
   "execution_count": 148,
   "metadata": {},
   "outputs": [
    {
     "data": {
      "text/html": [
       "<div>\n",
       "<style scoped>\n",
       "    .dataframe tbody tr th:only-of-type {\n",
       "        vertical-align: middle;\n",
       "    }\n",
       "\n",
       "    .dataframe tbody tr th {\n",
       "        vertical-align: top;\n",
       "    }\n",
       "\n",
       "    .dataframe thead th {\n",
       "        text-align: right;\n",
       "    }\n",
       "</style>\n",
       "<table border=\"1\" class=\"dataframe\">\n",
       "  <thead>\n",
       "    <tr style=\"text-align: right;\">\n",
       "      <th></th>\n",
       "      <th>userid</th>\n",
       "      <th>score</th>\n",
       "      <th>city</th>\n",
       "      <th>gender</th>\n",
       "      <th>age</th>\n",
       "      <th>equity</th>\n",
       "      <th>balance</th>\n",
       "      <th>products</th>\n",
       "      <th>credit_card</th>\n",
       "      <th>last_activity</th>\n",
       "      <th>est_salary</th>\n",
       "      <th>churn</th>\n",
       "    </tr>\n",
       "  </thead>\n",
       "  <tbody>\n",
       "    <tr>\n",
       "      <th>0</th>\n",
       "      <td>183012</td>\n",
       "      <td>850.0</td>\n",
       "      <td>Рыбинск</td>\n",
       "      <td>Ж</td>\n",
       "      <td>25.0</td>\n",
       "      <td>1</td>\n",
       "      <td>59214.82</td>\n",
       "      <td>2</td>\n",
       "      <td>0</td>\n",
       "      <td>1</td>\n",
       "      <td>75719.14</td>\n",
       "      <td>1</td>\n",
       "    </tr>\n",
       "    <tr>\n",
       "      <th>1</th>\n",
       "      <td>146556</td>\n",
       "      <td>861.0</td>\n",
       "      <td>Рыбинск</td>\n",
       "      <td>Ж</td>\n",
       "      <td>37.0</td>\n",
       "      <td>5</td>\n",
       "      <td>850594.33</td>\n",
       "      <td>3</td>\n",
       "      <td>1</td>\n",
       "      <td>0</td>\n",
       "      <td>86621.77</td>\n",
       "      <td>0</td>\n",
       "    </tr>\n",
       "    <tr>\n",
       "      <th>2</th>\n",
       "      <td>120722</td>\n",
       "      <td>892.0</td>\n",
       "      <td>Рыбинск</td>\n",
       "      <td>Ж</td>\n",
       "      <td>30.0</td>\n",
       "      <td>0</td>\n",
       "      <td>NaN</td>\n",
       "      <td>1</td>\n",
       "      <td>1</td>\n",
       "      <td>1</td>\n",
       "      <td>107683.34</td>\n",
       "      <td>0</td>\n",
       "    </tr>\n",
       "    <tr>\n",
       "      <th>3</th>\n",
       "      <td>225363</td>\n",
       "      <td>866.0</td>\n",
       "      <td>Ярославль</td>\n",
       "      <td>Ж</td>\n",
       "      <td>51.0</td>\n",
       "      <td>5</td>\n",
       "      <td>1524746.26</td>\n",
       "      <td>2</td>\n",
       "      <td>0</td>\n",
       "      <td>1</td>\n",
       "      <td>174423.53</td>\n",
       "      <td>1</td>\n",
       "    </tr>\n",
       "    <tr>\n",
       "      <th>4</th>\n",
       "      <td>157978</td>\n",
       "      <td>730.0</td>\n",
       "      <td>Ярославль</td>\n",
       "      <td>М</td>\n",
       "      <td>34.0</td>\n",
       "      <td>5</td>\n",
       "      <td>174.00</td>\n",
       "      <td>1</td>\n",
       "      <td>1</td>\n",
       "      <td>0</td>\n",
       "      <td>67353.16</td>\n",
       "      <td>1</td>\n",
       "    </tr>\n",
       "  </tbody>\n",
       "</table>\n",
       "</div>"
      ],
      "text/plain": [
       "   userid  score       city gender   age  equity     balance  products  \\\n",
       "0  183012  850.0    Рыбинск      Ж  25.0       1    59214.82         2   \n",
       "1  146556  861.0    Рыбинск      Ж  37.0       5   850594.33         3   \n",
       "2  120722  892.0    Рыбинск      Ж  30.0       0         NaN         1   \n",
       "3  225363  866.0  Ярославль      Ж  51.0       5  1524746.26         2   \n",
       "4  157978  730.0  Ярославль      М  34.0       5      174.00         1   \n",
       "\n",
       "   credit_card  last_activity  est_salary  churn  \n",
       "0            0              1    75719.14      1  \n",
       "1            1              0    86621.77      0  \n",
       "2            1              1   107683.34      0  \n",
       "3            0              1   174423.53      1  \n",
       "4            1              0    67353.16      1  "
      ]
     },
     "execution_count": 148,
     "metadata": {},
     "output_type": "execute_result"
    }
   ],
   "source": [
    "data.head()"
   ]
  },
  {
   "cell_type": "code",
   "execution_count": 149,
   "metadata": {},
   "outputs": [],
   "source": [
    "one_hot = pd.get_dummies(data['city'])\n",
    "data_2 = data.join(one_hot)\n",
    "data_2 = data_2.drop('city', axis = 1)"
   ]
  },
  {
   "cell_type": "code",
   "execution_count": 150,
   "metadata": {},
   "outputs": [
    {
     "data": {
      "text/html": [
       "<div>\n",
       "<style scoped>\n",
       "    .dataframe tbody tr th:only-of-type {\n",
       "        vertical-align: middle;\n",
       "    }\n",
       "\n",
       "    .dataframe tbody tr th {\n",
       "        vertical-align: top;\n",
       "    }\n",
       "\n",
       "    .dataframe thead th {\n",
       "        text-align: right;\n",
       "    }\n",
       "</style>\n",
       "<table border=\"1\" class=\"dataframe\">\n",
       "  <thead>\n",
       "    <tr style=\"text-align: right;\">\n",
       "      <th></th>\n",
       "      <th>userid</th>\n",
       "      <th>score</th>\n",
       "      <th>age</th>\n",
       "      <th>equity</th>\n",
       "      <th>balance</th>\n",
       "      <th>products</th>\n",
       "      <th>credit_card</th>\n",
       "      <th>last_activity</th>\n",
       "      <th>est_salary</th>\n",
       "      <th>churn</th>\n",
       "      <th>Ростов</th>\n",
       "      <th>Рыбинск</th>\n",
       "      <th>Ярославль</th>\n",
       "      <th>Ж</th>\n",
       "      <th>М</th>\n",
       "    </tr>\n",
       "  </thead>\n",
       "  <tbody>\n",
       "    <tr>\n",
       "      <th>0</th>\n",
       "      <td>183012</td>\n",
       "      <td>850.0</td>\n",
       "      <td>25.0</td>\n",
       "      <td>1</td>\n",
       "      <td>59214.82</td>\n",
       "      <td>2</td>\n",
       "      <td>0</td>\n",
       "      <td>1</td>\n",
       "      <td>75719.14</td>\n",
       "      <td>1</td>\n",
       "      <td>False</td>\n",
       "      <td>True</td>\n",
       "      <td>False</td>\n",
       "      <td>True</td>\n",
       "      <td>False</td>\n",
       "    </tr>\n",
       "    <tr>\n",
       "      <th>1</th>\n",
       "      <td>146556</td>\n",
       "      <td>861.0</td>\n",
       "      <td>37.0</td>\n",
       "      <td>5</td>\n",
       "      <td>850594.33</td>\n",
       "      <td>3</td>\n",
       "      <td>1</td>\n",
       "      <td>0</td>\n",
       "      <td>86621.77</td>\n",
       "      <td>0</td>\n",
       "      <td>False</td>\n",
       "      <td>True</td>\n",
       "      <td>False</td>\n",
       "      <td>True</td>\n",
       "      <td>False</td>\n",
       "    </tr>\n",
       "    <tr>\n",
       "      <th>2</th>\n",
       "      <td>120722</td>\n",
       "      <td>892.0</td>\n",
       "      <td>30.0</td>\n",
       "      <td>0</td>\n",
       "      <td>NaN</td>\n",
       "      <td>1</td>\n",
       "      <td>1</td>\n",
       "      <td>1</td>\n",
       "      <td>107683.34</td>\n",
       "      <td>0</td>\n",
       "      <td>False</td>\n",
       "      <td>True</td>\n",
       "      <td>False</td>\n",
       "      <td>True</td>\n",
       "      <td>False</td>\n",
       "    </tr>\n",
       "    <tr>\n",
       "      <th>3</th>\n",
       "      <td>225363</td>\n",
       "      <td>866.0</td>\n",
       "      <td>51.0</td>\n",
       "      <td>5</td>\n",
       "      <td>1524746.26</td>\n",
       "      <td>2</td>\n",
       "      <td>0</td>\n",
       "      <td>1</td>\n",
       "      <td>174423.53</td>\n",
       "      <td>1</td>\n",
       "      <td>False</td>\n",
       "      <td>False</td>\n",
       "      <td>True</td>\n",
       "      <td>True</td>\n",
       "      <td>False</td>\n",
       "    </tr>\n",
       "    <tr>\n",
       "      <th>4</th>\n",
       "      <td>157978</td>\n",
       "      <td>730.0</td>\n",
       "      <td>34.0</td>\n",
       "      <td>5</td>\n",
       "      <td>174.00</td>\n",
       "      <td>1</td>\n",
       "      <td>1</td>\n",
       "      <td>0</td>\n",
       "      <td>67353.16</td>\n",
       "      <td>1</td>\n",
       "      <td>False</td>\n",
       "      <td>False</td>\n",
       "      <td>True</td>\n",
       "      <td>False</td>\n",
       "      <td>True</td>\n",
       "    </tr>\n",
       "  </tbody>\n",
       "</table>\n",
       "</div>"
      ],
      "text/plain": [
       "   userid  score   age  equity     balance  products  credit_card  \\\n",
       "0  183012  850.0  25.0       1    59214.82         2            0   \n",
       "1  146556  861.0  37.0       5   850594.33         3            1   \n",
       "2  120722  892.0  30.0       0         NaN         1            1   \n",
       "3  225363  866.0  51.0       5  1524746.26         2            0   \n",
       "4  157978  730.0  34.0       5      174.00         1            1   \n",
       "\n",
       "   last_activity  est_salary  churn  Ростов  Рыбинск  Ярославль      Ж      М  \n",
       "0              1    75719.14      1   False     True      False   True  False  \n",
       "1              0    86621.77      0   False     True      False   True  False  \n",
       "2              1   107683.34      0   False     True      False   True  False  \n",
       "3              1   174423.53      1   False    False       True   True  False  \n",
       "4              0    67353.16      1   False    False       True  False   True  "
      ]
     },
     "execution_count": 150,
     "metadata": {},
     "output_type": "execute_result"
    }
   ],
   "source": [
    "one_hot_2 = pd.get_dummies(data_2['gender'])\n",
    "data_3 = data_2.join(one_hot_2)\n",
    "data_3 = data_3.drop('gender', axis = 1)\n",
    "data_3.head()"
   ]
  },
  {
   "cell_type": "code",
   "execution_count": 151,
   "metadata": {},
   "outputs": [
    {
     "data": {
      "image/png": "[encoded data removed]",
      "text/plain": [
       "<Figure size 864x720 with 2 Axes>"
      ]
     },
     "metadata": {
      "needs_background": "light"
     },
     "output_type": "display_data"
    }
   ],
   "source": [
    "plt.figure(figsize=(12, 10))\n",
    "sns.heatmap(data_3.corr(), center=0, cmap='coolwarm', annot=True);"
   ]
  },
  {
   "cell_type": "code",
   "execution_count": 157,
   "metadata": {},
   "outputs": [
    {
     "data": {
      "image/png": "[encoded data removed]",
      "text/plain": [
       "<Figure size 360x360 with 2 Axes>"
      ]
     },
     "metadata": {
      "needs_background": "light"
     },
     "output_type": "display_data"
    }
   ],
   "source": [
    "corr = data_3.corr()\n",
    "\n",
    "x = corr[['churn']]\n",
    "plt.figure(figsize=(5, 5))\n",
    "sns.heatmap(x, center=0, cmap='coolwarm', annot=True);"
   ]
  },
  {
   "cell_type": "markdown",
   "metadata": {},
   "source": [
    "В результате получены следующие значения корреляций:\n",
    "1) Обратная связь уровня оттока наблюдается с распределением возрастов и наличием кредитной карты;\n",
    "2) Со всеми остальными признаками уровень оттока коррелирует слабо в пределах от 0.067 до 0.27;\n",
    "3) Уровень оттока наиболее взаимосвязан с количеством продуктов, которыми пользуется клиент (0.27), с количеством собственности (0.24), и с активностью клиентов (0.16), несмотря на то, что эти связи слабые."
   ]
  },
  {
   "cell_type": "markdown",
   "metadata": {},
   "source": [
    "# Шаг 4. Статистический анализ данных"
   ]
  },
  {
   "cell_type": "markdown",
   "metadata": {},
   "source": [
    "Для проверки гипотез я буду использовать t-test, так как по центральной предельной теореме в выборке достаточно наблюдений, выборочное среднее распределено нормально вокруг среднего генеральной совокупности. То есть генеральная совокупность может быть распределена как угодно: датасет из средних значений выборок будет нормально распределён вокруг среднего всей совокупности."
   ]
  },
  {
   "cell_type": "markdown",
   "metadata": {},
   "source": [
    "Параметр equal_var и дисперсии в t-test'е: Так как наши выборки для сравнения различаются более чем на 1:4, equal_var принимает значение False в любом случае."
   ]
  },
  {
   "cell_type": "markdown",
   "metadata": {},
   "source": [
    "## Гипотезы"
   ]
  },
  {
   "cell_type": "markdown",
   "metadata": {},
   "source": [
    "### H0: Средняя зарплата отточных клиентов равна средней зарплате не отточных, H1: Средняя зарплата отточных клиентов не равна средней зарплате не отточных"
   ]
  },
  {
   "cell_type": "code",
   "execution_count": 71,
   "metadata": {},
   "outputs": [
    {
     "name": "stdout",
     "output_type": "stream",
     "text": [
      "p-значение: 4.625739187700535e-07\n",
      "Отвергаем нулевую гипотезу\n"
     ]
    }
   ],
   "source": [
    "x = data.query('churn == 1')['est_salary']\n",
    "y = data.query('churn == 0')['est_salary']\n",
    "\n",
    "alpha = 0.05\n",
    "\n",
    "results = st.ttest_ind(x, y, equal_var=False)\n",
    "\n",
    "print('p-значение:', results.pvalue)\n",
    "\n",
    "if results.pvalue < alpha:\n",
    "    print(\"Отвергаем нулевую гипотезу\")\n",
    "else:\n",
    "    print(\"Не получилось отвергнуть нулевую гипотезу\")"
   ]
  },
  {
   "cell_type": "markdown",
   "metadata": {},
   "source": [
    "### Гипотеза: H0 - количество собственности отточных клиентов равно не отточных, H1 - между количеством собственности в группах есть значимая разница."
   ]
  },
  {
   "cell_type": "code",
   "execution_count": 72,
   "metadata": {},
   "outputs": [
    {
     "name": "stdout",
     "output_type": "stream",
     "text": [
      "p-значение: 2.0474815541594585e-131\n",
      "Отвергаем нулевую гипотезу\n"
     ]
    }
   ],
   "source": [
    "b = data.query('churn == 1')['equity']\n",
    "c = data.query('churn == 0')['equity']\n",
    "\n",
    "alpha = 0.05\n",
    "\n",
    "results = st.ttest_ind(b, c, equal_var=False)\n",
    "\n",
    "print('p-значение:', results.pvalue)\n",
    "\n",
    "if results.pvalue < alpha:\n",
    "    print(\"Отвергаем нулевую гипотезу\")\n",
    "else:\n",
    "    print(\"Не получилось отвергнуть нулевую гипотезу\")"
   ]
  },
  {
   "cell_type": "markdown",
   "metadata": {},
   "source": [
    "### Промежуточные выводы"
   ]
  },
  {
   "cell_type": "markdown",
   "metadata": {},
   "source": [
    "Перечислю признаки, которые лягут в в основу сегментации: \n",
    "1. Первый сегмент будет состоять из клиентов мужского пола, которые старше 50 лет. По построенным графикам видно, что наиболее склонные к уходу клиенты - мужчины, по графику возрастов видно, что много отточных клиентов в возрасте от 50 лет.\n",
    "2. Второй сегмент содержит вырезку о клиентах мужского пола, у которых имеется кредитная карта, и хороший кредитный рейтинг. По графику отточности клиентов по наличию кредитной карты видно, что у большинства таких клиентов имеется кредитная карта.\n",
    "3. Третий сегмент содержит срез данных об активности клиентов с количеством продуктов > 2."
   ]
  },
  {
   "cell_type": "markdown",
   "metadata": {},
   "source": [
    "### Сегментация клиентов"
   ]
  },
  {
   "cell_type": "markdown",
   "metadata": {},
   "source": [
    "#### Сегмент 1: Признаки: клиенты мужского пола от 53 до 62 лет"
   ]
  },
  {
   "cell_type": "code",
   "execution_count": 73,
   "metadata": {},
   "outputs": [
    {
     "data": {
      "text/html": [
       "<div>\n",
       "<style scoped>\n",
       "    .dataframe tbody tr th:only-of-type {\n",
       "        vertical-align: middle;\n",
       "    }\n",
       "\n",
       "    .dataframe tbody tr th {\n",
       "        vertical-align: top;\n",
       "    }\n",
       "\n",
       "    .dataframe thead th {\n",
       "        text-align: right;\n",
       "    }\n",
       "</style>\n",
       "<table border=\"1\" class=\"dataframe\">\n",
       "  <thead>\n",
       "    <tr style=\"text-align: right;\">\n",
       "      <th></th>\n",
       "      <th>userid</th>\n",
       "      <th>score</th>\n",
       "      <th>city</th>\n",
       "      <th>gender</th>\n",
       "      <th>age</th>\n",
       "      <th>equity</th>\n",
       "      <th>balance</th>\n",
       "      <th>products</th>\n",
       "      <th>credit_card</th>\n",
       "      <th>last_activity</th>\n",
       "      <th>est_salary</th>\n",
       "      <th>churn</th>\n",
       "    </tr>\n",
       "  </thead>\n",
       "  <tbody>\n",
       "    <tr>\n",
       "      <th>5</th>\n",
       "      <td>202305</td>\n",
       "      <td>856.0</td>\n",
       "      <td>Рыбинск</td>\n",
       "      <td>М</td>\n",
       "      <td>56.0</td>\n",
       "      <td>4</td>\n",
       "      <td>863687.24</td>\n",
       "      <td>3</td>\n",
       "      <td>1</td>\n",
       "      <td>0</td>\n",
       "      <td>156619.80</td>\n",
       "      <td>0</td>\n",
       "    </tr>\n",
       "    <tr>\n",
       "      <th>8</th>\n",
       "      <td>211686</td>\n",
       "      <td>923.0</td>\n",
       "      <td>Ярославль</td>\n",
       "      <td>М</td>\n",
       "      <td>54.0</td>\n",
       "      <td>5</td>\n",
       "      <td>1206337.87</td>\n",
       "      <td>2</td>\n",
       "      <td>1</td>\n",
       "      <td>0</td>\n",
       "      <td>155371.79</td>\n",
       "      <td>0</td>\n",
       "    </tr>\n",
       "    <tr>\n",
       "      <th>17</th>\n",
       "      <td>214277</td>\n",
       "      <td>793.0</td>\n",
       "      <td>Ярославль</td>\n",
       "      <td>М</td>\n",
       "      <td>53.0</td>\n",
       "      <td>3</td>\n",
       "      <td>627034.50</td>\n",
       "      <td>2</td>\n",
       "      <td>1</td>\n",
       "      <td>0</td>\n",
       "      <td>183430.19</td>\n",
       "      <td>0</td>\n",
       "    </tr>\n",
       "    <tr>\n",
       "      <th>36</th>\n",
       "      <td>199614</td>\n",
       "      <td>822.0</td>\n",
       "      <td>Ярославль</td>\n",
       "      <td>М</td>\n",
       "      <td>60.0</td>\n",
       "      <td>5</td>\n",
       "      <td>1472483.77</td>\n",
       "      <td>1</td>\n",
       "      <td>1</td>\n",
       "      <td>1</td>\n",
       "      <td>89132.67</td>\n",
       "      <td>0</td>\n",
       "    </tr>\n",
       "    <tr>\n",
       "      <th>41</th>\n",
       "      <td>206939</td>\n",
       "      <td>814.0</td>\n",
       "      <td>Рыбинск</td>\n",
       "      <td>М</td>\n",
       "      <td>56.0</td>\n",
       "      <td>2</td>\n",
       "      <td>1067536.40</td>\n",
       "      <td>2</td>\n",
       "      <td>1</td>\n",
       "      <td>0</td>\n",
       "      <td>95563.19</td>\n",
       "      <td>0</td>\n",
       "    </tr>\n",
       "  </tbody>\n",
       "</table>\n",
       "</div>"
      ],
      "text/plain": [
       "    userid  score       city gender   age  equity     balance  products  \\\n",
       "5   202305  856.0    Рыбинск      М  56.0       4   863687.24         3   \n",
       "8   211686  923.0  Ярославль      М  54.0       5  1206337.87         2   \n",
       "17  214277  793.0  Ярославль      М  53.0       3   627034.50         2   \n",
       "36  199614  822.0  Ярославль      М  60.0       5  1472483.77         1   \n",
       "41  206939  814.0    Рыбинск      М  56.0       2  1067536.40         2   \n",
       "\n",
       "    credit_card  last_activity  est_salary  churn  \n",
       "5             1              0   156619.80      0  \n",
       "8             1              0   155371.79      0  \n",
       "17            1              0   183430.19      0  \n",
       "36            1              1    89132.67      0  \n",
       "41            1              0    95563.19      0  "
      ]
     },
     "execution_count": 73,
     "metadata": {},
     "output_type": "execute_result"
    }
   ],
   "source": [
    "segment_one = data.query('gender == \"М\" and (age >= 53 and age <= 62)')\n",
    "segment_one.head()"
   ]
  },
  {
   "cell_type": "markdown",
   "metadata": {},
   "source": [
    "##### Уровень оттока клиентов мужского пола от 53 до 62 лет"
   ]
  },
  {
   "cell_type": "code",
   "execution_count": 74,
   "metadata": {},
   "outputs": [
    {
     "name": "stdout",
     "output_type": "stream",
     "text": [
      "Количество отточных клиентов мужского пола: 192\n",
      "Общее количество клиентов мужского пола старше 50 лет: 561\n",
      "Уровень оттока клиентов мужского пола старше 50 лет внутри сегмента: 34.22 %\n"
     ]
    }
   ],
   "source": [
    "ottok = segment_one.query('churn == 1')['userid'].count()\n",
    "print('Количество отточных клиентов мужского пола:', ottok)\n",
    "neottok = segment_one['userid'].count()\n",
    "print('Общее количество клиентов мужского пола старше 50 лет:', neottok)\n",
    "print('Уровень оттока клиентов мужского пола старше 50 лет внутри сегмента:', round(ottok/neottok*100, 2),'%')"
   ]
  },
  {
   "cell_type": "markdown",
   "metadata": {},
   "source": [
    "#### Сегмент 2: Признаки: Клиенты мужского пола с наличием кредитной карты и кредитным рейтингом от 850 до 900"
   ]
  },
  {
   "cell_type": "code",
   "execution_count": 75,
   "metadata": {},
   "outputs": [
    {
     "data": {
      "text/html": [
       "<div>\n",
       "<style scoped>\n",
       "    .dataframe tbody tr th:only-of-type {\n",
       "        vertical-align: middle;\n",
       "    }\n",
       "\n",
       "    .dataframe tbody tr th {\n",
       "        vertical-align: top;\n",
       "    }\n",
       "\n",
       "    .dataframe thead th {\n",
       "        text-align: right;\n",
       "    }\n",
       "</style>\n",
       "<table border=\"1\" class=\"dataframe\">\n",
       "  <thead>\n",
       "    <tr style=\"text-align: right;\">\n",
       "      <th></th>\n",
       "      <th>userid</th>\n",
       "      <th>score</th>\n",
       "      <th>city</th>\n",
       "      <th>gender</th>\n",
       "      <th>age</th>\n",
       "      <th>equity</th>\n",
       "      <th>balance</th>\n",
       "      <th>products</th>\n",
       "      <th>credit_card</th>\n",
       "      <th>last_activity</th>\n",
       "      <th>est_salary</th>\n",
       "      <th>churn</th>\n",
       "    </tr>\n",
       "  </thead>\n",
       "  <tbody>\n",
       "    <tr>\n",
       "      <th>5</th>\n",
       "      <td>202305</td>\n",
       "      <td>856.0</td>\n",
       "      <td>Рыбинск</td>\n",
       "      <td>М</td>\n",
       "      <td>56.0</td>\n",
       "      <td>4</td>\n",
       "      <td>863687.24</td>\n",
       "      <td>3</td>\n",
       "      <td>1</td>\n",
       "      <td>0</td>\n",
       "      <td>156619.80</td>\n",
       "      <td>0</td>\n",
       "    </tr>\n",
       "    <tr>\n",
       "      <th>22</th>\n",
       "      <td>161656</td>\n",
       "      <td>871.0</td>\n",
       "      <td>Ярославль</td>\n",
       "      <td>М</td>\n",
       "      <td>51.0</td>\n",
       "      <td>4</td>\n",
       "      <td>708866.92</td>\n",
       "      <td>1</td>\n",
       "      <td>1</td>\n",
       "      <td>0</td>\n",
       "      <td>106407.26</td>\n",
       "      <td>0</td>\n",
       "    </tr>\n",
       "    <tr>\n",
       "      <th>29</th>\n",
       "      <td>210799</td>\n",
       "      <td>868.0</td>\n",
       "      <td>Ярославль</td>\n",
       "      <td>М</td>\n",
       "      <td>43.0</td>\n",
       "      <td>3</td>\n",
       "      <td>532311.98</td>\n",
       "      <td>1</td>\n",
       "      <td>1</td>\n",
       "      <td>0</td>\n",
       "      <td>144073.00</td>\n",
       "      <td>0</td>\n",
       "    </tr>\n",
       "    <tr>\n",
       "      <th>50</th>\n",
       "      <td>116799</td>\n",
       "      <td>893.0</td>\n",
       "      <td>Ярославль</td>\n",
       "      <td>М</td>\n",
       "      <td>48.0</td>\n",
       "      <td>1</td>\n",
       "      <td>390504.59</td>\n",
       "      <td>2</td>\n",
       "      <td>1</td>\n",
       "      <td>0</td>\n",
       "      <td>85770.48</td>\n",
       "      <td>0</td>\n",
       "    </tr>\n",
       "    <tr>\n",
       "      <th>56</th>\n",
       "      <td>188364</td>\n",
       "      <td>860.0</td>\n",
       "      <td>Ярославль</td>\n",
       "      <td>М</td>\n",
       "      <td>55.0</td>\n",
       "      <td>6</td>\n",
       "      <td>865702.41</td>\n",
       "      <td>2</td>\n",
       "      <td>1</td>\n",
       "      <td>0</td>\n",
       "      <td>76058.00</td>\n",
       "      <td>0</td>\n",
       "    </tr>\n",
       "  </tbody>\n",
       "</table>\n",
       "</div>"
      ],
      "text/plain": [
       "    userid  score       city gender   age  equity    balance  products  \\\n",
       "5   202305  856.0    Рыбинск      М  56.0       4  863687.24         3   \n",
       "22  161656  871.0  Ярославль      М  51.0       4  708866.92         1   \n",
       "29  210799  868.0  Ярославль      М  43.0       3  532311.98         1   \n",
       "50  116799  893.0  Ярославль      М  48.0       1  390504.59         2   \n",
       "56  188364  860.0  Ярославль      М  55.0       6  865702.41         2   \n",
       "\n",
       "    credit_card  last_activity  est_salary  churn  \n",
       "5             1              0   156619.80      0  \n",
       "22            1              0   106407.26      0  \n",
       "29            1              0   144073.00      0  \n",
       "50            1              0    85770.48      0  \n",
       "56            1              0    76058.00      0  "
      ]
     },
     "execution_count": 75,
     "metadata": {},
     "output_type": "execute_result"
    }
   ],
   "source": [
    "segment_two = data.query('gender == \"М\" and (score >= 850 and score <= 900) and credit_card == 1')\n",
    "segment_two.head()"
   ]
  },
  {
   "cell_type": "markdown",
   "metadata": {},
   "source": [
    "##### Уровень оттока клиентов мужского пола с наличием кредитной карты и кредитным рейтингом от 850 до 900"
   ]
  },
  {
   "cell_type": "code",
   "execution_count": 76,
   "metadata": {},
   "outputs": [
    {
     "name": "stdout",
     "output_type": "stream",
     "text": [
      "Количество отточных клиентов: 220\n",
      "Общее количество клиентов: 802\n",
      "Уровень оттока клиентов внутри сегмента: 27.43 %\n"
     ]
    }
   ],
   "source": [
    "ottok_two = segment_two.query('churn == 1')['userid'].count()\n",
    "print('Количество отточных клиентов:', ottok_two)\n",
    "neottok_two = segment_two['userid'].count()\n",
    "print('Общее количество клиентов:', neottok_two)\n",
    "print('Уровень оттока клиентов внутри сегмента:', round(ottok_two/neottok_two*100, 2),'%')"
   ]
  },
  {
   "cell_type": "markdown",
   "metadata": {},
   "source": [
    "#### Сегмент 3: Признаки: Активные клиенты с количеством продуктов от 3 до 5"
   ]
  },
  {
   "cell_type": "code",
   "execution_count": 77,
   "metadata": {},
   "outputs": [
    {
     "data": {
      "text/html": [
       "<div>\n",
       "<style scoped>\n",
       "    .dataframe tbody tr th:only-of-type {\n",
       "        vertical-align: middle;\n",
       "    }\n",
       "\n",
       "    .dataframe tbody tr th {\n",
       "        vertical-align: top;\n",
       "    }\n",
       "\n",
       "    .dataframe thead th {\n",
       "        text-align: right;\n",
       "    }\n",
       "</style>\n",
       "<table border=\"1\" class=\"dataframe\">\n",
       "  <thead>\n",
       "    <tr style=\"text-align: right;\">\n",
       "      <th></th>\n",
       "      <th>userid</th>\n",
       "      <th>score</th>\n",
       "      <th>city</th>\n",
       "      <th>gender</th>\n",
       "      <th>age</th>\n",
       "      <th>equity</th>\n",
       "      <th>balance</th>\n",
       "      <th>products</th>\n",
       "      <th>credit_card</th>\n",
       "      <th>last_activity</th>\n",
       "      <th>est_salary</th>\n",
       "      <th>churn</th>\n",
       "    </tr>\n",
       "  </thead>\n",
       "  <tbody>\n",
       "    <tr>\n",
       "      <th>6</th>\n",
       "      <td>177259</td>\n",
       "      <td>807.0</td>\n",
       "      <td>Ярославль</td>\n",
       "      <td>Ж</td>\n",
       "      <td>39.0</td>\n",
       "      <td>3</td>\n",
       "      <td>405042.44</td>\n",
       "      <td>3</td>\n",
       "      <td>0</td>\n",
       "      <td>1</td>\n",
       "      <td>103838.32</td>\n",
       "      <td>0</td>\n",
       "    </tr>\n",
       "    <tr>\n",
       "      <th>26</th>\n",
       "      <td>174396</td>\n",
       "      <td>898.0</td>\n",
       "      <td>Ярославль</td>\n",
       "      <td>Ж</td>\n",
       "      <td>62.0</td>\n",
       "      <td>3</td>\n",
       "      <td>364049.27</td>\n",
       "      <td>3</td>\n",
       "      <td>0</td>\n",
       "      <td>1</td>\n",
       "      <td>50661.84</td>\n",
       "      <td>0</td>\n",
       "    </tr>\n",
       "    <tr>\n",
       "      <th>33</th>\n",
       "      <td>125478</td>\n",
       "      <td>786.0</td>\n",
       "      <td>Ростов</td>\n",
       "      <td>Ж</td>\n",
       "      <td>27.0</td>\n",
       "      <td>3</td>\n",
       "      <td>448062.52</td>\n",
       "      <td>3</td>\n",
       "      <td>1</td>\n",
       "      <td>1</td>\n",
       "      <td>37607.67</td>\n",
       "      <td>0</td>\n",
       "    </tr>\n",
       "    <tr>\n",
       "      <th>72</th>\n",
       "      <td>156677</td>\n",
       "      <td>873.0</td>\n",
       "      <td>Ярославль</td>\n",
       "      <td>М</td>\n",
       "      <td>39.0</td>\n",
       "      <td>5</td>\n",
       "      <td>915959.85</td>\n",
       "      <td>3</td>\n",
       "      <td>0</td>\n",
       "      <td>1</td>\n",
       "      <td>154034.62</td>\n",
       "      <td>1</td>\n",
       "    </tr>\n",
       "    <tr>\n",
       "      <th>76</th>\n",
       "      <td>213688</td>\n",
       "      <td>922.0</td>\n",
       "      <td>Ярославль</td>\n",
       "      <td>Ж</td>\n",
       "      <td>37.0</td>\n",
       "      <td>5</td>\n",
       "      <td>1214707.38</td>\n",
       "      <td>4</td>\n",
       "      <td>0</td>\n",
       "      <td>1</td>\n",
       "      <td>85121.07</td>\n",
       "      <td>0</td>\n",
       "    </tr>\n",
       "  </tbody>\n",
       "</table>\n",
       "</div>"
      ],
      "text/plain": [
       "    userid  score       city gender   age  equity     balance  products  \\\n",
       "6   177259  807.0  Ярославль      Ж  39.0       3   405042.44         3   \n",
       "26  174396  898.0  Ярославль      Ж  62.0       3   364049.27         3   \n",
       "33  125478  786.0     Ростов      Ж  27.0       3   448062.52         3   \n",
       "72  156677  873.0  Ярославль      М  39.0       5   915959.85         3   \n",
       "76  213688  922.0  Ярославль      Ж  37.0       5  1214707.38         4   \n",
       "\n",
       "    credit_card  last_activity  est_salary  churn  \n",
       "6             0              1   103838.32      0  \n",
       "26            0              1    50661.84      0  \n",
       "33            1              1    37607.67      0  \n",
       "72            0              1   154034.62      1  \n",
       "76            0              1    85121.07      0  "
      ]
     },
     "execution_count": 77,
     "metadata": {},
     "output_type": "execute_result"
    }
   ],
   "source": [
    "segment_three = data.query('last_activity == 1 and (products >= 3 and products <= 5)')\n",
    "segment_three.head()"
   ]
  },
  {
   "cell_type": "markdown",
   "metadata": {},
   "source": [
    "##### Уровень оттока клиентов"
   ]
  },
  {
   "cell_type": "code",
   "execution_count": 78,
   "metadata": {},
   "outputs": [
    {
     "name": "stdout",
     "output_type": "stream",
     "text": [
      "Количество отточных клиентов: 333\n",
      "Общее количество клиентов: 737\n",
      "Уровень оттока клиентов внутри сегмента: 45.18 %\n"
     ]
    }
   ],
   "source": [
    "ottok_three = segment_three.query('churn == 1')['userid'].count()\n",
    "print('Количество отточных клиентов:', ottok_three)\n",
    "neottok_three = segment_three['userid'].count()\n",
    "print('Общее количество клиентов:', neottok_three)\n",
    "print('Уровень оттока клиентов внутри сегмента:', round(ottok_three/neottok_three*100, 2),'%')"
   ]
  },
  {
   "cell_type": "markdown",
   "metadata": {},
   "source": [
    "#### Сегмент 4: Признаки: клиенты с количеством собственности от 4 до 7 и количеством продуктов от 3 до 5"
   ]
  },
  {
   "cell_type": "code",
   "execution_count": 79,
   "metadata": {},
   "outputs": [
    {
     "data": {
      "text/html": [
       "<div>\n",
       "<style scoped>\n",
       "    .dataframe tbody tr th:only-of-type {\n",
       "        vertical-align: middle;\n",
       "    }\n",
       "\n",
       "    .dataframe tbody tr th {\n",
       "        vertical-align: top;\n",
       "    }\n",
       "\n",
       "    .dataframe thead th {\n",
       "        text-align: right;\n",
       "    }\n",
       "</style>\n",
       "<table border=\"1\" class=\"dataframe\">\n",
       "  <thead>\n",
       "    <tr style=\"text-align: right;\">\n",
       "      <th></th>\n",
       "      <th>userid</th>\n",
       "      <th>score</th>\n",
       "      <th>city</th>\n",
       "      <th>gender</th>\n",
       "      <th>age</th>\n",
       "      <th>equity</th>\n",
       "      <th>balance</th>\n",
       "      <th>products</th>\n",
       "      <th>credit_card</th>\n",
       "      <th>last_activity</th>\n",
       "      <th>est_salary</th>\n",
       "      <th>churn</th>\n",
       "    </tr>\n",
       "  </thead>\n",
       "  <tbody>\n",
       "    <tr>\n",
       "      <th>1</th>\n",
       "      <td>146556</td>\n",
       "      <td>861.0</td>\n",
       "      <td>Рыбинск</td>\n",
       "      <td>Ж</td>\n",
       "      <td>37.0</td>\n",
       "      <td>5</td>\n",
       "      <td>850594.33</td>\n",
       "      <td>3</td>\n",
       "      <td>1</td>\n",
       "      <td>0</td>\n",
       "      <td>86621.77</td>\n",
       "      <td>0</td>\n",
       "    </tr>\n",
       "    <tr>\n",
       "      <th>5</th>\n",
       "      <td>202305</td>\n",
       "      <td>856.0</td>\n",
       "      <td>Рыбинск</td>\n",
       "      <td>М</td>\n",
       "      <td>56.0</td>\n",
       "      <td>4</td>\n",
       "      <td>863687.24</td>\n",
       "      <td>3</td>\n",
       "      <td>1</td>\n",
       "      <td>0</td>\n",
       "      <td>156619.80</td>\n",
       "      <td>0</td>\n",
       "    </tr>\n",
       "    <tr>\n",
       "      <th>72</th>\n",
       "      <td>156677</td>\n",
       "      <td>873.0</td>\n",
       "      <td>Ярославль</td>\n",
       "      <td>М</td>\n",
       "      <td>39.0</td>\n",
       "      <td>5</td>\n",
       "      <td>915959.85</td>\n",
       "      <td>3</td>\n",
       "      <td>0</td>\n",
       "      <td>1</td>\n",
       "      <td>154034.62</td>\n",
       "      <td>1</td>\n",
       "    </tr>\n",
       "    <tr>\n",
       "      <th>76</th>\n",
       "      <td>213688</td>\n",
       "      <td>922.0</td>\n",
       "      <td>Ярославль</td>\n",
       "      <td>Ж</td>\n",
       "      <td>37.0</td>\n",
       "      <td>5</td>\n",
       "      <td>1214707.38</td>\n",
       "      <td>4</td>\n",
       "      <td>0</td>\n",
       "      <td>1</td>\n",
       "      <td>85121.07</td>\n",
       "      <td>0</td>\n",
       "    </tr>\n",
       "    <tr>\n",
       "      <th>81</th>\n",
       "      <td>223978</td>\n",
       "      <td>850.0</td>\n",
       "      <td>Рыбинск</td>\n",
       "      <td>М</td>\n",
       "      <td>34.0</td>\n",
       "      <td>5</td>\n",
       "      <td>351583.16</td>\n",
       "      <td>4</td>\n",
       "      <td>0</td>\n",
       "      <td>1</td>\n",
       "      <td>115354.97</td>\n",
       "      <td>1</td>\n",
       "    </tr>\n",
       "  </tbody>\n",
       "</table>\n",
       "</div>"
      ],
      "text/plain": [
       "    userid  score       city gender   age  equity     balance  products  \\\n",
       "1   146556  861.0    Рыбинск      Ж  37.0       5   850594.33         3   \n",
       "5   202305  856.0    Рыбинск      М  56.0       4   863687.24         3   \n",
       "72  156677  873.0  Ярославль      М  39.0       5   915959.85         3   \n",
       "76  213688  922.0  Ярославль      Ж  37.0       5  1214707.38         4   \n",
       "81  223978  850.0    Рыбинск      М  34.0       5   351583.16         4   \n",
       "\n",
       "    credit_card  last_activity  est_salary  churn  \n",
       "1             1              0    86621.77      0  \n",
       "5             1              0   156619.80      0  \n",
       "72            0              1   154034.62      1  \n",
       "76            0              1    85121.07      0  \n",
       "81            0              1   115354.97      1  "
      ]
     },
     "execution_count": 79,
     "metadata": {},
     "output_type": "execute_result"
    }
   ],
   "source": [
    "segment_four = data.query('(equity >= 4 and equity <= 7) and (products >= 3 and products <= 5)')\n",
    "segment_four.head()"
   ]
  },
  {
   "cell_type": "code",
   "execution_count": 80,
   "metadata": {},
   "outputs": [
    {
     "name": "stdout",
     "output_type": "stream",
     "text": [
      "Количество отточных клиентов: 356\n",
      "Общее количество клиентов: 833\n",
      "Уровень оттока клиентов внутри сегмента: 42.74 %\n"
     ]
    }
   ],
   "source": [
    "ottok_four = segment_four.query('churn == 1')['userid'].count()\n",
    "print('Количество отточных клиентов:', ottok_four)\n",
    "neottok_four = segment_four['userid'].count()\n",
    "print('Общее количество клиентов:', neottok_four)\n",
    "print('Уровень оттока клиентов внутри сегмента:', round(ottok_four/neottok_four*100, 2),'%')"
   ]
  },
  {
   "cell_type": "markdown",
   "metadata": {},
   "source": [
    "Наиболее приоритетный сегмент - сегмент с активными клиентами с количеством продуктов в банке от 3 до 5 (45,18%). Далее, сегмент с  банками с количеством собственности от 4 до 7 и количеством продуктов от 3 до 5 (42,74%), третий сегмент с клиентами мужского пола от 53 до 62 лет (34,22%), четвертый - с клиентами мужского пола с наличием кредитной карты и кредитным рейтингом от 850 до 900 (27,43%)."
   ]
  },
  {
   "cell_type": "markdown",
   "metadata": {},
   "source": [
    "1) Возможно, что отток клиентов мужского пола пожилого возраста происходит из-за возраста клиента. Например, клиент начал пользоваться банком, что бы получить кредиту карту, после этого происходит отток, так как клиент в силу возраста и облегчения процесса перешёл на пользование мобильным приложением банка. Рекомендации постройка банков или банкоматов около большого скопления пожилых людей, например около магазинов. \n",
    "\n",
    "2) Среди клиентов мужского пола с хорошим кредитным рейтингом тоже высокий отток. Возможно, это связано с закрытием кредита, после которого клиент уже не нуждается в услугах банка. Рекомендации: привлечение клиента возможностью кэшбека, различными скидками, как например \"сбер спасибо\".\n",
    "\n",
    "3) Среди активных клиентов с использованием большого количества продуктов в банке аналогично высокий отток, возможное решение - увеличение количества используемых продуктов.\n",
    "\n",
    "4) Там где много баллов собственности и большое количество продуктов тоже весомый отток. Рекомендации: увеличение количества используемых продуктов и переманивание клиентов с более высокой собственностью."
   ]
  },
  {
   "cell_type": "markdown",
   "metadata": {},
   "source": [
    "## Шаг 5. Подведение итогов"
   ]
  },
  {
   "cell_type": "markdown",
   "metadata": {},
   "source": [
    "### В ходе выполнения проекта исследовали уходящих и постоянных клиентов, составили портреты клиентов. Также были построены визуализации сравниваемых параметров, сформулировали несколько гипотез, а затем проверили их."
   ]
  }
 ],
 "metadata": {
  "ExecuteTimeLog": [
   {
    "duration": 418,
    "start_time": "2023-06-15T13:02:02.743Z"
   },
   {
    "duration": 60,
    "start_time": "2023-06-15T13:02:05.992Z"
   },
   {
    "duration": 138,
    "start_time": "2023-06-15T13:02:21.930Z"
   },
   {
    "duration": 43,
    "start_time": "2023-06-15T13:02:31.296Z"
   },
   {
    "duration": 64,
    "start_time": "2023-06-15T13:03:18.704Z"
   },
   {
    "duration": 1422,
    "start_time": "2023-06-15T13:04:07.607Z"
   },
   {
    "duration": 64,
    "start_time": "2023-06-15T13:04:28.634Z"
   },
   {
    "duration": 1623,
    "start_time": "2023-06-15T13:05:53.005Z"
   },
   {
    "duration": 1504,
    "start_time": "2023-06-15T13:06:28.647Z"
   },
   {
    "duration": 1390,
    "start_time": "2023-06-15T13:06:44.974Z"
   },
   {
    "duration": 72,
    "start_time": "2023-06-15T13:12:22.238Z"
   },
   {
    "duration": 1210,
    "start_time": "2023-06-15T13:13:04.478Z"
   },
   {
    "duration": 1609,
    "start_time": "2023-06-15T13:13:15.247Z"
   },
   {
    "duration": 494,
    "start_time": "2023-06-16T12:12:05.192Z"
   },
   {
    "duration": 1268,
    "start_time": "2023-06-16T12:12:08.144Z"
   },
   {
    "duration": 13,
    "start_time": "2023-06-16T12:18:02.231Z"
   },
   {
    "duration": 470,
    "start_time": "2023-06-16T12:22:57.611Z"
   },
   {
    "duration": 1149,
    "start_time": "2023-06-16T12:23:25.476Z"
   },
   {
    "duration": 14,
    "start_time": "2023-06-16T12:23:37.489Z"
   },
   {
    "duration": 78,
    "start_time": "2023-06-16T12:38:45.295Z"
   },
   {
    "duration": 9,
    "start_time": "2023-06-16T12:39:24.895Z"
   },
   {
    "duration": 24,
    "start_time": "2023-06-16T12:39:55.849Z"
   },
   {
    "duration": 7,
    "start_time": "2023-06-16T12:40:32.749Z"
   },
   {
    "duration": 10,
    "start_time": "2023-06-16T12:44:42.424Z"
   },
   {
    "duration": 34,
    "start_time": "2023-06-16T12:45:13.071Z"
   },
   {
    "duration": 19,
    "start_time": "2023-06-16T12:45:23.394Z"
   },
   {
    "duration": 7,
    "start_time": "2023-06-16T12:45:31.245Z"
   },
   {
    "duration": 5,
    "start_time": "2023-06-16T12:45:58.949Z"
   },
   {
    "duration": 10,
    "start_time": "2023-06-16T12:46:28.230Z"
   },
   {
    "duration": 14,
    "start_time": "2023-06-16T12:46:36.668Z"
   },
   {
    "duration": 7,
    "start_time": "2023-06-16T12:48:42.137Z"
   },
   {
    "duration": 4,
    "start_time": "2023-06-16T12:48:47.614Z"
   },
   {
    "duration": 8,
    "start_time": "2023-06-16T12:49:02.335Z"
   },
   {
    "duration": 14,
    "start_time": "2023-06-16T12:49:19.750Z"
   },
   {
    "duration": 6,
    "start_time": "2023-06-16T12:49:25.054Z"
   },
   {
    "duration": 5,
    "start_time": "2023-06-16T12:55:22.176Z"
   },
   {
    "duration": 6,
    "start_time": "2023-06-16T12:57:51.904Z"
   },
   {
    "duration": 18,
    "start_time": "2023-06-16T13:02:49.305Z"
   },
   {
    "duration": 13,
    "start_time": "2023-06-16T13:03:26.254Z"
   },
   {
    "duration": 6,
    "start_time": "2023-06-16T13:04:19.849Z"
   },
   {
    "duration": 8,
    "start_time": "2023-06-16T13:04:29.812Z"
   },
   {
    "duration": 6,
    "start_time": "2023-06-16T13:05:22.156Z"
   },
   {
    "duration": 6,
    "start_time": "2023-06-16T13:08:30.312Z"
   },
   {
    "duration": 7,
    "start_time": "2023-06-16T13:08:39.703Z"
   },
   {
    "duration": 8,
    "start_time": "2023-06-16T13:08:46.689Z"
   },
   {
    "duration": 9,
    "start_time": "2023-06-16T13:11:47.304Z"
   },
   {
    "duration": 14,
    "start_time": "2023-06-16T13:12:09.805Z"
   },
   {
    "duration": 3,
    "start_time": "2023-06-16T13:15:47.309Z"
   },
   {
    "duration": 1230,
    "start_time": "2023-06-16T13:15:49.024Z"
   },
   {
    "duration": 1361,
    "start_time": "2023-06-16T13:15:55.132Z"
   },
   {
    "duration": 15,
    "start_time": "2023-06-16T13:15:59.232Z"
   },
   {
    "duration": 23,
    "start_time": "2023-06-16T13:16:04.503Z"
   },
   {
    "duration": 10,
    "start_time": "2023-06-16T13:16:16.887Z"
   },
   {
    "duration": 7,
    "start_time": "2023-06-16T13:20:00.805Z"
   },
   {
    "duration": 150,
    "start_time": "2023-06-16T13:20:03.172Z"
   },
   {
    "duration": 10,
    "start_time": "2023-06-16T13:22:14.876Z"
   },
   {
    "duration": 6,
    "start_time": "2023-06-16T13:22:16.261Z"
   },
   {
    "duration": 5,
    "start_time": "2023-06-16T13:31:41.752Z"
   },
   {
    "duration": 6,
    "start_time": "2023-06-16T13:33:22.320Z"
   },
   {
    "duration": 117,
    "start_time": "2023-06-16T13:33:39.320Z"
   },
   {
    "duration": 20,
    "start_time": "2023-06-16T13:39:38.770Z"
   },
   {
    "duration": 8,
    "start_time": "2023-06-16T13:40:01.256Z"
   },
   {
    "duration": 28,
    "start_time": "2023-06-16T14:16:32.675Z"
   },
   {
    "duration": 6,
    "start_time": "2023-06-16T14:18:22.868Z"
   },
   {
    "duration": 5,
    "start_time": "2023-06-16T14:19:37.613Z"
   },
   {
    "duration": 5,
    "start_time": "2023-06-16T14:40:42.867Z"
   },
   {
    "duration": 15,
    "start_time": "2023-06-16T14:40:49.989Z"
   },
   {
    "duration": 5,
    "start_time": "2023-06-16T14:41:00.867Z"
   },
   {
    "duration": 11,
    "start_time": "2023-06-16T14:41:07.771Z"
   },
   {
    "duration": 5,
    "start_time": "2023-06-16T14:41:31.337Z"
   },
   {
    "duration": 14,
    "start_time": "2023-06-16T14:41:36.956Z"
   },
   {
    "duration": 26,
    "start_time": "2023-06-16T14:44:08.074Z"
   },
   {
    "duration": 9,
    "start_time": "2023-06-16T14:45:16.331Z"
   },
   {
    "duration": 17,
    "start_time": "2023-06-16T14:45:40.563Z"
   },
   {
    "duration": 12,
    "start_time": "2023-06-16T14:45:48.590Z"
   },
   {
    "duration": 5,
    "start_time": "2023-06-16T14:45:51.235Z"
   },
   {
    "duration": 5,
    "start_time": "2023-06-16T14:45:52.833Z"
   },
   {
    "duration": 3,
    "start_time": "2023-06-16T14:46:03.451Z"
   },
   {
    "duration": 1181,
    "start_time": "2023-06-16T14:46:04.941Z"
   },
   {
    "duration": 12,
    "start_time": "2023-06-16T14:46:07.891Z"
   },
   {
    "duration": 21,
    "start_time": "2023-06-16T14:46:12.924Z"
   },
   {
    "duration": 5,
    "start_time": "2023-06-16T14:46:20.333Z"
   },
   {
    "duration": 6,
    "start_time": "2023-06-16T14:46:22.265Z"
   },
   {
    "duration": 121,
    "start_time": "2023-06-16T14:46:26.786Z"
   },
   {
    "duration": 6,
    "start_time": "2023-06-16T14:46:34.793Z"
   },
   {
    "duration": 4,
    "start_time": "2023-06-16T14:46:36.741Z"
   },
   {
    "duration": 5,
    "start_time": "2023-06-16T14:46:41.242Z"
   },
   {
    "duration": 6,
    "start_time": "2023-06-16T14:46:44.239Z"
   },
   {
    "duration": 174,
    "start_time": "2023-06-16T14:46:47.104Z"
   },
   {
    "duration": 12,
    "start_time": "2023-06-16T14:46:49.637Z"
   },
   {
    "duration": 10,
    "start_time": "2023-06-16T14:46:53.924Z"
   },
   {
    "duration": 3,
    "start_time": "2023-06-16T15:11:37.305Z"
   },
   {
    "duration": 8,
    "start_time": "2023-06-16T15:13:51.130Z"
   },
   {
    "duration": 6,
    "start_time": "2023-06-16T15:14:09.648Z"
   },
   {
    "duration": 7,
    "start_time": "2023-06-16T15:16:18.524Z"
   },
   {
    "duration": 7,
    "start_time": "2023-06-16T15:16:21.334Z"
   },
   {
    "duration": 5,
    "start_time": "2023-06-16T15:17:43.194Z"
   },
   {
    "duration": 13,
    "start_time": "2023-06-16T15:17:52.457Z"
   },
   {
    "duration": 5,
    "start_time": "2023-06-16T15:18:03.671Z"
   },
   {
    "duration": 10,
    "start_time": "2023-06-16T15:18:05.507Z"
   },
   {
    "duration": 5,
    "start_time": "2023-06-16T15:18:16.715Z"
   },
   {
    "duration": 5,
    "start_time": "2023-06-16T15:18:21.211Z"
   },
   {
    "duration": 12,
    "start_time": "2023-06-16T15:19:05.551Z"
   },
   {
    "duration": 9,
    "start_time": "2023-06-16T19:42:26.079Z"
   },
   {
    "duration": 7,
    "start_time": "2023-06-16T19:42:29.274Z"
   },
   {
    "duration": 6,
    "start_time": "2023-06-16T19:42:34.009Z"
   },
   {
    "duration": 3,
    "start_time": "2023-06-16T19:42:43.788Z"
   },
   {
    "duration": 1209,
    "start_time": "2023-06-16T19:42:45.644Z"
   },
   {
    "duration": 11,
    "start_time": "2023-06-16T19:42:48.650Z"
   },
   {
    "duration": 23,
    "start_time": "2023-06-16T19:42:51.628Z"
   },
   {
    "duration": 5,
    "start_time": "2023-06-16T19:42:54.094Z"
   },
   {
    "duration": 6,
    "start_time": "2023-06-16T19:42:56.406Z"
   },
   {
    "duration": 99,
    "start_time": "2023-06-16T19:42:58.400Z"
   },
   {
    "duration": 5,
    "start_time": "2023-06-16T19:43:01.173Z"
   },
   {
    "duration": 5,
    "start_time": "2023-06-16T19:43:03.681Z"
   },
   {
    "duration": 6,
    "start_time": "2023-06-16T19:43:11.984Z"
   },
   {
    "duration": 6,
    "start_time": "2023-06-16T19:43:13.847Z"
   },
   {
    "duration": 120,
    "start_time": "2023-06-16T19:43:17.380Z"
   },
   {
    "duration": 6,
    "start_time": "2023-06-16T19:43:22.124Z"
   },
   {
    "duration": 5,
    "start_time": "2023-06-16T19:43:32.173Z"
   },
   {
    "duration": 5,
    "start_time": "2023-06-16T19:43:34.077Z"
   },
   {
    "duration": 39,
    "start_time": "2023-06-16T19:43:45.844Z"
   },
   {
    "duration": 11,
    "start_time": "2023-06-16T19:44:11.950Z"
   },
   {
    "duration": 2,
    "start_time": "2023-06-16T19:44:42.932Z"
   },
   {
    "duration": 1185,
    "start_time": "2023-06-16T19:44:44.330Z"
   },
   {
    "duration": 13,
    "start_time": "2023-06-16T19:44:46.452Z"
   },
   {
    "duration": 35,
    "start_time": "2023-06-16T19:44:51.679Z"
   },
   {
    "duration": 5,
    "start_time": "2023-06-16T19:44:58.208Z"
   },
   {
    "duration": 5,
    "start_time": "2023-06-16T19:45:04.181Z"
   },
   {
    "duration": 102,
    "start_time": "2023-06-16T19:45:05.230Z"
   },
   {
    "duration": 6,
    "start_time": "2023-06-16T19:45:06.871Z"
   },
   {
    "duration": 5,
    "start_time": "2023-06-16T19:45:09.055Z"
   },
   {
    "duration": 9,
    "start_time": "2023-06-16T19:45:10.390Z"
   },
   {
    "duration": 6,
    "start_time": "2023-06-16T19:45:29.547Z"
   },
   {
    "duration": 5,
    "start_time": "2023-06-16T19:45:31.051Z"
   },
   {
    "duration": 110,
    "start_time": "2023-06-16T19:45:32.844Z"
   },
   {
    "duration": 7,
    "start_time": "2023-06-16T19:45:34.474Z"
   },
   {
    "duration": 5,
    "start_time": "2023-06-16T19:45:38.752Z"
   },
   {
    "duration": 5,
    "start_time": "2023-06-16T19:45:40.428Z"
   },
   {
    "duration": 4,
    "start_time": "2023-06-16T19:45:43.151Z"
   },
   {
    "duration": 7,
    "start_time": "2023-06-16T19:45:46.337Z"
   },
   {
    "duration": 15,
    "start_time": "2023-06-16T19:45:48.216Z"
   },
   {
    "duration": 10,
    "start_time": "2023-06-16T19:48:30.985Z"
   },
   {
    "duration": 10,
    "start_time": "2023-06-16T19:51:24.418Z"
   },
   {
    "duration": 8,
    "start_time": "2023-06-16T19:55:02.704Z"
   },
   {
    "duration": 5,
    "start_time": "2023-06-16T19:55:13.620Z"
   },
   {
    "duration": 5,
    "start_time": "2023-06-16T19:55:26.391Z"
   },
   {
    "duration": 72,
    "start_time": "2023-06-16T20:10:52.028Z"
   },
   {
    "duration": 12,
    "start_time": "2023-06-16T20:10:56.309Z"
   },
   {
    "duration": 19,
    "start_time": "2023-06-16T20:11:02.342Z"
   },
   {
    "duration": 2067,
    "start_time": "2023-06-16T20:11:33.286Z"
   },
   {
    "duration": 10,
    "start_time": "2023-06-16T20:21:15.033Z"
   },
   {
    "duration": 1225,
    "start_time": "2023-06-16T20:24:19.006Z"
   },
   {
    "duration": 9,
    "start_time": "2023-06-16T20:24:39.577Z"
   },
   {
    "duration": 5,
    "start_time": "2023-06-16T20:25:53.421Z"
   },
   {
    "duration": 11,
    "start_time": "2023-06-16T20:26:40.487Z"
   },
   {
    "duration": 5,
    "start_time": "2023-06-16T20:26:52.247Z"
   },
   {
    "duration": 10,
    "start_time": "2023-06-16T20:28:28.836Z"
   },
   {
    "duration": 9,
    "start_time": "2023-06-16T20:30:04.645Z"
   },
   {
    "duration": 7,
    "start_time": "2023-06-16T20:31:15.958Z"
   },
   {
    "duration": 81,
    "start_time": "2023-06-16T20:34:33.054Z"
   },
   {
    "duration": 1169,
    "start_time": "2023-06-16T20:37:39.792Z"
   },
   {
    "duration": 1248,
    "start_time": "2023-06-16T20:38:26.406Z"
   },
   {
    "duration": 10,
    "start_time": "2023-06-16T20:40:00.058Z"
   },
   {
    "duration": 9,
    "start_time": "2023-06-16T20:40:47.516Z"
   },
   {
    "duration": 4,
    "start_time": "2023-06-16T20:42:21.858Z"
   },
   {
    "duration": 4,
    "start_time": "2023-06-16T20:42:26.813Z"
   },
   {
    "duration": 15,
    "start_time": "2023-06-16T20:42:31.657Z"
   },
   {
    "duration": 12,
    "start_time": "2023-06-16T20:43:11.960Z"
   },
   {
    "duration": 9,
    "start_time": "2023-06-16T21:03:26.610Z"
   },
   {
    "duration": 3,
    "start_time": "2023-06-16T21:03:45.817Z"
   },
   {
    "duration": 11,
    "start_time": "2023-06-16T21:03:50.243Z"
   },
   {
    "duration": 73,
    "start_time": "2023-06-16T21:11:13.577Z"
   },
   {
    "duration": 103,
    "start_time": "2023-06-16T21:12:30.146Z"
   },
   {
    "duration": 92,
    "start_time": "2023-06-16T21:13:47.005Z"
   },
   {
    "duration": 84,
    "start_time": "2023-06-16T21:16:43.526Z"
   },
   {
    "duration": 83,
    "start_time": "2023-06-16T21:18:37.696Z"
   },
   {
    "duration": 16,
    "start_time": "2023-06-16T21:18:44.023Z"
   },
   {
    "duration": 158,
    "start_time": "2023-06-16T21:18:51.731Z"
   },
   {
    "duration": 141,
    "start_time": "2023-06-16T21:19:10.335Z"
   },
   {
    "duration": 147,
    "start_time": "2023-06-16T21:19:39.648Z"
   },
   {
    "duration": 153,
    "start_time": "2023-06-16T21:20:20.795Z"
   },
   {
    "duration": 151,
    "start_time": "2023-06-16T21:20:28.584Z"
   },
   {
    "duration": 142,
    "start_time": "2023-06-16T21:20:47.217Z"
   },
   {
    "duration": 133,
    "start_time": "2023-06-16T21:21:08.232Z"
   },
   {
    "duration": 139,
    "start_time": "2023-06-16T21:21:19.466Z"
   },
   {
    "duration": 3,
    "start_time": "2023-06-16T21:34:39.499Z"
   },
   {
    "duration": 963,
    "start_time": "2023-06-16T21:34:42.552Z"
   },
   {
    "duration": 11,
    "start_time": "2023-06-16T21:34:44.469Z"
   },
   {
    "duration": 21,
    "start_time": "2023-06-16T21:34:48.140Z"
   },
   {
    "duration": 5,
    "start_time": "2023-06-16T21:34:50.308Z"
   },
   {
    "duration": 5,
    "start_time": "2023-06-16T21:34:52.317Z"
   },
   {
    "duration": 128,
    "start_time": "2023-06-16T21:34:54.071Z"
   },
   {
    "duration": 7,
    "start_time": "2023-06-16T21:34:55.642Z"
   },
   {
    "duration": 5,
    "start_time": "2023-06-16T21:34:57.808Z"
   },
   {
    "duration": 6,
    "start_time": "2023-06-16T21:34:59.826Z"
   },
   {
    "duration": 6,
    "start_time": "2023-06-16T21:35:01.708Z"
   },
   {
    "duration": 113,
    "start_time": "2023-06-16T21:35:03.096Z"
   },
   {
    "duration": 8,
    "start_time": "2023-06-16T21:35:04.894Z"
   },
   {
    "duration": 6,
    "start_time": "2023-06-16T21:35:06.190Z"
   },
   {
    "duration": 5,
    "start_time": "2023-06-16T21:35:07.936Z"
   },
   {
    "duration": 6,
    "start_time": "2023-06-16T21:35:10.530Z"
   },
   {
    "duration": 13,
    "start_time": "2023-06-16T21:35:12.784Z"
   },
   {
    "duration": 11,
    "start_time": "2023-06-16T21:35:15.356Z"
   },
   {
    "duration": 9,
    "start_time": "2023-06-16T21:35:17.166Z"
   },
   {
    "duration": 11,
    "start_time": "2023-06-16T21:35:18.958Z"
   },
   {
    "duration": 11,
    "start_time": "2023-06-16T21:35:24.596Z"
   },
   {
    "duration": 7,
    "start_time": "2023-06-16T21:35:27.963Z"
   },
   {
    "duration": 10,
    "start_time": "2023-06-16T21:35:30.650Z"
   },
   {
    "duration": 9,
    "start_time": "2023-06-16T21:35:34.954Z"
   },
   {
    "duration": 16,
    "start_time": "2023-06-16T21:36:28.688Z"
   },
   {
    "duration": 169,
    "start_time": "2023-06-16T21:36:32.061Z"
   },
   {
    "duration": 12,
    "start_time": "2023-06-16T21:36:48.462Z"
   },
   {
    "duration": 159,
    "start_time": "2023-06-16T21:36:56.862Z"
   },
   {
    "duration": 14,
    "start_time": "2023-06-16T21:37:13.472Z"
   },
   {
    "duration": 15,
    "start_time": "2023-06-16T21:37:23.915Z"
   },
   {
    "duration": 12,
    "start_time": "2023-06-16T21:37:29.744Z"
   },
   {
    "duration": 156,
    "start_time": "2023-06-16T21:38:02.372Z"
   },
   {
    "duration": 144,
    "start_time": "2023-06-16T21:38:11.239Z"
   },
   {
    "duration": 760,
    "start_time": "2023-06-17T08:01:31.406Z"
   },
   {
    "duration": 1212,
    "start_time": "2023-06-17T08:01:33.370Z"
   },
   {
    "duration": 13,
    "start_time": "2023-06-17T08:01:36.174Z"
   },
   {
    "duration": 19,
    "start_time": "2023-06-17T08:01:39.120Z"
   },
   {
    "duration": 4,
    "start_time": "2023-06-17T08:01:42.235Z"
   },
   {
    "duration": 5,
    "start_time": "2023-06-17T08:01:43.950Z"
   },
   {
    "duration": 103,
    "start_time": "2023-06-17T08:01:45.700Z"
   },
   {
    "duration": 7,
    "start_time": "2023-06-17T08:01:47.610Z"
   },
   {
    "duration": 4,
    "start_time": "2023-06-17T08:01:49.310Z"
   },
   {
    "duration": 5,
    "start_time": "2023-06-17T08:01:50.910Z"
   },
   {
    "duration": 5,
    "start_time": "2023-06-17T08:01:52.895Z"
   },
   {
    "duration": 109,
    "start_time": "2023-06-17T08:01:55.055Z"
   },
   {
    "duration": 6,
    "start_time": "2023-06-17T08:01:57.215Z"
   },
   {
    "duration": 5,
    "start_time": "2023-06-17T08:01:58.754Z"
   },
   {
    "duration": 5,
    "start_time": "2023-06-17T08:02:00.491Z"
   },
   {
    "duration": 5,
    "start_time": "2023-06-17T08:02:02.023Z"
   },
   {
    "duration": 11,
    "start_time": "2023-06-17T08:02:03.745Z"
   },
   {
    "duration": 13,
    "start_time": "2023-06-17T08:02:07.245Z"
   },
   {
    "duration": 8,
    "start_time": "2023-06-17T08:02:14.505Z"
   },
   {
    "duration": 10,
    "start_time": "2023-06-17T08:02:17.093Z"
   },
   {
    "duration": 12,
    "start_time": "2023-06-17T08:02:19.865Z"
   },
   {
    "duration": 6,
    "start_time": "2023-06-17T08:02:21.695Z"
   },
   {
    "duration": 8,
    "start_time": "2023-06-17T08:02:23.379Z"
   },
   {
    "duration": 7,
    "start_time": "2023-06-17T08:02:25.194Z"
   },
   {
    "duration": 18,
    "start_time": "2023-06-17T08:02:27.292Z"
   },
   {
    "duration": 133,
    "start_time": "2023-06-17T08:03:23.634Z"
   },
   {
    "duration": 14,
    "start_time": "2023-06-17T08:07:30.364Z"
   },
   {
    "duration": 8,
    "start_time": "2023-06-17T08:10:01.440Z"
   },
   {
    "duration": 14,
    "start_time": "2023-06-17T08:13:25.821Z"
   },
   {
    "duration": 12,
    "start_time": "2023-06-17T08:15:02.504Z"
   },
   {
    "duration": 18,
    "start_time": "2023-06-17T08:18:05.652Z"
   },
   {
    "duration": 14,
    "start_time": "2023-06-17T08:18:16.577Z"
   },
   {
    "duration": 150,
    "start_time": "2023-06-17T08:18:20.309Z"
   },
   {
    "duration": 18,
    "start_time": "2023-06-17T08:18:22.926Z"
   },
   {
    "duration": 86,
    "start_time": "2023-06-17T08:25:09.008Z"
   },
   {
    "duration": 33,
    "start_time": "2023-06-17T08:25:22.149Z"
   },
   {
    "duration": 24,
    "start_time": "2023-06-17T08:25:36.373Z"
   },
   {
    "duration": 25,
    "start_time": "2023-06-17T08:28:01.810Z"
   },
   {
    "duration": 22,
    "start_time": "2023-06-17T08:30:37.503Z"
   },
   {
    "duration": 19,
    "start_time": "2023-06-17T08:31:07.867Z"
   },
   {
    "duration": 15,
    "start_time": "2023-06-17T08:31:20.423Z"
   },
   {
    "duration": 17,
    "start_time": "2023-06-17T08:31:32.422Z"
   },
   {
    "duration": 16,
    "start_time": "2023-06-17T08:33:25.178Z"
   },
   {
    "duration": 21,
    "start_time": "2023-06-17T08:45:43.605Z"
   },
   {
    "duration": 13,
    "start_time": "2023-06-17T08:45:50.710Z"
   },
   {
    "duration": 22,
    "start_time": "2023-06-17T08:48:54.686Z"
   },
   {
    "duration": 18,
    "start_time": "2023-06-17T08:50:10.944Z"
   },
   {
    "duration": 20,
    "start_time": "2023-06-17T08:50:52.824Z"
   },
   {
    "duration": 563,
    "start_time": "2023-06-17T08:55:29.367Z"
   },
   {
    "duration": 453,
    "start_time": "2023-06-17T08:55:33.529Z"
   },
   {
    "duration": 51,
    "start_time": "2023-06-17T08:56:15.530Z"
   },
   {
    "duration": 3,
    "start_time": "2023-06-17T09:08:29.290Z"
   },
   {
    "duration": 906,
    "start_time": "2023-06-17T09:08:30.614Z"
   },
   {
    "duration": 12,
    "start_time": "2023-06-17T09:08:32.733Z"
   },
   {
    "duration": 20,
    "start_time": "2023-06-17T09:08:34.919Z"
   },
   {
    "duration": 4,
    "start_time": "2023-06-17T09:08:39.304Z"
   },
   {
    "duration": 5,
    "start_time": "2023-06-17T09:08:41.954Z"
   },
   {
    "duration": 93,
    "start_time": "2023-06-17T09:08:44.114Z"
   },
   {
    "duration": 5,
    "start_time": "2023-06-17T09:08:46.192Z"
   },
   {
    "duration": 4,
    "start_time": "2023-06-17T09:08:48.129Z"
   },
   {
    "duration": 4,
    "start_time": "2023-06-17T09:08:49.434Z"
   },
   {
    "duration": 4,
    "start_time": "2023-06-17T09:08:50.929Z"
   },
   {
    "duration": 108,
    "start_time": "2023-06-17T09:08:52.263Z"
   },
   {
    "duration": 6,
    "start_time": "2023-06-17T09:08:53.993Z"
   },
   {
    "duration": 4,
    "start_time": "2023-06-17T09:08:55.748Z"
   },
   {
    "duration": 5,
    "start_time": "2023-06-17T09:08:56.913Z"
   },
   {
    "duration": 4,
    "start_time": "2023-06-17T09:08:58.494Z"
   },
   {
    "duration": 15,
    "start_time": "2023-06-17T09:09:00.296Z"
   },
   {
    "duration": 13,
    "start_time": "2023-06-17T09:09:01.914Z"
   },
   {
    "duration": 7,
    "start_time": "2023-06-17T09:09:03.659Z"
   },
   {
    "duration": 9,
    "start_time": "2023-06-17T09:09:05.028Z"
   },
   {
    "duration": 9,
    "start_time": "2023-06-17T09:09:06.456Z"
   },
   {
    "duration": 6,
    "start_time": "2023-06-17T09:09:07.899Z"
   },
   {
    "duration": 8,
    "start_time": "2023-06-17T09:09:09.414Z"
   },
   {
    "duration": 8,
    "start_time": "2023-06-17T09:09:10.985Z"
   },
   {
    "duration": 15,
    "start_time": "2023-06-17T09:09:12.990Z"
   },
   {
    "duration": 125,
    "start_time": "2023-06-17T09:09:15.164Z"
   },
   {
    "duration": 16,
    "start_time": "2023-06-17T09:09:17.263Z"
   },
   {
    "duration": 20,
    "start_time": "2023-06-17T09:09:19.260Z"
   },
   {
    "duration": 48,
    "start_time": "2023-06-17T09:09:21.249Z"
   },
   {
    "duration": 3,
    "start_time": "2023-06-17T10:23:10.709Z"
   },
   {
    "duration": 980,
    "start_time": "2023-06-17T10:23:12.702Z"
   },
   {
    "duration": 11,
    "start_time": "2023-06-17T10:23:15.108Z"
   },
   {
    "duration": 20,
    "start_time": "2023-06-17T10:23:17.164Z"
   },
   {
    "duration": 5,
    "start_time": "2023-06-17T10:23:20.401Z"
   },
   {
    "duration": 5,
    "start_time": "2023-06-17T10:23:23.149Z"
   },
   {
    "duration": 116,
    "start_time": "2023-06-17T10:23:24.562Z"
   },
   {
    "duration": 5,
    "start_time": "2023-06-17T10:23:26.129Z"
   },
   {
    "duration": 4,
    "start_time": "2023-06-17T10:23:28.479Z"
   },
   {
    "duration": 4,
    "start_time": "2023-06-17T10:23:30.249Z"
   },
   {
    "duration": 5,
    "start_time": "2023-06-17T10:23:31.721Z"
   },
   {
    "duration": 108,
    "start_time": "2023-06-17T10:23:33.200Z"
   },
   {
    "duration": 6,
    "start_time": "2023-06-17T10:23:37.016Z"
   },
   {
    "duration": 5,
    "start_time": "2023-06-17T10:23:38.499Z"
   },
   {
    "duration": 5,
    "start_time": "2023-06-17T10:23:41.947Z"
   },
   {
    "duration": 5,
    "start_time": "2023-06-17T10:23:43.561Z"
   },
   {
    "duration": 12,
    "start_time": "2023-06-17T10:23:45.594Z"
   },
   {
    "duration": 9,
    "start_time": "2023-06-17T10:23:47.175Z"
   },
   {
    "duration": 9,
    "start_time": "2023-06-17T10:23:49.345Z"
   },
   {
    "duration": 8,
    "start_time": "2023-06-17T10:23:51.749Z"
   },
   {
    "duration": 11,
    "start_time": "2023-06-17T10:23:53.461Z"
   },
   {
    "duration": 8,
    "start_time": "2023-06-17T10:23:54.904Z"
   },
   {
    "duration": 17,
    "start_time": "2023-06-17T10:23:56.654Z"
   },
   {
    "duration": 9,
    "start_time": "2023-06-17T10:23:58.400Z"
   },
   {
    "duration": 13,
    "start_time": "2023-06-17T10:24:00.102Z"
   },
   {
    "duration": 129,
    "start_time": "2023-06-17T10:24:02.141Z"
   },
   {
    "duration": 18,
    "start_time": "2023-06-17T10:24:07.553Z"
   },
   {
    "duration": 29,
    "start_time": "2023-06-17T10:24:17.612Z"
   },
   {
    "duration": 72,
    "start_time": "2023-06-17T10:24:19.549Z"
   },
   {
    "duration": 41,
    "start_time": "2023-06-17T10:24:23.749Z"
   },
   {
    "duration": 41,
    "start_time": "2023-06-17T10:24:32.941Z"
   },
   {
    "duration": 13,
    "start_time": "2023-06-17T10:27:08.001Z"
   },
   {
    "duration": 12,
    "start_time": "2023-06-17T10:27:13.015Z"
   },
   {
    "duration": 132,
    "start_time": "2023-06-17T10:27:15.861Z"
   },
   {
    "duration": 15,
    "start_time": "2023-06-17T10:27:21.489Z"
   },
   {
    "duration": 20,
    "start_time": "2023-06-17T10:27:23.965Z"
   },
   {
    "duration": 54,
    "start_time": "2023-06-17T10:27:26.357Z"
   },
   {
    "duration": 13,
    "start_time": "2023-06-17T10:29:56.419Z"
   },
   {
    "duration": 16,
    "start_time": "2023-06-17T10:31:04.381Z"
   },
   {
    "duration": 579,
    "start_time": "2023-06-17T10:32:17.481Z"
   },
   {
    "duration": 15,
    "start_time": "2023-06-17T10:32:36.249Z"
   },
   {
    "duration": 14,
    "start_time": "2023-06-17T10:35:18.019Z"
   },
   {
    "duration": 25,
    "start_time": "2023-06-17T10:37:47.169Z"
   },
   {
    "duration": 16,
    "start_time": "2023-06-17T10:38:52.452Z"
   },
   {
    "duration": 20,
    "start_time": "2023-06-17T10:38:54.919Z"
   },
   {
    "duration": 11,
    "start_time": "2023-06-17T10:42:32.539Z"
   },
   {
    "duration": 3,
    "start_time": "2023-06-17T10:47:07.345Z"
   },
   {
    "duration": 1213,
    "start_time": "2023-06-17T10:47:09.915Z"
   },
   {
    "duration": 12,
    "start_time": "2023-06-17T10:47:12.698Z"
   },
   {
    "duration": 29,
    "start_time": "2023-06-17T10:47:14.743Z"
   },
   {
    "duration": 5,
    "start_time": "2023-06-17T10:47:16.902Z"
   },
   {
    "duration": 6,
    "start_time": "2023-06-17T10:47:18.451Z"
   },
   {
    "duration": 94,
    "start_time": "2023-06-17T10:47:20.246Z"
   },
   {
    "duration": 5,
    "start_time": "2023-06-17T10:47:22.364Z"
   },
   {
    "duration": 4,
    "start_time": "2023-06-17T10:47:24.325Z"
   },
   {
    "duration": 5,
    "start_time": "2023-06-17T10:47:26.251Z"
   },
   {
    "duration": 4,
    "start_time": "2023-06-17T10:47:27.818Z"
   },
   {
    "duration": 104,
    "start_time": "2023-06-17T10:47:29.554Z"
   },
   {
    "duration": 6,
    "start_time": "2023-06-17T10:47:31.443Z"
   },
   {
    "duration": 5,
    "start_time": "2023-06-17T10:47:32.692Z"
   },
   {
    "duration": 5,
    "start_time": "2023-06-17T10:47:33.800Z"
   },
   {
    "duration": 5,
    "start_time": "2023-06-17T10:47:41.516Z"
   },
   {
    "duration": 5,
    "start_time": "2023-06-17T10:47:42.753Z"
   },
   {
    "duration": 11,
    "start_time": "2023-06-17T10:47:44.507Z"
   },
   {
    "duration": 9,
    "start_time": "2023-06-17T10:47:46.317Z"
   },
   {
    "duration": 14,
    "start_time": "2023-06-17T10:47:48.046Z"
   },
   {
    "duration": 7,
    "start_time": "2023-06-17T10:47:49.932Z"
   },
   {
    "duration": 8,
    "start_time": "2023-06-17T10:47:52.248Z"
   },
   {
    "duration": 6,
    "start_time": "2023-06-17T10:47:53.596Z"
   },
   {
    "duration": 9,
    "start_time": "2023-06-17T10:47:55.406Z"
   },
   {
    "duration": 11,
    "start_time": "2023-06-17T10:47:57.405Z"
   },
   {
    "duration": 16,
    "start_time": "2023-06-17T10:48:00.665Z"
   },
   {
    "duration": 165,
    "start_time": "2023-06-17T10:48:03.433Z"
   },
   {
    "duration": 16,
    "start_time": "2023-06-17T10:48:05.962Z"
   },
   {
    "duration": 23,
    "start_time": "2023-06-17T10:48:13.719Z"
   },
   {
    "duration": 43,
    "start_time": "2023-06-17T10:48:15.464Z"
   },
   {
    "duration": 16,
    "start_time": "2023-06-17T10:48:17.945Z"
   },
   {
    "duration": 20,
    "start_time": "2023-06-17T10:48:22.564Z"
   },
   {
    "duration": 11,
    "start_time": "2023-06-17T10:48:24.324Z"
   },
   {
    "duration": 67,
    "start_time": "2023-06-17T10:51:02.329Z"
   },
   {
    "duration": 14,
    "start_time": "2023-06-17T10:51:16.948Z"
   },
   {
    "duration": 5,
    "start_time": "2023-06-17T11:17:41.756Z"
   },
   {
    "duration": 5,
    "start_time": "2023-06-17T11:18:29.024Z"
   },
   {
    "duration": 13,
    "start_time": "2023-06-17T11:20:13.565Z"
   },
   {
    "duration": 1049,
    "start_time": "2023-06-17T11:28:56.257Z"
   },
   {
    "duration": 149,
    "start_time": "2023-06-17T11:31:12.206Z"
   },
   {
    "duration": 15,
    "start_time": "2023-06-17T11:35:25.394Z"
   },
   {
    "duration": 21,
    "start_time": "2023-06-17T11:38:20.991Z"
   },
   {
    "duration": 23,
    "start_time": "2023-06-17T11:39:18.898Z"
   },
   {
    "duration": 20,
    "start_time": "2023-06-17T11:39:25.785Z"
   },
   {
    "duration": 22,
    "start_time": "2023-06-17T11:39:49.538Z"
   },
   {
    "duration": 23,
    "start_time": "2023-06-17T11:40:10.044Z"
   },
   {
    "duration": 27,
    "start_time": "2023-06-17T12:29:55.521Z"
   },
   {
    "duration": 28,
    "start_time": "2023-06-17T12:30:20.670Z"
   },
   {
    "duration": 20,
    "start_time": "2023-06-17T12:30:50.282Z"
   },
   {
    "duration": 10,
    "start_time": "2023-06-17T12:56:16.690Z"
   },
   {
    "duration": 13,
    "start_time": "2023-06-17T12:58:54.060Z"
   },
   {
    "duration": 14,
    "start_time": "2023-06-17T12:59:00.939Z"
   },
   {
    "duration": 21,
    "start_time": "2023-06-17T13:01:00.842Z"
   },
   {
    "duration": 33,
    "start_time": "2023-06-17T13:04:00.382Z"
   },
   {
    "duration": 31,
    "start_time": "2023-06-17T13:04:20.432Z"
   },
   {
    "duration": 1199,
    "start_time": "2023-06-17T13:04:30.077Z"
   },
   {
    "duration": 1776,
    "start_time": "2023-06-17T13:05:01.973Z"
   },
   {
    "duration": 1190,
    "start_time": "2023-06-17T13:05:30.341Z"
   },
   {
    "duration": 1267,
    "start_time": "2023-06-17T13:06:01.542Z"
   },
   {
    "duration": 1172,
    "start_time": "2023-06-17T13:07:14.950Z"
   },
   {
    "duration": 13,
    "start_time": "2023-06-17T13:07:33.329Z"
   },
   {
    "duration": 16,
    "start_time": "2023-06-17T13:07:39.903Z"
   },
   {
    "duration": 25,
    "start_time": "2023-06-17T13:07:52.379Z"
   },
   {
    "duration": 85,
    "start_time": "2023-06-17T13:10:47.603Z"
   },
   {
    "duration": 12,
    "start_time": "2023-06-17T13:21:26.684Z"
   },
   {
    "duration": 13,
    "start_time": "2023-06-17T13:22:40.712Z"
   },
   {
    "duration": 20,
    "start_time": "2023-06-17T13:23:35.843Z"
   },
   {
    "duration": 23,
    "start_time": "2023-06-17T13:26:30.905Z"
   },
   {
    "duration": 1430,
    "start_time": "2023-06-18T07:31:39.688Z"
   },
   {
    "duration": 1107,
    "start_time": "2023-06-18T07:31:42.586Z"
   },
   {
    "duration": 19,
    "start_time": "2023-06-18T07:31:45.200Z"
   },
   {
    "duration": 31,
    "start_time": "2023-06-18T07:31:47.894Z"
   },
   {
    "duration": 6,
    "start_time": "2023-06-18T07:31:49.963Z"
   },
   {
    "duration": 6,
    "start_time": "2023-06-18T07:31:52.123Z"
   },
   {
    "duration": 164,
    "start_time": "2023-06-18T07:31:53.387Z"
   },
   {
    "duration": 7,
    "start_time": "2023-06-18T07:31:56.318Z"
   },
   {
    "duration": 6,
    "start_time": "2023-06-18T07:32:06.451Z"
   },
   {
    "duration": 6,
    "start_time": "2023-06-18T07:32:08.469Z"
   },
   {
    "duration": 6,
    "start_time": "2023-06-18T07:32:10.271Z"
   },
   {
    "duration": 161,
    "start_time": "2023-06-18T07:32:11.977Z"
   },
   {
    "duration": 10,
    "start_time": "2023-06-18T07:32:13.858Z"
   },
   {
    "duration": 7,
    "start_time": "2023-06-18T07:32:16.685Z"
   },
   {
    "duration": 6,
    "start_time": "2023-06-18T07:32:18.207Z"
   },
   {
    "duration": 6,
    "start_time": "2023-06-18T07:32:20.085Z"
   },
   {
    "duration": 17,
    "start_time": "2023-06-18T07:32:21.726Z"
   },
   {
    "duration": 10,
    "start_time": "2023-06-18T07:32:24.802Z"
   },
   {
    "duration": 8,
    "start_time": "2023-06-18T07:32:27.876Z"
   },
   {
    "duration": 8,
    "start_time": "2023-06-18T07:32:30.043Z"
   },
   {
    "duration": 11,
    "start_time": "2023-06-18T07:32:32.966Z"
   },
   {
    "duration": 9,
    "start_time": "2023-06-18T07:32:35.058Z"
   },
   {
    "duration": 8,
    "start_time": "2023-06-18T07:32:46.183Z"
   },
   {
    "duration": 9,
    "start_time": "2023-06-18T07:32:48.419Z"
   },
   {
    "duration": 13,
    "start_time": "2023-06-18T07:32:50.819Z"
   },
   {
    "duration": 146,
    "start_time": "2023-06-18T07:32:54.381Z"
   },
   {
    "duration": 17,
    "start_time": "2023-06-18T07:32:56.359Z"
   },
   {
    "duration": 22,
    "start_time": "2023-06-18T07:32:58.502Z"
   },
   {
    "duration": 452,
    "start_time": "2023-06-18T07:33:01.035Z"
   },
   {
    "duration": 16,
    "start_time": "2023-06-18T07:33:09.402Z"
   },
   {
    "duration": 23,
    "start_time": "2023-06-18T07:33:14.132Z"
   },
   {
    "duration": 16,
    "start_time": "2023-06-18T07:33:15.606Z"
   },
   {
    "duration": 9,
    "start_time": "2023-06-18T07:34:02.905Z"
   },
   {
    "duration": 4,
    "start_time": "2023-06-18T07:34:08.951Z"
   },
   {
    "duration": 14,
    "start_time": "2023-06-18T07:34:11.635Z"
   },
   {
    "duration": 180,
    "start_time": "2023-06-18T07:34:14.694Z"
   },
   {
    "duration": 16,
    "start_time": "2023-06-18T07:34:18.585Z"
   },
   {
    "duration": 24,
    "start_time": "2023-06-18T07:34:21.329Z"
   },
   {
    "duration": 10,
    "start_time": "2023-06-18T07:34:37.596Z"
   },
   {
    "duration": 149,
    "start_time": "2023-06-18T07:35:31.738Z"
   },
   {
    "duration": 69,
    "start_time": "2023-06-18T07:36:06.740Z"
   },
   {
    "duration": 79,
    "start_time": "2023-06-18T07:36:23.747Z"
   },
   {
    "duration": 49,
    "start_time": "2023-06-18T07:36:42.104Z"
   },
   {
    "duration": 10,
    "start_time": "2023-06-18T07:36:52.547Z"
   },
   {
    "duration": 14,
    "start_time": "2023-06-18T07:36:54.995Z"
   },
   {
    "duration": 21,
    "start_time": "2023-06-18T07:36:58.080Z"
   },
   {
    "duration": 9,
    "start_time": "2023-06-18T07:38:45.481Z"
   },
   {
    "duration": 10,
    "start_time": "2023-06-18T07:39:27.066Z"
   },
   {
    "duration": 10,
    "start_time": "2023-06-18T07:39:47.596Z"
   },
   {
    "duration": 15,
    "start_time": "2023-06-18T07:39:50.174Z"
   },
   {
    "duration": 21,
    "start_time": "2023-06-18T07:39:51.980Z"
   },
   {
    "duration": 9,
    "start_time": "2023-06-18T07:41:05.990Z"
   },
   {
    "duration": 17,
    "start_time": "2023-06-18T07:49:40.509Z"
   },
   {
    "duration": 7,
    "start_time": "2023-06-18T07:51:52.285Z"
   },
   {
    "duration": 18,
    "start_time": "2023-06-18T08:05:19.644Z"
   },
   {
    "duration": 135,
    "start_time": "2023-06-18T08:05:39.191Z"
   },
   {
    "duration": 165,
    "start_time": "2023-06-18T08:05:51.521Z"
   },
   {
    "duration": 28,
    "start_time": "2023-06-18T08:08:24.320Z"
   },
   {
    "duration": 15,
    "start_time": "2023-06-18T08:08:40.238Z"
   },
   {
    "duration": 16,
    "start_time": "2023-06-18T08:09:08.652Z"
   },
   {
    "duration": 30,
    "start_time": "2023-06-18T08:12:05.751Z"
   },
   {
    "duration": 48,
    "start_time": "2023-06-18T08:13:49.983Z"
   },
   {
    "duration": 1192,
    "start_time": "2023-06-18T08:14:15.331Z"
   },
   {
    "duration": 1028,
    "start_time": "2023-06-18T08:14:36.140Z"
   },
   {
    "duration": 32,
    "start_time": "2023-06-18T08:14:46.391Z"
   },
   {
    "duration": 25,
    "start_time": "2023-06-18T08:14:52.966Z"
   },
   {
    "duration": 49,
    "start_time": "2023-06-18T08:15:13.965Z"
   },
   {
    "duration": 21,
    "start_time": "2023-06-18T08:15:28.652Z"
   },
   {
    "duration": 12,
    "start_time": "2023-06-18T08:15:33.113Z"
   },
   {
    "duration": 26,
    "start_time": "2023-06-18T08:15:55.145Z"
   },
   {
    "duration": 28,
    "start_time": "2023-06-18T08:15:59.878Z"
   },
   {
    "duration": 45,
    "start_time": "2023-06-18T08:16:07.355Z"
   },
   {
    "duration": 24,
    "start_time": "2023-06-18T08:16:20.882Z"
   },
   {
    "duration": 9,
    "start_time": "2023-06-18T08:16:24.538Z"
   },
   {
    "duration": 21,
    "start_time": "2023-06-18T08:16:38.008Z"
   },
   {
    "duration": 13,
    "start_time": "2023-06-18T08:16:46.736Z"
   },
   {
    "duration": 28,
    "start_time": "2023-06-18T08:17:09.584Z"
   },
   {
    "duration": 47,
    "start_time": "2023-06-18T08:17:12.669Z"
   },
   {
    "duration": 58,
    "start_time": "2023-06-18T08:17:52.636Z"
   },
   {
    "duration": 22,
    "start_time": "2023-06-18T08:21:45.565Z"
   },
   {
    "duration": 25,
    "start_time": "2023-06-18T08:24:44.003Z"
   },
   {
    "duration": 25,
    "start_time": "2023-06-18T08:29:12.819Z"
   },
   {
    "duration": 35,
    "start_time": "2023-06-18T08:31:25.210Z"
   },
   {
    "duration": 36,
    "start_time": "2023-06-18T08:32:30.784Z"
   },
   {
    "duration": 22,
    "start_time": "2023-06-18T08:34:31.052Z"
   },
   {
    "duration": 62,
    "start_time": "2023-06-18T12:44:10.509Z"
   },
   {
    "duration": 9,
    "start_time": "2023-06-18T12:46:07.893Z"
   },
   {
    "duration": 49,
    "start_time": "2023-06-18T12:47:55.595Z"
   },
   {
    "duration": 10,
    "start_time": "2023-06-18T12:49:04.994Z"
   },
   {
    "duration": 1001,
    "start_time": "2023-06-18T12:49:55.704Z"
   },
   {
    "duration": 10,
    "start_time": "2023-06-18T12:50:14.403Z"
   },
   {
    "duration": 70,
    "start_time": "2023-06-18T12:51:36.936Z"
   },
   {
    "duration": 3,
    "start_time": "2023-06-18T13:07:48.795Z"
   },
   {
    "duration": 1217,
    "start_time": "2023-06-18T13:07:50.548Z"
   },
   {
    "duration": 13,
    "start_time": "2023-06-18T13:07:53.262Z"
   },
   {
    "duration": 20,
    "start_time": "2023-06-18T13:07:56.632Z"
   },
   {
    "duration": 5,
    "start_time": "2023-06-18T13:08:04.935Z"
   },
   {
    "duration": 5,
    "start_time": "2023-06-18T13:08:13.893Z"
   },
   {
    "duration": 106,
    "start_time": "2023-06-18T13:08:16.243Z"
   },
   {
    "duration": 6,
    "start_time": "2023-06-18T13:08:19.683Z"
   },
   {
    "duration": 5,
    "start_time": "2023-06-18T13:08:22.987Z"
   },
   {
    "duration": 5,
    "start_time": "2023-06-18T13:08:26.632Z"
   },
   {
    "duration": 6,
    "start_time": "2023-06-18T13:08:29.397Z"
   },
   {
    "duration": 111,
    "start_time": "2023-06-18T13:08:31.822Z"
   },
   {
    "duration": 6,
    "start_time": "2023-06-18T13:08:37.909Z"
   },
   {
    "duration": 5,
    "start_time": "2023-06-18T13:08:39.490Z"
   },
   {
    "duration": 5,
    "start_time": "2023-06-18T13:08:42.628Z"
   },
   {
    "duration": 4,
    "start_time": "2023-06-18T13:08:46.492Z"
   },
   {
    "duration": 12,
    "start_time": "2023-06-18T13:08:48.434Z"
   },
   {
    "duration": 9,
    "start_time": "2023-06-18T13:08:51.747Z"
   },
   {
    "duration": 8,
    "start_time": "2023-06-18T13:08:53.348Z"
   },
   {
    "duration": 8,
    "start_time": "2023-06-18T13:08:55.203Z"
   },
   {
    "duration": 9,
    "start_time": "2023-06-18T13:08:57.048Z"
   },
   {
    "duration": 8,
    "start_time": "2023-06-18T13:08:58.886Z"
   },
   {
    "duration": 8,
    "start_time": "2023-06-18T13:09:00.787Z"
   },
   {
    "duration": 9,
    "start_time": "2023-06-18T13:09:06.217Z"
   },
   {
    "duration": 11,
    "start_time": "2023-06-18T13:09:09.391Z"
   },
   {
    "duration": 153,
    "start_time": "2023-06-18T13:09:12.324Z"
   },
   {
    "duration": 138,
    "start_time": "2023-06-18T13:09:16.121Z"
   },
   {
    "duration": 153,
    "start_time": "2023-06-18T13:09:38.703Z"
   },
   {
    "duration": 195,
    "start_time": "2023-06-18T13:11:53.946Z"
   },
   {
    "duration": 115,
    "start_time": "2023-06-18T13:12:41.029Z"
   },
   {
    "duration": 10,
    "start_time": "2023-06-18T13:19:13.329Z"
   },
   {
    "duration": 14,
    "start_time": "2023-06-18T13:31:42.796Z"
   },
   {
    "duration": 17,
    "start_time": "2023-06-18T13:32:58.338Z"
   },
   {
    "duration": 9,
    "start_time": "2023-06-18T13:33:04.303Z"
   },
   {
    "duration": 16,
    "start_time": "2023-06-18T13:36:54.903Z"
   },
   {
    "duration": 14,
    "start_time": "2023-06-18T13:37:26.738Z"
   },
   {
    "duration": 16,
    "start_time": "2023-06-18T13:40:37.557Z"
   },
   {
    "duration": 26,
    "start_time": "2023-06-18T13:42:09.293Z"
   },
   {
    "duration": 21,
    "start_time": "2023-06-18T13:42:53.737Z"
   },
   {
    "duration": 20,
    "start_time": "2023-06-18T13:44:20.116Z"
   },
   {
    "duration": 24,
    "start_time": "2023-06-18T13:45:56.468Z"
   },
   {
    "duration": 21,
    "start_time": "2023-06-18T13:46:08.194Z"
   },
   {
    "duration": 33,
    "start_time": "2023-06-18T13:46:14.852Z"
   },
   {
    "duration": 46,
    "start_time": "2023-06-18T13:47:45.543Z"
   },
   {
    "duration": 32,
    "start_time": "2023-06-18T13:50:37.489Z"
   },
   {
    "duration": 169,
    "start_time": "2023-06-18T13:51:51.791Z"
   },
   {
    "duration": 195,
    "start_time": "2023-06-18T13:54:30.785Z"
   },
   {
    "duration": 310,
    "start_time": "2023-06-18T13:56:14.965Z"
   },
   {
    "duration": 181,
    "start_time": "2023-06-18T13:56:34.955Z"
   },
   {
    "duration": 175,
    "start_time": "2023-06-18T13:56:46.541Z"
   },
   {
    "duration": 175,
    "start_time": "2023-06-18T13:57:19.409Z"
   },
   {
    "duration": 183,
    "start_time": "2023-06-18T13:57:26.896Z"
   },
   {
    "duration": 192,
    "start_time": "2023-06-18T13:59:15.558Z"
   },
   {
    "duration": 1387,
    "start_time": "2023-06-18T14:02:11.037Z"
   },
   {
    "duration": 194,
    "start_time": "2023-06-18T14:02:23.401Z"
   },
   {
    "duration": 1405,
    "start_time": "2023-06-18T18:35:56.848Z"
   },
   {
    "duration": 935,
    "start_time": "2023-06-18T18:36:00.371Z"
   },
   {
    "duration": 13,
    "start_time": "2023-06-18T18:36:03.141Z"
   },
   {
    "duration": 23,
    "start_time": "2023-06-18T18:36:05.215Z"
   },
   {
    "duration": 5,
    "start_time": "2023-06-18T18:36:07.345Z"
   },
   {
    "duration": 5,
    "start_time": "2023-06-18T18:36:09.186Z"
   },
   {
    "duration": 122,
    "start_time": "2023-06-18T18:36:10.467Z"
   },
   {
    "duration": 5,
    "start_time": "2023-06-18T18:36:12.773Z"
   },
   {
    "duration": 4,
    "start_time": "2023-06-18T18:36:14.183Z"
   },
   {
    "duration": 7,
    "start_time": "2023-06-18T18:36:24.009Z"
   },
   {
    "duration": 5,
    "start_time": "2023-06-18T18:36:26.314Z"
   },
   {
    "duration": 107,
    "start_time": "2023-06-18T18:36:27.593Z"
   },
   {
    "duration": 7,
    "start_time": "2023-06-18T18:36:31.530Z"
   },
   {
    "duration": 6,
    "start_time": "2023-06-18T18:36:32.735Z"
   },
   {
    "duration": 6,
    "start_time": "2023-06-18T18:36:33.977Z"
   },
   {
    "duration": 5,
    "start_time": "2023-06-18T18:36:41.768Z"
   },
   {
    "duration": 11,
    "start_time": "2023-06-18T18:36:43.914Z"
   },
   {
    "duration": 10,
    "start_time": "2023-06-18T18:36:46.313Z"
   },
   {
    "duration": 9,
    "start_time": "2023-06-18T18:36:48.170Z"
   },
   {
    "duration": 9,
    "start_time": "2023-06-18T18:36:49.921Z"
   },
   {
    "duration": 9,
    "start_time": "2023-06-18T18:36:55.998Z"
   },
   {
    "duration": 6,
    "start_time": "2023-06-18T18:36:57.916Z"
   },
   {
    "duration": 8,
    "start_time": "2023-06-18T18:37:00.003Z"
   },
   {
    "duration": 9,
    "start_time": "2023-06-18T18:37:02.112Z"
   },
   {
    "duration": 12,
    "start_time": "2023-06-18T18:37:04.118Z"
   },
   {
    "duration": 136,
    "start_time": "2023-06-18T18:37:06.941Z"
   },
   {
    "duration": 15,
    "start_time": "2023-06-18T18:37:09.601Z"
   },
   {
    "duration": 24,
    "start_time": "2023-06-18T18:37:21.861Z"
   },
   {
    "duration": 467,
    "start_time": "2023-06-18T18:37:23.450Z"
   },
   {
    "duration": 145,
    "start_time": "2023-06-18T18:37:35.167Z"
   },
   {
    "duration": 21,
    "start_time": "2023-06-18T18:37:48.353Z"
   },
   {
    "duration": 25,
    "start_time": "2023-06-18T18:37:51.591Z"
   },
   {
    "duration": 18,
    "start_time": "2023-06-18T18:37:54.173Z"
   },
   {
    "duration": 5,
    "start_time": "2023-06-18T18:37:57.067Z"
   },
   {
    "duration": 12,
    "start_time": "2023-06-18T18:37:59.053Z"
   },
   {
    "duration": 165,
    "start_time": "2023-06-18T18:38:04.812Z"
   },
   {
    "duration": 15,
    "start_time": "2023-06-18T18:38:10.043Z"
   },
   {
    "duration": 23,
    "start_time": "2023-06-18T18:38:12.435Z"
   },
   {
    "duration": 52,
    "start_time": "2023-06-18T18:38:15.322Z"
   },
   {
    "duration": 10,
    "start_time": "2023-06-18T18:38:28.955Z"
   },
   {
    "duration": 14,
    "start_time": "2023-06-18T18:38:33.411Z"
   },
   {
    "duration": 22,
    "start_time": "2023-06-18T18:38:45.931Z"
   },
   {
    "duration": 10,
    "start_time": "2023-06-18T18:38:51.858Z"
   },
   {
    "duration": 10,
    "start_time": "2023-06-18T18:38:56.508Z"
   },
   {
    "duration": 16,
    "start_time": "2023-06-18T18:38:58.556Z"
   },
   {
    "duration": 21,
    "start_time": "2023-06-18T18:39:01.632Z"
   },
   {
    "duration": 11,
    "start_time": "2023-06-18T18:39:03.673Z"
   },
   {
    "duration": 14,
    "start_time": "2023-06-18T18:39:08.148Z"
   },
   {
    "duration": 119,
    "start_time": "2023-06-18T18:39:11.436Z"
   },
   {
    "duration": 15,
    "start_time": "2023-06-18T18:39:13.542Z"
   },
   {
    "duration": 21,
    "start_time": "2023-06-18T18:39:15.981Z"
   },
   {
    "duration": 47,
    "start_time": "2023-06-18T18:39:18.554Z"
   },
   {
    "duration": 23,
    "start_time": "2023-06-18T18:39:21.787Z"
   },
   {
    "duration": 47,
    "start_time": "2023-06-18T18:39:23.697Z"
   },
   {
    "duration": 23,
    "start_time": "2023-06-18T18:39:26.611Z"
   },
   {
    "duration": 10,
    "start_time": "2023-06-18T18:39:28.731Z"
   },
   {
    "duration": 22,
    "start_time": "2023-06-18T18:39:31.891Z"
   },
   {
    "duration": 47,
    "start_time": "2023-06-18T18:39:34.126Z"
   },
   {
    "duration": 24,
    "start_time": "2023-06-18T18:39:36.431Z"
   },
   {
    "duration": 12,
    "start_time": "2023-06-18T18:39:38.219Z"
   },
   {
    "duration": 22,
    "start_time": "2023-06-18T18:39:41.287Z"
   },
   {
    "duration": 9,
    "start_time": "2023-06-18T18:39:43.685Z"
   },
   {
    "duration": 23,
    "start_time": "2023-06-18T18:39:47.083Z"
   },
   {
    "duration": 47,
    "start_time": "2023-06-18T18:39:49.096Z"
   },
   {
    "duration": 3,
    "start_time": "2023-06-18T19:11:54.655Z"
   },
   {
    "duration": 1775,
    "start_time": "2023-06-18T19:11:56.208Z"
   },
   {
    "duration": 13,
    "start_time": "2023-06-18T19:12:01.977Z"
   },
   {
    "duration": 24,
    "start_time": "2023-06-18T19:12:05.283Z"
   },
   {
    "duration": 5,
    "start_time": "2023-06-18T19:12:07.714Z"
   },
   {
    "duration": 5,
    "start_time": "2023-06-18T19:12:09.780Z"
   },
   {
    "duration": 102,
    "start_time": "2023-06-18T19:12:11.629Z"
   },
   {
    "duration": 5,
    "start_time": "2023-06-18T19:12:13.785Z"
   },
   {
    "duration": 5,
    "start_time": "2023-06-18T19:12:15.202Z"
   },
   {
    "duration": 5,
    "start_time": "2023-06-18T19:12:17.077Z"
   },
   {
    "duration": 7,
    "start_time": "2023-06-18T19:12:18.693Z"
   },
   {
    "duration": 123,
    "start_time": "2023-06-18T19:12:20.335Z"
   },
   {
    "duration": 7,
    "start_time": "2023-06-18T19:12:22.506Z"
   },
   {
    "duration": 5,
    "start_time": "2023-06-18T19:12:24.339Z"
   },
   {
    "duration": 5,
    "start_time": "2023-06-18T19:12:26.597Z"
   },
   {
    "duration": 5,
    "start_time": "2023-06-18T19:12:29.825Z"
   },
   {
    "duration": 14,
    "start_time": "2023-06-18T19:12:32.430Z"
   },
   {
    "duration": 9,
    "start_time": "2023-06-18T19:12:35.655Z"
   },
   {
    "duration": 11,
    "start_time": "2023-06-18T19:12:37.446Z"
   },
   {
    "duration": 9,
    "start_time": "2023-06-18T19:12:39.193Z"
   },
   {
    "duration": 11,
    "start_time": "2023-06-18T19:12:41.197Z"
   },
   {
    "duration": 8,
    "start_time": "2023-06-18T19:12:43.289Z"
   },
   {
    "duration": 8,
    "start_time": "2023-06-18T19:12:53.571Z"
   },
   {
    "duration": 10,
    "start_time": "2023-06-18T19:12:57.088Z"
   },
   {
    "duration": 14,
    "start_time": "2023-06-18T19:13:00.796Z"
   },
   {
    "duration": 146,
    "start_time": "2023-06-18T19:13:04.790Z"
   },
   {
    "duration": 15,
    "start_time": "2023-06-18T19:13:08.636Z"
   },
   {
    "duration": 30,
    "start_time": "2023-06-18T19:13:48.398Z"
   },
   {
    "duration": 51,
    "start_time": "2023-06-18T19:14:08.950Z"
   },
   {
    "duration": 171,
    "start_time": "2023-06-18T19:15:14.947Z"
   },
   {
    "duration": 18,
    "start_time": "2023-06-18T19:16:11.861Z"
   },
   {
    "duration": 25,
    "start_time": "2023-06-18T19:16:55.124Z"
   },
   {
    "duration": 1347,
    "start_time": "2023-06-18T19:17:42.898Z"
   },
   {
    "duration": 9,
    "start_time": "2023-06-18T19:17:51.948Z"
   },
   {
    "duration": 5,
    "start_time": "2023-06-18T19:18:12.351Z"
   },
   {
    "duration": 13,
    "start_time": "2023-06-18T19:18:17.999Z"
   },
   {
    "duration": 166,
    "start_time": "2023-06-18T19:18:22.137Z"
   },
   {
    "duration": 156,
    "start_time": "2023-06-18T19:18:28.797Z"
   },
   {
    "duration": 17,
    "start_time": "2023-06-18T19:18:32.123Z"
   },
   {
    "duration": 23,
    "start_time": "2023-06-18T19:19:13.497Z"
   },
   {
    "duration": 48,
    "start_time": "2023-06-18T19:19:47.199Z"
   },
   {
    "duration": 10,
    "start_time": "2023-06-18T19:19:58.794Z"
   },
   {
    "duration": 18,
    "start_time": "2023-06-18T19:20:11.095Z"
   },
   {
    "duration": 22,
    "start_time": "2023-06-18T19:20:53.045Z"
   },
   {
    "duration": 11,
    "start_time": "2023-06-18T19:22:03.148Z"
   },
   {
    "duration": 10,
    "start_time": "2023-06-18T19:22:16.750Z"
   },
   {
    "duration": 15,
    "start_time": "2023-06-18T19:22:20.026Z"
   },
   {
    "duration": 23,
    "start_time": "2023-06-18T19:23:00.200Z"
   },
   {
    "duration": 10,
    "start_time": "2023-06-18T19:23:51.818Z"
   },
   {
    "duration": 14,
    "start_time": "2023-06-18T19:24:03.860Z"
   },
   {
    "duration": 139,
    "start_time": "2023-06-18T19:24:06.208Z"
   },
   {
    "duration": 18,
    "start_time": "2023-06-18T19:24:08.900Z"
   },
   {
    "duration": 23,
    "start_time": "2023-06-18T19:24:50.258Z"
   },
   {
    "duration": 45,
    "start_time": "2023-06-18T19:25:09.809Z"
   },
   {
    "duration": 29,
    "start_time": "2023-06-18T19:25:54.656Z"
   },
   {
    "duration": 50,
    "start_time": "2023-06-18T19:26:40.923Z"
   },
   {
    "duration": 25,
    "start_time": "2023-06-18T19:27:16.728Z"
   },
   {
    "duration": 10,
    "start_time": "2023-06-18T19:27:50.646Z"
   },
   {
    "duration": 22,
    "start_time": "2023-06-18T19:28:25.455Z"
   },
   {
    "duration": 20,
    "start_time": "2023-06-18T19:28:34.067Z"
   },
   {
    "duration": 46,
    "start_time": "2023-06-18T19:29:06.250Z"
   },
   {
    "duration": 21,
    "start_time": "2023-06-18T19:29:55.506Z"
   },
   {
    "duration": 9,
    "start_time": "2023-06-18T19:30:43.095Z"
   },
   {
    "duration": 24,
    "start_time": "2023-06-18T19:31:34.715Z"
   },
   {
    "duration": 10,
    "start_time": "2023-06-18T19:31:54.625Z"
   },
   {
    "duration": 23,
    "start_time": "2023-06-18T19:32:36.710Z"
   },
   {
    "duration": 58,
    "start_time": "2023-06-18T19:32:44.518Z"
   },
   {
    "duration": 1355,
    "start_time": "2023-06-19T09:39:24.650Z"
   },
   {
    "duration": 944,
    "start_time": "2023-06-19T09:39:27.674Z"
   },
   {
    "duration": 17,
    "start_time": "2023-06-19T09:39:30.994Z"
   },
   {
    "duration": 14,
    "start_time": "2023-06-19T09:39:51.105Z"
   },
   {
    "duration": 5,
    "start_time": "2023-06-19T09:39:56.406Z"
   },
   {
    "duration": 5,
    "start_time": "2023-06-19T09:39:58.930Z"
   },
   {
    "duration": 118,
    "start_time": "2023-06-19T09:40:00.666Z"
   },
   {
    "duration": 7,
    "start_time": "2023-06-19T09:40:02.422Z"
   },
   {
    "duration": 5,
    "start_time": "2023-06-19T09:40:03.690Z"
   },
   {
    "duration": 5,
    "start_time": "2023-06-19T09:40:05.806Z"
   },
   {
    "duration": 6,
    "start_time": "2023-06-19T09:40:07.649Z"
   },
   {
    "duration": 108,
    "start_time": "2023-06-19T09:40:09.258Z"
   },
   {
    "duration": 7,
    "start_time": "2023-06-19T09:40:11.023Z"
   },
   {
    "duration": 6,
    "start_time": "2023-06-19T09:40:12.490Z"
   },
   {
    "duration": 6,
    "start_time": "2023-06-19T09:40:14.538Z"
   },
   {
    "duration": 4,
    "start_time": "2023-06-19T09:40:17.056Z"
   },
   {
    "duration": 12,
    "start_time": "2023-06-19T09:40:22.145Z"
   },
   {
    "duration": 12,
    "start_time": "2023-06-19T09:40:25.286Z"
   },
   {
    "duration": 9,
    "start_time": "2023-06-19T09:40:30.150Z"
   },
   {
    "duration": 9,
    "start_time": "2023-06-19T09:40:31.790Z"
   },
   {
    "duration": 9,
    "start_time": "2023-06-19T09:40:33.711Z"
   },
   {
    "duration": 7,
    "start_time": "2023-06-19T09:40:35.790Z"
   },
   {
    "duration": 11,
    "start_time": "2023-06-19T09:40:42.106Z"
   },
   {
    "duration": 9,
    "start_time": "2023-06-19T09:40:44.326Z"
   },
   {
    "duration": 9,
    "start_time": "2023-06-19T09:40:53.115Z"
   },
   {
    "duration": 148,
    "start_time": "2023-06-19T09:40:55.805Z"
   },
   {
    "duration": 141,
    "start_time": "2023-06-19T09:41:01.223Z"
   },
   {
    "duration": 17,
    "start_time": "2023-06-19T09:41:05.574Z"
   },
   {
    "duration": 124,
    "start_time": "2023-06-19T09:41:07.369Z"
   },
   {
    "duration": 25,
    "start_time": "2023-06-19T09:41:15.785Z"
   },
   {
    "duration": 463,
    "start_time": "2023-06-19T09:41:21.009Z"
   },
   {
    "duration": 165,
    "start_time": "2023-06-19T09:41:27.517Z"
   },
   {
    "duration": 20,
    "start_time": "2023-06-19T09:41:29.404Z"
   },
   {
    "duration": 24,
    "start_time": "2023-06-19T09:41:32.385Z"
   },
   {
    "duration": 12,
    "start_time": "2023-06-19T09:41:34.486Z"
   },
   {
    "duration": 5,
    "start_time": "2023-06-19T09:41:37.950Z"
   },
   {
    "duration": 13,
    "start_time": "2023-06-19T09:41:40.288Z"
   },
   {
    "duration": 176,
    "start_time": "2023-06-19T09:41:42.328Z"
   },
   {
    "duration": 16,
    "start_time": "2023-06-19T09:41:44.857Z"
   },
   {
    "duration": 22,
    "start_time": "2023-06-19T09:41:46.510Z"
   },
   {
    "duration": 53,
    "start_time": "2023-06-19T09:41:48.238Z"
   },
   {
    "duration": 12,
    "start_time": "2023-06-19T09:41:50.607Z"
   },
   {
    "duration": 17,
    "start_time": "2023-06-19T09:41:58.195Z"
   },
   {
    "duration": 9,
    "start_time": "2023-06-19T09:42:05.851Z"
   },
   {
    "duration": 9,
    "start_time": "2023-06-19T09:42:16.297Z"
   },
   {
    "duration": 16,
    "start_time": "2023-06-19T09:42:18.548Z"
   },
   {
    "duration": 25,
    "start_time": "2023-06-19T09:42:20.300Z"
   },
   {
    "duration": 11,
    "start_time": "2023-06-19T09:42:22.272Z"
   },
   {
    "duration": 9,
    "start_time": "2023-06-19T09:42:28.604Z"
   },
   {
    "duration": 17,
    "start_time": "2023-06-19T09:42:30.340Z"
   },
   {
    "duration": 22,
    "start_time": "2023-06-19T09:42:32.301Z"
   },
   {
    "duration": 10,
    "start_time": "2023-06-19T09:42:33.707Z"
   },
   {
    "duration": 11,
    "start_time": "2023-06-19T09:42:38.243Z"
   },
   {
    "duration": 134,
    "start_time": "2023-06-19T09:42:39.816Z"
   },
   {
    "duration": 134,
    "start_time": "2023-06-19T09:42:43.634Z"
   },
   {
    "duration": 27,
    "start_time": "2023-06-19T09:42:45.625Z"
   },
   {
    "duration": 36,
    "start_time": "2023-06-19T09:42:47.996Z"
   },
   {
    "duration": 47,
    "start_time": "2023-06-19T09:42:50.042Z"
   },
   {
    "duration": 36,
    "start_time": "2023-06-19T09:42:52.090Z"
   },
   {
    "duration": 83,
    "start_time": "2023-06-19T09:42:57.691Z"
   },
   {
    "duration": 25,
    "start_time": "2023-06-19T09:43:00.349Z"
   },
   {
    "duration": 12,
    "start_time": "2023-06-19T09:43:03.503Z"
   },
   {
    "duration": 73,
    "start_time": "2023-06-19T09:43:06.149Z"
   },
   {
    "duration": 21,
    "start_time": "2023-06-19T09:43:34.796Z"
   },
   {
    "duration": 22,
    "start_time": "2023-06-19T09:45:18.386Z"
   },
   {
    "duration": 21,
    "start_time": "2023-06-19T09:45:27.394Z"
   },
   {
    "duration": 3,
    "start_time": "2023-06-19T09:46:08.942Z"
   },
   {
    "duration": 1193,
    "start_time": "2023-06-19T09:46:10.331Z"
   },
   {
    "duration": 14,
    "start_time": "2023-06-19T09:46:12.958Z"
   },
   {
    "duration": 14,
    "start_time": "2023-06-19T09:46:15.386Z"
   },
   {
    "duration": 7,
    "start_time": "2023-06-19T09:46:17.408Z"
   },
   {
    "duration": 6,
    "start_time": "2023-06-19T09:46:18.962Z"
   },
   {
    "duration": 150,
    "start_time": "2023-06-19T09:46:20.599Z"
   },
   {
    "duration": 6,
    "start_time": "2023-06-19T09:46:22.229Z"
   },
   {
    "duration": 5,
    "start_time": "2023-06-19T09:46:23.547Z"
   },
   {
    "duration": 6,
    "start_time": "2023-06-19T09:46:25.104Z"
   },
   {
    "duration": 5,
    "start_time": "2023-06-19T09:46:26.848Z"
   },
   {
    "duration": 114,
    "start_time": "2023-06-19T09:46:28.446Z"
   },
   {
    "duration": 7,
    "start_time": "2023-06-19T09:46:30.830Z"
   },
   {
    "duration": 5,
    "start_time": "2023-06-19T09:46:31.997Z"
   },
   {
    "duration": 5,
    "start_time": "2023-06-19T09:46:33.086Z"
   },
   {
    "duration": 4,
    "start_time": "2023-06-19T09:46:34.415Z"
   },
   {
    "duration": 11,
    "start_time": "2023-06-19T09:46:36.780Z"
   },
   {
    "duration": 11,
    "start_time": "2023-06-19T09:46:38.429Z"
   },
   {
    "duration": 8,
    "start_time": "2023-06-19T09:46:39.838Z"
   },
   {
    "duration": 9,
    "start_time": "2023-06-19T09:46:43.409Z"
   },
   {
    "duration": 9,
    "start_time": "2023-06-19T09:46:44.853Z"
   },
   {
    "duration": 6,
    "start_time": "2023-06-19T09:46:46.494Z"
   },
   {
    "duration": 8,
    "start_time": "2023-06-19T09:46:48.319Z"
   },
   {
    "duration": 8,
    "start_time": "2023-06-19T09:46:50.336Z"
   },
   {
    "duration": 10,
    "start_time": "2023-06-19T09:46:52.021Z"
   },
   {
    "duration": 160,
    "start_time": "2023-06-19T09:46:53.708Z"
   },
   {
    "duration": 16,
    "start_time": "2023-06-19T09:46:55.986Z"
   },
   {
    "duration": 24,
    "start_time": "2023-06-19T09:46:57.830Z"
   },
   {
    "duration": 52,
    "start_time": "2023-06-19T09:47:01.594Z"
   },
   {
    "duration": 172,
    "start_time": "2023-06-19T09:47:06.096Z"
   },
   {
    "duration": 17,
    "start_time": "2023-06-19T09:47:08.196Z"
   },
   {
    "duration": 23,
    "start_time": "2023-06-19T09:47:09.945Z"
   },
   {
    "duration": 9,
    "start_time": "2023-06-19T09:47:13.335Z"
   },
   {
    "duration": 5,
    "start_time": "2023-06-19T09:47:15.186Z"
   },
   {
    "duration": 9,
    "start_time": "2023-06-19T09:47:16.747Z"
   },
   {
    "duration": 187,
    "start_time": "2023-06-19T09:47:18.899Z"
   },
   {
    "duration": 16,
    "start_time": "2023-06-19T09:47:23.790Z"
   },
   {
    "duration": 23,
    "start_time": "2023-06-19T09:47:26.528Z"
   },
   {
    "duration": 51,
    "start_time": "2023-06-19T09:47:34.002Z"
   },
   {
    "duration": 11,
    "start_time": "2023-06-19T09:47:37.597Z"
   },
   {
    "duration": 22,
    "start_time": "2023-06-19T09:47:40.093Z"
   },
   {
    "duration": 29,
    "start_time": "2023-06-19T09:47:43.499Z"
   },
   {
    "duration": 12,
    "start_time": "2023-06-19T09:47:46.034Z"
   },
   {
    "duration": 9,
    "start_time": "2023-06-19T09:47:48.486Z"
   },
   {
    "duration": 17,
    "start_time": "2023-06-19T09:47:50.090Z"
   },
   {
    "duration": 26,
    "start_time": "2023-06-19T09:47:52.495Z"
   },
   {
    "duration": 9,
    "start_time": "2023-06-19T09:47:54.154Z"
   },
   {
    "duration": 10,
    "start_time": "2023-06-19T09:47:56.090Z"
   },
   {
    "duration": 151,
    "start_time": "2023-06-19T09:48:00.438Z"
   },
   {
    "duration": 22,
    "start_time": "2023-06-19T09:48:03.324Z"
   },
   {
    "duration": 24,
    "start_time": "2023-06-19T09:48:05.047Z"
   },
   {
    "duration": 68,
    "start_time": "2023-06-19T09:48:06.693Z"
   },
   {
    "duration": 31,
    "start_time": "2023-06-19T09:48:09.103Z"
   },
   {
    "duration": 63,
    "start_time": "2023-06-19T09:48:11.152Z"
   },
   {
    "duration": 24,
    "start_time": "2023-06-19T09:48:13.939Z"
   },
   {
    "duration": 11,
    "start_time": "2023-06-19T09:48:15.735Z"
   },
   {
    "duration": 24,
    "start_time": "2023-06-19T09:48:17.546Z"
   },
   {
    "duration": 53,
    "start_time": "2023-06-19T09:48:19.500Z"
   },
   {
    "duration": 31,
    "start_time": "2023-06-19T09:48:22.593Z"
   },
   {
    "duration": 13,
    "start_time": "2023-06-19T09:48:24.607Z"
   },
   {
    "duration": 29,
    "start_time": "2023-06-19T09:48:26.490Z"
   },
   {
    "duration": 12,
    "start_time": "2023-06-19T09:48:28.200Z"
   },
   {
    "duration": 22,
    "start_time": "2023-06-19T09:48:30.356Z"
   },
   {
    "duration": 47,
    "start_time": "2023-06-19T09:48:32.326Z"
   },
   {
    "duration": 53,
    "start_time": "2023-06-19T13:20:10.012Z"
   },
   {
    "duration": 1613,
    "start_time": "2023-06-19T13:20:18.647Z"
   },
   {
    "duration": 1237,
    "start_time": "2023-06-19T13:20:21.649Z"
   },
   {
    "duration": 23,
    "start_time": "2023-06-19T13:20:24.398Z"
   },
   {
    "duration": 20,
    "start_time": "2023-06-19T13:20:27.213Z"
   },
   {
    "duration": 6,
    "start_time": "2023-06-19T13:20:29.519Z"
   },
   {
    "duration": 6,
    "start_time": "2023-06-19T13:20:31.153Z"
   },
   {
    "duration": 135,
    "start_time": "2023-06-19T13:20:33.166Z"
   },
   {
    "duration": 6,
    "start_time": "2023-06-19T13:20:35.151Z"
   },
   {
    "duration": 5,
    "start_time": "2023-06-19T13:20:37.164Z"
   },
   {
    "duration": 6,
    "start_time": "2023-06-19T13:20:39.264Z"
   },
   {
    "duration": 6,
    "start_time": "2023-06-19T13:20:40.997Z"
   },
   {
    "duration": 124,
    "start_time": "2023-06-19T13:20:42.519Z"
   },
   {
    "duration": 9,
    "start_time": "2023-06-19T13:20:44.255Z"
   },
   {
    "duration": 6,
    "start_time": "2023-06-19T13:20:45.719Z"
   },
   {
    "duration": 6,
    "start_time": "2023-06-19T13:20:47.330Z"
   },
   {
    "duration": 5,
    "start_time": "2023-06-19T13:20:48.837Z"
   },
   {
    "duration": 16,
    "start_time": "2023-06-19T13:20:50.761Z"
   },
   {
    "duration": 14,
    "start_time": "2023-06-19T13:20:52.400Z"
   },
   {
    "duration": 10,
    "start_time": "2023-06-19T13:20:53.933Z"
   },
   {
    "duration": 10,
    "start_time": "2023-06-19T13:20:55.522Z"
   },
   {
    "duration": 9,
    "start_time": "2023-06-19T13:20:56.972Z"
   },
   {
    "duration": 8,
    "start_time": "2023-06-19T13:20:58.570Z"
   },
   {
    "duration": 8,
    "start_time": "2023-06-19T13:21:00.170Z"
   },
   {
    "duration": 11,
    "start_time": "2023-06-19T13:21:02.988Z"
   },
   {
    "duration": 12,
    "start_time": "2023-06-19T13:21:05.174Z"
   },
   {
    "duration": 249,
    "start_time": "2023-06-19T13:21:12.892Z"
   },
   {
    "duration": 16,
    "start_time": "2023-06-19T13:21:16.746Z"
   },
   {
    "duration": 30,
    "start_time": "2023-06-19T13:21:19.288Z"
   },
   {
    "duration": 494,
    "start_time": "2023-06-19T13:21:21.337Z"
   },
   {
    "duration": 180,
    "start_time": "2023-06-19T13:21:26.382Z"
   },
   {
    "duration": 20,
    "start_time": "2023-06-19T13:21:28.436Z"
   },
   {
    "duration": 32,
    "start_time": "2023-06-19T13:21:30.633Z"
   },
   {
    "duration": 16,
    "start_time": "2023-06-19T13:21:32.443Z"
   },
   {
    "duration": 6,
    "start_time": "2023-06-19T13:21:34.846Z"
   },
   {
    "duration": 10,
    "start_time": "2023-06-19T13:21:36.944Z"
   },
   {
    "duration": 187,
    "start_time": "2023-06-19T13:21:39.593Z"
   },
   {
    "duration": 21,
    "start_time": "2023-06-19T13:21:42.176Z"
   },
   {
    "duration": 25,
    "start_time": "2023-06-19T13:21:43.913Z"
   },
   {
    "duration": 49,
    "start_time": "2023-06-19T13:21:45.940Z"
   },
   {
    "duration": 10,
    "start_time": "2023-06-19T13:21:48.059Z"
   },
   {
    "duration": 18,
    "start_time": "2023-06-19T13:21:49.725Z"
   },
   {
    "duration": 28,
    "start_time": "2023-06-19T13:21:51.815Z"
   },
   {
    "duration": 16,
    "start_time": "2023-06-19T13:21:54.513Z"
   },
   {
    "duration": 8,
    "start_time": "2023-06-19T13:21:57.366Z"
   },
   {
    "duration": 16,
    "start_time": "2023-06-19T13:21:58.910Z"
   },
   {
    "duration": 36,
    "start_time": "2023-06-19T13:22:00.570Z"
   },
   {
    "duration": 13,
    "start_time": "2023-06-19T13:22:03.522Z"
   },
   {
    "duration": 12,
    "start_time": "2023-06-19T13:22:05.711Z"
   },
   {
    "duration": 185,
    "start_time": "2023-06-19T13:22:07.490Z"
   },
   {
    "duration": 17,
    "start_time": "2023-06-19T13:22:10.098Z"
   },
   {
    "duration": 31,
    "start_time": "2023-06-19T13:22:12.592Z"
   },
   {
    "duration": 75,
    "start_time": "2023-06-19T13:22:15.049Z"
   },
   {
    "duration": 31,
    "start_time": "2023-06-19T13:22:17.650Z"
   },
   {
    "duration": 50,
    "start_time": "2023-06-19T13:22:19.633Z"
   },
   {
    "duration": 24,
    "start_time": "2023-06-19T13:22:22.080Z"
   },
   {
    "duration": 11,
    "start_time": "2023-06-19T13:22:24.138Z"
   },
   {
    "duration": 31,
    "start_time": "2023-06-19T13:22:26.189Z"
   },
   {
    "duration": 71,
    "start_time": "2023-06-19T13:22:28.670Z"
   },
   {
    "duration": 27,
    "start_time": "2023-06-19T13:22:31.436Z"
   },
   {
    "duration": 10,
    "start_time": "2023-06-19T13:22:32.795Z"
   },
   {
    "duration": 24,
    "start_time": "2023-06-19T13:22:35.763Z"
   },
   {
    "duration": 12,
    "start_time": "2023-06-19T13:22:37.661Z"
   },
   {
    "duration": 29,
    "start_time": "2023-06-19T13:22:39.698Z"
   },
   {
    "duration": 64,
    "start_time": "2023-06-19T13:22:42.346Z"
   },
   {
    "duration": 13,
    "start_time": "2023-06-19T13:22:46.294Z"
   },
   {
    "duration": 12,
    "start_time": "2023-06-19T13:22:56.994Z"
   },
   {
    "duration": 136,
    "start_time": "2023-06-19T13:51:06.068Z"
   },
   {
    "duration": 3,
    "start_time": "2023-06-19T13:51:55.054Z"
   },
   {
    "duration": 9,
    "start_time": "2023-06-19T13:52:00.657Z"
   },
   {
    "duration": 24,
    "start_time": "2023-06-19T14:15:03.685Z"
   },
   {
    "duration": 16,
    "start_time": "2023-06-19T14:16:50.574Z"
   },
   {
    "duration": 6,
    "start_time": "2023-06-19T14:16:56.550Z"
   },
   {
    "duration": 10,
    "start_time": "2023-06-19T14:16:59.028Z"
   },
   {
    "duration": 22,
    "start_time": "2023-06-19T14:18:07.414Z"
   },
   {
    "duration": 10,
    "start_time": "2023-06-19T14:18:08.932Z"
   },
   {
    "duration": 5,
    "start_time": "2023-06-19T14:18:10.894Z"
   },
   {
    "duration": 8,
    "start_time": "2023-06-19T14:18:39.150Z"
   },
   {
    "duration": 6,
    "start_time": "2023-06-19T14:18:55.566Z"
   },
   {
    "duration": 20,
    "start_time": "2023-06-19T18:56:41.131Z"
   },
   {
    "duration": 48,
    "start_time": "2023-06-19T18:56:52.427Z"
   },
   {
    "duration": 56,
    "start_time": "2023-06-19T18:57:25.801Z"
   },
   {
    "duration": 18,
    "start_time": "2023-06-19T18:59:56.652Z"
   },
   {
    "duration": 23,
    "start_time": "2023-06-19T19:00:22.301Z"
   },
   {
    "duration": 22,
    "start_time": "2023-06-19T19:05:02.615Z"
   },
   {
    "duration": 52,
    "start_time": "2023-06-19T19:05:15.598Z"
   },
   {
    "duration": 22,
    "start_time": "2023-06-19T19:07:14.500Z"
   },
   {
    "duration": 23,
    "start_time": "2023-06-19T19:07:23.764Z"
   },
   {
    "duration": 56,
    "start_time": "2023-06-19T19:07:36.500Z"
   },
   {
    "duration": 23,
    "start_time": "2023-06-19T19:08:34.746Z"
   },
   {
    "duration": 25,
    "start_time": "2023-06-19T19:08:46.193Z"
   },
   {
    "duration": 46,
    "start_time": "2023-06-19T19:09:28.601Z"
   },
   {
    "duration": 22,
    "start_time": "2023-06-19T19:10:08.126Z"
   },
   {
    "duration": 25,
    "start_time": "2023-06-19T19:10:14.045Z"
   },
   {
    "duration": 25,
    "start_time": "2023-06-19T19:10:40.551Z"
   },
   {
    "duration": 22,
    "start_time": "2023-06-19T19:11:07.360Z"
   },
   {
    "duration": 31,
    "start_time": "2023-06-19T19:11:26.804Z"
   },
   {
    "duration": 41,
    "start_time": "2023-06-19T19:11:43.314Z"
   },
   {
    "duration": 31,
    "start_time": "2023-06-19T19:12:08.605Z"
   },
   {
    "duration": 45,
    "start_time": "2023-06-19T19:12:23.044Z"
   },
   {
    "duration": 23,
    "start_time": "2023-06-19T19:13:26.455Z"
   },
   {
    "duration": 43,
    "start_time": "2023-06-19T19:13:34.249Z"
   },
   {
    "duration": 1497,
    "start_time": "2023-06-20T18:48:27.066Z"
   },
   {
    "duration": 897,
    "start_time": "2023-06-20T18:48:28.566Z"
   },
   {
    "duration": 16,
    "start_time": "2023-06-20T18:48:29.465Z"
   },
   {
    "duration": 20,
    "start_time": "2023-06-20T18:48:29.483Z"
   },
   {
    "duration": 7,
    "start_time": "2023-06-20T18:48:29.505Z"
   },
   {
    "duration": 5,
    "start_time": "2023-06-20T18:48:29.514Z"
   },
   {
    "duration": 165,
    "start_time": "2023-06-20T18:48:29.521Z"
   },
   {
    "duration": 6,
    "start_time": "2023-06-20T18:48:29.688Z"
   },
   {
    "duration": 10,
    "start_time": "2023-06-20T18:48:29.696Z"
   },
   {
    "duration": 6,
    "start_time": "2023-06-20T18:48:29.708Z"
   },
   {
    "duration": 8,
    "start_time": "2023-06-20T18:48:29.715Z"
   },
   {
    "duration": 164,
    "start_time": "2023-06-20T18:48:29.725Z"
   },
   {
    "duration": 8,
    "start_time": "2023-06-20T18:48:29.890Z"
   },
   {
    "duration": 12,
    "start_time": "2023-06-20T18:48:29.899Z"
   },
   {
    "duration": 6,
    "start_time": "2023-06-20T18:48:29.913Z"
   },
   {
    "duration": 8,
    "start_time": "2023-06-20T18:48:29.921Z"
   },
   {
    "duration": 36,
    "start_time": "2023-06-20T18:48:29.930Z"
   },
   {
    "duration": 19,
    "start_time": "2023-06-20T18:48:29.969Z"
   },
   {
    "duration": 10,
    "start_time": "2023-06-20T18:48:29.989Z"
   },
   {
    "duration": 24,
    "start_time": "2023-06-20T18:48:30.001Z"
   },
   {
    "duration": 21,
    "start_time": "2023-06-20T18:48:30.028Z"
   },
   {
    "duration": 54,
    "start_time": "2023-06-20T18:48:30.050Z"
   },
   {
    "duration": 23,
    "start_time": "2023-06-20T18:48:30.106Z"
   },
   {
    "duration": 15,
    "start_time": "2023-06-20T18:48:30.131Z"
   },
   {
    "duration": 23,
    "start_time": "2023-06-20T18:48:30.148Z"
   },
   {
    "duration": 168,
    "start_time": "2023-06-20T18:48:30.173Z"
   },
   {
    "duration": 28,
    "start_time": "2023-06-20T18:48:30.343Z"
   },
   {
    "duration": 28,
    "start_time": "2023-06-20T18:48:30.377Z"
   },
   {
    "duration": 1277,
    "start_time": "2023-06-20T18:48:30.407Z"
   },
   {
    "duration": 300,
    "start_time": "2023-06-20T18:48:31.687Z"
   },
   {
    "duration": 19,
    "start_time": "2023-06-20T18:48:31.990Z"
   },
   {
    "duration": 36,
    "start_time": "2023-06-20T18:48:32.011Z"
   },
   {
    "duration": 50,
    "start_time": "2023-06-20T18:48:32.049Z"
   },
   {
    "duration": 51,
    "start_time": "2023-06-20T18:48:32.101Z"
   },
   {
    "duration": 50,
    "start_time": "2023-06-20T18:48:32.154Z"
   },
   {
    "duration": 240,
    "start_time": "2023-06-20T18:48:32.206Z"
   },
   {
    "duration": 27,
    "start_time": "2023-06-20T18:48:32.448Z"
   },
   {
    "duration": 33,
    "start_time": "2023-06-20T18:48:32.477Z"
   },
   {
    "duration": 72,
    "start_time": "2023-06-20T18:48:32.512Z"
   },
   {
    "duration": 12,
    "start_time": "2023-06-20T18:48:32.587Z"
   },
   {
    "duration": 20,
    "start_time": "2023-06-20T18:48:32.601Z"
   },
   {
    "duration": 59,
    "start_time": "2023-06-20T18:48:32.624Z"
   },
   {
    "duration": 11,
    "start_time": "2023-06-20T18:48:32.685Z"
   },
   {
    "duration": 13,
    "start_time": "2023-06-20T18:48:32.698Z"
   },
   {
    "duration": 16,
    "start_time": "2023-06-20T18:48:32.713Z"
   },
   {
    "duration": 46,
    "start_time": "2023-06-20T18:48:32.731Z"
   },
   {
    "duration": 10,
    "start_time": "2023-06-20T18:48:32.786Z"
   },
   {
    "duration": 13,
    "start_time": "2023-06-20T18:48:32.799Z"
   },
   {
    "duration": 180,
    "start_time": "2023-06-20T18:48:32.814Z"
   },
   {
    "duration": 18,
    "start_time": "2023-06-20T18:48:32.996Z"
   },
   {
    "duration": 24,
    "start_time": "2023-06-20T18:48:33.016Z"
   },
   {
    "duration": 73,
    "start_time": "2023-06-20T18:48:33.042Z"
   },
   {
    "duration": 25,
    "start_time": "2023-06-20T18:48:33.117Z"
   },
   {
    "duration": 73,
    "start_time": "2023-06-20T18:48:33.143Z"
   },
   {
    "duration": 27,
    "start_time": "2023-06-20T18:48:33.218Z"
   },
   {
    "duration": 28,
    "start_time": "2023-06-20T18:48:33.248Z"
   },
   {
    "duration": 28,
    "start_time": "2023-06-20T18:48:33.278Z"
   },
   {
    "duration": 83,
    "start_time": "2023-06-20T18:48:33.307Z"
   },
   {
    "duration": 24,
    "start_time": "2023-06-20T18:48:33.392Z"
   },
   {
    "duration": 9,
    "start_time": "2023-06-20T18:48:33.418Z"
   },
   {
    "duration": 49,
    "start_time": "2023-06-20T18:48:33.430Z"
   },
   {
    "duration": 11,
    "start_time": "2023-06-20T18:48:33.481Z"
   },
   {
    "duration": 33,
    "start_time": "2023-06-20T18:48:33.493Z"
   },
   {
    "duration": 66,
    "start_time": "2023-06-20T18:48:33.528Z"
   },
   {
    "duration": 9,
    "start_time": "2023-06-20T18:48:33.596Z"
   },
   {
    "duration": 8,
    "start_time": "2023-06-20T18:48:33.607Z"
   },
   {
    "duration": 10,
    "start_time": "2023-06-20T18:48:33.617Z"
   },
   {
    "duration": 9,
    "start_time": "2023-06-20T18:48:33.629Z"
   },
   {
    "duration": 32,
    "start_time": "2023-06-20T18:48:33.639Z"
   },
   {
    "duration": 1389,
    "start_time": "2023-06-29T16:02:03.834Z"
   },
   {
    "duration": 1310,
    "start_time": "2023-06-29T16:02:07.888Z"
   },
   {
    "duration": 13,
    "start_time": "2023-06-29T16:02:14.128Z"
   },
   {
    "duration": 15,
    "start_time": "2023-06-29T16:03:02.406Z"
   },
   {
    "duration": 6,
    "start_time": "2023-06-29T16:03:46.958Z"
   },
   {
    "duration": 5,
    "start_time": "2023-06-29T16:03:53.868Z"
   },
   {
    "duration": 117,
    "start_time": "2023-06-29T16:03:56.047Z"
   },
   {
    "duration": 5,
    "start_time": "2023-06-29T16:03:59.029Z"
   },
   {
    "duration": 4,
    "start_time": "2023-06-29T16:04:01.176Z"
   },
   {
    "duration": 6,
    "start_time": "2023-06-29T16:04:05.888Z"
   },
   {
    "duration": 5,
    "start_time": "2023-06-29T16:04:07.839Z"
   },
   {
    "duration": 136,
    "start_time": "2023-06-29T16:04:09.596Z"
   },
   {
    "duration": 5,
    "start_time": "2023-06-29T16:04:44.106Z"
   },
   {
    "duration": 6,
    "start_time": "2023-06-29T16:04:46.225Z"
   },
   {
    "duration": 6,
    "start_time": "2023-06-29T16:04:49.856Z"
   },
   {
    "duration": 4,
    "start_time": "2023-06-29T16:04:58.969Z"
   },
   {
    "duration": 964,
    "start_time": "2023-06-29T16:05:00.191Z"
   },
   {
    "duration": 12,
    "start_time": "2023-06-29T16:05:02.599Z"
   },
   {
    "duration": 13,
    "start_time": "2023-06-29T16:05:05.247Z"
   },
   {
    "duration": 4,
    "start_time": "2023-06-29T16:05:07.772Z"
   },
   {
    "duration": 5,
    "start_time": "2023-06-29T16:05:08.990Z"
   },
   {
    "duration": 107,
    "start_time": "2023-06-29T16:05:10.362Z"
   },
   {
    "duration": 6,
    "start_time": "2023-06-29T16:05:12.072Z"
   },
   {
    "duration": 5,
    "start_time": "2023-06-29T16:05:13.499Z"
   },
   {
    "duration": 5,
    "start_time": "2023-06-29T16:05:14.888Z"
   },
   {
    "duration": 5,
    "start_time": "2023-06-29T16:05:16.610Z"
   },
   {
    "duration": 129,
    "start_time": "2023-06-29T16:05:17.854Z"
   },
   {
    "duration": 9,
    "start_time": "2023-06-29T16:05:19.541Z"
   },
   {
    "duration": 5,
    "start_time": "2023-06-29T16:05:20.879Z"
   },
   {
    "duration": 6,
    "start_time": "2023-06-29T16:05:22.743Z"
   },
   {
    "duration": 4,
    "start_time": "2023-06-29T16:05:30.579Z"
   },
   {
    "duration": 11,
    "start_time": "2023-06-29T16:05:32.810Z"
   },
   {
    "duration": 9,
    "start_time": "2023-06-29T16:05:35.820Z"
   },
   {
    "duration": 8,
    "start_time": "2023-06-29T16:05:40.835Z"
   },
   {
    "duration": 9,
    "start_time": "2023-06-29T16:05:44.028Z"
   },
   {
    "duration": 10,
    "start_time": "2023-06-29T16:05:48.927Z"
   },
   {
    "duration": 8,
    "start_time": "2023-06-29T16:05:56.540Z"
   },
   {
    "duration": 7,
    "start_time": "2023-06-29T16:06:20.804Z"
   },
   {
    "duration": 8,
    "start_time": "2023-06-29T16:06:24.160Z"
   },
   {
    "duration": 10,
    "start_time": "2023-06-29T16:07:11.165Z"
   },
   {
    "duration": 159,
    "start_time": "2023-06-29T16:09:45.609Z"
   },
   {
    "duration": 16,
    "start_time": "2023-06-29T16:49:06.288Z"
   },
   {
    "duration": 23,
    "start_time": "2023-06-29T16:49:29.068Z"
   },
   {
    "duration": 499,
    "start_time": "2023-06-29T16:49:32.693Z"
   },
   {
    "duration": 158,
    "start_time": "2023-06-29T17:38:09.323Z"
   },
   {
    "duration": 8,
    "start_time": "2023-06-29T17:38:13.483Z"
   },
   {
    "duration": 10,
    "start_time": "2023-06-29T17:38:54.615Z"
   },
   {
    "duration": 26,
    "start_time": "2023-06-29T17:39:04.007Z"
   },
   {
    "duration": 9,
    "start_time": "2023-06-29T17:40:03.993Z"
   },
   {
    "duration": 10,
    "start_time": "2023-06-29T17:40:45.509Z"
   },
   {
    "duration": 17,
    "start_time": "2023-06-29T17:41:04.607Z"
   },
   {
    "duration": 23,
    "start_time": "2023-06-29T17:41:06.723Z"
   },
   {
    "duration": 201,
    "start_time": "2023-06-29T17:41:09.739Z"
   },
   {
    "duration": 26,
    "start_time": "2023-06-29T17:41:25.002Z"
   },
   {
    "duration": 25,
    "start_time": "2023-06-29T17:41:28.193Z"
   },
   {
    "duration": 6,
    "start_time": "2023-06-29T17:41:29.886Z"
   },
   {
    "duration": 10,
    "start_time": "2023-06-29T17:41:49.317Z"
   },
   {
    "duration": 160,
    "start_time": "2023-06-29T17:41:51.805Z"
   },
   {
    "duration": 16,
    "start_time": "2023-06-29T17:41:53.483Z"
   },
   {
    "duration": 21,
    "start_time": "2023-06-29T17:41:55.115Z"
   },
   {
    "duration": 9,
    "start_time": "2023-06-29T17:41:56.932Z"
   },
   {
    "duration": 21,
    "start_time": "2023-06-29T17:41:58.732Z"
   },
   {
    "duration": 32,
    "start_time": "2023-06-29T17:42:02.906Z"
   },
   {
    "duration": 11,
    "start_time": "2023-06-29T17:42:12.119Z"
   },
   {
    "duration": 15,
    "start_time": "2023-06-29T17:42:14.146Z"
   },
   {
    "duration": 32,
    "start_time": "2023-06-29T17:42:20.448Z"
   },
   {
    "duration": 8,
    "start_time": "2023-06-29T17:42:27.025Z"
   },
   {
    "duration": 127,
    "start_time": "2023-06-29T17:42:32.359Z"
   },
   {
    "duration": 9,
    "start_time": "2023-06-29T17:45:22.706Z"
   },
   {
    "duration": 10,
    "start_time": "2023-06-29T17:45:38.907Z"
   },
   {
    "duration": 46,
    "start_time": "2023-06-29T17:56:52.427Z"
   },
   {
    "duration": 22,
    "start_time": "2023-06-29T17:57:25.601Z"
   },
   {
    "duration": 30,
    "start_time": "2023-06-29T17:58:40.640Z"
   },
   {
    "duration": 65,
    "start_time": "2023-06-29T17:59:45.217Z"
   },
   {
    "duration": 19,
    "start_time": "2023-06-29T18:00:01.466Z"
   },
   {
    "duration": 24,
    "start_time": "2023-06-29T18:08:02.191Z"
   },
   {
    "duration": 43,
    "start_time": "2023-06-29T18:10:49.740Z"
   },
   {
    "duration": 37,
    "start_time": "2023-06-29T18:13:02.053Z"
   },
   {
    "duration": 43,
    "start_time": "2023-06-29T18:14:14.393Z"
   },
   {
    "duration": 320,
    "start_time": "2023-06-29T18:19:23.616Z"
   },
   {
    "duration": 43,
    "start_time": "2023-06-29T18:20:10.865Z"
   },
   {
    "duration": 287,
    "start_time": "2023-06-29T18:22:14.606Z"
   },
   {
    "duration": 44,
    "start_time": "2023-06-29T18:22:35.654Z"
   },
   {
    "duration": 46,
    "start_time": "2023-06-29T18:27:23.904Z"
   },
   {
    "duration": 39,
    "start_time": "2023-06-29T18:28:52.151Z"
   },
   {
    "duration": 39,
    "start_time": "2023-06-29T18:31:38.554Z"
   },
   {
    "duration": 45,
    "start_time": "2023-06-29T18:33:35.605Z"
   },
   {
    "duration": 1653,
    "start_time": "2023-06-30T16:34:12.630Z"
   },
   {
    "duration": 1199,
    "start_time": "2023-06-30T16:34:15.921Z"
   },
   {
    "duration": 15,
    "start_time": "2023-06-30T16:34:18.596Z"
   },
   {
    "duration": 14,
    "start_time": "2023-06-30T16:34:20.706Z"
   },
   {
    "duration": 7,
    "start_time": "2023-06-30T16:34:26.328Z"
   },
   {
    "duration": 6,
    "start_time": "2023-06-30T16:34:27.521Z"
   },
   {
    "duration": 174,
    "start_time": "2023-06-30T16:34:30.425Z"
   },
   {
    "duration": 13,
    "start_time": "2023-06-30T16:34:33.461Z"
   },
   {
    "duration": 6,
    "start_time": "2023-06-30T16:34:34.720Z"
   },
   {
    "duration": 6,
    "start_time": "2023-06-30T16:34:36.327Z"
   },
   {
    "duration": 6,
    "start_time": "2023-06-30T16:34:37.838Z"
   },
   {
    "duration": 117,
    "start_time": "2023-06-30T16:34:39.200Z"
   },
   {
    "duration": 11,
    "start_time": "2023-06-30T16:34:40.811Z"
   },
   {
    "duration": 7,
    "start_time": "2023-06-30T16:34:43.348Z"
   },
   {
    "duration": 11,
    "start_time": "2023-06-30T16:34:45.609Z"
   },
   {
    "duration": 6,
    "start_time": "2023-06-30T16:34:46.571Z"
   },
   {
    "duration": 16,
    "start_time": "2023-06-30T16:34:47.879Z"
   },
   {
    "duration": 11,
    "start_time": "2023-06-30T16:34:49.454Z"
   },
   {
    "duration": 10,
    "start_time": "2023-06-30T16:34:51.054Z"
   },
   {
    "duration": 13,
    "start_time": "2023-06-30T16:34:52.402Z"
   },
   {
    "duration": 10,
    "start_time": "2023-06-30T16:34:54.861Z"
   },
   {
    "duration": 10,
    "start_time": "2023-06-30T16:34:56.595Z"
   },
   {
    "duration": 15,
    "start_time": "2023-06-30T16:34:58.388Z"
   },
   {
    "duration": 12,
    "start_time": "2023-06-30T16:35:01.627Z"
   },
   {
    "duration": 15,
    "start_time": "2023-06-30T16:35:04.459Z"
   },
   {
    "duration": 181,
    "start_time": "2023-06-30T16:35:06.044Z"
   },
   {
    "duration": 27,
    "start_time": "2023-06-30T16:35:08.449Z"
   },
   {
    "duration": 25,
    "start_time": "2023-06-30T16:35:09.996Z"
   },
   {
    "duration": 35,
    "start_time": "2023-06-30T16:35:13.154Z"
   },
   {
    "duration": 283,
    "start_time": "2023-06-30T16:35:16.895Z"
   },
   {
    "duration": 27,
    "start_time": "2023-06-30T16:35:20.377Z"
   },
   {
    "duration": 31,
    "start_time": "2023-06-30T16:35:22.790Z"
   },
   {
    "duration": 6,
    "start_time": "2023-06-30T16:35:24.727Z"
   },
   {
    "duration": 9,
    "start_time": "2023-06-30T16:35:25.975Z"
   },
   {
    "duration": 223,
    "start_time": "2023-06-30T16:35:28.632Z"
   },
   {
    "duration": 23,
    "start_time": "2023-06-30T16:35:30.258Z"
   },
   {
    "duration": 35,
    "start_time": "2023-06-30T16:35:31.707Z"
   },
   {
    "duration": 11,
    "start_time": "2023-06-30T16:35:33.459Z"
   },
   {
    "duration": 19,
    "start_time": "2023-06-30T16:35:35.111Z"
   },
   {
    "duration": 25,
    "start_time": "2023-06-30T16:35:36.670Z"
   },
   {
    "duration": 12,
    "start_time": "2023-06-30T16:35:38.129Z"
   },
   {
    "duration": 16,
    "start_time": "2023-06-30T16:35:39.795Z"
   },
   {
    "duration": 30,
    "start_time": "2023-06-30T16:35:41.303Z"
   },
   {
    "duration": 10,
    "start_time": "2023-06-30T16:35:42.987Z"
   },
   {
    "duration": 180,
    "start_time": "2023-06-30T16:35:45.002Z"
   },
   {
    "duration": 25,
    "start_time": "2023-06-30T16:35:47.398Z"
   },
   {
    "duration": 25,
    "start_time": "2023-06-30T16:35:48.979Z"
   },
   {
    "duration": 27,
    "start_time": "2023-06-30T16:35:50.718Z"
   },
   {
    "duration": 36,
    "start_time": "2023-06-30T16:35:53.745Z"
   },
   {
    "duration": 37,
    "start_time": "2023-06-30T16:35:57.144Z"
   },
   {
    "duration": 29,
    "start_time": "2023-06-30T16:35:59.798Z"
   },
   {
    "duration": 23,
    "start_time": "2023-06-30T16:36:01.670Z"
   },
   {
    "duration": 39,
    "start_time": "2023-06-30T16:36:08.338Z"
   },
   {
    "duration": 53,
    "start_time": "2023-06-30T16:36:11.062Z"
   },
   {
    "duration": 108,
    "start_time": "2023-06-30T16:54:18.529Z"
   },
   {
    "duration": 195,
    "start_time": "2023-06-30T16:54:31.261Z"
   },
   {
    "duration": 574,
    "start_time": "2023-06-30T16:57:57.425Z"
   },
   {
    "duration": 476,
    "start_time": "2023-06-30T16:58:59.605Z"
   },
   {
    "duration": 467,
    "start_time": "2023-06-30T16:59:14.558Z"
   },
   {
    "duration": 465,
    "start_time": "2023-06-30T17:01:15.494Z"
   },
   {
    "duration": 585,
    "start_time": "2023-06-30T17:01:33.672Z"
   },
   {
    "duration": 470,
    "start_time": "2023-06-30T17:02:20.369Z"
   },
   {
    "duration": 67,
    "start_time": "2023-06-30T17:02:38.455Z"
   },
   {
    "duration": 721,
    "start_time": "2023-06-30T17:02:41.451Z"
   },
   {
    "duration": 593,
    "start_time": "2023-06-30T17:03:06.476Z"
   },
   {
    "duration": 460,
    "start_time": "2023-06-30T17:03:09.491Z"
   },
   {
    "duration": 682,
    "start_time": "2023-06-30T17:05:11.451Z"
   },
   {
    "duration": 797,
    "start_time": "2023-06-30T17:05:20.077Z"
   },
   {
    "duration": 1399,
    "start_time": "2023-06-30T17:14:46.622Z"
   },
   {
    "duration": 1216,
    "start_time": "2023-06-30T17:14:48.931Z"
   },
   {
    "duration": 13,
    "start_time": "2023-06-30T17:14:51.991Z"
   },
   {
    "duration": 20,
    "start_time": "2023-06-30T17:14:53.868Z"
   },
   {
    "duration": 5,
    "start_time": "2023-06-30T17:14:55.517Z"
   },
   {
    "duration": 6,
    "start_time": "2023-06-30T17:14:56.900Z"
   },
   {
    "duration": 127,
    "start_time": "2023-06-30T17:14:58.142Z"
   },
   {
    "duration": 7,
    "start_time": "2023-06-30T17:15:00.003Z"
   },
   {
    "duration": 5,
    "start_time": "2023-06-30T17:15:01.656Z"
   },
   {
    "duration": 6,
    "start_time": "2023-06-30T17:15:03.821Z"
   },
   {
    "duration": 6,
    "start_time": "2023-06-30T17:15:04.848Z"
   },
   {
    "duration": 134,
    "start_time": "2023-06-30T17:15:06.434Z"
   },
   {
    "duration": 8,
    "start_time": "2023-06-30T17:15:08.426Z"
   },
   {
    "duration": 7,
    "start_time": "2023-06-30T17:15:09.675Z"
   },
   {
    "duration": 7,
    "start_time": "2023-06-30T17:15:10.901Z"
   },
   {
    "duration": 4,
    "start_time": "2023-06-30T17:15:12.800Z"
   },
   {
    "duration": 12,
    "start_time": "2023-06-30T17:15:14.201Z"
   },
   {
    "duration": 13,
    "start_time": "2023-06-30T17:15:16.429Z"
   },
   {
    "duration": 8,
    "start_time": "2023-06-30T17:15:18.316Z"
   },
   {
    "duration": 9,
    "start_time": "2023-06-30T17:15:19.820Z"
   },
   {
    "duration": 9,
    "start_time": "2023-06-30T17:15:21.404Z"
   },
   {
    "duration": 7,
    "start_time": "2023-06-30T17:15:23.124Z"
   },
   {
    "duration": 8,
    "start_time": "2023-06-30T17:15:24.756Z"
   },
   {
    "duration": 9,
    "start_time": "2023-06-30T17:15:26.475Z"
   },
   {
    "duration": 9,
    "start_time": "2023-06-30T17:15:28.212Z"
   },
   {
    "duration": 159,
    "start_time": "2023-06-30T17:15:29.752Z"
   },
   {
    "duration": 17,
    "start_time": "2023-06-30T17:15:31.801Z"
   },
   {
    "duration": 23,
    "start_time": "2023-06-30T17:15:33.209Z"
   },
   {
    "duration": 642,
    "start_time": "2023-06-30T17:15:34.900Z"
   },
   {
    "duration": 787,
    "start_time": "2023-06-30T17:15:37.247Z"
   },
   {
    "duration": 159,
    "start_time": "2023-06-30T17:15:40.473Z"
   },
   {
    "duration": 17,
    "start_time": "2023-06-30T17:15:43.923Z"
   },
   {
    "duration": 24,
    "start_time": "2023-06-30T17:15:45.303Z"
   },
   {
    "duration": 5,
    "start_time": "2023-06-30T17:15:48.302Z"
   },
   {
    "duration": 10,
    "start_time": "2023-06-30T17:15:50.122Z"
   },
   {
    "duration": 179,
    "start_time": "2023-06-30T17:15:51.851Z"
   },
   {
    "duration": 16,
    "start_time": "2023-06-30T17:15:53.594Z"
   },
   {
    "duration": 22,
    "start_time": "2023-06-30T17:15:56.702Z"
   },
   {
    "duration": 435,
    "start_time": "2023-06-30T17:16:01.600Z"
   },
   {
    "duration": 431,
    "start_time": "2023-06-30T17:16:08.350Z"
   },
   {
    "duration": 1013,
    "start_time": "2023-06-30T17:16:17.301Z"
   },
   {
    "duration": 993,
    "start_time": "2023-06-30T17:16:50.338Z"
   },
   {
    "duration": 8,
    "start_time": "2023-06-30T17:17:16.967Z"
   },
   {
    "duration": 16,
    "start_time": "2023-06-30T17:17:19.827Z"
   },
   {
    "duration": 15,
    "start_time": "2023-06-30T17:17:21.855Z"
   },
   {
    "duration": 23,
    "start_time": "2023-06-30T17:17:25.707Z"
   },
   {
    "duration": 8,
    "start_time": "2023-06-30T17:17:27.830Z"
   },
   {
    "duration": 17,
    "start_time": "2023-06-30T17:17:32.600Z"
   },
   {
    "duration": 26,
    "start_time": "2023-06-30T17:17:34.376Z"
   },
   {
    "duration": 9,
    "start_time": "2023-06-30T17:17:38.729Z"
   },
   {
    "duration": 134,
    "start_time": "2023-06-30T17:17:41.727Z"
   },
   {
    "duration": 23,
    "start_time": "2023-06-30T17:17:46.209Z"
   },
   {
    "duration": 31,
    "start_time": "2023-06-30T17:17:48.889Z"
   },
   {
    "duration": 673,
    "start_time": "2023-06-30T17:19:48.219Z"
   },
   {
    "duration": 711,
    "start_time": "2023-06-30T17:20:07.800Z"
   },
   {
    "duration": 203,
    "start_time": "2023-06-30T17:24:09.453Z"
   },
   {
    "duration": 34,
    "start_time": "2023-06-30T17:28:25.687Z"
   },
   {
    "duration": 62,
    "start_time": "2023-06-30T17:30:17.349Z"
   },
   {
    "duration": 45,
    "start_time": "2023-06-30T17:31:48.645Z"
   },
   {
    "duration": 49,
    "start_time": "2023-06-30T17:32:16.380Z"
   },
   {
    "duration": 43,
    "start_time": "2023-06-30T17:32:37.178Z"
   },
   {
    "duration": 137,
    "start_time": "2023-06-30T17:40:11.349Z"
   },
   {
    "duration": 280,
    "start_time": "2023-06-30T17:40:23.089Z"
   },
   {
    "duration": 249,
    "start_time": "2023-06-30T17:40:42.147Z"
   },
   {
    "duration": 208,
    "start_time": "2023-06-30T17:41:23.048Z"
   },
   {
    "duration": 125,
    "start_time": "2023-06-30T17:42:05.757Z"
   },
   {
    "duration": 277,
    "start_time": "2023-06-30T17:42:57.354Z"
   },
   {
    "duration": 271,
    "start_time": "2023-06-30T17:43:10.623Z"
   },
   {
    "duration": 216,
    "start_time": "2023-06-30T17:45:04.968Z"
   },
   {
    "duration": 197,
    "start_time": "2023-06-30T17:45:22.796Z"
   },
   {
    "duration": 304,
    "start_time": "2023-06-30T17:45:32.934Z"
   },
   {
    "duration": 232,
    "start_time": "2023-06-30T17:47:56.680Z"
   },
   {
    "duration": 15,
    "start_time": "2023-06-30T17:49:30.986Z"
   },
   {
    "duration": 265,
    "start_time": "2023-06-30T17:49:39.222Z"
   },
   {
    "duration": 1580,
    "start_time": "2023-07-01T12:00:26.874Z"
   },
   {
    "duration": 1308,
    "start_time": "2023-07-01T12:00:29.015Z"
   },
   {
    "duration": 15,
    "start_time": "2023-07-01T12:00:32.381Z"
   },
   {
    "duration": 14,
    "start_time": "2023-07-01T12:00:35.862Z"
   },
   {
    "duration": 5,
    "start_time": "2023-07-01T12:00:38.597Z"
   },
   {
    "duration": 6,
    "start_time": "2023-07-01T12:00:40.547Z"
   },
   {
    "duration": 131,
    "start_time": "2023-07-01T12:00:41.981Z"
   },
   {
    "duration": 5,
    "start_time": "2023-07-01T12:00:43.674Z"
   },
   {
    "duration": 6,
    "start_time": "2023-07-01T12:00:45.515Z"
   },
   {
    "duration": 4,
    "start_time": "2023-07-01T12:00:47.347Z"
   },
   {
    "duration": 5,
    "start_time": "2023-07-01T12:00:48.734Z"
   },
   {
    "duration": 5,
    "start_time": "2023-07-01T12:00:50.129Z"
   },
   {
    "duration": 112,
    "start_time": "2023-07-01T12:00:51.518Z"
   },
   {
    "duration": 7,
    "start_time": "2023-07-01T12:00:53.248Z"
   },
   {
    "duration": 12,
    "start_time": "2023-07-01T12:00:54.698Z"
   },
   {
    "duration": 7,
    "start_time": "2023-07-01T12:00:56.435Z"
   },
   {
    "duration": 4,
    "start_time": "2023-07-01T12:00:57.676Z"
   },
   {
    "duration": 14,
    "start_time": "2023-07-01T12:00:59.460Z"
   },
   {
    "duration": 10,
    "start_time": "2023-07-01T12:01:02.235Z"
   },
   {
    "duration": 9,
    "start_time": "2023-07-01T12:01:04.080Z"
   },
   {
    "duration": 9,
    "start_time": "2023-07-01T12:01:06.334Z"
   },
   {
    "duration": 8,
    "start_time": "2023-07-01T12:01:08.066Z"
   },
   {
    "duration": 9,
    "start_time": "2023-07-01T12:01:09.895Z"
   },
   {
    "duration": 17,
    "start_time": "2023-07-01T12:01:11.502Z"
   },
   {
    "duration": 9,
    "start_time": "2023-07-01T12:01:13.020Z"
   },
   {
    "duration": 50,
    "start_time": "2023-07-01T12:01:16.396Z"
   },
   {
    "duration": 21,
    "start_time": "2023-07-01T12:01:25.199Z"
   },
   {
    "duration": 174,
    "start_time": "2023-07-01T12:01:27.169Z"
   },
   {
    "duration": 17,
    "start_time": "2023-07-01T12:01:29.026Z"
   },
   {
    "duration": 28,
    "start_time": "2023-07-01T12:01:30.523Z"
   },
   {
    "duration": 705,
    "start_time": "2023-07-01T12:01:33.510Z"
   },
   {
    "duration": 723,
    "start_time": "2023-07-01T12:01:35.768Z"
   },
   {
    "duration": 178,
    "start_time": "2023-07-01T12:01:39.295Z"
   },
   {
    "duration": 18,
    "start_time": "2023-07-01T12:01:41.338Z"
   },
   {
    "duration": 23,
    "start_time": "2023-07-01T12:01:42.715Z"
   },
   {
    "duration": 278,
    "start_time": "2023-07-01T12:01:44.694Z"
   },
   {
    "duration": 7,
    "start_time": "2023-07-01T12:01:46.396Z"
   },
   {
    "duration": 10,
    "start_time": "2023-07-01T12:01:48.052Z"
   },
   {
    "duration": 176,
    "start_time": "2023-07-01T12:01:49.475Z"
   },
   {
    "duration": 18,
    "start_time": "2023-07-01T12:01:51.160Z"
   },
   {
    "duration": 22,
    "start_time": "2023-07-01T12:01:53.077Z"
   },
   {
    "duration": 1003,
    "start_time": "2023-07-01T12:01:54.738Z"
   },
   {
    "duration": 818,
    "start_time": "2023-07-01T12:01:57.437Z"
   },
   {
    "duration": 9,
    "start_time": "2023-07-01T12:01:59.745Z"
   },
   {
    "duration": 24,
    "start_time": "2023-07-01T12:02:01.896Z"
   },
   {
    "duration": 22,
    "start_time": "2023-07-01T12:02:03.758Z"
   },
   {
    "duration": 186,
    "start_time": "2023-07-01T12:02:05.662Z"
   },
   {
    "duration": 7,
    "start_time": "2023-07-01T12:02:08.024Z"
   },
   {
    "duration": 15,
    "start_time": "2023-07-01T12:02:09.715Z"
   },
   {
    "duration": 24,
    "start_time": "2023-07-01T12:02:11.183Z"
   },
   {
    "duration": 244,
    "start_time": "2023-07-01T12:02:12.800Z"
   },
   {
    "duration": 10,
    "start_time": "2023-07-01T12:02:14.463Z"
   },
   {
    "duration": 131,
    "start_time": "2023-07-01T12:02:15.936Z"
   },
   {
    "duration": 17,
    "start_time": "2023-07-01T12:02:17.515Z"
   },
   {
    "duration": 24,
    "start_time": "2023-07-01T12:02:18.958Z"
   },
   {
    "duration": 823,
    "start_time": "2023-07-01T12:02:20.533Z"
   },
   {
    "duration": 681,
    "start_time": "2023-07-01T12:02:22.848Z"
   },
   {
    "duration": 23,
    "start_time": "2023-07-01T12:02:25.351Z"
   },
   {
    "duration": 22,
    "start_time": "2023-07-01T12:02:26.940Z"
   },
   {
    "duration": 22,
    "start_time": "2023-07-01T12:02:30.027Z"
   },
   {
    "duration": 31,
    "start_time": "2023-07-01T12:02:33.584Z"
   },
   {
    "duration": 21,
    "start_time": "2023-07-01T12:02:35.130Z"
   },
   {
    "duration": 22,
    "start_time": "2023-07-01T12:02:38.437Z"
   },
   {
    "duration": 10,
    "start_time": "2023-07-01T12:11:14.465Z"
   },
   {
    "duration": 7,
    "start_time": "2023-07-01T12:11:17.319Z"
   },
   {
    "duration": 12,
    "start_time": "2023-07-01T12:11:20.781Z"
   },
   {
    "duration": 10,
    "start_time": "2023-07-01T12:11:26.333Z"
   },
   {
    "duration": 1602,
    "start_time": "2023-07-01T21:16:18.044Z"
   },
   {
    "duration": 1206,
    "start_time": "2023-07-01T21:16:20.121Z"
   },
   {
    "duration": 21,
    "start_time": "2023-07-01T21:16:22.599Z"
   },
   {
    "duration": 28,
    "start_time": "2023-07-01T21:16:24.902Z"
   },
   {
    "duration": 8,
    "start_time": "2023-07-01T21:16:26.739Z"
   },
   {
    "duration": 5,
    "start_time": "2023-07-01T21:16:28.567Z"
   },
   {
    "duration": 153,
    "start_time": "2023-07-01T21:16:29.855Z"
   },
   {
    "duration": 13,
    "start_time": "2023-07-01T21:16:31.529Z"
   },
   {
    "duration": 10,
    "start_time": "2023-07-01T21:16:33.126Z"
   },
   {
    "duration": 5,
    "start_time": "2023-07-01T21:16:34.692Z"
   },
   {
    "duration": 5,
    "start_time": "2023-07-01T21:16:36.245Z"
   },
   {
    "duration": 114,
    "start_time": "2023-07-01T21:16:37.943Z"
   },
   {
    "duration": 15,
    "start_time": "2023-07-01T21:16:41.026Z"
   },
   {
    "duration": 13,
    "start_time": "2023-07-01T21:16:42.224Z"
   },
   {
    "duration": 5,
    "start_time": "2023-07-01T21:16:43.347Z"
   },
   {
    "duration": 4,
    "start_time": "2023-07-01T21:16:44.766Z"
   },
   {
    "duration": 13,
    "start_time": "2023-07-01T21:16:46.536Z"
   },
   {
    "duration": 14,
    "start_time": "2023-07-01T21:16:48.314Z"
   },
   {
    "duration": 8,
    "start_time": "2023-07-01T21:16:50.968Z"
   },
   {
    "duration": 9,
    "start_time": "2023-07-01T21:16:54.082Z"
   },
   {
    "duration": 10,
    "start_time": "2023-07-01T21:16:56.843Z"
   },
   {
    "duration": 12,
    "start_time": "2023-07-01T21:16:58.108Z"
   },
   {
    "duration": 15,
    "start_time": "2023-07-01T21:16:59.897Z"
   },
   {
    "duration": 17,
    "start_time": "2023-07-01T21:17:01.923Z"
   },
   {
    "duration": 42,
    "start_time": "2023-07-01T21:17:04.440Z"
   },
   {
    "duration": 10,
    "start_time": "2023-07-01T21:17:11.243Z"
   },
   {
    "duration": 161,
    "start_time": "2023-07-01T21:17:12.937Z"
   },
   {
    "duration": 16,
    "start_time": "2023-07-01T21:17:15.039Z"
   },
   {
    "duration": 32,
    "start_time": "2023-07-01T21:17:17.834Z"
   },
   {
    "duration": 750,
    "start_time": "2023-07-01T21:17:19.801Z"
   },
   {
    "duration": 791,
    "start_time": "2023-07-01T21:17:22.288Z"
   },
   {
    "duration": 188,
    "start_time": "2023-07-01T21:17:25.087Z"
   },
   {
    "duration": 17,
    "start_time": "2023-07-01T21:17:28.839Z"
   },
   {
    "duration": 33,
    "start_time": "2023-07-01T21:17:30.482Z"
   },
   {
    "duration": 290,
    "start_time": "2023-07-01T21:17:32.792Z"
   },
   {
    "duration": 5,
    "start_time": "2023-07-01T21:17:35.062Z"
   },
   {
    "duration": 9,
    "start_time": "2023-07-01T21:17:36.962Z"
   },
   {
    "duration": 203,
    "start_time": "2023-07-01T21:17:38.513Z"
   },
   {
    "duration": 18,
    "start_time": "2023-07-01T21:17:40.133Z"
   },
   {
    "duration": 25,
    "start_time": "2023-07-01T21:17:42.026Z"
   },
   {
    "duration": 1061,
    "start_time": "2023-07-01T21:17:43.872Z"
   },
   {
    "duration": 929,
    "start_time": "2023-07-01T21:17:46.390Z"
   },
   {
    "duration": 9,
    "start_time": "2023-07-01T21:17:48.990Z"
   },
   {
    "duration": 33,
    "start_time": "2023-07-01T21:17:50.288Z"
   },
   {
    "duration": 32,
    "start_time": "2023-07-01T21:17:51.592Z"
   },
   {
    "duration": 244,
    "start_time": "2023-07-01T21:17:53.106Z"
   },
   {
    "duration": 9,
    "start_time": "2023-07-01T21:17:55.969Z"
   },
   {
    "duration": 17,
    "start_time": "2023-07-01T21:17:57.682Z"
   },
   {
    "duration": 25,
    "start_time": "2023-07-01T21:17:59.036Z"
   },
   {
    "duration": 268,
    "start_time": "2023-07-01T21:18:00.586Z"
   },
   {
    "duration": 10,
    "start_time": "2023-07-01T21:18:02.070Z"
   },
   {
    "duration": 172,
    "start_time": "2023-07-01T21:18:03.648Z"
   },
   {
    "duration": 21,
    "start_time": "2023-07-01T21:18:05.230Z"
   },
   {
    "duration": 26,
    "start_time": "2023-07-01T21:18:06.937Z"
   },
   {
    "duration": 882,
    "start_time": "2023-07-01T21:18:09.067Z"
   },
   {
    "duration": 770,
    "start_time": "2023-07-01T21:18:11.114Z"
   },
   {
    "duration": 24,
    "start_time": "2023-07-01T21:18:14.346Z"
   },
   {
    "duration": 25,
    "start_time": "2023-07-01T21:18:15.670Z"
   },
   {
    "duration": 37,
    "start_time": "2023-07-01T21:18:20.386Z"
   },
   {
    "duration": 30,
    "start_time": "2023-07-01T21:18:22.228Z"
   },
   {
    "duration": 25,
    "start_time": "2023-07-01T21:18:24.057Z"
   },
   {
    "duration": 21,
    "start_time": "2023-07-01T21:18:25.866Z"
   },
   {
    "duration": 26,
    "start_time": "2023-07-01T21:18:28.678Z"
   },
   {
    "duration": 1685,
    "start_time": "2023-07-01T21:18:36.015Z"
   },
   {
    "duration": 17,
    "start_time": "2023-07-01T21:19:56.172Z"
   },
   {
    "duration": 52,
    "start_time": "2023-07-01T21:20:51.802Z"
   },
   {
    "duration": 10,
    "start_time": "2023-07-01T21:21:58.231Z"
   },
   {
    "duration": 10,
    "start_time": "2023-07-01T21:22:10.725Z"
   },
   {
    "duration": 12,
    "start_time": "2023-07-01T21:22:13.956Z"
   },
   {
    "duration": 10,
    "start_time": "2023-07-01T21:22:28.341Z"
   },
   {
    "duration": 17,
    "start_time": "2023-07-01T21:23:28.279Z"
   },
   {
    "duration": 25,
    "start_time": "2023-07-01T21:25:17.526Z"
   },
   {
    "duration": 19,
    "start_time": "2023-07-01T21:26:28.229Z"
   },
   {
    "duration": 11,
    "start_time": "2023-07-01T21:26:48.369Z"
   },
   {
    "duration": 12,
    "start_time": "2023-07-01T21:30:33.786Z"
   },
   {
    "duration": 10,
    "start_time": "2023-07-01T21:30:36.555Z"
   },
   {
    "duration": 1383,
    "start_time": "2023-07-02T09:49:28.231Z"
   },
   {
    "duration": 1251,
    "start_time": "2023-07-02T09:49:31.196Z"
   },
   {
    "duration": 19,
    "start_time": "2023-07-02T09:49:33.866Z"
   },
   {
    "duration": 20,
    "start_time": "2023-07-02T09:49:35.819Z"
   },
   {
    "duration": 6,
    "start_time": "2023-07-02T09:49:37.803Z"
   },
   {
    "duration": 5,
    "start_time": "2023-07-02T09:49:40.045Z"
   },
   {
    "duration": 115,
    "start_time": "2023-07-02T09:49:41.293Z"
   },
   {
    "duration": 5,
    "start_time": "2023-07-02T09:49:43.048Z"
   },
   {
    "duration": 5,
    "start_time": "2023-07-02T09:49:44.598Z"
   },
   {
    "duration": 6,
    "start_time": "2023-07-02T09:49:45.999Z"
   },
   {
    "duration": 7,
    "start_time": "2023-07-02T09:49:47.996Z"
   },
   {
    "duration": 116,
    "start_time": "2023-07-02T09:49:49.598Z"
   },
   {
    "duration": 7,
    "start_time": "2023-07-02T09:49:51.419Z"
   },
   {
    "duration": 7,
    "start_time": "2023-07-02T09:49:53.008Z"
   },
   {
    "duration": 6,
    "start_time": "2023-07-02T09:49:54.629Z"
   },
   {
    "duration": 4,
    "start_time": "2023-07-02T09:49:57.731Z"
   },
   {
    "duration": 12,
    "start_time": "2023-07-02T09:49:59.795Z"
   },
   {
    "duration": 10,
    "start_time": "2023-07-02T09:50:03.388Z"
   },
   {
    "duration": 8,
    "start_time": "2023-07-02T09:50:06.297Z"
   },
   {
    "duration": 9,
    "start_time": "2023-07-02T09:50:09.975Z"
   },
   {
    "duration": 9,
    "start_time": "2023-07-02T09:50:11.996Z"
   },
   {
    "duration": 7,
    "start_time": "2023-07-02T09:50:14.200Z"
   },
   {
    "duration": 8,
    "start_time": "2023-07-02T09:50:16.295Z"
   },
   {
    "duration": 9,
    "start_time": "2023-07-02T09:50:18.621Z"
   },
   {
    "duration": 45,
    "start_time": "2023-07-02T09:50:21.195Z"
   },
   {
    "duration": 10,
    "start_time": "2023-07-02T09:50:26.445Z"
   },
   {
    "duration": 143,
    "start_time": "2023-07-02T09:50:27.998Z"
   },
   {
    "duration": 15,
    "start_time": "2023-07-02T09:50:29.539Z"
   },
   {
    "duration": 22,
    "start_time": "2023-07-02T09:50:31.201Z"
   },
   {
    "duration": 640,
    "start_time": "2023-07-02T09:50:33.130Z"
   },
   {
    "duration": 695,
    "start_time": "2023-07-02T09:50:35.599Z"
   },
   {
    "duration": 153,
    "start_time": "2023-07-02T09:50:39.016Z"
   },
   {
    "duration": 17,
    "start_time": "2023-07-02T09:50:42.785Z"
   },
   {
    "duration": 25,
    "start_time": "2023-07-02T09:50:44.631Z"
   },
   {
    "duration": 223,
    "start_time": "2023-07-02T09:50:46.745Z"
   },
   {
    "duration": 7,
    "start_time": "2023-07-02T09:50:48.500Z"
   },
   {
    "duration": 11,
    "start_time": "2023-07-02T09:50:50.054Z"
   },
   {
    "duration": 165,
    "start_time": "2023-07-02T09:50:51.437Z"
   },
   {
    "duration": 15,
    "start_time": "2023-07-02T09:50:53.051Z"
   },
   {
    "duration": 23,
    "start_time": "2023-07-02T09:50:54.498Z"
   },
   {
    "duration": 1008,
    "start_time": "2023-07-02T09:50:56.110Z"
   },
   {
    "duration": 851,
    "start_time": "2023-07-02T09:50:59.050Z"
   },
   {
    "duration": 9,
    "start_time": "2023-07-02T09:51:01.518Z"
   },
   {
    "duration": 17,
    "start_time": "2023-07-02T09:51:04.350Z"
   },
   {
    "duration": 27,
    "start_time": "2023-07-02T09:51:06.020Z"
   },
   {
    "duration": 255,
    "start_time": "2023-07-02T09:51:08.882Z"
   },
   {
    "duration": 10,
    "start_time": "2023-07-02T09:51:10.719Z"
   },
   {
    "duration": 19,
    "start_time": "2023-07-02T09:51:12.502Z"
   },
   {
    "duration": 25,
    "start_time": "2023-07-02T09:51:13.936Z"
   },
   {
    "duration": 245,
    "start_time": "2023-07-02T09:51:15.602Z"
   },
   {
    "duration": 9,
    "start_time": "2023-07-02T09:51:17.202Z"
   },
   {
    "duration": 133,
    "start_time": "2023-07-02T09:51:18.608Z"
   },
   {
    "duration": 16,
    "start_time": "2023-07-02T09:51:20.162Z"
   },
   {
    "duration": 23,
    "start_time": "2023-07-02T09:51:21.737Z"
   },
   {
    "duration": 794,
    "start_time": "2023-07-02T09:51:23.755Z"
   },
   {
    "duration": 763,
    "start_time": "2023-07-02T09:51:26.716Z"
   },
   {
    "duration": 24,
    "start_time": "2023-07-02T09:51:29.749Z"
   },
   {
    "duration": 23,
    "start_time": "2023-07-02T09:51:32.329Z"
   },
   {
    "duration": 24,
    "start_time": "2023-07-02T09:51:34.211Z"
   },
   {
    "duration": 22,
    "start_time": "2023-07-02T09:51:36.213Z"
   },
   {
    "duration": 21,
    "start_time": "2023-07-02T09:51:38.296Z"
   },
   {
    "duration": 24,
    "start_time": "2023-07-02T09:51:40.702Z"
   },
   {
    "duration": 10,
    "start_time": "2023-07-02T09:51:42.571Z"
   },
   {
    "duration": 10,
    "start_time": "2023-07-02T09:51:51.098Z"
   },
   {
    "duration": 12,
    "start_time": "2023-07-02T09:53:06.100Z"
   },
   {
    "duration": 11,
    "start_time": "2023-07-02T09:53:15.311Z"
   },
   {
    "duration": 7,
    "start_time": "2023-07-02T09:53:21.008Z"
   },
   {
    "duration": 10,
    "start_time": "2023-07-02T10:15:14.705Z"
   },
   {
    "duration": 9,
    "start_time": "2023-07-02T10:15:35.638Z"
   },
   {
    "duration": 22,
    "start_time": "2023-07-02T10:17:22.505Z"
   },
   {
    "duration": 8,
    "start_time": "2023-07-02T10:26:08.896Z"
   },
   {
    "duration": 29,
    "start_time": "2023-07-02T10:26:49.148Z"
   },
   {
    "duration": 8,
    "start_time": "2023-07-02T10:28:45.012Z"
   },
   {
    "duration": 8,
    "start_time": "2023-07-02T10:29:58.246Z"
   },
   {
    "duration": 9,
    "start_time": "2023-07-02T10:50:04.911Z"
   },
   {
    "duration": 9,
    "start_time": "2023-07-02T10:53:41.142Z"
   },
   {
    "duration": 8,
    "start_time": "2023-07-02T10:53:43.677Z"
   },
   {
    "duration": 14,
    "start_time": "2023-07-02T10:56:11.945Z"
   },
   {
    "duration": 160,
    "start_time": "2023-07-02T10:56:17.535Z"
   },
   {
    "duration": 17,
    "start_time": "2023-07-02T10:56:32.881Z"
   },
   {
    "duration": 26,
    "start_time": "2023-07-02T10:56:34.915Z"
   },
   {
    "duration": 6,
    "start_time": "2023-07-02T11:11:14.639Z"
   },
   {
    "duration": 26,
    "start_time": "2023-07-02T11:11:21.897Z"
   },
   {
    "duration": 9,
    "start_time": "2023-07-02T11:17:06.849Z"
   },
   {
    "duration": 9,
    "start_time": "2023-07-02T11:17:40.815Z"
   },
   {
    "duration": 9,
    "start_time": "2023-07-02T11:17:51.611Z"
   },
   {
    "duration": 11,
    "start_time": "2023-07-02T11:18:15.011Z"
   },
   {
    "duration": 10,
    "start_time": "2023-07-02T11:18:39.221Z"
   },
   {
    "duration": 9,
    "start_time": "2023-07-02T11:48:55.099Z"
   },
   {
    "duration": 16,
    "start_time": "2023-07-02T11:52:13.762Z"
   },
   {
    "duration": 15,
    "start_time": "2023-07-02T11:52:29.955Z"
   },
   {
    "duration": 14,
    "start_time": "2023-07-02T12:00:16.418Z"
   },
   {
    "duration": 101,
    "start_time": "2023-07-02T12:02:57.473Z"
   },
   {
    "duration": 15,
    "start_time": "2023-07-02T12:03:01.136Z"
   },
   {
    "duration": 14,
    "start_time": "2023-07-02T12:03:03.508Z"
   },
   {
    "duration": 11,
    "start_time": "2023-07-02T12:04:09.431Z"
   },
   {
    "duration": 20,
    "start_time": "2023-07-02T12:04:16.730Z"
   },
   {
    "duration": 14,
    "start_time": "2023-07-02T12:04:50.695Z"
   },
   {
    "duration": 15,
    "start_time": "2023-07-02T12:05:08.351Z"
   },
   {
    "duration": 15,
    "start_time": "2023-07-02T12:05:29.122Z"
   },
   {
    "duration": 13,
    "start_time": "2023-07-02T12:05:36.594Z"
   },
   {
    "duration": 122,
    "start_time": "2023-07-02T12:05:41.789Z"
   },
   {
    "duration": 19,
    "start_time": "2023-07-02T12:05:50.547Z"
   },
   {
    "duration": 30,
    "start_time": "2023-07-02T12:07:32.214Z"
   },
   {
    "duration": 9,
    "start_time": "2023-07-02T12:08:22.020Z"
   },
   {
    "duration": 16,
    "start_time": "2023-07-02T12:12:55.507Z"
   },
   {
    "duration": 15,
    "start_time": "2023-07-02T12:13:41.620Z"
   },
   {
    "duration": 18,
    "start_time": "2023-07-02T12:15:02.382Z"
   },
   {
    "duration": 14,
    "start_time": "2023-07-02T12:15:34.692Z"
   },
   {
    "duration": 1465,
    "start_time": "2023-07-04T07:07:03.914Z"
   },
   {
    "duration": 1404,
    "start_time": "2023-07-04T07:07:07.550Z"
   },
   {
    "duration": 12,
    "start_time": "2023-07-04T07:07:11.954Z"
   },
   {
    "duration": 12,
    "start_time": "2023-07-04T07:07:14.164Z"
   },
   {
    "duration": 4,
    "start_time": "2023-07-04T07:07:16.736Z"
   },
   {
    "duration": 5,
    "start_time": "2023-07-04T07:07:18.216Z"
   },
   {
    "duration": 110,
    "start_time": "2023-07-04T07:07:19.724Z"
   },
   {
    "duration": 5,
    "start_time": "2023-07-04T07:07:21.573Z"
   },
   {
    "duration": 4,
    "start_time": "2023-07-04T07:07:22.950Z"
   },
   {
    "duration": 5,
    "start_time": "2023-07-04T07:07:25.310Z"
   },
   {
    "duration": 4,
    "start_time": "2023-07-04T07:07:26.952Z"
   },
   {
    "duration": 99,
    "start_time": "2023-07-04T07:07:28.518Z"
   },
   {
    "duration": 7,
    "start_time": "2023-07-04T07:07:30.259Z"
   },
   {
    "duration": 7,
    "start_time": "2023-07-04T07:07:31.740Z"
   },
   {
    "duration": 30,
    "start_time": "2023-07-04T07:13:19.628Z"
   },
   {
    "duration": 32,
    "start_time": "2023-07-04T07:14:54.605Z"
   },
   {
    "duration": 5,
    "start_time": "2023-07-04T07:15:13.688Z"
   },
   {
    "duration": 3,
    "start_time": "2023-07-04T07:15:46.029Z"
   },
   {
    "duration": 1386,
    "start_time": "2023-07-04T07:15:48.510Z"
   },
   {
    "duration": 5,
    "start_time": "2023-07-04T07:16:14.229Z"
   },
   {
    "duration": 17,
    "start_time": "2023-07-04T07:16:21.893Z"
   },
   {
    "duration": 17,
    "start_time": "2023-07-04T07:16:25.093Z"
   },
   {
    "duration": 6,
    "start_time": "2023-07-04T07:16:30.200Z"
   },
   {
    "duration": 5,
    "start_time": "2023-07-04T07:16:36.317Z"
   },
   {
    "duration": 110,
    "start_time": "2023-07-04T07:16:38.343Z"
   },
   {
    "duration": 5,
    "start_time": "2023-07-04T07:16:43.234Z"
   },
   {
    "duration": 4,
    "start_time": "2023-07-04T07:16:45.958Z"
   },
   {
    "duration": 5,
    "start_time": "2023-07-04T07:17:09.233Z"
   },
   {
    "duration": 5,
    "start_time": "2023-07-04T07:17:29.220Z"
   },
   {
    "duration": 5,
    "start_time": "2023-07-04T07:17:35.229Z"
   },
   {
    "duration": 4,
    "start_time": "2023-07-04T07:17:40.085Z"
   },
   {
    "duration": 136,
    "start_time": "2023-07-04T07:17:51.809Z"
   },
   {
    "duration": 8,
    "start_time": "2023-07-04T07:17:53.656Z"
   },
   {
    "duration": 4,
    "start_time": "2023-07-04T07:17:55.294Z"
   },
   {
    "duration": 5,
    "start_time": "2023-07-04T07:17:59.093Z"
   },
   {
    "duration": 25,
    "start_time": "2023-07-04T07:18:22.249Z"
   },
   {
    "duration": 4,
    "start_time": "2023-07-04T07:19:37.029Z"
   },
   {
    "duration": 15,
    "start_time": "2023-07-04T07:21:22.998Z"
   },
   {
    "duration": 11,
    "start_time": "2023-07-04T07:21:31.189Z"
   },
   {
    "duration": 4,
    "start_time": "2023-07-04T07:24:57.305Z"
   },
   {
    "duration": 7,
    "start_time": "2023-07-04T07:32:42.746Z"
   },
   {
    "duration": 24,
    "start_time": "2023-07-04T07:34:35.385Z"
   },
   {
    "duration": 1769,
    "start_time": "2023-07-04T07:42:49.879Z"
   },
   {
    "duration": 1183,
    "start_time": "2023-07-04T07:43:17.667Z"
   },
   {
    "duration": 6,
    "start_time": "2023-07-04T07:43:32.778Z"
   },
   {
    "duration": 8,
    "start_time": "2023-07-04T07:54:35.921Z"
   },
   {
    "duration": 12,
    "start_time": "2023-07-04T07:54:47.027Z"
   },
   {
    "duration": 5,
    "start_time": "2023-07-04T07:54:53.312Z"
   },
   {
    "duration": 5,
    "start_time": "2023-07-04T07:55:03.853Z"
   },
   {
    "duration": 22,
    "start_time": "2023-07-04T07:55:35.455Z"
   },
   {
    "duration": 6,
    "start_time": "2023-07-04T07:56:21.021Z"
   },
   {
    "duration": 6,
    "start_time": "2023-07-04T07:56:24.295Z"
   },
   {
    "duration": 6,
    "start_time": "2023-07-04T07:56:28.964Z"
   },
   {
    "duration": 8,
    "start_time": "2023-07-04T07:56:35.591Z"
   },
   {
    "duration": 7,
    "start_time": "2023-07-04T07:58:46.951Z"
   },
   {
    "duration": 5,
    "start_time": "2023-07-04T08:00:40.113Z"
   },
   {
    "duration": 19,
    "start_time": "2023-07-04T08:01:48.037Z"
   },
   {
    "duration": 24,
    "start_time": "2023-07-04T08:02:00.330Z"
   },
   {
    "duration": 30,
    "start_time": "2023-07-04T08:02:07.190Z"
   },
   {
    "duration": 12,
    "start_time": "2023-07-04T08:03:07.642Z"
   },
   {
    "duration": 31,
    "start_time": "2023-07-04T08:15:16.782Z"
   },
   {
    "duration": 20,
    "start_time": "2023-07-04T08:16:00.954Z"
   },
   {
    "duration": 25,
    "start_time": "2023-07-04T08:16:11.920Z"
   },
   {
    "duration": 22,
    "start_time": "2023-07-04T08:18:24.052Z"
   },
   {
    "duration": 116,
    "start_time": "2023-07-04T08:21:10.297Z"
   },
   {
    "duration": 393,
    "start_time": "2023-07-04T08:21:16.779Z"
   },
   {
    "duration": 9,
    "start_time": "2023-07-04T08:21:26.496Z"
   },
   {
    "duration": 8,
    "start_time": "2023-07-04T08:21:29.746Z"
   },
   {
    "duration": 10,
    "start_time": "2023-07-04T08:21:32.849Z"
   },
   {
    "duration": 8,
    "start_time": "2023-07-04T08:21:34.445Z"
   },
   {
    "duration": 8,
    "start_time": "2023-07-04T08:21:36.598Z"
   },
   {
    "duration": 7,
    "start_time": "2023-07-04T08:24:07.376Z"
   },
   {
    "duration": 21,
    "start_time": "2023-07-04T08:24:14.067Z"
   },
   {
    "duration": 8,
    "start_time": "2023-07-04T08:24:39.901Z"
   },
   {
    "duration": 8,
    "start_time": "2023-07-04T08:24:58.149Z"
   },
   {
    "duration": 10,
    "start_time": "2023-07-04T08:25:00.755Z"
   },
   {
    "duration": 9,
    "start_time": "2023-07-04T08:25:03.861Z"
   },
   {
    "duration": 4,
    "start_time": "2023-07-04T08:26:26.036Z"
   },
   {
    "duration": 1168,
    "start_time": "2023-07-04T08:26:28.607Z"
   },
   {
    "duration": 12,
    "start_time": "2023-07-04T08:26:32.754Z"
   },
   {
    "duration": 18,
    "start_time": "2023-07-04T08:26:34.628Z"
   },
   {
    "duration": 5,
    "start_time": "2023-07-04T08:26:37.514Z"
   },
   {
    "duration": 5,
    "start_time": "2023-07-04T08:26:39.106Z"
   },
   {
    "duration": 105,
    "start_time": "2023-07-04T08:26:40.550Z"
   },
   {
    "duration": 5,
    "start_time": "2023-07-04T08:26:42.969Z"
   },
   {
    "duration": 6,
    "start_time": "2023-07-04T08:26:44.827Z"
   },
   {
    "duration": 5,
    "start_time": "2023-07-04T08:26:46.855Z"
   },
   {
    "duration": 5,
    "start_time": "2023-07-04T08:26:48.750Z"
   },
   {
    "duration": 111,
    "start_time": "2023-07-04T08:26:51.252Z"
   },
   {
    "duration": 7,
    "start_time": "2023-07-04T08:26:53.389Z"
   },
   {
    "duration": 4,
    "start_time": "2023-07-04T08:26:55.026Z"
   },
   {
    "duration": 7,
    "start_time": "2023-07-04T08:26:57.760Z"
   },
   {
    "duration": 18,
    "start_time": "2023-07-04T08:27:08.743Z"
   },
   {
    "duration": 12,
    "start_time": "2023-07-04T08:27:13.863Z"
   },
   {
    "duration": 6,
    "start_time": "2023-07-04T08:27:17.205Z"
   },
   {
    "duration": 24,
    "start_time": "2023-07-04T08:27:19.821Z"
   },
   {
    "duration": 9,
    "start_time": "2023-07-04T08:27:22.556Z"
   },
   {
    "duration": 20,
    "start_time": "2023-07-04T08:27:25.692Z"
   },
   {
    "duration": 9,
    "start_time": "2023-07-04T08:27:29.948Z"
   },
   {
    "duration": 7,
    "start_time": "2023-07-04T08:27:35.477Z"
   },
   {
    "duration": 5,
    "start_time": "2023-07-04T08:27:45.770Z"
   },
   {
    "duration": 7,
    "start_time": "2023-07-04T08:27:48.559Z"
   },
   {
    "duration": 20,
    "start_time": "2023-07-04T08:27:55.093Z"
   },
   {
    "duration": 7,
    "start_time": "2023-07-04T08:30:30.407Z"
   },
   {
    "duration": 9,
    "start_time": "2023-07-04T08:31:25.177Z"
   },
   {
    "duration": 54,
    "start_time": "2023-07-04T08:31:38.590Z"
   },
   {
    "duration": 16,
    "start_time": "2023-07-04T08:32:35.097Z"
   },
   {
    "duration": 150,
    "start_time": "2023-07-04T08:32:37.974Z"
   },
   {
    "duration": 15,
    "start_time": "2023-07-04T08:32:40.456Z"
   },
   {
    "duration": 23,
    "start_time": "2023-07-04T08:32:45.926Z"
   },
   {
    "duration": 698,
    "start_time": "2023-07-04T08:32:48.065Z"
   },
   {
    "duration": 615,
    "start_time": "2023-07-04T08:32:50.554Z"
   },
   {
    "duration": 171,
    "start_time": "2023-07-04T08:32:58.009Z"
   },
   {
    "duration": 16,
    "start_time": "2023-07-04T08:33:48.991Z"
   },
   {
    "duration": 35,
    "start_time": "2023-07-04T08:33:50.933Z"
   },
   {
    "duration": 273,
    "start_time": "2023-07-04T08:33:54.336Z"
   },
   {
    "duration": 5,
    "start_time": "2023-07-04T08:33:56.217Z"
   },
   {
    "duration": 11,
    "start_time": "2023-07-04T08:33:57.867Z"
   },
   {
    "duration": 215,
    "start_time": "2023-07-04T08:33:59.489Z"
   },
   {
    "duration": 20,
    "start_time": "2023-07-04T08:34:01.286Z"
   },
   {
    "duration": 121,
    "start_time": "2023-07-04T08:34:02.729Z"
   },
   {
    "duration": 876,
    "start_time": "2023-07-04T08:34:04.703Z"
   },
   {
    "duration": 950,
    "start_time": "2023-07-04T08:34:07.448Z"
   },
   {
    "duration": 8,
    "start_time": "2023-07-04T08:34:11.653Z"
   },
   {
    "duration": 19,
    "start_time": "2023-07-04T08:34:12.852Z"
   },
   {
    "duration": 20,
    "start_time": "2023-07-04T08:34:14.493Z"
   },
   {
    "duration": 270,
    "start_time": "2023-07-04T08:34:17.600Z"
   },
   {
    "duration": 8,
    "start_time": "2023-07-04T08:34:19.950Z"
   },
   {
    "duration": 19,
    "start_time": "2023-07-04T08:34:21.244Z"
   },
   {
    "duration": 24,
    "start_time": "2023-07-04T08:34:22.651Z"
   },
   {
    "duration": 234,
    "start_time": "2023-07-04T08:34:24.928Z"
   },
   {
    "duration": 18,
    "start_time": "2023-07-04T08:34:27.452Z"
   },
   {
    "duration": 157,
    "start_time": "2023-07-04T08:34:28.913Z"
   },
   {
    "duration": 19,
    "start_time": "2023-07-04T08:34:30.313Z"
   },
   {
    "duration": 25,
    "start_time": "2023-07-04T08:34:31.589Z"
   },
   {
    "duration": 630,
    "start_time": "2023-07-04T08:34:33.892Z"
   },
   {
    "duration": 817,
    "start_time": "2023-07-04T08:34:45.793Z"
   },
   {
    "duration": 10,
    "start_time": "2023-07-04T08:38:20.819Z"
   },
   {
    "duration": 23,
    "start_time": "2023-07-04T08:47:33.094Z"
   },
   {
    "duration": 4,
    "start_time": "2023-07-04T08:48:35.245Z"
   },
   {
    "duration": 1176,
    "start_time": "2023-07-04T08:48:36.908Z"
   },
   {
    "duration": 11,
    "start_time": "2023-07-04T08:48:41.090Z"
   },
   {
    "duration": 13,
    "start_time": "2023-07-04T08:48:43.085Z"
   },
   {
    "duration": 7,
    "start_time": "2023-07-04T08:48:46.039Z"
   },
   {
    "duration": 5,
    "start_time": "2023-07-04T08:48:48.124Z"
   },
   {
    "duration": 111,
    "start_time": "2023-07-04T08:48:49.405Z"
   },
   {
    "duration": 4,
    "start_time": "2023-07-04T08:48:51.487Z"
   },
   {
    "duration": 4,
    "start_time": "2023-07-04T08:48:53.851Z"
   },
   {
    "duration": 8,
    "start_time": "2023-07-04T08:48:56.749Z"
   },
   {
    "duration": 5,
    "start_time": "2023-07-04T08:48:58.191Z"
   },
   {
    "duration": 133,
    "start_time": "2023-07-04T08:48:59.422Z"
   },
   {
    "duration": 7,
    "start_time": "2023-07-04T08:49:01.188Z"
   },
   {
    "duration": 8,
    "start_time": "2023-07-04T08:49:02.831Z"
   },
   {
    "duration": 6,
    "start_time": "2023-07-04T08:49:04.733Z"
   },
   {
    "duration": 14,
    "start_time": "2023-07-04T08:49:06.557Z"
   },
   {
    "duration": 13,
    "start_time": "2023-07-04T08:49:09.045Z"
   },
   {
    "duration": 7,
    "start_time": "2023-07-04T08:49:10.487Z"
   },
   {
    "duration": 32,
    "start_time": "2023-07-04T08:49:12.044Z"
   },
   {
    "duration": 12,
    "start_time": "2023-07-04T08:49:14.334Z"
   },
   {
    "duration": 11,
    "start_time": "2023-07-04T08:49:16.253Z"
   },
   {
    "duration": 11,
    "start_time": "2023-07-04T08:49:17.629Z"
   },
   {
    "duration": 9,
    "start_time": "2023-07-04T08:49:19.690Z"
   },
   {
    "duration": 6,
    "start_time": "2023-07-04T08:49:21.316Z"
   },
   {
    "duration": 7,
    "start_time": "2023-07-04T08:49:23.203Z"
   },
   {
    "duration": 9,
    "start_time": "2023-07-04T08:49:50.896Z"
   },
   {
    "duration": 28,
    "start_time": "2023-07-04T08:59:47.320Z"
   },
   {
    "duration": 42,
    "start_time": "2023-07-04T09:01:01.599Z"
   },
   {
    "duration": 23,
    "start_time": "2023-07-04T09:01:45.001Z"
   },
   {
    "duration": 2086,
    "start_time": "2023-07-04T10:25:40.503Z"
   },
   {
    "duration": 1373,
    "start_time": "2023-07-04T10:25:44.548Z"
   },
   {
    "duration": 23,
    "start_time": "2023-07-04T10:25:50.091Z"
   },
   {
    "duration": 34,
    "start_time": "2023-07-04T10:25:52.328Z"
   },
   {
    "duration": 11,
    "start_time": "2023-07-04T10:25:54.701Z"
   },
   {
    "duration": 8,
    "start_time": "2023-07-04T10:25:56.892Z"
   },
   {
    "duration": 184,
    "start_time": "2023-07-04T10:25:58.195Z"
   },
   {
    "duration": 7,
    "start_time": "2023-07-04T10:26:00.014Z"
   },
   {
    "duration": 6,
    "start_time": "2023-07-04T10:26:01.394Z"
   },
   {
    "duration": 6,
    "start_time": "2023-07-04T10:26:03.725Z"
   },
   {
    "duration": 14,
    "start_time": "2023-07-04T10:26:05.281Z"
   },
   {
    "duration": 155,
    "start_time": "2023-07-04T10:26:06.771Z"
   },
   {
    "duration": 7,
    "start_time": "2023-07-04T10:26:17.822Z"
   },
   {
    "duration": 5,
    "start_time": "2023-07-04T10:26:19.809Z"
   },
   {
    "duration": 12,
    "start_time": "2023-07-04T10:26:22.408Z"
   },
   {
    "duration": 16,
    "start_time": "2023-07-04T10:27:03.678Z"
   },
   {
    "duration": 10,
    "start_time": "2023-07-04T10:27:05.577Z"
   },
   {
    "duration": 26,
    "start_time": "2023-07-04T10:27:07.184Z"
   },
   {
    "duration": 10,
    "start_time": "2023-07-04T10:27:09.405Z"
   },
   {
    "duration": 32,
    "start_time": "2023-07-04T10:27:11.640Z"
   },
   {
    "duration": 13,
    "start_time": "2023-07-04T10:27:13.606Z"
   },
   {
    "duration": 9,
    "start_time": "2023-07-04T10:27:16.197Z"
   },
   {
    "duration": 14,
    "start_time": "2023-07-04T10:27:17.929Z"
   },
   {
    "duration": 9,
    "start_time": "2023-07-04T10:27:19.395Z"
   },
   {
    "duration": 14,
    "start_time": "2023-07-04T10:27:21.666Z"
   },
   {
    "duration": 56,
    "start_time": "2023-07-04T10:27:45.201Z"
   },
   {
    "duration": 19,
    "start_time": "2023-07-04T10:27:48.299Z"
   },
   {
    "duration": 174,
    "start_time": "2023-07-04T10:30:25.320Z"
   },
   {
    "duration": 21,
    "start_time": "2023-07-04T10:30:29.787Z"
   },
   {
    "duration": 38,
    "start_time": "2023-07-04T10:34:44.331Z"
   },
   {
    "duration": 19,
    "start_time": "2023-07-04T10:36:27.085Z"
   },
   {
    "duration": 512,
    "start_time": "2023-07-04T10:39:48.506Z"
   },
   {
    "duration": 22,
    "start_time": "2023-07-04T10:39:58.101Z"
   },
   {
    "duration": 24,
    "start_time": "2023-07-04T10:40:05.948Z"
   },
   {
    "duration": 21,
    "start_time": "2023-07-04T10:40:25.497Z"
   },
   {
    "duration": 25,
    "start_time": "2023-07-04T10:40:56.173Z"
   },
   {
    "duration": 31,
    "start_time": "2023-07-04T10:40:58.921Z"
   },
   {
    "duration": 17,
    "start_time": "2023-07-04T10:41:26.407Z"
   },
   {
    "duration": 27,
    "start_time": "2023-07-04T10:41:42.163Z"
   },
   {
    "duration": 27,
    "start_time": "2023-07-04T10:42:01.592Z"
   },
   {
    "duration": 20,
    "start_time": "2023-07-04T10:42:17.296Z"
   },
   {
    "duration": 20,
    "start_time": "2023-07-04T10:42:28.598Z"
   },
   {
    "duration": 19,
    "start_time": "2023-07-04T10:42:48.671Z"
   },
   {
    "duration": 23,
    "start_time": "2023-07-04T10:43:02.061Z"
   },
   {
    "duration": 2776,
    "start_time": "2023-07-04T10:43:16.297Z"
   },
   {
    "duration": 2910,
    "start_time": "2023-07-04T10:43:31.268Z"
   },
   {
    "duration": 3997,
    "start_time": "2023-07-04T10:43:48.769Z"
   },
   {
    "duration": 20,
    "start_time": "2023-07-04T10:44:18.887Z"
   },
   {
    "duration": 21,
    "start_time": "2023-07-04T10:46:54.694Z"
   },
   {
    "duration": 11,
    "start_time": "2023-07-04T10:48:44.398Z"
   },
   {
    "duration": 16,
    "start_time": "2023-07-04T10:48:52.483Z"
   },
   {
    "duration": 27,
    "start_time": "2023-07-04T10:50:40.737Z"
   },
   {
    "duration": 33,
    "start_time": "2023-07-04T10:50:48.103Z"
   },
   {
    "duration": 17,
    "start_time": "2023-07-04T10:51:59.803Z"
   },
   {
    "duration": 17,
    "start_time": "2023-07-04T10:52:14.187Z"
   },
   {
    "duration": 9,
    "start_time": "2023-07-04T10:52:34.558Z"
   },
   {
    "duration": 14,
    "start_time": "2023-07-04T10:52:40.452Z"
   },
   {
    "duration": 9,
    "start_time": "2023-07-04T10:52:56.989Z"
   },
   {
    "duration": 25,
    "start_time": "2023-07-04T10:53:01.148Z"
   },
   {
    "duration": 9,
    "start_time": "2023-07-04T10:53:02.905Z"
   },
   {
    "duration": 13,
    "start_time": "2023-07-04T10:53:14.403Z"
   },
   {
    "duration": 21,
    "start_time": "2023-07-04T10:53:59.764Z"
   },
   {
    "duration": 33,
    "start_time": "2023-07-04T10:54:11.614Z"
   },
   {
    "duration": 10,
    "start_time": "2023-07-04T10:54:27.581Z"
   },
   {
    "duration": 19,
    "start_time": "2023-07-04T10:55:31.264Z"
   },
   {
    "duration": 17,
    "start_time": "2023-07-04T10:56:32.305Z"
   },
   {
    "duration": 34,
    "start_time": "2023-07-04T10:57:21.009Z"
   },
   {
    "duration": 20,
    "start_time": "2023-07-04T10:58:18.370Z"
   },
   {
    "duration": 31,
    "start_time": "2023-07-04T10:58:26.420Z"
   },
   {
    "duration": 15,
    "start_time": "2023-07-04T10:58:31.302Z"
   },
   {
    "duration": 30,
    "start_time": "2023-07-04T10:58:48.887Z"
   },
   {
    "duration": 16,
    "start_time": "2023-07-04T10:58:55.864Z"
   },
   {
    "duration": 34,
    "start_time": "2023-07-04T10:59:02.421Z"
   },
   {
    "duration": 23,
    "start_time": "2023-07-04T10:59:03.828Z"
   },
   {
    "duration": 13,
    "start_time": "2023-07-04T11:00:01.496Z"
   },
   {
    "duration": 14,
    "start_time": "2023-07-04T11:00:05.128Z"
   },
   {
    "duration": 11,
    "start_time": "2023-07-04T11:04:44.760Z"
   },
   {
    "duration": 9,
    "start_time": "2023-07-04T11:05:05.652Z"
   },
   {
    "duration": 37,
    "start_time": "2023-07-04T11:05:20.101Z"
   },
   {
    "duration": 4,
    "start_time": "2023-07-04T11:07:04.920Z"
   },
   {
    "duration": 1237,
    "start_time": "2023-07-04T11:07:06.684Z"
   },
   {
    "duration": 13,
    "start_time": "2023-07-04T11:07:10.692Z"
   },
   {
    "duration": 13,
    "start_time": "2023-07-04T11:07:12.350Z"
   },
   {
    "duration": 6,
    "start_time": "2023-07-04T11:07:14.809Z"
   },
   {
    "duration": 5,
    "start_time": "2023-07-04T11:07:16.225Z"
   },
   {
    "duration": 131,
    "start_time": "2023-07-04T11:07:17.574Z"
   },
   {
    "duration": 6,
    "start_time": "2023-07-04T11:07:19.950Z"
   },
   {
    "duration": 5,
    "start_time": "2023-07-04T11:07:21.275Z"
   },
   {
    "duration": 6,
    "start_time": "2023-07-04T11:07:23.707Z"
   },
   {
    "duration": 6,
    "start_time": "2023-07-04T11:07:24.998Z"
   },
   {
    "duration": 125,
    "start_time": "2023-07-04T11:07:26.548Z"
   },
   {
    "duration": 7,
    "start_time": "2023-07-04T11:07:28.711Z"
   },
   {
    "duration": 5,
    "start_time": "2023-07-04T11:07:29.767Z"
   },
   {
    "duration": 5,
    "start_time": "2023-07-04T11:07:32.019Z"
   },
   {
    "duration": 12,
    "start_time": "2023-07-04T11:07:34.057Z"
   },
   {
    "duration": 10,
    "start_time": "2023-07-04T11:07:36.056Z"
   },
   {
    "duration": 8,
    "start_time": "2023-07-04T11:07:38.050Z"
   },
   {
    "duration": 29,
    "start_time": "2023-07-04T11:07:39.661Z"
   },
   {
    "duration": 9,
    "start_time": "2023-07-04T11:07:41.939Z"
   },
   {
    "duration": 11,
    "start_time": "2023-07-04T11:07:44.048Z"
   },
   {
    "duration": 10,
    "start_time": "2023-07-04T11:07:46.169Z"
   },
   {
    "duration": 9,
    "start_time": "2023-07-04T11:07:47.898Z"
   },
   {
    "duration": 9,
    "start_time": "2023-07-04T11:07:49.625Z"
   },
   {
    "duration": 9,
    "start_time": "2023-07-04T11:07:51.248Z"
   },
   {
    "duration": 15,
    "start_time": "2023-07-04T11:07:53.347Z"
   },
   {
    "duration": 50,
    "start_time": "2023-07-04T11:07:56.028Z"
   },
   {
    "duration": 20,
    "start_time": "2023-07-04T11:07:58.184Z"
   },
   {
    "duration": 33,
    "start_time": "2023-07-04T11:08:00.120Z"
   },
   {
    "duration": 20,
    "start_time": "2023-07-04T11:08:00.601Z"
   },
   {
    "duration": 20,
    "start_time": "2023-07-04T11:08:00.766Z"
   },
   {
    "duration": 23,
    "start_time": "2023-07-04T11:08:01.044Z"
   },
   {
    "duration": 21,
    "start_time": "2023-07-04T11:08:07.777Z"
   },
   {
    "duration": 4,
    "start_time": "2023-07-04T11:08:12.493Z"
   },
   {
    "duration": 8,
    "start_time": "2023-07-04T11:08:15.549Z"
   },
   {
    "duration": 13,
    "start_time": "2023-07-04T11:08:28.482Z"
   },
   {
    "duration": 13,
    "start_time": "2023-07-04T11:08:33.052Z"
   },
   {
    "duration": 18,
    "start_time": "2023-07-04T11:08:35.721Z"
   },
   {
    "duration": 13,
    "start_time": "2023-07-04T11:08:39.149Z"
   },
   {
    "duration": 7,
    "start_time": "2023-07-04T11:08:40.396Z"
   },
   {
    "duration": 9,
    "start_time": "2023-07-04T11:08:44.164Z"
   },
   {
    "duration": 14,
    "start_time": "2023-07-04T11:08:46.374Z"
   },
   {
    "duration": 12,
    "start_time": "2023-07-04T11:08:48.557Z"
   },
   {
    "duration": 15,
    "start_time": "2023-07-04T11:08:50.276Z"
   },
   {
    "duration": 10,
    "start_time": "2023-07-04T11:08:51.474Z"
   },
   {
    "duration": 16,
    "start_time": "2023-07-04T11:08:55.724Z"
   },
   {
    "duration": 14,
    "start_time": "2023-07-04T11:08:56.855Z"
   },
   {
    "duration": 22,
    "start_time": "2023-07-04T11:09:29.296Z"
   },
   {
    "duration": 16,
    "start_time": "2023-07-04T11:09:55.569Z"
   },
   {
    "duration": 9,
    "start_time": "2023-07-04T11:09:56.712Z"
   },
   {
    "duration": 25,
    "start_time": "2023-07-04T11:09:59.553Z"
   },
   {
    "duration": 10,
    "start_time": "2023-07-04T11:10:01.161Z"
   },
   {
    "duration": 23,
    "start_time": "2023-07-04T11:11:27.903Z"
   },
   {
    "duration": 12,
    "start_time": "2023-07-04T11:11:29.460Z"
   },
   {
    "duration": 15,
    "start_time": "2023-07-04T11:12:13.080Z"
   },
   {
    "duration": 9,
    "start_time": "2023-07-04T11:12:28.495Z"
   },
   {
    "duration": 15,
    "start_time": "2023-07-04T11:13:03.801Z"
   },
   {
    "duration": 7,
    "start_time": "2023-07-04T11:13:05.164Z"
   },
   {
    "duration": 38,
    "start_time": "2023-07-04T11:13:39.001Z"
   },
   {
    "duration": 33,
    "start_time": "2023-07-04T11:13:47.823Z"
   },
   {
    "duration": 23,
    "start_time": "2023-07-04T11:16:11.332Z"
   },
   {
    "duration": 21,
    "start_time": "2023-07-04T11:16:25.445Z"
   },
   {
    "duration": 23,
    "start_time": "2023-07-04T11:21:37.759Z"
   },
   {
    "duration": 12,
    "start_time": "2023-07-04T11:29:37.153Z"
   },
   {
    "duration": 5,
    "start_time": "2023-07-04T11:30:05.708Z"
   },
   {
    "duration": 16,
    "start_time": "2023-07-04T11:30:16.047Z"
   },
   {
    "duration": 9,
    "start_time": "2023-07-04T11:30:18.796Z"
   },
   {
    "duration": 11,
    "start_time": "2023-07-04T11:30:47.716Z"
   },
   {
    "duration": 10,
    "start_time": "2023-07-04T11:30:54.318Z"
   },
   {
    "duration": 25,
    "start_time": "2023-07-04T11:42:40.302Z"
   },
   {
    "duration": 7,
    "start_time": "2023-07-04T11:59:54.939Z"
   },
   {
    "duration": 6,
    "start_time": "2023-07-04T12:00:52.748Z"
   },
   {
    "duration": 7,
    "start_time": "2023-07-04T12:01:17.162Z"
   },
   {
    "duration": 13,
    "start_time": "2023-07-04T12:06:31.757Z"
   },
   {
    "duration": 12,
    "start_time": "2023-07-04T12:10:11.210Z"
   },
   {
    "duration": 14,
    "start_time": "2023-07-04T12:14:34.598Z"
   },
   {
    "duration": 16,
    "start_time": "2023-07-04T12:15:19.511Z"
   },
   {
    "duration": 11,
    "start_time": "2023-07-04T12:17:11.633Z"
   },
   {
    "duration": 15,
    "start_time": "2023-07-04T12:17:21.032Z"
   },
   {
    "duration": 16,
    "start_time": "2023-07-04T12:17:29.918Z"
   },
   {
    "duration": 10,
    "start_time": "2023-07-04T12:18:47.805Z"
   },
   {
    "duration": 15,
    "start_time": "2023-07-04T12:25:32.536Z"
   },
   {
    "duration": 20,
    "start_time": "2023-07-04T12:25:47.825Z"
   },
   {
    "duration": 11,
    "start_time": "2023-07-04T12:26:48.254Z"
   },
   {
    "duration": 9,
    "start_time": "2023-07-04T12:28:49.208Z"
   },
   {
    "duration": 11,
    "start_time": "2023-07-04T12:28:54.904Z"
   },
   {
    "duration": 8,
    "start_time": "2023-07-04T12:32:51.761Z"
   },
   {
    "duration": 1576,
    "start_time": "2023-07-04T15:23:45.231Z"
   },
   {
    "duration": 1202,
    "start_time": "2023-07-04T15:23:56.364Z"
   },
   {
    "duration": 15,
    "start_time": "2023-07-04T15:23:59.831Z"
   },
   {
    "duration": 15,
    "start_time": "2023-07-04T15:24:01.840Z"
   },
   {
    "duration": 5,
    "start_time": "2023-07-04T15:24:05.425Z"
   },
   {
    "duration": 6,
    "start_time": "2023-07-04T15:24:07.026Z"
   },
   {
    "duration": 132,
    "start_time": "2023-07-04T15:24:08.410Z"
   },
   {
    "duration": 6,
    "start_time": "2023-07-04T15:24:10.433Z"
   },
   {
    "duration": 5,
    "start_time": "2023-07-04T15:24:11.766Z"
   },
   {
    "duration": 6,
    "start_time": "2023-07-04T15:24:13.923Z"
   },
   {
    "duration": 6,
    "start_time": "2023-07-04T15:24:15.235Z"
   },
   {
    "duration": 121,
    "start_time": "2023-07-04T15:24:19.333Z"
   },
   {
    "duration": 9,
    "start_time": "2023-07-04T15:24:21.724Z"
   },
   {
    "duration": 6,
    "start_time": "2023-07-04T15:24:23.037Z"
   },
   {
    "duration": 6,
    "start_time": "2023-07-04T15:24:25.657Z"
   },
   {
    "duration": 12,
    "start_time": "2023-07-04T15:24:27.424Z"
   },
   {
    "duration": 12,
    "start_time": "2023-07-04T15:24:29.631Z"
   },
   {
    "duration": 8,
    "start_time": "2023-07-04T15:24:31.023Z"
   },
   {
    "duration": 23,
    "start_time": "2023-07-04T15:24:32.928Z"
   },
   {
    "duration": 9,
    "start_time": "2023-07-04T15:24:35.435Z"
   },
   {
    "duration": 11,
    "start_time": "2023-07-04T15:24:43.624Z"
   },
   {
    "duration": 9,
    "start_time": "2023-07-04T15:24:45.429Z"
   },
   {
    "duration": 7,
    "start_time": "2023-07-04T15:24:46.630Z"
   },
   {
    "duration": 7,
    "start_time": "2023-07-04T15:24:48.347Z"
   },
   {
    "duration": 7,
    "start_time": "2023-07-04T15:24:49.467Z"
   },
   {
    "duration": 11,
    "start_time": "2023-07-04T15:24:56.918Z"
   },
   {
    "duration": 49,
    "start_time": "2023-07-04T15:25:10.445Z"
   },
   {
    "duration": 18,
    "start_time": "2023-07-04T15:25:45.426Z"
   },
   {
    "duration": 19,
    "start_time": "2023-07-04T15:25:47.250Z"
   },
   {
    "duration": 19,
    "start_time": "2023-07-04T15:25:50.243Z"
   },
   {
    "duration": 18,
    "start_time": "2023-07-04T15:25:52.057Z"
   },
   {
    "duration": 9,
    "start_time": "2023-07-04T15:25:53.735Z"
   },
   {
    "duration": 132,
    "start_time": "2023-07-04T15:37:33.824Z"
   },
   {
    "duration": 7,
    "start_time": "2023-07-04T15:38:22.454Z"
   },
   {
    "duration": 10,
    "start_time": "2023-07-04T15:38:35.040Z"
   },
   {
    "duration": 14,
    "start_time": "2023-07-04T15:39:57.236Z"
   },
   {
    "duration": 19,
    "start_time": "2023-07-04T15:40:43.126Z"
   },
   {
    "duration": 11,
    "start_time": "2023-07-04T15:41:33.641Z"
   },
   {
    "duration": 9,
    "start_time": "2023-07-04T15:41:49.057Z"
   },
   {
    "duration": 15,
    "start_time": "2023-07-04T15:47:43.430Z"
   },
   {
    "duration": 14,
    "start_time": "2023-07-04T15:49:02.465Z"
   },
   {
    "duration": 22,
    "start_time": "2023-07-04T15:51:49.321Z"
   },
   {
    "duration": 7,
    "start_time": "2023-07-04T15:52:50.045Z"
   },
   {
    "duration": 6,
    "start_time": "2023-07-04T15:53:28.148Z"
   },
   {
    "duration": 7,
    "start_time": "2023-07-04T16:10:00.362Z"
   },
   {
    "duration": 21,
    "start_time": "2023-07-04T16:11:38.431Z"
   },
   {
    "duration": 28,
    "start_time": "2023-07-04T16:11:55.705Z"
   },
   {
    "duration": 28,
    "start_time": "2023-07-04T16:17:27.028Z"
   },
   {
    "duration": 7,
    "start_time": "2023-07-04T16:18:50.043Z"
   },
   {
    "duration": 18,
    "start_time": "2023-07-04T16:20:35.028Z"
   },
   {
    "duration": 19,
    "start_time": "2023-07-04T16:21:07.321Z"
   },
   {
    "duration": 17,
    "start_time": "2023-07-04T16:24:02.966Z"
   },
   {
    "duration": 21,
    "start_time": "2023-07-04T16:24:11.166Z"
   },
   {
    "duration": 12,
    "start_time": "2023-07-04T16:35:26.837Z"
   },
   {
    "duration": 27,
    "start_time": "2023-07-04T16:35:52.791Z"
   },
   {
    "duration": 20,
    "start_time": "2023-07-04T17:16:11.522Z"
   },
   {
    "duration": 7,
    "start_time": "2023-07-04T17:32:53.963Z"
   },
   {
    "duration": 17,
    "start_time": "2023-07-04T17:32:55.598Z"
   },
   {
    "duration": 38,
    "start_time": "2023-07-04T17:33:05.219Z"
   },
   {
    "duration": 15,
    "start_time": "2023-07-04T17:38:35.203Z"
   },
   {
    "duration": 26,
    "start_time": "2023-07-04T17:38:39.915Z"
   },
   {
    "duration": 14,
    "start_time": "2023-07-04T17:41:23.165Z"
   },
   {
    "duration": 9,
    "start_time": "2023-07-04T18:01:19.150Z"
   },
   {
    "duration": 13,
    "start_time": "2023-07-04T18:02:10.744Z"
   },
   {
    "duration": 20,
    "start_time": "2023-07-04T18:05:56.362Z"
   },
   {
    "duration": 6,
    "start_time": "2023-07-04T18:10:08.519Z"
   },
   {
    "duration": 16,
    "start_time": "2023-07-04T18:10:15.504Z"
   },
   {
    "duration": 19,
    "start_time": "2023-07-04T18:11:33.132Z"
   },
   {
    "duration": 16,
    "start_time": "2023-07-04T18:11:38.068Z"
   },
   {
    "duration": 14,
    "start_time": "2023-07-04T18:12:53.673Z"
   },
   {
    "duration": 16,
    "start_time": "2023-07-04T18:12:59.757Z"
   },
   {
    "duration": 9,
    "start_time": "2023-07-04T18:13:06.118Z"
   },
   {
    "duration": 21,
    "start_time": "2023-07-04T18:17:08.548Z"
   },
   {
    "duration": 16,
    "start_time": "2023-07-04T18:18:38.312Z"
   },
   {
    "duration": 13,
    "start_time": "2023-07-04T18:22:09.447Z"
   },
   {
    "duration": 16,
    "start_time": "2023-07-04T18:22:20.409Z"
   },
   {
    "duration": 17,
    "start_time": "2023-07-04T18:22:25.167Z"
   },
   {
    "duration": 14,
    "start_time": "2023-07-04T18:24:16.302Z"
   },
   {
    "duration": 9,
    "start_time": "2023-07-04T18:24:18.737Z"
   },
   {
    "duration": 31,
    "start_time": "2023-07-04T18:26:13.133Z"
   },
   {
    "duration": 9,
    "start_time": "2023-07-04T18:26:36.529Z"
   },
   {
    "duration": 8,
    "start_time": "2023-07-04T18:26:57.775Z"
   },
   {
    "duration": 13,
    "start_time": "2023-07-04T18:27:15.594Z"
   },
   {
    "duration": 12,
    "start_time": "2023-07-04T18:27:52.905Z"
   },
   {
    "duration": 12,
    "start_time": "2023-07-04T18:27:55.720Z"
   },
   {
    "duration": 13,
    "start_time": "2023-07-04T18:28:23.929Z"
   },
   {
    "duration": 27,
    "start_time": "2023-07-04T18:30:23.401Z"
   },
   {
    "duration": 14,
    "start_time": "2023-07-04T18:30:50.256Z"
   },
   {
    "duration": 20,
    "start_time": "2023-07-04T18:30:54.625Z"
   },
   {
    "duration": 12,
    "start_time": "2023-07-04T18:31:09.104Z"
   },
   {
    "duration": 18,
    "start_time": "2023-07-04T18:31:12.764Z"
   },
   {
    "duration": 28,
    "start_time": "2023-07-04T18:31:27.763Z"
   },
   {
    "duration": 14,
    "start_time": "2023-07-04T18:31:31.310Z"
   },
   {
    "duration": 19,
    "start_time": "2023-07-04T18:31:33.418Z"
   },
   {
    "duration": 27,
    "start_time": "2023-07-04T18:31:54.323Z"
   },
   {
    "duration": 15,
    "start_time": "2023-07-04T18:31:58.209Z"
   },
   {
    "duration": 24,
    "start_time": "2023-07-04T18:31:59.957Z"
   },
   {
    "duration": 13,
    "start_time": "2023-07-04T18:37:16.019Z"
   },
   {
    "duration": 21,
    "start_time": "2023-07-04T18:37:20.151Z"
   },
   {
    "duration": 10,
    "start_time": "2023-07-04T18:37:35.461Z"
   },
   {
    "duration": 18,
    "start_time": "2023-07-04T18:37:40.562Z"
   },
   {
    "duration": 19,
    "start_time": "2023-07-04T18:37:43.500Z"
   },
   {
    "duration": 18,
    "start_time": "2023-07-04T18:37:45.122Z"
   },
   {
    "duration": 7,
    "start_time": "2023-07-04T18:38:35.211Z"
   },
   {
    "duration": 1280,
    "start_time": "2023-07-04T18:38:38.247Z"
   },
   {
    "duration": 17,
    "start_time": "2023-07-04T18:38:41.917Z"
   },
   {
    "duration": 15,
    "start_time": "2023-07-04T18:38:43.523Z"
   },
   {
    "duration": 11,
    "start_time": "2023-07-04T18:38:45.499Z"
   },
   {
    "duration": 7,
    "start_time": "2023-07-04T18:38:48.410Z"
   },
   {
    "duration": 187,
    "start_time": "2023-07-04T18:38:50.219Z"
   },
   {
    "duration": 12,
    "start_time": "2023-07-04T18:38:52.202Z"
   },
   {
    "duration": 5,
    "start_time": "2023-07-04T18:38:54.243Z"
   },
   {
    "duration": 6,
    "start_time": "2023-07-04T18:38:55.848Z"
   },
   {
    "duration": 5,
    "start_time": "2023-07-04T18:38:56.943Z"
   },
   {
    "duration": 123,
    "start_time": "2023-07-04T18:39:01.059Z"
   },
   {
    "duration": 9,
    "start_time": "2023-07-04T18:39:02.817Z"
   },
   {
    "duration": 10,
    "start_time": "2023-07-04T18:39:03.873Z"
   },
   {
    "duration": 6,
    "start_time": "2023-07-04T18:39:05.872Z"
   },
   {
    "duration": 13,
    "start_time": "2023-07-04T18:39:07.319Z"
   },
   {
    "duration": 21,
    "start_time": "2023-07-04T18:39:10.002Z"
   },
   {
    "duration": 7,
    "start_time": "2023-07-04T18:39:11.424Z"
   },
   {
    "duration": 24,
    "start_time": "2023-07-04T18:39:13.019Z"
   },
   {
    "duration": 9,
    "start_time": "2023-07-04T18:39:16.558Z"
   },
   {
    "duration": 9,
    "start_time": "2023-07-04T18:39:19.726Z"
   },
   {
    "duration": 10,
    "start_time": "2023-07-04T18:39:21.072Z"
   },
   {
    "duration": 8,
    "start_time": "2023-07-04T18:39:23.024Z"
   },
   {
    "duration": 6,
    "start_time": "2023-07-04T18:39:24.470Z"
   },
   {
    "duration": 9,
    "start_time": "2023-07-04T18:39:26.299Z"
   },
   {
    "duration": 12,
    "start_time": "2023-07-04T18:39:28.239Z"
   },
   {
    "duration": 43,
    "start_time": "2023-07-04T18:39:29.835Z"
   },
   {
    "duration": 22,
    "start_time": "2023-07-04T18:39:32.101Z"
   },
   {
    "duration": 19,
    "start_time": "2023-07-04T18:39:33.435Z"
   },
   {
    "duration": 32,
    "start_time": "2023-07-04T18:39:35.092Z"
   },
   {
    "duration": 27,
    "start_time": "2023-07-04T18:39:38.523Z"
   },
   {
    "duration": 26,
    "start_time": "2023-07-04T18:39:39.951Z"
   },
   {
    "duration": 13,
    "start_time": "2023-07-04T18:39:41.554Z"
   },
   {
    "duration": 18,
    "start_time": "2023-07-04T18:39:43.194Z"
   },
   {
    "duration": 19,
    "start_time": "2023-07-04T18:39:44.228Z"
   },
   {
    "duration": 13,
    "start_time": "2023-07-04T18:39:45.235Z"
   },
   {
    "duration": 19,
    "start_time": "2023-07-04T18:40:02.897Z"
   },
   {
    "duration": 14,
    "start_time": "2023-07-04T18:40:03.934Z"
   },
   {
    "duration": 15,
    "start_time": "2023-07-04T18:40:10.800Z"
   },
   {
    "duration": 11,
    "start_time": "2023-07-04T18:41:47.684Z"
   },
   {
    "duration": 16,
    "start_time": "2023-07-04T18:41:50.227Z"
   },
   {
    "duration": 12,
    "start_time": "2023-07-04T18:41:52.651Z"
   },
   {
    "duration": 8,
    "start_time": "2023-07-04T18:41:53.833Z"
   },
   {
    "duration": 24,
    "start_time": "2023-07-04T18:43:56.916Z"
   },
   {
    "duration": 13,
    "start_time": "2023-07-04T18:44:23.935Z"
   },
   {
    "duration": 19,
    "start_time": "2023-07-04T18:44:31.572Z"
   },
   {
    "duration": 20,
    "start_time": "2023-07-04T18:45:00.910Z"
   },
   {
    "duration": 12,
    "start_time": "2023-07-04T18:45:02.815Z"
   },
   {
    "duration": 9,
    "start_time": "2023-07-04T18:45:07.626Z"
   },
   {
    "duration": 13,
    "start_time": "2023-07-04T19:40:45.939Z"
   },
   {
    "duration": 157,
    "start_time": "2023-07-04T19:40:49.657Z"
   },
   {
    "duration": 21,
    "start_time": "2023-07-04T19:40:52.901Z"
   },
   {
    "duration": 27,
    "start_time": "2023-07-04T19:40:57.716Z"
   },
   {
    "duration": 777,
    "start_time": "2023-07-04T19:41:04.653Z"
   },
   {
    "duration": 657,
    "start_time": "2023-07-04T19:41:07.091Z"
   },
   {
    "duration": 160,
    "start_time": "2023-07-04T19:41:16.123Z"
   },
   {
    "duration": 165,
    "start_time": "2023-07-04T19:41:21.120Z"
   },
   {
    "duration": 17,
    "start_time": "2023-07-04T19:41:24.181Z"
   },
   {
    "duration": 23,
    "start_time": "2023-07-04T19:41:29.919Z"
   },
   {
    "duration": 288,
    "start_time": "2023-07-04T19:41:49.763Z"
   },
   {
    "duration": 5,
    "start_time": "2023-07-04T19:41:52.223Z"
   },
   {
    "duration": 10,
    "start_time": "2023-07-04T19:41:54.047Z"
   },
   {
    "duration": 168,
    "start_time": "2023-07-04T19:41:57.131Z"
   },
   {
    "duration": 18,
    "start_time": "2023-07-04T19:41:59.411Z"
   },
   {
    "duration": 22,
    "start_time": "2023-07-04T19:42:02.015Z"
   },
   {
    "duration": 887,
    "start_time": "2023-07-04T19:42:04.831Z"
   },
   {
    "duration": 803,
    "start_time": "2023-07-04T19:42:07.654Z"
   },
   {
    "duration": 8,
    "start_time": "2023-07-04T19:42:26.994Z"
   },
   {
    "duration": 20,
    "start_time": "2023-07-04T19:42:30.506Z"
   },
   {
    "duration": 23,
    "start_time": "2023-07-04T19:42:34.305Z"
   },
   {
    "duration": 325,
    "start_time": "2023-07-04T19:42:43.512Z"
   },
   {
    "duration": 8,
    "start_time": "2023-07-04T19:42:49.212Z"
   },
   {
    "duration": 16,
    "start_time": "2023-07-04T19:42:53.561Z"
   },
   {
    "duration": 21,
    "start_time": "2023-07-04T19:42:55.254Z"
   },
   {
    "duration": 217,
    "start_time": "2023-07-04T19:43:51.620Z"
   },
   {
    "duration": 15,
    "start_time": "2023-07-04T19:44:02.643Z"
   },
   {
    "duration": 133,
    "start_time": "2023-07-04T19:44:09.665Z"
   },
   {
    "duration": 17,
    "start_time": "2023-07-04T19:44:26.221Z"
   },
   {
    "duration": 23,
    "start_time": "2023-07-04T19:44:28.074Z"
   },
   {
    "duration": 736,
    "start_time": "2023-07-04T19:44:30.110Z"
   },
   {
    "duration": 814,
    "start_time": "2023-07-04T19:44:51.365Z"
   },
   {
    "duration": 22,
    "start_time": "2023-07-04T19:44:59.239Z"
   },
   {
    "duration": 22,
    "start_time": "2023-07-04T19:45:00.955Z"
   },
   {
    "duration": 25,
    "start_time": "2023-07-04T19:45:02.575Z"
   },
   {
    "duration": 21,
    "start_time": "2023-07-04T19:45:04.516Z"
   },
   {
    "duration": 20,
    "start_time": "2023-07-04T19:45:06.122Z"
   },
   {
    "duration": 22,
    "start_time": "2023-07-04T19:45:09.106Z"
   },
   {
    "duration": 1266,
    "start_time": "2023-07-05T06:26:24.414Z"
   },
   {
    "duration": 1324,
    "start_time": "2023-07-05T06:26:28.204Z"
   },
   {
    "duration": 12,
    "start_time": "2023-07-05T06:26:31.240Z"
   },
   {
    "duration": 11,
    "start_time": "2023-07-05T06:26:33.814Z"
   },
   {
    "duration": 4,
    "start_time": "2023-07-05T06:26:52.521Z"
   },
   {
    "duration": 5,
    "start_time": "2023-07-05T06:26:53.895Z"
   },
   {
    "duration": 103,
    "start_time": "2023-07-05T06:26:55.715Z"
   },
   {
    "duration": 6,
    "start_time": "2023-07-05T06:26:57.176Z"
   },
   {
    "duration": 4,
    "start_time": "2023-07-05T06:26:58.615Z"
   },
   {
    "duration": 5,
    "start_time": "2023-07-05T06:27:00.675Z"
   },
   {
    "duration": 4,
    "start_time": "2023-07-05T06:27:02.174Z"
   },
   {
    "duration": 93,
    "start_time": "2023-07-05T06:27:03.763Z"
   },
   {
    "duration": 8,
    "start_time": "2023-07-05T06:27:05.316Z"
   },
   {
    "duration": 23,
    "start_time": "2023-07-05T06:27:06.687Z"
   },
   {
    "duration": 5,
    "start_time": "2023-07-05T06:27:09.055Z"
   },
   {
    "duration": 11,
    "start_time": "2023-07-05T06:27:12.823Z"
   },
   {
    "duration": 9,
    "start_time": "2023-07-05T06:27:16.985Z"
   },
   {
    "duration": 5,
    "start_time": "2023-07-05T06:27:19.038Z"
   },
   {
    "duration": 19,
    "start_time": "2023-07-05T06:27:20.866Z"
   },
   {
    "duration": 8,
    "start_time": "2023-07-05T06:27:22.949Z"
   },
   {
    "duration": 7,
    "start_time": "2023-07-05T06:27:33.978Z"
   },
   {
    "duration": 7,
    "start_time": "2023-07-05T06:27:37.411Z"
   },
   {
    "duration": 6,
    "start_time": "2023-07-05T06:27:39.868Z"
   },
   {
    "duration": 5,
    "start_time": "2023-07-05T06:27:41.381Z"
   },
   {
    "duration": 6,
    "start_time": "2023-07-05T06:27:42.572Z"
   },
   {
    "duration": 7,
    "start_time": "2023-07-05T06:27:44.450Z"
   },
   {
    "duration": 17,
    "start_time": "2023-07-05T06:27:46.081Z"
   },
   {
    "duration": 12,
    "start_time": "2023-07-05T06:27:48.619Z"
   },
   {
    "duration": 15,
    "start_time": "2023-07-05T06:27:50.529Z"
   },
   {
    "duration": 13,
    "start_time": "2023-07-05T06:27:52.269Z"
   },
   {
    "duration": 10,
    "start_time": "2023-07-05T06:27:53.922Z"
   },
   {
    "duration": 12,
    "start_time": "2023-07-05T06:27:55.722Z"
   },
   {
    "duration": 11,
    "start_time": "2023-07-05T06:27:57.157Z"
   },
   {
    "duration": 8,
    "start_time": "2023-07-05T06:27:58.639Z"
   },
   {
    "duration": 10,
    "start_time": "2023-07-05T06:28:01.098Z"
   },
   {
    "duration": 135,
    "start_time": "2023-07-05T06:28:13.170Z"
   },
   {
    "duration": 11,
    "start_time": "2023-07-05T06:30:47.718Z"
   },
   {
    "duration": 8,
    "start_time": "2023-07-05T06:30:54.763Z"
   },
   {
    "duration": 12,
    "start_time": "2023-07-05T06:31:15.744Z"
   },
   {
    "duration": 12,
    "start_time": "2023-07-05T06:31:16.933Z"
   },
   {
    "duration": 9,
    "start_time": "2023-07-05T06:31:17.946Z"
   },
   {
    "duration": 3,
    "start_time": "2023-07-05T06:31:27.445Z"
   },
   {
    "duration": 1130,
    "start_time": "2023-07-05T06:31:29.775Z"
   },
   {
    "duration": 12,
    "start_time": "2023-07-05T06:31:31.884Z"
   },
   {
    "duration": 12,
    "start_time": "2023-07-05T06:31:33.514Z"
   },
   {
    "duration": 4,
    "start_time": "2023-07-05T06:31:35.781Z"
   },
   {
    "duration": 4,
    "start_time": "2023-07-05T06:31:37.143Z"
   },
   {
    "duration": 93,
    "start_time": "2023-07-05T06:31:38.787Z"
   },
   {
    "duration": 4,
    "start_time": "2023-07-05T06:31:40.783Z"
   },
   {
    "duration": 4,
    "start_time": "2023-07-05T06:31:42.218Z"
   },
   {
    "duration": 7,
    "start_time": "2023-07-05T06:31:43.598Z"
   },
   {
    "duration": 4,
    "start_time": "2023-07-05T06:31:44.953Z"
   },
   {
    "duration": 91,
    "start_time": "2023-07-05T06:31:46.480Z"
   },
   {
    "duration": 5,
    "start_time": "2023-07-05T06:31:53.391Z"
   },
   {
    "duration": 4,
    "start_time": "2023-07-05T06:31:54.819Z"
   },
   {
    "duration": 5,
    "start_time": "2023-07-05T06:31:59.155Z"
   },
   {
    "duration": 12,
    "start_time": "2023-07-05T06:32:00.999Z"
   },
   {
    "duration": 9,
    "start_time": "2023-07-05T06:32:03.165Z"
   },
   {
    "duration": 5,
    "start_time": "2023-07-05T06:32:04.685Z"
   },
   {
    "duration": 20,
    "start_time": "2023-07-05T06:32:06.315Z"
   },
   {
    "duration": 7,
    "start_time": "2023-07-05T06:32:08.415Z"
   },
   {
    "duration": 7,
    "start_time": "2023-07-05T06:32:09.780Z"
   },
   {
    "duration": 9,
    "start_time": "2023-07-05T06:32:11.161Z"
   },
   {
    "duration": 7,
    "start_time": "2023-07-05T06:32:12.772Z"
   },
   {
    "duration": 5,
    "start_time": "2023-07-05T06:32:14.164Z"
   },
   {
    "duration": 7,
    "start_time": "2023-07-05T06:32:15.419Z"
   },
   {
    "duration": 7,
    "start_time": "2023-07-05T06:32:17.467Z"
   },
   {
    "duration": 12,
    "start_time": "2023-07-05T06:32:19.986Z"
   },
   {
    "duration": 12,
    "start_time": "2023-07-05T06:32:20.855Z"
   },
   {
    "duration": 12,
    "start_time": "2023-07-05T06:32:22.349Z"
   },
   {
    "duration": 12,
    "start_time": "2023-07-05T06:32:23.716Z"
   },
   {
    "duration": 11,
    "start_time": "2023-07-05T06:32:24.975Z"
   },
   {
    "duration": 13,
    "start_time": "2023-07-05T06:32:26.219Z"
   },
   {
    "duration": 10,
    "start_time": "2023-07-05T06:32:27.516Z"
   },
   {
    "duration": 7,
    "start_time": "2023-07-05T06:32:29.123Z"
   },
   {
    "duration": 20,
    "start_time": "2023-07-05T06:35:36.463Z"
   },
   {
    "duration": 140,
    "start_time": "2023-07-05T06:45:34.024Z"
   },
   {
    "duration": 142,
    "start_time": "2023-07-05T06:46:07.918Z"
   },
   {
    "duration": 173,
    "start_time": "2023-07-05T06:48:00.615Z"
   },
   {
    "duration": 234,
    "start_time": "2023-07-05T06:48:09.818Z"
   },
   {
    "duration": 57,
    "start_time": "2023-07-05T06:56:33.065Z"
   },
   {
    "duration": 1355,
    "start_time": "2023-07-05T06:56:57.622Z"
   },
   {
    "duration": 1240,
    "start_time": "2023-07-05T06:57:00.511Z"
   },
   {
    "duration": 10,
    "start_time": "2023-07-05T06:57:04.826Z"
   },
   {
    "duration": 11,
    "start_time": "2023-07-05T06:57:06.934Z"
   },
   {
    "duration": 4,
    "start_time": "2023-07-05T06:57:11.593Z"
   },
   {
    "duration": 4,
    "start_time": "2023-07-05T06:57:13.635Z"
   },
   {
    "duration": 103,
    "start_time": "2023-07-05T06:57:14.831Z"
   },
   {
    "duration": 5,
    "start_time": "2023-07-05T06:57:16.457Z"
   },
   {
    "duration": 4,
    "start_time": "2023-07-05T06:57:18.375Z"
   },
   {
    "duration": 5,
    "start_time": "2023-07-05T06:57:21.028Z"
   },
   {
    "duration": 5,
    "start_time": "2023-07-05T06:57:22.327Z"
   },
   {
    "duration": 93,
    "start_time": "2023-07-05T06:57:23.829Z"
   },
   {
    "duration": 6,
    "start_time": "2023-07-05T06:57:25.827Z"
   },
   {
    "duration": 5,
    "start_time": "2023-07-05T06:57:27.553Z"
   },
   {
    "duration": 4,
    "start_time": "2023-07-05T06:57:29.347Z"
   },
   {
    "duration": 14,
    "start_time": "2023-07-05T06:57:30.900Z"
   },
   {
    "duration": 11,
    "start_time": "2023-07-05T06:57:33.819Z"
   },
   {
    "duration": 5,
    "start_time": "2023-07-05T06:57:35.470Z"
   },
   {
    "duration": 19,
    "start_time": "2023-07-05T06:57:36.966Z"
   },
   {
    "duration": 6,
    "start_time": "2023-07-05T06:57:39.030Z"
   },
   {
    "duration": 7,
    "start_time": "2023-07-05T06:57:40.775Z"
   },
   {
    "duration": 8,
    "start_time": "2023-07-05T06:57:42.430Z"
   },
   {
    "duration": 7,
    "start_time": "2023-07-05T06:57:43.675Z"
   },
   {
    "duration": 6,
    "start_time": "2023-07-05T06:57:45.276Z"
   },
   {
    "duration": 8,
    "start_time": "2023-07-05T06:57:48.332Z"
   },
   {
    "duration": 7,
    "start_time": "2023-07-05T06:57:50.129Z"
   },
   {
    "duration": 16,
    "start_time": "2023-07-05T06:57:53.074Z"
   },
   {
    "duration": 12,
    "start_time": "2023-07-05T06:57:54.234Z"
   },
   {
    "duration": 11,
    "start_time": "2023-07-05T06:57:55.632Z"
   },
   {
    "duration": 11,
    "start_time": "2023-07-05T06:57:57.350Z"
   },
   {
    "duration": 11,
    "start_time": "2023-07-05T06:57:58.530Z"
   },
   {
    "duration": 13,
    "start_time": "2023-07-05T06:58:00.480Z"
   },
   {
    "duration": 12,
    "start_time": "2023-07-05T06:58:01.690Z"
   },
   {
    "duration": 8,
    "start_time": "2023-07-05T06:58:04.277Z"
   },
   {
    "duration": 28,
    "start_time": "2023-07-05T06:58:06.431Z"
   },
   {
    "duration": 172,
    "start_time": "2023-07-05T06:58:10.032Z"
   },
   {
    "duration": 225,
    "start_time": "2023-07-05T06:58:12.166Z"
   },
   {
    "duration": 146,
    "start_time": "2023-07-05T06:59:34.323Z"
   },
   {
    "duration": 281,
    "start_time": "2023-07-05T06:59:55.156Z"
   },
   {
    "duration": 202,
    "start_time": "2023-07-05T07:01:04.137Z"
   },
   {
    "duration": 129,
    "start_time": "2023-07-05T07:01:09.730Z"
   },
   {
    "duration": 10,
    "start_time": "2023-07-05T07:01:39.778Z"
   },
   {
    "duration": 10,
    "start_time": "2023-07-05T07:03:16.834Z"
   },
   {
    "duration": 145,
    "start_time": "2023-07-05T07:03:45.682Z"
   },
   {
    "duration": 254,
    "start_time": "2023-07-05T07:05:17.990Z"
   },
   {
    "duration": 112,
    "start_time": "2023-07-05T07:15:22.043Z"
   },
   {
    "duration": 31,
    "start_time": "2023-07-05T07:15:37.694Z"
   },
   {
    "duration": 14489,
    "start_time": "2023-07-05T07:18:19.671Z"
   },
   {
    "duration": 13,
    "start_time": "2023-07-05T07:19:57.923Z"
   },
   {
    "duration": 127,
    "start_time": "2023-07-05T07:21:21.746Z"
   },
   {
    "duration": 150,
    "start_time": "2023-07-05T07:22:48.091Z"
   },
   {
    "duration": 14,
    "start_time": "2023-07-05T07:23:01.098Z"
   },
   {
    "duration": 14,
    "start_time": "2023-07-05T07:23:09.623Z"
   },
   {
    "duration": 17,
    "start_time": "2023-07-05T07:23:39.730Z"
   },
   {
    "duration": 126,
    "start_time": "2023-07-05T07:26:04.615Z"
   },
   {
    "duration": 127,
    "start_time": "2023-07-05T07:26:36.812Z"
   },
   {
    "duration": 240,
    "start_time": "2023-07-05T07:28:16.713Z"
   },
   {
    "duration": 16,
    "start_time": "2023-07-05T07:29:03.298Z"
   },
   {
    "duration": 177,
    "start_time": "2023-07-05T07:29:06.946Z"
   },
   {
    "duration": 141,
    "start_time": "2023-07-05T07:29:13.049Z"
   },
   {
    "duration": 21,
    "start_time": "2023-07-05T07:34:12.789Z"
   },
   {
    "duration": 11,
    "start_time": "2023-07-05T07:34:55.112Z"
   },
   {
    "duration": 19,
    "start_time": "2023-07-05T07:35:10.800Z"
   },
   {
    "duration": 16,
    "start_time": "2023-07-05T07:35:38.363Z"
   },
   {
    "duration": 14,
    "start_time": "2023-07-05T07:35:50.122Z"
   },
   {
    "duration": 386,
    "start_time": "2023-07-05T07:36:04.365Z"
   },
   {
    "duration": 219,
    "start_time": "2023-07-05T07:36:17.352Z"
   },
   {
    "duration": 452,
    "start_time": "2023-07-05T07:36:20.034Z"
   },
   {
    "duration": 10,
    "start_time": "2023-07-05T07:36:25.454Z"
   },
   {
    "duration": 18,
    "start_time": "2023-07-05T07:37:22.880Z"
   },
   {
    "duration": 84,
    "start_time": "2023-07-05T07:37:31.019Z"
   },
   {
    "duration": 87,
    "start_time": "2023-07-05T07:38:43.812Z"
   },
   {
    "duration": 488,
    "start_time": "2023-07-05T07:38:48.038Z"
   },
   {
    "duration": 13,
    "start_time": "2023-07-05T07:38:55.343Z"
   },
   {
    "duration": 12,
    "start_time": "2023-07-05T07:39:05.859Z"
   },
   {
    "duration": 15,
    "start_time": "2023-07-05T07:39:55.792Z"
   },
   {
    "duration": 12,
    "start_time": "2023-07-05T07:40:30.722Z"
   },
   {
    "duration": 18,
    "start_time": "2023-07-05T07:40:51.234Z"
   },
   {
    "duration": 82,
    "start_time": "2023-07-05T07:41:27.328Z"
   },
   {
    "duration": 15,
    "start_time": "2023-07-05T07:44:30.625Z"
   },
   {
    "duration": 86,
    "start_time": "2023-07-05T07:44:37.637Z"
   },
   {
    "duration": 20,
    "start_time": "2023-07-05T07:46:17.793Z"
   },
   {
    "duration": 13,
    "start_time": "2023-07-05T07:46:32.580Z"
   },
   {
    "duration": 106,
    "start_time": "2023-07-05T07:46:45.947Z"
   },
   {
    "duration": 24,
    "start_time": "2023-07-05T07:48:07.515Z"
   },
   {
    "duration": 117,
    "start_time": "2023-07-05T07:48:16.994Z"
   },
   {
    "duration": 5,
    "start_time": "2023-07-05T08:17:32.186Z"
   },
   {
    "duration": 5,
    "start_time": "2023-07-05T08:29:27.973Z"
   },
   {
    "duration": 136,
    "start_time": "2023-07-05T08:49:44.740Z"
   },
   {
    "duration": 171,
    "start_time": "2023-07-05T08:49:49.620Z"
   },
   {
    "duration": 123,
    "start_time": "2023-07-05T08:50:09.246Z"
   },
   {
    "duration": 135,
    "start_time": "2023-07-05T08:50:22.518Z"
   },
   {
    "duration": 120,
    "start_time": "2023-07-05T08:50:39.843Z"
   },
   {
    "duration": 118,
    "start_time": "2023-07-05T08:50:54.066Z"
   },
   {
    "duration": 157,
    "start_time": "2023-07-05T08:55:06.172Z"
   },
   {
    "duration": 148,
    "start_time": "2023-07-05T08:55:33.823Z"
   },
   {
    "duration": 150,
    "start_time": "2023-07-05T08:56:28.098Z"
   },
   {
    "duration": 117,
    "start_time": "2023-07-05T08:57:25.933Z"
   },
   {
    "duration": 351,
    "start_time": "2023-07-05T08:58:39.970Z"
   },
   {
    "duration": 12,
    "start_time": "2023-07-05T09:01:42.562Z"
   },
   {
    "duration": 11,
    "start_time": "2023-07-05T09:02:04.961Z"
   },
   {
    "duration": 11,
    "start_time": "2023-07-05T09:04:35.256Z"
   },
   {
    "duration": 60,
    "start_time": "2023-07-05T09:05:10.514Z"
   },
   {
    "duration": 11,
    "start_time": "2023-07-05T09:05:48.857Z"
   },
   {
    "duration": 3,
    "start_time": "2023-07-05T10:11:20.411Z"
   },
   {
    "duration": 1273,
    "start_time": "2023-07-05T10:11:22.118Z"
   },
   {
    "duration": 11,
    "start_time": "2023-07-05T10:11:25.076Z"
   },
   {
    "duration": 12,
    "start_time": "2023-07-05T10:11:26.815Z"
   },
   {
    "duration": 4,
    "start_time": "2023-07-05T10:11:28.887Z"
   },
   {
    "duration": 6,
    "start_time": "2023-07-05T10:11:30.834Z"
   },
   {
    "duration": 94,
    "start_time": "2023-07-05T10:11:31.956Z"
   },
   {
    "duration": 5,
    "start_time": "2023-07-05T10:11:34.811Z"
   },
   {
    "duration": 4,
    "start_time": "2023-07-05T10:11:35.929Z"
   },
   {
    "duration": 5,
    "start_time": "2023-07-05T10:11:37.676Z"
   },
   {
    "duration": 11,
    "start_time": "2023-07-05T10:11:38.994Z"
   },
   {
    "duration": 7,
    "start_time": "2023-07-05T10:11:40.098Z"
   },
   {
    "duration": 95,
    "start_time": "2023-07-05T10:11:42.184Z"
   },
   {
    "duration": 6,
    "start_time": "2023-07-05T10:11:44.024Z"
   },
   {
    "duration": 4,
    "start_time": "2023-07-05T10:11:45.365Z"
   },
   {
    "duration": 5,
    "start_time": "2023-07-05T10:11:47.811Z"
   },
   {
    "duration": 11,
    "start_time": "2023-07-05T10:11:49.662Z"
   },
   {
    "duration": 9,
    "start_time": "2023-07-05T10:11:52.144Z"
   },
   {
    "duration": 6,
    "start_time": "2023-07-05T10:11:53.480Z"
   },
   {
    "duration": 19,
    "start_time": "2023-07-05T10:11:55.416Z"
   },
   {
    "duration": 8,
    "start_time": "2023-07-05T10:11:57.282Z"
   },
   {
    "duration": 13,
    "start_time": "2023-07-05T10:11:58.892Z"
   },
   {
    "duration": 9,
    "start_time": "2023-07-05T10:12:00.828Z"
   },
   {
    "duration": 8,
    "start_time": "2023-07-05T10:12:02.251Z"
   },
   {
    "duration": 6,
    "start_time": "2023-07-05T10:12:03.789Z"
   },
   {
    "duration": 7,
    "start_time": "2023-07-05T10:12:04.928Z"
   },
   {
    "duration": 7,
    "start_time": "2023-07-05T10:12:06.987Z"
   },
   {
    "duration": 12,
    "start_time": "2023-07-05T10:12:08.765Z"
   },
   {
    "duration": 15,
    "start_time": "2023-07-05T10:12:11.019Z"
   },
   {
    "duration": 24,
    "start_time": "2023-07-05T10:12:13.381Z"
   },
   {
    "duration": 15,
    "start_time": "2023-07-05T10:12:21.286Z"
   },
   {
    "duration": 11,
    "start_time": "2023-07-05T10:12:22.771Z"
   },
   {
    "duration": 11,
    "start_time": "2023-07-05T10:12:24.582Z"
   },
   {
    "duration": 11,
    "start_time": "2023-07-05T10:12:25.728Z"
   },
   {
    "duration": 7,
    "start_time": "2023-07-05T10:12:27.264Z"
   },
   {
    "duration": 26,
    "start_time": "2023-07-05T10:12:29.348Z"
   },
   {
    "duration": 177,
    "start_time": "2023-07-05T10:12:31.821Z"
   },
   {
    "duration": 221,
    "start_time": "2023-07-05T10:12:33.544Z"
   },
   {
    "duration": 226,
    "start_time": "2023-07-05T10:12:35.421Z"
   },
   {
    "duration": 116,
    "start_time": "2023-07-05T10:12:38.246Z"
   },
   {
    "duration": 137,
    "start_time": "2023-07-05T10:12:40.381Z"
   },
   {
    "duration": 214,
    "start_time": "2023-07-05T10:12:41.966Z"
   },
   {
    "duration": 87,
    "start_time": "2023-07-05T10:12:44.149Z"
   },
   {
    "duration": 88,
    "start_time": "2023-07-05T10:12:45.732Z"
   },
   {
    "duration": 92,
    "start_time": "2023-07-05T10:12:47.373Z"
   },
   {
    "duration": 130,
    "start_time": "2023-07-05T10:12:49.355Z"
   },
   {
    "duration": 25,
    "start_time": "2023-07-05T10:15:28.967Z"
   },
   {
    "duration": 185,
    "start_time": "2023-07-05T10:23:47.890Z"
   },
   {
    "duration": 11,
    "start_time": "2023-07-05T10:39:07.980Z"
   },
   {
    "duration": 27,
    "start_time": "2023-07-05T10:39:12.936Z"
   },
   {
    "duration": 99,
    "start_time": "2023-07-05T11:06:55.179Z"
   },
   {
    "duration": 7,
    "start_time": "2023-07-05T12:55:43.678Z"
   },
   {
    "duration": 19,
    "start_time": "2023-07-05T12:59:29.057Z"
   },
   {
    "duration": 17,
    "start_time": "2023-07-05T13:00:31.535Z"
   },
   {
    "duration": 937,
    "start_time": "2023-07-05T13:02:22.310Z"
   },
   {
    "duration": 120,
    "start_time": "2023-07-05T13:02:34.308Z"
   },
   {
    "duration": 126,
    "start_time": "2023-07-05T13:11:01.848Z"
   },
   {
    "duration": 22,
    "start_time": "2023-07-05T13:11:29.732Z"
   },
   {
    "duration": 9,
    "start_time": "2023-07-05T13:12:36.370Z"
   },
   {
    "duration": 12,
    "start_time": "2023-07-05T13:12:40.269Z"
   },
   {
    "duration": 22,
    "start_time": "2023-07-05T13:21:48.157Z"
   },
   {
    "duration": 1369,
    "start_time": "2023-07-05T15:57:56.465Z"
   },
   {
    "duration": 1457,
    "start_time": "2023-07-05T15:58:01.877Z"
   },
   {
    "duration": 12,
    "start_time": "2023-07-05T15:58:05.620Z"
   },
   {
    "duration": 11,
    "start_time": "2023-07-05T15:58:09.620Z"
   },
   {
    "duration": 4,
    "start_time": "2023-07-05T15:58:12.032Z"
   },
   {
    "duration": 4,
    "start_time": "2023-07-05T15:58:13.553Z"
   },
   {
    "duration": 111,
    "start_time": "2023-07-05T15:58:14.724Z"
   },
   {
    "duration": 5,
    "start_time": "2023-07-05T15:58:18.506Z"
   },
   {
    "duration": 4,
    "start_time": "2023-07-05T15:58:19.990Z"
   },
   {
    "duration": 5,
    "start_time": "2023-07-05T15:58:21.887Z"
   },
   {
    "duration": 6,
    "start_time": "2023-07-05T15:58:23.271Z"
   },
   {
    "duration": 114,
    "start_time": "2023-07-05T15:58:25.597Z"
   },
   {
    "duration": 7,
    "start_time": "2023-07-05T15:58:28.915Z"
   },
   {
    "duration": 5,
    "start_time": "2023-07-05T15:58:31.231Z"
   },
   {
    "duration": 5,
    "start_time": "2023-07-05T15:58:33.291Z"
   },
   {
    "duration": 12,
    "start_time": "2023-07-05T15:58:34.616Z"
   },
   {
    "duration": 9,
    "start_time": "2023-07-05T15:58:36.671Z"
   },
   {
    "duration": 5,
    "start_time": "2023-07-05T15:58:38.759Z"
   },
   {
    "duration": 20,
    "start_time": "2023-07-05T15:58:40.392Z"
   },
   {
    "duration": 10,
    "start_time": "2023-07-05T15:58:42.691Z"
   },
   {
    "duration": 7,
    "start_time": "2023-07-05T15:58:44.215Z"
   },
   {
    "duration": 8,
    "start_time": "2023-07-05T15:58:45.589Z"
   },
   {
    "duration": 7,
    "start_time": "2023-07-05T15:58:48.625Z"
   },
   {
    "duration": 6,
    "start_time": "2023-07-05T15:58:50.615Z"
   },
   {
    "duration": 7,
    "start_time": "2023-07-05T15:58:51.722Z"
   },
   {
    "duration": 7,
    "start_time": "2023-07-05T15:58:57.019Z"
   },
   {
    "duration": 14,
    "start_time": "2023-07-05T15:59:24.655Z"
   },
   {
    "duration": 13,
    "start_time": "2023-07-05T15:59:26.421Z"
   },
   {
    "duration": 12,
    "start_time": "2023-07-05T15:59:28.305Z"
   },
   {
    "duration": 12,
    "start_time": "2023-07-05T15:59:30.185Z"
   },
   {
    "duration": 12,
    "start_time": "2023-07-05T15:59:31.999Z"
   },
   {
    "duration": 15,
    "start_time": "2023-07-05T15:59:53.721Z"
   },
   {
    "duration": 11,
    "start_time": "2023-07-05T15:59:54.733Z"
   },
   {
    "duration": 8,
    "start_time": "2023-07-05T15:59:56.248Z"
   },
   {
    "duration": 20,
    "start_time": "2023-07-05T16:00:01.586Z"
   },
   {
    "duration": 179,
    "start_time": "2023-07-05T16:00:03.396Z"
   },
   {
    "duration": 228,
    "start_time": "2023-07-05T16:00:04.897Z"
   },
   {
    "duration": 290,
    "start_time": "2023-07-05T16:00:06.801Z"
   },
   {
    "duration": 126,
    "start_time": "2023-07-05T16:00:09.042Z"
   },
   {
    "duration": 141,
    "start_time": "2023-07-05T16:00:10.597Z"
   },
   {
    "duration": 225,
    "start_time": "2023-07-05T16:00:12.194Z"
   },
   {
    "duration": 87,
    "start_time": "2023-07-05T16:00:13.810Z"
   },
   {
    "duration": 102,
    "start_time": "2023-07-05T16:00:15.733Z"
   },
   {
    "duration": 98,
    "start_time": "2023-07-05T16:00:17.409Z"
   },
   {
    "duration": 72,
    "start_time": "2023-07-05T16:00:19.368Z"
   },
   {
    "duration": 111,
    "start_time": "2023-07-05T16:00:30.199Z"
   },
   {
    "duration": 10,
    "start_time": "2023-07-05T16:00:46.436Z"
   },
   {
    "duration": 9,
    "start_time": "2023-07-05T16:16:40.241Z"
   },
   {
    "duration": 11,
    "start_time": "2023-07-05T16:25:42.423Z"
   },
   {
    "duration": 6,
    "start_time": "2023-07-05T17:58:11.047Z"
   },
   {
    "duration": 9,
    "start_time": "2023-07-05T17:58:29.282Z"
   },
   {
    "duration": 32,
    "start_time": "2023-07-05T18:01:44.130Z"
   },
   {
    "duration": 11,
    "start_time": "2023-07-05T18:04:15.110Z"
   },
   {
    "duration": 24,
    "start_time": "2023-07-05T18:04:26.680Z"
   },
   {
    "duration": 22,
    "start_time": "2023-07-05T18:05:05.524Z"
   },
   {
    "duration": 9,
    "start_time": "2023-07-05T18:05:31.529Z"
   },
   {
    "duration": 21,
    "start_time": "2023-07-05T18:06:48.751Z"
   },
   {
    "duration": 10,
    "start_time": "2023-07-05T18:06:57.223Z"
   },
   {
    "duration": 21,
    "start_time": "2023-07-05T18:08:41.427Z"
   },
   {
    "duration": 10,
    "start_time": "2023-07-05T18:08:56.482Z"
   },
   {
    "duration": 22,
    "start_time": "2023-07-05T18:15:02.396Z"
   },
   {
    "duration": 15,
    "start_time": "2023-07-05T18:17:31.468Z"
   },
   {
    "duration": 207,
    "start_time": "2023-07-05T18:19:44.190Z"
   },
   {
    "duration": 417,
    "start_time": "2023-07-05T18:19:59.834Z"
   },
   {
    "duration": 369,
    "start_time": "2023-07-05T18:20:47.749Z"
   },
   {
    "duration": 1312,
    "start_time": "2023-07-05T18:22:16.741Z"
   },
   {
    "duration": 1377,
    "start_time": "2023-07-05T18:22:18.055Z"
   },
   {
    "duration": 17,
    "start_time": "2023-07-05T18:22:19.434Z"
   },
   {
    "duration": 21,
    "start_time": "2023-07-05T18:22:19.452Z"
   },
   {
    "duration": 7,
    "start_time": "2023-07-05T18:22:19.476Z"
   },
   {
    "duration": 10,
    "start_time": "2023-07-05T18:22:19.485Z"
   },
   {
    "duration": 134,
    "start_time": "2023-07-05T18:22:19.496Z"
   },
   {
    "duration": 5,
    "start_time": "2023-07-05T18:22:19.632Z"
   },
   {
    "duration": 5,
    "start_time": "2023-07-05T18:22:19.639Z"
   },
   {
    "duration": 26,
    "start_time": "2023-07-05T18:22:19.645Z"
   },
   {
    "duration": 10,
    "start_time": "2023-07-05T18:22:19.678Z"
   },
   {
    "duration": 127,
    "start_time": "2023-07-05T18:22:19.692Z"
   },
   {
    "duration": 8,
    "start_time": "2023-07-05T18:22:19.821Z"
   },
   {
    "duration": 6,
    "start_time": "2023-07-05T18:22:19.832Z"
   },
   {
    "duration": 6,
    "start_time": "2023-07-05T18:22:19.839Z"
   },
   {
    "duration": 34,
    "start_time": "2023-07-05T18:22:19.846Z"
   },
   {
    "duration": 13,
    "start_time": "2023-07-05T18:22:19.887Z"
   },
   {
    "duration": 7,
    "start_time": "2023-07-05T18:22:19.902Z"
   },
   {
    "duration": 29,
    "start_time": "2023-07-05T18:22:19.911Z"
   },
   {
    "duration": 34,
    "start_time": "2023-07-05T18:22:19.942Z"
   },
   {
    "duration": 10,
    "start_time": "2023-07-05T18:22:19.981Z"
   },
   {
    "duration": 8,
    "start_time": "2023-07-05T18:22:19.993Z"
   },
   {
    "duration": 13,
    "start_time": "2023-07-05T18:22:20.002Z"
   },
   {
    "duration": 31,
    "start_time": "2023-07-05T18:22:20.017Z"
   },
   {
    "duration": 9,
    "start_time": "2023-07-05T18:22:20.050Z"
   },
   {
    "duration": 27,
    "start_time": "2023-07-05T18:22:20.061Z"
   },
   {
    "duration": 14,
    "start_time": "2023-07-05T18:22:20.090Z"
   },
   {
    "duration": 16,
    "start_time": "2023-07-05T18:22:20.106Z"
   },
   {
    "duration": 12,
    "start_time": "2023-07-05T18:22:20.124Z"
   },
   {
    "duration": 14,
    "start_time": "2023-07-05T18:22:20.138Z"
   },
   {
    "duration": 36,
    "start_time": "2023-07-05T18:22:20.154Z"
   },
   {
    "duration": 13,
    "start_time": "2023-07-05T18:22:20.192Z"
   },
   {
    "duration": 18,
    "start_time": "2023-07-05T18:22:20.206Z"
   },
   {
    "duration": 7,
    "start_time": "2023-07-05T18:22:20.226Z"
   },
   {
    "duration": 28,
    "start_time": "2023-07-05T18:22:20.234Z"
   },
   {
    "duration": 388,
    "start_time": "2023-07-05T18:22:20.270Z"
   },
   {
    "duration": 230,
    "start_time": "2023-07-05T18:22:20.659Z"
   },
   {
    "duration": 1239,
    "start_time": "2023-07-05T18:23:06.313Z"
   },
   {
    "duration": 969,
    "start_time": "2023-07-05T18:23:07.554Z"
   },
   {
    "duration": 14,
    "start_time": "2023-07-05T18:23:08.524Z"
   },
   {
    "duration": 20,
    "start_time": "2023-07-05T18:23:08.541Z"
   },
   {
    "duration": 18,
    "start_time": "2023-07-05T18:23:08.563Z"
   },
   {
    "duration": 24,
    "start_time": "2023-07-05T18:23:08.585Z"
   },
   {
    "duration": 133,
    "start_time": "2023-07-05T18:23:08.611Z"
   },
   {
    "duration": 6,
    "start_time": "2023-07-05T18:23:08.746Z"
   },
   {
    "duration": 19,
    "start_time": "2023-07-05T18:23:08.754Z"
   },
   {
    "duration": 8,
    "start_time": "2023-07-05T18:23:08.775Z"
   },
   {
    "duration": 5,
    "start_time": "2023-07-05T18:23:08.785Z"
   },
   {
    "duration": 123,
    "start_time": "2023-07-05T18:23:08.792Z"
   },
   {
    "duration": 7,
    "start_time": "2023-07-05T18:23:08.916Z"
   },
   {
    "duration": 5,
    "start_time": "2023-07-05T18:23:08.924Z"
   },
   {
    "duration": 5,
    "start_time": "2023-07-05T18:23:08.931Z"
   },
   {
    "duration": 38,
    "start_time": "2023-07-05T18:23:08.937Z"
   },
   {
    "duration": 15,
    "start_time": "2023-07-05T18:23:08.977Z"
   },
   {
    "duration": 7,
    "start_time": "2023-07-05T18:23:08.994Z"
   },
   {
    "duration": 25,
    "start_time": "2023-07-05T18:23:09.003Z"
   },
   {
    "duration": 10,
    "start_time": "2023-07-05T18:23:09.030Z"
   },
   {
    "duration": 39,
    "start_time": "2023-07-05T18:23:09.042Z"
   },
   {
    "duration": 13,
    "start_time": "2023-07-05T18:23:09.085Z"
   },
   {
    "duration": 7,
    "start_time": "2023-07-05T18:23:09.100Z"
   },
   {
    "duration": 6,
    "start_time": "2023-07-05T18:23:09.108Z"
   },
   {
    "duration": 15,
    "start_time": "2023-07-05T18:23:09.116Z"
   },
   {
    "duration": 9,
    "start_time": "2023-07-05T18:23:09.132Z"
   },
   {
    "duration": 44,
    "start_time": "2023-07-05T18:23:09.142Z"
   },
   {
    "duration": 13,
    "start_time": "2023-07-05T18:23:09.190Z"
   },
   {
    "duration": 15,
    "start_time": "2023-07-05T18:23:09.205Z"
   },
   {
    "duration": 17,
    "start_time": "2023-07-05T18:23:09.221Z"
   },
   {
    "duration": 15,
    "start_time": "2023-07-05T18:23:09.239Z"
   },
   {
    "duration": 40,
    "start_time": "2023-07-05T18:23:09.269Z"
   },
   {
    "duration": 12,
    "start_time": "2023-07-05T18:23:09.310Z"
   },
   {
    "duration": 7,
    "start_time": "2023-07-05T18:23:09.324Z"
   },
   {
    "duration": 22,
    "start_time": "2023-07-05T18:23:09.333Z"
   },
   {
    "duration": 339,
    "start_time": "2023-07-05T18:23:09.357Z"
   },
   {
    "duration": 199,
    "start_time": "2023-07-05T18:23:09.697Z"
   },
   {
    "duration": 4,
    "start_time": "2023-07-05T18:24:32.639Z"
   },
   {
    "duration": 964,
    "start_time": "2023-07-05T18:24:32.645Z"
   },
   {
    "duration": 13,
    "start_time": "2023-07-05T18:24:33.610Z"
   },
   {
    "duration": 12,
    "start_time": "2023-07-05T18:24:33.624Z"
   },
   {
    "duration": 5,
    "start_time": "2023-07-05T18:24:33.638Z"
   },
   {
    "duration": 11,
    "start_time": "2023-07-05T18:24:33.644Z"
   },
   {
    "duration": 132,
    "start_time": "2023-07-05T18:24:33.657Z"
   },
   {
    "duration": 5,
    "start_time": "2023-07-05T18:24:33.791Z"
   },
   {
    "duration": 4,
    "start_time": "2023-07-05T18:24:33.798Z"
   },
   {
    "duration": 7,
    "start_time": "2023-07-05T18:24:33.803Z"
   },
   {
    "duration": 6,
    "start_time": "2023-07-05T18:24:33.812Z"
   },
   {
    "duration": 142,
    "start_time": "2023-07-05T18:24:33.820Z"
   },
   {
    "duration": 14,
    "start_time": "2023-07-05T18:24:33.974Z"
   },
   {
    "duration": 6,
    "start_time": "2023-07-05T18:24:33.990Z"
   },
   {
    "duration": 12,
    "start_time": "2023-07-05T18:24:33.998Z"
   },
   {
    "duration": 12,
    "start_time": "2023-07-05T18:24:43.731Z"
   },
   {
    "duration": 9,
    "start_time": "2023-07-05T18:24:45.892Z"
   },
   {
    "duration": 7,
    "start_time": "2023-07-05T18:24:47.339Z"
   },
   {
    "duration": 24,
    "start_time": "2023-07-05T18:24:48.619Z"
   },
   {
    "duration": 9,
    "start_time": "2023-07-05T18:24:51.184Z"
   },
   {
    "duration": 13,
    "start_time": "2023-07-05T18:24:52.660Z"
   },
   {
    "duration": 12,
    "start_time": "2023-07-05T18:24:54.157Z"
   },
   {
    "duration": 7,
    "start_time": "2023-07-05T18:24:55.510Z"
   },
   {
    "duration": 7,
    "start_time": "2023-07-05T18:24:56.891Z"
   },
   {
    "duration": 8,
    "start_time": "2023-07-05T18:24:57.859Z"
   },
   {
    "duration": 8,
    "start_time": "2023-07-05T18:24:59.721Z"
   },
   {
    "duration": 16,
    "start_time": "2023-07-05T18:25:02.579Z"
   },
   {
    "duration": 15,
    "start_time": "2023-07-05T18:25:03.992Z"
   },
   {
    "duration": 17,
    "start_time": "2023-07-05T18:25:05.939Z"
   },
   {
    "duration": 13,
    "start_time": "2023-07-05T18:25:07.426Z"
   },
   {
    "duration": 14,
    "start_time": "2023-07-05T18:25:08.768Z"
   },
   {
    "duration": 17,
    "start_time": "2023-07-05T18:25:10.373Z"
   },
   {
    "duration": 21,
    "start_time": "2023-07-05T18:25:11.969Z"
   },
   {
    "duration": 9,
    "start_time": "2023-07-05T18:25:13.285Z"
   },
   {
    "duration": 33,
    "start_time": "2023-07-05T18:25:16.625Z"
   },
   {
    "duration": 403,
    "start_time": "2023-07-05T18:25:18.787Z"
   },
   {
    "duration": 218,
    "start_time": "2023-07-05T18:25:21.768Z"
   },
   {
    "duration": 86357,
    "start_time": "2023-07-05T18:25:24.444Z"
   },
   {
    "duration": 347,
    "start_time": "2023-07-05T18:26:50.803Z"
   },
   {
    "duration": 306,
    "start_time": "2023-07-05T18:26:51.151Z"
   },
   {
    "duration": 175,
    "start_time": "2023-07-05T18:26:51.460Z"
   },
   {
    "duration": 106280,
    "start_time": "2023-07-05T19:26:40.756Z"
   },
   {
    "duration": 2634,
    "start_time": "2023-07-06T19:24:37.000Z"
   },
   {
    "duration": 1452,
    "start_time": "2023-07-06T19:24:39.636Z"
   },
   {
    "duration": 13,
    "start_time": "2023-07-06T19:24:41.089Z"
   },
   {
    "duration": 41,
    "start_time": "2023-07-06T19:24:41.104Z"
   },
   {
    "duration": 6,
    "start_time": "2023-07-06T19:24:41.151Z"
   },
   {
    "duration": 16,
    "start_time": "2023-07-06T19:24:41.159Z"
   },
   {
    "duration": 179,
    "start_time": "2023-07-06T19:24:41.177Z"
   },
   {
    "duration": 6,
    "start_time": "2023-07-06T19:24:41.357Z"
   },
   {
    "duration": 4,
    "start_time": "2023-07-06T19:24:41.365Z"
   },
   {
    "duration": 6,
    "start_time": "2023-07-06T19:24:41.371Z"
   },
   {
    "duration": 5,
    "start_time": "2023-07-06T19:24:41.380Z"
   },
   {
    "duration": 178,
    "start_time": "2023-07-06T19:24:41.386Z"
   },
   {
    "duration": 8,
    "start_time": "2023-07-06T19:24:41.565Z"
   },
   {
    "duration": 7,
    "start_time": "2023-07-06T19:24:41.576Z"
   },
   {
    "duration": 36,
    "start_time": "2023-07-06T19:24:41.586Z"
   },
   {
    "duration": 34,
    "start_time": "2023-07-06T19:24:41.623Z"
   },
   {
    "duration": 15,
    "start_time": "2023-07-06T19:24:41.659Z"
   },
   {
    "duration": 8,
    "start_time": "2023-07-06T19:24:41.678Z"
   },
   {
    "duration": 58,
    "start_time": "2023-07-06T19:24:41.687Z"
   },
   {
    "duration": 10,
    "start_time": "2023-07-06T19:24:41.752Z"
   },
   {
    "duration": 14,
    "start_time": "2023-07-06T19:24:41.763Z"
   },
   {
    "duration": 9,
    "start_time": "2023-07-06T19:24:41.778Z"
   },
   {
    "duration": 6,
    "start_time": "2023-07-06T19:24:41.789Z"
   },
   {
    "duration": 28,
    "start_time": "2023-07-06T19:24:41.797Z"
   },
   {
    "duration": 14,
    "start_time": "2023-07-06T19:24:41.833Z"
   },
   {
    "duration": 17,
    "start_time": "2023-07-06T19:24:41.850Z"
   },
   {
    "duration": 17,
    "start_time": "2023-07-06T19:24:41.869Z"
   },
   {
    "duration": 14,
    "start_time": "2023-07-06T19:24:41.888Z"
   },
   {
    "duration": 40,
    "start_time": "2023-07-06T19:24:41.904Z"
   },
   {
    "duration": 21,
    "start_time": "2023-07-06T19:24:41.946Z"
   },
   {
    "duration": 16,
    "start_time": "2023-07-06T19:24:41.969Z"
   },
   {
    "duration": 19,
    "start_time": "2023-07-06T19:24:41.987Z"
   },
   {
    "duration": 24,
    "start_time": "2023-07-06T19:24:42.008Z"
   },
   {
    "duration": 18,
    "start_time": "2023-07-06T19:24:42.038Z"
   },
   {
    "duration": 34,
    "start_time": "2023-07-06T19:24:42.058Z"
   },
   {
    "duration": 266,
    "start_time": "2023-07-06T19:24:42.094Z"
   },
   {
    "duration": 379,
    "start_time": "2023-07-06T19:24:42.361Z"
   },
   {
    "duration": 428,
    "start_time": "2023-07-06T19:24:42.746Z"
   },
   {
    "duration": 190,
    "start_time": "2023-07-06T19:24:43.176Z"
   },
   {
    "duration": 216,
    "start_time": "2023-07-06T19:24:43.367Z"
   },
   {
    "duration": 364,
    "start_time": "2023-07-06T19:24:43.587Z"
   },
   {
    "duration": 140,
    "start_time": "2023-07-06T19:24:43.957Z"
   },
   {
    "duration": 161,
    "start_time": "2023-07-06T19:24:44.099Z"
   },
   {
    "duration": 154,
    "start_time": "2023-07-06T19:24:44.263Z"
   },
   {
    "duration": 125,
    "start_time": "2023-07-06T19:24:44.418Z"
   },
   {
    "duration": 14,
    "start_time": "2023-07-06T19:24:44.544Z"
   },
   {
    "duration": 20,
    "start_time": "2023-07-06T19:24:44.559Z"
   },
   {
    "duration": 60,
    "start_time": "2023-07-06T19:24:44.581Z"
   },
   {
    "duration": 16,
    "start_time": "2023-07-06T19:24:44.644Z"
   },
   {
    "duration": 73,
    "start_time": "2023-07-06T19:24:44.663Z"
   },
   {
    "duration": 12,
    "start_time": "2023-07-06T19:24:44.737Z"
   },
   {
    "duration": 28,
    "start_time": "2023-07-06T19:24:44.751Z"
   },
   {
    "duration": 10,
    "start_time": "2023-07-06T19:24:44.781Z"
   },
   {
    "duration": 226,
    "start_time": "2023-07-07T01:19:22.029Z"
   },
   {
    "duration": 15,
    "start_time": "2023-07-07T01:19:38.797Z"
   },
   {
    "duration": 3,
    "start_time": "2023-07-07T01:19:40.567Z"
   },
   {
    "duration": 4,
    "start_time": "2023-07-07T01:19:46.718Z"
   },
   {
    "duration": 3,
    "start_time": "2023-07-07T01:19:50.962Z"
   },
   {
    "duration": 1544,
    "start_time": "2023-07-07T06:09:27.244Z"
   },
   {
    "duration": 1345,
    "start_time": "2023-07-07T06:09:30.640Z"
   },
   {
    "duration": 16,
    "start_time": "2023-07-07T06:09:34.302Z"
   },
   {
    "duration": 15,
    "start_time": "2023-07-07T06:09:36.223Z"
   },
   {
    "duration": 5,
    "start_time": "2023-07-07T06:09:41.044Z"
   },
   {
    "duration": 6,
    "start_time": "2023-07-07T06:09:42.722Z"
   },
   {
    "duration": 145,
    "start_time": "2023-07-07T06:09:44.127Z"
   },
   {
    "duration": 10,
    "start_time": "2023-07-07T06:09:47.369Z"
   },
   {
    "duration": 5,
    "start_time": "2023-07-07T06:09:49.377Z"
   },
   {
    "duration": 22,
    "start_time": "2023-07-07T06:09:57.605Z"
   },
   {
    "duration": 6,
    "start_time": "2023-07-07T06:10:02.874Z"
   },
   {
    "duration": 6,
    "start_time": "2023-07-07T06:10:05.580Z"
   },
   {
    "duration": 130,
    "start_time": "2023-07-07T06:10:08.010Z"
   },
   {
    "duration": 6,
    "start_time": "2023-07-07T06:10:47.632Z"
   },
   {
    "duration": 114,
    "start_time": "2023-07-07T06:10:49.425Z"
   },
   {
    "duration": 7,
    "start_time": "2023-07-07T06:10:52.565Z"
   },
   {
    "duration": 7,
    "start_time": "2023-07-07T06:10:54.825Z"
   },
   {
    "duration": 23,
    "start_time": "2023-07-07T06:11:00.591Z"
   },
   {
    "duration": 15,
    "start_time": "2023-07-07T06:12:10.242Z"
   },
   {
    "duration": 5,
    "start_time": "2023-07-07T06:12:27.086Z"
   },
   {
    "duration": 5,
    "start_time": "2023-07-07T06:13:50.241Z"
   },
   {
    "duration": 15,
    "start_time": "2023-07-07T06:13:52.908Z"
   },
   {
    "duration": 13,
    "start_time": "2023-07-07T06:13:56.323Z"
   },
   {
    "duration": 7,
    "start_time": "2023-07-07T06:13:58.850Z"
   },
   {
    "duration": 31,
    "start_time": "2023-07-07T06:14:02.048Z"
   },
   {
    "duration": 13,
    "start_time": "2023-07-07T06:14:08.138Z"
   },
   {
    "duration": 12,
    "start_time": "2023-07-07T06:14:10.494Z"
   },
   {
    "duration": 11,
    "start_time": "2023-07-07T06:14:13.170Z"
   },
   {
    "duration": 10,
    "start_time": "2023-07-07T06:14:18.484Z"
   },
   {
    "duration": 9,
    "start_time": "2023-07-07T06:14:29.612Z"
   },
   {
    "duration": 14,
    "start_time": "2023-07-07T06:14:32.109Z"
   },
   {
    "duration": 13,
    "start_time": "2023-07-07T06:14:39.492Z"
   },
   {
    "duration": 22,
    "start_time": "2023-07-07T06:14:45.289Z"
   },
   {
    "duration": 18,
    "start_time": "2023-07-07T06:14:49.342Z"
   },
   {
    "duration": 18,
    "start_time": "2023-07-07T06:14:51.402Z"
   },
   {
    "duration": 24,
    "start_time": "2023-07-07T06:14:52.508Z"
   },
   {
    "duration": 21,
    "start_time": "2023-07-07T06:14:54.065Z"
   },
   {
    "duration": 24,
    "start_time": "2023-07-07T06:14:58.315Z"
   },
   {
    "duration": 20,
    "start_time": "2023-07-07T06:14:59.830Z"
   },
   {
    "duration": 13,
    "start_time": "2023-07-07T06:15:01.075Z"
   },
   {
    "duration": 30,
    "start_time": "2023-07-07T06:20:20.290Z"
   },
   {
    "duration": 16,
    "start_time": "2023-07-07T06:22:15.934Z"
   },
   {
    "duration": 20,
    "start_time": "2023-07-07T06:22:22.982Z"
   },
   {
    "duration": 20,
    "start_time": "2023-07-07T06:22:26.123Z"
   },
   {
    "duration": 16,
    "start_time": "2023-07-07T06:22:27.873Z"
   },
   {
    "duration": 13,
    "start_time": "2023-07-07T06:22:42.865Z"
   },
   {
    "duration": 17,
    "start_time": "2023-07-07T06:24:42.543Z"
   },
   {
    "duration": 17,
    "start_time": "2023-07-07T06:24:46.828Z"
   },
   {
    "duration": 16,
    "start_time": "2023-07-07T06:24:48.985Z"
   },
   {
    "duration": 14,
    "start_time": "2023-07-07T06:24:56.084Z"
   },
   {
    "duration": 17,
    "start_time": "2023-07-07T06:30:07.512Z"
   },
   {
    "duration": 18,
    "start_time": "2023-07-07T06:30:17.481Z"
   },
   {
    "duration": 21,
    "start_time": "2023-07-07T06:32:34.656Z"
   },
   {
    "duration": 14,
    "start_time": "2023-07-07T06:33:02.706Z"
   },
   {
    "duration": 19,
    "start_time": "2023-07-07T06:34:27.078Z"
   },
   {
    "duration": 13,
    "start_time": "2023-07-07T06:34:28.260Z"
   },
   {
    "duration": 18,
    "start_time": "2023-07-07T06:34:46.795Z"
   },
   {
    "duration": 17,
    "start_time": "2023-07-07T06:34:48.806Z"
   },
   {
    "duration": 17,
    "start_time": "2023-07-07T06:34:50.204Z"
   },
   {
    "duration": 13,
    "start_time": "2023-07-07T06:34:52.859Z"
   },
   {
    "duration": 16,
    "start_time": "2023-07-07T06:35:12.022Z"
   },
   {
    "duration": 17,
    "start_time": "2023-07-07T06:35:14.166Z"
   },
   {
    "duration": 18,
    "start_time": "2023-07-07T06:36:41.432Z"
   },
   {
    "duration": 12,
    "start_time": "2023-07-07T06:36:43.215Z"
   },
   {
    "duration": 4,
    "start_time": "2023-07-07T06:44:01.408Z"
   },
   {
    "duration": 1426,
    "start_time": "2023-07-07T06:44:02.902Z"
   },
   {
    "duration": 12,
    "start_time": "2023-07-07T06:44:07.040Z"
   },
   {
    "duration": 13,
    "start_time": "2023-07-07T06:44:08.920Z"
   },
   {
    "duration": 6,
    "start_time": "2023-07-07T06:44:11.749Z"
   },
   {
    "duration": 7,
    "start_time": "2023-07-07T06:44:13.538Z"
   },
   {
    "duration": 113,
    "start_time": "2023-07-07T06:44:15.025Z"
   },
   {
    "duration": 6,
    "start_time": "2023-07-07T06:44:16.619Z"
   },
   {
    "duration": 5,
    "start_time": "2023-07-07T06:44:18.066Z"
   },
   {
    "duration": 6,
    "start_time": "2023-07-07T06:44:19.675Z"
   },
   {
    "duration": 5,
    "start_time": "2023-07-07T06:44:21.201Z"
   },
   {
    "duration": 111,
    "start_time": "2023-07-07T06:44:23.511Z"
   },
   {
    "duration": 7,
    "start_time": "2023-07-07T06:44:25.151Z"
   },
   {
    "duration": 5,
    "start_time": "2023-07-07T06:44:26.462Z"
   },
   {
    "duration": 6,
    "start_time": "2023-07-07T06:44:28.249Z"
   },
   {
    "duration": 12,
    "start_time": "2023-07-07T06:44:30.582Z"
   },
   {
    "duration": 12,
    "start_time": "2023-07-07T06:44:33.360Z"
   },
   {
    "duration": 8,
    "start_time": "2023-07-07T06:44:35.065Z"
   },
   {
    "duration": 33,
    "start_time": "2023-07-07T06:44:36.573Z"
   },
   {
    "duration": 9,
    "start_time": "2023-07-07T06:44:38.964Z"
   },
   {
    "duration": 9,
    "start_time": "2023-07-07T06:44:40.541Z"
   },
   {
    "duration": 9,
    "start_time": "2023-07-07T06:44:41.888Z"
   },
   {
    "duration": 8,
    "start_time": "2023-07-07T06:44:43.358Z"
   },
   {
    "duration": 7,
    "start_time": "2023-07-07T06:44:47.368Z"
   },
   {
    "duration": 8,
    "start_time": "2023-07-07T06:44:49.946Z"
   },
   {
    "duration": 9,
    "start_time": "2023-07-07T06:44:52.368Z"
   },
   {
    "duration": 13,
    "start_time": "2023-07-07T06:44:54.495Z"
   },
   {
    "duration": 15,
    "start_time": "2023-07-07T06:45:07.045Z"
   },
   {
    "duration": 14,
    "start_time": "2023-07-07T06:45:08.616Z"
   },
   {
    "duration": 15,
    "start_time": "2023-07-07T06:45:09.897Z"
   },
   {
    "duration": 15,
    "start_time": "2023-07-07T06:45:11.161Z"
   },
   {
    "duration": 20,
    "start_time": "2023-07-07T06:45:12.584Z"
   },
   {
    "duration": 16,
    "start_time": "2023-07-07T06:45:13.976Z"
   },
   {
    "duration": 14,
    "start_time": "2023-07-07T06:45:15.307Z"
   },
   {
    "duration": 21,
    "start_time": "2023-07-07T06:45:17.929Z"
   },
   {
    "duration": 17,
    "start_time": "2023-07-07T06:45:19.837Z"
   },
   {
    "duration": 15,
    "start_time": "2023-07-07T06:45:21.253Z"
   },
   {
    "duration": 17,
    "start_time": "2023-07-07T06:45:23.915Z"
   },
   {
    "duration": 9,
    "start_time": "2023-07-07T06:45:25.385Z"
   },
   {
    "duration": 66,
    "start_time": "2023-07-07T06:46:08.155Z"
   },
   {
    "duration": 24,
    "start_time": "2023-07-07T06:46:34.377Z"
   },
   {
    "duration": 212,
    "start_time": "2023-07-07T06:47:47.745Z"
   },
   {
    "duration": 362,
    "start_time": "2023-07-07T06:52:49.475Z"
   },
   {
    "duration": 324,
    "start_time": "2023-07-07T06:53:02.207Z"
   },
   {
    "duration": 157,
    "start_time": "2023-07-07T06:53:07.400Z"
   },
   {
    "duration": 170,
    "start_time": "2023-07-07T06:53:12.598Z"
   },
   {
    "duration": 293,
    "start_time": "2023-07-07T06:53:17.420Z"
   },
   {
    "duration": 112,
    "start_time": "2023-07-07T06:53:21.696Z"
   },
   {
    "duration": 170,
    "start_time": "2023-07-07T06:53:24.180Z"
   },
   {
    "duration": 114,
    "start_time": "2023-07-07T06:53:27.011Z"
   },
   {
    "duration": 20,
    "start_time": "2023-07-07T07:07:00.890Z"
   },
   {
    "duration": 16,
    "start_time": "2023-07-07T07:07:19.077Z"
   },
   {
    "duration": 18,
    "start_time": "2023-07-07T07:07:20.877Z"
   },
   {
    "duration": 20,
    "start_time": "2023-07-07T07:07:28.106Z"
   },
   {
    "duration": 29,
    "start_time": "2023-07-07T07:25:30.552Z"
   },
   {
    "duration": 29,
    "start_time": "2023-07-07T07:25:41.055Z"
   },
   {
    "duration": 186,
    "start_time": "2023-07-07T07:26:06.053Z"
   },
   {
    "duration": 42,
    "start_time": "2023-07-07T07:27:19.305Z"
   },
   {
    "duration": 26,
    "start_time": "2023-07-07T07:27:38.732Z"
   },
   {
    "duration": 15,
    "start_time": "2023-07-07T07:28:37.535Z"
   },
   {
    "duration": 12,
    "start_time": "2023-07-07T07:29:08.041Z"
   },
   {
    "duration": 36,
    "start_time": "2023-07-07T07:34:31.465Z"
   },
   {
    "duration": 28,
    "start_time": "2023-07-07T07:37:08.373Z"
   },
   {
    "duration": 28,
    "start_time": "2023-07-07T07:37:56.130Z"
   },
   {
    "duration": 9,
    "start_time": "2023-07-07T07:38:22.833Z"
   },
   {
    "duration": 16,
    "start_time": "2023-07-07T07:46:25.579Z"
   },
   {
    "duration": 33,
    "start_time": "2023-07-07T07:46:28.621Z"
   },
   {
    "duration": 130,
    "start_time": "2023-07-07T07:47:37.289Z"
   },
   {
    "duration": 5,
    "start_time": "2023-07-07T07:48:48.103Z"
   },
   {
    "duration": 1268,
    "start_time": "2023-07-07T07:48:49.938Z"
   },
   {
    "duration": 17,
    "start_time": "2023-07-07T07:48:53.646Z"
   },
   {
    "duration": 19,
    "start_time": "2023-07-07T07:48:55.863Z"
   },
   {
    "duration": 6,
    "start_time": "2023-07-07T07:48:58.822Z"
   },
   {
    "duration": 7,
    "start_time": "2023-07-07T07:49:00.404Z"
   },
   {
    "duration": 178,
    "start_time": "2023-07-07T07:49:05.628Z"
   },
   {
    "duration": 7,
    "start_time": "2023-07-07T07:49:07.624Z"
   },
   {
    "duration": 6,
    "start_time": "2023-07-07T07:49:09.087Z"
   },
   {
    "duration": 7,
    "start_time": "2023-07-07T07:49:11.103Z"
   },
   {
    "duration": 6,
    "start_time": "2023-07-07T07:49:12.124Z"
   },
   {
    "duration": 184,
    "start_time": "2023-07-07T07:49:13.641Z"
   },
   {
    "duration": 12,
    "start_time": "2023-07-07T07:49:16.477Z"
   },
   {
    "duration": 6,
    "start_time": "2023-07-07T07:49:18.104Z"
   },
   {
    "duration": 6,
    "start_time": "2023-07-07T07:49:20.130Z"
   },
   {
    "duration": 18,
    "start_time": "2023-07-07T07:49:23.091Z"
   },
   {
    "duration": 13,
    "start_time": "2023-07-07T07:49:25.390Z"
   },
   {
    "duration": 8,
    "start_time": "2023-07-07T07:49:27.279Z"
   },
   {
    "duration": 26,
    "start_time": "2023-07-07T07:49:32.291Z"
   },
   {
    "duration": 12,
    "start_time": "2023-07-07T07:49:35.077Z"
   },
   {
    "duration": 10,
    "start_time": "2023-07-07T07:49:37.145Z"
   },
   {
    "duration": 11,
    "start_time": "2023-07-07T07:49:38.946Z"
   },
   {
    "duration": 10,
    "start_time": "2023-07-07T07:49:41.373Z"
   },
   {
    "duration": 7,
    "start_time": "2023-07-07T07:49:41.846Z"
   },
   {
    "duration": 11,
    "start_time": "2023-07-07T07:49:43.578Z"
   },
   {
    "duration": 12,
    "start_time": "2023-07-07T07:49:51.405Z"
   },
   {
    "duration": 36,
    "start_time": "2023-07-07T07:50:03.666Z"
   },
   {
    "duration": 319,
    "start_time": "2023-07-07T07:50:06.541Z"
   },
   {
    "duration": 393,
    "start_time": "2023-07-07T07:50:10.395Z"
   },
   {
    "duration": 436,
    "start_time": "2023-07-07T07:50:12.425Z"
   },
   {
    "duration": 182,
    "start_time": "2023-07-07T07:50:14.606Z"
   },
   {
    "duration": 273,
    "start_time": "2023-07-07T07:50:16.827Z"
   },
   {
    "duration": 582,
    "start_time": "2023-07-07T07:50:18.609Z"
   },
   {
    "duration": 125,
    "start_time": "2023-07-07T07:50:21.000Z"
   },
   {
    "duration": 148,
    "start_time": "2023-07-07T07:50:24.620Z"
   },
   {
    "duration": 159,
    "start_time": "2023-07-07T07:50:27.285Z"
   },
   {
    "duration": 21,
    "start_time": "2023-07-07T07:50:30.161Z"
   },
   {
    "duration": 23,
    "start_time": "2023-07-07T07:50:32.470Z"
   },
   {
    "duration": 22,
    "start_time": "2023-07-07T07:50:33.885Z"
   },
   {
    "duration": 20,
    "start_time": "2023-07-07T07:50:35.263Z"
   },
   {
    "duration": 23,
    "start_time": "2023-07-07T07:50:36.686Z"
   },
   {
    "duration": 19,
    "start_time": "2023-07-07T07:50:38.607Z"
   },
   {
    "duration": 21,
    "start_time": "2023-07-07T07:50:40.405Z"
   },
   {
    "duration": 18,
    "start_time": "2023-07-07T07:50:42.809Z"
   },
   {
    "duration": 18,
    "start_time": "2023-07-07T07:50:44.844Z"
   },
   {
    "duration": 24,
    "start_time": "2023-07-07T07:50:49.514Z"
   },
   {
    "duration": 22,
    "start_time": "2023-07-07T07:50:50.514Z"
   },
   {
    "duration": 14,
    "start_time": "2023-07-07T07:50:53.968Z"
   },
   {
    "duration": 115,
    "start_time": "2023-07-07T07:50:57.529Z"
   },
   {
    "duration": 33,
    "start_time": "2023-07-07T08:05:16.309Z"
   },
   {
    "duration": 100,
    "start_time": "2023-07-07T08:08:05.608Z"
   },
   {
    "duration": 26,
    "start_time": "2023-07-07T08:31:18.898Z"
   },
   {
    "duration": 38,
    "start_time": "2023-07-07T08:31:40.217Z"
   },
   {
    "duration": 27,
    "start_time": "2023-07-07T08:32:01.810Z"
   },
   {
    "duration": 8,
    "start_time": "2023-07-07T08:38:25.201Z"
   },
   {
    "duration": 26,
    "start_time": "2023-07-07T08:38:32.926Z"
   },
   {
    "duration": 9,
    "start_time": "2023-07-07T08:38:39.584Z"
   },
   {
    "duration": 3,
    "start_time": "2023-07-07T08:55:56.396Z"
   },
   {
    "duration": 1292,
    "start_time": "2023-07-07T08:56:35.410Z"
   },
   {
    "duration": 21,
    "start_time": "2023-07-07T08:56:40.863Z"
   },
   {
    "duration": 21,
    "start_time": "2023-07-07T08:56:42.950Z"
   },
   {
    "duration": 7,
    "start_time": "2023-07-07T08:56:45.930Z"
   },
   {
    "duration": 9,
    "start_time": "2023-07-07T08:56:47.523Z"
   },
   {
    "duration": 176,
    "start_time": "2023-07-07T08:56:49.135Z"
   },
   {
    "duration": 9,
    "start_time": "2023-07-07T08:56:51.275Z"
   },
   {
    "duration": 5,
    "start_time": "2023-07-07T08:56:53.478Z"
   },
   {
    "duration": 7,
    "start_time": "2023-07-07T08:56:55.423Z"
   },
   {
    "duration": 6,
    "start_time": "2023-07-07T08:56:57.020Z"
   },
   {
    "duration": 164,
    "start_time": "2023-07-07T08:56:58.824Z"
   },
   {
    "duration": 12,
    "start_time": "2023-07-07T08:57:00.924Z"
   },
   {
    "duration": 11,
    "start_time": "2023-07-07T08:57:04.287Z"
   },
   {
    "duration": 7,
    "start_time": "2023-07-07T08:57:08.470Z"
   },
   {
    "duration": 27,
    "start_time": "2023-07-07T10:59:37.498Z"
   },
   {
    "duration": 7,
    "start_time": "2023-07-07T10:59:56.915Z"
   },
   {
    "duration": 4,
    "start_time": "2023-07-07T11:00:18.734Z"
   },
   {
    "duration": 1210,
    "start_time": "2023-07-07T11:00:21.399Z"
   },
   {
    "duration": 13,
    "start_time": "2023-07-07T11:00:25.594Z"
   },
   {
    "duration": 14,
    "start_time": "2023-07-07T11:00:27.948Z"
   },
   {
    "duration": 7,
    "start_time": "2023-07-07T11:00:30.302Z"
   },
   {
    "duration": 6,
    "start_time": "2023-07-07T11:00:31.915Z"
   },
   {
    "duration": 116,
    "start_time": "2023-07-07T11:00:33.495Z"
   },
   {
    "duration": 6,
    "start_time": "2023-07-07T11:00:36.574Z"
   },
   {
    "duration": 5,
    "start_time": "2023-07-07T11:00:37.921Z"
   },
   {
    "duration": 5,
    "start_time": "2023-07-07T11:00:39.577Z"
   },
   {
    "duration": 6,
    "start_time": "2023-07-07T11:00:41.641Z"
   },
   {
    "duration": 118,
    "start_time": "2023-07-07T11:00:43.099Z"
   },
   {
    "duration": 5,
    "start_time": "2023-07-07T11:00:45.093Z"
   },
   {
    "duration": 14,
    "start_time": "2023-07-07T11:00:54.720Z"
   },
   {
    "duration": 25,
    "start_time": "2023-07-07T11:09:40.448Z"
   },
   {
    "duration": 25,
    "start_time": "2023-07-07T11:09:52.591Z"
   },
   {
    "duration": 72,
    "start_time": "2023-07-07T11:09:59.891Z"
   },
   {
    "duration": 25,
    "start_time": "2023-07-07T11:10:02.760Z"
   },
   {
    "duration": 25,
    "start_time": "2023-07-07T11:10:24.919Z"
   },
   {
    "duration": 12,
    "start_time": "2023-07-07T11:10:30.535Z"
   },
   {
    "duration": 31,
    "start_time": "2023-07-07T11:10:34.628Z"
   },
   {
    "duration": 28,
    "start_time": "2023-07-07T11:12:53.286Z"
   },
   {
    "duration": 3,
    "start_time": "2023-07-07T11:13:36.583Z"
   },
   {
    "duration": 36,
    "start_time": "2023-07-07T11:14:30.984Z"
   },
   {
    "duration": 9,
    "start_time": "2023-07-07T11:14:51.392Z"
   },
   {
    "duration": 11,
    "start_time": "2023-07-07T11:15:04.599Z"
   },
   {
    "duration": 28,
    "start_time": "2023-07-07T11:16:00.881Z"
   },
   {
    "duration": 33,
    "start_time": "2023-07-07T11:16:40.927Z"
   },
   {
    "duration": 37,
    "start_time": "2023-07-07T11:17:05.085Z"
   },
   {
    "duration": 18,
    "start_time": "2023-07-07T11:22:28.642Z"
   },
   {
    "duration": 19,
    "start_time": "2023-07-07T11:23:26.223Z"
   },
   {
    "duration": 4,
    "start_time": "2023-07-07T11:23:38.745Z"
   },
   {
    "duration": 1164,
    "start_time": "2023-07-07T11:23:40.346Z"
   },
   {
    "duration": 12,
    "start_time": "2023-07-07T11:23:44.522Z"
   },
   {
    "duration": 14,
    "start_time": "2023-07-07T11:23:46.514Z"
   },
   {
    "duration": 5,
    "start_time": "2023-07-07T11:23:49.202Z"
   },
   {
    "duration": 6,
    "start_time": "2023-07-07T11:23:51.418Z"
   },
   {
    "duration": 145,
    "start_time": "2023-07-07T11:23:52.952Z"
   },
   {
    "duration": 6,
    "start_time": "2023-07-07T11:23:54.960Z"
   },
   {
    "duration": 5,
    "start_time": "2023-07-07T11:23:56.493Z"
   },
   {
    "duration": 5,
    "start_time": "2023-07-07T11:23:58.496Z"
   },
   {
    "duration": 7,
    "start_time": "2023-07-07T11:24:01.823Z"
   },
   {
    "duration": 132,
    "start_time": "2023-07-07T11:24:03.761Z"
   },
   {
    "duration": 5,
    "start_time": "2023-07-07T11:24:09.502Z"
   },
   {
    "duration": 24,
    "start_time": "2023-07-07T11:24:12.608Z"
   },
   {
    "duration": 21,
    "start_time": "2023-07-07T11:24:54.217Z"
   },
   {
    "duration": 20,
    "start_time": "2023-07-07T11:25:26.734Z"
   },
   {
    "duration": 20,
    "start_time": "2023-07-07T11:25:38.635Z"
   },
   {
    "duration": 24,
    "start_time": "2023-07-07T11:25:54.269Z"
   },
   {
    "duration": 18,
    "start_time": "2023-07-07T11:26:08.109Z"
   },
   {
    "duration": 20,
    "start_time": "2023-07-07T11:26:13.983Z"
   },
   {
    "duration": 16,
    "start_time": "2023-07-07T11:28:26.231Z"
   },
   {
    "duration": 5,
    "start_time": "2023-07-07T11:28:35.859Z"
   },
   {
    "duration": 31,
    "start_time": "2023-07-07T11:28:41.540Z"
   },
   {
    "duration": 4,
    "start_time": "2023-07-07T11:28:47.579Z"
   },
   {
    "duration": 20,
    "start_time": "2023-07-07T11:29:11.385Z"
   },
   {
    "duration": 19,
    "start_time": "2023-07-07T11:30:12.895Z"
   },
   {
    "duration": 23,
    "start_time": "2023-07-07T11:31:56.395Z"
   },
   {
    "duration": 23,
    "start_time": "2023-07-07T11:32:23.617Z"
   },
   {
    "duration": 23,
    "start_time": "2023-07-07T11:32:37.716Z"
   },
   {
    "duration": 20,
    "start_time": "2023-07-07T11:33:19.022Z"
   },
   {
    "duration": 22,
    "start_time": "2023-07-07T11:33:27.964Z"
   },
   {
    "duration": 17,
    "start_time": "2023-07-07T11:33:38.305Z"
   },
   {
    "duration": 17,
    "start_time": "2023-07-07T11:33:41.443Z"
   },
   {
    "duration": 14,
    "start_time": "2023-07-07T11:33:46.192Z"
   },
   {
    "duration": 19,
    "start_time": "2023-07-07T11:35:06.974Z"
   },
   {
    "duration": 15,
    "start_time": "2023-07-07T11:35:14.587Z"
   },
   {
    "duration": 16,
    "start_time": "2023-07-07T11:36:27.993Z"
   },
   {
    "duration": 24,
    "start_time": "2023-07-07T11:36:33.161Z"
   },
   {
    "duration": 1202,
    "start_time": "2023-07-07T11:38:11.785Z"
   },
   {
    "duration": 12,
    "start_time": "2023-07-07T11:38:29.528Z"
   },
   {
    "duration": 18,
    "start_time": "2023-07-07T12:00:59.515Z"
   },
   {
    "duration": 16,
    "start_time": "2023-07-07T12:02:11.637Z"
   },
   {
    "duration": 365,
    "start_time": "2023-07-07T12:04:17.324Z"
   },
   {
    "duration": 13,
    "start_time": "2023-07-07T12:04:44.952Z"
   },
   {
    "duration": 21,
    "start_time": "2023-07-07T12:06:29.007Z"
   },
   {
    "duration": 16,
    "start_time": "2023-07-07T12:06:33.926Z"
   },
   {
    "duration": 17,
    "start_time": "2023-07-07T12:07:49.438Z"
   },
   {
    "duration": 18,
    "start_time": "2023-07-07T12:10:05.439Z"
   },
   {
    "duration": 14,
    "start_time": "2023-07-07T12:10:15.867Z"
   },
   {
    "duration": 19,
    "start_time": "2023-07-07T12:10:21.223Z"
   },
   {
    "duration": 13,
    "start_time": "2023-07-07T12:12:30.876Z"
   },
   {
    "duration": 16,
    "start_time": "2023-07-07T12:13:56.197Z"
   },
   {
    "duration": 14,
    "start_time": "2023-07-07T12:14:25.858Z"
   },
   {
    "duration": 14,
    "start_time": "2023-07-07T12:14:41.729Z"
   },
   {
    "duration": 14,
    "start_time": "2023-07-07T12:16:08.003Z"
   },
   {
    "duration": 6,
    "start_time": "2023-07-07T12:16:54.290Z"
   },
   {
    "duration": 1452,
    "start_time": "2023-07-07T12:16:56.077Z"
   },
   {
    "duration": 13,
    "start_time": "2023-07-07T12:17:00.973Z"
   },
   {
    "duration": 13,
    "start_time": "2023-07-07T12:17:03.218Z"
   },
   {
    "duration": 6,
    "start_time": "2023-07-07T12:17:05.287Z"
   },
   {
    "duration": 5,
    "start_time": "2023-07-07T12:17:06.673Z"
   },
   {
    "duration": 121,
    "start_time": "2023-07-07T12:17:08.086Z"
   },
   {
    "duration": 19,
    "start_time": "2023-07-07T12:17:11.609Z"
   },
   {
    "duration": 10,
    "start_time": "2023-07-07T12:17:11.647Z"
   },
   {
    "duration": 5,
    "start_time": "2023-07-07T12:17:14.500Z"
   },
   {
    "duration": 6,
    "start_time": "2023-07-07T12:17:15.956Z"
   },
   {
    "duration": 124,
    "start_time": "2023-07-07T12:17:17.724Z"
   },
   {
    "duration": 5,
    "start_time": "2023-07-07T12:17:19.876Z"
   },
   {
    "duration": 21,
    "start_time": "2023-07-07T12:17:21.251Z"
   },
   {
    "duration": 15,
    "start_time": "2023-07-07T12:17:22.906Z"
   },
   {
    "duration": 16,
    "start_time": "2023-07-07T12:17:25.387Z"
   },
   {
    "duration": 13,
    "start_time": "2023-07-07T12:17:27.081Z"
   },
   {
    "duration": 20,
    "start_time": "2023-07-07T12:17:44.225Z"
   },
   {
    "duration": 14,
    "start_time": "2023-07-07T12:17:46.438Z"
   },
   {
    "duration": 15,
    "start_time": "2023-07-07T12:18:00.385Z"
   },
   {
    "duration": 18,
    "start_time": "2023-07-07T12:18:08.435Z"
   },
   {
    "duration": 16,
    "start_time": "2023-07-07T12:18:10.199Z"
   },
   {
    "duration": 18,
    "start_time": "2023-07-07T12:18:15.196Z"
   },
   {
    "duration": 17,
    "start_time": "2023-07-07T12:18:17.181Z"
   },
   {
    "duration": 9,
    "start_time": "2023-07-07T12:18:24.299Z"
   },
   {
    "duration": 4,
    "start_time": "2023-07-07T12:19:42.202Z"
   },
   {
    "duration": 975,
    "start_time": "2023-07-07T12:19:45.105Z"
   },
   {
    "duration": 17,
    "start_time": "2023-07-07T12:19:48.924Z"
   },
   {
    "duration": 19,
    "start_time": "2023-07-07T12:19:50.622Z"
   },
   {
    "duration": 5,
    "start_time": "2023-07-07T12:19:52.451Z"
   },
   {
    "duration": 5,
    "start_time": "2023-07-07T12:19:53.936Z"
   },
   {
    "duration": 109,
    "start_time": "2023-07-07T12:19:55.323Z"
   },
   {
    "duration": 5,
    "start_time": "2023-07-07T12:19:59.132Z"
   },
   {
    "duration": 5,
    "start_time": "2023-07-07T12:20:00.573Z"
   },
   {
    "duration": 6,
    "start_time": "2023-07-07T12:20:02.413Z"
   },
   {
    "duration": 5,
    "start_time": "2023-07-07T12:20:03.796Z"
   },
   {
    "duration": 130,
    "start_time": "2023-07-07T12:20:05.274Z"
   },
   {
    "duration": 5,
    "start_time": "2023-07-07T12:20:07.008Z"
   },
   {
    "duration": 17,
    "start_time": "2023-07-07T12:20:08.477Z"
   },
   {
    "duration": 14,
    "start_time": "2023-07-07T12:20:09.778Z"
   },
   {
    "duration": 16,
    "start_time": "2023-07-07T12:20:11.450Z"
   },
   {
    "duration": 14,
    "start_time": "2023-07-07T12:20:12.676Z"
   },
   {
    "duration": 14,
    "start_time": "2023-07-07T12:20:14.582Z"
   },
   {
    "duration": 13,
    "start_time": "2023-07-07T12:20:16.136Z"
   },
   {
    "duration": 15,
    "start_time": "2023-07-07T12:20:18.065Z"
   },
   {
    "duration": 12,
    "start_time": "2023-07-07T12:20:21.020Z"
   },
   {
    "duration": 16,
    "start_time": "2023-07-07T12:20:22.761Z"
   },
   {
    "duration": 14,
    "start_time": "2023-07-07T12:20:25.082Z"
   },
   {
    "duration": 9,
    "start_time": "2023-07-07T12:20:27.398Z"
   },
   {
    "duration": 14,
    "start_time": "2023-07-07T12:20:48.528Z"
   },
   {
    "duration": 10,
    "start_time": "2023-07-07T12:20:50.989Z"
   },
   {
    "duration": 4,
    "start_time": "2023-07-07T12:21:33.824Z"
   },
   {
    "duration": 1327,
    "start_time": "2023-07-07T12:21:36.561Z"
   },
   {
    "duration": 14,
    "start_time": "2023-07-07T12:21:41.283Z"
   },
   {
    "duration": 14,
    "start_time": "2023-07-07T12:21:43.586Z"
   },
   {
    "duration": 5,
    "start_time": "2023-07-07T12:21:47.151Z"
   },
   {
    "duration": 5,
    "start_time": "2023-07-07T12:21:48.536Z"
   },
   {
    "duration": 109,
    "start_time": "2023-07-07T12:21:50.399Z"
   },
   {
    "duration": 7,
    "start_time": "2023-07-07T12:21:54.088Z"
   },
   {
    "duration": 5,
    "start_time": "2023-07-07T12:21:55.575Z"
   },
   {
    "duration": 6,
    "start_time": "2023-07-07T12:21:58.981Z"
   },
   {
    "duration": 6,
    "start_time": "2023-07-07T12:22:00.387Z"
   },
   {
    "duration": 127,
    "start_time": "2023-07-07T12:22:02.061Z"
   },
   {
    "duration": 5,
    "start_time": "2023-07-07T12:22:04.384Z"
   },
   {
    "duration": 16,
    "start_time": "2023-07-07T12:22:06.453Z"
   },
   {
    "duration": 14,
    "start_time": "2023-07-07T12:22:07.435Z"
   },
   {
    "duration": 16,
    "start_time": "2023-07-07T12:22:09.038Z"
   },
   {
    "duration": 14,
    "start_time": "2023-07-07T12:22:10.753Z"
   },
   {
    "duration": 18,
    "start_time": "2023-07-07T12:22:13.446Z"
   },
   {
    "duration": 12,
    "start_time": "2023-07-07T12:22:14.634Z"
   },
   {
    "duration": 15,
    "start_time": "2023-07-07T12:22:16.563Z"
   },
   {
    "duration": 19,
    "start_time": "2023-07-07T12:22:18.648Z"
   },
   {
    "duration": 17,
    "start_time": "2023-07-07T12:22:20.180Z"
   },
   {
    "duration": 18,
    "start_time": "2023-07-07T12:22:21.686Z"
   },
   {
    "duration": 12,
    "start_time": "2023-07-07T12:22:22.792Z"
   },
   {
    "duration": 13,
    "start_time": "2023-07-07T12:26:51.977Z"
   },
   {
    "duration": 12,
    "start_time": "2023-07-07T12:29:13.284Z"
   },
   {
    "duration": 18,
    "start_time": "2023-07-07T12:29:15.930Z"
   },
   {
    "duration": 16,
    "start_time": "2023-07-07T12:29:17.279Z"
   },
   {
    "duration": 15,
    "start_time": "2023-07-07T12:29:19.475Z"
   },
   {
    "duration": 14,
    "start_time": "2023-07-07T12:29:20.805Z"
   },
   {
    "duration": 10,
    "start_time": "2023-07-07T12:29:21.774Z"
   },
   {
    "duration": 4,
    "start_time": "2023-07-07T12:43:58.386Z"
   },
   {
    "duration": 1274,
    "start_time": "2023-07-07T12:44:00.034Z"
   },
   {
    "duration": 15,
    "start_time": "2023-07-07T12:44:03.430Z"
   },
   {
    "duration": 14,
    "start_time": "2023-07-07T12:44:05.086Z"
   },
   {
    "duration": 5,
    "start_time": "2023-07-07T12:44:07.404Z"
   },
   {
    "duration": 5,
    "start_time": "2023-07-07T12:44:09.013Z"
   },
   {
    "duration": 109,
    "start_time": "2023-07-07T12:44:10.175Z"
   },
   {
    "duration": 8,
    "start_time": "2023-07-07T12:44:11.756Z"
   },
   {
    "duration": 4,
    "start_time": "2023-07-07T12:44:13.080Z"
   },
   {
    "duration": 4,
    "start_time": "2023-07-07T12:44:14.391Z"
   },
   {
    "duration": 5,
    "start_time": "2023-07-07T12:44:16.136Z"
   },
   {
    "duration": 110,
    "start_time": "2023-07-07T12:44:17.270Z"
   },
   {
    "duration": 6,
    "start_time": "2023-07-07T12:44:18.886Z"
   },
   {
    "duration": 14,
    "start_time": "2023-07-07T12:44:20.491Z"
   },
   {
    "duration": 14,
    "start_time": "2023-07-07T12:44:21.535Z"
   },
   {
    "duration": 15,
    "start_time": "2023-07-07T12:44:22.894Z"
   },
   {
    "duration": 19,
    "start_time": "2023-07-07T12:44:24.435Z"
   },
   {
    "duration": 15,
    "start_time": "2023-07-07T12:44:26.683Z"
   },
   {
    "duration": 13,
    "start_time": "2023-07-07T12:44:28.336Z"
   },
   {
    "duration": 182,
    "start_time": "2023-07-07T12:44:30.506Z"
   },
   {
    "duration": 15,
    "start_time": "2023-07-07T12:44:37.295Z"
   },
   {
    "duration": 20,
    "start_time": "2023-07-07T12:44:38.759Z"
   },
   {
    "duration": 14,
    "start_time": "2023-07-07T12:44:40.192Z"
   },
   {
    "duration": 13,
    "start_time": "2023-07-07T12:44:41.874Z"
   },
   {
    "duration": 17,
    "start_time": "2023-07-07T12:44:44.950Z"
   },
   {
    "duration": 10,
    "start_time": "2023-07-07T12:44:48.665Z"
   },
   {
    "duration": 19,
    "start_time": "2023-07-07T12:44:51.874Z"
   },
   {
    "duration": 12,
    "start_time": "2023-07-07T12:44:56.530Z"
   },
   {
    "duration": 7,
    "start_time": "2023-07-07T12:44:58.527Z"
   },
   {
    "duration": 29,
    "start_time": "2023-07-07T12:45:00.405Z"
   },
   {
    "duration": 12,
    "start_time": "2023-07-07T12:45:05.037Z"
   },
   {
    "duration": 12,
    "start_time": "2023-07-07T12:45:10.625Z"
   },
   {
    "duration": 12,
    "start_time": "2023-07-07T12:45:12.982Z"
   },
   {
    "duration": 10,
    "start_time": "2023-07-07T12:45:14.635Z"
   },
   {
    "duration": 7,
    "start_time": "2023-07-07T12:45:16.393Z"
   },
   {
    "duration": 9,
    "start_time": "2023-07-07T12:45:17.481Z"
   },
   {
    "duration": 11,
    "start_time": "2023-07-07T12:45:20.947Z"
   },
   {
    "duration": 40,
    "start_time": "2023-07-07T12:45:22.753Z"
   },
   {
    "duration": 274,
    "start_time": "2023-07-07T12:45:24.472Z"
   },
   {
    "duration": 277,
    "start_time": "2023-07-07T12:45:26.219Z"
   },
   {
    "duration": 328,
    "start_time": "2023-07-07T12:47:08.839Z"
   },
   {
    "duration": 235,
    "start_time": "2023-07-07T12:47:10.581Z"
   },
   {
    "duration": 154,
    "start_time": "2023-07-07T12:47:16.883Z"
   },
   {
    "duration": 315,
    "start_time": "2023-07-07T12:47:18.265Z"
   },
   {
    "duration": 154,
    "start_time": "2023-07-07T12:47:20.475Z"
   },
   {
    "duration": 129,
    "start_time": "2023-07-07T12:47:21.883Z"
   },
   {
    "duration": 176,
    "start_time": "2023-07-07T12:47:23.265Z"
   },
   {
    "duration": 17,
    "start_time": "2023-07-07T12:47:25.022Z"
   },
   {
    "duration": 19,
    "start_time": "2023-07-07T12:47:30.187Z"
   },
   {
    "duration": 24,
    "start_time": "2023-07-07T12:47:32.048Z"
   },
   {
    "duration": 21,
    "start_time": "2023-07-07T12:47:33.341Z"
   },
   {
    "duration": 27,
    "start_time": "2023-07-07T12:47:35.246Z"
   },
   {
    "duration": 21,
    "start_time": "2023-07-07T12:47:36.726Z"
   },
   {
    "duration": 18,
    "start_time": "2023-07-07T12:47:38.396Z"
   },
   {
    "duration": 27,
    "start_time": "2023-07-07T12:47:40.461Z"
   },
   {
    "duration": 20,
    "start_time": "2023-07-07T12:47:41.588Z"
   },
   {
    "duration": 21,
    "start_time": "2023-07-07T12:47:42.971Z"
   },
   {
    "duration": 22,
    "start_time": "2023-07-07T12:47:44.388Z"
   },
   {
    "duration": 17,
    "start_time": "2023-07-07T12:47:45.481Z"
   },
   {
    "duration": 32,
    "start_time": "2023-07-07T12:47:50.996Z"
   },
   {
    "duration": 13,
    "start_time": "2023-07-07T12:49:26.420Z"
   },
   {
    "duration": 14,
    "start_time": "2023-07-07T12:49:38.835Z"
   },
   {
    "duration": 1571,
    "start_time": "2023-07-07T14:03:38.214Z"
   },
   {
    "duration": 1079,
    "start_time": "2023-07-07T14:03:41.318Z"
   },
   {
    "duration": 23,
    "start_time": "2023-07-07T14:03:45.935Z"
   },
   {
    "duration": 17,
    "start_time": "2023-07-07T14:03:51.662Z"
   },
   {
    "duration": 5,
    "start_time": "2023-07-07T14:03:54.566Z"
   },
   {
    "duration": 6,
    "start_time": "2023-07-07T14:03:56.076Z"
   },
   {
    "duration": 176,
    "start_time": "2023-07-07T14:03:57.696Z"
   },
   {
    "duration": 11,
    "start_time": "2023-07-07T14:03:59.325Z"
   },
   {
    "duration": 14,
    "start_time": "2023-07-07T14:04:00.999Z"
   },
   {
    "duration": 5,
    "start_time": "2023-07-07T14:04:02.854Z"
   },
   {
    "duration": 20,
    "start_time": "2023-07-07T14:04:04.430Z"
   },
   {
    "duration": 146,
    "start_time": "2023-07-07T14:04:05.887Z"
   },
   {
    "duration": 4,
    "start_time": "2023-07-07T14:04:07.665Z"
   },
   {
    "duration": 15,
    "start_time": "2023-07-07T14:04:08.781Z"
   },
   {
    "duration": 22,
    "start_time": "2023-07-07T14:04:23.638Z"
   },
   {
    "duration": 178,
    "start_time": "2023-07-07T14:04:25.563Z"
   },
   {
    "duration": 23,
    "start_time": "2023-07-07T14:04:48.940Z"
   },
   {
    "duration": 16,
    "start_time": "2023-07-07T14:04:51.172Z"
   },
   {
    "duration": 18,
    "start_time": "2023-07-07T14:04:59.974Z"
   },
   {
    "duration": 15,
    "start_time": "2023-07-07T14:05:05.430Z"
   },
   {
    "duration": 10,
    "start_time": "2023-07-07T14:05:08.759Z"
   },
   {
    "duration": 13,
    "start_time": "2023-07-07T14:05:22.151Z"
   },
   {
    "duration": 33,
    "start_time": "2023-07-07T14:05:26.380Z"
   },
   {
    "duration": 14,
    "start_time": "2023-07-07T14:05:28.062Z"
   },
   {
    "duration": 11,
    "start_time": "2023-07-07T14:05:29.059Z"
   },
   {
    "duration": 17,
    "start_time": "2023-07-07T14:05:30.426Z"
   },
   {
    "duration": 8,
    "start_time": "2023-07-07T14:05:36.390Z"
   },
   {
    "duration": 20,
    "start_time": "2023-07-07T14:05:47.134Z"
   },
   {
    "duration": 32,
    "start_time": "2023-07-07T14:05:54.893Z"
   },
   {
    "duration": 31,
    "start_time": "2023-07-07T14:05:57.490Z"
   },
   {
    "duration": 5,
    "start_time": "2023-07-07T14:05:59.383Z"
   },
   {
    "duration": 50,
    "start_time": "2023-07-07T14:06:01.587Z"
   },
   {
    "duration": 47,
    "start_time": "2023-07-07T14:06:12.119Z"
   },
   {
    "duration": 22,
    "start_time": "2023-07-07T14:06:22.401Z"
   },
   {
    "duration": 10,
    "start_time": "2023-07-07T14:06:23.956Z"
   },
   {
    "duration": 7,
    "start_time": "2023-07-07T14:06:25.678Z"
   },
   {
    "duration": 8,
    "start_time": "2023-07-07T14:06:27.362Z"
   },
   {
    "duration": 5,
    "start_time": "2023-07-07T14:06:29.062Z"
   },
   {
    "duration": 7,
    "start_time": "2023-07-07T14:06:31.693Z"
   },
   {
    "duration": 15,
    "start_time": "2023-07-07T14:06:35.745Z"
   },
   {
    "duration": 42,
    "start_time": "2023-07-07T14:07:03.295Z"
   },
   {
    "duration": 265,
    "start_time": "2023-07-07T14:07:06.084Z"
   },
   {
    "duration": 289,
    "start_time": "2023-07-07T14:07:08.228Z"
   },
   {
    "duration": 290,
    "start_time": "2023-07-07T14:07:17.921Z"
   },
   {
    "duration": 210,
    "start_time": "2023-07-07T14:07:22.425Z"
   },
   {
    "duration": 277,
    "start_time": "2023-07-07T14:07:28.244Z"
   },
   {
    "duration": 334,
    "start_time": "2023-07-07T14:07:32.058Z"
   },
   {
    "duration": 160,
    "start_time": "2023-07-07T14:07:33.997Z"
   },
   {
    "duration": 175,
    "start_time": "2023-07-07T14:07:35.616Z"
   },
   {
    "duration": 307,
    "start_time": "2023-07-07T14:08:08.026Z"
   },
   {
    "duration": 154,
    "start_time": "2023-07-07T14:08:11.183Z"
   },
   {
    "duration": 198,
    "start_time": "2023-07-07T14:08:13.969Z"
   },
   {
    "duration": 166,
    "start_time": "2023-07-07T14:08:16.020Z"
   },
   {
    "duration": 12,
    "start_time": "2023-07-07T14:08:21.374Z"
   },
   {
    "duration": 12,
    "start_time": "2023-07-07T14:08:23.454Z"
   },
   {
    "duration": 12,
    "start_time": "2023-07-07T14:08:25.080Z"
   },
   {
    "duration": 12,
    "start_time": "2023-07-07T14:08:27.083Z"
   },
   {
    "duration": 11,
    "start_time": "2023-07-07T14:08:28.382Z"
   },
   {
    "duration": 12,
    "start_time": "2023-07-07T14:08:29.979Z"
   },
   {
    "duration": 25,
    "start_time": "2023-07-07T14:08:31.219Z"
   },
   {
    "duration": 11,
    "start_time": "2023-07-07T14:08:34.654Z"
   },
   {
    "duration": 16,
    "start_time": "2023-07-07T14:08:36.182Z"
   },
   {
    "duration": 48,
    "start_time": "2023-07-07T14:08:37.693Z"
   },
   {
    "duration": 11,
    "start_time": "2023-07-07T14:08:38.871Z"
   },
   {
    "duration": 8,
    "start_time": "2023-07-07T14:08:40.386Z"
   },
   {
    "duration": 88,
    "start_time": "2023-07-07T14:08:47.934Z"
   },
   {
    "duration": 20,
    "start_time": "2023-07-07T14:12:12.494Z"
   },
   {
    "duration": 10,
    "start_time": "2023-07-07T14:12:15.956Z"
   },
   {
    "duration": 46,
    "start_time": "2023-07-07T14:17:56.630Z"
   },
   {
    "duration": 8,
    "start_time": "2023-07-07T14:17:59.589Z"
   },
   {
    "duration": 39,
    "start_time": "2023-07-07T14:18:02.253Z"
   },
   {
    "duration": 10,
    "start_time": "2023-07-07T14:18:04.882Z"
   },
   {
    "duration": 34,
    "start_time": "2023-07-07T14:18:11.049Z"
   },
   {
    "duration": 25,
    "start_time": "2023-07-07T14:18:13.539Z"
   },
   {
    "duration": 27,
    "start_time": "2023-07-07T14:23:14.114Z"
   },
   {
    "duration": 25,
    "start_time": "2023-07-07T14:23:19.554Z"
   },
   {
    "duration": 30,
    "start_time": "2023-07-07T14:23:25.016Z"
   },
   {
    "duration": 12,
    "start_time": "2023-07-07T14:55:36.971Z"
   },
   {
    "duration": 31,
    "start_time": "2023-07-07T14:55:59.529Z"
   },
   {
    "duration": 171,
    "start_time": "2023-07-07T14:56:02.027Z"
   },
   {
    "duration": 227,
    "start_time": "2023-07-07T14:56:09.436Z"
   },
   {
    "duration": 143,
    "start_time": "2023-07-07T14:56:11.587Z"
   },
   {
    "duration": 118,
    "start_time": "2023-07-07T14:56:14.238Z"
   },
   {
    "duration": 96,
    "start_time": "2023-07-07T14:56:18.697Z"
   },
   {
    "duration": 98,
    "start_time": "2023-07-07T14:56:20.864Z"
   },
   {
    "duration": 97,
    "start_time": "2023-07-07T14:56:23.151Z"
   },
   {
    "duration": 29,
    "start_time": "2023-07-07T14:56:25.200Z"
   },
   {
    "duration": 15,
    "start_time": "2023-07-07T14:56:26.246Z"
   },
   {
    "duration": 21,
    "start_time": "2023-07-07T14:56:28.512Z"
   },
   {
    "duration": 13,
    "start_time": "2023-07-07T14:56:31.162Z"
   },
   {
    "duration": 11,
    "start_time": "2023-07-07T14:56:34.647Z"
   },
   {
    "duration": 11,
    "start_time": "2023-07-07T14:56:36.343Z"
   },
   {
    "duration": 12,
    "start_time": "2023-07-07T14:56:37.630Z"
   },
   {
    "duration": 12,
    "start_time": "2023-07-07T14:56:43.438Z"
   },
   {
    "duration": 12,
    "start_time": "2023-07-07T14:56:44.740Z"
   },
   {
    "duration": 21,
    "start_time": "2023-07-07T14:56:46.318Z"
   },
   {
    "duration": 12,
    "start_time": "2023-07-07T14:56:48.067Z"
   },
   {
    "duration": 8,
    "start_time": "2023-07-07T14:56:51.843Z"
   },
   {
    "duration": 37,
    "start_time": "2023-07-07T14:57:00.443Z"
   },
   {
    "duration": 13,
    "start_time": "2023-07-07T14:57:07.827Z"
   },
   {
    "duration": 10,
    "start_time": "2023-07-07T14:57:10.475Z"
   },
   {
    "duration": 22,
    "start_time": "2023-07-07T14:57:15.930Z"
   },
   {
    "duration": 7,
    "start_time": "2023-07-07T14:57:18.848Z"
   },
   {
    "duration": 21,
    "start_time": "2023-07-07T14:57:35.126Z"
   },
   {
    "duration": 9,
    "start_time": "2023-07-07T14:57:37.444Z"
   },
   {
    "duration": 14,
    "start_time": "2023-07-07T14:57:39.571Z"
   },
   {
    "duration": 24,
    "start_time": "2023-07-07T14:57:41.317Z"
   },
   {
    "duration": 38,
    "start_time": "2023-07-07T16:15:05.695Z"
   },
   {
    "duration": 13,
    "start_time": "2023-07-07T16:15:42.426Z"
   },
   {
    "duration": 3,
    "start_time": "2023-07-07T16:16:24.574Z"
   },
   {
    "duration": 1257,
    "start_time": "2023-07-07T16:16:27.288Z"
   },
   {
    "duration": 15,
    "start_time": "2023-07-07T16:16:30.722Z"
   },
   {
    "duration": 10,
    "start_time": "2023-07-07T16:16:32.661Z"
   },
   {
    "duration": 6,
    "start_time": "2023-07-07T16:16:34.824Z"
   },
   {
    "duration": 3,
    "start_time": "2023-07-07T16:16:36.188Z"
   },
   {
    "duration": 109,
    "start_time": "2023-07-07T16:16:40.812Z"
   },
   {
    "duration": 6,
    "start_time": "2023-07-07T16:16:43.019Z"
   },
   {
    "duration": 4,
    "start_time": "2023-07-07T16:16:44.727Z"
   },
   {
    "duration": 4,
    "start_time": "2023-07-07T16:16:46.527Z"
   },
   {
    "duration": 4,
    "start_time": "2023-07-07T16:16:48.482Z"
   },
   {
    "duration": 111,
    "start_time": "2023-07-07T16:16:51.280Z"
   },
   {
    "duration": 3,
    "start_time": "2023-07-07T16:16:54.031Z"
   },
   {
    "duration": 12,
    "start_time": "2023-07-07T16:16:55.570Z"
   },
   {
    "duration": 12,
    "start_time": "2023-07-07T16:16:57.240Z"
   },
   {
    "duration": 12,
    "start_time": "2023-07-07T16:16:58.244Z"
   },
   {
    "duration": 14,
    "start_time": "2023-07-07T16:16:59.799Z"
   },
   {
    "duration": 12,
    "start_time": "2023-07-07T16:17:00.860Z"
   },
   {
    "duration": 10,
    "start_time": "2023-07-07T16:17:02.385Z"
   },
   {
    "duration": 110,
    "start_time": "2023-07-07T16:17:03.665Z"
   },
   {
    "duration": 11,
    "start_time": "2023-07-07T16:17:05.027Z"
   },
   {
    "duration": 12,
    "start_time": "2023-07-07T16:17:06.327Z"
   },
   {
    "duration": 11,
    "start_time": "2023-07-07T16:17:07.634Z"
   },
   {
    "duration": 7,
    "start_time": "2023-07-07T16:17:09.027Z"
   },
   {
    "duration": 6,
    "start_time": "2023-07-07T16:17:16.373Z"
   },
   {
    "duration": 2,
    "start_time": "2023-07-07T16:17:18.127Z"
   },
   {
    "duration": 5,
    "start_time": "2023-07-07T16:17:20.228Z"
   },
   {
    "duration": 10,
    "start_time": "2023-07-07T16:17:22.467Z"
   },
   {
    "duration": 10,
    "start_time": "2023-07-07T16:17:25.971Z"
   },
   {
    "duration": 6,
    "start_time": "2023-07-07T16:17:27.943Z"
   },
   {
    "duration": 14,
    "start_time": "2023-07-07T16:17:29.726Z"
   },
   {
    "duration": 7,
    "start_time": "2023-07-07T16:17:36.340Z"
   },
   {
    "duration": 7,
    "start_time": "2023-07-07T16:17:37.965Z"
   },
   {
    "duration": 11,
    "start_time": "2023-07-07T16:17:39.543Z"
   },
   {
    "duration": 6,
    "start_time": "2023-07-07T16:17:41.134Z"
   },
   {
    "duration": 5,
    "start_time": "2023-07-07T16:17:46.567Z"
   },
   {
    "duration": 6,
    "start_time": "2023-07-07T16:17:49.223Z"
   },
   {
    "duration": 7,
    "start_time": "2023-07-07T16:17:51.984Z"
   },
   {
    "duration": 23,
    "start_time": "2023-07-07T16:17:54.923Z"
   },
   {
    "duration": 22,
    "start_time": "2023-07-07T16:18:01.899Z"
   },
   {
    "duration": 173,
    "start_time": "2023-07-07T16:18:04.122Z"
   },
   {
    "duration": 228,
    "start_time": "2023-07-07T16:18:06.535Z"
   },
   {
    "duration": 204,
    "start_time": "2023-07-07T16:18:14.323Z"
   },
   {
    "duration": 15,
    "start_time": "2023-07-07T16:21:35.222Z"
   },
   {
    "duration": 21,
    "start_time": "2023-07-07T16:21:39.922Z"
   },
   {
    "duration": 44,
    "start_time": "2023-07-07T16:22:15.829Z"
   },
   {
    "duration": 13,
    "start_time": "2023-07-07T16:22:17.827Z"
   },
   {
    "duration": 7,
    "start_time": "2023-07-07T16:22:21.385Z"
   },
   {
    "duration": 36,
    "start_time": "2023-07-07T16:22:34.726Z"
   },
   {
    "duration": 22,
    "start_time": "2023-07-07T16:22:37.918Z"
   },
   {
    "duration": 17,
    "start_time": "2023-07-07T16:23:13.792Z"
   },
   {
    "duration": 7,
    "start_time": "2023-07-07T16:23:37.164Z"
   },
   {
    "duration": 136,
    "start_time": "2023-07-07T16:43:54.373Z"
   },
   {
    "duration": 5707,
    "start_time": "2023-07-08T16:48:09.462Z"
   },
   {
    "duration": 1694,
    "start_time": "2023-07-08T16:48:15.174Z"
   },
   {
    "duration": 60,
    "start_time": "2023-07-08T16:48:16.869Z"
   },
   {
    "duration": 12,
    "start_time": "2023-07-08T16:48:16.932Z"
   },
   {
    "duration": 15,
    "start_time": "2023-07-08T16:48:16.945Z"
   },
   {
    "duration": 5,
    "start_time": "2023-07-08T16:48:16.961Z"
   },
   {
    "duration": 431,
    "start_time": "2023-07-08T16:48:16.967Z"
   },
   {
    "duration": 9,
    "start_time": "2023-07-08T16:48:17.402Z"
   },
   {
    "duration": 7,
    "start_time": "2023-07-08T16:48:17.413Z"
   },
   {
    "duration": 4,
    "start_time": "2023-07-08T16:48:17.423Z"
   },
   {
    "duration": 16,
    "start_time": "2023-07-08T16:48:17.428Z"
   },
   {
    "duration": 271,
    "start_time": "2023-07-08T16:48:17.446Z"
   },
   {
    "duration": 4,
    "start_time": "2023-07-08T16:48:17.719Z"
   },
   {
    "duration": 23,
    "start_time": "2023-07-08T16:48:17.725Z"
   },
   {
    "duration": 18,
    "start_time": "2023-07-08T16:48:17.749Z"
   },
   {
    "duration": 48,
    "start_time": "2023-07-08T16:48:17.769Z"
   },
   {
    "duration": 10,
    "start_time": "2023-07-08T16:48:17.819Z"
   },
   {
    "duration": 9,
    "start_time": "2023-07-08T16:48:17.831Z"
   },
   {
    "duration": 11,
    "start_time": "2023-07-08T16:48:17.842Z"
   },
   {
    "duration": 13,
    "start_time": "2023-07-08T16:48:17.854Z"
   },
   {
    "duration": 15,
    "start_time": "2023-07-08T16:48:17.869Z"
   },
   {
    "duration": 36,
    "start_time": "2023-07-08T16:48:17.897Z"
   },
   {
    "duration": 9,
    "start_time": "2023-07-08T16:48:17.935Z"
   },
   {
    "duration": 8,
    "start_time": "2023-07-08T16:48:17.946Z"
   },
   {
    "duration": 15,
    "start_time": "2023-07-08T16:48:17.955Z"
   },
   {
    "duration": 3,
    "start_time": "2023-07-08T16:48:17.971Z"
   },
   {
    "duration": 30,
    "start_time": "2023-07-08T16:48:17.981Z"
   },
   {
    "duration": 14,
    "start_time": "2023-07-08T16:48:18.016Z"
   },
   {
    "duration": 20,
    "start_time": "2023-07-08T16:48:18.032Z"
   },
   {
    "duration": 6,
    "start_time": "2023-07-08T16:48:18.054Z"
   },
   {
    "duration": 28,
    "start_time": "2023-07-08T16:48:18.062Z"
   },
   {
    "duration": 17,
    "start_time": "2023-07-08T16:48:18.097Z"
   },
   {
    "duration": 7,
    "start_time": "2023-07-08T16:48:18.115Z"
   },
   {
    "duration": 14,
    "start_time": "2023-07-08T16:48:18.124Z"
   },
   {
    "duration": 14,
    "start_time": "2023-07-08T16:48:18.139Z"
   },
   {
    "duration": 13,
    "start_time": "2023-07-08T16:48:18.155Z"
   },
   {
    "duration": 44,
    "start_time": "2023-07-08T16:48:18.170Z"
   },
   {
    "duration": 8,
    "start_time": "2023-07-08T16:48:18.215Z"
   },
   {
    "duration": 16,
    "start_time": "2023-07-08T16:48:18.225Z"
   },
   {
    "duration": 349,
    "start_time": "2023-07-08T16:48:18.242Z"
   },
   {
    "duration": 414,
    "start_time": "2023-07-08T16:48:18.594Z"
   },
   {
    "duration": 508,
    "start_time": "2023-07-08T16:48:19.011Z"
   },
   {
    "duration": 300,
    "start_time": "2023-07-08T16:48:19.521Z"
   },
   {
    "duration": 228,
    "start_time": "2023-07-08T16:48:19.823Z"
   },
   {
    "duration": 275,
    "start_time": "2023-07-08T16:48:20.054Z"
   },
   {
    "duration": 287,
    "start_time": "2023-07-08T16:48:20.330Z"
   },
   {
    "duration": 216,
    "start_time": "2023-07-08T16:48:20.619Z"
   },
   {
    "duration": 11,
    "start_time": "2023-07-08T16:48:20.837Z"
   },
   {
    "duration": 38,
    "start_time": "2023-07-08T16:48:20.849Z"
   },
   {
    "duration": 43,
    "start_time": "2023-07-08T16:48:20.891Z"
   },
   {
    "duration": 16,
    "start_time": "2023-07-08T16:48:20.936Z"
   },
   {
    "duration": 60,
    "start_time": "2023-07-08T16:48:20.954Z"
   },
   {
    "duration": 13,
    "start_time": "2023-07-08T16:48:21.016Z"
   },
   {
    "duration": 10,
    "start_time": "2023-07-08T16:48:21.030Z"
   },
   {
    "duration": 13,
    "start_time": "2023-07-08T16:48:21.041Z"
   },
   {
    "duration": 11,
    "start_time": "2023-07-08T16:48:21.055Z"
   },
   {
    "duration": 15,
    "start_time": "2023-07-08T16:48:21.067Z"
   },
   {
    "duration": 34,
    "start_time": "2023-07-08T16:48:21.083Z"
   },
   {
    "duration": 9,
    "start_time": "2023-07-08T16:48:21.119Z"
   },
   {
    "duration": 185,
    "start_time": "2023-07-08T16:48:21.131Z"
   },
   {
    "duration": 0,
    "start_time": "2023-07-08T16:48:21.317Z"
   },
   {
    "duration": 0,
    "start_time": "2023-07-08T16:48:21.319Z"
   },
   {
    "duration": 0,
    "start_time": "2023-07-08T16:48:21.319Z"
   },
   {
    "duration": 0,
    "start_time": "2023-07-08T16:48:21.320Z"
   },
   {
    "duration": 0,
    "start_time": "2023-07-08T16:48:21.321Z"
   },
   {
    "duration": 0,
    "start_time": "2023-07-08T16:48:21.323Z"
   },
   {
    "duration": 0,
    "start_time": "2023-07-08T16:48:21.324Z"
   },
   {
    "duration": 0,
    "start_time": "2023-07-08T16:48:21.325Z"
   },
   {
    "duration": 0,
    "start_time": "2023-07-08T16:48:21.326Z"
   },
   {
    "duration": 0,
    "start_time": "2023-07-08T16:48:21.327Z"
   },
   {
    "duration": 17,
    "start_time": "2023-07-08T16:48:52.513Z"
   },
   {
    "duration": 15,
    "start_time": "2023-07-08T16:48:52.533Z"
   },
   {
    "duration": 68,
    "start_time": "2023-07-08T16:48:52.550Z"
   },
   {
    "duration": 19,
    "start_time": "2023-07-08T16:48:52.621Z"
   },
   {
    "duration": 44,
    "start_time": "2023-07-08T16:48:52.642Z"
   },
   {
    "duration": 38,
    "start_time": "2023-07-08T16:48:52.688Z"
   },
   {
    "duration": 29,
    "start_time": "2023-07-08T16:48:52.728Z"
   },
   {
    "duration": 9,
    "start_time": "2023-07-08T16:48:52.758Z"
   },
   {
    "duration": 76,
    "start_time": "2023-07-08T16:48:52.770Z"
   },
   {
    "duration": 11,
    "start_time": "2023-07-08T16:48:52.849Z"
   },
   {
    "duration": 1295,
    "start_time": "2023-07-08T17:25:42.517Z"
   },
   {
    "duration": 1552,
    "start_time": "2023-07-08T17:25:46.012Z"
   },
   {
    "duration": 11,
    "start_time": "2023-07-08T17:25:49.915Z"
   },
   {
    "duration": 13,
    "start_time": "2023-07-08T17:25:53.411Z"
   },
   {
    "duration": 4,
    "start_time": "2023-07-08T17:25:57.113Z"
   },
   {
    "duration": 4,
    "start_time": "2023-07-08T17:25:58.639Z"
   },
   {
    "duration": 96,
    "start_time": "2023-07-08T17:26:00.024Z"
   },
   {
    "duration": 5,
    "start_time": "2023-07-08T17:26:01.703Z"
   },
   {
    "duration": 4,
    "start_time": "2023-07-08T17:26:02.715Z"
   },
   {
    "duration": 4,
    "start_time": "2023-07-08T17:26:05.134Z"
   },
   {
    "duration": 4,
    "start_time": "2023-07-08T17:26:06.605Z"
   },
   {
    "duration": 90,
    "start_time": "2023-07-08T17:26:08.422Z"
   },
   {
    "duration": 5,
    "start_time": "2023-07-08T17:26:12.005Z"
   },
   {
    "duration": 13,
    "start_time": "2023-07-08T17:26:13.713Z"
   },
   {
    "duration": 12,
    "start_time": "2023-07-08T17:26:15.305Z"
   },
   {
    "duration": 13,
    "start_time": "2023-07-08T17:26:16.709Z"
   },
   {
    "duration": 12,
    "start_time": "2023-07-08T17:26:18.150Z"
   },
   {
    "duration": 12,
    "start_time": "2023-07-08T17:26:20.628Z"
   },
   {
    "duration": 10,
    "start_time": "2023-07-08T17:26:21.689Z"
   },
   {
    "duration": 13,
    "start_time": "2023-07-08T17:26:23.505Z"
   },
   {
    "duration": 11,
    "start_time": "2023-07-08T17:26:24.955Z"
   },
   {
    "duration": 15,
    "start_time": "2023-07-08T17:26:25.945Z"
   },
   {
    "duration": 12,
    "start_time": "2023-07-08T17:26:27.424Z"
   },
   {
    "duration": 7,
    "start_time": "2023-07-08T17:26:28.823Z"
   },
   {
    "duration": 6,
    "start_time": "2023-07-08T17:26:31.447Z"
   },
   {
    "duration": 2,
    "start_time": "2023-07-08T17:26:33.226Z"
   },
   {
    "duration": 4,
    "start_time": "2023-07-08T17:26:35.713Z"
   },
   {
    "duration": 12,
    "start_time": "2023-07-08T17:26:40.026Z"
   },
   {
    "duration": 11,
    "start_time": "2023-07-08T17:26:51.017Z"
   },
   {
    "duration": 5,
    "start_time": "2023-07-08T17:26:53.109Z"
   },
   {
    "duration": 13,
    "start_time": "2023-07-08T17:26:55.014Z"
   },
   {
    "duration": 7,
    "start_time": "2023-07-08T17:26:58.028Z"
   },
   {
    "duration": 7,
    "start_time": "2023-07-08T17:27:00.018Z"
   },
   {
    "duration": 7,
    "start_time": "2023-07-08T17:27:05.231Z"
   },
   {
    "duration": 7,
    "start_time": "2023-07-08T17:27:06.817Z"
   },
   {
    "duration": 5,
    "start_time": "2023-07-08T17:27:08.515Z"
   },
   {
    "duration": 7,
    "start_time": "2023-07-08T17:27:09.863Z"
   },
   {
    "duration": 7,
    "start_time": "2023-07-08T17:27:14.217Z"
   },
   {
    "duration": 14,
    "start_time": "2023-07-08T17:27:17.110Z"
   },
   {
    "duration": 180,
    "start_time": "2023-07-08T17:27:22.413Z"
   },
   {
    "duration": 197,
    "start_time": "2023-07-08T17:27:28.349Z"
   },
   {
    "duration": 234,
    "start_time": "2023-07-08T17:27:30.740Z"
   },
   {
    "duration": 110,
    "start_time": "2023-07-08T17:27:32.348Z"
   },
   {
    "duration": 102,
    "start_time": "2023-07-08T17:27:33.936Z"
   },
   {
    "duration": 81,
    "start_time": "2023-07-08T17:27:36.605Z"
   },
   {
    "duration": 89,
    "start_time": "2023-07-08T17:27:39.509Z"
   },
   {
    "duration": 91,
    "start_time": "2023-07-08T17:27:41.259Z"
   },
   {
    "duration": 12,
    "start_time": "2023-07-08T17:28:02.904Z"
   },
   {
    "duration": 11,
    "start_time": "2023-07-08T17:28:04.515Z"
   },
   {
    "duration": 11,
    "start_time": "2023-07-08T17:28:05.845Z"
   },
   {
    "duration": 12,
    "start_time": "2023-07-08T17:28:07.642Z"
   },
   {
    "duration": 11,
    "start_time": "2023-07-08T17:28:09.005Z"
   },
   {
    "duration": 11,
    "start_time": "2023-07-08T17:28:11.126Z"
   },
   {
    "duration": 13,
    "start_time": "2023-07-08T17:28:12.851Z"
   },
   {
    "duration": 10,
    "start_time": "2023-07-08T17:28:14.215Z"
   },
   {
    "duration": 11,
    "start_time": "2023-07-08T17:28:15.704Z"
   },
   {
    "duration": 12,
    "start_time": "2023-07-08T17:28:16.804Z"
   },
   {
    "duration": 12,
    "start_time": "2023-07-08T17:28:18.241Z"
   },
   {
    "duration": 7,
    "start_time": "2023-07-08T17:28:19.342Z"
   },
   {
    "duration": 62,
    "start_time": "2023-07-08T17:28:25.211Z"
   },
   {
    "duration": 9,
    "start_time": "2023-07-08T17:28:44.626Z"
   },
   {
    "duration": 11,
    "start_time": "2023-07-08T17:28:46.553Z"
   },
   {
    "duration": 13,
    "start_time": "2023-07-08T17:28:50.331Z"
   },
   {
    "duration": 7,
    "start_time": "2023-07-08T17:28:52.108Z"
   },
   {
    "duration": 15,
    "start_time": "2023-07-08T17:28:53.405Z"
   },
   {
    "duration": 8,
    "start_time": "2023-07-08T17:28:56.172Z"
   },
   {
    "duration": 13,
    "start_time": "2023-07-08T17:28:57.951Z"
   },
   {
    "duration": 13,
    "start_time": "2023-07-08T17:28:59.563Z"
   },
   {
    "duration": 7,
    "start_time": "2023-07-08T17:29:02.876Z"
   },
   {
    "duration": 21,
    "start_time": "2023-07-08T17:29:04.411Z"
   },
   {
    "duration": 7,
    "start_time": "2023-07-08T17:29:06.632Z"
   },
   {
    "duration": 207,
    "start_time": "2023-07-08T17:30:52.411Z"
   },
   {
    "duration": 297,
    "start_time": "2023-07-08T17:34:48.148Z"
   },
   {
    "duration": 106,
    "start_time": "2023-07-08T17:35:03.165Z"
   },
   {
    "duration": 410,
    "start_time": "2023-07-08T17:35:18.458Z"
   },
   {
    "duration": 12,
    "start_time": "2023-07-08T17:35:20.840Z"
   },
   {
    "duration": 3,
    "start_time": "2023-07-08T17:35:49.375Z"
   },
   {
    "duration": 1298,
    "start_time": "2023-07-08T17:35:52.211Z"
   },
   {
    "duration": 11,
    "start_time": "2023-07-08T17:35:56.831Z"
   },
   {
    "duration": 12,
    "start_time": "2023-07-08T17:35:59.040Z"
   },
   {
    "duration": 4,
    "start_time": "2023-07-08T17:36:01.694Z"
   },
   {
    "duration": 5,
    "start_time": "2023-07-08T17:36:03.152Z"
   },
   {
    "duration": 99,
    "start_time": "2023-07-08T17:36:05.478Z"
   },
   {
    "duration": 4,
    "start_time": "2023-07-08T17:36:08.016Z"
   },
   {
    "duration": 4,
    "start_time": "2023-07-08T17:36:09.216Z"
   },
   {
    "duration": 5,
    "start_time": "2023-07-08T17:36:10.817Z"
   },
   {
    "duration": 4,
    "start_time": "2023-07-08T17:36:12.007Z"
   },
   {
    "duration": 89,
    "start_time": "2023-07-08T17:36:13.511Z"
   },
   {
    "duration": 4,
    "start_time": "2023-07-08T17:36:15.509Z"
   },
   {
    "duration": 13,
    "start_time": "2023-07-08T17:36:16.824Z"
   },
   {
    "duration": 14,
    "start_time": "2023-07-08T17:36:18.211Z"
   },
   {
    "duration": 11,
    "start_time": "2023-07-08T17:36:19.608Z"
   },
   {
    "duration": 13,
    "start_time": "2023-07-08T17:36:21.272Z"
   },
   {
    "duration": 13,
    "start_time": "2023-07-08T17:36:22.832Z"
   },
   {
    "duration": 11,
    "start_time": "2023-07-08T17:36:24.093Z"
   },
   {
    "duration": 14,
    "start_time": "2023-07-08T17:36:26.104Z"
   },
   {
    "duration": 15,
    "start_time": "2023-07-08T17:36:27.448Z"
   },
   {
    "duration": 10,
    "start_time": "2023-07-08T17:36:30.054Z"
   },
   {
    "duration": 12,
    "start_time": "2023-07-08T17:36:31.791Z"
   },
   {
    "duration": 8,
    "start_time": "2023-07-08T17:36:32.911Z"
   },
   {
    "duration": 5,
    "start_time": "2023-07-08T17:36:35.146Z"
   },
   {
    "duration": 4,
    "start_time": "2023-07-08T17:36:38.454Z"
   },
   {
    "duration": 11,
    "start_time": "2023-07-08T17:36:41.616Z"
   },
   {
    "duration": 18,
    "start_time": "2023-07-08T17:36:44.405Z"
   },
   {
    "duration": 6,
    "start_time": "2023-07-08T17:36:46.811Z"
   },
   {
    "duration": 12,
    "start_time": "2023-07-08T17:36:48.415Z"
   },
   {
    "duration": 7,
    "start_time": "2023-07-08T17:36:51.115Z"
   },
   {
    "duration": 9,
    "start_time": "2023-07-08T17:37:25.515Z"
   },
   {
    "duration": 8,
    "start_time": "2023-07-08T17:37:26.966Z"
   },
   {
    "duration": 7,
    "start_time": "2023-07-08T17:37:28.114Z"
   },
   {
    "duration": 5,
    "start_time": "2023-07-08T17:37:29.616Z"
   },
   {
    "duration": 8,
    "start_time": "2023-07-08T17:37:30.912Z"
   },
   {
    "duration": 7,
    "start_time": "2023-07-08T17:37:33.273Z"
   },
   {
    "duration": 14,
    "start_time": "2023-07-08T17:37:35.314Z"
   },
   {
    "duration": 291,
    "start_time": "2023-07-08T17:37:36.966Z"
   },
   {
    "duration": 239,
    "start_time": "2023-07-08T17:37:38.811Z"
   },
   {
    "duration": 511,
    "start_time": "2023-07-08T17:37:52.218Z"
   },
   {
    "duration": 381,
    "start_time": "2023-07-08T17:38:05.367Z"
   },
   {
    "duration": 170,
    "start_time": "2023-07-08T17:38:22.172Z"
   },
   {
    "duration": 137,
    "start_time": "2023-07-08T17:38:48.239Z"
   },
   {
    "duration": 296,
    "start_time": "2023-07-08T17:40:12.808Z"
   },
   {
    "duration": 476,
    "start_time": "2023-07-08T17:40:15.848Z"
   },
   {
    "duration": 392,
    "start_time": "2023-07-08T17:40:18.749Z"
   },
   {
    "duration": 154,
    "start_time": "2023-07-08T17:40:21.905Z"
   },
   {
    "duration": 133,
    "start_time": "2023-07-08T17:40:28.216Z"
   },
   {
    "duration": 81,
    "start_time": "2023-07-08T17:40:32.158Z"
   },
   {
    "duration": 78,
    "start_time": "2023-07-08T17:40:34.809Z"
   },
   {
    "duration": 82,
    "start_time": "2023-07-08T17:40:38.608Z"
   },
   {
    "duration": 1683,
    "start_time": "2023-07-08T17:42:56.371Z"
   },
   {
    "duration": 110,
    "start_time": "2023-07-08T17:49:17.098Z"
   },
   {
    "duration": 123,
    "start_time": "2023-07-08T17:54:21.730Z"
   },
   {
    "duration": 574,
    "start_time": "2023-07-08T17:59:23.124Z"
   },
   {
    "duration": 674,
    "start_time": "2023-07-08T17:59:50.550Z"
   },
   {
    "duration": 564,
    "start_time": "2023-07-08T17:59:55.354Z"
   },
   {
    "duration": 542,
    "start_time": "2023-07-08T18:00:54.244Z"
   },
   {
    "duration": 345,
    "start_time": "2023-07-08T18:01:10.023Z"
   },
   {
    "duration": 480,
    "start_time": "2023-07-08T18:03:09.830Z"
   },
   {
    "duration": 535,
    "start_time": "2023-07-08T18:03:35.888Z"
   },
   {
    "duration": 451,
    "start_time": "2023-07-08T18:04:31.921Z"
   },
   {
    "duration": 245,
    "start_time": "2023-07-08T18:05:49.444Z"
   },
   {
    "duration": 189,
    "start_time": "2023-07-08T18:06:51.939Z"
   },
   {
    "duration": 289,
    "start_time": "2023-07-08T18:07:10.262Z"
   },
   {
    "duration": 195,
    "start_time": "2023-07-08T18:07:15.558Z"
   },
   {
    "duration": 199,
    "start_time": "2023-07-08T18:07:21.069Z"
   },
   {
    "duration": 198,
    "start_time": "2023-07-08T18:07:27.492Z"
   },
   {
    "duration": 121,
    "start_time": "2023-07-08T18:08:15.026Z"
   },
   {
    "duration": 128,
    "start_time": "2023-07-08T18:09:23.695Z"
   },
   {
    "duration": 195,
    "start_time": "2023-07-08T18:09:35.729Z"
   },
   {
    "duration": 329,
    "start_time": "2023-07-08T18:09:46.126Z"
   },
   {
    "duration": 138,
    "start_time": "2023-07-08T18:10:28.926Z"
   },
   {
    "duration": 22,
    "start_time": "2023-07-08T18:14:33.630Z"
   },
   {
    "duration": 21,
    "start_time": "2023-07-08T18:14:39.788Z"
   },
   {
    "duration": 21,
    "start_time": "2023-07-08T18:14:46.054Z"
   },
   {
    "duration": 21,
    "start_time": "2023-07-08T18:14:59.441Z"
   },
   {
    "duration": 611,
    "start_time": "2023-07-08T18:15:27.393Z"
   },
   {
    "duration": 18,
    "start_time": "2023-07-08T18:18:30.030Z"
   },
   {
    "duration": 53,
    "start_time": "2023-07-08T18:18:39.591Z"
   },
   {
    "duration": 23,
    "start_time": "2023-07-08T18:18:56.587Z"
   },
   {
    "duration": 94,
    "start_time": "2023-07-08T18:21:51.581Z"
   },
   {
    "duration": 156,
    "start_time": "2023-07-08T18:22:17.295Z"
   },
   {
    "duration": 113,
    "start_time": "2023-07-08T18:23:44.935Z"
   },
   {
    "duration": 258,
    "start_time": "2023-07-08T18:24:16.426Z"
   },
   {
    "duration": 13,
    "start_time": "2023-07-08T18:27:19.028Z"
   },
   {
    "duration": 16,
    "start_time": "2023-07-08T18:30:50.519Z"
   },
   {
    "duration": 12,
    "start_time": "2023-07-08T18:30:55.951Z"
   },
   {
    "duration": 10,
    "start_time": "2023-07-08T18:31:48.628Z"
   },
   {
    "duration": 303,
    "start_time": "2023-07-08T18:32:11.495Z"
   },
   {
    "duration": 206,
    "start_time": "2023-07-08T18:32:24.031Z"
   },
   {
    "duration": 239,
    "start_time": "2023-07-08T18:33:09.978Z"
   },
   {
    "duration": 319,
    "start_time": "2023-07-08T18:33:43.829Z"
   },
   {
    "duration": 307,
    "start_time": "2023-07-08T18:33:51.722Z"
   },
   {
    "duration": 28,
    "start_time": "2023-07-08T18:36:06.695Z"
   },
   {
    "duration": 260,
    "start_time": "2023-07-08T18:36:50.135Z"
   },
   {
    "duration": 43,
    "start_time": "2023-07-08T18:39:25.508Z"
   },
   {
    "duration": 296,
    "start_time": "2023-07-08T18:40:00.817Z"
   },
   {
    "duration": 41,
    "start_time": "2023-07-08T18:43:47.406Z"
   },
   {
    "duration": 8,
    "start_time": "2023-07-08T18:46:12.051Z"
   },
   {
    "duration": 33,
    "start_time": "2023-07-08T18:46:17.984Z"
   },
   {
    "duration": 416,
    "start_time": "2023-07-08T18:47:04.168Z"
   },
   {
    "duration": 468,
    "start_time": "2023-07-08T18:47:33.849Z"
   },
   {
    "duration": 407,
    "start_time": "2023-07-08T18:47:50.838Z"
   },
   {
    "duration": 418,
    "start_time": "2023-07-08T18:48:14.463Z"
   },
   {
    "duration": 10,
    "start_time": "2023-07-08T18:48:19.895Z"
   },
   {
    "duration": 16,
    "start_time": "2023-07-08T18:48:21.962Z"
   },
   {
    "duration": 66,
    "start_time": "2023-07-08T18:48:23.782Z"
   },
   {
    "duration": 477,
    "start_time": "2023-07-08T18:48:25.892Z"
   },
   {
    "duration": 45,
    "start_time": "2023-07-08T18:51:30.692Z"
   },
   {
    "duration": 18,
    "start_time": "2023-07-08T18:52:00.422Z"
   },
   {
    "duration": 23,
    "start_time": "2023-07-08T18:52:49.392Z"
   },
   {
    "duration": 12,
    "start_time": "2023-07-08T18:53:04.759Z"
   },
   {
    "duration": 40,
    "start_time": "2023-07-08T18:53:15.541Z"
   },
   {
    "duration": 11,
    "start_time": "2023-07-08T18:53:17.458Z"
   },
   {
    "duration": 50,
    "start_time": "2023-07-08T18:53:23.611Z"
   },
   {
    "duration": 18,
    "start_time": "2023-07-08T18:53:25.142Z"
   },
   {
    "duration": 48,
    "start_time": "2023-07-08T18:55:05.689Z"
   },
   {
    "duration": 40,
    "start_time": "2023-07-08T18:55:07.921Z"
   },
   {
    "duration": 92,
    "start_time": "2023-07-08T18:56:53.210Z"
   },
   {
    "duration": 21,
    "start_time": "2023-07-08T18:56:56.422Z"
   },
   {
    "duration": 49,
    "start_time": "2023-07-08T18:57:05.924Z"
   },
   {
    "duration": 1687,
    "start_time": "2023-07-09T14:52:34.122Z"
   },
   {
    "duration": 1164,
    "start_time": "2023-07-09T14:52:35.811Z"
   },
   {
    "duration": 10,
    "start_time": "2023-07-09T14:52:36.977Z"
   },
   {
    "duration": 17,
    "start_time": "2023-07-09T14:52:36.989Z"
   },
   {
    "duration": 9,
    "start_time": "2023-07-09T14:52:37.007Z"
   },
   {
    "duration": 14,
    "start_time": "2023-07-09T14:52:37.017Z"
   },
   {
    "duration": 264,
    "start_time": "2023-07-09T14:52:37.032Z"
   },
   {
    "duration": 5,
    "start_time": "2023-07-09T14:52:37.299Z"
   },
   {
    "duration": 8,
    "start_time": "2023-07-09T14:52:37.306Z"
   },
   {
    "duration": 6,
    "start_time": "2023-07-09T14:52:37.316Z"
   },
   {
    "duration": 17,
    "start_time": "2023-07-09T14:52:37.323Z"
   },
   {
    "duration": 248,
    "start_time": "2023-07-09T14:52:37.342Z"
   },
   {
    "duration": 5,
    "start_time": "2023-07-09T14:52:37.592Z"
   },
   {
    "duration": 20,
    "start_time": "2023-07-09T14:52:37.598Z"
   },
   {
    "duration": 11,
    "start_time": "2023-07-09T14:52:37.619Z"
   },
   {
    "duration": 29,
    "start_time": "2023-07-09T14:52:37.632Z"
   },
   {
    "duration": 12,
    "start_time": "2023-07-09T14:52:37.662Z"
   },
   {
    "duration": 12,
    "start_time": "2023-07-09T14:52:37.676Z"
   },
   {
    "duration": 11,
    "start_time": "2023-07-09T14:52:37.690Z"
   },
   {
    "duration": 13,
    "start_time": "2023-07-09T14:52:37.702Z"
   },
   {
    "duration": 36,
    "start_time": "2023-07-09T14:52:37.717Z"
   },
   {
    "duration": 11,
    "start_time": "2023-07-09T14:52:37.755Z"
   },
   {
    "duration": 12,
    "start_time": "2023-07-09T14:52:37.768Z"
   },
   {
    "duration": 10,
    "start_time": "2023-07-09T14:52:37.781Z"
   },
   {
    "duration": 12,
    "start_time": "2023-07-09T14:52:37.793Z"
   },
   {
    "duration": 31,
    "start_time": "2023-07-09T14:52:37.807Z"
   },
   {
    "duration": 12,
    "start_time": "2023-07-09T14:52:37.840Z"
   },
   {
    "duration": 11,
    "start_time": "2023-07-09T14:52:37.857Z"
   },
   {
    "duration": 11,
    "start_time": "2023-07-09T14:52:37.870Z"
   },
   {
    "duration": 6,
    "start_time": "2023-07-09T14:52:37.883Z"
   },
   {
    "duration": 15,
    "start_time": "2023-07-09T14:52:37.891Z"
   },
   {
    "duration": 43,
    "start_time": "2023-07-09T14:52:37.908Z"
   },
   {
    "duration": 9,
    "start_time": "2023-07-09T14:52:37.954Z"
   },
   {
    "duration": 8,
    "start_time": "2023-07-09T14:52:37.965Z"
   },
   {
    "duration": 6,
    "start_time": "2023-07-09T14:52:37.975Z"
   },
   {
    "duration": 11,
    "start_time": "2023-07-09T14:52:37.982Z"
   },
   {
    "duration": 10,
    "start_time": "2023-07-09T14:52:37.994Z"
   },
   {
    "duration": 11,
    "start_time": "2023-07-09T14:52:38.006Z"
   },
   {
    "duration": 43,
    "start_time": "2023-07-09T14:52:38.019Z"
   },
   {
    "duration": 580,
    "start_time": "2023-07-09T14:52:38.064Z"
   },
   {
    "duration": 772,
    "start_time": "2023-07-09T14:52:38.655Z"
   },
   {
    "duration": 804,
    "start_time": "2023-07-09T14:52:39.429Z"
   },
   {
    "duration": 420,
    "start_time": "2023-07-09T14:52:40.235Z"
   },
   {
    "duration": 364,
    "start_time": "2023-07-09T14:52:40.657Z"
   },
   {
    "duration": 11,
    "start_time": "2023-07-09T14:52:41.023Z"
   },
   {
    "duration": 342,
    "start_time": "2023-07-09T14:52:41.035Z"
   },
   {
    "duration": 12,
    "start_time": "2023-07-09T14:52:41.380Z"
   },
   {
    "duration": 366,
    "start_time": "2023-07-09T14:52:41.394Z"
   },
   {
    "duration": 10,
    "start_time": "2023-07-09T14:52:41.762Z"
   },
   {
    "duration": 344,
    "start_time": "2023-07-09T14:52:41.773Z"
   },
   {
    "duration": 12,
    "start_time": "2023-07-09T14:52:42.118Z"
   },
   {
    "duration": 23,
    "start_time": "2023-07-09T14:52:42.132Z"
   },
   {
    "duration": 12,
    "start_time": "2023-07-09T14:52:42.156Z"
   },
   {
    "duration": 12,
    "start_time": "2023-07-09T14:52:42.170Z"
   },
   {
    "duration": 10,
    "start_time": "2023-07-09T14:52:42.184Z"
   },
   {
    "duration": 13,
    "start_time": "2023-07-09T14:52:42.196Z"
   },
   {
    "duration": 49,
    "start_time": "2023-07-09T14:52:42.211Z"
   },
   {
    "duration": 25,
    "start_time": "2023-07-09T14:52:42.262Z"
   },
   {
    "duration": 19,
    "start_time": "2023-07-09T14:52:42.289Z"
   },
   {
    "duration": 10,
    "start_time": "2023-07-09T14:52:42.310Z"
   },
   {
    "duration": 10,
    "start_time": "2023-07-09T14:52:42.322Z"
   },
   {
    "duration": 19,
    "start_time": "2023-07-09T14:52:42.334Z"
   },
   {
    "duration": 125,
    "start_time": "2023-07-09T14:52:42.355Z"
   },
   {
    "duration": 0,
    "start_time": "2023-07-09T14:52:42.482Z"
   },
   {
    "duration": 0,
    "start_time": "2023-07-09T14:52:42.484Z"
   },
   {
    "duration": 0,
    "start_time": "2023-07-09T14:52:42.486Z"
   },
   {
    "duration": 0,
    "start_time": "2023-07-09T14:52:42.487Z"
   },
   {
    "duration": 0,
    "start_time": "2023-07-09T14:52:42.488Z"
   },
   {
    "duration": 0,
    "start_time": "2023-07-09T14:52:42.489Z"
   },
   {
    "duration": 0,
    "start_time": "2023-07-09T14:52:42.491Z"
   },
   {
    "duration": 0,
    "start_time": "2023-07-09T14:52:42.492Z"
   },
   {
    "duration": 0,
    "start_time": "2023-07-09T14:52:42.493Z"
   },
   {
    "duration": 0,
    "start_time": "2023-07-09T14:52:42.495Z"
   },
   {
    "duration": 0,
    "start_time": "2023-07-09T14:52:42.496Z"
   },
   {
    "duration": 20,
    "start_time": "2023-07-09T14:53:03.072Z"
   },
   {
    "duration": 16,
    "start_time": "2023-07-09T14:53:12.148Z"
   },
   {
    "duration": 1731,
    "start_time": "2023-07-09T20:18:06.904Z"
   },
   {
    "duration": 1535,
    "start_time": "2023-07-09T20:18:10.286Z"
   },
   {
    "duration": 16,
    "start_time": "2023-07-09T20:18:15.047Z"
   },
   {
    "duration": 17,
    "start_time": "2023-07-09T20:18:17.887Z"
   },
   {
    "duration": 5,
    "start_time": "2023-07-09T20:18:20.054Z"
   },
   {
    "duration": 5,
    "start_time": "2023-07-09T20:18:21.791Z"
   },
   {
    "duration": 126,
    "start_time": "2023-07-09T20:18:23.041Z"
   },
   {
    "duration": 7,
    "start_time": "2023-07-09T20:18:25.312Z"
   },
   {
    "duration": 5,
    "start_time": "2023-07-09T20:18:27.086Z"
   },
   {
    "duration": 6,
    "start_time": "2023-07-09T20:18:28.940Z"
   },
   {
    "duration": 5,
    "start_time": "2023-07-09T20:18:30.191Z"
   },
   {
    "duration": 137,
    "start_time": "2023-07-09T20:18:32.594Z"
   },
   {
    "duration": 5,
    "start_time": "2023-07-09T20:18:35.105Z"
   },
   {
    "duration": 22,
    "start_time": "2023-07-09T20:18:36.397Z"
   },
   {
    "duration": 14,
    "start_time": "2023-07-09T20:18:37.942Z"
   },
   {
    "duration": 19,
    "start_time": "2023-07-09T20:18:39.050Z"
   },
   {
    "duration": 21,
    "start_time": "2023-07-09T20:18:40.859Z"
   },
   {
    "duration": 16,
    "start_time": "2023-07-09T20:18:42.061Z"
   },
   {
    "duration": 17,
    "start_time": "2023-07-09T20:18:43.258Z"
   },
   {
    "duration": 21,
    "start_time": "2023-07-09T20:18:45.887Z"
   },
   {
    "duration": 16,
    "start_time": "2023-07-09T20:18:46.977Z"
   },
   {
    "duration": 15,
    "start_time": "2023-07-09T20:18:48.554Z"
   },
   {
    "duration": 21,
    "start_time": "2023-07-09T20:18:49.750Z"
   },
   {
    "duration": 13,
    "start_time": "2023-07-09T20:18:51.442Z"
   },
   {
    "duration": 8,
    "start_time": "2023-07-09T20:18:55.053Z"
   },
   {
    "duration": 2,
    "start_time": "2023-07-09T20:18:56.489Z"
   },
   {
    "duration": 5,
    "start_time": "2023-07-09T20:18:58.479Z"
   },
   {
    "duration": 14,
    "start_time": "2023-07-09T20:19:00.965Z"
   },
   {
    "duration": 12,
    "start_time": "2023-07-09T20:19:03.585Z"
   },
   {
    "duration": 8,
    "start_time": "2023-07-09T20:19:05.609Z"
   },
   {
    "duration": 17,
    "start_time": "2023-07-09T20:19:07.545Z"
   },
   {
    "duration": 9,
    "start_time": "2023-07-09T20:19:09.543Z"
   },
   {
    "duration": 11,
    "start_time": "2023-07-09T20:19:10.954Z"
   },
   {
    "duration": 10,
    "start_time": "2023-07-09T20:19:14.181Z"
   },
   {
    "duration": 8,
    "start_time": "2023-07-09T20:19:15.538Z"
   },
   {
    "duration": 6,
    "start_time": "2023-07-09T20:19:17.496Z"
   },
   {
    "duration": 8,
    "start_time": "2023-07-09T20:19:18.524Z"
   },
   {
    "duration": 9,
    "start_time": "2023-07-09T20:19:20.941Z"
   },
   {
    "duration": 24,
    "start_time": "2023-07-09T20:19:23.202Z"
   },
   {
    "duration": 438,
    "start_time": "2023-07-09T20:19:24.950Z"
   },
   {
    "duration": 585,
    "start_time": "2023-07-09T20:19:27.450Z"
   },
   {
    "duration": 513,
    "start_time": "2023-07-09T20:19:31.853Z"
   },
   {
    "duration": 238,
    "start_time": "2023-07-09T20:19:34.363Z"
   },
   {
    "duration": 213,
    "start_time": "2023-07-09T20:19:36.260Z"
   },
   {
    "duration": 11,
    "start_time": "2023-07-09T20:19:38.559Z"
   },
   {
    "duration": 137,
    "start_time": "2023-07-09T20:21:03.365Z"
   },
   {
    "duration": 452,
    "start_time": "2023-07-09T20:26:13.532Z"
   },
   {
    "duration": 211,
    "start_time": "2023-07-09T20:26:26.460Z"
   },
   {
    "duration": 243,
    "start_time": "2023-07-09T20:26:57.494Z"
   },
   {
    "duration": 364,
    "start_time": "2023-07-09T20:34:42.006Z"
   },
   {
    "duration": 214,
    "start_time": "2023-07-09T20:34:51.802Z"
   },
   {
    "duration": 308,
    "start_time": "2023-07-09T20:35:29.299Z"
   },
   {
    "duration": 234,
    "start_time": "2023-07-09T20:35:33.515Z"
   },
   {
    "duration": 210,
    "start_time": "2023-07-09T20:35:39.208Z"
   },
   {
    "duration": 335,
    "start_time": "2023-07-09T20:36:34.175Z"
   },
   {
    "duration": 208,
    "start_time": "2023-07-09T20:38:36.485Z"
   },
   {
    "duration": 16,
    "start_time": "2023-07-09T20:44:40.366Z"
   },
   {
    "duration": 169,
    "start_time": "2023-07-09T20:45:01.802Z"
   },
   {
    "duration": 12,
    "start_time": "2023-07-09T20:47:11.554Z"
   },
   {
    "duration": 16,
    "start_time": "2023-07-09T20:47:14.213Z"
   },
   {
    "duration": 235,
    "start_time": "2023-07-09T20:47:59.310Z"
   },
   {
    "duration": 246,
    "start_time": "2023-07-09T20:51:08.406Z"
   },
   {
    "duration": 203,
    "start_time": "2023-07-09T20:52:03.379Z"
   },
   {
    "duration": 66,
    "start_time": "2023-07-09T20:58:37.289Z"
   },
   {
    "duration": 200,
    "start_time": "2023-07-09T21:01:47.794Z"
   },
   {
    "duration": 233,
    "start_time": "2023-07-09T21:04:59.754Z"
   },
   {
    "duration": 199,
    "start_time": "2023-07-09T21:05:23.485Z"
   },
   {
    "duration": 429,
    "start_time": "2023-07-09T21:05:41.584Z"
   },
   {
    "duration": 297,
    "start_time": "2023-07-09T21:06:24.881Z"
   },
   {
    "duration": 646,
    "start_time": "2023-07-09T21:14:04.078Z"
   },
   {
    "duration": 467,
    "start_time": "2023-07-09T21:14:16.152Z"
   },
   {
    "duration": 486,
    "start_time": "2023-07-09T21:14:26.054Z"
   },
   {
    "duration": 312,
    "start_time": "2023-07-09T21:14:28.068Z"
   },
   {
    "duration": 197,
    "start_time": "2023-07-09T21:14:30.530Z"
   },
   {
    "duration": 240,
    "start_time": "2023-07-09T21:14:32.375Z"
   },
   {
    "duration": 230,
    "start_time": "2023-07-09T21:14:34.698Z"
   },
   {
    "duration": 254,
    "start_time": "2023-07-09T21:15:24.695Z"
   },
   {
    "duration": 234,
    "start_time": "2023-07-09T21:15:51.267Z"
   },
   {
    "duration": 450,
    "start_time": "2023-07-09T21:19:44.736Z"
   },
   {
    "duration": 15688,
    "start_time": "2023-07-09T21:34:04.497Z"
   },
   {
    "duration": 4596,
    "start_time": "2023-07-09T21:34:40.342Z"
   },
   {
    "duration": 1197,
    "start_time": "2023-07-09T21:34:44.941Z"
   },
   {
    "duration": 14,
    "start_time": "2023-07-09T21:34:46.140Z"
   },
   {
    "duration": 26,
    "start_time": "2023-07-09T21:34:46.157Z"
   },
   {
    "duration": 33,
    "start_time": "2023-07-09T21:34:46.186Z"
   },
   {
    "duration": 13,
    "start_time": "2023-07-09T21:34:46.222Z"
   },
   {
    "duration": 159,
    "start_time": "2023-07-09T21:34:46.237Z"
   },
   {
    "duration": 18,
    "start_time": "2023-07-09T21:34:46.399Z"
   },
   {
    "duration": 5,
    "start_time": "2023-07-09T21:34:46.419Z"
   },
   {
    "duration": 9,
    "start_time": "2023-07-09T21:34:46.427Z"
   },
   {
    "duration": 6,
    "start_time": "2023-07-09T21:34:46.438Z"
   },
   {
    "duration": 170,
    "start_time": "2023-07-09T21:34:46.446Z"
   },
   {
    "duration": 5,
    "start_time": "2023-07-09T21:34:46.618Z"
   },
   {
    "duration": 18,
    "start_time": "2023-07-09T21:34:46.625Z"
   },
   {
    "duration": 13,
    "start_time": "2023-07-09T21:34:46.645Z"
   },
   {
    "duration": 53,
    "start_time": "2023-07-09T21:34:46.660Z"
   },
   {
    "duration": 15,
    "start_time": "2023-07-09T21:34:46.715Z"
   },
   {
    "duration": 15,
    "start_time": "2023-07-09T21:34:46.732Z"
   },
   {
    "duration": 26,
    "start_time": "2023-07-09T21:34:46.749Z"
   },
   {
    "duration": 37,
    "start_time": "2023-07-09T21:34:46.777Z"
   },
   {
    "duration": 13,
    "start_time": "2023-07-09T21:34:46.816Z"
   },
   {
    "duration": 20,
    "start_time": "2023-07-09T21:34:46.831Z"
   },
   {
    "duration": 21,
    "start_time": "2023-07-09T21:34:46.853Z"
   },
   {
    "duration": 43,
    "start_time": "2023-07-09T21:34:46.876Z"
   },
   {
    "duration": 15,
    "start_time": "2023-07-09T21:34:46.922Z"
   },
   {
    "duration": 18,
    "start_time": "2023-07-09T21:34:46.939Z"
   },
   {
    "duration": 9,
    "start_time": "2023-07-09T21:34:46.958Z"
   },
   {
    "duration": 42,
    "start_time": "2023-07-09T21:34:46.971Z"
   },
   {
    "duration": 11,
    "start_time": "2023-07-09T21:34:47.015Z"
   },
   {
    "duration": 12,
    "start_time": "2023-07-09T21:34:47.028Z"
   },
   {
    "duration": 25,
    "start_time": "2023-07-09T21:34:47.042Z"
   },
   {
    "duration": 9,
    "start_time": "2023-07-09T21:34:47.069Z"
   },
   {
    "duration": 40,
    "start_time": "2023-07-09T21:34:47.079Z"
   },
   {
    "duration": 14,
    "start_time": "2023-07-09T21:34:47.121Z"
   },
   {
    "duration": 8,
    "start_time": "2023-07-09T21:34:47.137Z"
   },
   {
    "duration": 9,
    "start_time": "2023-07-09T21:34:47.147Z"
   },
   {
    "duration": 59,
    "start_time": "2023-07-09T21:34:47.158Z"
   },
   {
    "duration": 10,
    "start_time": "2023-07-09T21:34:47.218Z"
   },
   {
    "duration": 30,
    "start_time": "2023-07-09T21:34:47.229Z"
   },
   {
    "duration": 433,
    "start_time": "2023-07-09T21:34:47.261Z"
   },
   {
    "duration": 656,
    "start_time": "2023-07-09T21:34:47.697Z"
   },
   {
    "duration": 523,
    "start_time": "2023-07-09T21:34:48.355Z"
   },
   {
    "duration": 462,
    "start_time": "2023-07-09T21:34:48.880Z"
   },
   {
    "duration": 523,
    "start_time": "2023-07-09T21:34:49.344Z"
   },
   {
    "duration": 361,
    "start_time": "2023-07-09T21:34:49.869Z"
   },
   {
    "duration": 22,
    "start_time": "2023-07-09T21:34:50.234Z"
   },
   {
    "duration": 234,
    "start_time": "2023-07-09T21:34:50.259Z"
   },
   {
    "duration": 21,
    "start_time": "2023-07-09T21:34:50.495Z"
   },
   {
    "duration": 356,
    "start_time": "2023-07-09T21:34:50.519Z"
   },
   {
    "duration": 14,
    "start_time": "2023-07-09T21:34:50.878Z"
   },
   {
    "duration": 233,
    "start_time": "2023-07-09T21:34:50.895Z"
   },
   {
    "duration": 278,
    "start_time": "2023-07-09T21:34:51.131Z"
   },
   {
    "duration": 27,
    "start_time": "2023-07-09T21:34:51.412Z"
   },
   {
    "duration": 17,
    "start_time": "2023-07-09T21:34:51.442Z"
   },
   {
    "duration": 26,
    "start_time": "2023-07-09T21:34:51.461Z"
   },
   {
    "duration": 24,
    "start_time": "2023-07-09T21:34:51.490Z"
   },
   {
    "duration": 38,
    "start_time": "2023-07-09T21:34:51.517Z"
   },
   {
    "duration": 25,
    "start_time": "2023-07-09T21:34:51.558Z"
   },
   {
    "duration": 22,
    "start_time": "2023-07-09T21:34:51.586Z"
   },
   {
    "duration": 20,
    "start_time": "2023-07-09T21:34:51.614Z"
   },
   {
    "duration": 35,
    "start_time": "2023-07-09T21:34:51.637Z"
   },
   {
    "duration": 23,
    "start_time": "2023-07-09T21:34:51.676Z"
   },
   {
    "duration": 29,
    "start_time": "2023-07-09T21:34:51.702Z"
   },
   {
    "duration": 21,
    "start_time": "2023-07-09T21:34:51.734Z"
   },
   {
    "duration": 142,
    "start_time": "2023-07-09T21:34:51.758Z"
   },
   {
    "duration": 0,
    "start_time": "2023-07-09T21:34:51.902Z"
   },
   {
    "duration": 0,
    "start_time": "2023-07-09T21:34:51.914Z"
   },
   {
    "duration": 0,
    "start_time": "2023-07-09T21:34:51.915Z"
   },
   {
    "duration": 0,
    "start_time": "2023-07-09T21:34:51.916Z"
   },
   {
    "duration": 1,
    "start_time": "2023-07-09T21:34:51.918Z"
   },
   {
    "duration": 0,
    "start_time": "2023-07-09T21:34:51.920Z"
   },
   {
    "duration": 0,
    "start_time": "2023-07-09T21:34:51.921Z"
   },
   {
    "duration": 0,
    "start_time": "2023-07-09T21:34:51.923Z"
   },
   {
    "duration": 0,
    "start_time": "2023-07-09T21:34:51.924Z"
   },
   {
    "duration": 0,
    "start_time": "2023-07-09T21:34:51.927Z"
   },
   {
    "duration": 0,
    "start_time": "2023-07-09T21:34:51.930Z"
   },
   {
    "duration": 3112,
    "start_time": "2023-07-09T21:34:58.918Z"
   },
   {
    "duration": 1045,
    "start_time": "2023-07-09T21:35:02.740Z"
   },
   {
    "duration": 14,
    "start_time": "2023-07-09T21:35:08.919Z"
   },
   {
    "duration": 20,
    "start_time": "2023-07-09T21:35:11.299Z"
   },
   {
    "duration": 4,
    "start_time": "2023-07-09T21:35:38.795Z"
   },
   {
    "duration": 5,
    "start_time": "2023-07-09T21:35:40.406Z"
   },
   {
    "duration": 114,
    "start_time": "2023-07-09T21:35:42.339Z"
   },
   {
    "duration": 5,
    "start_time": "2023-07-09T21:35:44.426Z"
   },
   {
    "duration": 4,
    "start_time": "2023-07-09T21:35:45.828Z"
   },
   {
    "duration": 6,
    "start_time": "2023-07-09T21:35:48.797Z"
   },
   {
    "duration": 6,
    "start_time": "2023-07-09T21:35:52.587Z"
   },
   {
    "duration": 118,
    "start_time": "2023-07-09T21:35:55.945Z"
   },
   {
    "duration": 5,
    "start_time": "2023-07-09T21:35:58.521Z"
   },
   {
    "duration": 12,
    "start_time": "2023-07-09T21:36:00.491Z"
   },
   {
    "duration": 14,
    "start_time": "2023-07-09T21:36:02.464Z"
   },
   {
    "duration": 14,
    "start_time": "2023-07-09T21:36:04.339Z"
   },
   {
    "duration": 14,
    "start_time": "2023-07-09T21:36:06.457Z"
   },
   {
    "duration": 13,
    "start_time": "2023-07-09T21:36:08.451Z"
   },
   {
    "duration": 11,
    "start_time": "2023-07-09T21:36:10.284Z"
   },
   {
    "duration": 12,
    "start_time": "2023-07-09T21:36:11.910Z"
   },
   {
    "duration": 12,
    "start_time": "2023-07-09T21:36:13.471Z"
   },
   {
    "duration": 16,
    "start_time": "2023-07-09T21:36:15.660Z"
   },
   {
    "duration": 12,
    "start_time": "2023-07-09T21:36:17.096Z"
   },
   {
    "duration": 8,
    "start_time": "2023-07-09T21:36:19.068Z"
   },
   {
    "duration": 8,
    "start_time": "2023-07-09T21:36:21.625Z"
   },
   {
    "duration": 2,
    "start_time": "2023-07-09T21:36:23.021Z"
   },
   {
    "duration": 4,
    "start_time": "2023-07-09T21:36:25.327Z"
   },
   {
    "duration": 15,
    "start_time": "2023-07-09T21:36:29.188Z"
   },
   {
    "duration": 11,
    "start_time": "2023-07-09T21:36:32.248Z"
   },
   {
    "duration": 7,
    "start_time": "2023-07-09T21:36:34.234Z"
   },
   {
    "duration": 15,
    "start_time": "2023-07-09T21:36:36.904Z"
   },
   {
    "duration": 9,
    "start_time": "2023-07-09T21:36:40.397Z"
   },
   {
    "duration": 9,
    "start_time": "2023-07-09T21:36:41.948Z"
   },
   {
    "duration": 10,
    "start_time": "2023-07-09T21:36:43.891Z"
   },
   {
    "duration": 7,
    "start_time": "2023-07-09T21:36:45.853Z"
   },
   {
    "duration": 6,
    "start_time": "2023-07-09T21:36:47.504Z"
   },
   {
    "duration": 10,
    "start_time": "2023-07-09T21:36:48.712Z"
   },
   {
    "duration": 8,
    "start_time": "2023-07-09T21:36:51.097Z"
   },
   {
    "duration": 18,
    "start_time": "2023-07-09T21:36:52.908Z"
   },
   {
    "duration": 420,
    "start_time": "2023-07-09T21:36:58.901Z"
   },
   {
    "duration": 498,
    "start_time": "2023-07-09T21:37:01.049Z"
   },
   {
    "duration": 636,
    "start_time": "2023-07-09T21:37:02.956Z"
   },
   {
    "duration": 461,
    "start_time": "2023-07-09T21:37:06.086Z"
   },
   {
    "duration": 403,
    "start_time": "2023-07-09T21:37:08.251Z"
   },
   {
    "duration": 329,
    "start_time": "2023-07-09T21:37:10.466Z"
   },
   {
    "duration": 12,
    "start_time": "2023-07-09T21:37:13.009Z"
   },
   {
    "duration": 197,
    "start_time": "2023-07-09T21:37:14.738Z"
   },
   {
    "duration": 13,
    "start_time": "2023-07-09T21:37:16.358Z"
   },
   {
    "duration": 216,
    "start_time": "2023-07-09T21:37:17.985Z"
   },
   {
    "duration": 11,
    "start_time": "2023-07-09T21:37:22.092Z"
   },
   {
    "duration": 198,
    "start_time": "2023-07-09T21:37:25.296Z"
   },
   {
    "duration": 259,
    "start_time": "2023-07-09T21:37:26.991Z"
   },
   {
    "duration": 12,
    "start_time": "2023-07-09T21:37:32.007Z"
   },
   {
    "duration": 12,
    "start_time": "2023-07-09T21:37:33.393Z"
   },
   {
    "duration": 17,
    "start_time": "2023-07-09T21:37:35.667Z"
   },
   {
    "duration": 11,
    "start_time": "2023-07-09T21:37:37.161Z"
   },
   {
    "duration": 13,
    "start_time": "2023-07-09T21:37:38.628Z"
   },
   {
    "duration": 13,
    "start_time": "2023-07-09T21:37:40.161Z"
   },
   {
    "duration": 12,
    "start_time": "2023-07-09T21:37:42.518Z"
   },
   {
    "duration": 11,
    "start_time": "2023-07-09T21:37:44.591Z"
   },
   {
    "duration": 11,
    "start_time": "2023-07-09T21:37:45.844Z"
   },
   {
    "duration": 12,
    "start_time": "2023-07-09T21:37:47.484Z"
   },
   {
    "duration": 11,
    "start_time": "2023-07-09T21:37:49.006Z"
   },
   {
    "duration": 9,
    "start_time": "2023-07-09T21:37:50.071Z"
   },
   {
    "duration": 15,
    "start_time": "2023-07-09T21:37:53.150Z"
   },
   {
    "duration": 13,
    "start_time": "2023-07-09T21:37:54.715Z"
   },
   {
    "duration": 15,
    "start_time": "2023-07-09T21:37:55.267Z"
   },
   {
    "duration": 18,
    "start_time": "2023-07-09T21:37:58.295Z"
   },
   {
    "duration": 13,
    "start_time": "2023-07-09T21:40:21.262Z"
   },
   {
    "duration": 14,
    "start_time": "2023-07-09T21:40:23.508Z"
   },
   {
    "duration": 13,
    "start_time": "2023-07-09T21:44:42.646Z"
   },
   {
    "duration": 3227,
    "start_time": "2023-07-09T21:45:21.504Z"
   },
   {
    "duration": 5930,
    "start_time": "2023-07-09T21:45:45.065Z"
   },
   {
    "duration": 255,
    "start_time": "2023-07-09T21:46:03.929Z"
   },
   {
    "duration": 668,
    "start_time": "2023-07-09T21:46:18.586Z"
   },
   {
    "duration": 74,
    "start_time": "2023-07-09T21:46:46.213Z"
   },
   {
    "duration": 53,
    "start_time": "2023-07-09T21:55:50.031Z"
   },
   {
    "duration": 7413,
    "start_time": "2023-07-09T21:56:24.190Z"
   },
   {
    "duration": 1609,
    "start_time": "2023-07-09T21:56:31.605Z"
   },
   {
    "duration": 33,
    "start_time": "2023-07-09T21:56:33.216Z"
   },
   {
    "duration": 27,
    "start_time": "2023-07-09T21:56:33.252Z"
   },
   {
    "duration": 13,
    "start_time": "2023-07-09T21:56:33.282Z"
   },
   {
    "duration": 6,
    "start_time": "2023-07-09T21:56:33.297Z"
   },
   {
    "duration": 152,
    "start_time": "2023-07-09T21:56:33.305Z"
   },
   {
    "duration": 7,
    "start_time": "2023-07-09T21:56:33.458Z"
   },
   {
    "duration": 10,
    "start_time": "2023-07-09T21:56:33.467Z"
   },
   {
    "duration": 8,
    "start_time": "2023-07-09T21:56:33.481Z"
   },
   {
    "duration": 25,
    "start_time": "2023-07-09T21:56:33.491Z"
   },
   {
    "duration": 133,
    "start_time": "2023-07-09T21:56:33.518Z"
   },
   {
    "duration": 5,
    "start_time": "2023-07-09T21:56:33.653Z"
   },
   {
    "duration": 26,
    "start_time": "2023-07-09T21:56:33.660Z"
   },
   {
    "duration": 43,
    "start_time": "2023-07-09T21:56:33.688Z"
   },
   {
    "duration": 19,
    "start_time": "2023-07-09T21:56:33.732Z"
   },
   {
    "duration": 16,
    "start_time": "2023-07-09T21:56:33.753Z"
   },
   {
    "duration": 18,
    "start_time": "2023-07-09T21:56:33.771Z"
   },
   {
    "duration": 18,
    "start_time": "2023-07-09T21:56:33.791Z"
   },
   {
    "duration": 17,
    "start_time": "2023-07-09T21:56:33.811Z"
   },
   {
    "duration": 11,
    "start_time": "2023-07-09T21:56:33.830Z"
   },
   {
    "duration": 27,
    "start_time": "2023-07-09T21:56:33.842Z"
   },
   {
    "duration": 22,
    "start_time": "2023-07-09T21:56:33.871Z"
   },
   {
    "duration": 8,
    "start_time": "2023-07-09T21:56:33.895Z"
   },
   {
    "duration": 18,
    "start_time": "2023-07-09T21:56:33.904Z"
   },
   {
    "duration": 5,
    "start_time": "2023-07-09T21:56:33.924Z"
   },
   {
    "duration": 12,
    "start_time": "2023-07-09T21:56:33.930Z"
   },
   {
    "duration": 15,
    "start_time": "2023-07-09T21:56:33.948Z"
   },
   {
    "duration": 13,
    "start_time": "2023-07-09T21:56:33.964Z"
   },
   {
    "duration": 9,
    "start_time": "2023-07-09T21:56:33.978Z"
   },
   {
    "duration": 44,
    "start_time": "2023-07-09T21:56:33.989Z"
   },
   {
    "duration": 9,
    "start_time": "2023-07-09T21:56:34.034Z"
   },
   {
    "duration": 9,
    "start_time": "2023-07-09T21:56:34.045Z"
   },
   {
    "duration": 26,
    "start_time": "2023-07-09T21:56:34.057Z"
   },
   {
    "duration": 22,
    "start_time": "2023-07-09T21:56:34.085Z"
   },
   {
    "duration": 21,
    "start_time": "2023-07-09T21:56:34.114Z"
   },
   {
    "duration": 10,
    "start_time": "2023-07-09T21:56:34.137Z"
   },
   {
    "duration": 14,
    "start_time": "2023-07-09T21:56:34.149Z"
   },
   {
    "duration": 23,
    "start_time": "2023-07-09T21:56:34.165Z"
   },
   {
    "duration": 496,
    "start_time": "2023-07-09T21:56:34.190Z"
   },
   {
    "duration": 641,
    "start_time": "2023-07-09T21:56:34.688Z"
   },
   {
    "duration": 534,
    "start_time": "2023-07-09T21:56:35.331Z"
   },
   {
    "duration": 473,
    "start_time": "2023-07-09T21:56:35.868Z"
   },
   {
    "duration": 458,
    "start_time": "2023-07-09T21:56:36.343Z"
   },
   {
    "duration": 329,
    "start_time": "2023-07-09T21:56:36.804Z"
   },
   {
    "duration": 11,
    "start_time": "2023-07-09T21:56:37.135Z"
   },
   {
    "duration": 229,
    "start_time": "2023-07-09T21:56:37.148Z"
   },
   {
    "duration": 10,
    "start_time": "2023-07-09T21:56:37.379Z"
   },
   {
    "duration": 336,
    "start_time": "2023-07-09T21:56:37.392Z"
   },
   {
    "duration": 12,
    "start_time": "2023-07-09T21:56:37.730Z"
   },
   {
    "duration": 217,
    "start_time": "2023-07-09T21:56:37.744Z"
   },
   {
    "duration": 265,
    "start_time": "2023-07-09T21:56:37.964Z"
   },
   {
    "duration": 14,
    "start_time": "2023-07-09T21:56:38.231Z"
   },
   {
    "duration": 23,
    "start_time": "2023-07-09T21:56:38.247Z"
   },
   {
    "duration": 31,
    "start_time": "2023-07-09T21:56:38.272Z"
   },
   {
    "duration": 14,
    "start_time": "2023-07-09T21:56:38.305Z"
   },
   {
    "duration": 14,
    "start_time": "2023-07-09T21:56:38.321Z"
   },
   {
    "duration": 14,
    "start_time": "2023-07-09T21:56:38.337Z"
   },
   {
    "duration": 16,
    "start_time": "2023-07-09T21:56:38.353Z"
   },
   {
    "duration": 13,
    "start_time": "2023-07-09T21:56:38.371Z"
   },
   {
    "duration": 37,
    "start_time": "2023-07-09T21:56:38.386Z"
   },
   {
    "duration": 15,
    "start_time": "2023-07-09T21:56:38.424Z"
   },
   {
    "duration": 17,
    "start_time": "2023-07-09T21:56:38.440Z"
   },
   {
    "duration": 10,
    "start_time": "2023-07-09T21:56:38.459Z"
   },
   {
    "duration": 13,
    "start_time": "2023-07-09T21:56:38.471Z"
   },
   {
    "duration": 6712,
    "start_time": "2023-07-09T21:57:14.942Z"
   },
   {
    "duration": 1248,
    "start_time": "2023-07-09T21:57:21.658Z"
   },
   {
    "duration": 12,
    "start_time": "2023-07-09T21:57:22.908Z"
   },
   {
    "duration": 13,
    "start_time": "2023-07-09T21:57:22.922Z"
   },
   {
    "duration": 23,
    "start_time": "2023-07-09T21:57:22.937Z"
   },
   {
    "duration": 16,
    "start_time": "2023-07-09T21:57:22.962Z"
   },
   {
    "duration": 150,
    "start_time": "2023-07-09T21:57:22.979Z"
   },
   {
    "duration": 5,
    "start_time": "2023-07-09T21:57:23.131Z"
   },
   {
    "duration": 12,
    "start_time": "2023-07-09T21:57:23.138Z"
   },
   {
    "duration": 23,
    "start_time": "2023-07-09T21:57:23.152Z"
   },
   {
    "duration": 28,
    "start_time": "2023-07-09T21:57:23.176Z"
   },
   {
    "duration": 121,
    "start_time": "2023-07-09T21:57:23.206Z"
   },
   {
    "duration": 5,
    "start_time": "2023-07-09T21:57:23.328Z"
   },
   {
    "duration": 28,
    "start_time": "2023-07-09T21:57:23.335Z"
   },
   {
    "duration": 71,
    "start_time": "2023-07-09T21:57:23.365Z"
   },
   {
    "duration": 17,
    "start_time": "2023-07-09T21:57:23.438Z"
   },
   {
    "duration": 13,
    "start_time": "2023-07-09T21:57:23.457Z"
   },
   {
    "duration": 35,
    "start_time": "2023-07-09T21:57:23.471Z"
   },
   {
    "duration": 25,
    "start_time": "2023-07-09T21:57:23.508Z"
   },
   {
    "duration": 18,
    "start_time": "2023-07-09T21:57:23.535Z"
   },
   {
    "duration": 12,
    "start_time": "2023-07-09T21:57:23.555Z"
   },
   {
    "duration": 15,
    "start_time": "2023-07-09T21:57:23.569Z"
   },
   {
    "duration": 26,
    "start_time": "2023-07-09T21:57:23.586Z"
   },
   {
    "duration": 12,
    "start_time": "2023-07-09T21:57:23.614Z"
   },
   {
    "duration": 10,
    "start_time": "2023-07-09T21:57:23.628Z"
   },
   {
    "duration": 11,
    "start_time": "2023-07-09T21:57:23.640Z"
   },
   {
    "duration": 22,
    "start_time": "2023-07-09T21:57:23.654Z"
   },
   {
    "duration": 40,
    "start_time": "2023-07-09T21:57:23.681Z"
   },
   {
    "duration": 16,
    "start_time": "2023-07-09T21:57:23.724Z"
   },
   {
    "duration": 9,
    "start_time": "2023-07-09T21:57:23.742Z"
   },
   {
    "duration": 26,
    "start_time": "2023-07-09T21:57:23.753Z"
   },
   {
    "duration": 37,
    "start_time": "2023-07-09T21:57:23.781Z"
   },
   {
    "duration": 11,
    "start_time": "2023-07-09T21:57:23.821Z"
   },
   {
    "duration": 19,
    "start_time": "2023-07-09T21:57:23.834Z"
   },
   {
    "duration": 9,
    "start_time": "2023-07-09T21:57:23.855Z"
   },
   {
    "duration": 13,
    "start_time": "2023-07-09T21:57:23.866Z"
   },
   {
    "duration": 36,
    "start_time": "2023-07-09T21:57:23.881Z"
   },
   {
    "duration": 10,
    "start_time": "2023-07-09T21:57:23.920Z"
   },
   {
    "duration": 25,
    "start_time": "2023-07-09T21:57:23.932Z"
   },
   {
    "duration": 446,
    "start_time": "2023-07-09T21:57:23.959Z"
   },
   {
    "duration": 616,
    "start_time": "2023-07-09T21:57:24.407Z"
   },
   {
    "duration": 498,
    "start_time": "2023-07-09T21:57:25.025Z"
   },
   {
    "duration": 455,
    "start_time": "2023-07-09T21:57:25.524Z"
   },
   {
    "duration": 437,
    "start_time": "2023-07-09T21:57:25.981Z"
   },
   {
    "duration": 284,
    "start_time": "2023-07-09T21:57:26.420Z"
   },
   {
    "duration": 12,
    "start_time": "2023-07-09T21:57:26.713Z"
   },
   {
    "duration": 206,
    "start_time": "2023-07-09T21:57:26.727Z"
   },
   {
    "duration": 9,
    "start_time": "2023-07-09T21:57:26.936Z"
   },
   {
    "duration": 333,
    "start_time": "2023-07-09T21:57:26.947Z"
   },
   {
    "duration": 13,
    "start_time": "2023-07-09T21:57:27.282Z"
   },
   {
    "duration": 249,
    "start_time": "2023-07-09T21:57:27.298Z"
   },
   {
    "duration": 267,
    "start_time": "2023-07-09T21:57:27.548Z"
   },
   {
    "duration": 12,
    "start_time": "2023-07-09T21:57:27.817Z"
   },
   {
    "duration": 11,
    "start_time": "2023-07-09T21:57:27.831Z"
   },
   {
    "duration": 19,
    "start_time": "2023-07-09T21:57:27.844Z"
   },
   {
    "duration": 23,
    "start_time": "2023-07-09T21:57:27.865Z"
   },
   {
    "duration": 11,
    "start_time": "2023-07-09T21:57:27.890Z"
   },
   {
    "duration": 11,
    "start_time": "2023-07-09T21:57:27.913Z"
   },
   {
    "duration": 12,
    "start_time": "2023-07-09T21:57:27.926Z"
   },
   {
    "duration": 10,
    "start_time": "2023-07-09T21:57:27.940Z"
   },
   {
    "duration": 13,
    "start_time": "2023-07-09T21:57:27.952Z"
   },
   {
    "duration": 14,
    "start_time": "2023-07-09T21:57:27.967Z"
   },
   {
    "duration": 44,
    "start_time": "2023-07-09T21:57:27.983Z"
   },
   {
    "duration": 11,
    "start_time": "2023-07-09T21:57:28.030Z"
   },
   {
    "duration": 29,
    "start_time": "2023-07-09T21:57:28.043Z"
   },
   {
    "duration": 7750,
    "start_time": "2023-07-09T21:58:29.069Z"
   },
   {
    "duration": 1246,
    "start_time": "2023-07-09T21:58:36.822Z"
   },
   {
    "duration": 90,
    "start_time": "2023-07-09T21:58:38.069Z"
   },
   {
    "duration": 15,
    "start_time": "2023-07-09T21:58:38.161Z"
   },
   {
    "duration": 23,
    "start_time": "2023-07-09T21:58:38.178Z"
   },
   {
    "duration": 8,
    "start_time": "2023-07-09T21:58:38.203Z"
   },
   {
    "duration": 181,
    "start_time": "2023-07-09T21:58:38.212Z"
   },
   {
    "duration": 6,
    "start_time": "2023-07-09T21:58:38.395Z"
   },
   {
    "duration": 5,
    "start_time": "2023-07-09T21:58:38.414Z"
   },
   {
    "duration": 8,
    "start_time": "2023-07-09T21:58:38.422Z"
   },
   {
    "duration": 6,
    "start_time": "2023-07-09T21:58:38.432Z"
   },
   {
    "duration": 143,
    "start_time": "2023-07-09T21:58:38.440Z"
   },
   {
    "duration": 5,
    "start_time": "2023-07-09T21:58:38.585Z"
   },
   {
    "duration": 34,
    "start_time": "2023-07-09T21:58:38.591Z"
   },
   {
    "duration": 11,
    "start_time": "2023-07-09T21:58:38.627Z"
   },
   {
    "duration": 12,
    "start_time": "2023-07-09T21:58:38.641Z"
   },
   {
    "duration": 13,
    "start_time": "2023-07-09T21:58:38.655Z"
   },
   {
    "duration": 27,
    "start_time": "2023-07-09T21:58:38.670Z"
   },
   {
    "duration": 24,
    "start_time": "2023-07-09T21:58:38.699Z"
   },
   {
    "duration": 18,
    "start_time": "2023-07-09T21:58:38.725Z"
   },
   {
    "duration": 13,
    "start_time": "2023-07-09T21:58:38.746Z"
   },
   {
    "duration": 18,
    "start_time": "2023-07-09T21:58:38.761Z"
   },
   {
    "duration": 38,
    "start_time": "2023-07-09T21:58:38.781Z"
   },
   {
    "duration": 12,
    "start_time": "2023-07-09T21:58:38.821Z"
   },
   {
    "duration": 10,
    "start_time": "2023-07-09T21:58:38.835Z"
   },
   {
    "duration": 8,
    "start_time": "2023-07-09T21:58:38.847Z"
   },
   {
    "duration": 27,
    "start_time": "2023-07-09T21:58:38.857Z"
   },
   {
    "duration": 31,
    "start_time": "2023-07-09T21:58:38.889Z"
   },
   {
    "duration": 14,
    "start_time": "2023-07-09T21:58:38.922Z"
   },
   {
    "duration": 8,
    "start_time": "2023-07-09T21:58:38.938Z"
   },
   {
    "duration": 17,
    "start_time": "2023-07-09T21:58:38.948Z"
   },
   {
    "duration": 10,
    "start_time": "2023-07-09T21:58:38.967Z"
   },
   {
    "duration": 41,
    "start_time": "2023-07-09T21:58:38.979Z"
   },
   {
    "duration": 9,
    "start_time": "2023-07-09T21:58:39.022Z"
   },
   {
    "duration": 10,
    "start_time": "2023-07-09T21:58:39.033Z"
   },
   {
    "duration": 7,
    "start_time": "2023-07-09T21:58:39.045Z"
   },
   {
    "duration": 18,
    "start_time": "2023-07-09T21:58:39.054Z"
   },
   {
    "duration": 41,
    "start_time": "2023-07-09T21:58:39.074Z"
   },
   {
    "duration": 17,
    "start_time": "2023-07-09T21:58:39.117Z"
   },
   {
    "duration": 437,
    "start_time": "2023-07-09T21:58:39.136Z"
   },
   {
    "duration": 697,
    "start_time": "2023-07-09T21:58:39.575Z"
   },
   {
    "duration": 522,
    "start_time": "2023-07-09T21:58:40.274Z"
   },
   {
    "duration": 478,
    "start_time": "2023-07-09T21:58:40.797Z"
   },
   {
    "duration": 452,
    "start_time": "2023-07-09T21:58:41.277Z"
   },
   {
    "duration": 319,
    "start_time": "2023-07-09T21:58:41.731Z"
   },
   {
    "duration": 12,
    "start_time": "2023-07-09T21:58:42.051Z"
   },
   {
    "duration": 216,
    "start_time": "2023-07-09T21:58:42.065Z"
   },
   {
    "duration": 10,
    "start_time": "2023-07-09T21:58:42.283Z"
   },
   {
    "duration": 330,
    "start_time": "2023-07-09T21:58:42.295Z"
   },
   {
    "duration": 10,
    "start_time": "2023-07-09T21:58:42.627Z"
   },
   {
    "duration": 217,
    "start_time": "2023-07-09T21:58:42.639Z"
   },
   {
    "duration": 264,
    "start_time": "2023-07-09T21:58:42.858Z"
   },
   {
    "duration": 13,
    "start_time": "2023-07-09T21:58:43.123Z"
   },
   {
    "duration": 19,
    "start_time": "2023-07-09T21:58:43.138Z"
   },
   {
    "duration": 32,
    "start_time": "2023-07-09T21:58:43.159Z"
   },
   {
    "duration": 42,
    "start_time": "2023-07-09T21:58:43.193Z"
   },
   {
    "duration": 29,
    "start_time": "2023-07-09T21:58:43.237Z"
   },
   {
    "duration": 29,
    "start_time": "2023-07-09T21:58:43.268Z"
   },
   {
    "duration": 22,
    "start_time": "2023-07-09T21:58:43.299Z"
   },
   {
    "duration": 38,
    "start_time": "2023-07-09T21:58:43.324Z"
   },
   {
    "duration": 17,
    "start_time": "2023-07-09T21:58:43.364Z"
   },
   {
    "duration": 15,
    "start_time": "2023-07-09T21:58:43.383Z"
   },
   {
    "duration": 36,
    "start_time": "2023-07-09T21:58:43.399Z"
   },
   {
    "duration": 22,
    "start_time": "2023-07-09T21:58:43.437Z"
   },
   {
    "duration": 27,
    "start_time": "2023-07-09T21:58:43.461Z"
   },
   {
    "duration": 7294,
    "start_time": "2023-07-09T22:01:41.716Z"
   },
   {
    "duration": 1663,
    "start_time": "2023-07-09T22:01:52.782Z"
   },
   {
    "duration": 35,
    "start_time": "2023-07-09T22:01:56.887Z"
   },
   {
    "duration": 14,
    "start_time": "2023-07-09T22:01:58.649Z"
   },
   {
    "duration": 14,
    "start_time": "2023-07-09T22:02:00.789Z"
   },
   {
    "duration": 5,
    "start_time": "2023-07-09T22:02:02.464Z"
   },
   {
    "duration": 148,
    "start_time": "2023-07-09T22:02:04.142Z"
   },
   {
    "duration": 6,
    "start_time": "2023-07-09T22:02:06.256Z"
   },
   {
    "duration": 5,
    "start_time": "2023-07-09T22:02:07.462Z"
   },
   {
    "duration": 5,
    "start_time": "2023-07-09T22:02:09.922Z"
   },
   {
    "duration": 5,
    "start_time": "2023-07-09T22:02:11.248Z"
   },
   {
    "duration": 121,
    "start_time": "2023-07-09T22:02:12.706Z"
   },
   {
    "duration": 5,
    "start_time": "2023-07-09T22:02:14.384Z"
   },
   {
    "duration": 22,
    "start_time": "2023-07-09T22:02:15.398Z"
   },
   {
    "duration": 12,
    "start_time": "2023-07-09T22:02:16.683Z"
   },
   {
    "duration": 13,
    "start_time": "2023-07-09T22:02:18.744Z"
   },
   {
    "duration": 16,
    "start_time": "2023-07-09T22:02:19.818Z"
   },
   {
    "duration": 18,
    "start_time": "2023-07-09T22:02:21.187Z"
   },
   {
    "duration": 12,
    "start_time": "2023-07-09T22:02:22.210Z"
   },
   {
    "duration": 18,
    "start_time": "2023-07-09T22:02:24.528Z"
   },
   {
    "duration": 16,
    "start_time": "2023-07-09T22:02:25.486Z"
   },
   {
    "duration": 18,
    "start_time": "2023-07-09T22:02:26.416Z"
   },
   {
    "duration": 16,
    "start_time": "2023-07-09T22:02:27.982Z"
   },
   {
    "duration": 10,
    "start_time": "2023-07-09T22:02:28.914Z"
   },
   {
    "duration": 8,
    "start_time": "2023-07-09T22:02:30.738Z"
   },
   {
    "duration": 3,
    "start_time": "2023-07-09T22:02:31.841Z"
   },
   {
    "duration": 5,
    "start_time": "2023-07-09T22:02:34.594Z"
   },
   {
    "duration": 10,
    "start_time": "2023-07-09T22:02:38.250Z"
   },
   {
    "duration": 17,
    "start_time": "2023-07-09T22:02:40.443Z"
   },
   {
    "duration": 7,
    "start_time": "2023-07-09T22:02:42.160Z"
   },
   {
    "duration": 20,
    "start_time": "2023-07-09T22:02:43.844Z"
   },
   {
    "duration": 10,
    "start_time": "2023-07-09T22:02:46.216Z"
   },
   {
    "duration": 12,
    "start_time": "2023-07-09T22:02:47.634Z"
   },
   {
    "duration": 15,
    "start_time": "2023-07-09T22:02:49.990Z"
   },
   {
    "duration": 8,
    "start_time": "2023-07-09T22:02:51.670Z"
   },
   {
    "duration": 6,
    "start_time": "2023-07-09T22:02:55.307Z"
   },
   {
    "duration": 7,
    "start_time": "2023-07-09T22:02:56.653Z"
   },
   {
    "duration": 10,
    "start_time": "2023-07-09T22:02:58.869Z"
   },
   {
    "duration": 23,
    "start_time": "2023-07-09T22:03:00.592Z"
   },
   {
    "duration": 418,
    "start_time": "2023-07-09T22:03:02.607Z"
   },
   {
    "duration": 608,
    "start_time": "2023-07-09T22:03:04.547Z"
   },
   {
    "duration": 496,
    "start_time": "2023-07-09T22:03:07.037Z"
   },
   {
    "duration": 443,
    "start_time": "2023-07-09T22:03:08.830Z"
   },
   {
    "duration": 430,
    "start_time": "2023-07-09T22:03:10.987Z"
   },
   {
    "duration": 294,
    "start_time": "2023-07-09T22:03:12.782Z"
   },
   {
    "duration": 17,
    "start_time": "2023-07-09T22:03:14.329Z"
   },
   {
    "duration": 211,
    "start_time": "2023-07-09T22:03:16.742Z"
   },
   {
    "duration": 11,
    "start_time": "2023-07-09T22:03:18.358Z"
   },
   {
    "duration": 414,
    "start_time": "2023-07-09T22:03:19.333Z"
   },
   {
    "duration": 11,
    "start_time": "2023-07-09T22:03:22.766Z"
   },
   {
    "duration": 196,
    "start_time": "2023-07-09T22:03:24.090Z"
   },
   {
    "duration": 251,
    "start_time": "2023-07-09T22:03:26.113Z"
   },
   {
    "duration": 11,
    "start_time": "2023-07-09T22:03:29.382Z"
   },
   {
    "duration": 12,
    "start_time": "2023-07-09T22:03:30.411Z"
   },
   {
    "duration": 12,
    "start_time": "2023-07-09T22:03:31.984Z"
   },
   {
    "duration": 14,
    "start_time": "2023-07-09T22:03:32.984Z"
   },
   {
    "duration": 17,
    "start_time": "2023-07-09T22:03:34.564Z"
   },
   {
    "duration": 17,
    "start_time": "2023-07-09T22:03:35.565Z"
   },
   {
    "duration": 12,
    "start_time": "2023-07-09T22:03:37.130Z"
   },
   {
    "duration": 11,
    "start_time": "2023-07-09T22:03:38.620Z"
   },
   {
    "duration": 16,
    "start_time": "2023-07-09T22:03:39.693Z"
   },
   {
    "duration": 11,
    "start_time": "2023-07-09T22:03:41.485Z"
   },
   {
    "duration": 13,
    "start_time": "2023-07-09T22:03:42.711Z"
   },
   {
    "duration": 8,
    "start_time": "2023-07-09T22:03:44.849Z"
   },
   {
    "duration": 16,
    "start_time": "2023-07-09T22:03:48.364Z"
   },
   {
    "duration": 14,
    "start_time": "2023-07-09T22:03:53.355Z"
   },
   {
    "duration": 59,
    "start_time": "2023-07-09T22:06:29.138Z"
   },
   {
    "duration": 22186,
    "start_time": "2023-07-09T22:06:48.547Z"
   },
   {
    "duration": 21313,
    "start_time": "2023-07-09T22:08:10.496Z"
   },
   {
    "duration": 128,
    "start_time": "2023-07-09T22:08:54.637Z"
   },
   {
    "duration": 634,
    "start_time": "2023-07-09T22:11:22.404Z"
   },
   {
    "duration": 7520,
    "start_time": "2023-07-09T22:17:18.327Z"
   },
   {
    "duration": 1158,
    "start_time": "2023-07-09T22:17:25.850Z"
   },
   {
    "duration": 34,
    "start_time": "2023-07-09T22:17:27.011Z"
   },
   {
    "duration": 13,
    "start_time": "2023-07-09T22:17:27.048Z"
   },
   {
    "duration": 23,
    "start_time": "2023-07-09T22:17:27.064Z"
   },
   {
    "duration": 8,
    "start_time": "2023-07-09T22:17:27.089Z"
   },
   {
    "duration": 157,
    "start_time": "2023-07-09T22:17:27.099Z"
   },
   {
    "duration": 6,
    "start_time": "2023-07-09T22:17:27.258Z"
   },
   {
    "duration": 5,
    "start_time": "2023-07-09T22:17:27.266Z"
   },
   {
    "duration": 6,
    "start_time": "2023-07-09T22:17:27.275Z"
   },
   {
    "duration": 32,
    "start_time": "2023-07-09T22:17:27.283Z"
   },
   {
    "duration": 135,
    "start_time": "2023-07-09T22:17:27.318Z"
   },
   {
    "duration": 5,
    "start_time": "2023-07-09T22:17:27.455Z"
   },
   {
    "duration": 40,
    "start_time": "2023-07-09T22:17:27.463Z"
   },
   {
    "duration": 17,
    "start_time": "2023-07-09T22:17:27.505Z"
   },
   {
    "duration": 16,
    "start_time": "2023-07-09T22:17:27.525Z"
   },
   {
    "duration": 30,
    "start_time": "2023-07-09T22:17:27.543Z"
   },
   {
    "duration": 33,
    "start_time": "2023-07-09T22:17:27.576Z"
   },
   {
    "duration": 16,
    "start_time": "2023-07-09T22:17:27.611Z"
   },
   {
    "duration": 24,
    "start_time": "2023-07-09T22:17:27.629Z"
   },
   {
    "duration": 12,
    "start_time": "2023-07-09T22:17:27.655Z"
   },
   {
    "duration": 14,
    "start_time": "2023-07-09T22:17:27.668Z"
   },
   {
    "duration": 34,
    "start_time": "2023-07-09T22:17:27.685Z"
   },
   {
    "duration": 8,
    "start_time": "2023-07-09T22:17:27.721Z"
   },
   {
    "duration": 16,
    "start_time": "2023-07-09T22:17:27.731Z"
   },
   {
    "duration": 6,
    "start_time": "2023-07-09T22:17:27.749Z"
   },
   {
    "duration": 15,
    "start_time": "2023-07-09T22:17:27.757Z"
   },
   {
    "duration": 20,
    "start_time": "2023-07-09T22:17:27.776Z"
   },
   {
    "duration": 28,
    "start_time": "2023-07-09T22:17:27.798Z"
   },
   {
    "duration": 6,
    "start_time": "2023-07-09T22:17:27.828Z"
   },
   {
    "duration": 182,
    "start_time": "2023-07-09T22:17:27.836Z"
   },
   {
    "duration": 9,
    "start_time": "2023-07-09T22:17:28.019Z"
   },
   {
    "duration": 16,
    "start_time": "2023-07-09T22:17:28.029Z"
   },
   {
    "duration": 16,
    "start_time": "2023-07-09T22:17:28.047Z"
   },
   {
    "duration": 9,
    "start_time": "2023-07-09T22:17:28.065Z"
   },
   {
    "duration": 7,
    "start_time": "2023-07-09T22:17:28.075Z"
   },
   {
    "duration": 31,
    "start_time": "2023-07-09T22:17:28.083Z"
   },
   {
    "duration": 54,
    "start_time": "2023-07-09T22:17:28.116Z"
   },
   {
    "duration": 65,
    "start_time": "2023-07-09T22:17:28.172Z"
   },
   {
    "duration": 462,
    "start_time": "2023-07-09T22:17:28.240Z"
   },
   {
    "duration": 670,
    "start_time": "2023-07-09T22:17:28.704Z"
   },
   {
    "duration": 675,
    "start_time": "2023-07-09T22:17:29.376Z"
   },
   {
    "duration": 480,
    "start_time": "2023-07-09T22:17:30.053Z"
   },
   {
    "duration": 464,
    "start_time": "2023-07-09T22:17:30.534Z"
   },
   {
    "duration": 325,
    "start_time": "2023-07-09T22:17:31.000Z"
   },
   {
    "duration": 12,
    "start_time": "2023-07-09T22:17:31.327Z"
   },
   {
    "duration": 230,
    "start_time": "2023-07-09T22:17:31.340Z"
   },
   {
    "duration": 12,
    "start_time": "2023-07-09T22:17:31.573Z"
   },
   {
    "duration": 359,
    "start_time": "2023-07-09T22:17:31.587Z"
   },
   {
    "duration": 11,
    "start_time": "2023-07-09T22:17:31.949Z"
   },
   {
    "duration": 240,
    "start_time": "2023-07-09T22:17:31.962Z"
   },
   {
    "duration": 333,
    "start_time": "2023-07-09T22:17:32.205Z"
   },
   {
    "duration": 15,
    "start_time": "2023-07-09T22:17:32.540Z"
   },
   {
    "duration": 33,
    "start_time": "2023-07-09T22:17:32.557Z"
   },
   {
    "duration": 39,
    "start_time": "2023-07-09T22:17:32.592Z"
   },
   {
    "duration": 41,
    "start_time": "2023-07-09T22:17:32.633Z"
   },
   {
    "duration": 25,
    "start_time": "2023-07-09T22:17:32.675Z"
   },
   {
    "duration": 18,
    "start_time": "2023-07-09T22:17:32.702Z"
   },
   {
    "duration": 30,
    "start_time": "2023-07-09T22:17:32.722Z"
   },
   {
    "duration": 34,
    "start_time": "2023-07-09T22:17:32.754Z"
   },
   {
    "duration": 25,
    "start_time": "2023-07-09T22:17:32.790Z"
   },
   {
    "duration": 13,
    "start_time": "2023-07-09T22:17:32.817Z"
   },
   {
    "duration": 23,
    "start_time": "2023-07-09T22:17:32.831Z"
   },
   {
    "duration": 19,
    "start_time": "2023-07-09T22:17:32.856Z"
   },
   {
    "duration": 29,
    "start_time": "2023-07-09T22:17:32.877Z"
   },
   {
    "duration": 18705,
    "start_time": "2023-07-10T06:57:47.022Z"
   },
   {
    "duration": 1196,
    "start_time": "2023-07-10T06:58:05.729Z"
   },
   {
    "duration": 14,
    "start_time": "2023-07-10T06:58:09.229Z"
   },
   {
    "duration": 12,
    "start_time": "2023-07-10T06:58:11.077Z"
   },
   {
    "duration": 4,
    "start_time": "2023-07-10T06:58:13.413Z"
   },
   {
    "duration": 5,
    "start_time": "2023-07-10T06:58:15.199Z"
   },
   {
    "duration": 100,
    "start_time": "2023-07-10T06:58:16.918Z"
   },
   {
    "duration": 9,
    "start_time": "2023-07-10T06:58:24.778Z"
   },
   {
    "duration": 5212,
    "start_time": "2023-07-10T06:58:29.690Z"
   },
   {
    "duration": 986,
    "start_time": "2023-07-10T06:58:37.339Z"
   },
   {
    "duration": 12,
    "start_time": "2023-07-10T06:58:40.113Z"
   },
   {
    "duration": 12,
    "start_time": "2023-07-10T06:58:41.988Z"
   },
   {
    "duration": 5,
    "start_time": "2023-07-10T06:58:44.049Z"
   },
   {
    "duration": 4,
    "start_time": "2023-07-10T06:58:45.469Z"
   },
   {
    "duration": 13,
    "start_time": "2023-07-10T06:58:47.684Z"
   },
   {
    "duration": 2663,
    "start_time": "2023-07-10T06:58:55.899Z"
   },
   {
    "duration": 1197,
    "start_time": "2023-07-10T06:59:04.392Z"
   },
   {
    "duration": 12,
    "start_time": "2023-07-10T06:59:07.680Z"
   },
   {
    "duration": 14,
    "start_time": "2023-07-10T06:59:09.368Z"
   },
   {
    "duration": 5,
    "start_time": "2023-07-10T06:59:11.404Z"
   },
   {
    "duration": 5,
    "start_time": "2023-07-10T06:59:12.744Z"
   },
   {
    "duration": 13,
    "start_time": "2023-07-10T06:59:13.999Z"
   },
   {
    "duration": 5,
    "start_time": "2023-07-10T06:59:21.767Z"
   },
   {
    "duration": 5,
    "start_time": "2023-07-10T06:59:23.367Z"
   },
   {
    "duration": 5,
    "start_time": "2023-07-10T06:59:27.614Z"
   },
   {
    "duration": 5,
    "start_time": "2023-07-10T06:59:29.715Z"
   },
   {
    "duration": 11,
    "start_time": "2023-07-10T06:59:31.226Z"
   },
   {
    "duration": 5,
    "start_time": "2023-07-10T06:59:42.148Z"
   },
   {
    "duration": 25,
    "start_time": "2023-07-10T06:59:43.205Z"
   },
   {
    "duration": 22,
    "start_time": "2023-07-10T06:59:54.174Z"
   },
   {
    "duration": 23,
    "start_time": "2023-07-10T06:59:59.142Z"
   },
   {
    "duration": 3,
    "start_time": "2023-07-10T07:00:15.694Z"
   },
   {
    "duration": 1145,
    "start_time": "2023-07-10T07:00:17.947Z"
   },
   {
    "duration": 11,
    "start_time": "2023-07-10T07:00:21.344Z"
   },
   {
    "duration": 13,
    "start_time": "2023-07-10T07:00:23.421Z"
   },
   {
    "duration": 5,
    "start_time": "2023-07-10T07:00:26.057Z"
   },
   {
    "duration": 5,
    "start_time": "2023-07-10T07:00:27.598Z"
   },
   {
    "duration": 11,
    "start_time": "2023-07-10T07:00:28.872Z"
   },
   {
    "duration": 11,
    "start_time": "2023-07-10T07:00:29.755Z"
   },
   {
    "duration": 6,
    "start_time": "2023-07-10T07:00:33.754Z"
   },
   {
    "duration": 4,
    "start_time": "2023-07-10T07:00:35.111Z"
   },
   {
    "duration": 5,
    "start_time": "2023-07-10T07:00:37.246Z"
   },
   {
    "duration": 5,
    "start_time": "2023-07-10T07:00:38.772Z"
   },
   {
    "duration": 11,
    "start_time": "2023-07-10T07:00:39.918Z"
   },
   {
    "duration": 3,
    "start_time": "2023-07-10T07:00:59.818Z"
   },
   {
    "duration": 1198,
    "start_time": "2023-07-10T07:01:01.593Z"
   },
   {
    "duration": 12,
    "start_time": "2023-07-10T07:01:05.622Z"
   },
   {
    "duration": 12,
    "start_time": "2023-07-10T07:01:07.584Z"
   },
   {
    "duration": 5,
    "start_time": "2023-07-10T07:01:09.457Z"
   },
   {
    "duration": 5,
    "start_time": "2023-07-10T07:01:11.233Z"
   },
   {
    "duration": 9,
    "start_time": "2023-07-10T07:01:12.499Z"
   },
   {
    "duration": 5,
    "start_time": "2023-07-10T07:01:47.032Z"
   },
   {
    "duration": 4,
    "start_time": "2023-07-10T07:01:48.685Z"
   },
   {
    "duration": 5,
    "start_time": "2023-07-10T07:01:53.688Z"
   },
   {
    "duration": 5,
    "start_time": "2023-07-10T07:01:55.380Z"
   },
   {
    "duration": 10,
    "start_time": "2023-07-10T07:01:56.704Z"
   },
   {
    "duration": 4,
    "start_time": "2023-07-10T07:01:59.062Z"
   },
   {
    "duration": 22,
    "start_time": "2023-07-10T07:02:00.337Z"
   },
   {
    "duration": 20,
    "start_time": "2023-07-10T07:02:16.987Z"
   },
   {
    "duration": 19,
    "start_time": "2023-07-10T07:02:19.372Z"
   },
   {
    "duration": 20,
    "start_time": "2023-07-10T07:02:22.064Z"
   },
   {
    "duration": 20,
    "start_time": "2023-07-10T07:02:25.096Z"
   },
   {
    "duration": 11,
    "start_time": "2023-07-10T07:02:27.804Z"
   },
   {
    "duration": 16,
    "start_time": "2023-07-10T07:02:33.135Z"
   },
   {
    "duration": 14,
    "start_time": "2023-07-10T07:02:35.398Z"
   },
   {
    "duration": 15,
    "start_time": "2023-07-10T07:02:37.532Z"
   },
   {
    "duration": 14,
    "start_time": "2023-07-10T07:02:39.744Z"
   },
   {
    "duration": 8,
    "start_time": "2023-07-10T07:02:41.893Z"
   },
   {
    "duration": 7,
    "start_time": "2023-07-10T07:02:44.067Z"
   },
   {
    "duration": 4,
    "start_time": "2023-07-10T07:02:47.845Z"
   },
   {
    "duration": 14,
    "start_time": "2023-07-10T07:02:50.370Z"
   },
   {
    "duration": 10,
    "start_time": "2023-07-10T07:02:53.238Z"
   },
   {
    "duration": 6,
    "start_time": "2023-07-10T07:02:55.004Z"
   },
   {
    "duration": 14,
    "start_time": "2023-07-10T07:02:56.878Z"
   },
   {
    "duration": 9,
    "start_time": "2023-07-10T07:02:59.138Z"
   },
   {
    "duration": 8,
    "start_time": "2023-07-10T07:03:02.258Z"
   },
   {
    "duration": 12,
    "start_time": "2023-07-10T07:03:03.880Z"
   },
   {
    "duration": 8,
    "start_time": "2023-07-10T07:03:05.648Z"
   },
   {
    "duration": 14,
    "start_time": "2023-07-10T07:03:07.346Z"
   },
   {
    "duration": 1790,
    "start_time": "2023-07-10T07:07:58.259Z"
   },
   {
    "duration": 1192,
    "start_time": "2023-07-10T07:08:00.051Z"
   },
   {
    "duration": 11,
    "start_time": "2023-07-10T07:08:01.244Z"
   },
   {
    "duration": 47,
    "start_time": "2023-07-10T07:08:01.257Z"
   },
   {
    "duration": 40,
    "start_time": "2023-07-10T07:08:01.306Z"
   },
   {
    "duration": 42,
    "start_time": "2023-07-10T07:08:01.348Z"
   },
   {
    "duration": 142,
    "start_time": "2023-07-10T07:08:01.391Z"
   },
   {
    "duration": 6,
    "start_time": "2023-07-10T07:08:01.534Z"
   },
   {
    "duration": 57,
    "start_time": "2023-07-10T07:08:01.541Z"
   },
   {
    "duration": 66,
    "start_time": "2023-07-10T07:08:01.601Z"
   },
   {
    "duration": 49,
    "start_time": "2023-07-10T07:08:01.670Z"
   },
   {
    "duration": 131,
    "start_time": "2023-07-10T07:08:01.721Z"
   },
   {
    "duration": 4,
    "start_time": "2023-07-10T07:08:01.854Z"
   },
   {
    "duration": 46,
    "start_time": "2023-07-10T07:08:01.860Z"
   },
   {
    "duration": 29,
    "start_time": "2023-07-10T07:08:01.908Z"
   },
   {
    "duration": 27,
    "start_time": "2023-07-10T07:08:01.939Z"
   },
   {
    "duration": 37,
    "start_time": "2023-07-10T07:08:01.968Z"
   },
   {
    "duration": 24,
    "start_time": "2023-07-10T07:08:02.007Z"
   },
   {
    "duration": 46,
    "start_time": "2023-07-10T07:08:02.033Z"
   },
   {
    "duration": 44,
    "start_time": "2023-07-10T07:08:02.080Z"
   },
   {
    "duration": 25,
    "start_time": "2023-07-10T07:08:02.126Z"
   },
   {
    "duration": 29,
    "start_time": "2023-07-10T07:08:02.153Z"
   },
   {
    "duration": 28,
    "start_time": "2023-07-10T07:08:02.184Z"
   },
   {
    "duration": 16,
    "start_time": "2023-07-10T07:08:02.214Z"
   },
   {
    "duration": 16,
    "start_time": "2023-07-10T07:08:02.232Z"
   },
   {
    "duration": 38,
    "start_time": "2023-07-10T07:08:02.250Z"
   },
   {
    "duration": 27,
    "start_time": "2023-07-10T07:08:02.290Z"
   },
   {
    "duration": 16,
    "start_time": "2023-07-10T07:08:02.321Z"
   },
   {
    "duration": 16,
    "start_time": "2023-07-10T07:08:02.338Z"
   },
   {
    "duration": 23,
    "start_time": "2023-07-10T07:08:02.356Z"
   },
   {
    "duration": 30,
    "start_time": "2023-07-10T07:08:02.381Z"
   },
   {
    "duration": 44,
    "start_time": "2023-07-10T07:08:02.413Z"
   },
   {
    "duration": 21,
    "start_time": "2023-07-10T07:08:02.458Z"
   },
   {
    "duration": 12,
    "start_time": "2023-07-10T07:08:02.481Z"
   },
   {
    "duration": 6,
    "start_time": "2023-07-10T07:08:02.495Z"
   },
   {
    "duration": 10,
    "start_time": "2023-07-10T07:08:02.503Z"
   },
   {
    "duration": 27,
    "start_time": "2023-07-10T07:08:02.515Z"
   },
   {
    "duration": 30,
    "start_time": "2023-07-10T07:08:02.543Z"
   },
   {
    "duration": 29,
    "start_time": "2023-07-10T07:08:02.575Z"
   },
   {
    "duration": 341,
    "start_time": "2023-07-10T07:08:02.605Z"
   },
   {
    "duration": 584,
    "start_time": "2023-07-10T07:08:02.947Z"
   },
   {
    "duration": 499,
    "start_time": "2023-07-10T07:08:03.533Z"
   },
   {
    "duration": 378,
    "start_time": "2023-07-10T07:08:04.033Z"
   },
   {
    "duration": 367,
    "start_time": "2023-07-10T07:08:04.413Z"
   },
   {
    "duration": 257,
    "start_time": "2023-07-10T07:08:04.782Z"
   },
   {
    "duration": 9,
    "start_time": "2023-07-10T07:08:05.041Z"
   },
   {
    "duration": 206,
    "start_time": "2023-07-10T07:08:05.052Z"
   },
   {
    "duration": 16,
    "start_time": "2023-07-10T07:08:05.259Z"
   },
   {
    "duration": 283,
    "start_time": "2023-07-10T07:08:05.276Z"
   },
   {
    "duration": 18,
    "start_time": "2023-07-10T07:08:05.560Z"
   },
   {
    "duration": 202,
    "start_time": "2023-07-10T07:08:05.580Z"
   },
   {
    "duration": 233,
    "start_time": "2023-07-10T07:08:05.784Z"
   },
   {
    "duration": 12,
    "start_time": "2023-07-10T07:08:06.019Z"
   },
   {
    "duration": 19,
    "start_time": "2023-07-10T07:08:06.033Z"
   },
   {
    "duration": 21,
    "start_time": "2023-07-10T07:08:06.054Z"
   },
   {
    "duration": 10,
    "start_time": "2023-07-10T07:08:06.077Z"
   },
   {
    "duration": 12,
    "start_time": "2023-07-10T07:08:06.089Z"
   },
   {
    "duration": 11,
    "start_time": "2023-07-10T07:08:06.103Z"
   },
   {
    "duration": 11,
    "start_time": "2023-07-10T07:08:06.115Z"
   },
   {
    "duration": 23,
    "start_time": "2023-07-10T07:08:06.128Z"
   },
   {
    "duration": 23,
    "start_time": "2023-07-10T07:08:06.153Z"
   },
   {
    "duration": 10,
    "start_time": "2023-07-10T07:08:06.178Z"
   },
   {
    "duration": 12,
    "start_time": "2023-07-10T07:08:06.189Z"
   },
   {
    "duration": 8,
    "start_time": "2023-07-10T07:08:06.202Z"
   },
   {
    "duration": 18,
    "start_time": "2023-07-10T07:08:06.211Z"
   },
   {
    "duration": 2641,
    "start_time": "2023-07-10T07:12:55.508Z"
   },
   {
    "duration": 1174,
    "start_time": "2023-07-10T07:13:02.627Z"
   },
   {
    "duration": 41,
    "start_time": "2023-07-10T07:13:06.497Z"
   },
   {
    "duration": 13,
    "start_time": "2023-07-10T07:13:08.401Z"
   },
   {
    "duration": 7,
    "start_time": "2023-07-10T07:13:10.516Z"
   },
   {
    "duration": 5,
    "start_time": "2023-07-10T07:13:12.091Z"
   },
   {
    "duration": 144,
    "start_time": "2023-07-10T07:13:13.408Z"
   },
   {
    "duration": 5,
    "start_time": "2023-07-10T07:13:15.521Z"
   },
   {
    "duration": 4,
    "start_time": "2023-07-10T07:13:17.518Z"
   },
   {
    "duration": 2598,
    "start_time": "2023-07-10T07:13:23.629Z"
   },
   {
    "duration": 1021,
    "start_time": "2023-07-10T07:13:28.947Z"
   },
   {
    "duration": 11,
    "start_time": "2023-07-10T07:13:32.606Z"
   },
   {
    "duration": 12,
    "start_time": "2023-07-10T07:13:34.743Z"
   },
   {
    "duration": 5,
    "start_time": "2023-07-10T07:13:36.917Z"
   },
   {
    "duration": 4,
    "start_time": "2023-07-10T07:13:38.368Z"
   },
   {
    "duration": 99,
    "start_time": "2023-07-10T07:13:40.196Z"
   },
   {
    "duration": 5,
    "start_time": "2023-07-10T07:13:42.842Z"
   },
   {
    "duration": 4,
    "start_time": "2023-07-10T07:13:44.402Z"
   },
   {
    "duration": 5,
    "start_time": "2023-07-10T07:13:46.144Z"
   },
   {
    "duration": 5,
    "start_time": "2023-07-10T07:13:47.408Z"
   },
   {
    "duration": 94,
    "start_time": "2023-07-10T07:13:49.040Z"
   },
   {
    "duration": 4,
    "start_time": "2023-07-10T07:13:50.954Z"
   },
   {
    "duration": 16,
    "start_time": "2023-07-10T07:13:52.213Z"
   },
   {
    "duration": 10,
    "start_time": "2023-07-10T07:13:53.698Z"
   },
   {
    "duration": 11,
    "start_time": "2023-07-10T07:13:55.301Z"
   },
   {
    "duration": 10,
    "start_time": "2023-07-10T07:13:56.968Z"
   },
   {
    "duration": 12,
    "start_time": "2023-07-10T07:13:58.327Z"
   },
   {
    "duration": 9,
    "start_time": "2023-07-10T07:13:59.614Z"
   },
   {
    "duration": 12,
    "start_time": "2023-07-10T07:14:01.963Z"
   },
   {
    "duration": 9,
    "start_time": "2023-07-10T07:14:03.267Z"
   },
   {
    "duration": 13,
    "start_time": "2023-07-10T07:14:04.582Z"
   },
   {
    "duration": 10,
    "start_time": "2023-07-10T07:14:06.446Z"
   },
   {
    "duration": 8,
    "start_time": "2023-07-10T07:14:07.515Z"
   },
   {
    "duration": 6,
    "start_time": "2023-07-10T07:14:09.570Z"
   },
   {
    "duration": 4,
    "start_time": "2023-07-10T07:14:11.557Z"
   },
   {
    "duration": 10,
    "start_time": "2023-07-10T07:14:13.697Z"
   },
   {
    "duration": 14,
    "start_time": "2023-07-10T07:14:16.319Z"
   },
   {
    "duration": 6,
    "start_time": "2023-07-10T07:14:18.220Z"
   },
   {
    "duration": 13,
    "start_time": "2023-07-10T07:14:19.701Z"
   },
   {
    "duration": 7,
    "start_time": "2023-07-10T07:14:22.024Z"
   },
   {
    "duration": 7,
    "start_time": "2023-07-10T07:14:23.324Z"
   },
   {
    "duration": 8,
    "start_time": "2023-07-10T07:14:25.644Z"
   },
   {
    "duration": 7,
    "start_time": "2023-07-10T07:14:27.001Z"
   },
   {
    "duration": 5,
    "start_time": "2023-07-10T07:14:28.841Z"
   },
   {
    "duration": 7,
    "start_time": "2023-07-10T07:14:30.219Z"
   },
   {
    "duration": 8,
    "start_time": "2023-07-10T07:14:32.394Z"
   },
   {
    "duration": 16,
    "start_time": "2023-07-10T07:14:34.025Z"
   },
   {
    "duration": 330,
    "start_time": "2023-07-10T07:14:35.596Z"
   },
   {
    "duration": 515,
    "start_time": "2023-07-10T07:14:37.832Z"
   },
   {
    "duration": 425,
    "start_time": "2023-07-10T07:14:40.298Z"
   },
   {
    "duration": 353,
    "start_time": "2023-07-10T07:14:42.331Z"
   },
   {
    "duration": 394,
    "start_time": "2023-07-10T07:14:44.455Z"
   },
   {
    "duration": 247,
    "start_time": "2023-07-10T07:14:46.698Z"
   },
   {
    "duration": 9,
    "start_time": "2023-07-10T07:14:49.133Z"
   },
   {
    "duration": 274,
    "start_time": "2023-07-10T07:14:50.619Z"
   },
   {
    "duration": 9,
    "start_time": "2023-07-10T07:14:52.769Z"
   },
   {
    "duration": 178,
    "start_time": "2023-07-10T07:14:54.224Z"
   },
   {
    "duration": 9,
    "start_time": "2023-07-10T07:14:57.653Z"
   },
   {
    "duration": 170,
    "start_time": "2023-07-10T07:14:58.987Z"
   },
   {
    "duration": 207,
    "start_time": "2023-07-10T07:15:02.602Z"
   },
   {
    "duration": 10,
    "start_time": "2023-07-10T07:15:05.812Z"
   },
   {
    "duration": 11,
    "start_time": "2023-07-10T07:15:07.297Z"
   },
   {
    "duration": 10,
    "start_time": "2023-07-10T07:15:08.693Z"
   },
   {
    "duration": 10,
    "start_time": "2023-07-10T07:15:10.405Z"
   },
   {
    "duration": 11,
    "start_time": "2023-07-10T07:15:11.724Z"
   },
   {
    "duration": 10,
    "start_time": "2023-07-10T07:15:13.266Z"
   },
   {
    "duration": 10,
    "start_time": "2023-07-10T07:15:14.464Z"
   },
   {
    "duration": 13,
    "start_time": "2023-07-10T07:15:16.602Z"
   },
   {
    "duration": 11,
    "start_time": "2023-07-10T07:15:17.760Z"
   },
   {
    "duration": 10,
    "start_time": "2023-07-10T07:15:19.268Z"
   },
   {
    "duration": 10,
    "start_time": "2023-07-10T07:15:20.447Z"
   },
   {
    "duration": 8,
    "start_time": "2023-07-10T07:15:22.152Z"
   },
   {
    "duration": 12,
    "start_time": "2023-07-10T07:15:25.406Z"
   },
   {
    "duration": 5,
    "start_time": "2023-07-10T07:18:12.532Z"
   },
   {
    "duration": 13,
    "start_time": "2023-07-10T07:18:16.221Z"
   },
   {
    "duration": 102,
    "start_time": "2023-07-10T07:20:25.950Z"
   },
   {
    "duration": 109,
    "start_time": "2023-07-10T07:20:39.096Z"
   },
   {
    "duration": 18,
    "start_time": "2023-07-10T07:21:09.060Z"
   },
   {
    "duration": 2690,
    "start_time": "2023-07-10T07:21:45.335Z"
   },
   {
    "duration": 21,
    "start_time": "2023-07-10T07:22:01.494Z"
   },
   {
    "duration": 20,
    "start_time": "2023-07-10T07:22:38.302Z"
   },
   {
    "duration": 18,
    "start_time": "2023-07-10T07:22:49.806Z"
   },
   {
    "duration": 12,
    "start_time": "2023-07-10T07:23:40.056Z"
   },
   {
    "duration": 334,
    "start_time": "2023-07-10T07:25:24.726Z"
   },
   {
    "duration": 229,
    "start_time": "2023-07-10T07:25:56.509Z"
   },
   {
    "duration": 247,
    "start_time": "2023-07-10T07:26:16.394Z"
   },
   {
    "duration": 256,
    "start_time": "2023-07-10T07:37:24.209Z"
   },
   {
    "duration": 12,
    "start_time": "2023-07-10T08:07:30.701Z"
   },
   {
    "duration": 15,
    "start_time": "2023-07-10T08:32:16.410Z"
   },
   {
    "duration": 10,
    "start_time": "2023-07-10T08:37:20.069Z"
   },
   {
    "duration": 31,
    "start_time": "2023-07-10T08:37:33.654Z"
   },
   {
    "duration": 4,
    "start_time": "2023-07-10T08:37:39.764Z"
   },
   {
    "duration": 13,
    "start_time": "2023-07-10T08:37:42.535Z"
   },
   {
    "duration": 12,
    "start_time": "2023-07-10T08:37:51.697Z"
   },
   {
    "duration": 11,
    "start_time": "2023-07-10T08:38:23.650Z"
   },
   {
    "duration": 12,
    "start_time": "2023-07-10T08:38:45.914Z"
   },
   {
    "duration": 12,
    "start_time": "2023-07-10T08:41:25.865Z"
   },
   {
    "duration": 12,
    "start_time": "2023-07-10T08:42:23.053Z"
   },
   {
    "duration": 13,
    "start_time": "2023-07-10T08:42:29.509Z"
   },
   {
    "duration": 12,
    "start_time": "2023-07-10T08:42:50.547Z"
   },
   {
    "duration": 13,
    "start_time": "2023-07-10T08:43:10.491Z"
   },
   {
    "duration": 26,
    "start_time": "2023-07-10T08:51:26.538Z"
   },
   {
    "duration": 16,
    "start_time": "2023-07-10T08:52:10.429Z"
   },
   {
    "duration": 19,
    "start_time": "2023-07-10T08:52:30.630Z"
   },
   {
    "duration": 1623,
    "start_time": "2023-07-10T08:52:41.033Z"
   },
   {
    "duration": 11,
    "start_time": "2023-07-10T08:52:58.784Z"
   },
   {
    "duration": 11,
    "start_time": "2023-07-10T08:53:05.793Z"
   },
   {
    "duration": 2647,
    "start_time": "2023-07-10T08:53:22.320Z"
   },
   {
    "duration": 1062,
    "start_time": "2023-07-10T08:53:27.005Z"
   },
   {
    "duration": 9,
    "start_time": "2023-07-10T08:53:32.026Z"
   },
   {
    "duration": 12,
    "start_time": "2023-07-10T08:53:33.848Z"
   },
   {
    "duration": 5,
    "start_time": "2023-07-10T08:53:36.379Z"
   },
   {
    "duration": 5,
    "start_time": "2023-07-10T08:53:37.464Z"
   },
   {
    "duration": 99,
    "start_time": "2023-07-10T08:53:39.265Z"
   },
   {
    "duration": 5,
    "start_time": "2023-07-10T08:53:41.351Z"
   },
   {
    "duration": 4,
    "start_time": "2023-07-10T08:53:42.684Z"
   },
   {
    "duration": 5,
    "start_time": "2023-07-10T08:53:44.796Z"
   },
   {
    "duration": 5,
    "start_time": "2023-07-10T08:53:45.881Z"
   },
   {
    "duration": 90,
    "start_time": "2023-07-10T08:53:47.101Z"
   },
   {
    "duration": 4,
    "start_time": "2023-07-10T08:53:49.086Z"
   },
   {
    "duration": 12,
    "start_time": "2023-07-10T08:53:50.149Z"
   },
   {
    "duration": 12,
    "start_time": "2023-07-10T08:53:51.107Z"
   },
   {
    "duration": 11,
    "start_time": "2023-07-10T08:53:52.602Z"
   },
   {
    "duration": 11,
    "start_time": "2023-07-10T08:53:53.586Z"
   },
   {
    "duration": 11,
    "start_time": "2023-07-10T08:53:54.587Z"
   },
   {
    "duration": 10,
    "start_time": "2023-07-10T08:53:56.209Z"
   },
   {
    "duration": 12,
    "start_time": "2023-07-10T08:53:57.565Z"
   },
   {
    "duration": 11,
    "start_time": "2023-07-10T08:53:58.446Z"
   },
   {
    "duration": 11,
    "start_time": "2023-07-10T08:53:59.757Z"
   },
   {
    "duration": 11,
    "start_time": "2023-07-10T08:54:00.722Z"
   },
   {
    "duration": 9,
    "start_time": "2023-07-10T08:54:02.358Z"
   },
   {
    "duration": 7,
    "start_time": "2023-07-10T08:54:04.956Z"
   },
   {
    "duration": 5,
    "start_time": "2023-07-10T08:54:07.462Z"
   },
   {
    "duration": 9,
    "start_time": "2023-07-10T08:54:10.126Z"
   },
   {
    "duration": 10,
    "start_time": "2023-07-10T08:54:14.002Z"
   },
   {
    "duration": 6,
    "start_time": "2023-07-10T08:54:15.681Z"
   },
   {
    "duration": 13,
    "start_time": "2023-07-10T08:54:17.869Z"
   },
   {
    "duration": 7,
    "start_time": "2023-07-10T08:54:22.006Z"
   },
   {
    "duration": 9,
    "start_time": "2023-07-10T08:54:23.342Z"
   },
   {
    "duration": 9,
    "start_time": "2023-07-10T08:54:25.116Z"
   },
   {
    "duration": 6,
    "start_time": "2023-07-10T08:54:26.317Z"
   },
   {
    "duration": 6,
    "start_time": "2023-07-10T08:54:28.499Z"
   },
   {
    "duration": 6,
    "start_time": "2023-07-10T08:54:29.509Z"
   },
   {
    "duration": 10,
    "start_time": "2023-07-10T08:54:31.622Z"
   },
   {
    "duration": 12,
    "start_time": "2023-07-10T08:54:59.538Z"
   },
   {
    "duration": 21,
    "start_time": "2023-07-10T08:55:09.821Z"
   },
   {
    "duration": 1660,
    "start_time": "2023-07-10T08:56:14.044Z"
   },
   {
    "duration": 1296,
    "start_time": "2023-07-10T08:56:19.396Z"
   },
   {
    "duration": 18,
    "start_time": "2023-07-10T08:56:42.645Z"
   },
   {
    "duration": 2959,
    "start_time": "2023-07-10T09:00:05.694Z"
   },
   {
    "duration": 916,
    "start_time": "2023-07-10T09:00:10.849Z"
   },
   {
    "duration": 2615,
    "start_time": "2023-07-10T09:05:52.033Z"
   },
   {
    "duration": 1264,
    "start_time": "2023-07-10T09:05:56.512Z"
   },
   {
    "duration": 10,
    "start_time": "2023-07-10T09:06:00.229Z"
   },
   {
    "duration": 16,
    "start_time": "2023-07-10T09:06:02.234Z"
   },
   {
    "duration": 4,
    "start_time": "2023-07-10T09:06:04.488Z"
   },
   {
    "duration": 5,
    "start_time": "2023-07-10T09:06:05.969Z"
   },
   {
    "duration": 112,
    "start_time": "2023-07-10T09:06:07.036Z"
   },
   {
    "duration": 5,
    "start_time": "2023-07-10T09:06:08.650Z"
   },
   {
    "duration": 4,
    "start_time": "2023-07-10T09:06:10.022Z"
   },
   {
    "duration": 5,
    "start_time": "2023-07-10T09:06:12.517Z"
   },
   {
    "duration": 5,
    "start_time": "2023-07-10T09:06:13.788Z"
   },
   {
    "duration": 103,
    "start_time": "2023-07-10T09:06:15.161Z"
   },
   {
    "duration": 4,
    "start_time": "2023-07-10T09:06:17.599Z"
   },
   {
    "duration": 10,
    "start_time": "2023-07-10T09:06:18.695Z"
   },
   {
    "duration": 10,
    "start_time": "2023-07-10T09:06:20.079Z"
   },
   {
    "duration": 10,
    "start_time": "2023-07-10T09:06:21.468Z"
   },
   {
    "duration": 11,
    "start_time": "2023-07-10T09:06:22.612Z"
   },
   {
    "duration": 11,
    "start_time": "2023-07-10T09:06:24.042Z"
   },
   {
    "duration": 10,
    "start_time": "2023-07-10T09:06:25.741Z"
   },
   {
    "duration": 14,
    "start_time": "2023-07-10T09:06:27.216Z"
   },
   {
    "duration": 10,
    "start_time": "2023-07-10T09:06:28.159Z"
   },
   {
    "duration": 11,
    "start_time": "2023-07-10T09:06:29.492Z"
   },
   {
    "duration": 11,
    "start_time": "2023-07-10T09:06:30.899Z"
   },
   {
    "duration": 9,
    "start_time": "2023-07-10T09:06:32.598Z"
   },
   {
    "duration": 6,
    "start_time": "2023-07-10T09:06:34.566Z"
   },
   {
    "duration": 5,
    "start_time": "2023-07-10T09:06:36.819Z"
   },
   {
    "duration": 10,
    "start_time": "2023-07-10T09:06:39.319Z"
   },
   {
    "duration": 10,
    "start_time": "2023-07-10T09:06:41.603Z"
   },
   {
    "duration": 6,
    "start_time": "2023-07-10T09:06:43.334Z"
   },
   {
    "duration": 14,
    "start_time": "2023-07-10T09:06:44.630Z"
   },
   {
    "duration": 8,
    "start_time": "2023-07-10T09:06:47.665Z"
   },
   {
    "duration": 8,
    "start_time": "2023-07-10T09:06:49.028Z"
   },
   {
    "duration": 8,
    "start_time": "2023-07-10T09:06:51.034Z"
   },
   {
    "duration": 7,
    "start_time": "2023-07-10T09:06:52.357Z"
   },
   {
    "duration": 6,
    "start_time": "2023-07-10T09:06:54.947Z"
   },
   {
    "duration": 7,
    "start_time": "2023-07-10T09:06:56.994Z"
   },
   {
    "duration": 8,
    "start_time": "2023-07-10T09:06:59.018Z"
   },
   {
    "duration": 17,
    "start_time": "2023-07-10T09:07:01.037Z"
   },
   {
    "duration": 524,
    "start_time": "2023-07-10T09:07:02.791Z"
   },
   {
    "duration": 495,
    "start_time": "2023-07-10T09:07:05.183Z"
   },
   {
    "duration": 456,
    "start_time": "2023-07-10T09:07:06.984Z"
   },
   {
    "duration": 375,
    "start_time": "2023-07-10T09:07:09.548Z"
   },
   {
    "duration": 548,
    "start_time": "2023-07-10T09:07:11.321Z"
   },
   {
    "duration": 256,
    "start_time": "2023-07-10T09:07:13.243Z"
   },
   {
    "duration": 10,
    "start_time": "2023-07-10T09:07:15.866Z"
   },
   {
    "duration": 181,
    "start_time": "2023-07-10T09:07:17.143Z"
   },
   {
    "duration": 9,
    "start_time": "2023-07-10T09:07:19.017Z"
   },
   {
    "duration": 179,
    "start_time": "2023-07-10T09:07:20.404Z"
   },
   {
    "duration": 8,
    "start_time": "2023-07-10T09:07:22.796Z"
   },
   {
    "duration": 173,
    "start_time": "2023-07-10T09:07:24.603Z"
   },
   {
    "duration": 208,
    "start_time": "2023-07-10T09:07:26.619Z"
   },
   {
    "duration": 12,
    "start_time": "2023-07-10T09:07:30.210Z"
   },
   {
    "duration": 10,
    "start_time": "2023-07-10T09:07:31.534Z"
   },
   {
    "duration": 11,
    "start_time": "2023-07-10T09:07:32.965Z"
   },
   {
    "duration": 11,
    "start_time": "2023-07-10T09:07:34.188Z"
   },
   {
    "duration": 11,
    "start_time": "2023-07-10T09:07:35.808Z"
   },
   {
    "duration": 12,
    "start_time": "2023-07-10T09:07:37.037Z"
   },
   {
    "duration": 11,
    "start_time": "2023-07-10T09:07:38.183Z"
   },
   {
    "duration": 10,
    "start_time": "2023-07-10T09:07:40.131Z"
   },
   {
    "duration": 9,
    "start_time": "2023-07-10T09:07:41.414Z"
   },
   {
    "duration": 10,
    "start_time": "2023-07-10T09:07:42.692Z"
   },
   {
    "duration": 10,
    "start_time": "2023-07-10T09:07:44.496Z"
   },
   {
    "duration": 8,
    "start_time": "2023-07-10T09:07:45.748Z"
   },
   {
    "duration": 12,
    "start_time": "2023-07-10T09:07:48.794Z"
   },
   {
    "duration": 22,
    "start_time": "2023-07-10T09:07:51.125Z"
   },
   {
    "duration": 14,
    "start_time": "2023-07-10T09:15:57.448Z"
   },
   {
    "duration": 9,
    "start_time": "2023-07-10T09:16:40.769Z"
   },
   {
    "duration": 1564,
    "start_time": "2023-07-10T09:16:45.264Z"
   },
   {
    "duration": 2719,
    "start_time": "2023-07-10T09:17:17.712Z"
   },
   {
    "duration": 1588,
    "start_time": "2023-07-10T09:59:25.196Z"
   },
   {
    "duration": 11,
    "start_time": "2023-07-10T09:59:30.161Z"
   },
   {
    "duration": 14,
    "start_time": "2023-07-10T09:59:32.488Z"
   },
   {
    "duration": 5,
    "start_time": "2023-07-10T09:59:34.875Z"
   },
   {
    "duration": 5,
    "start_time": "2023-07-10T09:59:36.828Z"
   },
   {
    "duration": 105,
    "start_time": "2023-07-10T09:59:38.147Z"
   },
   {
    "duration": 6,
    "start_time": "2023-07-10T09:59:40.478Z"
   },
   {
    "duration": 4,
    "start_time": "2023-07-10T09:59:42.568Z"
   },
   {
    "duration": 5,
    "start_time": "2023-07-10T09:59:44.484Z"
   },
   {
    "duration": 6,
    "start_time": "2023-07-10T09:59:46.324Z"
   },
   {
    "duration": 102,
    "start_time": "2023-07-10T09:59:47.979Z"
   },
   {
    "duration": 4,
    "start_time": "2023-07-10T09:59:49.631Z"
   },
   {
    "duration": 11,
    "start_time": "2023-07-10T09:59:51.037Z"
   },
   {
    "duration": 10,
    "start_time": "2023-07-10T09:59:52.358Z"
   },
   {
    "duration": 10,
    "start_time": "2023-07-10T09:59:54.941Z"
   },
   {
    "duration": 12,
    "start_time": "2023-07-10T09:59:56.531Z"
   },
   {
    "duration": 12,
    "start_time": "2023-07-10T09:59:58.220Z"
   },
   {
    "duration": 10,
    "start_time": "2023-07-10T09:59:59.463Z"
   },
   {
    "duration": 12,
    "start_time": "2023-07-10T10:00:03.580Z"
   },
   {
    "duration": 11,
    "start_time": "2023-07-10T10:00:05.583Z"
   },
   {
    "duration": 10,
    "start_time": "2023-07-10T10:00:07.337Z"
   },
   {
    "duration": 11,
    "start_time": "2023-07-10T10:00:08.694Z"
   },
   {
    "duration": 8,
    "start_time": "2023-07-10T10:00:10.177Z"
   },
   {
    "duration": 7,
    "start_time": "2023-07-10T10:00:12.347Z"
   },
   {
    "duration": 4,
    "start_time": "2023-07-10T10:00:16.219Z"
   },
   {
    "duration": 10,
    "start_time": "2023-07-10T10:00:18.924Z"
   },
   {
    "duration": 9,
    "start_time": "2023-07-10T10:00:28.022Z"
   },
   {
    "duration": 6,
    "start_time": "2023-07-10T10:00:31.245Z"
   },
   {
    "duration": 14,
    "start_time": "2023-07-10T10:00:32.844Z"
   },
   {
    "duration": 7,
    "start_time": "2023-07-10T10:00:35.238Z"
   },
   {
    "duration": 8,
    "start_time": "2023-07-10T10:00:36.832Z"
   },
   {
    "duration": 8,
    "start_time": "2023-07-10T10:00:38.760Z"
   },
   {
    "duration": 6,
    "start_time": "2023-07-10T10:00:40.331Z"
   },
   {
    "duration": 5,
    "start_time": "2023-07-10T10:00:42.029Z"
   },
   {
    "duration": 8,
    "start_time": "2023-07-10T10:00:43.214Z"
   },
   {
    "duration": 8,
    "start_time": "2023-07-10T10:00:45.057Z"
   },
   {
    "duration": 16,
    "start_time": "2023-07-10T10:00:47.137Z"
   },
   {
    "duration": 337,
    "start_time": "2023-07-10T10:00:50.414Z"
   },
   {
    "duration": 440,
    "start_time": "2023-07-10T10:00:52.425Z"
   },
   {
    "duration": 581,
    "start_time": "2023-07-10T10:00:55.634Z"
   },
   {
    "duration": 399,
    "start_time": "2023-07-10T10:00:58.328Z"
   },
   {
    "duration": 386,
    "start_time": "2023-07-10T10:01:00.489Z"
   },
   {
    "duration": 299,
    "start_time": "2023-07-10T10:01:02.692Z"
   },
   {
    "duration": 11,
    "start_time": "2023-07-10T10:01:04.648Z"
   },
   {
    "duration": 184,
    "start_time": "2023-07-10T10:01:06.211Z"
   },
   {
    "duration": 10,
    "start_time": "2023-07-10T10:01:08.209Z"
   },
   {
    "duration": 188,
    "start_time": "2023-07-10T10:01:09.899Z"
   },
   {
    "duration": 11,
    "start_time": "2023-07-10T10:01:11.615Z"
   },
   {
    "duration": 180,
    "start_time": "2023-07-10T10:01:13.196Z"
   },
   {
    "duration": 212,
    "start_time": "2023-07-10T10:01:15.111Z"
   },
   {
    "duration": 11,
    "start_time": "2023-07-10T10:01:18.259Z"
   },
   {
    "duration": 14,
    "start_time": "2023-07-10T10:01:19.432Z"
   },
   {
    "duration": 10,
    "start_time": "2023-07-10T10:01:20.896Z"
   },
   {
    "duration": 11,
    "start_time": "2023-07-10T10:01:22.401Z"
   },
   {
    "duration": 11,
    "start_time": "2023-07-10T10:01:23.699Z"
   },
   {
    "duration": 10,
    "start_time": "2023-07-10T10:01:25.209Z"
   },
   {
    "duration": 10,
    "start_time": "2023-07-10T10:01:26.586Z"
   },
   {
    "duration": 11,
    "start_time": "2023-07-10T10:01:28.108Z"
   },
   {
    "duration": 10,
    "start_time": "2023-07-10T10:01:36.164Z"
   },
   {
    "duration": 10,
    "start_time": "2023-07-10T10:01:37.612Z"
   },
   {
    "duration": 10,
    "start_time": "2023-07-10T10:01:39.260Z"
   },
   {
    "duration": 7,
    "start_time": "2023-07-10T10:01:40.742Z"
   },
   {
    "duration": 12,
    "start_time": "2023-07-10T10:01:43.392Z"
   },
   {
    "duration": 7,
    "start_time": "2023-07-10T10:01:47.863Z"
   },
   {
    "duration": 21,
    "start_time": "2023-07-10T10:01:52.012Z"
   },
   {
    "duration": 432,
    "start_time": "2023-07-10T10:02:14.189Z"
   },
   {
    "duration": 6,
    "start_time": "2023-07-10T10:07:36.319Z"
   },
   {
    "duration": 16,
    "start_time": "2023-07-10T10:07:38.833Z"
   },
   {
    "duration": 15,
    "start_time": "2023-07-10T10:11:04.023Z"
   },
   {
    "duration": 8,
    "start_time": "2023-07-10T10:11:06.189Z"
   },
   {
    "duration": 8,
    "start_time": "2023-07-10T10:11:07.815Z"
   },
   {
    "duration": 8,
    "start_time": "2023-07-10T10:11:09.301Z"
   },
   {
    "duration": 8,
    "start_time": "2023-07-10T10:11:11.336Z"
   },
   {
    "duration": 7,
    "start_time": "2023-07-10T10:11:13.204Z"
   },
   {
    "duration": 7,
    "start_time": "2023-07-10T10:11:14.517Z"
   },
   {
    "duration": 9,
    "start_time": "2023-07-10T10:11:16.860Z"
   },
   {
    "duration": 16,
    "start_time": "2023-07-10T10:11:18.813Z"
   },
   {
    "duration": 512,
    "start_time": "2023-07-10T10:11:20.510Z"
   },
   {
    "duration": 2695,
    "start_time": "2023-07-10T10:11:45.305Z"
   },
   {
    "duration": 907,
    "start_time": "2023-07-10T10:11:48.059Z"
   },
   {
    "duration": 11,
    "start_time": "2023-07-10T10:11:51.645Z"
   },
   {
    "duration": 12,
    "start_time": "2023-07-10T10:11:53.755Z"
   },
   {
    "duration": 4,
    "start_time": "2023-07-10T10:11:55.989Z"
   },
   {
    "duration": 6,
    "start_time": "2023-07-10T10:11:57.297Z"
   },
   {
    "duration": 111,
    "start_time": "2023-07-10T10:11:58.893Z"
   },
   {
    "duration": 5,
    "start_time": "2023-07-10T10:12:00.631Z"
   },
   {
    "duration": 6,
    "start_time": "2023-07-10T10:12:01.842Z"
   },
   {
    "duration": 5,
    "start_time": "2023-07-10T10:12:04.131Z"
   },
   {
    "duration": 5,
    "start_time": "2023-07-10T10:12:05.373Z"
   },
   {
    "duration": 113,
    "start_time": "2023-07-10T10:12:06.727Z"
   },
   {
    "duration": 5,
    "start_time": "2023-07-10T10:12:09.843Z"
   },
   {
    "duration": 13,
    "start_time": "2023-07-10T10:12:11.197Z"
   },
   {
    "duration": 10,
    "start_time": "2023-07-10T10:12:12.725Z"
   },
   {
    "duration": 10,
    "start_time": "2023-07-10T10:12:14.032Z"
   },
   {
    "duration": 12,
    "start_time": "2023-07-10T10:12:15.299Z"
   },
   {
    "duration": 12,
    "start_time": "2023-07-10T10:12:16.944Z"
   },
   {
    "duration": 11,
    "start_time": "2023-07-10T10:12:18.006Z"
   },
   {
    "duration": 13,
    "start_time": "2023-07-10T10:12:20.701Z"
   },
   {
    "duration": 11,
    "start_time": "2023-07-10T10:12:22.732Z"
   },
   {
    "duration": 11,
    "start_time": "2023-07-10T10:12:25.830Z"
   },
   {
    "duration": 11,
    "start_time": "2023-07-10T10:12:27.259Z"
   },
   {
    "duration": 10,
    "start_time": "2023-07-10T10:12:29.332Z"
   },
   {
    "duration": 7,
    "start_time": "2023-07-10T10:12:33.267Z"
   },
   {
    "duration": 5,
    "start_time": "2023-07-10T10:12:37.056Z"
   },
   {
    "duration": 10,
    "start_time": "2023-07-10T10:12:39.755Z"
   },
   {
    "duration": 11,
    "start_time": "2023-07-10T10:12:43.136Z"
   },
   {
    "duration": 7,
    "start_time": "2023-07-10T10:12:45.207Z"
   },
   {
    "duration": 13,
    "start_time": "2023-07-10T10:12:49.447Z"
   },
   {
    "duration": 8,
    "start_time": "2023-07-10T10:12:54.572Z"
   },
   {
    "duration": 8,
    "start_time": "2023-07-10T10:12:56.155Z"
   },
   {
    "duration": 9,
    "start_time": "2023-07-10T10:12:57.789Z"
   },
   {
    "duration": 7,
    "start_time": "2023-07-10T10:12:59.248Z"
   },
   {
    "duration": 7,
    "start_time": "2023-07-10T10:13:03.887Z"
   },
   {
    "duration": 7,
    "start_time": "2023-07-10T10:13:05.456Z"
   },
   {
    "duration": 8,
    "start_time": "2023-07-10T10:13:07.464Z"
   },
   {
    "duration": 17,
    "start_time": "2023-07-10T10:14:24.905Z"
   },
   {
    "duration": 16,
    "start_time": "2023-07-10T10:14:46.216Z"
   },
   {
    "duration": 345,
    "start_time": "2023-07-10T10:14:47.997Z"
   },
   {
    "duration": 449,
    "start_time": "2023-07-10T10:14:50.056Z"
   },
   {
    "duration": 594,
    "start_time": "2023-07-10T10:14:52.338Z"
   },
   {
    "duration": 399,
    "start_time": "2023-07-10T10:14:55.970Z"
   },
   {
    "duration": 375,
    "start_time": "2023-07-10T10:14:58.260Z"
   },
   {
    "duration": 262,
    "start_time": "2023-07-10T10:15:00.266Z"
   },
   {
    "duration": 11,
    "start_time": "2023-07-10T10:15:02.433Z"
   },
   {
    "duration": 200,
    "start_time": "2023-07-10T10:15:04.401Z"
   },
   {
    "duration": 9,
    "start_time": "2023-07-10T10:15:06.050Z"
   },
   {
    "duration": 206,
    "start_time": "2023-07-10T10:15:08.623Z"
   },
   {
    "duration": 9,
    "start_time": "2023-07-10T10:15:10.936Z"
   },
   {
    "duration": 173,
    "start_time": "2023-07-10T10:15:12.307Z"
   },
   {
    "duration": 209,
    "start_time": "2023-07-10T10:15:14.035Z"
   },
   {
    "duration": 10,
    "start_time": "2023-07-10T10:15:17.397Z"
   },
   {
    "duration": 10,
    "start_time": "2023-07-10T10:15:19.796Z"
   },
   {
    "duration": 12,
    "start_time": "2023-07-10T10:15:22.031Z"
   },
   {
    "duration": 11,
    "start_time": "2023-07-10T10:15:23.433Z"
   },
   {
    "duration": 12,
    "start_time": "2023-07-10T10:15:24.831Z"
   },
   {
    "duration": 15,
    "start_time": "2023-07-10T10:15:26.431Z"
   },
   {
    "duration": 11,
    "start_time": "2023-07-10T10:15:27.758Z"
   },
   {
    "duration": 11,
    "start_time": "2023-07-10T10:15:30.791Z"
   },
   {
    "duration": 16,
    "start_time": "2023-07-10T10:15:32.528Z"
   },
   {
    "duration": 11,
    "start_time": "2023-07-10T10:15:33.882Z"
   },
   {
    "duration": 11,
    "start_time": "2023-07-10T10:15:35.163Z"
   },
   {
    "duration": 7,
    "start_time": "2023-07-10T10:15:36.629Z"
   },
   {
    "duration": 12,
    "start_time": "2023-07-10T10:15:40.436Z"
   },
   {
    "duration": 3106,
    "start_time": "2023-07-10T10:16:29.362Z"
   },
   {
    "duration": 1134,
    "start_time": "2023-07-10T10:16:34.613Z"
   },
   {
    "duration": 12,
    "start_time": "2023-07-10T10:16:40.024Z"
   },
   {
    "duration": 12,
    "start_time": "2023-07-10T10:16:41.957Z"
   },
   {
    "duration": 4,
    "start_time": "2023-07-10T10:16:43.787Z"
   },
   {
    "duration": 5,
    "start_time": "2023-07-10T10:16:46.596Z"
   },
   {
    "duration": 98,
    "start_time": "2023-07-10T10:16:48.018Z"
   },
   {
    "duration": 5,
    "start_time": "2023-07-10T10:16:49.828Z"
   },
   {
    "duration": 5,
    "start_time": "2023-07-10T10:16:50.988Z"
   },
   {
    "duration": 6,
    "start_time": "2023-07-10T10:16:52.988Z"
   },
   {
    "duration": 5,
    "start_time": "2023-07-10T10:16:54.815Z"
   },
   {
    "duration": 125,
    "start_time": "2023-07-10T10:16:56.290Z"
   },
   {
    "duration": 4,
    "start_time": "2023-07-10T10:16:58.305Z"
   },
   {
    "duration": 10,
    "start_time": "2023-07-10T10:16:59.387Z"
   },
   {
    "duration": 11,
    "start_time": "2023-07-10T10:17:01.037Z"
   },
   {
    "duration": 11,
    "start_time": "2023-07-10T10:17:02.492Z"
   },
   {
    "duration": 13,
    "start_time": "2023-07-10T10:17:03.736Z"
   },
   {
    "duration": 13,
    "start_time": "2023-07-10T10:17:05.137Z"
   },
   {
    "duration": 12,
    "start_time": "2023-07-10T10:17:06.141Z"
   },
   {
    "duration": 12,
    "start_time": "2023-07-10T10:17:08.761Z"
   },
   {
    "duration": 10,
    "start_time": "2023-07-10T10:17:10.604Z"
   },
   {
    "duration": 11,
    "start_time": "2023-07-10T10:17:11.810Z"
   },
   {
    "duration": 10,
    "start_time": "2023-07-10T10:17:13.287Z"
   },
   {
    "duration": 8,
    "start_time": "2023-07-10T10:17:15.339Z"
   },
   {
    "duration": 6,
    "start_time": "2023-07-10T10:17:17.487Z"
   },
   {
    "duration": 4,
    "start_time": "2023-07-10T10:17:19.687Z"
   },
   {
    "duration": 9,
    "start_time": "2023-07-10T10:17:21.858Z"
   },
   {
    "duration": 12,
    "start_time": "2023-07-10T10:17:24.435Z"
   },
   {
    "duration": 6,
    "start_time": "2023-07-10T10:17:26.055Z"
   },
   {
    "duration": 14,
    "start_time": "2023-07-10T10:17:28.591Z"
   },
   {
    "duration": 8,
    "start_time": "2023-07-10T10:17:31.010Z"
   },
   {
    "duration": 8,
    "start_time": "2023-07-10T10:17:32.464Z"
   },
   {
    "duration": 9,
    "start_time": "2023-07-10T10:17:34.538Z"
   },
   {
    "duration": 7,
    "start_time": "2023-07-10T10:17:35.750Z"
   },
   {
    "duration": 6,
    "start_time": "2023-07-10T10:17:37.285Z"
   },
   {
    "duration": 7,
    "start_time": "2023-07-10T10:17:38.391Z"
   },
   {
    "duration": 7,
    "start_time": "2023-07-10T10:17:40.567Z"
   },
   {
    "duration": 17,
    "start_time": "2023-07-10T10:17:43.009Z"
   },
   {
    "duration": 15,
    "start_time": "2023-07-10T10:17:45.634Z"
   },
   {
    "duration": 4,
    "start_time": "2023-07-10T10:17:58.517Z"
   },
   {
    "duration": 15,
    "start_time": "2023-07-10T10:18:01.024Z"
   },
   {
    "duration": 364,
    "start_time": "2023-07-10T10:18:04.043Z"
   },
   {
    "duration": 635,
    "start_time": "2023-07-10T10:18:07.040Z"
   },
   {
    "duration": 407,
    "start_time": "2023-07-10T10:18:09.746Z"
   },
   {
    "duration": 365,
    "start_time": "2023-07-10T10:18:12.760Z"
   },
   {
    "duration": 365,
    "start_time": "2023-07-10T10:18:14.989Z"
   },
   {
    "duration": 252,
    "start_time": "2023-07-10T10:18:16.816Z"
   },
   {
    "duration": 10,
    "start_time": "2023-07-10T10:18:18.424Z"
   },
   {
    "duration": 173,
    "start_time": "2023-07-10T10:18:20.207Z"
   },
   {
    "duration": 9,
    "start_time": "2023-07-10T10:18:21.749Z"
   },
   {
    "duration": 176,
    "start_time": "2023-07-10T10:18:23.584Z"
   },
   {
    "duration": 9,
    "start_time": "2023-07-10T10:18:25.149Z"
   },
   {
    "duration": 375,
    "start_time": "2023-07-10T10:18:27.224Z"
   },
   {
    "duration": 229,
    "start_time": "2023-07-10T10:18:29.014Z"
   },
   {
    "duration": 13,
    "start_time": "2023-07-10T10:18:32.398Z"
   },
   {
    "duration": 11,
    "start_time": "2023-07-10T10:18:33.435Z"
   },
   {
    "duration": 11,
    "start_time": "2023-07-10T10:18:34.652Z"
   },
   {
    "duration": 10,
    "start_time": "2023-07-10T10:18:35.595Z"
   },
   {
    "duration": 12,
    "start_time": "2023-07-10T10:18:37.000Z"
   },
   {
    "duration": 13,
    "start_time": "2023-07-10T10:18:37.890Z"
   },
   {
    "duration": 11,
    "start_time": "2023-07-10T10:18:39.511Z"
   },
   {
    "duration": 11,
    "start_time": "2023-07-10T10:18:41.989Z"
   },
   {
    "duration": 10,
    "start_time": "2023-07-10T10:18:43.286Z"
   },
   {
    "duration": 10,
    "start_time": "2023-07-10T10:18:44.788Z"
   },
   {
    "duration": 10,
    "start_time": "2023-07-10T10:18:45.849Z"
   },
   {
    "duration": 8,
    "start_time": "2023-07-10T10:18:48.069Z"
   },
   {
    "duration": 10,
    "start_time": "2023-07-10T10:18:50.361Z"
   },
   {
    "duration": 7,
    "start_time": "2023-07-10T10:18:52.713Z"
   },
   {
    "duration": 20,
    "start_time": "2023-07-10T10:18:54.005Z"
   },
   {
    "duration": 461,
    "start_time": "2023-07-10T10:18:58.114Z"
   },
   {
    "duration": 414,
    "start_time": "2023-07-10T10:19:16.981Z"
   },
   {
    "duration": 1635,
    "start_time": "2023-07-10T10:25:33.930Z"
   },
   {
    "duration": 1487,
    "start_time": "2023-07-10T10:27:51.433Z"
   },
   {
    "duration": 1561,
    "start_time": "2023-07-10T10:28:05.823Z"
   },
   {
    "duration": 1658,
    "start_time": "2023-07-10T10:32:36.099Z"
   },
   {
    "duration": 1369,
    "start_time": "2023-07-10T10:33:24.393Z"
   },
   {
    "duration": 1384,
    "start_time": "2023-07-10T10:33:39.518Z"
   },
   {
    "duration": 14,
    "start_time": "2023-07-10T10:50:42.959Z"
   },
   {
    "duration": 19,
    "start_time": "2023-07-10T10:52:42.730Z"
   },
   {
    "duration": 16,
    "start_time": "2023-07-10T10:52:49.329Z"
   },
   {
    "duration": 14,
    "start_time": "2023-07-10T10:52:56.002Z"
   },
   {
    "duration": 2666,
    "start_time": "2023-07-10T10:53:25.546Z"
   },
   {
    "duration": 1520,
    "start_time": "2023-07-10T10:53:29.788Z"
   },
   {
    "duration": 12,
    "start_time": "2023-07-10T10:53:34.630Z"
   },
   {
    "duration": 16,
    "start_time": "2023-07-10T10:53:36.385Z"
   },
   {
    "duration": 5,
    "start_time": "2023-07-10T10:53:38.690Z"
   },
   {
    "duration": 6,
    "start_time": "2023-07-10T10:53:39.945Z"
   },
   {
    "duration": 105,
    "start_time": "2023-07-10T10:53:40.967Z"
   },
   {
    "duration": 5,
    "start_time": "2023-07-10T10:53:42.766Z"
   },
   {
    "duration": 5,
    "start_time": "2023-07-10T10:53:44.102Z"
   },
   {
    "duration": 5,
    "start_time": "2023-07-10T10:53:45.795Z"
   },
   {
    "duration": 4,
    "start_time": "2023-07-10T10:53:46.944Z"
   },
   {
    "duration": 96,
    "start_time": "2023-07-10T10:53:47.991Z"
   },
   {
    "duration": 4,
    "start_time": "2023-07-10T10:53:49.702Z"
   },
   {
    "duration": 12,
    "start_time": "2023-07-10T10:53:51.924Z"
   },
   {
    "duration": 14,
    "start_time": "2023-07-10T10:53:53.856Z"
   },
   {
    "duration": 14,
    "start_time": "2023-07-10T10:53:54.720Z"
   },
   {
    "duration": 16,
    "start_time": "2023-07-10T10:53:56.852Z"
   },
   {
    "duration": 15,
    "start_time": "2023-07-10T10:53:58.134Z"
   },
   {
    "duration": 12,
    "start_time": "2023-07-10T10:53:59.105Z"
   },
   {
    "duration": 12,
    "start_time": "2023-07-10T10:54:00.821Z"
   },
   {
    "duration": 12,
    "start_time": "2023-07-10T10:54:02.087Z"
   },
   {
    "duration": 12,
    "start_time": "2023-07-10T10:54:03.370Z"
   },
   {
    "duration": 11,
    "start_time": "2023-07-10T10:54:04.712Z"
   },
   {
    "duration": 8,
    "start_time": "2023-07-10T10:54:06.288Z"
   },
   {
    "duration": 7,
    "start_time": "2023-07-10T10:54:08.153Z"
   },
   {
    "duration": 5,
    "start_time": "2023-07-10T10:54:11.991Z"
   },
   {
    "duration": 10,
    "start_time": "2023-07-10T10:54:14.290Z"
   },
   {
    "duration": 10,
    "start_time": "2023-07-10T10:54:17.501Z"
   },
   {
    "duration": 7,
    "start_time": "2023-07-10T10:54:19.316Z"
   },
   {
    "duration": 15,
    "start_time": "2023-07-10T10:54:21.190Z"
   },
   {
    "duration": 9,
    "start_time": "2023-07-10T10:54:23.919Z"
   },
   {
    "duration": 8,
    "start_time": "2023-07-10T10:54:25.940Z"
   },
   {
    "duration": 8,
    "start_time": "2023-07-10T10:54:27.521Z"
   },
   {
    "duration": 7,
    "start_time": "2023-07-10T10:54:29.132Z"
   },
   {
    "duration": 6,
    "start_time": "2023-07-10T10:54:30.624Z"
   },
   {
    "duration": 6,
    "start_time": "2023-07-10T10:54:31.728Z"
   },
   {
    "duration": 8,
    "start_time": "2023-07-10T10:54:34.108Z"
   },
   {
    "duration": 5,
    "start_time": "2023-07-10T10:54:37.815Z"
   },
   {
    "duration": 14,
    "start_time": "2023-07-10T10:54:39.302Z"
   },
   {
    "duration": 551,
    "start_time": "2023-07-10T10:54:41.354Z"
   },
   {
    "duration": 427,
    "start_time": "2023-07-10T10:54:57.741Z"
   },
   {
    "duration": 466,
    "start_time": "2023-07-10T10:55:01.393Z"
   },
   {
    "duration": 438,
    "start_time": "2023-07-10T10:55:03.386Z"
   },
   {
    "duration": 393,
    "start_time": "2023-07-10T10:55:06.848Z"
   },
   {
    "duration": 268,
    "start_time": "2023-07-10T10:55:08.787Z"
   },
   {
    "duration": 11,
    "start_time": "2023-07-10T10:55:10.634Z"
   },
   {
    "duration": 192,
    "start_time": "2023-07-10T10:55:12.402Z"
   },
   {
    "duration": 13,
    "start_time": "2023-07-10T11:02:29.781Z"
   },
   {
    "duration": 13,
    "start_time": "2023-07-10T11:02:43.627Z"
   },
   {
    "duration": 14,
    "start_time": "2023-07-10T11:04:00.914Z"
   },
   {
    "duration": 299,
    "start_time": "2023-07-10T11:10:13.334Z"
   },
   {
    "duration": 188,
    "start_time": "2023-07-10T11:10:23.864Z"
   },
   {
    "duration": 286,
    "start_time": "2023-07-10T11:10:31.638Z"
   },
   {
    "duration": 313,
    "start_time": "2023-07-10T11:10:51.964Z"
   },
   {
    "duration": 674,
    "start_time": "2023-07-10T11:34:49.636Z"
   },
   {
    "duration": 401,
    "start_time": "2023-07-10T11:34:52.053Z"
   },
   {
    "duration": 380,
    "start_time": "2023-07-10T11:34:54.575Z"
   },
   {
    "duration": 262,
    "start_time": "2023-07-10T11:35:01.360Z"
   },
   {
    "duration": 16,
    "start_time": "2023-07-10T11:35:03.795Z"
   },
   {
    "duration": 275,
    "start_time": "2023-07-10T11:35:05.660Z"
   },
   {
    "duration": 15,
    "start_time": "2023-07-10T11:38:34.785Z"
   },
   {
    "duration": 303,
    "start_time": "2023-07-10T11:38:47.305Z"
   },
   {
    "duration": 254,
    "start_time": "2023-07-10T11:38:53.959Z"
   },
   {
    "duration": 14,
    "start_time": "2023-07-10T11:40:00.543Z"
   },
   {
    "duration": 7,
    "start_time": "2023-07-10T11:50:56.852Z"
   },
   {
    "duration": 8,
    "start_time": "2023-07-10T11:51:13.429Z"
   },
   {
    "duration": 9,
    "start_time": "2023-07-10T11:51:31.830Z"
   },
   {
    "duration": 7,
    "start_time": "2023-07-10T11:51:38.440Z"
   },
   {
    "duration": 186,
    "start_time": "2023-07-10T11:51:48.317Z"
   },
   {
    "duration": 335,
    "start_time": "2023-07-10T11:51:55.701Z"
   },
   {
    "duration": 8,
    "start_time": "2023-07-10T11:52:08.117Z"
   },
   {
    "duration": 7,
    "start_time": "2023-07-10T11:53:22.405Z"
   },
   {
    "duration": 8,
    "start_time": "2023-07-10T11:53:50.104Z"
   },
   {
    "duration": 524,
    "start_time": "2023-07-10T11:54:30.553Z"
   },
   {
    "duration": 8,
    "start_time": "2023-07-10T11:55:39.047Z"
   },
   {
    "duration": 7,
    "start_time": "2023-07-10T11:55:55.815Z"
   },
   {
    "duration": 9,
    "start_time": "2023-07-10T11:56:15.120Z"
   },
   {
    "duration": 7,
    "start_time": "2023-07-10T11:56:48.201Z"
   },
   {
    "duration": 8,
    "start_time": "2023-07-10T12:03:36.304Z"
   },
   {
    "duration": 336,
    "start_time": "2023-07-10T12:04:22.701Z"
   },
   {
    "duration": 8,
    "start_time": "2023-07-10T12:05:31.223Z"
   },
   {
    "duration": 316,
    "start_time": "2023-07-10T12:05:40.689Z"
   },
   {
    "duration": 14,
    "start_time": "2023-07-10T12:07:05.797Z"
   },
   {
    "duration": 7,
    "start_time": "2023-07-10T12:07:12.354Z"
   },
   {
    "duration": 297,
    "start_time": "2023-07-10T12:07:24.747Z"
   },
   {
    "duration": 7,
    "start_time": "2023-07-10T12:07:56.003Z"
   },
   {
    "duration": 5698,
    "start_time": "2023-07-11T12:13:36.220Z"
   },
   {
    "duration": 1218,
    "start_time": "2023-07-11T12:13:41.920Z"
   },
   {
    "duration": 28,
    "start_time": "2023-07-11T12:13:43.140Z"
   },
   {
    "duration": 13,
    "start_time": "2023-07-11T12:13:43.171Z"
   },
   {
    "duration": 15,
    "start_time": "2023-07-11T12:13:43.185Z"
   },
   {
    "duration": 12,
    "start_time": "2023-07-11T12:13:43.206Z"
   },
   {
    "duration": 314,
    "start_time": "2023-07-11T12:13:43.220Z"
   },
   {
    "duration": 6,
    "start_time": "2023-07-11T12:13:43.536Z"
   },
   {
    "duration": 13,
    "start_time": "2023-07-11T12:13:43.543Z"
   },
   {
    "duration": 14,
    "start_time": "2023-07-11T12:13:43.570Z"
   },
   {
    "duration": 6,
    "start_time": "2023-07-11T12:13:43.588Z"
   },
   {
    "duration": 291,
    "start_time": "2023-07-11T12:13:43.596Z"
   },
   {
    "duration": 4,
    "start_time": "2023-07-11T12:13:43.891Z"
   },
   {
    "duration": 20,
    "start_time": "2023-07-11T12:13:43.900Z"
   },
   {
    "duration": 14,
    "start_time": "2023-07-11T12:13:43.922Z"
   },
   {
    "duration": 30,
    "start_time": "2023-07-11T12:13:43.938Z"
   },
   {
    "duration": 23,
    "start_time": "2023-07-11T12:13:43.970Z"
   },
   {
    "duration": 15,
    "start_time": "2023-07-11T12:13:43.995Z"
   },
   {
    "duration": 17,
    "start_time": "2023-07-11T12:13:44.012Z"
   },
   {
    "duration": 31,
    "start_time": "2023-07-11T12:13:44.031Z"
   },
   {
    "duration": 28,
    "start_time": "2023-07-11T12:13:44.064Z"
   },
   {
    "duration": 29,
    "start_time": "2023-07-11T12:13:44.095Z"
   },
   {
    "duration": 27,
    "start_time": "2023-07-11T12:13:44.126Z"
   },
   {
    "duration": 37,
    "start_time": "2023-07-11T12:13:44.155Z"
   },
   {
    "duration": 37,
    "start_time": "2023-07-11T12:13:44.196Z"
   },
   {
    "duration": 10,
    "start_time": "2023-07-11T12:13:44.235Z"
   },
   {
    "duration": 8,
    "start_time": "2023-07-11T12:13:44.246Z"
   },
   {
    "duration": 18,
    "start_time": "2023-07-11T12:13:44.260Z"
   },
   {
    "duration": 20,
    "start_time": "2023-07-11T12:13:44.280Z"
   },
   {
    "duration": 27,
    "start_time": "2023-07-11T12:13:44.302Z"
   },
   {
    "duration": 31,
    "start_time": "2023-07-11T12:13:44.331Z"
   },
   {
    "duration": 14,
    "start_time": "2023-07-11T12:13:44.364Z"
   },
   {
    "duration": 28,
    "start_time": "2023-07-11T12:13:44.381Z"
   },
   {
    "duration": 19,
    "start_time": "2023-07-11T12:13:44.411Z"
   },
   {
    "duration": 22,
    "start_time": "2023-07-11T12:13:44.432Z"
   },
   {
    "duration": 8,
    "start_time": "2023-07-11T12:13:44.456Z"
   },
   {
    "duration": 33,
    "start_time": "2023-07-11T12:13:44.465Z"
   },
   {
    "duration": 12,
    "start_time": "2023-07-11T12:13:44.500Z"
   },
   {
    "duration": 11,
    "start_time": "2023-07-11T12:13:44.513Z"
   },
   {
    "duration": 15,
    "start_time": "2023-07-11T12:13:44.526Z"
   },
   {
    "duration": 631,
    "start_time": "2023-07-11T12:13:44.543Z"
   },
   {
    "duration": 734,
    "start_time": "2023-07-11T12:13:45.183Z"
   },
   {
    "duration": 936,
    "start_time": "2023-07-11T12:13:45.918Z"
   },
   {
    "duration": 823,
    "start_time": "2023-07-11T12:13:46.856Z"
   },
   {
    "duration": 11,
    "start_time": "2023-07-11T12:13:47.687Z"
   },
   {
    "duration": 624,
    "start_time": "2023-07-11T12:13:47.700Z"
   },
   {
    "duration": 7,
    "start_time": "2023-07-11T12:13:48.325Z"
   },
   {
    "duration": 459,
    "start_time": "2023-07-11T12:13:48.333Z"
   },
   {
    "duration": 8,
    "start_time": "2023-07-11T12:13:48.793Z"
   },
   {
    "duration": 373,
    "start_time": "2023-07-11T12:13:48.803Z"
   },
   {
    "duration": 12,
    "start_time": "2023-07-11T12:13:49.178Z"
   },
   {
    "duration": 381,
    "start_time": "2023-07-11T12:13:49.192Z"
   },
   {
    "duration": 7,
    "start_time": "2023-07-11T12:13:49.577Z"
   },
   {
    "duration": 401,
    "start_time": "2023-07-11T12:13:49.585Z"
   },
   {
    "duration": 14,
    "start_time": "2023-07-11T12:13:49.989Z"
   },
   {
    "duration": 14,
    "start_time": "2023-07-11T12:13:50.005Z"
   },
   {
    "duration": 25,
    "start_time": "2023-07-11T12:13:50.020Z"
   },
   {
    "duration": 33,
    "start_time": "2023-07-11T12:13:50.046Z"
   },
   {
    "duration": 17,
    "start_time": "2023-07-11T12:13:50.082Z"
   },
   {
    "duration": 15,
    "start_time": "2023-07-11T12:13:50.100Z"
   },
   {
    "duration": 33,
    "start_time": "2023-07-11T12:13:50.117Z"
   },
   {
    "duration": 17,
    "start_time": "2023-07-11T12:13:50.152Z"
   },
   {
    "duration": 18,
    "start_time": "2023-07-11T12:13:50.171Z"
   },
   {
    "duration": 10,
    "start_time": "2023-07-11T12:13:50.190Z"
   },
   {
    "duration": 21,
    "start_time": "2023-07-11T12:13:50.202Z"
   },
   {
    "duration": 20,
    "start_time": "2023-07-11T12:13:50.224Z"
   },
   {
    "duration": 21,
    "start_time": "2023-07-11T12:13:50.245Z"
   },
   {
    "duration": 8,
    "start_time": "2023-07-11T12:13:50.281Z"
   },
   {
    "duration": 34,
    "start_time": "2023-07-11T12:13:50.291Z"
   },
   {
    "duration": 958,
    "start_time": "2023-07-11T12:13:50.326Z"
   },
   {
    "duration": 12,
    "start_time": "2023-07-11T12:13:51.286Z"
   },
   {
    "duration": 9,
    "start_time": "2023-07-11T12:13:51.300Z"
   },
   {
    "duration": 171,
    "start_time": "2023-07-11T12:13:51.310Z"
   },
   {
    "duration": 0,
    "start_time": "2023-07-11T12:13:51.485Z"
   },
   {
    "duration": 0,
    "start_time": "2023-07-11T12:13:51.486Z"
   },
   {
    "duration": 0,
    "start_time": "2023-07-11T12:13:51.488Z"
   },
   {
    "duration": 0,
    "start_time": "2023-07-11T12:13:51.489Z"
   },
   {
    "duration": 0,
    "start_time": "2023-07-11T12:13:51.491Z"
   },
   {
    "duration": 0,
    "start_time": "2023-07-11T12:13:51.492Z"
   },
   {
    "duration": 0,
    "start_time": "2023-07-11T12:13:51.493Z"
   },
   {
    "duration": 23,
    "start_time": "2023-07-11T12:15:08.458Z"
   },
   {
    "duration": 15818,
    "start_time": "2023-07-11T14:20:47.028Z"
   },
   {
    "duration": 1035,
    "start_time": "2023-07-11T14:21:08.662Z"
   },
   {
    "duration": 14,
    "start_time": "2023-07-11T14:21:14.639Z"
   },
   {
    "duration": 13,
    "start_time": "2023-07-11T14:21:17.900Z"
   },
   {
    "duration": 5,
    "start_time": "2023-07-11T14:21:23.922Z"
   },
   {
    "duration": 5,
    "start_time": "2023-07-11T14:21:26.040Z"
   },
   {
    "duration": 108,
    "start_time": "2023-07-11T14:21:27.721Z"
   },
   {
    "duration": 2878,
    "start_time": "2023-07-11T14:22:02.337Z"
   },
   {
    "duration": 932,
    "start_time": "2023-07-11T14:22:09.902Z"
   },
   {
    "duration": 13,
    "start_time": "2023-07-11T14:22:15.618Z"
   },
   {
    "duration": 13,
    "start_time": "2023-07-11T14:22:19.190Z"
   },
   {
    "duration": 5,
    "start_time": "2023-07-11T14:22:24.350Z"
   },
   {
    "duration": 6,
    "start_time": "2023-07-11T14:22:27.397Z"
   },
   {
    "duration": 16,
    "start_time": "2023-07-11T14:22:29.207Z"
   },
   {
    "duration": 4267,
    "start_time": "2023-07-11T14:22:37.627Z"
   },
   {
    "duration": 1251,
    "start_time": "2023-07-11T14:22:41.896Z"
   },
   {
    "duration": 10,
    "start_time": "2023-07-11T14:22:43.149Z"
   },
   {
    "duration": 19,
    "start_time": "2023-07-11T14:22:43.161Z"
   },
   {
    "duration": 12,
    "start_time": "2023-07-11T14:22:43.182Z"
   },
   {
    "duration": 11,
    "start_time": "2023-07-11T14:22:43.196Z"
   },
   {
    "duration": 126,
    "start_time": "2023-07-11T14:22:43.208Z"
   },
   {
    "duration": 5,
    "start_time": "2023-07-11T14:22:43.335Z"
   },
   {
    "duration": 13,
    "start_time": "2023-07-11T14:22:43.342Z"
   },
   {
    "duration": 8,
    "start_time": "2023-07-11T14:22:43.357Z"
   },
   {
    "duration": 10,
    "start_time": "2023-07-11T14:22:43.370Z"
   },
   {
    "duration": 122,
    "start_time": "2023-07-11T14:22:43.382Z"
   },
   {
    "duration": 4,
    "start_time": "2023-07-11T14:22:43.506Z"
   },
   {
    "duration": 14,
    "start_time": "2023-07-11T14:22:43.511Z"
   },
   {
    "duration": 10,
    "start_time": "2023-07-11T14:22:43.527Z"
   },
   {
    "duration": 28,
    "start_time": "2023-07-11T14:22:43.539Z"
   },
   {
    "duration": 20,
    "start_time": "2023-07-11T14:22:43.573Z"
   },
   {
    "duration": 14,
    "start_time": "2023-07-11T14:22:43.596Z"
   },
   {
    "duration": 13,
    "start_time": "2023-07-11T14:22:43.612Z"
   },
   {
    "duration": 19,
    "start_time": "2023-07-11T14:22:43.626Z"
   },
   {
    "duration": 12,
    "start_time": "2023-07-11T14:22:43.647Z"
   },
   {
    "duration": 14,
    "start_time": "2023-07-11T14:22:43.661Z"
   },
   {
    "duration": 19,
    "start_time": "2023-07-11T14:22:43.676Z"
   },
   {
    "duration": 8,
    "start_time": "2023-07-11T14:22:43.696Z"
   },
   {
    "duration": 8,
    "start_time": "2023-07-11T14:22:43.705Z"
   },
   {
    "duration": 5,
    "start_time": "2023-07-11T14:22:43.715Z"
   },
   {
    "duration": 9,
    "start_time": "2023-07-11T14:22:43.721Z"
   },
   {
    "duration": 18,
    "start_time": "2023-07-11T14:22:43.734Z"
   },
   {
    "duration": 9,
    "start_time": "2023-07-11T14:22:43.753Z"
   },
   {
    "duration": 6,
    "start_time": "2023-07-11T14:22:43.771Z"
   },
   {
    "duration": 18,
    "start_time": "2023-07-11T14:22:43.778Z"
   },
   {
    "duration": 15,
    "start_time": "2023-07-11T14:22:43.797Z"
   },
   {
    "duration": 7,
    "start_time": "2023-07-11T14:22:43.813Z"
   },
   {
    "duration": 9,
    "start_time": "2023-07-11T14:22:43.821Z"
   },
   {
    "duration": 5,
    "start_time": "2023-07-11T14:22:43.832Z"
   },
   {
    "duration": 32,
    "start_time": "2023-07-11T14:22:43.839Z"
   },
   {
    "duration": 7,
    "start_time": "2023-07-11T14:22:43.872Z"
   },
   {
    "duration": 7,
    "start_time": "2023-07-11T14:22:43.881Z"
   },
   {
    "duration": 12,
    "start_time": "2023-07-11T14:22:43.889Z"
   },
   {
    "duration": 16,
    "start_time": "2023-07-11T14:22:43.902Z"
   },
   {
    "duration": 398,
    "start_time": "2023-07-11T14:22:43.920Z"
   },
   {
    "duration": 554,
    "start_time": "2023-07-11T14:22:44.319Z"
   },
   {
    "duration": 503,
    "start_time": "2023-07-11T14:22:44.875Z"
   },
   {
    "duration": 476,
    "start_time": "2023-07-11T14:22:45.380Z"
   },
   {
    "duration": 13,
    "start_time": "2023-07-11T14:22:45.858Z"
   },
   {
    "duration": 647,
    "start_time": "2023-07-11T14:22:45.872Z"
   },
   {
    "duration": 9,
    "start_time": "2023-07-11T14:22:46.521Z"
   },
   {
    "duration": 507,
    "start_time": "2023-07-11T14:22:46.532Z"
   },
   {
    "duration": 7,
    "start_time": "2023-07-11T14:22:47.041Z"
   },
   {
    "duration": 354,
    "start_time": "2023-07-11T14:22:47.049Z"
   },
   {
    "duration": 7,
    "start_time": "2023-07-11T14:22:47.404Z"
   },
   {
    "duration": 463,
    "start_time": "2023-07-11T14:22:47.412Z"
   },
   {
    "duration": 7,
    "start_time": "2023-07-11T14:22:47.877Z"
   },
   {
    "duration": 327,
    "start_time": "2023-07-11T14:22:47.886Z"
   },
   {
    "duration": 11,
    "start_time": "2023-07-11T14:22:48.214Z"
   },
   {
    "duration": 38,
    "start_time": "2023-07-11T14:22:48.227Z"
   },
   {
    "duration": 35,
    "start_time": "2023-07-11T14:22:48.267Z"
   },
   {
    "duration": 28,
    "start_time": "2023-07-11T14:22:48.303Z"
   },
   {
    "duration": 37,
    "start_time": "2023-07-11T14:22:48.333Z"
   },
   {
    "duration": 37,
    "start_time": "2023-07-11T14:22:48.372Z"
   },
   {
    "duration": 11,
    "start_time": "2023-07-11T14:22:48.411Z"
   },
   {
    "duration": 41,
    "start_time": "2023-07-11T14:22:48.423Z"
   },
   {
    "duration": 29,
    "start_time": "2023-07-11T14:22:48.466Z"
   },
   {
    "duration": 21,
    "start_time": "2023-07-11T14:22:48.497Z"
   },
   {
    "duration": 28,
    "start_time": "2023-07-11T14:22:48.520Z"
   },
   {
    "duration": 32,
    "start_time": "2023-07-11T14:22:48.550Z"
   },
   {
    "duration": 34,
    "start_time": "2023-07-11T14:22:48.584Z"
   },
   {
    "duration": 14,
    "start_time": "2023-07-11T14:22:48.620Z"
   },
   {
    "duration": 31,
    "start_time": "2023-07-11T14:22:48.636Z"
   },
   {
    "duration": 1694,
    "start_time": "2023-07-11T14:22:48.669Z"
   },
   {
    "duration": 11,
    "start_time": "2023-07-11T14:22:50.364Z"
   },
   {
    "duration": 20,
    "start_time": "2023-07-11T14:22:50.377Z"
   },
   {
    "duration": 138,
    "start_time": "2023-07-11T14:22:50.399Z"
   },
   {
    "duration": 0,
    "start_time": "2023-07-11T14:22:50.538Z"
   },
   {
    "duration": 0,
    "start_time": "2023-07-11T14:22:50.540Z"
   },
   {
    "duration": 0,
    "start_time": "2023-07-11T14:22:50.541Z"
   },
   {
    "duration": 0,
    "start_time": "2023-07-11T14:22:50.542Z"
   },
   {
    "duration": 0,
    "start_time": "2023-07-11T14:22:50.543Z"
   },
   {
    "duration": 0,
    "start_time": "2023-07-11T14:22:50.545Z"
   },
   {
    "duration": 0,
    "start_time": "2023-07-11T14:22:50.547Z"
   },
   {
    "duration": 0,
    "start_time": "2023-07-11T14:22:50.548Z"
   },
   {
    "duration": 3005,
    "start_time": "2023-07-11T14:23:25.025Z"
   },
   {
    "duration": 1378,
    "start_time": "2023-07-11T14:23:31.308Z"
   },
   {
    "duration": 11,
    "start_time": "2023-07-11T14:23:35.730Z"
   },
   {
    "duration": 13,
    "start_time": "2023-07-11T14:23:37.671Z"
   },
   {
    "duration": 5,
    "start_time": "2023-07-11T14:23:40.160Z"
   },
   {
    "duration": 5,
    "start_time": "2023-07-11T14:23:43.129Z"
   },
   {
    "duration": 113,
    "start_time": "2023-07-11T14:23:44.343Z"
   },
   {
    "duration": 6,
    "start_time": "2023-07-11T14:23:46.424Z"
   },
   {
    "duration": 5,
    "start_time": "2023-07-11T14:23:47.722Z"
   },
   {
    "duration": 4,
    "start_time": "2023-07-11T14:23:49.695Z"
   },
   {
    "duration": 5,
    "start_time": "2023-07-11T14:23:51.046Z"
   },
   {
    "duration": 110,
    "start_time": "2023-07-11T14:23:52.193Z"
   },
   {
    "duration": 4,
    "start_time": "2023-07-11T14:23:54.003Z"
   },
   {
    "duration": 12,
    "start_time": "2023-07-11T14:23:56.108Z"
   },
   {
    "duration": 11,
    "start_time": "2023-07-11T14:23:57.552Z"
   },
   {
    "duration": 12,
    "start_time": "2023-07-11T14:23:59.591Z"
   },
   {
    "duration": 11,
    "start_time": "2023-07-11T14:24:01.148Z"
   },
   {
    "duration": 11,
    "start_time": "2023-07-11T14:24:02.798Z"
   },
   {
    "duration": 11,
    "start_time": "2023-07-11T14:24:04.080Z"
   },
   {
    "duration": 12,
    "start_time": "2023-07-11T14:24:05.652Z"
   },
   {
    "duration": 11,
    "start_time": "2023-07-11T14:24:07.273Z"
   },
   {
    "duration": 13,
    "start_time": "2023-07-11T14:24:08.901Z"
   },
   {
    "duration": 11,
    "start_time": "2023-07-11T14:24:10.340Z"
   },
   {
    "duration": 8,
    "start_time": "2023-07-11T14:24:11.517Z"
   },
   {
    "duration": 7,
    "start_time": "2023-07-11T14:24:13.492Z"
   },
   {
    "duration": 6,
    "start_time": "2023-07-11T14:24:15.790Z"
   },
   {
    "duration": 10,
    "start_time": "2023-07-11T14:24:26.922Z"
   },
   {
    "duration": 10,
    "start_time": "2023-07-11T14:24:29.119Z"
   },
   {
    "duration": 6,
    "start_time": "2023-07-11T14:24:30.706Z"
   },
   {
    "duration": 15,
    "start_time": "2023-07-11T14:24:34.634Z"
   },
   {
    "duration": 9,
    "start_time": "2023-07-11T14:24:36.961Z"
   },
   {
    "duration": 10,
    "start_time": "2023-07-11T14:24:38.846Z"
   },
   {
    "duration": 9,
    "start_time": "2023-07-11T14:24:44.645Z"
   },
   {
    "duration": 19,
    "start_time": "2023-07-11T14:26:05.838Z"
   },
   {
    "duration": 7,
    "start_time": "2023-07-11T14:26:51.317Z"
   },
   {
    "duration": 6,
    "start_time": "2023-07-11T14:26:57.989Z"
   },
   {
    "duration": 2869,
    "start_time": "2023-07-11T14:27:15.385Z"
   },
   {
    "duration": 1036,
    "start_time": "2023-07-11T14:27:18.997Z"
   },
   {
    "duration": 10,
    "start_time": "2023-07-11T14:27:22.500Z"
   },
   {
    "duration": 13,
    "start_time": "2023-07-11T14:27:24.285Z"
   },
   {
    "duration": 4,
    "start_time": "2023-07-11T14:27:27.306Z"
   },
   {
    "duration": 5,
    "start_time": "2023-07-11T14:27:28.854Z"
   },
   {
    "duration": 108,
    "start_time": "2023-07-11T14:27:30.034Z"
   },
   {
    "duration": 5,
    "start_time": "2023-07-11T14:27:32.789Z"
   },
   {
    "duration": 4,
    "start_time": "2023-07-11T14:27:34.355Z"
   },
   {
    "duration": 5,
    "start_time": "2023-07-11T14:27:36.020Z"
   },
   {
    "duration": 5,
    "start_time": "2023-07-11T14:27:37.450Z"
   },
   {
    "duration": 100,
    "start_time": "2023-07-11T14:27:39.055Z"
   },
   {
    "duration": 4,
    "start_time": "2023-07-11T14:27:40.904Z"
   },
   {
    "duration": 12,
    "start_time": "2023-07-11T14:27:42.256Z"
   },
   {
    "duration": 11,
    "start_time": "2023-07-11T14:27:43.602Z"
   },
   {
    "duration": 11,
    "start_time": "2023-07-11T14:27:45.140Z"
   },
   {
    "duration": 14,
    "start_time": "2023-07-11T14:27:46.298Z"
   },
   {
    "duration": 14,
    "start_time": "2023-07-11T14:27:48.839Z"
   },
   {
    "duration": 11,
    "start_time": "2023-07-11T14:27:50.304Z"
   },
   {
    "duration": 12,
    "start_time": "2023-07-11T14:27:51.994Z"
   },
   {
    "duration": 11,
    "start_time": "2023-07-11T14:27:53.309Z"
   },
   {
    "duration": 11,
    "start_time": "2023-07-11T14:27:54.735Z"
   },
   {
    "duration": 13,
    "start_time": "2023-07-11T14:27:56.355Z"
   },
   {
    "duration": 8,
    "start_time": "2023-07-11T14:27:57.847Z"
   },
   {
    "duration": 7,
    "start_time": "2023-07-11T14:27:59.751Z"
   },
   {
    "duration": 4,
    "start_time": "2023-07-11T14:28:03.086Z"
   },
   {
    "duration": 9,
    "start_time": "2023-07-11T14:28:05.827Z"
   },
   {
    "duration": 9,
    "start_time": "2023-07-11T14:28:08.522Z"
   },
   {
    "duration": 8,
    "start_time": "2023-07-11T14:28:10.345Z"
   },
   {
    "duration": 14,
    "start_time": "2023-07-11T14:28:14.283Z"
   },
   {
    "duration": 7,
    "start_time": "2023-07-11T14:28:17.316Z"
   },
   {
    "duration": 5,
    "start_time": "2023-07-11T14:28:18.590Z"
   },
   {
    "duration": 19,
    "start_time": "2023-07-11T14:28:25.497Z"
   },
   {
    "duration": 9,
    "start_time": "2023-07-11T14:28:33.731Z"
   },
   {
    "duration": 12,
    "start_time": "2023-07-11T14:28:46.517Z"
   },
   {
    "duration": 6,
    "start_time": "2023-07-11T14:28:53.235Z"
   },
   {
    "duration": 6,
    "start_time": "2023-07-11T14:28:57.601Z"
   },
   {
    "duration": 2795,
    "start_time": "2023-07-11T14:29:13.930Z"
   },
   {
    "duration": 1070,
    "start_time": "2023-07-11T14:29:18.461Z"
   },
   {
    "duration": 10,
    "start_time": "2023-07-11T14:29:22.100Z"
   },
   {
    "duration": 12,
    "start_time": "2023-07-11T14:29:23.958Z"
   },
   {
    "duration": 6,
    "start_time": "2023-07-11T14:29:26.793Z"
   },
   {
    "duration": 5,
    "start_time": "2023-07-11T14:29:27.990Z"
   },
   {
    "duration": 104,
    "start_time": "2023-07-11T14:29:29.305Z"
   },
   {
    "duration": 5,
    "start_time": "2023-07-11T14:29:31.302Z"
   },
   {
    "duration": 5,
    "start_time": "2023-07-11T14:29:32.546Z"
   },
   {
    "duration": 5,
    "start_time": "2023-07-11T14:29:34.109Z"
   },
   {
    "duration": 4,
    "start_time": "2023-07-11T14:29:35.255Z"
   },
   {
    "duration": 109,
    "start_time": "2023-07-11T14:29:36.801Z"
   },
   {
    "duration": 4,
    "start_time": "2023-07-11T14:29:38.409Z"
   },
   {
    "duration": 11,
    "start_time": "2023-07-11T14:29:39.436Z"
   },
   {
    "duration": 11,
    "start_time": "2023-07-11T14:29:40.833Z"
   },
   {
    "duration": 11,
    "start_time": "2023-07-11T14:29:42.203Z"
   },
   {
    "duration": 12,
    "start_time": "2023-07-11T14:29:43.556Z"
   },
   {
    "duration": 12,
    "start_time": "2023-07-11T14:29:44.898Z"
   },
   {
    "duration": 11,
    "start_time": "2023-07-11T14:29:46.193Z"
   },
   {
    "duration": 11,
    "start_time": "2023-07-11T14:29:47.603Z"
   },
   {
    "duration": 11,
    "start_time": "2023-07-11T14:29:48.917Z"
   },
   {
    "duration": 12,
    "start_time": "2023-07-11T14:29:50.261Z"
   },
   {
    "duration": 11,
    "start_time": "2023-07-11T14:29:51.554Z"
   },
   {
    "duration": 7,
    "start_time": "2023-07-11T14:29:53.301Z"
   },
   {
    "duration": 7,
    "start_time": "2023-07-11T14:29:56.075Z"
   },
   {
    "duration": 5,
    "start_time": "2023-07-11T14:29:57.700Z"
   },
   {
    "duration": 10,
    "start_time": "2023-07-11T14:30:00.598Z"
   },
   {
    "duration": 9,
    "start_time": "2023-07-11T14:30:02.914Z"
   },
   {
    "duration": 6,
    "start_time": "2023-07-11T14:30:04.516Z"
   },
   {
    "duration": 15,
    "start_time": "2023-07-11T14:30:06.309Z"
   },
   {
    "duration": 8,
    "start_time": "2023-07-11T14:30:08.922Z"
   },
   {
    "duration": 5,
    "start_time": "2023-07-11T14:30:11.504Z"
   },
   {
    "duration": 9,
    "start_time": "2023-07-11T14:30:13.677Z"
   },
   {
    "duration": 9,
    "start_time": "2023-07-11T14:30:15.985Z"
   },
   {
    "duration": 8,
    "start_time": "2023-07-11T14:30:24.713Z"
   },
   {
    "duration": 6,
    "start_time": "2023-07-11T14:30:31.250Z"
   },
   {
    "duration": 7,
    "start_time": "2023-07-11T14:30:32.398Z"
   },
   {
    "duration": 8,
    "start_time": "2023-07-11T14:30:36.597Z"
   },
   {
    "duration": 4,
    "start_time": "2023-07-11T14:30:45.193Z"
   },
   {
    "duration": 14,
    "start_time": "2023-07-11T14:30:48.122Z"
   },
   {
    "duration": 499,
    "start_time": "2023-07-11T14:30:59.233Z"
   },
   {
    "duration": 471,
    "start_time": "2023-07-11T14:31:02.437Z"
   },
   {
    "duration": 491,
    "start_time": "2023-07-11T14:31:08.557Z"
   },
   {
    "duration": 399,
    "start_time": "2023-07-11T14:32:44.632Z"
   },
   {
    "duration": 574,
    "start_time": "2023-07-11T14:33:29.558Z"
   },
   {
    "duration": 12,
    "start_time": "2023-07-11T14:36:17.085Z"
   },
   {
    "duration": 400,
    "start_time": "2023-07-11T14:37:13.097Z"
   },
   {
    "duration": 468,
    "start_time": "2023-07-11T14:37:23.342Z"
   },
   {
    "duration": 906,
    "start_time": "2023-07-11T14:37:27.133Z"
   },
   {
    "duration": 1055,
    "start_time": "2023-07-11T14:37:31.854Z"
   },
   {
    "duration": 2034,
    "start_time": "2023-07-11T14:37:36.203Z"
   },
   {
    "duration": 5,
    "start_time": "2023-07-11T14:37:57.752Z"
   },
   {
    "duration": 5,
    "start_time": "2023-07-11T14:38:12.268Z"
   },
   {
    "duration": 1792,
    "start_time": "2023-07-11T14:38:21.886Z"
   },
   {
    "duration": 1902,
    "start_time": "2023-07-11T14:38:37.291Z"
   },
   {
    "duration": 2080,
    "start_time": "2023-07-11T14:38:53.091Z"
   },
   {
    "duration": 8,
    "start_time": "2023-07-11T14:43:08.645Z"
   },
   {
    "duration": 610,
    "start_time": "2023-07-11T14:43:14.092Z"
   },
   {
    "duration": 7,
    "start_time": "2023-07-11T14:43:21.631Z"
   },
   {
    "duration": 417,
    "start_time": "2023-07-11T14:43:26.617Z"
   },
   {
    "duration": 7,
    "start_time": "2023-07-11T14:44:21.331Z"
   },
   {
    "duration": 337,
    "start_time": "2023-07-11T14:44:23.485Z"
   },
   {
    "duration": 7,
    "start_time": "2023-07-11T14:44:28.023Z"
   },
   {
    "duration": 349,
    "start_time": "2023-07-11T14:44:29.753Z"
   },
   {
    "duration": 7,
    "start_time": "2023-07-11T14:44:34.455Z"
   },
   {
    "duration": 316,
    "start_time": "2023-07-11T14:44:36.488Z"
   },
   {
    "duration": 10,
    "start_time": "2023-07-11T14:44:40.782Z"
   },
   {
    "duration": 11,
    "start_time": "2023-07-11T14:44:45.993Z"
   },
   {
    "duration": 11,
    "start_time": "2023-07-11T14:44:47.746Z"
   },
   {
    "duration": 13,
    "start_time": "2023-07-11T14:44:49.234Z"
   },
   {
    "duration": 12,
    "start_time": "2023-07-11T14:44:51.613Z"
   },
   {
    "duration": 11,
    "start_time": "2023-07-11T14:44:52.718Z"
   },
   {
    "duration": 12,
    "start_time": "2023-07-11T14:44:53.925Z"
   },
   {
    "duration": 12,
    "start_time": "2023-07-11T14:44:55.694Z"
   },
   {
    "duration": 11,
    "start_time": "2023-07-11T14:45:00.138Z"
   },
   {
    "duration": 10,
    "start_time": "2023-07-11T14:45:04.153Z"
   },
   {
    "duration": 11,
    "start_time": "2023-07-11T14:45:05.782Z"
   },
   {
    "duration": 7,
    "start_time": "2023-07-11T14:45:07.047Z"
   },
   {
    "duration": 11,
    "start_time": "2023-07-11T14:45:17.241Z"
   },
   {
    "duration": 7,
    "start_time": "2023-07-11T14:46:44.142Z"
   },
   {
    "duration": 20,
    "start_time": "2023-07-11T14:46:45.252Z"
   },
   {
    "duration": 1173,
    "start_time": "2023-07-11T14:47:23.710Z"
   },
   {
    "duration": 2991,
    "start_time": "2023-07-11T14:47:42.761Z"
   },
   {
    "duration": 1239,
    "start_time": "2023-07-11T14:47:46.314Z"
   },
   {
    "duration": 10,
    "start_time": "2023-07-11T14:47:51.338Z"
   },
   {
    "duration": 13,
    "start_time": "2023-07-11T14:47:53.294Z"
   },
   {
    "duration": 5,
    "start_time": "2023-07-11T14:47:56.142Z"
   },
   {
    "duration": 4,
    "start_time": "2023-07-11T14:47:57.388Z"
   },
   {
    "duration": 109,
    "start_time": "2023-07-11T14:47:58.988Z"
   },
   {
    "duration": 5,
    "start_time": "2023-07-11T14:48:01.013Z"
   },
   {
    "duration": 5,
    "start_time": "2023-07-11T14:48:08.156Z"
   },
   {
    "duration": 5,
    "start_time": "2023-07-11T14:48:11.051Z"
   },
   {
    "duration": 5,
    "start_time": "2023-07-11T14:48:12.285Z"
   },
   {
    "duration": 109,
    "start_time": "2023-07-11T14:48:13.491Z"
   },
   {
    "duration": 4,
    "start_time": "2023-07-11T14:48:15.487Z"
   },
   {
    "duration": 11,
    "start_time": "2023-07-11T14:48:16.925Z"
   },
   {
    "duration": 11,
    "start_time": "2023-07-11T14:48:18.050Z"
   },
   {
    "duration": 11,
    "start_time": "2023-07-11T14:48:20.881Z"
   },
   {
    "duration": 12,
    "start_time": "2023-07-11T14:48:22.010Z"
   },
   {
    "duration": 11,
    "start_time": "2023-07-11T14:48:23.605Z"
   },
   {
    "duration": 11,
    "start_time": "2023-07-11T14:48:25.292Z"
   },
   {
    "duration": 13,
    "start_time": "2023-07-11T14:48:26.704Z"
   },
   {
    "duration": 12,
    "start_time": "2023-07-11T14:48:29.095Z"
   },
   {
    "duration": 12,
    "start_time": "2023-07-11T14:48:30.202Z"
   },
   {
    "duration": 12,
    "start_time": "2023-07-11T14:48:31.735Z"
   },
   {
    "duration": 7,
    "start_time": "2023-07-11T14:48:34.580Z"
   },
   {
    "duration": 9,
    "start_time": "2023-07-11T14:48:36.534Z"
   },
   {
    "duration": 5,
    "start_time": "2023-07-11T14:48:38.878Z"
   },
   {
    "duration": 10,
    "start_time": "2023-07-11T14:48:41.128Z"
   },
   {
    "duration": 11,
    "start_time": "2023-07-11T14:48:43.388Z"
   },
   {
    "duration": 6,
    "start_time": "2023-07-11T14:48:45.101Z"
   },
   {
    "duration": 20,
    "start_time": "2023-07-11T14:48:47.144Z"
   },
   {
    "duration": 9,
    "start_time": "2023-07-11T14:48:49.230Z"
   },
   {
    "duration": 6,
    "start_time": "2023-07-11T14:48:50.785Z"
   },
   {
    "duration": 9,
    "start_time": "2023-07-11T14:48:52.597Z"
   },
   {
    "duration": 8,
    "start_time": "2023-07-11T14:48:54.254Z"
   },
   {
    "duration": 7,
    "start_time": "2023-07-11T14:48:55.787Z"
   },
   {
    "duration": 6,
    "start_time": "2023-07-11T14:48:58.452Z"
   },
   {
    "duration": 6,
    "start_time": "2023-07-11T14:48:59.548Z"
   },
   {
    "duration": 9,
    "start_time": "2023-07-11T14:49:01.393Z"
   },
   {
    "duration": 4,
    "start_time": "2023-07-11T14:49:04.207Z"
   },
   {
    "duration": 15,
    "start_time": "2023-07-11T14:49:06.101Z"
   },
   {
    "duration": 381,
    "start_time": "2023-07-11T14:49:08.193Z"
   },
   {
    "duration": 492,
    "start_time": "2023-07-11T14:49:10.187Z"
   },
   {
    "duration": 469,
    "start_time": "2023-07-11T14:49:14.351Z"
   },
   {
    "duration": 6,
    "start_time": "2023-07-11T14:49:16.839Z"
   },
   {
    "duration": 2067,
    "start_time": "2023-07-11T14:49:18.255Z"
   },
   {
    "duration": 7,
    "start_time": "2023-07-11T14:49:23.006Z"
   },
   {
    "duration": 578,
    "start_time": "2023-07-11T14:49:25.718Z"
   },
   {
    "duration": 7,
    "start_time": "2023-07-11T14:49:27.922Z"
   },
   {
    "duration": 392,
    "start_time": "2023-07-11T14:49:30.287Z"
   },
   {
    "duration": 8,
    "start_time": "2023-07-11T14:49:32.530Z"
   },
   {
    "duration": 291,
    "start_time": "2023-07-11T14:49:34.307Z"
   },
   {
    "duration": 7,
    "start_time": "2023-07-11T14:49:35.888Z"
   },
   {
    "duration": 330,
    "start_time": "2023-07-11T14:49:37.156Z"
   },
   {
    "duration": 7,
    "start_time": "2023-07-11T14:49:38.535Z"
   },
   {
    "duration": 290,
    "start_time": "2023-07-11T14:49:40.038Z"
   },
   {
    "duration": 11,
    "start_time": "2023-07-11T14:49:43.637Z"
   },
   {
    "duration": 9,
    "start_time": "2023-07-11T14:49:44.638Z"
   },
   {
    "duration": 11,
    "start_time": "2023-07-11T14:49:46.128Z"
   },
   {
    "duration": 12,
    "start_time": "2023-07-11T14:49:47.124Z"
   },
   {
    "duration": 12,
    "start_time": "2023-07-11T14:49:49.101Z"
   },
   {
    "duration": 11,
    "start_time": "2023-07-11T14:49:50.531Z"
   },
   {
    "duration": 10,
    "start_time": "2023-07-11T14:49:52.862Z"
   },
   {
    "duration": 14,
    "start_time": "2023-07-11T14:49:54.804Z"
   },
   {
    "duration": 14,
    "start_time": "2023-07-11T14:49:56.648Z"
   },
   {
    "duration": 10,
    "start_time": "2023-07-11T14:49:57.843Z"
   },
   {
    "duration": 11,
    "start_time": "2023-07-11T14:49:59.332Z"
   },
   {
    "duration": 9,
    "start_time": "2023-07-11T14:50:00.518Z"
   },
   {
    "duration": 12,
    "start_time": "2023-07-11T14:50:03.734Z"
   },
   {
    "duration": 22,
    "start_time": "2023-07-11T14:50:19.442Z"
   },
   {
    "duration": 21,
    "start_time": "2023-07-11T14:50:37.288Z"
   },
   {
    "duration": 18,
    "start_time": "2023-07-11T14:50:55.315Z"
   },
   {
    "duration": 16,
    "start_time": "2023-07-11T14:51:01.200Z"
   },
   {
    "duration": 19,
    "start_time": "2023-07-11T14:51:25.860Z"
   },
   {
    "duration": 16,
    "start_time": "2023-07-11T14:51:42.724Z"
   },
   {
    "duration": 21,
    "start_time": "2023-07-11T14:51:57.188Z"
   },
   {
    "duration": 12,
    "start_time": "2023-07-11T14:52:15.860Z"
   },
   {
    "duration": 13,
    "start_time": "2023-07-11T14:53:50.810Z"
   },
   {
    "duration": 6,
    "start_time": "2023-07-11T14:54:54.749Z"
   },
   {
    "duration": 18,
    "start_time": "2023-07-11T14:54:58.520Z"
   },
   {
    "duration": 22,
    "start_time": "2023-07-11T14:55:15.243Z"
   },
   {
    "duration": 33,
    "start_time": "2023-07-11T14:55:36.556Z"
   },
   {
    "duration": 22,
    "start_time": "2023-07-11T14:56:28.687Z"
   },
   {
    "duration": 26,
    "start_time": "2023-07-11T14:56:46.445Z"
   },
   {
    "duration": 21,
    "start_time": "2023-07-11T14:57:12.186Z"
   },
   {
    "duration": 17,
    "start_time": "2023-07-11T14:57:34.528Z"
   },
   {
    "duration": 19,
    "start_time": "2023-07-11T14:57:46.846Z"
   },
   {
    "duration": 2999,
    "start_time": "2023-07-11T14:58:16.134Z"
   },
   {
    "duration": 1134,
    "start_time": "2023-07-11T14:58:21.444Z"
   },
   {
    "duration": 10,
    "start_time": "2023-07-11T14:58:25.297Z"
   },
   {
    "duration": 14,
    "start_time": "2023-07-11T14:58:27.405Z"
   },
   {
    "duration": 4,
    "start_time": "2023-07-11T14:58:30.996Z"
   },
   {
    "duration": 5,
    "start_time": "2023-07-11T14:58:32.506Z"
   },
   {
    "duration": 115,
    "start_time": "2023-07-11T14:58:37.081Z"
   },
   {
    "duration": 5,
    "start_time": "2023-07-11T14:58:38.697Z"
   },
   {
    "duration": 5,
    "start_time": "2023-07-11T14:58:40.251Z"
   },
   {
    "duration": 5,
    "start_time": "2023-07-11T14:58:42.491Z"
   },
   {
    "duration": 4,
    "start_time": "2023-07-11T14:58:43.884Z"
   },
   {
    "duration": 111,
    "start_time": "2023-07-11T14:58:45.273Z"
   },
   {
    "duration": 4,
    "start_time": "2023-07-11T14:58:47.214Z"
   },
   {
    "duration": 11,
    "start_time": "2023-07-11T14:58:48.288Z"
   },
   {
    "duration": 11,
    "start_time": "2023-07-11T14:58:49.792Z"
   },
   {
    "duration": 11,
    "start_time": "2023-07-11T14:58:51.418Z"
   },
   {
    "duration": 12,
    "start_time": "2023-07-11T14:58:52.518Z"
   },
   {
    "duration": 12,
    "start_time": "2023-07-11T14:58:54.180Z"
   },
   {
    "duration": 11,
    "start_time": "2023-07-11T14:58:55.391Z"
   },
   {
    "duration": 11,
    "start_time": "2023-07-11T14:58:57.434Z"
   },
   {
    "duration": 16,
    "start_time": "2023-07-11T14:58:58.439Z"
   },
   {
    "duration": 11,
    "start_time": "2023-07-11T14:58:59.489Z"
   },
   {
    "duration": 11,
    "start_time": "2023-07-11T14:59:00.966Z"
   },
   {
    "duration": 7,
    "start_time": "2023-07-11T14:59:02.145Z"
   },
   {
    "duration": 8,
    "start_time": "2023-07-11T14:59:04.161Z"
   },
   {
    "duration": 5,
    "start_time": "2023-07-11T14:59:06.308Z"
   },
   {
    "duration": 9,
    "start_time": "2023-07-11T14:59:09.692Z"
   },
   {
    "duration": 10,
    "start_time": "2023-07-11T14:59:12.531Z"
   },
   {
    "duration": 6,
    "start_time": "2023-07-11T14:59:14.250Z"
   },
   {
    "duration": 14,
    "start_time": "2023-07-11T14:59:16.142Z"
   },
   {
    "duration": 8,
    "start_time": "2023-07-11T14:59:18.587Z"
   },
   {
    "duration": 6,
    "start_time": "2023-07-11T14:59:20.379Z"
   },
   {
    "duration": 8,
    "start_time": "2023-07-11T14:59:21.783Z"
   },
   {
    "duration": 8,
    "start_time": "2023-07-11T14:59:23.644Z"
   },
   {
    "duration": 6,
    "start_time": "2023-07-11T14:59:25.204Z"
   },
   {
    "duration": 6,
    "start_time": "2023-07-11T14:59:27.551Z"
   },
   {
    "duration": 7,
    "start_time": "2023-07-11T14:59:28.793Z"
   },
   {
    "duration": 8,
    "start_time": "2023-07-11T14:59:31.597Z"
   },
   {
    "duration": 4,
    "start_time": "2023-07-11T14:59:34.540Z"
   },
   {
    "duration": 14,
    "start_time": "2023-07-11T14:59:36.503Z"
   },
   {
    "duration": 414,
    "start_time": "2023-07-11T14:59:38.412Z"
   },
   {
    "duration": 650,
    "start_time": "2023-07-11T14:59:40.710Z"
   },
   {
    "duration": 479,
    "start_time": "2023-07-11T14:59:43.046Z"
   },
   {
    "duration": 4,
    "start_time": "2023-07-11T14:59:45.087Z"
   },
   {
    "duration": 1845,
    "start_time": "2023-07-11T14:59:47.094Z"
   },
   {
    "duration": 7,
    "start_time": "2023-07-11T14:59:52.581Z"
   },
   {
    "duration": 595,
    "start_time": "2023-07-11T14:59:54.001Z"
   },
   {
    "duration": 9,
    "start_time": "2023-07-11T14:59:56.321Z"
   },
   {
    "duration": 390,
    "start_time": "2023-07-11T14:59:57.688Z"
   },
   {
    "duration": 7,
    "start_time": "2023-07-11T15:00:00.145Z"
   },
   {
    "duration": 288,
    "start_time": "2023-07-11T15:00:01.623Z"
   },
   {
    "duration": 7,
    "start_time": "2023-07-11T15:00:03.308Z"
   },
   {
    "duration": 496,
    "start_time": "2023-07-11T15:00:04.725Z"
   },
   {
    "duration": 7,
    "start_time": "2023-07-11T15:00:06.831Z"
   },
   {
    "duration": 315,
    "start_time": "2023-07-11T15:00:08.381Z"
   },
   {
    "duration": 11,
    "start_time": "2023-07-11T15:00:12.502Z"
   },
   {
    "duration": 10,
    "start_time": "2023-07-11T15:00:15.307Z"
   },
   {
    "duration": 17,
    "start_time": "2023-07-11T15:00:16.354Z"
   },
   {
    "duration": 11,
    "start_time": "2023-07-11T15:00:17.793Z"
   },
   {
    "duration": 14,
    "start_time": "2023-07-11T15:00:18.842Z"
   },
   {
    "duration": 12,
    "start_time": "2023-07-11T15:00:20.284Z"
   },
   {
    "duration": 12,
    "start_time": "2023-07-11T15:00:21.351Z"
   },
   {
    "duration": 12,
    "start_time": "2023-07-11T15:00:23.727Z"
   },
   {
    "duration": 11,
    "start_time": "2023-07-11T15:00:24.719Z"
   },
   {
    "duration": 11,
    "start_time": "2023-07-11T15:00:29.173Z"
   },
   {
    "duration": 11,
    "start_time": "2023-07-11T15:00:30.689Z"
   },
   {
    "duration": 8,
    "start_time": "2023-07-11T15:00:31.783Z"
   },
   {
    "duration": 11,
    "start_time": "2023-07-11T15:00:34.315Z"
   },
   {
    "duration": 22,
    "start_time": "2023-07-11T15:00:35.712Z"
   },
   {
    "duration": 18,
    "start_time": "2023-07-11T15:00:45.114Z"
   },
   {
    "duration": 7,
    "start_time": "2023-07-11T15:00:54.193Z"
   },
   {
    "duration": 17,
    "start_time": "2023-07-11T15:00:57.631Z"
   },
   {
    "duration": 18,
    "start_time": "2023-07-11T15:01:25.802Z"
   },
   {
    "duration": 18,
    "start_time": "2023-07-11T15:01:31.755Z"
   },
   {
    "duration": 1532,
    "start_time": "2023-07-11T15:01:39.691Z"
   },
   {
    "duration": 1580,
    "start_time": "2023-07-11T15:01:44.849Z"
   },
   {
    "duration": 10,
    "start_time": "2023-07-11T15:02:09.352Z"
   },
   {
    "duration": 10,
    "start_time": "2023-07-11T15:02:12.554Z"
   },
   {
    "duration": 17,
    "start_time": "2023-07-11T15:02:16.681Z"
   },
   {
    "duration": 8,
    "start_time": "2023-07-11T15:02:20.692Z"
   },
   {
    "duration": 17,
    "start_time": "2023-07-11T15:02:23.189Z"
   },
   {
    "duration": 8,
    "start_time": "2023-07-11T15:02:25.411Z"
   },
   {
    "duration": 15,
    "start_time": "2023-07-11T15:02:27.212Z"
   },
   {
    "duration": 8,
    "start_time": "2023-07-11T15:02:28.923Z"
   },
   {
    "duration": 16,
    "start_time": "2023-07-11T15:02:30.454Z"
   },
   {
    "duration": 8,
    "start_time": "2023-07-11T15:02:32.686Z"
   },
   {
    "duration": 2833,
    "start_time": "2023-07-11T15:52:49.251Z"
   },
   {
    "duration": 1335,
    "start_time": "2023-07-11T15:52:53.824Z"
   },
   {
    "duration": 11,
    "start_time": "2023-07-11T15:52:58.756Z"
   },
   {
    "duration": 13,
    "start_time": "2023-07-11T15:53:01.671Z"
   },
   {
    "duration": 5,
    "start_time": "2023-07-11T15:53:04.208Z"
   },
   {
    "duration": 6,
    "start_time": "2023-07-11T15:53:06.058Z"
   },
   {
    "duration": 118,
    "start_time": "2023-07-11T15:53:08.143Z"
   },
   {
    "duration": 6,
    "start_time": "2023-07-11T15:53:09.699Z"
   },
   {
    "duration": 5,
    "start_time": "2023-07-11T15:53:11.129Z"
   },
   {
    "duration": 5,
    "start_time": "2023-07-11T15:53:12.722Z"
   },
   {
    "duration": 5,
    "start_time": "2023-07-11T15:53:14.093Z"
   },
   {
    "duration": 112,
    "start_time": "2023-07-11T15:53:15.475Z"
   },
   {
    "duration": 5,
    "start_time": "2023-07-11T15:53:17.974Z"
   },
   {
    "duration": 12,
    "start_time": "2023-07-11T15:53:20.282Z"
   },
   {
    "duration": 11,
    "start_time": "2023-07-11T15:53:21.828Z"
   },
   {
    "duration": 12,
    "start_time": "2023-07-11T15:53:23.201Z"
   },
   {
    "duration": 12,
    "start_time": "2023-07-11T15:53:24.684Z"
   },
   {
    "duration": 13,
    "start_time": "2023-07-11T15:53:25.690Z"
   },
   {
    "duration": 13,
    "start_time": "2023-07-11T15:53:28.332Z"
   },
   {
    "duration": 15,
    "start_time": "2023-07-11T15:53:30.257Z"
   },
   {
    "duration": 12,
    "start_time": "2023-07-11T15:53:31.743Z"
   },
   {
    "duration": 14,
    "start_time": "2023-07-11T15:53:33.227Z"
   },
   {
    "duration": 10,
    "start_time": "2023-07-11T15:53:34.594Z"
   },
   {
    "duration": 8,
    "start_time": "2023-07-11T15:53:35.674Z"
   },
   {
    "duration": 7,
    "start_time": "2023-07-11T15:53:38.267Z"
   },
   {
    "duration": 5,
    "start_time": "2023-07-11T15:53:40.666Z"
   },
   {
    "duration": 10,
    "start_time": "2023-07-11T15:53:43.015Z"
   },
   {
    "duration": 11,
    "start_time": "2023-07-11T15:53:46.438Z"
   },
   {
    "duration": 6,
    "start_time": "2023-07-11T15:53:47.942Z"
   },
   {
    "duration": 15,
    "start_time": "2023-07-11T15:53:49.424Z"
   },
   {
    "duration": 8,
    "start_time": "2023-07-11T15:53:51.680Z"
   },
   {
    "duration": 6,
    "start_time": "2023-07-11T15:53:53.721Z"
   },
   {
    "duration": 8,
    "start_time": "2023-07-11T15:53:55.509Z"
   },
   {
    "duration": 9,
    "start_time": "2023-07-11T15:53:56.903Z"
   },
   {
    "duration": 8,
    "start_time": "2023-07-11T15:54:00.196Z"
   },
   {
    "duration": 6,
    "start_time": "2023-07-11T15:54:01.885Z"
   },
   {
    "duration": 7,
    "start_time": "2023-07-11T15:54:06.552Z"
   },
   {
    "duration": 9,
    "start_time": "2023-07-11T15:54:08.531Z"
   },
   {
    "duration": 4,
    "start_time": "2023-07-11T15:54:10.184Z"
   },
   {
    "duration": 16,
    "start_time": "2023-07-11T15:54:13.296Z"
   },
   {
    "duration": 486,
    "start_time": "2023-07-11T15:54:16.170Z"
   },
   {
    "duration": 757,
    "start_time": "2023-07-11T15:54:18.523Z"
   },
   {
    "duration": 478,
    "start_time": "2023-07-11T15:54:21.210Z"
   },
   {
    "duration": 1991,
    "start_time": "2023-07-11T15:54:23.883Z"
   },
   {
    "duration": 7,
    "start_time": "2023-07-11T15:54:27.529Z"
   },
   {
    "duration": 618,
    "start_time": "2023-07-11T15:54:29.088Z"
   },
   {
    "duration": 7,
    "start_time": "2023-07-11T15:54:31.634Z"
   },
   {
    "duration": 408,
    "start_time": "2023-07-11T15:54:33.194Z"
   },
   {
    "duration": 7,
    "start_time": "2023-07-11T15:54:35.720Z"
   },
   {
    "duration": 301,
    "start_time": "2023-07-11T15:54:38.523Z"
   },
   {
    "duration": 8,
    "start_time": "2023-07-11T15:54:40.339Z"
   },
   {
    "duration": 368,
    "start_time": "2023-07-11T15:54:41.759Z"
   },
   {
    "duration": 10,
    "start_time": "2023-07-11T15:54:43.402Z"
   },
   {
    "duration": 338,
    "start_time": "2023-07-11T15:54:45.486Z"
   },
   {
    "duration": 12,
    "start_time": "2023-07-11T15:54:48.585Z"
   },
   {
    "duration": 15,
    "start_time": "2023-07-11T15:54:49.958Z"
   },
   {
    "duration": 11,
    "start_time": "2023-07-11T15:54:51.253Z"
   },
   {
    "duration": 15,
    "start_time": "2023-07-11T15:54:52.665Z"
   },
   {
    "duration": 11,
    "start_time": "2023-07-11T15:54:53.613Z"
   },
   {
    "duration": 15,
    "start_time": "2023-07-11T15:54:55.102Z"
   },
   {
    "duration": 12,
    "start_time": "2023-07-11T15:54:56.060Z"
   },
   {
    "duration": 9,
    "start_time": "2023-07-11T15:54:57.930Z"
   },
   {
    "duration": 11,
    "start_time": "2023-07-11T15:54:58.903Z"
   },
   {
    "duration": 10,
    "start_time": "2023-07-11T15:54:59.854Z"
   },
   {
    "duration": 10,
    "start_time": "2023-07-11T15:55:01.207Z"
   },
   {
    "duration": 8,
    "start_time": "2023-07-11T15:55:03.131Z"
   },
   {
    "duration": 12,
    "start_time": "2023-07-11T15:55:05.713Z"
   },
   {
    "duration": 8,
    "start_time": "2023-07-11T15:55:07.183Z"
   },
   {
    "duration": 19,
    "start_time": "2023-07-11T15:55:08.184Z"
   },
   {
    "duration": 1932,
    "start_time": "2023-07-11T15:55:11.466Z"
   },
   {
    "duration": 17,
    "start_time": "2023-07-11T15:55:20.265Z"
   },
   {
    "duration": 21,
    "start_time": "2023-07-11T15:55:22.060Z"
   },
   {
    "duration": 17,
    "start_time": "2023-07-11T15:55:26.355Z"
   },
   {
    "duration": 11,
    "start_time": "2023-07-11T15:55:28.568Z"
   },
   {
    "duration": 18,
    "start_time": "2023-07-11T15:55:30.206Z"
   },
   {
    "duration": 7,
    "start_time": "2023-07-11T15:55:31.588Z"
   },
   {
    "duration": 16,
    "start_time": "2023-07-11T15:55:32.984Z"
   },
   {
    "duration": 8,
    "start_time": "2023-07-11T15:55:34.483Z"
   },
   {
    "duration": 15,
    "start_time": "2023-07-11T15:55:37.089Z"
   },
   {
    "duration": 8,
    "start_time": "2023-07-11T15:55:41.359Z"
   },
   {
    "duration": 77725,
    "start_time": "2023-07-11T17:31:57.524Z"
   },
   {
    "duration": 1710,
    "start_time": "2023-07-11T17:33:15.251Z"
   },
   {
    "duration": 28,
    "start_time": "2023-07-11T17:41:42.093Z"
   },
   {
    "duration": 10,
    "start_time": "2023-07-11T17:41:44.567Z"
   },
   {
    "duration": 7,
    "start_time": "2023-07-11T17:41:46.826Z"
   },
   {
    "duration": 15,
    "start_time": "2023-07-11T17:41:48.924Z"
   },
   {
    "duration": 152,
    "start_time": "2023-07-11T17:41:50.403Z"
   },
   {
    "duration": 5428,
    "start_time": "2023-07-11T17:44:53.895Z"
   },
   {
    "duration": 1641,
    "start_time": "2023-07-11T17:44:59.325Z"
   },
   {
    "duration": 9,
    "start_time": "2023-07-11T17:45:00.968Z"
   },
   {
    "duration": 88,
    "start_time": "2023-07-11T17:45:00.978Z"
   },
   {
    "duration": 66,
    "start_time": "2023-07-11T17:45:01.068Z"
   },
   {
    "duration": 13,
    "start_time": "2023-07-11T17:45:01.135Z"
   },
   {
    "duration": 196,
    "start_time": "2023-07-11T17:45:01.149Z"
   },
   {
    "duration": 10,
    "start_time": "2023-07-11T17:45:01.346Z"
   },
   {
    "duration": 31,
    "start_time": "2023-07-11T17:45:01.357Z"
   },
   {
    "duration": 67,
    "start_time": "2023-07-11T17:45:01.390Z"
   },
   {
    "duration": 63,
    "start_time": "2023-07-11T17:45:01.458Z"
   },
   {
    "duration": 161,
    "start_time": "2023-07-11T17:45:01.522Z"
   },
   {
    "duration": 4,
    "start_time": "2023-07-11T17:45:01.684Z"
   },
   {
    "duration": 97,
    "start_time": "2023-07-11T17:45:01.690Z"
   },
   {
    "duration": 74,
    "start_time": "2023-07-11T17:45:01.788Z"
   },
   {
    "duration": 91,
    "start_time": "2023-07-11T17:45:01.864Z"
   },
   {
    "duration": 118,
    "start_time": "2023-07-11T17:45:01.957Z"
   },
   {
    "duration": 22,
    "start_time": "2023-07-11T17:45:02.076Z"
   },
   {
    "duration": 57,
    "start_time": "2023-07-11T17:45:02.118Z"
   },
   {
    "duration": 95,
    "start_time": "2023-07-11T17:45:02.176Z"
   },
   {
    "duration": 119,
    "start_time": "2023-07-11T17:45:02.272Z"
   },
   {
    "duration": 86,
    "start_time": "2023-07-11T17:45:02.393Z"
   },
   {
    "duration": 111,
    "start_time": "2023-07-11T17:45:02.481Z"
   },
   {
    "duration": 176,
    "start_time": "2023-07-11T17:45:02.593Z"
   },
   {
    "duration": 67,
    "start_time": "2023-07-11T17:45:02.770Z"
   },
   {
    "duration": 39,
    "start_time": "2023-07-11T17:45:02.838Z"
   },
   {
    "duration": 85,
    "start_time": "2023-07-11T17:45:02.878Z"
   },
   {
    "duration": 20,
    "start_time": "2023-07-11T17:45:02.964Z"
   },
   {
    "duration": 41,
    "start_time": "2023-07-11T17:45:02.986Z"
   },
   {
    "duration": 34,
    "start_time": "2023-07-11T17:45:03.045Z"
   },
   {
    "duration": 25,
    "start_time": "2023-07-11T17:45:03.080Z"
   },
   {
    "duration": 62,
    "start_time": "2023-07-11T17:45:03.106Z"
   },
   {
    "duration": 23,
    "start_time": "2023-07-11T17:45:03.169Z"
   },
   {
    "duration": 83,
    "start_time": "2023-07-11T17:45:03.193Z"
   },
   {
    "duration": 17,
    "start_time": "2023-07-11T17:45:03.277Z"
   },
   {
    "duration": 37,
    "start_time": "2023-07-11T17:45:03.295Z"
   },
   {
    "duration": 47,
    "start_time": "2023-07-11T17:45:03.333Z"
   },
   {
    "duration": 13,
    "start_time": "2023-07-11T17:45:03.381Z"
   },
   {
    "duration": 54,
    "start_time": "2023-07-11T17:45:03.396Z"
   },
   {
    "duration": 23,
    "start_time": "2023-07-11T17:45:03.451Z"
   },
   {
    "duration": 398,
    "start_time": "2023-07-11T17:45:03.479Z"
   },
   {
    "duration": 555,
    "start_time": "2023-07-11T17:45:03.878Z"
   },
   {
    "duration": 440,
    "start_time": "2023-07-11T17:45:04.444Z"
   },
   {
    "duration": 1645,
    "start_time": "2023-07-11T17:45:04.885Z"
   },
   {
    "duration": 12,
    "start_time": "2023-07-11T17:45:06.539Z"
   },
   {
    "duration": 565,
    "start_time": "2023-07-11T17:45:06.552Z"
   },
   {
    "duration": 15,
    "start_time": "2023-07-11T17:45:07.118Z"
   },
   {
    "duration": 446,
    "start_time": "2023-07-11T17:45:07.137Z"
   },
   {
    "duration": 6,
    "start_time": "2023-07-11T17:45:07.584Z"
   },
   {
    "duration": 337,
    "start_time": "2023-07-11T17:45:07.592Z"
   },
   {
    "duration": 16,
    "start_time": "2023-07-11T17:45:07.933Z"
   },
   {
    "duration": 408,
    "start_time": "2023-07-11T17:45:07.954Z"
   },
   {
    "duration": 8,
    "start_time": "2023-07-11T17:45:08.364Z"
   },
   {
    "duration": 367,
    "start_time": "2023-07-11T17:45:08.374Z"
   },
   {
    "duration": 11,
    "start_time": "2023-07-11T17:45:08.742Z"
   },
   {
    "duration": 11,
    "start_time": "2023-07-11T17:45:08.755Z"
   },
   {
    "duration": 9,
    "start_time": "2023-07-11T17:45:08.768Z"
   },
   {
    "duration": 39,
    "start_time": "2023-07-11T17:45:08.778Z"
   },
   {
    "duration": 51,
    "start_time": "2023-07-11T17:45:08.818Z"
   },
   {
    "duration": 21,
    "start_time": "2023-07-11T17:45:08.870Z"
   },
   {
    "duration": 63,
    "start_time": "2023-07-11T17:45:08.892Z"
   },
   {
    "duration": 15,
    "start_time": "2023-07-11T17:45:08.957Z"
   },
   {
    "duration": 17,
    "start_time": "2023-07-11T17:45:08.973Z"
   },
   {
    "duration": 37,
    "start_time": "2023-07-11T17:45:08.991Z"
   },
   {
    "duration": 29,
    "start_time": "2023-07-11T17:45:09.037Z"
   },
   {
    "duration": 9,
    "start_time": "2023-07-11T17:45:09.068Z"
   },
   {
    "duration": 12,
    "start_time": "2023-07-11T17:45:09.079Z"
   },
   {
    "duration": 69,
    "start_time": "2023-07-11T17:45:09.094Z"
   },
   {
    "duration": 17,
    "start_time": "2023-07-11T17:45:09.165Z"
   },
   {
    "duration": 1514,
    "start_time": "2023-07-11T17:45:09.184Z"
   },
   {
    "duration": 30,
    "start_time": "2023-07-11T17:45:10.707Z"
   },
   {
    "duration": 37,
    "start_time": "2023-07-11T17:45:10.738Z"
   },
   {
    "duration": 14,
    "start_time": "2023-07-11T17:45:10.777Z"
   },
   {
    "duration": 70,
    "start_time": "2023-07-11T17:45:10.793Z"
   },
   {
    "duration": 26,
    "start_time": "2023-07-11T17:45:10.865Z"
   },
   {
    "duration": 21,
    "start_time": "2023-07-11T17:45:10.892Z"
   },
   {
    "duration": 49,
    "start_time": "2023-07-11T17:45:10.924Z"
   },
   {
    "duration": 6,
    "start_time": "2023-07-11T17:45:10.975Z"
   },
   {
    "duration": 16,
    "start_time": "2023-07-11T17:45:10.982Z"
   },
   {
    "duration": 47,
    "start_time": "2023-07-11T17:45:11.013Z"
   },
   {
    "duration": 2995,
    "start_time": "2023-07-11T17:49:53.654Z"
   },
   {
    "duration": 1156,
    "start_time": "2023-07-11T17:50:00.823Z"
   },
   {
    "duration": 21,
    "start_time": "2023-07-11T17:50:05.336Z"
   },
   {
    "duration": 25,
    "start_time": "2023-07-11T17:50:07.196Z"
   },
   {
    "duration": 15,
    "start_time": "2023-07-11T17:50:09.298Z"
   },
   {
    "duration": 6,
    "start_time": "2023-07-11T17:50:10.843Z"
   },
   {
    "duration": 116,
    "start_time": "2023-07-11T17:50:12.081Z"
   },
   {
    "duration": 5,
    "start_time": "2023-07-11T17:50:13.776Z"
   },
   {
    "duration": 5,
    "start_time": "2023-07-11T17:50:15.147Z"
   },
   {
    "duration": 18,
    "start_time": "2023-07-11T17:50:16.823Z"
   },
   {
    "duration": 14,
    "start_time": "2023-07-11T17:50:18.252Z"
   },
   {
    "duration": 120,
    "start_time": "2023-07-11T17:50:19.430Z"
   },
   {
    "duration": 4,
    "start_time": "2023-07-11T17:50:22.089Z"
   },
   {
    "duration": 9,
    "start_time": "2023-07-11T17:50:23.077Z"
   },
   {
    "duration": 9,
    "start_time": "2023-07-11T17:50:24.576Z"
   },
   {
    "duration": 17,
    "start_time": "2023-07-11T17:50:26.016Z"
   },
   {
    "duration": 10,
    "start_time": "2023-07-11T17:50:28.462Z"
   },
   {
    "duration": 11,
    "start_time": "2023-07-11T17:50:30.583Z"
   },
   {
    "duration": 23,
    "start_time": "2023-07-11T17:50:32.234Z"
   },
   {
    "duration": 18,
    "start_time": "2023-07-11T17:50:34.021Z"
   },
   {
    "duration": 16,
    "start_time": "2023-07-11T17:50:35.625Z"
   },
   {
    "duration": 10,
    "start_time": "2023-07-11T17:50:37.178Z"
   },
   {
    "duration": 9,
    "start_time": "2023-07-11T17:50:38.660Z"
   },
   {
    "duration": 7,
    "start_time": "2023-07-11T17:50:40.477Z"
   },
   {
    "duration": 6,
    "start_time": "2023-07-11T17:50:42.280Z"
   },
   {
    "duration": 11,
    "start_time": "2023-07-11T17:50:45.930Z"
   },
   {
    "duration": 9,
    "start_time": "2023-07-11T17:50:48.855Z"
   },
   {
    "duration": 17,
    "start_time": "2023-07-11T17:50:53.440Z"
   },
   {
    "duration": 5,
    "start_time": "2023-07-11T17:50:55.750Z"
   },
   {
    "duration": 46,
    "start_time": "2023-07-11T17:50:58.095Z"
   },
   {
    "duration": 18,
    "start_time": "2023-07-11T17:51:00.115Z"
   },
   {
    "duration": 10,
    "start_time": "2023-07-11T17:51:02.125Z"
   },
   {
    "duration": 6,
    "start_time": "2023-07-11T17:51:03.857Z"
   },
   {
    "duration": 7,
    "start_time": "2023-07-11T17:51:05.377Z"
   },
   {
    "duration": 16,
    "start_time": "2023-07-11T17:51:06.925Z"
   },
   {
    "duration": 17,
    "start_time": "2023-07-11T17:51:08.696Z"
   },
   {
    "duration": 13,
    "start_time": "2023-07-11T17:51:10.336Z"
   },
   {
    "duration": 7,
    "start_time": "2023-07-11T17:51:12.273Z"
   },
   {
    "duration": 5,
    "start_time": "2023-07-11T17:51:13.846Z"
   },
   {
    "duration": 12,
    "start_time": "2023-07-11T17:51:15.370Z"
   },
   {
    "duration": 395,
    "start_time": "2023-07-11T17:51:16.930Z"
   },
   {
    "duration": 501,
    "start_time": "2023-07-11T17:51:19.227Z"
   },
   {
    "duration": 631,
    "start_time": "2023-07-11T17:51:21.448Z"
   },
   {
    "duration": 1710,
    "start_time": "2023-07-11T17:51:23.919Z"
   },
   {
    "duration": 11,
    "start_time": "2023-07-11T17:51:28.027Z"
   },
   {
    "duration": 529,
    "start_time": "2023-07-11T17:51:30.292Z"
   },
   {
    "duration": 15,
    "start_time": "2023-07-11T17:51:33.534Z"
   },
   {
    "duration": 413,
    "start_time": "2023-07-11T17:51:35.157Z"
   },
   {
    "duration": 11,
    "start_time": "2023-07-11T17:53:29.426Z"
   },
   {
    "duration": 335,
    "start_time": "2023-07-11T17:53:33.922Z"
   },
   {
    "duration": 9,
    "start_time": "2023-07-11T17:53:36.483Z"
   },
   {
    "duration": 320,
    "start_time": "2023-07-11T17:53:38.338Z"
   },
   {
    "duration": 7,
    "start_time": "2023-07-11T17:54:04.250Z"
   },
   {
    "duration": 235,
    "start_time": "2023-07-11T17:56:54.825Z"
   },
   {
    "duration": 10,
    "start_time": "2023-07-11T17:57:01.766Z"
   },
   {
    "duration": 9,
    "start_time": "2023-07-11T17:57:04.058Z"
   },
   {
    "duration": 11,
    "start_time": "2023-07-11T17:57:05.683Z"
   },
   {
    "duration": 30,
    "start_time": "2023-07-11T17:57:07.193Z"
   },
   {
    "duration": 11,
    "start_time": "2023-07-11T17:57:08.886Z"
   },
   {
    "duration": 27,
    "start_time": "2023-07-11T17:57:10.327Z"
   },
   {
    "duration": 14,
    "start_time": "2023-07-11T17:57:12.439Z"
   },
   {
    "duration": 13,
    "start_time": "2023-07-11T17:57:14.047Z"
   },
   {
    "duration": 9,
    "start_time": "2023-07-11T17:57:15.676Z"
   },
   {
    "duration": 19,
    "start_time": "2023-07-11T17:57:17.222Z"
   },
   {
    "duration": 20,
    "start_time": "2023-07-11T17:57:19.021Z"
   },
   {
    "duration": 11,
    "start_time": "2023-07-11T17:57:20.547Z"
   },
   {
    "duration": 7,
    "start_time": "2023-07-11T17:57:23.058Z"
   },
   {
    "duration": 23,
    "start_time": "2023-07-11T17:57:34.024Z"
   },
   {
    "duration": 7,
    "start_time": "2023-07-11T17:57:35.648Z"
   },
   {
    "duration": 19,
    "start_time": "2023-07-11T17:57:36.742Z"
   },
   {
    "duration": 1539,
    "start_time": "2023-07-11T17:57:41.046Z"
   },
   {
    "duration": 364,
    "start_time": "2023-07-11T18:14:48.065Z"
   },
   {
    "duration": 361,
    "start_time": "2023-07-11T18:15:06.327Z"
   },
   {
    "duration": 436,
    "start_time": "2023-07-11T18:15:24.477Z"
   },
   {
    "duration": 400,
    "start_time": "2023-07-11T18:15:32.672Z"
   },
   {
    "duration": 336,
    "start_time": "2023-07-11T18:15:41.040Z"
   },
   {
    "duration": 341,
    "start_time": "2023-07-11T18:15:51.872Z"
   },
   {
    "duration": 11,
    "start_time": "2023-07-11T18:34:11.483Z"
   },
   {
    "duration": 14,
    "start_time": "2023-07-11T18:34:15.564Z"
   },
   {
    "duration": 156,
    "start_time": "2023-07-11T18:36:35.393Z"
   },
   {
    "duration": 111,
    "start_time": "2023-07-11T18:37:08.455Z"
   },
   {
    "duration": 114,
    "start_time": "2023-07-11T18:37:28.536Z"
   },
   {
    "duration": 101,
    "start_time": "2023-07-11T18:39:32.126Z"
   },
   {
    "duration": 123,
    "start_time": "2023-07-11T18:39:37.594Z"
   },
   {
    "duration": 132,
    "start_time": "2023-07-11T18:39:49.634Z"
   },
   {
    "duration": 295,
    "start_time": "2023-07-11T18:40:28.650Z"
   },
   {
    "duration": 327,
    "start_time": "2023-07-11T18:41:26.296Z"
   }
  ],
  "kernelspec": {
   "display_name": "Python 3 (ipykernel)",
   "language": "python",
   "name": "python3"
  },
  "language_info": {
   "codemirror_mode": {
    "name": "ipython",
    "version": 3
   },
   "file_extension": ".py",
   "mimetype": "text/x-python",
   "name": "python",
   "nbconvert_exporter": "python",
   "pygments_lexer": "ipython3",
   "version": "3.10.9"
  },
  "toc": {
   "base_numbering": 1,
   "nav_menu": {},
   "number_sections": true,
   "sideBar": true,
   "skip_h1_title": true,
   "title_cell": "Table of Contents",
   "title_sidebar": "Contents",
   "toc_cell": false,
   "toc_position": {},
   "toc_section_display": true,
   "toc_window_display": false
  }
 },
 "nbformat": 4,
 "nbformat_minor": 2
}
