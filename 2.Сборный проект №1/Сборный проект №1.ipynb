{
 "cells": [
  {
   "cell_type": "code",
   "execution_count": 1,
   "metadata": {},
   "outputs": [],
   "source": [
    "import pandas as pd\n",
    "import matplotlib.pyplot as plt\n",
    "#Подключаем нужные для работы с датафреймом библиотеки"
   ]
  },
  {
   "cell_type": "markdown",
   "metadata": {},
   "source": [
    "# ШАГ 1"
   ]
  },
  {
   "cell_type": "code",
   "execution_count": 4,
   "metadata": {},
   "outputs": [
    {
     "data": {
      "text/html": [
       "<div>\n",
       "<style scoped>\n",
       "    .dataframe tbody tr th:only-of-type {\n",
       "        vertical-align: middle;\n",
       "    }\n",
       "\n",
       "    .dataframe tbody tr th {\n",
       "        vertical-align: top;\n",
       "    }\n",
       "\n",
       "    .dataframe thead th {\n",
       "        text-align: right;\n",
       "    }\n",
       "</style>\n",
       "<table border=\"1\" class=\"dataframe\">\n",
       "  <thead>\n",
       "    <tr style=\"text-align: right;\">\n",
       "      <th></th>\n",
       "      <th>Name</th>\n",
       "      <th>Platform</th>\n",
       "      <th>Year_of_Release</th>\n",
       "      <th>Genre</th>\n",
       "      <th>NA_sales</th>\n",
       "      <th>EU_sales</th>\n",
       "      <th>JP_sales</th>\n",
       "      <th>Other_sales</th>\n",
       "      <th>Critic_Score</th>\n",
       "      <th>User_Score</th>\n",
       "      <th>Rating</th>\n",
       "    </tr>\n",
       "  </thead>\n",
       "  <tbody>\n",
       "    <tr>\n",
       "      <th>0</th>\n",
       "      <td>Wii Sports</td>\n",
       "      <td>Wii</td>\n",
       "      <td>2006.0</td>\n",
       "      <td>Sports</td>\n",
       "      <td>41.36</td>\n",
       "      <td>28.96</td>\n",
       "      <td>3.77</td>\n",
       "      <td>8.45</td>\n",
       "      <td>76.0</td>\n",
       "      <td>8</td>\n",
       "      <td>E</td>\n",
       "    </tr>\n",
       "    <tr>\n",
       "      <th>1</th>\n",
       "      <td>Super Mario Bros.</td>\n",
       "      <td>NES</td>\n",
       "      <td>1985.0</td>\n",
       "      <td>Platform</td>\n",
       "      <td>29.08</td>\n",
       "      <td>3.58</td>\n",
       "      <td>6.81</td>\n",
       "      <td>0.77</td>\n",
       "      <td>NaN</td>\n",
       "      <td>NaN</td>\n",
       "      <td>NaN</td>\n",
       "    </tr>\n",
       "    <tr>\n",
       "      <th>2</th>\n",
       "      <td>Mario Kart Wii</td>\n",
       "      <td>Wii</td>\n",
       "      <td>2008.0</td>\n",
       "      <td>Racing</td>\n",
       "      <td>15.68</td>\n",
       "      <td>12.76</td>\n",
       "      <td>3.79</td>\n",
       "      <td>3.29</td>\n",
       "      <td>82.0</td>\n",
       "      <td>8.3</td>\n",
       "      <td>E</td>\n",
       "    </tr>\n",
       "    <tr>\n",
       "      <th>3</th>\n",
       "      <td>Wii Sports Resort</td>\n",
       "      <td>Wii</td>\n",
       "      <td>2009.0</td>\n",
       "      <td>Sports</td>\n",
       "      <td>15.61</td>\n",
       "      <td>10.93</td>\n",
       "      <td>3.28</td>\n",
       "      <td>2.95</td>\n",
       "      <td>80.0</td>\n",
       "      <td>8</td>\n",
       "      <td>E</td>\n",
       "    </tr>\n",
       "    <tr>\n",
       "      <th>4</th>\n",
       "      <td>Pokemon Red/Pokemon Blue</td>\n",
       "      <td>GB</td>\n",
       "      <td>1996.0</td>\n",
       "      <td>Role-Playing</td>\n",
       "      <td>11.27</td>\n",
       "      <td>8.89</td>\n",
       "      <td>10.22</td>\n",
       "      <td>1.00</td>\n",
       "      <td>NaN</td>\n",
       "      <td>NaN</td>\n",
       "      <td>NaN</td>\n",
       "    </tr>\n",
       "    <tr>\n",
       "      <th>5</th>\n",
       "      <td>Tetris</td>\n",
       "      <td>GB</td>\n",
       "      <td>1989.0</td>\n",
       "      <td>Puzzle</td>\n",
       "      <td>23.20</td>\n",
       "      <td>2.26</td>\n",
       "      <td>4.22</td>\n",
       "      <td>0.58</td>\n",
       "      <td>NaN</td>\n",
       "      <td>NaN</td>\n",
       "      <td>NaN</td>\n",
       "    </tr>\n",
       "    <tr>\n",
       "      <th>6</th>\n",
       "      <td>New Super Mario Bros.</td>\n",
       "      <td>DS</td>\n",
       "      <td>2006.0</td>\n",
       "      <td>Platform</td>\n",
       "      <td>11.28</td>\n",
       "      <td>9.14</td>\n",
       "      <td>6.50</td>\n",
       "      <td>2.88</td>\n",
       "      <td>89.0</td>\n",
       "      <td>8.5</td>\n",
       "      <td>E</td>\n",
       "    </tr>\n",
       "    <tr>\n",
       "      <th>7</th>\n",
       "      <td>Wii Play</td>\n",
       "      <td>Wii</td>\n",
       "      <td>2006.0</td>\n",
       "      <td>Misc</td>\n",
       "      <td>13.96</td>\n",
       "      <td>9.18</td>\n",
       "      <td>2.93</td>\n",
       "      <td>2.84</td>\n",
       "      <td>58.0</td>\n",
       "      <td>6.6</td>\n",
       "      <td>E</td>\n",
       "    </tr>\n",
       "    <tr>\n",
       "      <th>8</th>\n",
       "      <td>New Super Mario Bros. Wii</td>\n",
       "      <td>Wii</td>\n",
       "      <td>2009.0</td>\n",
       "      <td>Platform</td>\n",
       "      <td>14.44</td>\n",
       "      <td>6.94</td>\n",
       "      <td>4.70</td>\n",
       "      <td>2.24</td>\n",
       "      <td>87.0</td>\n",
       "      <td>8.4</td>\n",
       "      <td>E</td>\n",
       "    </tr>\n",
       "    <tr>\n",
       "      <th>9</th>\n",
       "      <td>Duck Hunt</td>\n",
       "      <td>NES</td>\n",
       "      <td>1984.0</td>\n",
       "      <td>Shooter</td>\n",
       "      <td>26.93</td>\n",
       "      <td>0.63</td>\n",
       "      <td>0.28</td>\n",
       "      <td>0.47</td>\n",
       "      <td>NaN</td>\n",
       "      <td>NaN</td>\n",
       "      <td>NaN</td>\n",
       "    </tr>\n",
       "  </tbody>\n",
       "</table>\n",
       "</div>"
      ],
      "text/plain": [
       "                        Name Platform  Year_of_Release         Genre  \\\n",
       "0                 Wii Sports      Wii           2006.0        Sports   \n",
       "1          Super Mario Bros.      NES           1985.0      Platform   \n",
       "2             Mario Kart Wii      Wii           2008.0        Racing   \n",
       "3          Wii Sports Resort      Wii           2009.0        Sports   \n",
       "4   Pokemon Red/Pokemon Blue       GB           1996.0  Role-Playing   \n",
       "5                     Tetris       GB           1989.0        Puzzle   \n",
       "6      New Super Mario Bros.       DS           2006.0      Platform   \n",
       "7                   Wii Play      Wii           2006.0          Misc   \n",
       "8  New Super Mario Bros. Wii      Wii           2009.0      Platform   \n",
       "9                  Duck Hunt      NES           1984.0       Shooter   \n",
       "\n",
       "   NA_sales  EU_sales  JP_sales  Other_sales  Critic_Score User_Score Rating  \n",
       "0     41.36     28.96      3.77         8.45          76.0          8      E  \n",
       "1     29.08      3.58      6.81         0.77           NaN        NaN    NaN  \n",
       "2     15.68     12.76      3.79         3.29          82.0        8.3      E  \n",
       "3     15.61     10.93      3.28         2.95          80.0          8      E  \n",
       "4     11.27      8.89     10.22         1.00           NaN        NaN    NaN  \n",
       "5     23.20      2.26      4.22         0.58           NaN        NaN    NaN  \n",
       "6     11.28      9.14      6.50         2.88          89.0        8.5      E  \n",
       "7     13.96      9.18      2.93         2.84          58.0        6.6      E  \n",
       "8     14.44      6.94      4.70         2.24          87.0        8.4      E  \n",
       "9     26.93      0.63      0.28         0.47           NaN        NaN    NaN  "
      ]
     },
     "execution_count": 4,
     "metadata": {},
     "output_type": "execute_result"
    }
   ],
   "source": [
    "data = pd.read_csv('games.csv')\n",
    "data.head(10)\n",
    "#загружаем и печатаем данные на экран"
   ]
  },
  {
   "cell_type": "markdown",
   "metadata": {},
   "source": [
    "В таблице представлены данные о прадажах игр а период 1980-2016 гг, также можно увидеть пропуски в данных"
   ]
  },
  {
   "cell_type": "markdown",
   "metadata": {},
   "source": [
    "# Шаг 2"
   ]
  },
  {
   "cell_type": "code",
   "execution_count": 6,
   "metadata": {},
   "outputs": [
    {
     "data": {
      "text/html": [
       "<div>\n",
       "<style scoped>\n",
       "    .dataframe tbody tr th:only-of-type {\n",
       "        vertical-align: middle;\n",
       "    }\n",
       "\n",
       "    .dataframe tbody tr th {\n",
       "        vertical-align: top;\n",
       "    }\n",
       "\n",
       "    .dataframe thead th {\n",
       "        text-align: right;\n",
       "    }\n",
       "</style>\n",
       "<table border=\"1\" class=\"dataframe\">\n",
       "  <thead>\n",
       "    <tr style=\"text-align: right;\">\n",
       "      <th></th>\n",
       "      <th>name</th>\n",
       "      <th>platform</th>\n",
       "      <th>year_of_release</th>\n",
       "      <th>genre</th>\n",
       "      <th>na_sales</th>\n",
       "      <th>eu_sales</th>\n",
       "      <th>jp_sales</th>\n",
       "      <th>other_sales</th>\n",
       "      <th>critic_score</th>\n",
       "      <th>user_score</th>\n",
       "      <th>rating</th>\n",
       "    </tr>\n",
       "  </thead>\n",
       "  <tbody>\n",
       "    <tr>\n",
       "      <th>0</th>\n",
       "      <td>Wii Sports</td>\n",
       "      <td>Wii</td>\n",
       "      <td>2006.0</td>\n",
       "      <td>Sports</td>\n",
       "      <td>41.36</td>\n",
       "      <td>28.96</td>\n",
       "      <td>3.77</td>\n",
       "      <td>8.45</td>\n",
       "      <td>76.0</td>\n",
       "      <td>8</td>\n",
       "      <td>E</td>\n",
       "    </tr>\n",
       "    <tr>\n",
       "      <th>1</th>\n",
       "      <td>Super Mario Bros.</td>\n",
       "      <td>NES</td>\n",
       "      <td>1985.0</td>\n",
       "      <td>Platform</td>\n",
       "      <td>29.08</td>\n",
       "      <td>3.58</td>\n",
       "      <td>6.81</td>\n",
       "      <td>0.77</td>\n",
       "      <td>NaN</td>\n",
       "      <td>NaN</td>\n",
       "      <td>NaN</td>\n",
       "    </tr>\n",
       "    <tr>\n",
       "      <th>2</th>\n",
       "      <td>Mario Kart Wii</td>\n",
       "      <td>Wii</td>\n",
       "      <td>2008.0</td>\n",
       "      <td>Racing</td>\n",
       "      <td>15.68</td>\n",
       "      <td>12.76</td>\n",
       "      <td>3.79</td>\n",
       "      <td>3.29</td>\n",
       "      <td>82.0</td>\n",
       "      <td>8.3</td>\n",
       "      <td>E</td>\n",
       "    </tr>\n",
       "    <tr>\n",
       "      <th>3</th>\n",
       "      <td>Wii Sports Resort</td>\n",
       "      <td>Wii</td>\n",
       "      <td>2009.0</td>\n",
       "      <td>Sports</td>\n",
       "      <td>15.61</td>\n",
       "      <td>10.93</td>\n",
       "      <td>3.28</td>\n",
       "      <td>2.95</td>\n",
       "      <td>80.0</td>\n",
       "      <td>8</td>\n",
       "      <td>E</td>\n",
       "    </tr>\n",
       "    <tr>\n",
       "      <th>4</th>\n",
       "      <td>Pokemon Red/Pokemon Blue</td>\n",
       "      <td>GB</td>\n",
       "      <td>1996.0</td>\n",
       "      <td>Role-Playing</td>\n",
       "      <td>11.27</td>\n",
       "      <td>8.89</td>\n",
       "      <td>10.22</td>\n",
       "      <td>1.00</td>\n",
       "      <td>NaN</td>\n",
       "      <td>NaN</td>\n",
       "      <td>NaN</td>\n",
       "    </tr>\n",
       "  </tbody>\n",
       "</table>\n",
       "</div>"
      ],
      "text/plain": [
       "                       name platform  year_of_release         genre  na_sales  \\\n",
       "0                Wii Sports      Wii           2006.0        Sports     41.36   \n",
       "1         Super Mario Bros.      NES           1985.0      Platform     29.08   \n",
       "2            Mario Kart Wii      Wii           2008.0        Racing     15.68   \n",
       "3         Wii Sports Resort      Wii           2009.0        Sports     15.61   \n",
       "4  Pokemon Red/Pokemon Blue       GB           1996.0  Role-Playing     11.27   \n",
       "\n",
       "   eu_sales  jp_sales  other_sales  critic_score user_score rating  \n",
       "0     28.96      3.77         8.45          76.0          8      E  \n",
       "1      3.58      6.81         0.77           NaN        NaN    NaN  \n",
       "2     12.76      3.79         3.29          82.0        8.3      E  \n",
       "3     10.93      3.28         2.95          80.0          8      E  \n",
       "4      8.89     10.22         1.00           NaN        NaN    NaN  "
      ]
     },
     "execution_count": 6,
     "metadata": {},
     "output_type": "execute_result"
    }
   ],
   "source": [
    "data.columns = map(str.lower, data.columns)\n",
    "data.head()\n",
    "#Приводим названия столбцов к нижнему регистру"
   ]
  },
  {
   "cell_type": "code",
   "execution_count": 7,
   "metadata": {},
   "outputs": [
    {
     "name": "stdout",
     "output_type": "stream",
     "text": [
      "<class 'pandas.core.frame.DataFrame'>\n",
      "RangeIndex: 16715 entries, 0 to 16714\n",
      "Data columns (total 11 columns):\n",
      " #   Column           Non-Null Count  Dtype  \n",
      "---  ------           --------------  -----  \n",
      " 0   name             16713 non-null  object \n",
      " 1   platform         16715 non-null  object \n",
      " 2   year_of_release  16446 non-null  float64\n",
      " 3   genre            16713 non-null  object \n",
      " 4   na_sales         16715 non-null  float64\n",
      " 5   eu_sales         16715 non-null  float64\n",
      " 6   jp_sales         16715 non-null  float64\n",
      " 7   other_sales      16715 non-null  float64\n",
      " 8   critic_score     8137 non-null   float64\n",
      " 9   user_score       10014 non-null  object \n",
      " 10  rating           9949 non-null   object \n",
      "dtypes: float64(6), object(5)\n",
      "memory usage: 1.4+ MB\n"
     ]
    }
   ],
   "source": [
    "data.info()\n",
    "#Смотрим общую информацию о таблице"
   ]
  },
  {
   "cell_type": "code",
   "execution_count": 8,
   "metadata": {},
   "outputs": [
    {
     "name": "stdout",
     "output_type": "stream",
     "text": [
      "<class 'pandas.core.frame.DataFrame'>\n",
      "RangeIndex: 16715 entries, 0 to 16714\n",
      "Data columns (total 11 columns):\n",
      " #   Column           Non-Null Count  Dtype         \n",
      "---  ------           --------------  -----         \n",
      " 0   name             16713 non-null  object        \n",
      " 1   platform         16715 non-null  object        \n",
      " 2   year_of_release  16446 non-null  datetime64[ns]\n",
      " 3   genre            16713 non-null  object        \n",
      " 4   na_sales         16715 non-null  float64       \n",
      " 5   eu_sales         16715 non-null  float64       \n",
      " 6   jp_sales         16715 non-null  float64       \n",
      " 7   other_sales      16715 non-null  float64       \n",
      " 8   critic_score     8137 non-null   float64       \n",
      " 9   user_score       7590 non-null   float64       \n",
      " 10  rating           0 non-null      float64       \n",
      "dtypes: datetime64[ns](1), float64(7), object(3)\n",
      "memory usage: 1.4+ MB\n"
     ]
    }
   ],
   "source": [
    "data['year_of_release'] = pd.to_datetime(data['year_of_release'], format='%Y')\n",
    "data['user_score'] = pd.to_numeric(data['user_score'], errors='coerce') \n",
    "data['rating'] = pd.to_numeric(data['rating'], errors='coerce')\n",
    "\n",
    "#Меняем тип данных столбца с временем года: приводим его к типу ,,дата и время,,\n",
    "data.info()\n",
    "#Проверяем проделанную работу"
   ]
  },
  {
   "cell_type": "markdown",
   "metadata": {},
   "source": [
    "Проверяя таблицу я исправил тип данных столбца \"year_of_release\" с нецелочисленного типа на дату и время."
   ]
  },
  {
   "cell_type": "code",
   "execution_count": 9,
   "metadata": {},
   "outputs": [
    {
     "data": {
      "text/plain": [
       "name                   2\n",
       "platform               0\n",
       "year_of_release      269\n",
       "genre                  2\n",
       "na_sales               0\n",
       "eu_sales               0\n",
       "jp_sales               0\n",
       "other_sales            0\n",
       "critic_score        8578\n",
       "user_score          9125\n",
       "rating             16715\n",
       "dtype: int64"
      ]
     },
     "execution_count": 9,
     "metadata": {},
     "output_type": "execute_result"
    }
   ],
   "source": [
    "data.isna().sum()\n",
    "#Посчитаем количество пропусков в таблице"
   ]
  },
  {
   "cell_type": "code",
   "execution_count": 10,
   "metadata": {},
   "outputs": [
    {
     "data": {
      "text/html": [
       "<div>\n",
       "<style scoped>\n",
       "    .dataframe tbody tr th:only-of-type {\n",
       "        vertical-align: middle;\n",
       "    }\n",
       "\n",
       "    .dataframe tbody tr th {\n",
       "        vertical-align: top;\n",
       "    }\n",
       "\n",
       "    .dataframe thead th {\n",
       "        text-align: right;\n",
       "    }\n",
       "</style>\n",
       "<table border=\"1\" class=\"dataframe\">\n",
       "  <thead>\n",
       "    <tr style=\"text-align: right;\">\n",
       "      <th></th>\n",
       "      <th>name</th>\n",
       "      <th>platform</th>\n",
       "      <th>year_of_release</th>\n",
       "      <th>genre</th>\n",
       "      <th>na_sales</th>\n",
       "      <th>eu_sales</th>\n",
       "      <th>jp_sales</th>\n",
       "      <th>other_sales</th>\n",
       "      <th>critic_score</th>\n",
       "      <th>user_score</th>\n",
       "      <th>rating</th>\n",
       "    </tr>\n",
       "  </thead>\n",
       "  <tbody>\n",
       "    <tr>\n",
       "      <th>659</th>\n",
       "      <td>NaN</td>\n",
       "      <td>GEN</td>\n",
       "      <td>1993-01-01</td>\n",
       "      <td>NaN</td>\n",
       "      <td>1.78</td>\n",
       "      <td>0.53</td>\n",
       "      <td>0.00</td>\n",
       "      <td>0.08</td>\n",
       "      <td>NaN</td>\n",
       "      <td>NaN</td>\n",
       "      <td>NaN</td>\n",
       "    </tr>\n",
       "    <tr>\n",
       "      <th>14244</th>\n",
       "      <td>NaN</td>\n",
       "      <td>GEN</td>\n",
       "      <td>1993-01-01</td>\n",
       "      <td>NaN</td>\n",
       "      <td>0.00</td>\n",
       "      <td>0.00</td>\n",
       "      <td>0.03</td>\n",
       "      <td>0.00</td>\n",
       "      <td>NaN</td>\n",
       "      <td>NaN</td>\n",
       "      <td>NaN</td>\n",
       "    </tr>\n",
       "  </tbody>\n",
       "</table>\n",
       "</div>"
      ],
      "text/plain": [
       "      name platform year_of_release genre  na_sales  eu_sales  jp_sales  \\\n",
       "659    NaN      GEN      1993-01-01   NaN      1.78      0.53      0.00   \n",
       "14244  NaN      GEN      1993-01-01   NaN      0.00      0.00      0.03   \n",
       "\n",
       "       other_sales  critic_score  user_score  rating  \n",
       "659           0.08           NaN         NaN     NaN  \n",
       "14244         0.00           NaN         NaN     NaN  "
      ]
     },
     "execution_count": 10,
     "metadata": {},
     "output_type": "execute_result"
    }
   ],
   "source": [
    "data[data['name'].isna()]\n",
    "#Проверил гипотезу, что 2 пропущенных значения жанра находятся в строках с пропущенным названием игры"
   ]
  },
  {
   "cell_type": "markdown",
   "metadata": {},
   "source": [
    "Исправить пропуски в столбцах ,,название,, и ,,жанр,, не представляется возможным."
   ]
  },
  {
   "cell_type": "code",
   "execution_count": 11,
   "metadata": {},
   "outputs": [
    {
     "data": {
      "text/plain": [
       "name                   2\n",
       "platform               0\n",
       "year_of_release      269\n",
       "genre                  2\n",
       "na_sales               0\n",
       "eu_sales               0\n",
       "jp_sales               0\n",
       "other_sales            0\n",
       "critic_score        8578\n",
       "user_score          9125\n",
       "rating             16715\n",
       "dtype: int64"
      ]
     },
     "execution_count": 11,
     "metadata": {},
     "output_type": "execute_result"
    }
   ],
   "source": [
    "data.isna().sum()\n",
    "#Заменяем пропуски в столбцах с оценками на медианное значение"
   ]
  },
  {
   "cell_type": "code",
   "execution_count": 13,
   "metadata": {},
   "outputs": [
    {
     "data": {
      "text/html": [
       "<div>\n",
       "<style scoped>\n",
       "    .dataframe tbody tr th:only-of-type {\n",
       "        vertical-align: middle;\n",
       "    }\n",
       "\n",
       "    .dataframe tbody tr th {\n",
       "        vertical-align: top;\n",
       "    }\n",
       "\n",
       "    .dataframe thead th {\n",
       "        text-align: right;\n",
       "    }\n",
       "</style>\n",
       "<table border=\"1\" class=\"dataframe\">\n",
       "  <thead>\n",
       "    <tr style=\"text-align: right;\">\n",
       "      <th></th>\n",
       "      <th>region</th>\n",
       "      <th>sum of sales</th>\n",
       "    </tr>\n",
       "  </thead>\n",
       "  <tbody>\n",
       "    <tr>\n",
       "      <th>0</th>\n",
       "      <td>North America</td>\n",
       "      <td>4402.35</td>\n",
       "    </tr>\n",
       "    <tr>\n",
       "      <th>1</th>\n",
       "      <td>European Union</td>\n",
       "      <td>2424.67</td>\n",
       "    </tr>\n",
       "    <tr>\n",
       "      <th>2</th>\n",
       "      <td>Japan</td>\n",
       "      <td>1297.37</td>\n",
       "    </tr>\n",
       "    <tr>\n",
       "      <th>3</th>\n",
       "      <td>Other countries</td>\n",
       "      <td>791.32</td>\n",
       "    </tr>\n",
       "  </tbody>\n",
       "</table>\n",
       "</div>"
      ],
      "text/plain": [
       "            region  sum of sales\n",
       "0    North America       4402.35\n",
       "1   European Union       2424.67\n",
       "2            Japan       1297.37\n",
       "3  Other countries        791.32"
      ]
     },
     "execution_count": 13,
     "metadata": {},
     "output_type": "execute_result"
    }
   ],
   "source": [
    "sum_na = data['na_sales'].sum()\n",
    "sum_eu = data['eu_sales'].sum()\n",
    "sum_jp = data['jp_sales'].sum()\n",
    "sum_other = data['other_sales'].sum()\n",
    "\n",
    "sales = [['North America', sum_na],\n",
    "           ['European Union', sum_eu],\n",
    "           ['Japan', sum_jp],\n",
    "           ['Other countries', sum_other]]\n",
    "regions = ['region','sum of sales']\n",
    "\n",
    "new_data = pd.DataFrame(data=sales, columns=regions)\n",
    "\n",
    "new_data\n",
    "#Посчитаем суммы продаж по регионам и создадим новую таблицу для представления данных"
   ]
  },
  {
   "cell_type": "markdown",
   "metadata": {},
   "source": [
    "Пропуски в годе выпуска игры могли возникнуть из-за неивестности даты выхода игры, прпуски в рейтингах могли возникнуть потому что критик возможно не определился с оценкой, решил оставить пропуск. "
   ]
  },
  {
   "cell_type": "markdown",
   "metadata": {},
   "source": [
    "### Промежуточные выводы: Для начала я открыл файл с данными, изучил общую информацию о столбцах, их типах данных и исправил тип некоторых столбцов, потом уменьшил регистры в названиях столбцов, исправил пропуски, и создал новую таблицу для представления суммы продаж игр по регионам."
   ]
  },
  {
   "cell_type": "markdown",
   "metadata": {},
   "source": [
    "# Шаг 3"
   ]
  },
  {
   "cell_type": "code",
   "execution_count": 14,
   "metadata": {},
   "outputs": [
    {
     "name": "stdout",
     "output_type": "stream",
     "text": [
      "                 name  platform  genre  na_sales  eu_sales  jp_sales  \\\n",
      "year_of_release                                                        \n",
      "1980-01-01          9         9      9         9         9         9   \n",
      "1981-01-01         46        46     46        46        46        46   \n",
      "1982-01-01         36        36     36        36        36        36   \n",
      "1983-01-01         17        17     17        17        17        17   \n",
      "1984-01-01         14        14     14        14        14        14   \n",
      "1985-01-01         14        14     14        14        14        14   \n",
      "1986-01-01         21        21     21        21        21        21   \n",
      "1987-01-01         16        16     16        16        16        16   \n",
      "1988-01-01         15        15     15        15        15        15   \n",
      "1989-01-01         17        17     17        17        17        17   \n",
      "1990-01-01         16        16     16        16        16        16   \n",
      "1991-01-01         41        41     41        41        41        41   \n",
      "1992-01-01         43        43     43        43        43        43   \n",
      "1993-01-01         60        62     60        62        62        62   \n",
      "1994-01-01        121       121    121       121       121       121   \n",
      "1995-01-01        219       219    219       219       219       219   \n",
      "1996-01-01        263       263    263       263       263       263   \n",
      "1997-01-01        289       289    289       289       289       289   \n",
      "1998-01-01        379       379    379       379       379       379   \n",
      "1999-01-01        338       338    338       338       338       338   \n",
      "2000-01-01        350       350    350       350       350       350   \n",
      "2001-01-01        482       482    482       482       482       482   \n",
      "2002-01-01        829       829    829       829       829       829   \n",
      "2003-01-01        775       775    775       775       775       775   \n",
      "2004-01-01        762       762    762       762       762       762   \n",
      "2005-01-01        939       939    939       939       939       939   \n",
      "2006-01-01       1006      1006   1006      1006      1006      1006   \n",
      "2007-01-01       1197      1197   1197      1197      1197      1197   \n",
      "2008-01-01       1427      1427   1427      1427      1427      1427   \n",
      "2009-01-01       1426      1426   1426      1426      1426      1426   \n",
      "2010-01-01       1255      1255   1255      1255      1255      1255   \n",
      "2011-01-01       1136      1136   1136      1136      1136      1136   \n",
      "2012-01-01        653       653    653       653       653       653   \n",
      "2013-01-01        544       544    544       544       544       544   \n",
      "2014-01-01        581       581    581       581       581       581   \n",
      "2015-01-01        606       606    606       606       606       606   \n",
      "2016-01-01        502       502    502       502       502       502   \n",
      "\n",
      "                 other_sales  critic_score  user_score  rating  \n",
      "year_of_release                                                 \n",
      "1980-01-01                 9             0           0       0  \n",
      "1981-01-01                46             0           0       0  \n",
      "1982-01-01                36             0           0       0  \n",
      "1983-01-01                17             0           0       0  \n",
      "1984-01-01                14             0           0       0  \n",
      "1985-01-01                14             1           1       0  \n",
      "1986-01-01                21             0           0       0  \n",
      "1987-01-01                16             0           0       0  \n",
      "1988-01-01                15             1           1       0  \n",
      "1989-01-01                17             0           0       0  \n",
      "1990-01-01                16             0           0       0  \n",
      "1991-01-01                41             0           0       0  \n",
      "1992-01-01                43             1           1       0  \n",
      "1993-01-01                62             0           0       0  \n",
      "1994-01-01               121             1           1       0  \n",
      "1995-01-01               219             0           0       0  \n",
      "1996-01-01               263             8           8       0  \n",
      "1997-01-01               289            17          18       0  \n",
      "1998-01-01               379            28          31       0  \n",
      "1999-01-01               338            39          31       0  \n",
      "2000-01-01               350           143         107       0  \n",
      "2001-01-01               482           326         257       0  \n",
      "2002-01-01               829           627         464       0  \n",
      "2003-01-01               775           585         516       0  \n",
      "2004-01-01               762           561         489       0  \n",
      "2005-01-01               939           655         583       0  \n",
      "2006-01-01              1006           620         552       0  \n",
      "2007-01-01              1197           692         629       0  \n",
      "2008-01-01              1427           715         661       0  \n",
      "2009-01-01              1426           651         614       0  \n",
      "2010-01-01              1255           500         467       0  \n",
      "2011-01-01              1136           500         501       0  \n",
      "2012-01-01               653           321         339       0  \n",
      "2013-01-01               544           273         304       0  \n",
      "2014-01-01               581           261         329       0  \n",
      "2015-01-01               606           225         297       0  \n",
      "2016-01-01               502           232         262       0  \n"
     ]
    },
    {
     "data": {
      "text/plain": [
       "<Axes: >"
      ]
     },
     "execution_count": 14,
     "metadata": {},
     "output_type": "execute_result"
    },
    {
     "data": {
      "image/png": "[encoded data removed]",
      "text/plain": [
       "<Figure size 640x480 with 1 Axes>"
      ]
     },
     "metadata": {},
     "output_type": "display_data"
    }
   ],
   "source": [
    "print(data.groupby('year_of_release').count())\n",
    "data['year_of_release'].hist(bins=90)\n",
    "#посчитаем количество выпущенных игр по годам"
   ]
  },
  {
   "cell_type": "markdown",
   "metadata": {},
   "source": [
    "Исходя из данных таблицы можно сделать вывод что в период с 1980 по 2008 год количество выпущенных игр непрерывно росло, спад выпуска произошёл после 2009 года. Вполне вероятно, что на резкий спад выпуска игр повлиял мировой кризис 2008-2009 года."
   ]
  },
  {
   "cell_type": "code",
   "execution_count": 15,
   "metadata": {},
   "outputs": [
    {
     "data": {
      "text/html": [
       "<div>\n",
       "<style scoped>\n",
       "    .dataframe tbody tr th:only-of-type {\n",
       "        vertical-align: middle;\n",
       "    }\n",
       "\n",
       "    .dataframe tbody tr th {\n",
       "        vertical-align: top;\n",
       "    }\n",
       "\n",
       "    .dataframe thead th {\n",
       "        text-align: right;\n",
       "    }\n",
       "</style>\n",
       "<table border=\"1\" class=\"dataframe\">\n",
       "  <thead>\n",
       "    <tr style=\"text-align: right;\">\n",
       "      <th></th>\n",
       "      <th>name</th>\n",
       "      <th>year_of_release</th>\n",
       "      <th>genre</th>\n",
       "      <th>na_sales</th>\n",
       "      <th>eu_sales</th>\n",
       "      <th>jp_sales</th>\n",
       "      <th>other_sales</th>\n",
       "      <th>critic_score</th>\n",
       "      <th>user_score</th>\n",
       "      <th>rating</th>\n",
       "    </tr>\n",
       "    <tr>\n",
       "      <th>platform</th>\n",
       "      <th></th>\n",
       "      <th></th>\n",
       "      <th></th>\n",
       "      <th></th>\n",
       "      <th></th>\n",
       "      <th></th>\n",
       "      <th></th>\n",
       "      <th></th>\n",
       "      <th></th>\n",
       "      <th></th>\n",
       "    </tr>\n",
       "  </thead>\n",
       "  <tbody>\n",
       "    <tr>\n",
       "      <th>PS2</th>\n",
       "      <td>2161</td>\n",
       "      <td>2127</td>\n",
       "      <td>2161</td>\n",
       "      <td>2161</td>\n",
       "      <td>2161</td>\n",
       "      <td>2161</td>\n",
       "      <td>2161</td>\n",
       "      <td>1298</td>\n",
       "      <td>1241</td>\n",
       "      <td>0</td>\n",
       "    </tr>\n",
       "    <tr>\n",
       "      <th>DS</th>\n",
       "      <td>2151</td>\n",
       "      <td>2121</td>\n",
       "      <td>2151</td>\n",
       "      <td>2151</td>\n",
       "      <td>2151</td>\n",
       "      <td>2151</td>\n",
       "      <td>2151</td>\n",
       "      <td>717</td>\n",
       "      <td>516</td>\n",
       "      <td>0</td>\n",
       "    </tr>\n",
       "    <tr>\n",
       "      <th>PS3</th>\n",
       "      <td>1331</td>\n",
       "      <td>1306</td>\n",
       "      <td>1331</td>\n",
       "      <td>1331</td>\n",
       "      <td>1331</td>\n",
       "      <td>1331</td>\n",
       "      <td>1331</td>\n",
       "      <td>820</td>\n",
       "      <td>877</td>\n",
       "      <td>0</td>\n",
       "    </tr>\n",
       "    <tr>\n",
       "      <th>Wii</th>\n",
       "      <td>1320</td>\n",
       "      <td>1286</td>\n",
       "      <td>1320</td>\n",
       "      <td>1320</td>\n",
       "      <td>1320</td>\n",
       "      <td>1320</td>\n",
       "      <td>1320</td>\n",
       "      <td>585</td>\n",
       "      <td>560</td>\n",
       "      <td>0</td>\n",
       "    </tr>\n",
       "    <tr>\n",
       "      <th>X360</th>\n",
       "      <td>1262</td>\n",
       "      <td>1232</td>\n",
       "      <td>1262</td>\n",
       "      <td>1262</td>\n",
       "      <td>1262</td>\n",
       "      <td>1262</td>\n",
       "      <td>1262</td>\n",
       "      <td>916</td>\n",
       "      <td>966</td>\n",
       "      <td>0</td>\n",
       "    </tr>\n",
       "    <tr>\n",
       "      <th>PSP</th>\n",
       "      <td>1209</td>\n",
       "      <td>1193</td>\n",
       "      <td>1209</td>\n",
       "      <td>1209</td>\n",
       "      <td>1209</td>\n",
       "      <td>1209</td>\n",
       "      <td>1209</td>\n",
       "      <td>462</td>\n",
       "      <td>421</td>\n",
       "      <td>0</td>\n",
       "    </tr>\n",
       "    <tr>\n",
       "      <th>PS</th>\n",
       "      <td>1197</td>\n",
       "      <td>1190</td>\n",
       "      <td>1197</td>\n",
       "      <td>1197</td>\n",
       "      <td>1197</td>\n",
       "      <td>1197</td>\n",
       "      <td>1197</td>\n",
       "      <td>200</td>\n",
       "      <td>162</td>\n",
       "      <td>0</td>\n",
       "    </tr>\n",
       "    <tr>\n",
       "      <th>PC</th>\n",
       "      <td>974</td>\n",
       "      <td>957</td>\n",
       "      <td>974</td>\n",
       "      <td>974</td>\n",
       "      <td>974</td>\n",
       "      <td>974</td>\n",
       "      <td>974</td>\n",
       "      <td>715</td>\n",
       "      <td>770</td>\n",
       "      <td>0</td>\n",
       "    </tr>\n",
       "    <tr>\n",
       "      <th>XB</th>\n",
       "      <td>824</td>\n",
       "      <td>803</td>\n",
       "      <td>824</td>\n",
       "      <td>824</td>\n",
       "      <td>824</td>\n",
       "      <td>824</td>\n",
       "      <td>824</td>\n",
       "      <td>725</td>\n",
       "      <td>586</td>\n",
       "      <td>0</td>\n",
       "    </tr>\n",
       "    <tr>\n",
       "      <th>GBA</th>\n",
       "      <td>822</td>\n",
       "      <td>811</td>\n",
       "      <td>822</td>\n",
       "      <td>822</td>\n",
       "      <td>822</td>\n",
       "      <td>822</td>\n",
       "      <td>822</td>\n",
       "      <td>438</td>\n",
       "      <td>255</td>\n",
       "      <td>0</td>\n",
       "    </tr>\n",
       "    <tr>\n",
       "      <th>GC</th>\n",
       "      <td>556</td>\n",
       "      <td>542</td>\n",
       "      <td>556</td>\n",
       "      <td>556</td>\n",
       "      <td>556</td>\n",
       "      <td>556</td>\n",
       "      <td>556</td>\n",
       "      <td>448</td>\n",
       "      <td>366</td>\n",
       "      <td>0</td>\n",
       "    </tr>\n",
       "    <tr>\n",
       "      <th>3DS</th>\n",
       "      <td>520</td>\n",
       "      <td>512</td>\n",
       "      <td>520</td>\n",
       "      <td>520</td>\n",
       "      <td>520</td>\n",
       "      <td>520</td>\n",
       "      <td>520</td>\n",
       "      <td>168</td>\n",
       "      <td>174</td>\n",
       "      <td>0</td>\n",
       "    </tr>\n",
       "    <tr>\n",
       "      <th>PSV</th>\n",
       "      <td>430</td>\n",
       "      <td>429</td>\n",
       "      <td>430</td>\n",
       "      <td>430</td>\n",
       "      <td>430</td>\n",
       "      <td>430</td>\n",
       "      <td>430</td>\n",
       "      <td>120</td>\n",
       "      <td>143</td>\n",
       "      <td>0</td>\n",
       "    </tr>\n",
       "    <tr>\n",
       "      <th>PS4</th>\n",
       "      <td>392</td>\n",
       "      <td>392</td>\n",
       "      <td>392</td>\n",
       "      <td>392</td>\n",
       "      <td>392</td>\n",
       "      <td>392</td>\n",
       "      <td>392</td>\n",
       "      <td>252</td>\n",
       "      <td>257</td>\n",
       "      <td>0</td>\n",
       "    </tr>\n",
       "    <tr>\n",
       "      <th>N64</th>\n",
       "      <td>319</td>\n",
       "      <td>316</td>\n",
       "      <td>319</td>\n",
       "      <td>319</td>\n",
       "      <td>319</td>\n",
       "      <td>319</td>\n",
       "      <td>319</td>\n",
       "      <td>0</td>\n",
       "      <td>0</td>\n",
       "      <td>0</td>\n",
       "    </tr>\n",
       "    <tr>\n",
       "      <th>XOne</th>\n",
       "      <td>247</td>\n",
       "      <td>247</td>\n",
       "      <td>247</td>\n",
       "      <td>247</td>\n",
       "      <td>247</td>\n",
       "      <td>247</td>\n",
       "      <td>247</td>\n",
       "      <td>169</td>\n",
       "      <td>182</td>\n",
       "      <td>0</td>\n",
       "    </tr>\n",
       "    <tr>\n",
       "      <th>SNES</th>\n",
       "      <td>239</td>\n",
       "      <td>239</td>\n",
       "      <td>239</td>\n",
       "      <td>239</td>\n",
       "      <td>239</td>\n",
       "      <td>239</td>\n",
       "      <td>239</td>\n",
       "      <td>0</td>\n",
       "      <td>0</td>\n",
       "      <td>0</td>\n",
       "    </tr>\n",
       "    <tr>\n",
       "      <th>SAT</th>\n",
       "      <td>173</td>\n",
       "      <td>173</td>\n",
       "      <td>173</td>\n",
       "      <td>173</td>\n",
       "      <td>173</td>\n",
       "      <td>173</td>\n",
       "      <td>173</td>\n",
       "      <td>0</td>\n",
       "      <td>0</td>\n",
       "      <td>0</td>\n",
       "    </tr>\n",
       "    <tr>\n",
       "      <th>WiiU</th>\n",
       "      <td>147</td>\n",
       "      <td>147</td>\n",
       "      <td>147</td>\n",
       "      <td>147</td>\n",
       "      <td>147</td>\n",
       "      <td>147</td>\n",
       "      <td>147</td>\n",
       "      <td>90</td>\n",
       "      <td>100</td>\n",
       "      <td>0</td>\n",
       "    </tr>\n",
       "    <tr>\n",
       "      <th>2600</th>\n",
       "      <td>133</td>\n",
       "      <td>116</td>\n",
       "      <td>133</td>\n",
       "      <td>133</td>\n",
       "      <td>133</td>\n",
       "      <td>133</td>\n",
       "      <td>133</td>\n",
       "      <td>0</td>\n",
       "      <td>0</td>\n",
       "      <td>0</td>\n",
       "    </tr>\n",
       "    <tr>\n",
       "      <th>NES</th>\n",
       "      <td>98</td>\n",
       "      <td>98</td>\n",
       "      <td>98</td>\n",
       "      <td>98</td>\n",
       "      <td>98</td>\n",
       "      <td>98</td>\n",
       "      <td>98</td>\n",
       "      <td>0</td>\n",
       "      <td>0</td>\n",
       "      <td>0</td>\n",
       "    </tr>\n",
       "    <tr>\n",
       "      <th>GB</th>\n",
       "      <td>98</td>\n",
       "      <td>97</td>\n",
       "      <td>98</td>\n",
       "      <td>98</td>\n",
       "      <td>98</td>\n",
       "      <td>98</td>\n",
       "      <td>98</td>\n",
       "      <td>0</td>\n",
       "      <td>0</td>\n",
       "      <td>0</td>\n",
       "    </tr>\n",
       "    <tr>\n",
       "      <th>DC</th>\n",
       "      <td>52</td>\n",
       "      <td>52</td>\n",
       "      <td>52</td>\n",
       "      <td>52</td>\n",
       "      <td>52</td>\n",
       "      <td>52</td>\n",
       "      <td>52</td>\n",
       "      <td>14</td>\n",
       "      <td>14</td>\n",
       "      <td>0</td>\n",
       "    </tr>\n",
       "    <tr>\n",
       "      <th>GEN</th>\n",
       "      <td>27</td>\n",
       "      <td>29</td>\n",
       "      <td>27</td>\n",
       "      <td>29</td>\n",
       "      <td>29</td>\n",
       "      <td>29</td>\n",
       "      <td>29</td>\n",
       "      <td>0</td>\n",
       "      <td>0</td>\n",
       "      <td>0</td>\n",
       "    </tr>\n",
       "    <tr>\n",
       "      <th>NG</th>\n",
       "      <td>12</td>\n",
       "      <td>12</td>\n",
       "      <td>12</td>\n",
       "      <td>12</td>\n",
       "      <td>12</td>\n",
       "      <td>12</td>\n",
       "      <td>12</td>\n",
       "      <td>0</td>\n",
       "      <td>0</td>\n",
       "      <td>0</td>\n",
       "    </tr>\n",
       "    <tr>\n",
       "      <th>SCD</th>\n",
       "      <td>6</td>\n",
       "      <td>6</td>\n",
       "      <td>6</td>\n",
       "      <td>6</td>\n",
       "      <td>6</td>\n",
       "      <td>6</td>\n",
       "      <td>6</td>\n",
       "      <td>0</td>\n",
       "      <td>0</td>\n",
       "      <td>0</td>\n",
       "    </tr>\n",
       "    <tr>\n",
       "      <th>WS</th>\n",
       "      <td>6</td>\n",
       "      <td>6</td>\n",
       "      <td>6</td>\n",
       "      <td>6</td>\n",
       "      <td>6</td>\n",
       "      <td>6</td>\n",
       "      <td>6</td>\n",
       "      <td>0</td>\n",
       "      <td>0</td>\n",
       "      <td>0</td>\n",
       "    </tr>\n",
       "    <tr>\n",
       "      <th>3DO</th>\n",
       "      <td>3</td>\n",
       "      <td>3</td>\n",
       "      <td>3</td>\n",
       "      <td>3</td>\n",
       "      <td>3</td>\n",
       "      <td>3</td>\n",
       "      <td>3</td>\n",
       "      <td>0</td>\n",
       "      <td>0</td>\n",
       "      <td>0</td>\n",
       "    </tr>\n",
       "    <tr>\n",
       "      <th>TG16</th>\n",
       "      <td>2</td>\n",
       "      <td>2</td>\n",
       "      <td>2</td>\n",
       "      <td>2</td>\n",
       "      <td>2</td>\n",
       "      <td>2</td>\n",
       "      <td>2</td>\n",
       "      <td>0</td>\n",
       "      <td>0</td>\n",
       "      <td>0</td>\n",
       "    </tr>\n",
       "    <tr>\n",
       "      <th>PCFX</th>\n",
       "      <td>1</td>\n",
       "      <td>1</td>\n",
       "      <td>1</td>\n",
       "      <td>1</td>\n",
       "      <td>1</td>\n",
       "      <td>1</td>\n",
       "      <td>1</td>\n",
       "      <td>0</td>\n",
       "      <td>0</td>\n",
       "      <td>0</td>\n",
       "    </tr>\n",
       "    <tr>\n",
       "      <th>GG</th>\n",
       "      <td>1</td>\n",
       "      <td>1</td>\n",
       "      <td>1</td>\n",
       "      <td>1</td>\n",
       "      <td>1</td>\n",
       "      <td>1</td>\n",
       "      <td>1</td>\n",
       "      <td>0</td>\n",
       "      <td>0</td>\n",
       "      <td>0</td>\n",
       "    </tr>\n",
       "  </tbody>\n",
       "</table>\n",
       "</div>"
      ],
      "text/plain": [
       "          name  year_of_release  genre  na_sales  eu_sales  jp_sales  \\\n",
       "platform                                                               \n",
       "PS2       2161             2127   2161      2161      2161      2161   \n",
       "DS        2151             2121   2151      2151      2151      2151   \n",
       "PS3       1331             1306   1331      1331      1331      1331   \n",
       "Wii       1320             1286   1320      1320      1320      1320   \n",
       "X360      1262             1232   1262      1262      1262      1262   \n",
       "PSP       1209             1193   1209      1209      1209      1209   \n",
       "PS        1197             1190   1197      1197      1197      1197   \n",
       "PC         974              957    974       974       974       974   \n",
       "XB         824              803    824       824       824       824   \n",
       "GBA        822              811    822       822       822       822   \n",
       "GC         556              542    556       556       556       556   \n",
       "3DS        520              512    520       520       520       520   \n",
       "PSV        430              429    430       430       430       430   \n",
       "PS4        392              392    392       392       392       392   \n",
       "N64        319              316    319       319       319       319   \n",
       "XOne       247              247    247       247       247       247   \n",
       "SNES       239              239    239       239       239       239   \n",
       "SAT        173              173    173       173       173       173   \n",
       "WiiU       147              147    147       147       147       147   \n",
       "2600       133              116    133       133       133       133   \n",
       "NES         98               98     98        98        98        98   \n",
       "GB          98               97     98        98        98        98   \n",
       "DC          52               52     52        52        52        52   \n",
       "GEN         27               29     27        29        29        29   \n",
       "NG          12               12     12        12        12        12   \n",
       "SCD          6                6      6         6         6         6   \n",
       "WS           6                6      6         6         6         6   \n",
       "3DO          3                3      3         3         3         3   \n",
       "TG16         2                2      2         2         2         2   \n",
       "PCFX         1                1      1         1         1         1   \n",
       "GG           1                1      1         1         1         1   \n",
       "\n",
       "          other_sales  critic_score  user_score  rating  \n",
       "platform                                                 \n",
       "PS2              2161          1298        1241       0  \n",
       "DS               2151           717         516       0  \n",
       "PS3              1331           820         877       0  \n",
       "Wii              1320           585         560       0  \n",
       "X360             1262           916         966       0  \n",
       "PSP              1209           462         421       0  \n",
       "PS               1197           200         162       0  \n",
       "PC                974           715         770       0  \n",
       "XB                824           725         586       0  \n",
       "GBA               822           438         255       0  \n",
       "GC                556           448         366       0  \n",
       "3DS               520           168         174       0  \n",
       "PSV               430           120         143       0  \n",
       "PS4               392           252         257       0  \n",
       "N64               319             0           0       0  \n",
       "XOne              247           169         182       0  \n",
       "SNES              239             0           0       0  \n",
       "SAT               173             0           0       0  \n",
       "WiiU              147            90         100       0  \n",
       "2600              133             0           0       0  \n",
       "NES                98             0           0       0  \n",
       "GB                 98             0           0       0  \n",
       "DC                 52            14          14       0  \n",
       "GEN                29             0           0       0  \n",
       "NG                 12             0           0       0  \n",
       "SCD                 6             0           0       0  \n",
       "WS                  6             0           0       0  \n",
       "3DO                 3             0           0       0  \n",
       "TG16                2             0           0       0  \n",
       "PCFX                1             0           0       0  \n",
       "GG                  1             0           0       0  "
      ]
     },
     "execution_count": 15,
     "metadata": {},
     "output_type": "execute_result"
    }
   ],
   "source": [
    "plat_name = data.groupby('platform').count().sort_values(by='name', ascending=False)\n",
    "plat_name\n",
    "##посчитаем количество выпущенных игр по платформам"
   ]
  },
  {
   "cell_type": "code",
   "execution_count": 17,
   "metadata": {},
   "outputs": [
    {
     "name": "stderr",
     "output_type": "stream",
     "text": [
      "C:\\Users\\User\\AppData\\Local\\Temp\\ipykernel_49468\\394587284.py:2: SettingWithCopyWarning: \n",
      "A value is trying to be set on a copy of a slice from a DataFrame.\n",
      "Try using .loc[row_indexer,col_indexer] = value instead\n",
      "\n",
      "See the caveats in the documentation: https://pandas.pydata.org/pandas-docs/stable/user_guide/indexing.html#returning-a-view-versus-a-copy\n",
      "  actual_table['genre_sales_1'] = actual_table['na_sales'] + actual_table['eu_sales'] + actual_table['jp_sales'] + actual_table['other_sales']\n"
     ]
    },
    {
     "data": {
      "text/html": [
       "<div>\n",
       "<style scoped>\n",
       "    .dataframe tbody tr th:only-of-type {\n",
       "        vertical-align: middle;\n",
       "    }\n",
       "\n",
       "    .dataframe tbody tr th {\n",
       "        vertical-align: top;\n",
       "    }\n",
       "\n",
       "    .dataframe thead th {\n",
       "        text-align: right;\n",
       "    }\n",
       "</style>\n",
       "<table border=\"1\" class=\"dataframe\">\n",
       "  <thead>\n",
       "    <tr style=\"text-align: right;\">\n",
       "      <th></th>\n",
       "      <th>name</th>\n",
       "      <th>platform</th>\n",
       "      <th>year_of_release</th>\n",
       "      <th>genre</th>\n",
       "      <th>na_sales</th>\n",
       "      <th>eu_sales</th>\n",
       "      <th>jp_sales</th>\n",
       "      <th>other_sales</th>\n",
       "      <th>critic_score</th>\n",
       "      <th>user_score</th>\n",
       "      <th>rating</th>\n",
       "      <th>genre_sales_1</th>\n",
       "    </tr>\n",
       "  </thead>\n",
       "  <tbody>\n",
       "    <tr>\n",
       "      <th>31</th>\n",
       "      <td>Call of Duty: Black Ops 3</td>\n",
       "      <td>PS4</td>\n",
       "      <td>2015-01-01</td>\n",
       "      <td>Shooter</td>\n",
       "      <td>6.03</td>\n",
       "      <td>5.86</td>\n",
       "      <td>0.36</td>\n",
       "      <td>2.38</td>\n",
       "      <td>NaN</td>\n",
       "      <td>NaN</td>\n",
       "      <td>NaN</td>\n",
       "      <td>14.63</td>\n",
       "    </tr>\n",
       "    <tr>\n",
       "      <th>42</th>\n",
       "      <td>Grand Theft Auto V</td>\n",
       "      <td>PS4</td>\n",
       "      <td>2014-01-01</td>\n",
       "      <td>Action</td>\n",
       "      <td>3.96</td>\n",
       "      <td>6.31</td>\n",
       "      <td>0.38</td>\n",
       "      <td>1.97</td>\n",
       "      <td>97.0</td>\n",
       "      <td>8.3</td>\n",
       "      <td>NaN</td>\n",
       "      <td>12.62</td>\n",
       "    </tr>\n",
       "    <tr>\n",
       "      <th>47</th>\n",
       "      <td>Pokemon Omega Ruby/Pokemon Alpha Sapphire</td>\n",
       "      <td>3DS</td>\n",
       "      <td>2014-01-01</td>\n",
       "      <td>Role-Playing</td>\n",
       "      <td>4.35</td>\n",
       "      <td>3.49</td>\n",
       "      <td>3.10</td>\n",
       "      <td>0.74</td>\n",
       "      <td>NaN</td>\n",
       "      <td>NaN</td>\n",
       "      <td>NaN</td>\n",
       "      <td>11.68</td>\n",
       "    </tr>\n",
       "    <tr>\n",
       "      <th>77</th>\n",
       "      <td>FIFA 16</td>\n",
       "      <td>PS4</td>\n",
       "      <td>2015-01-01</td>\n",
       "      <td>Sports</td>\n",
       "      <td>1.12</td>\n",
       "      <td>6.12</td>\n",
       "      <td>0.06</td>\n",
       "      <td>1.28</td>\n",
       "      <td>82.0</td>\n",
       "      <td>4.3</td>\n",
       "      <td>NaN</td>\n",
       "      <td>8.58</td>\n",
       "    </tr>\n",
       "    <tr>\n",
       "      <th>87</th>\n",
       "      <td>Star Wars Battlefront (2015)</td>\n",
       "      <td>PS4</td>\n",
       "      <td>2015-01-01</td>\n",
       "      <td>Shooter</td>\n",
       "      <td>2.99</td>\n",
       "      <td>3.49</td>\n",
       "      <td>0.22</td>\n",
       "      <td>1.28</td>\n",
       "      <td>NaN</td>\n",
       "      <td>NaN</td>\n",
       "      <td>NaN</td>\n",
       "      <td>7.98</td>\n",
       "    </tr>\n",
       "    <tr>\n",
       "      <th>92</th>\n",
       "      <td>Call of Duty: Advanced Warfare</td>\n",
       "      <td>PS4</td>\n",
       "      <td>2014-01-01</td>\n",
       "      <td>Shooter</td>\n",
       "      <td>2.81</td>\n",
       "      <td>3.48</td>\n",
       "      <td>0.14</td>\n",
       "      <td>1.23</td>\n",
       "      <td>83.0</td>\n",
       "      <td>5.7</td>\n",
       "      <td>NaN</td>\n",
       "      <td>7.66</td>\n",
       "    </tr>\n",
       "    <tr>\n",
       "      <th>94</th>\n",
       "      <td>FIFA 17</td>\n",
       "      <td>PS4</td>\n",
       "      <td>2016-01-01</td>\n",
       "      <td>Sports</td>\n",
       "      <td>0.66</td>\n",
       "      <td>5.75</td>\n",
       "      <td>0.08</td>\n",
       "      <td>1.11</td>\n",
       "      <td>85.0</td>\n",
       "      <td>5.0</td>\n",
       "      <td>NaN</td>\n",
       "      <td>7.60</td>\n",
       "    </tr>\n",
       "    <tr>\n",
       "      <th>96</th>\n",
       "      <td>Super Smash Bros. for Wii U and 3DS</td>\n",
       "      <td>3DS</td>\n",
       "      <td>2014-01-01</td>\n",
       "      <td>Fighting</td>\n",
       "      <td>3.27</td>\n",
       "      <td>1.37</td>\n",
       "      <td>2.43</td>\n",
       "      <td>0.48</td>\n",
       "      <td>NaN</td>\n",
       "      <td>NaN</td>\n",
       "      <td>NaN</td>\n",
       "      <td>7.55</td>\n",
       "    </tr>\n",
       "    <tr>\n",
       "      <th>99</th>\n",
       "      <td>Call of Duty: Black Ops 3</td>\n",
       "      <td>XOne</td>\n",
       "      <td>2015-01-01</td>\n",
       "      <td>Shooter</td>\n",
       "      <td>4.59</td>\n",
       "      <td>2.11</td>\n",
       "      <td>0.01</td>\n",
       "      <td>0.68</td>\n",
       "      <td>NaN</td>\n",
       "      <td>NaN</td>\n",
       "      <td>NaN</td>\n",
       "      <td>7.39</td>\n",
       "    </tr>\n",
       "    <tr>\n",
       "      <th>105</th>\n",
       "      <td>Fallout 4</td>\n",
       "      <td>PS4</td>\n",
       "      <td>2015-01-01</td>\n",
       "      <td>Role-Playing</td>\n",
       "      <td>2.53</td>\n",
       "      <td>3.27</td>\n",
       "      <td>0.24</td>\n",
       "      <td>1.13</td>\n",
       "      <td>87.0</td>\n",
       "      <td>6.5</td>\n",
       "      <td>NaN</td>\n",
       "      <td>7.17</td>\n",
       "    </tr>\n",
       "  </tbody>\n",
       "</table>\n",
       "</div>"
      ],
      "text/plain": [
       "                                          name platform year_of_release  \\\n",
       "31                   Call of Duty: Black Ops 3      PS4      2015-01-01   \n",
       "42                          Grand Theft Auto V      PS4      2014-01-01   \n",
       "47   Pokemon Omega Ruby/Pokemon Alpha Sapphire      3DS      2014-01-01   \n",
       "77                                     FIFA 16      PS4      2015-01-01   \n",
       "87                Star Wars Battlefront (2015)      PS4      2015-01-01   \n",
       "92              Call of Duty: Advanced Warfare      PS4      2014-01-01   \n",
       "94                                     FIFA 17      PS4      2016-01-01   \n",
       "96         Super Smash Bros. for Wii U and 3DS      3DS      2014-01-01   \n",
       "99                   Call of Duty: Black Ops 3     XOne      2015-01-01   \n",
       "105                                  Fallout 4      PS4      2015-01-01   \n",
       "\n",
       "            genre  na_sales  eu_sales  jp_sales  other_sales  critic_score  \\\n",
       "31        Shooter      6.03      5.86      0.36         2.38           NaN   \n",
       "42         Action      3.96      6.31      0.38         1.97          97.0   \n",
       "47   Role-Playing      4.35      3.49      3.10         0.74           NaN   \n",
       "77         Sports      1.12      6.12      0.06         1.28          82.0   \n",
       "87        Shooter      2.99      3.49      0.22         1.28           NaN   \n",
       "92        Shooter      2.81      3.48      0.14         1.23          83.0   \n",
       "94         Sports      0.66      5.75      0.08         1.11          85.0   \n",
       "96       Fighting      3.27      1.37      2.43         0.48           NaN   \n",
       "99        Shooter      4.59      2.11      0.01         0.68           NaN   \n",
       "105  Role-Playing      2.53      3.27      0.24         1.13          87.0   \n",
       "\n",
       "     user_score  rating  genre_sales_1  \n",
       "31          NaN     NaN          14.63  \n",
       "42          8.3     NaN          12.62  \n",
       "47          NaN     NaN          11.68  \n",
       "77          4.3     NaN           8.58  \n",
       "87          NaN     NaN           7.98  \n",
       "92          5.7     NaN           7.66  \n",
       "94          5.0     NaN           7.60  \n",
       "96          NaN     NaN           7.55  \n",
       "99          NaN     NaN           7.39  \n",
       "105         6.5     NaN           7.17  "
      ]
     },
     "execution_count": 17,
     "metadata": {},
     "output_type": "execute_result"
    }
   ],
   "source": [
    "actual_table = data[(data['year_of_release'] == '2016') | (data['year_of_release'] == '2015') | (data['year_of_release'] == '2014')]\n",
    "actual_table['genre_sales_1'] = actual_table['na_sales'] + actual_table['eu_sales'] + actual_table['jp_sales'] + actual_table['other_sales']\n",
    "actual_table.head(10)\n",
    "#Создадим актуальную таблицу за 2014-2016 года"
   ]
  },
  {
   "cell_type": "code",
   "execution_count": 18,
   "metadata": {},
   "outputs": [
    {
     "data": {
      "text/plain": [
       "platform\n",
       "PS2     1255.77\n",
       "X360     971.42\n",
       "PS3      939.65\n",
       "Wii      907.51\n",
       "DS       806.12\n",
       "PS       730.86\n",
       "GBA      317.85\n",
       "PS4      314.14\n",
       "PSP      294.05\n",
       "PC       259.52\n",
       "3DS      259.00\n",
       "XB       257.74\n",
       "GB       255.46\n",
       "NES      251.05\n",
       "N64      218.68\n",
       "SNES     200.04\n",
       "GC       198.93\n",
       "XOne     159.32\n",
       "2600      96.98\n",
       "WiiU      82.19\n",
       "PSV       54.07\n",
       "SAT       33.59\n",
       "GEN       30.77\n",
       "DC        15.95\n",
       "SCD        1.86\n",
       "NG         1.44\n",
       "WS         1.42\n",
       "TG16       0.16\n",
       "3DO        0.10\n",
       "GG         0.04\n",
       "PCFX       0.03\n",
       "Name: total_sales, dtype: float64"
      ]
     },
     "execution_count": 18,
     "metadata": {},
     "output_type": "execute_result"
    }
   ],
   "source": [
    "data['total_sales'] = data[['na_sales', 'eu_sales', 'jp_sales', 'other_sales']].sum(axis=1)\n",
    "data.groupby('platform')['total_sales'].agg(sum).sort_values(ascending=False)"
   ]
  },
  {
   "cell_type": "markdown",
   "metadata": {},
   "source": [
    "За актуальный период буду использовать 2016, 2015 и 2014 года."
   ]
  },
  {
   "cell_type": "code",
   "execution_count": 19,
   "metadata": {},
   "outputs": [
    {
     "data": {
      "text/html": [
       "<div>\n",
       "<style scoped>\n",
       "    .dataframe tbody tr th:only-of-type {\n",
       "        vertical-align: middle;\n",
       "    }\n",
       "\n",
       "    .dataframe tbody tr th {\n",
       "        vertical-align: top;\n",
       "    }\n",
       "\n",
       "    .dataframe thead th {\n",
       "        text-align: right;\n",
       "    }\n",
       "</style>\n",
       "<table border=\"1\" class=\"dataframe\">\n",
       "  <thead>\n",
       "    <tr style=\"text-align: right;\">\n",
       "      <th></th>\n",
       "      <th>name</th>\n",
       "      <th>year_of_release</th>\n",
       "      <th>genre</th>\n",
       "      <th>na_sales</th>\n",
       "      <th>eu_sales</th>\n",
       "      <th>jp_sales</th>\n",
       "      <th>other_sales</th>\n",
       "      <th>critic_score</th>\n",
       "      <th>user_score</th>\n",
       "      <th>rating</th>\n",
       "      <th>total_sales</th>\n",
       "    </tr>\n",
       "    <tr>\n",
       "      <th>platform</th>\n",
       "      <th></th>\n",
       "      <th></th>\n",
       "      <th></th>\n",
       "      <th></th>\n",
       "      <th></th>\n",
       "      <th></th>\n",
       "      <th></th>\n",
       "      <th></th>\n",
       "      <th></th>\n",
       "      <th></th>\n",
       "      <th></th>\n",
       "    </tr>\n",
       "  </thead>\n",
       "  <tbody>\n",
       "    <tr>\n",
       "      <th>PS4</th>\n",
       "      <td>376</td>\n",
       "      <td>376</td>\n",
       "      <td>376</td>\n",
       "      <td>376</td>\n",
       "      <td>376</td>\n",
       "      <td>376</td>\n",
       "      <td>376</td>\n",
       "      <td>237</td>\n",
       "      <td>242</td>\n",
       "      <td>0</td>\n",
       "      <td>376</td>\n",
       "    </tr>\n",
       "    <tr>\n",
       "      <th>PSV</th>\n",
       "      <td>295</td>\n",
       "      <td>295</td>\n",
       "      <td>295</td>\n",
       "      <td>295</td>\n",
       "      <td>295</td>\n",
       "      <td>295</td>\n",
       "      <td>295</td>\n",
       "      <td>54</td>\n",
       "      <td>73</td>\n",
       "      <td>0</td>\n",
       "      <td>295</td>\n",
       "    </tr>\n",
       "    <tr>\n",
       "      <th>XOne</th>\n",
       "      <td>228</td>\n",
       "      <td>228</td>\n",
       "      <td>228</td>\n",
       "      <td>228</td>\n",
       "      <td>228</td>\n",
       "      <td>228</td>\n",
       "      <td>228</td>\n",
       "      <td>155</td>\n",
       "      <td>165</td>\n",
       "      <td>0</td>\n",
       "      <td>228</td>\n",
       "    </tr>\n",
       "    <tr>\n",
       "      <th>PS3</th>\n",
       "      <td>219</td>\n",
       "      <td>219</td>\n",
       "      <td>219</td>\n",
       "      <td>219</td>\n",
       "      <td>219</td>\n",
       "      <td>219</td>\n",
       "      <td>219</td>\n",
       "      <td>36</td>\n",
       "      <td>98</td>\n",
       "      <td>0</td>\n",
       "      <td>219</td>\n",
       "    </tr>\n",
       "    <tr>\n",
       "      <th>3DS</th>\n",
       "      <td>212</td>\n",
       "      <td>212</td>\n",
       "      <td>212</td>\n",
       "      <td>212</td>\n",
       "      <td>212</td>\n",
       "      <td>212</td>\n",
       "      <td>212</td>\n",
       "      <td>51</td>\n",
       "      <td>55</td>\n",
       "      <td>0</td>\n",
       "      <td>212</td>\n",
       "    </tr>\n",
       "    <tr>\n",
       "      <th>PC</th>\n",
       "      <td>151</td>\n",
       "      <td>151</td>\n",
       "      <td>151</td>\n",
       "      <td>151</td>\n",
       "      <td>151</td>\n",
       "      <td>151</td>\n",
       "      <td>151</td>\n",
       "      <td>116</td>\n",
       "      <td>122</td>\n",
       "      <td>0</td>\n",
       "      <td>151</td>\n",
       "    </tr>\n",
       "    <tr>\n",
       "      <th>X360</th>\n",
       "      <td>111</td>\n",
       "      <td>111</td>\n",
       "      <td>111</td>\n",
       "      <td>111</td>\n",
       "      <td>111</td>\n",
       "      <td>111</td>\n",
       "      <td>111</td>\n",
       "      <td>26</td>\n",
       "      <td>83</td>\n",
       "      <td>0</td>\n",
       "      <td>111</td>\n",
       "    </tr>\n",
       "    <tr>\n",
       "      <th>WiiU</th>\n",
       "      <td>73</td>\n",
       "      <td>73</td>\n",
       "      <td>73</td>\n",
       "      <td>73</td>\n",
       "      <td>73</td>\n",
       "      <td>73</td>\n",
       "      <td>73</td>\n",
       "      <td>43</td>\n",
       "      <td>48</td>\n",
       "      <td>0</td>\n",
       "      <td>73</td>\n",
       "    </tr>\n",
       "    <tr>\n",
       "      <th>PSP</th>\n",
       "      <td>13</td>\n",
       "      <td>13</td>\n",
       "      <td>13</td>\n",
       "      <td>13</td>\n",
       "      <td>13</td>\n",
       "      <td>13</td>\n",
       "      <td>13</td>\n",
       "      <td>0</td>\n",
       "      <td>0</td>\n",
       "      <td>0</td>\n",
       "      <td>13</td>\n",
       "    </tr>\n",
       "    <tr>\n",
       "      <th>Wii</th>\n",
       "      <td>11</td>\n",
       "      <td>11</td>\n",
       "      <td>11</td>\n",
       "      <td>11</td>\n",
       "      <td>11</td>\n",
       "      <td>11</td>\n",
       "      <td>11</td>\n",
       "      <td>0</td>\n",
       "      <td>2</td>\n",
       "      <td>0</td>\n",
       "      <td>11</td>\n",
       "    </tr>\n",
       "  </tbody>\n",
       "</table>\n",
       "</div>"
      ],
      "text/plain": [
       "          name  year_of_release  genre  na_sales  eu_sales  jp_sales  \\\n",
       "platform                                                               \n",
       "PS4        376              376    376       376       376       376   \n",
       "PSV        295              295    295       295       295       295   \n",
       "XOne       228              228    228       228       228       228   \n",
       "PS3        219              219    219       219       219       219   \n",
       "3DS        212              212    212       212       212       212   \n",
       "PC         151              151    151       151       151       151   \n",
       "X360       111              111    111       111       111       111   \n",
       "WiiU        73               73     73        73        73        73   \n",
       "PSP         13               13     13        13        13        13   \n",
       "Wii         11               11     11        11        11        11   \n",
       "\n",
       "          other_sales  critic_score  user_score  rating  total_sales  \n",
       "platform                                                              \n",
       "PS4               376           237         242       0          376  \n",
       "PSV               295            54          73       0          295  \n",
       "XOne              228           155         165       0          228  \n",
       "PS3               219            36          98       0          219  \n",
       "3DS               212            51          55       0          212  \n",
       "PC                151           116         122       0          151  \n",
       "X360              111            26          83       0          111  \n",
       "WiiU               73            43          48       0           73  \n",
       "PSP                13             0           0       0           13  \n",
       "Wii                11             0           2       0           11  "
      ]
     },
     "execution_count": 19,
     "metadata": {},
     "output_type": "execute_result"
    }
   ],
   "source": [
    "plat = data[(data['year_of_release'] == '2016') | (data['year_of_release'] == '2015') | (data['year_of_release'] == '2014')]\n",
    "plat.groupby('platform').count().sort_values(by='name', ascending=False)\n",
    "#Найдём лидера продаж игр за 2014-2016 годы\n",
    "#количество выпущенных игр"
   ]
  },
  {
   "cell_type": "markdown",
   "metadata": {},
   "source": [
    "Можно выделить наиболее потенциально прибыльные платформы: PS4, PSV и XOne."
   ]
  },
  {
   "cell_type": "code",
   "execution_count": 20,
   "metadata": {},
   "outputs": [
    {
     "name": "stderr",
     "output_type": "stream",
     "text": [
      "C:\\Users\\User\\AppData\\Local\\Temp\\ipykernel_49468\\3183098321.py:1: FutureWarning: The default value of numeric_only in DataFrameGroupBy.sum is deprecated. In a future version, numeric_only will default to False. Either specify numeric_only or select only columns which should be valid for the function.\n",
      "  plat_l = actual_table.groupby('platform').sum().sort_values(by='genre_sales_1', ascending=False)\n"
     ]
    },
    {
     "data": {
      "text/html": [
       "<div>\n",
       "<style scoped>\n",
       "    .dataframe tbody tr th:only-of-type {\n",
       "        vertical-align: middle;\n",
       "    }\n",
       "\n",
       "    .dataframe tbody tr th {\n",
       "        vertical-align: top;\n",
       "    }\n",
       "\n",
       "    .dataframe thead th {\n",
       "        text-align: right;\n",
       "    }\n",
       "</style>\n",
       "<table border=\"1\" class=\"dataframe\">\n",
       "  <thead>\n",
       "    <tr style=\"text-align: right;\">\n",
       "      <th></th>\n",
       "      <th>na_sales</th>\n",
       "      <th>eu_sales</th>\n",
       "      <th>jp_sales</th>\n",
       "      <th>other_sales</th>\n",
       "      <th>critic_score</th>\n",
       "      <th>user_score</th>\n",
       "      <th>rating</th>\n",
       "      <th>genre_sales_1</th>\n",
       "    </tr>\n",
       "    <tr>\n",
       "      <th>platform</th>\n",
       "      <th></th>\n",
       "      <th></th>\n",
       "      <th></th>\n",
       "      <th></th>\n",
       "      <th></th>\n",
       "      <th></th>\n",
       "      <th></th>\n",
       "      <th></th>\n",
       "    </tr>\n",
       "  </thead>\n",
       "  <tbody>\n",
       "    <tr>\n",
       "      <th>PS4</th>\n",
       "      <td>98.61</td>\n",
       "      <td>130.04</td>\n",
       "      <td>15.02</td>\n",
       "      <td>44.48</td>\n",
       "      <td>17103.0</td>\n",
       "      <td>1652.4</td>\n",
       "      <td>0.0</td>\n",
       "      <td>288.15</td>\n",
       "    </tr>\n",
       "    <tr>\n",
       "      <th>XOne</th>\n",
       "      <td>81.27</td>\n",
       "      <td>46.25</td>\n",
       "      <td>0.32</td>\n",
       "      <td>12.52</td>\n",
       "      <td>11438.0</td>\n",
       "      <td>1088.1</td>\n",
       "      <td>0.0</td>\n",
       "      <td>140.36</td>\n",
       "    </tr>\n",
       "    <tr>\n",
       "      <th>3DS</th>\n",
       "      <td>22.64</td>\n",
       "      <td>16.12</td>\n",
       "      <td>44.24</td>\n",
       "      <td>3.68</td>\n",
       "      <td>3518.0</td>\n",
       "      <td>392.6</td>\n",
       "      <td>0.0</td>\n",
       "      <td>86.68</td>\n",
       "    </tr>\n",
       "    <tr>\n",
       "      <th>PS3</th>\n",
       "      <td>22.05</td>\n",
       "      <td>25.54</td>\n",
       "      <td>11.22</td>\n",
       "      <td>9.37</td>\n",
       "      <td>2396.0</td>\n",
       "      <td>589.4</td>\n",
       "      <td>0.0</td>\n",
       "      <td>68.18</td>\n",
       "    </tr>\n",
       "    <tr>\n",
       "      <th>X360</th>\n",
       "      <td>28.30</td>\n",
       "      <td>15.49</td>\n",
       "      <td>0.08</td>\n",
       "      <td>4.35</td>\n",
       "      <td>1657.0</td>\n",
       "      <td>479.0</td>\n",
       "      <td>0.0</td>\n",
       "      <td>48.22</td>\n",
       "    </tr>\n",
       "    <tr>\n",
       "      <th>WiiU</th>\n",
       "      <td>19.36</td>\n",
       "      <td>13.15</td>\n",
       "      <td>7.31</td>\n",
       "      <td>3.16</td>\n",
       "      <td>3061.0</td>\n",
       "      <td>340.2</td>\n",
       "      <td>0.0</td>\n",
       "      <td>42.98</td>\n",
       "    </tr>\n",
       "    <tr>\n",
       "      <th>PC</th>\n",
       "      <td>7.23</td>\n",
       "      <td>17.97</td>\n",
       "      <td>0.00</td>\n",
       "      <td>1.85</td>\n",
       "      <td>8841.0</td>\n",
       "      <td>768.4</td>\n",
       "      <td>0.0</td>\n",
       "      <td>27.05</td>\n",
       "    </tr>\n",
       "    <tr>\n",
       "      <th>PSV</th>\n",
       "      <td>2.52</td>\n",
       "      <td>3.53</td>\n",
       "      <td>14.54</td>\n",
       "      <td>1.81</td>\n",
       "      <td>3902.0</td>\n",
       "      <td>558.9</td>\n",
       "      <td>0.0</td>\n",
       "      <td>22.40</td>\n",
       "    </tr>\n",
       "    <tr>\n",
       "      <th>Wii</th>\n",
       "      <td>2.08</td>\n",
       "      <td>2.59</td>\n",
       "      <td>0.00</td>\n",
       "      <td>0.40</td>\n",
       "      <td>0.0</td>\n",
       "      <td>12.7</td>\n",
       "      <td>0.0</td>\n",
       "      <td>5.07</td>\n",
       "    </tr>\n",
       "    <tr>\n",
       "      <th>PSP</th>\n",
       "      <td>0.00</td>\n",
       "      <td>0.00</td>\n",
       "      <td>0.36</td>\n",
       "      <td>0.00</td>\n",
       "      <td>0.0</td>\n",
       "      <td>0.0</td>\n",
       "      <td>0.0</td>\n",
       "      <td>0.36</td>\n",
       "    </tr>\n",
       "  </tbody>\n",
       "</table>\n",
       "</div>"
      ],
      "text/plain": [
       "          na_sales  eu_sales  jp_sales  other_sales  critic_score  user_score  \\\n",
       "platform                                                                        \n",
       "PS4          98.61    130.04     15.02        44.48       17103.0      1652.4   \n",
       "XOne         81.27     46.25      0.32        12.52       11438.0      1088.1   \n",
       "3DS          22.64     16.12     44.24         3.68        3518.0       392.6   \n",
       "PS3          22.05     25.54     11.22         9.37        2396.0       589.4   \n",
       "X360         28.30     15.49      0.08         4.35        1657.0       479.0   \n",
       "WiiU         19.36     13.15      7.31         3.16        3061.0       340.2   \n",
       "PC            7.23     17.97      0.00         1.85        8841.0       768.4   \n",
       "PSV           2.52      3.53     14.54         1.81        3902.0       558.9   \n",
       "Wii           2.08      2.59      0.00         0.40           0.0        12.7   \n",
       "PSP           0.00      0.00      0.36         0.00           0.0         0.0   \n",
       "\n",
       "          rating  genre_sales_1  \n",
       "platform                         \n",
       "PS4          0.0         288.15  \n",
       "XOne         0.0         140.36  \n",
       "3DS          0.0          86.68  \n",
       "PS3          0.0          68.18  \n",
       "X360         0.0          48.22  \n",
       "WiiU         0.0          42.98  \n",
       "PC           0.0          27.05  \n",
       "PSV          0.0          22.40  \n",
       "Wii          0.0           5.07  \n",
       "PSP          0.0           0.36  "
      ]
     },
     "execution_count": 20,
     "metadata": {},
     "output_type": "execute_result"
    }
   ],
   "source": [
    "plat_l = actual_table.groupby('platform').sum().sort_values(by='genre_sales_1', ascending=False)\n",
    "plat_l"
   ]
  },
  {
   "cell_type": "code",
   "execution_count": 38,
   "metadata": {},
   "outputs": [
    {
     "data": {
      "text/plain": [
       "<AxesSubplot:>"
      ]
     },
     "execution_count": 38,
     "metadata": {},
     "output_type": "execute_result"
    },
    {
     "data": {
      "image/png": "[encoded data removed]",
      "text/plain": [
       "<Figure size 432x288 with 1 Axes>"
      ]
     },
     "metadata": {
      "needs_background": "light"
     },
     "output_type": "display_data"
    }
   ],
   "source": [
    "ac_t_PS4 = actual_table[(actual_table['platform'] == 'PS4')]\n",
    "ac_t_PS4.boxplot('genre_sales_1')"
   ]
  },
  {
   "cell_type": "code",
   "execution_count": 39,
   "metadata": {},
   "outputs": [
    {
     "data": {
      "text/plain": [
       "<AxesSubplot:>"
      ]
     },
     "execution_count": 39,
     "metadata": {},
     "output_type": "execute_result"
    },
    {
     "data": {
      "image/png": "[encoded data removed]",
      "text/plain": [
       "<Figure size 432x288 with 1 Axes>"
      ]
     },
     "metadata": {
      "needs_background": "light"
     },
     "output_type": "display_data"
    }
   ],
   "source": [
    "ac_t_XOne = actual_table[(actual_table['platform'] == 'XOne')]\n",
    "ac_t_XOne.boxplot('genre_sales_1')"
   ]
  },
  {
   "cell_type": "code",
   "execution_count": 40,
   "metadata": {},
   "outputs": [
    {
     "data": {
      "text/plain": [
       "<AxesSubplot:>"
      ]
     },
     "execution_count": 40,
     "metadata": {},
     "output_type": "execute_result"
    },
    {
     "data": {
      "image/png": "[encoded data removed]",
      "text/plain": [
       "<Figure size 432x288 with 1 Axes>"
      ]
     },
     "metadata": {
      "needs_background": "light"
     },
     "output_type": "display_data"
    }
   ],
   "source": [
    "ac_t_3DS = actual_table[(actual_table['platform'] == '3DS')]\n",
    "ac_t_3DS.boxplot('genre_sales_1')"
   ]
  },
  {
   "cell_type": "code",
   "execution_count": 41,
   "metadata": {},
   "outputs": [
    {
     "data": {
      "text/plain": [
       "<AxesSubplot:>"
      ]
     },
     "execution_count": 41,
     "metadata": {},
     "output_type": "execute_result"
    },
    {
     "data": {
      "image/png": "[encoded data removed]",
      "text/plain": [
       "<Figure size 432x288 with 1 Axes>"
      ]
     },
     "metadata": {
      "needs_background": "light"
     },
     "output_type": "display_data"
    }
   ],
   "source": [
    "ac_t_PS3 = actual_table[(actual_table['platform'] == 'PS3')]\n",
    "ac_t_PS3.boxplot('genre_sales_1')"
   ]
  },
  {
   "cell_type": "code",
   "execution_count": 42,
   "metadata": {},
   "outputs": [
    {
     "data": {
      "text/plain": [
       "<AxesSubplot:>"
      ]
     },
     "execution_count": 42,
     "metadata": {},
     "output_type": "execute_result"
    },
    {
     "data": {
      "image/png": "[encoded data removed]",
      "text/plain": [
       "<Figure size 432x288 with 1 Axes>"
      ]
     },
     "metadata": {
      "needs_background": "light"
     },
     "output_type": "display_data"
    }
   ],
   "source": [
    "ac_t_X360 = actual_table[(actual_table['platform'] == 'X360')]\n",
    "ac_t_X360.boxplot('genre_sales_1')"
   ]
  },
  {
   "cell_type": "code",
   "execution_count": 43,
   "metadata": {},
   "outputs": [
    {
     "data": {
      "text/plain": [
       "<AxesSubplot:>"
      ]
     },
     "execution_count": 43,
     "metadata": {},
     "output_type": "execute_result"
    },
    {
     "data": {
      "image/png": "[encoded data removed]",
      "text/plain": [
       "<Figure size 432x288 with 1 Axes>"
      ]
     },
     "metadata": {
      "needs_background": "light"
     },
     "output_type": "display_data"
    }
   ],
   "source": [
    "ac_t_WiiU = actual_table[(actual_table['platform'] == 'WiiU')]\n",
    "ac_t_WiiU.boxplot('genre_sales_1')"
   ]
  },
  {
   "cell_type": "code",
   "execution_count": 44,
   "metadata": {},
   "outputs": [
    {
     "data": {
      "text/plain": [
       "<AxesSubplot:>"
      ]
     },
     "execution_count": 44,
     "metadata": {},
     "output_type": "execute_result"
    },
    {
     "data": {
      "image/png": "[encoded data removed]",
      "text/plain": [
       "<Figure size 432x288 with 1 Axes>"
      ]
     },
     "metadata": {
      "needs_background": "light"
     },
     "output_type": "display_data"
    }
   ],
   "source": [
    "ac_t_PC = actual_table[(actual_table['platform'] == 'PC')]\n",
    "ac_t_PC.boxplot('genre_sales_1')"
   ]
  },
  {
   "cell_type": "code",
   "execution_count": 45,
   "metadata": {},
   "outputs": [
    {
     "data": {
      "text/plain": [
       "<AxesSubplot:>"
      ]
     },
     "execution_count": 45,
     "metadata": {},
     "output_type": "execute_result"
    },
    {
     "data": {
      "image/png": "[encoded data removed]",
      "text/plain": [
       "<Figure size 432x288 with 1 Axes>"
      ]
     },
     "metadata": {
      "needs_background": "light"
     },
     "output_type": "display_data"
    }
   ],
   "source": [
    "ac_t_PSV = actual_table[(actual_table['platform'] == 'PSV')]\n",
    "ac_t_PSV.boxplot('genre_sales_1')"
   ]
  },
  {
   "cell_type": "code",
   "execution_count": 46,
   "metadata": {},
   "outputs": [
    {
     "data": {
      "text/plain": [
       "<AxesSubplot:>"
      ]
     },
     "execution_count": 46,
     "metadata": {},
     "output_type": "execute_result"
    },
    {
     "data": {
      "image/png": "[encoded data removed]",
      "text/plain": [
       "<Figure size 432x288 with 1 Axes>"
      ]
     },
     "metadata": {
      "needs_background": "light"
     },
     "output_type": "display_data"
    }
   ],
   "source": [
    "ac_t_Wii = actual_table[(actual_table['platform'] == 'Wii')]\n",
    "ac_t_Wii.boxplot('genre_sales_1')"
   ]
  },
  {
   "cell_type": "code",
   "execution_count": 47,
   "metadata": {},
   "outputs": [
    {
     "data": {
      "text/plain": [
       "<AxesSubplot:>"
      ]
     },
     "execution_count": 47,
     "metadata": {},
     "output_type": "execute_result"
    },
    {
     "data": {
      "image/png": "[encoded data removed]",
      "text/plain": [
       "<Figure size 432x288 with 1 Axes>"
      ]
     },
     "metadata": {
      "needs_background": "light"
     },
     "output_type": "display_data"
    }
   ],
   "source": [
    "ac_t_PSP = actual_table[(actual_table['platform'] == 'PSP')]\n",
    "ac_t_PSP.boxplot('genre_sales_1')"
   ]
  },
  {
   "cell_type": "markdown",
   "metadata": {},
   "source": [
    "### Платформа PS4"
   ]
  },
  {
   "cell_type": "code",
   "execution_count": 48,
   "metadata": {},
   "outputs": [
    {
     "name": "stdout",
     "output_type": "stream",
     "text": [
      "                                 name platform year_of_release         genre  \\\n",
      "94                            FIFA 17      PS4      2016-01-01        Sports   \n",
      "171        Uncharted 4: A Thief's End      PS4      2016-01-01       Shooter   \n",
      "245    Call of Duty: Infinite Warfare      PS4      2016-01-01       Shooter   \n",
      "289                     Battlefield 1      PS4      2016-01-01       Shooter   \n",
      "325         Tom Clancy's The Division      PS4      2016-01-01       Shooter   \n",
      "...                               ...      ...             ...           ...   \n",
      "16500                     Root Letter      PS4      2016-01-01     Adventure   \n",
      "16503               Shin Hayarigami 2      PS4      2016-01-01     Adventure   \n",
      "16526                      Dungeons 2      PS4      2016-01-01  Role-Playing   \n",
      "16530         Carmageddon: Max Damage      PS4      2016-01-01        Action   \n",
      "16585   Farming 2017 - The Simulation      PS4      2016-01-01    Simulation   \n",
      "\n",
      "       na_sales  eu_sales  jp_sales  other_sales  critic_score  user_score  \\\n",
      "94         0.66      5.75      0.08         1.11          85.0         5.0   \n",
      "171        1.85      2.50      0.19         0.85          93.0         7.9   \n",
      "245        1.61      2.00      0.15         0.71          77.0         3.4   \n",
      "289        1.10      2.15      0.21         0.61          88.0         8.4   \n",
      "325        1.35      1.70      0.15         0.60          80.0         7.0   \n",
      "...         ...       ...       ...          ...           ...         ...   \n",
      "16500      0.00      0.00      0.01         0.00          69.0         7.5   \n",
      "16503      0.00      0.00      0.01         0.00           NaN         NaN   \n",
      "16526      0.01      0.00      0.00         0.00          61.0         7.9   \n",
      "16530      0.01      0.00      0.00         0.00          51.0         5.5   \n",
      "16585      0.00      0.01      0.00         0.00           NaN         NaN   \n",
      "\n",
      "       rating  total_sales  \n",
      "94        NaN         7.60  \n",
      "171       NaN         5.39  \n",
      "245       NaN         4.47  \n",
      "289       NaN         4.07  \n",
      "325       NaN         3.80  \n",
      "...       ...          ...  \n",
      "16500     NaN         0.01  \n",
      "16503     NaN         0.01  \n",
      "16526     NaN         0.01  \n",
      "16530     NaN         0.01  \n",
      "16585     NaN         0.01  \n",
      "\n",
      "[164 rows x 12 columns]\n"
     ]
    }
   ],
   "source": [
    "table_2016 = data[(data['year_of_release'] == '2016') & (data['platform'] == 'PS4')]\n",
    "table_2016\n",
    "#Создадим новую таблицу с данными за 2016 год и платформой PS4"
   ]
  },
  {
   "cell_type": "code",
   "execution_count": 49,
   "metadata": {},
   "outputs": [
    {
     "data": {
      "text/plain": [
       "<AxesSubplot:>"
      ]
     },
     "execution_count": 49,
     "metadata": {},
     "output_type": "execute_result"
    },
    {
     "data": {
      "image/png": "[encoded data removed]",
      "text/plain": [
       "<Figure size 432x288 with 1 Axes>"
      ]
     },
     "metadata": {
      "needs_background": "light"
     },
     "output_type": "display_data"
    }
   ],
   "source": [
    "table_2016.boxplot('critic_score')\n",
    "#Построим диаграмму рассеяния оценки критиков платформы PS4"
   ]
  },
  {
   "cell_type": "code",
   "execution_count": 50,
   "metadata": {},
   "outputs": [
    {
     "data": {
      "text/plain": [
       "<AxesSubplot:>"
      ]
     },
     "execution_count": 50,
     "metadata": {},
     "output_type": "execute_result"
    },
    {
     "data": {
      "image/png": "[encoded data removed]",
      "text/plain": [
       "<Figure size 432x288 with 1 Axes>"
      ]
     },
     "metadata": {
      "needs_background": "light"
     },
     "output_type": "display_data"
    }
   ],
   "source": [
    "table_2016.boxplot('user_score')\n",
    "#Построим диаграмму рассеяния оценки пользователей платформы PS4"
   ]
  },
  {
   "cell_type": "code",
   "execution_count": 51,
   "metadata": {},
   "outputs": [
    {
     "name": "stdout",
     "output_type": "stream",
     "text": [
      "                                         name platform year_of_release  \\\n",
      "31                  Call of Duty: Black Ops 3      PS4      2015-01-01   \n",
      "77                                    FIFA 16      PS4      2015-01-01   \n",
      "87               Star Wars Battlefront (2015)      PS4      2015-01-01   \n",
      "105                                 Fallout 4      PS4      2015-01-01   \n",
      "231    Uncharted: The Nathan Drake Collection      PS4      2015-01-01   \n",
      "...                                       ...      ...             ...   \n",
      "15085                     Rugby League Live 3      PS4      2015-01-01   \n",
      "15556   Natsuiro High School: Seishun Hakusho      PS4      2015-01-01   \n",
      "15943                Professional Farmer 2016      PS4      2015-01-01   \n",
      "16158                             Raven's Cry      PS4      2015-01-01   \n",
      "16398                             Chaos;Child      PS4      2015-01-01   \n",
      "\n",
      "              genre  na_sales  eu_sales  jp_sales  other_sales  critic_score  \\\n",
      "31          Shooter      6.03      5.86      0.36         2.38           NaN   \n",
      "77           Sports      1.12      6.12      0.06         1.28          82.0   \n",
      "87          Shooter      2.99      3.49      0.22         1.28           NaN   \n",
      "105    Role-Playing      2.53      3.27      0.24         1.13          87.0   \n",
      "231          Action      2.07      1.71      0.08         0.76          86.0   \n",
      "...             ...       ...       ...       ...          ...           ...   \n",
      "15085        Action      0.00      0.02      0.00         0.00           NaN   \n",
      "15556        Action      0.00      0.00      0.02         0.00           NaN   \n",
      "15943        Action      0.00      0.01      0.00         0.00           NaN   \n",
      "16158  Role-Playing      0.00      0.01      0.00         0.00           NaN   \n",
      "16398     Adventure      0.00      0.00      0.01         0.00           NaN   \n",
      "\n",
      "       user_score  rating  total_sales  \n",
      "31            NaN     NaN        14.63  \n",
      "77            4.3     NaN         8.58  \n",
      "87            NaN     NaN         7.98  \n",
      "105           6.5     NaN         7.17  \n",
      "231           8.1     NaN         4.62  \n",
      "...           ...     ...          ...  \n",
      "15085         7.6     NaN         0.02  \n",
      "15556         NaN     NaN         0.02  \n",
      "15943         NaN     NaN         0.01  \n",
      "16158         NaN     NaN         0.01  \n",
      "16398         NaN     NaN         0.01  \n",
      "\n",
      "[137 rows x 12 columns]\n"
     ]
    }
   ],
   "source": [
    "table_2015 = data[(data['year_of_release'] == '2015') & (data['platform'] == 'PS4')]\n",
    "table_2015\n",
    "#Создадим новую таблицу с данными за 2015 год и платформой PS4"
   ]
  },
  {
   "cell_type": "code",
   "execution_count": 52,
   "metadata": {},
   "outputs": [
    {
     "data": {
      "text/plain": [
       "<AxesSubplot:>"
      ]
     },
     "execution_count": 52,
     "metadata": {},
     "output_type": "execute_result"
    },
    {
     "data": {
      "image/png": "[encoded data removed]",
      "text/plain": [
       "<Figure size 432x288 with 1 Axes>"
      ]
     },
     "metadata": {
      "needs_background": "light"
     },
     "output_type": "display_data"
    }
   ],
   "source": [
    "table_2015.boxplot('critic_score')\n",
    "#Построим диаграмму рассеяния оценки критиков платформы PS4"
   ]
  },
  {
   "cell_type": "code",
   "execution_count": 53,
   "metadata": {},
   "outputs": [
    {
     "data": {
      "text/plain": [
       "<AxesSubplot:>"
      ]
     },
     "execution_count": 53,
     "metadata": {},
     "output_type": "execute_result"
    },
    {
     "data": {
      "image/png": "[encoded data removed]",
      "text/plain": [
       "<Figure size 432x288 with 1 Axes>"
      ]
     },
     "metadata": {
      "needs_background": "light"
     },
     "output_type": "display_data"
    }
   ],
   "source": [
    "table_2015.boxplot('user_score')\n",
    "#Построим диаграмму рассеяния оценки пользователей платформы PS4"
   ]
  },
  {
   "cell_type": "code",
   "execution_count": 54,
   "metadata": {},
   "outputs": [
    {
     "name": "stdout",
     "output_type": "stream",
     "text": [
      "                                            name platform year_of_release  \\\n",
      "42                            Grand Theft Auto V      PS4      2014-01-01   \n",
      "92                Call of Duty: Advanced Warfare      PS4      2014-01-01   \n",
      "143                                      FIFA 15      PS4      2014-01-01   \n",
      "154                                      Destiny      PS4      2014-01-01   \n",
      "225                               The Last of Us      PS4      2014-01-01   \n",
      "...                                          ...      ...             ...   \n",
      "13597   Nobunaga's Ambition: Sphere of Influence      PS4      2014-01-01   \n",
      "14159                      Infamous: First Light      PS4      2014-01-01   \n",
      "14162                        Tour de France 2014      PS4      2014-01-01   \n",
      "15047                              Omega Quintet      PS4      2014-01-01   \n",
      "15762  Rabbids Invasion: The Interactive TV Show      PS4      2014-01-01   \n",
      "\n",
      "              genre  na_sales  eu_sales  jp_sales  other_sales  critic_score  \\\n",
      "42           Action      3.96      6.31      0.38         1.97          97.0   \n",
      "92          Shooter      2.81      3.48      0.14         1.23          83.0   \n",
      "143          Sports      0.80      4.33      0.05         0.90          82.0   \n",
      "154         Shooter      2.49      2.07      0.16         0.92          76.0   \n",
      "225          Action      1.88      2.00      0.07         0.77           NaN   \n",
      "...             ...       ...       ...       ...          ...           ...   \n",
      "13597      Strategy      0.03      0.00      0.00         0.01          80.0   \n",
      "14159        Action      0.00      0.03      0.00         0.00          73.0   \n",
      "14162        Sports      0.00      0.03      0.00         0.00          53.0   \n",
      "15047  Role-Playing      0.00      0.00      0.02         0.00          58.0   \n",
      "15762          Misc      0.00      0.01      0.00         0.00           NaN   \n",
      "\n",
      "       user_score  rating  total_sales  \n",
      "42            8.3     NaN        12.62  \n",
      "92            5.7     NaN         7.66  \n",
      "143           5.7     NaN         6.08  \n",
      "154           6.1     NaN         5.64  \n",
      "225           NaN     NaN         4.72  \n",
      "...           ...     ...          ...  \n",
      "13597         8.1     NaN         0.04  \n",
      "14159         7.5     NaN         0.03  \n",
      "14162         5.1     NaN         0.03  \n",
      "15047         7.1     NaN         0.02  \n",
      "15762         NaN     NaN         0.01  \n",
      "\n",
      "[75 rows x 12 columns]\n"
     ]
    }
   ],
   "source": [
    "table_2014 = data[(data['year_of_release'] == '2014') & (data['platform'] == 'PS4')]\n",
    "table_2014\n",
    "#Создадим новую таблицу с данными за 2014 год и платформой PS4"
   ]
  },
  {
   "cell_type": "code",
   "execution_count": 55,
   "metadata": {},
   "outputs": [
    {
     "data": {
      "text/plain": [
       "<AxesSubplot:>"
      ]
     },
     "execution_count": 55,
     "metadata": {},
     "output_type": "execute_result"
    },
    {
     "data": {
      "image/png": "[encoded data removed]",
      "text/plain": [
       "<Figure size 432x288 with 1 Axes>"
      ]
     },
     "metadata": {
      "needs_background": "light"
     },
     "output_type": "display_data"
    }
   ],
   "source": [
    "table_2014.boxplot('critic_score')\n",
    "#Построим диаграмму рассеяния оценки критиков платформы PS4"
   ]
  },
  {
   "cell_type": "code",
   "execution_count": 56,
   "metadata": {},
   "outputs": [
    {
     "data": {
      "text/plain": [
       "<AxesSubplot:>"
      ]
     },
     "execution_count": 56,
     "metadata": {},
     "output_type": "execute_result"
    },
    {
     "data": {
      "image/png": "[encoded data removed]",
      "text/plain": [
       "<Figure size 432x288 with 1 Axes>"
      ]
     },
     "metadata": {
      "needs_background": "light"
     },
     "output_type": "display_data"
    }
   ],
   "source": [
    "table_2014.boxplot('user_score')\n",
    "#Построим диаграмму рассеяния оценки пользователей платформы PS4"
   ]
  },
  {
   "cell_type": "markdown",
   "metadata": {},
   "source": [
    "# Расчёт зависимости"
   ]
  },
  {
   "cell_type": "code",
   "execution_count": 57,
   "metadata": {},
   "outputs": [
    {
     "data": {
      "text/plain": [
       "<AxesSubplot:xlabel='user_score', ylabel='genre_sales_1'>"
      ]
     },
     "execution_count": 57,
     "metadata": {},
     "output_type": "execute_result"
    },
    {
     "data": {
      "image/png": "[encoded data removed]",
      "text/plain": [
       "<Figure size 432x288 with 1 Axes>"
      ]
     },
     "metadata": {
      "needs_background": "light"
     },
     "output_type": "display_data"
    },
    {
     "data": {
      "image/png": "[encoded data removed]",
      "text/plain": [
       "<Figure size 432x288 with 1 Axes>"
      ]
     },
     "metadata": {
      "needs_background": "light"
     },
     "output_type": "display_data"
    }
   ],
   "source": [
    "cor = actual_table.query('platform == \"PS4\"')\n",
    "cor.plot(x='critic_score', y='genre_sales_1', kind='scatter') \n",
    "cor.plot(x='user_score', y='genre_sales_1', kind='scatter')"
   ]
  },
  {
   "cell_type": "markdown",
   "metadata": {},
   "source": [
    "### Платформа XONE"
   ]
  },
  {
   "cell_type": "code",
   "execution_count": 58,
   "metadata": {},
   "outputs": [
    {
     "name": "stdout",
     "output_type": "stream",
     "text": [
      "                                                name platform year_of_release  \\\n",
      "571                                          FIFA 17     XOne      2016-01-01   \n",
      "640                   Call of Duty: Infinite Warfare     XOne      2016-01-01   \n",
      "709                                    Battlefield 1     XOne      2016-01-01   \n",
      "758                        Tom Clancy's The Division     XOne      2016-01-01   \n",
      "1439                                  Gears of War 4     XOne      2016-01-01   \n",
      "...                                              ...      ...             ...   \n",
      "16630                       Sébastien Loeb Rally Evo     XOne      2016-01-01   \n",
      "16643                              Rugby Challenge 3     XOne      2016-01-01   \n",
      "16645                                         ZombiU     XOne      2016-01-01   \n",
      "16660                               Prison Architect     XOne      2016-01-01   \n",
      "16672  Metal Gear Solid V: The Definitive Experience     XOne      2016-01-01   \n",
      "\n",
      "         genre  na_sales  eu_sales  jp_sales  other_sales  critic_score  \\\n",
      "571     Sports      0.43      2.05       0.0         0.17          84.0   \n",
      "640    Shooter      1.46      0.74       0.0         0.22          78.0   \n",
      "709    Shooter      1.28      0.77       0.0         0.20          87.0   \n",
      "758    Shooter      1.29      0.68       0.0         0.20          80.0   \n",
      "1439   Shooter      0.78      0.44       0.0         0.12          84.0   \n",
      "...        ...       ...       ...       ...          ...           ...   \n",
      "16630   Racing      0.00      0.01       0.0         0.00          63.0   \n",
      "16643   Sports      0.00      0.01       0.0         0.00           NaN   \n",
      "16645   Action      0.00      0.01       0.0         0.00           NaN   \n",
      "16660   Action      0.01      0.00       0.0         0.00          74.0   \n",
      "16672   Action      0.01      0.00       0.0         0.00           NaN   \n",
      "\n",
      "       user_score  rating  total_sales  \n",
      "571           5.5     NaN         2.65  \n",
      "640           3.1     NaN         2.42  \n",
      "709           8.2     NaN         2.25  \n",
      "758           6.9     NaN         2.17  \n",
      "1439          6.2     NaN         1.34  \n",
      "...           ...     ...          ...  \n",
      "16630         8.2     NaN         0.01  \n",
      "16643         6.6     NaN         0.01  \n",
      "16645         NaN     NaN         0.01  \n",
      "16660         6.7     NaN         0.01  \n",
      "16672         NaN     NaN         0.01  \n",
      "\n",
      "[87 rows x 12 columns]\n"
     ]
    }
   ],
   "source": [
    "table_2016_x = data[(data['year_of_release'] == '2016') & (data['platform'] == 'XOne')]\n",
    "table_2016_x\n",
    "#Создадим новую таблицу с данными за 2016 год и платформой XOne"
   ]
  },
  {
   "cell_type": "code",
   "execution_count": 59,
   "metadata": {},
   "outputs": [
    {
     "name": "stdout",
     "output_type": "stream",
     "text": [
      "                                      name platform year_of_release  \\\n",
      "99               Call of Duty: Black Ops 3     XOne      2015-01-01   \n",
      "242                      Halo 5: Guardians     XOne      2015-01-01   \n",
      "270                              Fallout 4     XOne      2015-01-01   \n",
      "342           Star Wars Battlefront (2015)     XOne      2015-01-01   \n",
      "413         Gears of War: Ultimate Edition     XOne      2015-01-01   \n",
      "...                                    ...      ...             ...   \n",
      "15750         Back to the Future: The Game     XOne      2015-01-01   \n",
      "15860  Broken Sword 5: The Serpent's Curse     XOne      2015-01-01   \n",
      "16124  WRC 5: FIA World Rally Championship     XOne      2015-01-01   \n",
      "16533                  Rugby League Live 3     XOne      2015-01-01   \n",
      "16597          Saints Row: Gat out of Hell     XOne      2015-01-01   \n",
      "\n",
      "              genre  na_sales  eu_sales  jp_sales  other_sales  critic_score  \\\n",
      "99          Shooter      4.59      2.11      0.01         0.68           NaN   \n",
      "242         Shooter      2.78      1.27      0.03         0.41          84.0   \n",
      "270    Role-Playing      2.51      1.32      0.01         0.38          88.0   \n",
      "342         Shooter      2.04      1.28      0.02         0.32           NaN   \n",
      "413         Shooter      2.61      0.33      0.00         0.34          82.0   \n",
      "...             ...       ...       ...       ...          ...           ...   \n",
      "15750     Adventure      0.00      0.02      0.00         0.00           NaN   \n",
      "15860     Adventure      0.00      0.02      0.00         0.00          77.0   \n",
      "16124        Sports      0.00      0.01      0.00         0.00           NaN   \n",
      "16533        Action      0.00      0.01      0.00         0.00           NaN   \n",
      "16597        Action      0.00      0.01      0.00         0.00          65.0   \n",
      "\n",
      "       user_score  rating  total_sales  \n",
      "99            NaN     NaN         7.39  \n",
      "242           6.4     NaN         4.49  \n",
      "270           6.2     NaN         4.22  \n",
      "342           NaN     NaN         3.66  \n",
      "413           7.5     NaN         3.28  \n",
      "...           ...     ...          ...  \n",
      "15750         7.3     NaN         0.02  \n",
      "15860         7.2     NaN         0.02  \n",
      "16124         NaN     NaN         0.01  \n",
      "16533         7.1     NaN         0.01  \n",
      "16597         6.0     NaN         0.01  \n",
      "\n",
      "[80 rows x 12 columns]\n"
     ]
    }
   ],
   "source": [
    "table_2015_x = data[(data['year_of_release'] == '2015') & (data['platform'] == 'XOne')]\n",
    "table_2015_x\n",
    "#Создадим новую таблицу с данными за 2015 год и платформой XOne"
   ]
  },
  {
   "cell_type": "code",
   "execution_count": 60,
   "metadata": {},
   "outputs": [
    {
     "name": "stdout",
     "output_type": "stream",
     "text": [
      "                                            name platform year_of_release  \\\n",
      "165                           Grand Theft Auto V     XOne      2014-01-01   \n",
      "179               Call of Duty: Advanced Warfare     XOne      2014-01-01   \n",
      "373                      Assassin's Creed: Unity     XOne      2014-01-01   \n",
      "398                                      Destiny     XOne      2014-01-01   \n",
      "422            Halo: The Master Chief Collection     XOne      2014-01-01   \n",
      "...                                          ...      ...             ...   \n",
      "13787                                   Terraria     XOne      2014-01-01   \n",
      "13966                          Warriors Orochi 3     XOne      2014-01-01   \n",
      "14478                              The Golf Club     XOne      2014-01-01   \n",
      "16175                                Psycho-Pass     XOne      2014-01-01   \n",
      "16595  Rabbids Invasion: The Interactive TV Show     XOne      2014-01-01   \n",
      "\n",
      "           genre  na_sales  eu_sales  jp_sales  other_sales  critic_score  \\\n",
      "165       Action      2.81      2.19      0.00         0.47          97.0   \n",
      "179      Shooter      3.22      1.55      0.01         0.48          81.0   \n",
      "373       Action      2.27      0.90      0.00         0.33          72.0   \n",
      "398      Shooter      2.14      0.92      0.00         0.31          75.0   \n",
      "422      Shooter      1.91      1.00      0.03         0.29          85.0   \n",
      "...          ...       ...       ...       ...          ...           ...   \n",
      "13787     Action      0.00      0.04      0.00         0.00          84.0   \n",
      "13966     Action      0.01      0.03      0.00         0.00           NaN   \n",
      "14478     Sports      0.03      0.00      0.00         0.00          64.0   \n",
      "16175  Adventure      0.00      0.00      0.01         0.00           NaN   \n",
      "16595       Misc      0.00      0.01      0.00         0.00           NaN   \n",
      "\n",
      "       user_score  rating  total_sales  \n",
      "165           7.9     NaN         5.47  \n",
      "179           5.4     NaN         5.26  \n",
      "373           4.1     NaN         3.50  \n",
      "398           5.5     NaN         3.37  \n",
      "422           7.2     NaN         3.23  \n",
      "...           ...     ...          ...  \n",
      "13787         7.7     NaN         0.04  \n",
      "13966         NaN     NaN         0.04  \n",
      "14478         5.4     NaN         0.03  \n",
      "16175         NaN     NaN         0.01  \n",
      "16595         NaN     NaN         0.01  \n",
      "\n",
      "[61 rows x 12 columns]\n"
     ]
    }
   ],
   "source": [
    "table_2014_x = data[(data['year_of_release'] == '2014') & (data['platform'] == 'XOne')]\n",
    "table_2014_x\n",
    "#Создадим новую таблицу с данными за 2014 год и платформой XOne"
   ]
  },
  {
   "cell_type": "markdown",
   "metadata": {},
   "source": [
    "# Расчёт зависимости"
   ]
  },
  {
   "cell_type": "code",
   "execution_count": 61,
   "metadata": {},
   "outputs": [
    {
     "data": {
      "text/plain": [
       "<AxesSubplot:xlabel='user_score', ylabel='genre_sales_1'>"
      ]
     },
     "execution_count": 61,
     "metadata": {},
     "output_type": "execute_result"
    },
    {
     "data": {
      "image/png": "[encoded data removed]",
      "text/plain": [
       "<Figure size 432x288 with 1 Axes>"
      ]
     },
     "metadata": {
      "needs_background": "light"
     },
     "output_type": "display_data"
    },
    {
     "data": {
      "image/png": "[encoded data removed]",
      "text/plain": [
       "<Figure size 432x288 with 1 Axes>"
      ]
     },
     "metadata": {
      "needs_background": "light"
     },
     "output_type": "display_data"
    }
   ],
   "source": [
    "cor_5 = actual_table.query('platform == \"XOne\"')\n",
    "cor_5.plot(x='critic_score', y='genre_sales_1', kind='scatter') \n",
    "cor_5.plot(x='user_score', y='genre_sales_1', kind='scatter')"
   ]
  },
  {
   "cell_type": "markdown",
   "metadata": {},
   "source": [
    "### Подводя итог можно сказать что между отзывами критиков и пользователей наблюдается очень слабая зависимость"
   ]
  },
  {
   "cell_type": "code",
   "execution_count": 62,
   "metadata": {},
   "outputs": [
    {
     "name": "stdout",
     "output_type": "stream",
     "text": [
      "              na_sales  eu_sales  jp_sales  other_sales  critic_score  \\\n",
      "genre                                                                   \n",
      "Shooter          0.220     0.220      0.00        0.055          78.0   \n",
      "Sports           0.070     0.050      0.00        0.020          76.0   \n",
      "Platform         0.075     0.055      0.00        0.020          78.0   \n",
      "Fighting         0.040     0.020      0.03        0.010          71.0   \n",
      "Role-Playing     0.020     0.010      0.05        0.010          75.0   \n",
      "\n",
      "              user_score  rating  genre_sales_1  \n",
      "genre                                            \n",
      "Shooter             6.85     NaN          0.515  \n",
      "Sports              5.50     NaN          0.180  \n",
      "Platform            7.20     NaN          0.140  \n",
      "Fighting            7.40     NaN          0.125  \n",
      "Role-Playing        7.60     NaN          0.110  \n"
     ]
    }
   ],
   "source": [
    "actual_table.groupby('genre').median().sort_values(by='genre_sales_1', ascending=False).head(5)"
   ]
  },
  {
   "cell_type": "markdown",
   "metadata": {},
   "source": [
    "Можно увидеть что в 2014-2016 гг наиболее популярные жанры были: Шутеры, спортивные игры, ролевые игры и рукопашный бой."
   ]
  },
  {
   "cell_type": "markdown",
   "metadata": {},
   "source": [
    "### Промежуточные выводы: я посмотрел, сколько игр выпускалось в разные годы, как менялись продажи по платформам. Выбрал платформы с наибольшими суммарными продажами. Взял за актуальный период данные  2014-2016 гг, посмотрел какие платформы лидируют по продажам. Построил график «ящик с усами» по глобальным продажам игр. Посмотрел, как влияют на продажи внутри одной популярной платформы отзывы пользователей и критиков. Построил диаграмму рассеяния и посчитал корреляцию между отзывами и продажами и распределил игры по жанрам."
   ]
  },
  {
   "cell_type": "markdown",
   "metadata": {},
   "source": [
    "# ШАГ 4"
   ]
  },
  {
   "cell_type": "code",
   "execution_count": 63,
   "metadata": {},
   "outputs": [
    {
     "name": "stdout",
     "output_type": "stream",
     "text": [
      "Самые популярные платформы американцев\n",
      "          na_sales\n",
      "platform          \n",
      "PS4          98.61\n",
      "XOne         81.27\n",
      "X360         28.30\n",
      "3DS          22.64\n",
      "PS3          22.05\n",
      "---------------------\n",
      "Самые популярные жанры американцев\n",
      "              na_sales\n",
      "genre                 \n",
      "Shooter          79.02\n",
      "Action           72.53\n",
      "Sports           46.13\n",
      "Role-Playing     33.47\n",
      "Misc             15.05\n",
      "---------------------\n"
     ]
    }
   ],
   "source": [
    "print('Самые популярные платформы американцев')\n",
    "table_na_a = actual_table.pivot_table(index='platform', values = 'na_sales', aggfunc=sum).sort_values(by='na_sales', ascending=False)\n",
    "print(table_na_a.head(5))\n",
    "print('---------------------')\n",
    "\n",
    "print('Самые популярные жанры американцев')\n",
    "table_na_b = actual_table.pivot_table(index='genre', values = 'na_sales', aggfunc=sum).sort_values(by='na_sales', ascending=False)\n",
    "print(table_na_b.head(5))\n",
    "print('---------------------')"
   ]
  },
  {
   "cell_type": "code",
   "execution_count": 64,
   "metadata": {},
   "outputs": [
    {
     "name": "stdout",
     "output_type": "stream",
     "text": [
      "Самые популярные платформы европейцев\n",
      "          eu_sales\n",
      "platform          \n",
      "PS4         130.04\n",
      "XOne         46.25\n",
      "PS3          25.54\n",
      "PC           17.97\n",
      "3DS          16.12\n",
      "---------------------\n",
      "Самые популярные жанры европейцев\n",
      "              eu_sales\n",
      "genre                 \n",
      "Action           74.68\n",
      "Shooter          65.52\n",
      "Sports           45.73\n",
      "Role-Playing     28.17\n",
      "Racing           14.13\n",
      "---------------------\n"
     ]
    }
   ],
   "source": [
    "print('Самые популярные платформы европейцев')\n",
    "table_eu_a = actual_table.pivot_table(index='platform', values = 'eu_sales', aggfunc=sum).sort_values(by='eu_sales', ascending=False)\n",
    "print(table_eu_a.head(5))\n",
    "print('---------------------')\n",
    "\n",
    "print('Самые популярные жанры европейцев')\n",
    "table_eu_b = actual_table.pivot_table(index='genre', values = 'eu_sales', aggfunc=sum).sort_values(by='eu_sales', ascending=False)\n",
    "print(table_eu_b.head(5))\n",
    "print('---------------------')"
   ]
  },
  {
   "cell_type": "code",
   "execution_count": 65,
   "metadata": {},
   "outputs": [
    {
     "name": "stdout",
     "output_type": "stream",
     "text": [
      "Самые популярные платформы японцев\n",
      "          jp_sales\n",
      "platform          \n",
      "3DS          44.24\n",
      "PS4          15.02\n",
      "PSV          14.54\n",
      "PS3          11.22\n",
      "WiiU          7.31\n",
      "---------------------\n",
      "Самые популярные жанры японцев\n",
      "              jp_sales\n",
      "genre                 \n",
      "Role-Playing     31.16\n",
      "Action           29.58\n",
      "Fighting          6.37\n",
      "Misc              5.61\n",
      "Shooter           4.87\n",
      "---------------------\n"
     ]
    }
   ],
   "source": [
    "print('Самые популярные платформы японцев')\n",
    "table_jp_a = actual_table.pivot_table(index='platform', values = 'jp_sales', aggfunc=sum).sort_values(by='jp_sales', ascending=False)\n",
    "print(table_jp_a.head(5))\n",
    "print('---------------------')\n",
    "\n",
    "print('Самые популярные жанры японцев')\n",
    "table_jp_b = actual_table.pivot_table(index='genre', values = 'jp_sales', aggfunc=sum).sort_values(by='jp_sales', ascending=False)\n",
    "print(table_jp_b.head(5))\n",
    "print('---------------------')"
   ]
  },
  {
   "cell_type": "markdown",
   "metadata": {},
   "source": [
    "# ШАГ 5 "
   ]
  },
  {
   "cell_type": "code",
   "execution_count": 71,
   "metadata": {},
   "outputs": [
    {
     "name": "stdout",
     "output_type": "stream",
     "text": [
      "user_score_PC\n",
      "       user_score\n",
      "458           3.9\n",
      "1530          5.4\n",
      "1677          NaN\n",
      "1730          7.9\n",
      "2303          5.7\n",
      "...           ...\n",
      "16509         7.9\n",
      "16518         1.4\n",
      "16617         NaN\n",
      "16631         NaN\n",
      "16692         7.6\n",
      "\n",
      "[151 rows x 1 columns]\n",
      "------------------\n",
      "user_score_XOne\n",
      "       user_score\n",
      "99            NaN\n",
      "165           7.9\n",
      "179           5.4\n",
      "242           6.4\n",
      "270           6.2\n",
      "...           ...\n",
      "16630         8.2\n",
      "16643         6.6\n",
      "16645         NaN\n",
      "16660         6.7\n",
      "16672         NaN\n",
      "\n",
      "[228 rows x 1 columns]\n"
     ]
    }
   ],
   "source": [
    "print('user_score_PC')\n",
    "new_col = actual_table[(actual_table['platform'] == 'PC')]\n",
    "table_pc = new_col[['user_score']]\n",
    "print(table_pc)\n",
    "print('------------------')\n",
    "\n",
    "print('user_score_XOne')\n",
    "new_col_6 = actual_table[(actual_table['platform'] == 'XOne')]\n",
    "table_xone = new_col_6[['user_score']]\n",
    "print(table_xone)"
   ]
  },
  {
   "cell_type": "markdown",
   "metadata": {},
   "source": [
    "### Проверим первую гипотезу, что средние пользовательские рейтинги платформ Xbox One и PC одинаковые\n",
    "\n",
    "### Нулевая гипотеза: средние пользовательские рейтинги Xbox One = средним пользовательским рейтингам PC\n",
    "\n",
    "### Альтернативная гипотеза: средние пользовательские рейтинги Xbox One не равны средним пользовательским рейтингам PC"
   ]
  },
  {
   "cell_type": "code",
   "execution_count": 77,
   "metadata": {},
   "outputs": [
    {
     "name": "stdout",
     "output_type": "stream",
     "text": [
      "p-значение: [0.11601398]\n",
      "Отвергаем нулевую гипотезу\n"
     ]
    }
   ],
   "source": [
    "from scipy import stats as st\n",
    "import numpy as np\n",
    "\n",
    "alpha = 0.05\n",
    "result = st.ttest_ind(table_pc.dropna(), table_xone.dropna(), equal_var=False)\n",
    "print('p-значение:', result.pvalue)\n",
    "\n",
    "if result.pvalue < alpha or result.pvalue > alpha:\n",
    "    print('Отвергаем нулевую гипотезу')\n",
    "else:\n",
    "    print('Не получилось отвергнуть нулевую гипотезу') "
   ]
  },
  {
   "cell_type": "code",
   "execution_count": 73,
   "metadata": {},
   "outputs": [
    {
     "name": "stdout",
     "output_type": "stream",
     "text": [
      "user_score_Action\n",
      "       user_score\n",
      "42            8.3\n",
      "165           7.9\n",
      "225           NaN\n",
      "231           8.1\n",
      "295           6.3\n",
      "...           ...\n",
      "16680         NaN\n",
      "16691         NaN\n",
      "16692         7.6\n",
      "16699         NaN\n",
      "16710         NaN\n",
      "\n",
      "[619 rows x 1 columns]\n",
      "------------------\n",
      "user_score_Sports\n",
      "       user_score\n",
      "77            4.3\n",
      "94            5.0\n",
      "143           5.7\n",
      "264           4.5\n",
      "314           6.7\n",
      "...           ...\n",
      "16241         NaN\n",
      "16428         NaN\n",
      "16518         1.4\n",
      "16638         NaN\n",
      "16643         6.6\n",
      "\n",
      "[161 rows x 1 columns]\n"
     ]
    }
   ],
   "source": [
    "print('user_score_Action')\n",
    "new_col_a = actual_table[(actual_table['genre'] == 'Action')]\n",
    "table_ac = new_col_a[['user_score']]\n",
    "print(table_ac)\n",
    "print('------------------')\n",
    "\n",
    "print('user_score_Sports')\n",
    "new_col_b = actual_table[(actual_table['genre'] == 'Sports')]\n",
    "table_sp = new_col_b[['user_score']]\n",
    "print(table_sp)"
   ]
  },
  {
   "cell_type": "markdown",
   "metadata": {},
   "source": [
    "### Проверим вторую гипотезу, что средние пользовательские рейтинги жанров Action и Sports разные\n",
    "\n",
    "### Нулевая гипотеза: средние пользовательские рейтинги Xbox One не равны средним пользовательским рейтингам PC\n",
    "\n",
    "### Альтернативная гипотеза: средние пользовательские рейтинги Xbox One равны средним пользовательским рейтингам PC"
   ]
  },
  {
   "cell_type": "code",
   "execution_count": 78,
   "metadata": {},
   "outputs": [
    {
     "name": "stdout",
     "output_type": "stream",
     "text": [
      "p-значение: [0.11601398]\n",
      "Не получилось отвергнуть нулевую гипотезу\n"
     ]
    }
   ],
   "source": [
    "alpha = 0.05\n",
    "result_a = st.ttest_ind(table_ac.dropna(), table_sp.dropna(), equal_var=False)\n",
    "print('p-значение:', result.pvalue)\n",
    "\n",
    "if result.pvalue == alpha:\n",
    "    print('Отвергаем нулевую гипотезу')\n",
    "else:\n",
    "    print('Не получилось отвергнуть нулевую гипотезу') "
   ]
  },
  {
   "cell_type": "markdown",
   "metadata": {},
   "source": [
    "### Вывод: проверили гипотезы, по итогам которых был сделан вывод, что средние пользовательские рейтинги Xbox One не равны средним пользовательским рейтингам PC и средние пользовательские рейтинги Xbox One не равны средним пользовательским рейтингам PC."
   ]
  },
  {
   "cell_type": "markdown",
   "metadata": {},
   "source": [
    "# Общий вывод: в результате выполнения проекта заменены названия столбцов; были преобразованы данные в нужные типы, обработаны пропуски, посчитал суммарные продажи во всех регионах.\n",
    "\n",
    "# Далее я провёл исследовательский анализ данных: посмотрел, сколько игр выпускалось в разные годы, как менялись продажи по платформам. Выбрал платформы с наибольшими суммарными продажами. \n",
    "\n",
    "# Определил, какие платформы лидируют по продажам. Построил график «ящик с усами» по глобальным продажам игр в разбивке по платформам. \n",
    "\n",
    "# Посмотрел, как влияют на продажи внутри одной популярной платформы отзывы пользователей и критиков. Построил диаграмму рассеяния и посчитал корреляцию между отзывами и продажами. \n",
    "\n",
    "# Определил для пользователя каждого региона (NA, EU, JP): Самые популярные платформы (топ-5). Самые популярные жанры (топ-5).  \n",
    "\n",
    "# Проверил гипотезы: средние пользовательские рейтинги платформ Xbox One и PC одинаковые; средние пользовательские рейтинги жанров Action (англ. «действие», экшен-игры) и Sports (англ. «спортивные соревнования») разные.\n",
    "\n",
    "# В ходе анализа я сделал вывод, что нужно сделать упор на проиводство игр в жанре шутеров, так как по итогам 2014-2016 гг этот жанр был самым прибыльным, и к тому же самым распространёным среди игроков в Америке и Европе."
   ]
  }
 ],
 "metadata": {
  "ExecuteTimeLog": [
   {
    "duration": 435,
    "start_time": "2023-02-14T09:45:31.321Z"
   },
   {
    "duration": 221,
    "start_time": "2023-02-14T09:45:33.009Z"
   },
   {
    "duration": 67,
    "start_time": "2023-02-14T09:45:57.226Z"
   },
   {
    "duration": 15,
    "start_time": "2023-02-14T09:48:31.803Z"
   },
   {
    "duration": 14,
    "start_time": "2023-02-14T09:52:13.980Z"
   },
   {
    "duration": 67,
    "start_time": "2023-02-14T09:56:49.910Z"
   },
   {
    "duration": 8,
    "start_time": "2023-02-14T09:56:57.859Z"
   },
   {
    "duration": 26,
    "start_time": "2023-02-14T09:57:15.071Z"
   },
   {
    "duration": 17,
    "start_time": "2023-02-14T09:57:44.749Z"
   },
   {
    "duration": 10,
    "start_time": "2023-02-14T09:58:44.686Z"
   },
   {
    "duration": 13,
    "start_time": "2023-02-14T09:59:03.255Z"
   },
   {
    "duration": 16,
    "start_time": "2023-02-14T10:00:54.929Z"
   },
   {
    "duration": 16,
    "start_time": "2023-02-14T10:02:17.248Z"
   },
   {
    "duration": 9,
    "start_time": "2023-02-14T10:09:46.200Z"
   },
   {
    "duration": 7,
    "start_time": "2023-02-14T10:14:27.130Z"
   },
   {
    "duration": 10,
    "start_time": "2023-02-14T10:14:40.563Z"
   },
   {
    "duration": 14,
    "start_time": "2023-02-14T10:16:51.134Z"
   },
   {
    "duration": 489,
    "start_time": "2023-02-14T10:16:54.838Z"
   },
   {
    "duration": 65,
    "start_time": "2023-02-14T10:16:57.463Z"
   },
   {
    "duration": 12,
    "start_time": "2023-02-14T10:17:00.702Z"
   },
   {
    "duration": 16,
    "start_time": "2023-02-14T10:17:04.183Z"
   },
   {
    "duration": 23,
    "start_time": "2023-02-14T10:17:06.647Z"
   },
   {
    "duration": 4,
    "start_time": "2023-02-14T10:17:39.863Z"
   },
   {
    "duration": 26,
    "start_time": "2023-02-14T10:18:02.031Z"
   },
   {
    "duration": 20,
    "start_time": "2023-02-14T10:28:46.451Z"
   },
   {
    "duration": 13,
    "start_time": "2023-02-14T10:30:30.808Z"
   },
   {
    "duration": 17,
    "start_time": "2023-02-14T10:30:46.283Z"
   },
   {
    "duration": 32,
    "start_time": "2023-02-14T10:32:45.605Z"
   },
   {
    "duration": 22,
    "start_time": "2023-02-14T10:32:49.509Z"
   },
   {
    "duration": 368,
    "start_time": "2023-02-14T10:35:19.197Z"
   },
   {
    "duration": 79,
    "start_time": "2023-02-14T10:38:24.863Z"
   },
   {
    "duration": 14,
    "start_time": "2023-02-14T10:38:34.255Z"
   },
   {
    "duration": 14,
    "start_time": "2023-02-14T10:39:30.679Z"
   },
   {
    "duration": 12,
    "start_time": "2023-02-14T10:40:55.448Z"
   },
   {
    "duration": 7,
    "start_time": "2023-02-14T10:47:07.283Z"
   },
   {
    "duration": 8,
    "start_time": "2023-02-14T10:52:11.733Z"
   },
   {
    "duration": 12,
    "start_time": "2023-02-14T10:52:34.318Z"
   },
   {
    "duration": 8,
    "start_time": "2023-02-14T10:52:54.333Z"
   },
   {
    "duration": 5,
    "start_time": "2023-02-14T10:53:03.429Z"
   },
   {
    "duration": 4,
    "start_time": "2023-02-14T10:54:48.713Z"
   },
   {
    "duration": 5,
    "start_time": "2023-02-14T10:54:49.453Z"
   },
   {
    "duration": 47,
    "start_time": "2023-02-14T15:38:21.900Z"
   },
   {
    "duration": 875,
    "start_time": "2023-02-14T15:38:33.348Z"
   },
   {
    "duration": 225,
    "start_time": "2023-02-14T15:38:35.610Z"
   },
   {
    "duration": 13,
    "start_time": "2023-02-14T15:38:41.212Z"
   },
   {
    "duration": 15,
    "start_time": "2023-02-14T15:38:43.963Z"
   },
   {
    "duration": 29,
    "start_time": "2023-02-14T15:38:46.287Z"
   },
   {
    "duration": 9,
    "start_time": "2023-02-14T15:38:48.273Z"
   },
   {
    "duration": 14,
    "start_time": "2023-02-14T15:38:49.797Z"
   },
   {
    "duration": 17,
    "start_time": "2023-02-14T15:38:51.385Z"
   },
   {
    "duration": 10,
    "start_time": "2023-02-14T15:38:53.029Z"
   },
   {
    "duration": 23,
    "start_time": "2023-02-14T16:56:56.218Z"
   },
   {
    "duration": 42,
    "start_time": "2023-02-14T16:57:24.366Z"
   },
   {
    "duration": 33,
    "start_time": "2023-02-14T16:57:31.844Z"
   },
   {
    "duration": 24,
    "start_time": "2023-02-14T16:57:41.516Z"
   },
   {
    "duration": 24,
    "start_time": "2023-02-14T16:57:49.820Z"
   },
   {
    "duration": 36,
    "start_time": "2023-02-14T17:26:10.295Z"
   },
   {
    "duration": 14,
    "start_time": "2023-02-14T17:26:28.573Z"
   },
   {
    "duration": 12,
    "start_time": "2023-02-14T17:36:26.163Z"
   },
   {
    "duration": 17,
    "start_time": "2023-02-14T17:36:37.112Z"
   },
   {
    "duration": 13,
    "start_time": "2023-02-14T17:38:54.174Z"
   },
   {
    "duration": 1193,
    "start_time": "2023-02-14T17:49:32.735Z"
   },
   {
    "duration": 9,
    "start_time": "2023-02-14T17:52:48.784Z"
   },
   {
    "duration": 5,
    "start_time": "2023-02-14T17:53:18.200Z"
   },
   {
    "duration": 84,
    "start_time": "2023-02-14T17:53:34.229Z"
   },
   {
    "duration": 14,
    "start_time": "2023-02-14T17:53:43.877Z"
   },
   {
    "duration": 5,
    "start_time": "2023-02-14T17:54:21.284Z"
   },
   {
    "duration": 5,
    "start_time": "2023-02-14T17:54:22.709Z"
   },
   {
    "duration": 12,
    "start_time": "2023-02-14T17:56:28.285Z"
   },
   {
    "duration": 10,
    "start_time": "2023-02-14T17:57:08.204Z"
   },
   {
    "duration": 24,
    "start_time": "2023-02-14T18:00:57.765Z"
   },
   {
    "duration": 12,
    "start_time": "2023-02-14T18:01:31.540Z"
   },
   {
    "duration": 11,
    "start_time": "2023-02-14T18:01:48.803Z"
   },
   {
    "duration": 10,
    "start_time": "2023-02-14T18:02:18.553Z"
   },
   {
    "duration": 9,
    "start_time": "2023-02-14T18:02:21.249Z"
   },
   {
    "duration": 10,
    "start_time": "2023-02-14T18:02:32.324Z"
   },
   {
    "duration": 11,
    "start_time": "2023-02-14T18:16:31.463Z"
   },
   {
    "duration": 9,
    "start_time": "2023-02-14T18:16:40.215Z"
   },
   {
    "duration": 13,
    "start_time": "2023-02-14T18:19:48.277Z"
   },
   {
    "duration": 13,
    "start_time": "2023-02-14T18:20:09.987Z"
   },
   {
    "duration": 9,
    "start_time": "2023-02-14T18:20:15.429Z"
   },
   {
    "duration": 12,
    "start_time": "2023-02-14T18:20:16.334Z"
   },
   {
    "duration": 10,
    "start_time": "2023-02-14T18:20:30.380Z"
   },
   {
    "duration": 10,
    "start_time": "2023-02-14T18:20:32.012Z"
   },
   {
    "duration": 173,
    "start_time": "2023-02-14T18:20:53.115Z"
   },
   {
    "duration": 120,
    "start_time": "2023-02-14T18:21:32.379Z"
   },
   {
    "duration": 117,
    "start_time": "2023-02-14T18:21:49.415Z"
   },
   {
    "duration": 136,
    "start_time": "2023-02-14T18:22:05.814Z"
   },
   {
    "duration": 324,
    "start_time": "2023-02-14T18:23:33.371Z"
   },
   {
    "duration": 13,
    "start_time": "2023-02-14T18:24:41.961Z"
   },
   {
    "duration": 14,
    "start_time": "2023-02-14T18:24:47.466Z"
   },
   {
    "duration": 9,
    "start_time": "2023-02-14T18:24:49.565Z"
   },
   {
    "duration": 140,
    "start_time": "2023-02-14T18:26:07.736Z"
   },
   {
    "duration": 11,
    "start_time": "2023-02-14T18:41:23.556Z"
   },
   {
    "duration": 11,
    "start_time": "2023-02-14T18:42:01.558Z"
   },
   {
    "duration": 9,
    "start_time": "2023-02-14T18:42:02.468Z"
   },
   {
    "duration": 19,
    "start_time": "2023-02-14T18:42:03.436Z"
   },
   {
    "duration": 11,
    "start_time": "2023-02-14T18:42:21.624Z"
   },
   {
    "duration": 343,
    "start_time": "2023-02-14T18:42:50.959Z"
   },
   {
    "duration": 316,
    "start_time": "2023-02-14T18:42:51.928Z"
   },
   {
    "duration": 16,
    "start_time": "2023-02-14T18:43:27.031Z"
   },
   {
    "duration": 14,
    "start_time": "2023-02-14T18:44:08.178Z"
   },
   {
    "duration": 105,
    "start_time": "2023-02-14T18:46:50.233Z"
   },
   {
    "duration": 121,
    "start_time": "2023-02-14T18:48:50.788Z"
   },
   {
    "duration": 126,
    "start_time": "2023-02-14T18:53:55.872Z"
   },
   {
    "duration": 14,
    "start_time": "2023-02-14T18:55:37.666Z"
   },
   {
    "duration": 14,
    "start_time": "2023-02-14T18:55:41.582Z"
   },
   {
    "duration": 14,
    "start_time": "2023-02-14T18:55:42.526Z"
   },
   {
    "duration": 10,
    "start_time": "2023-02-14T18:57:09.066Z"
   },
   {
    "duration": 8,
    "start_time": "2023-02-14T18:57:15.076Z"
   },
   {
    "duration": 20,
    "start_time": "2023-02-14T18:57:19.146Z"
   },
   {
    "duration": 100,
    "start_time": "2023-02-14T18:57:22.868Z"
   },
   {
    "duration": 97,
    "start_time": "2023-02-14T18:57:25.788Z"
   },
   {
    "duration": 14,
    "start_time": "2023-02-14T18:57:31.788Z"
   },
   {
    "duration": 17,
    "start_time": "2023-02-14T18:57:36.609Z"
   },
   {
    "duration": 106,
    "start_time": "2023-02-14T18:57:51.777Z"
   },
   {
    "duration": 112,
    "start_time": "2023-02-14T18:57:55.251Z"
   },
   {
    "duration": 17,
    "start_time": "2023-02-14T18:58:45.955Z"
   },
   {
    "duration": 15,
    "start_time": "2023-02-14T18:58:46.833Z"
   },
   {
    "duration": 132,
    "start_time": "2023-02-14T18:58:49.133Z"
   },
   {
    "duration": 108,
    "start_time": "2023-02-14T18:58:52.112Z"
   },
   {
    "duration": 804,
    "start_time": "2023-02-16T09:14:03.667Z"
   },
   {
    "duration": 109,
    "start_time": "2023-02-16T09:14:05.374Z"
   },
   {
    "duration": 1716,
    "start_time": "2023-02-16T09:14:12.351Z"
   },
   {
    "duration": 54,
    "start_time": "2023-02-16T09:16:09.331Z"
   },
   {
    "duration": 13,
    "start_time": "2023-02-16T09:16:11.183Z"
   },
   {
    "duration": 13,
    "start_time": "2023-02-16T09:16:13.444Z"
   },
   {
    "duration": 26,
    "start_time": "2023-02-16T09:16:14.923Z"
   },
   {
    "duration": 10,
    "start_time": "2023-02-16T09:16:16.953Z"
   },
   {
    "duration": 12,
    "start_time": "2023-02-16T09:16:19.659Z"
   },
   {
    "duration": 13,
    "start_time": "2023-02-16T09:16:20.883Z"
   },
   {
    "duration": 10,
    "start_time": "2023-02-16T09:16:22.576Z"
   },
   {
    "duration": 11,
    "start_time": "2023-02-16T09:16:25.134Z"
   },
   {
    "duration": 14,
    "start_time": "2023-02-16T09:16:30.336Z"
   },
   {
    "duration": 10,
    "start_time": "2023-02-16T09:16:32.837Z"
   },
   {
    "duration": 9,
    "start_time": "2023-02-16T09:16:35.097Z"
   },
   {
    "duration": 114,
    "start_time": "2023-02-16T09:16:37.536Z"
   },
   {
    "duration": 13,
    "start_time": "2023-02-16T09:16:42.159Z"
   },
   {
    "duration": 124,
    "start_time": "2023-02-16T09:17:24.979Z"
   },
   {
    "duration": 111,
    "start_time": "2023-02-16T09:17:27.632Z"
   },
   {
    "duration": 13,
    "start_time": "2023-02-16T09:17:31.734Z"
   },
   {
    "duration": 100,
    "start_time": "2023-02-16T09:17:35.764Z"
   },
   {
    "duration": 147,
    "start_time": "2023-02-16T09:18:20.062Z"
   },
   {
    "duration": 14,
    "start_time": "2023-02-16T09:18:22.952Z"
   },
   {
    "duration": 85,
    "start_time": "2023-02-16T09:18:27.396Z"
   },
   {
    "duration": 88,
    "start_time": "2023-02-16T09:18:30.230Z"
   },
   {
    "duration": 3,
    "start_time": "2023-02-16T09:26:44.692Z"
   },
   {
    "duration": 4,
    "start_time": "2023-02-16T09:27:10.102Z"
   },
   {
    "duration": 4,
    "start_time": "2023-02-16T09:28:27.032Z"
   },
   {
    "duration": 6,
    "start_time": "2023-02-16T09:32:01.947Z"
   },
   {
    "duration": 11,
    "start_time": "2023-02-16T09:54:08.797Z"
   },
   {
    "duration": 1604,
    "start_time": "2023-02-16T09:56:50.496Z"
   },
   {
    "duration": 4,
    "start_time": "2023-02-16T09:57:04.245Z"
   },
   {
    "duration": 5,
    "start_time": "2023-02-16T09:58:03.851Z"
   },
   {
    "duration": 4,
    "start_time": "2023-02-16T09:58:35.790Z"
   },
   {
    "duration": 11,
    "start_time": "2023-02-16T10:01:01.948Z"
   },
   {
    "duration": 5,
    "start_time": "2023-02-16T10:01:20.835Z"
   },
   {
    "duration": 9,
    "start_time": "2023-02-16T11:14:14.718Z"
   },
   {
    "duration": 12,
    "start_time": "2023-02-16T11:14:47.658Z"
   },
   {
    "duration": 14,
    "start_time": "2023-02-16T11:14:53.622Z"
   },
   {
    "duration": 15,
    "start_time": "2023-02-16T11:22:38.938Z"
   },
   {
    "duration": 17,
    "start_time": "2023-02-16T11:22:55.657Z"
   },
   {
    "duration": 13,
    "start_time": "2023-02-16T11:23:03.557Z"
   },
   {
    "duration": 11,
    "start_time": "2023-02-16T11:23:10.018Z"
   },
   {
    "duration": 15,
    "start_time": "2023-02-16T11:23:22.135Z"
   },
   {
    "duration": 14,
    "start_time": "2023-02-16T11:25:39.935Z"
   },
   {
    "duration": 5,
    "start_time": "2023-02-16T11:26:34.203Z"
   },
   {
    "duration": 55,
    "start_time": "2023-02-16T11:29:46.416Z"
   },
   {
    "duration": 1599,
    "start_time": "2023-02-16T11:32:42.914Z"
   },
   {
    "duration": 12,
    "start_time": "2023-02-16T11:33:39.517Z"
   },
   {
    "duration": 52,
    "start_time": "2023-02-16T11:33:52.931Z"
   },
   {
    "duration": 13,
    "start_time": "2023-02-16T11:33:55.576Z"
   },
   {
    "duration": 12,
    "start_time": "2023-02-16T11:33:57.905Z"
   },
   {
    "duration": 26,
    "start_time": "2023-02-16T11:34:00.188Z"
   },
   {
    "duration": 7,
    "start_time": "2023-02-16T11:34:02.775Z"
   },
   {
    "duration": 9,
    "start_time": "2023-02-16T11:34:05.178Z"
   },
   {
    "duration": 11,
    "start_time": "2023-02-16T11:34:07.422Z"
   },
   {
    "duration": 9,
    "start_time": "2023-02-16T11:34:09.814Z"
   },
   {
    "duration": 11,
    "start_time": "2023-02-16T11:34:14.269Z"
   },
   {
    "duration": 12,
    "start_time": "2023-02-16T11:34:16.717Z"
   },
   {
    "duration": 9,
    "start_time": "2023-02-16T11:34:18.975Z"
   },
   {
    "duration": 11,
    "start_time": "2023-02-16T11:34:21.429Z"
   },
   {
    "duration": 9,
    "start_time": "2023-02-16T11:34:23.821Z"
   },
   {
    "duration": 92,
    "start_time": "2023-02-16T11:34:25.737Z"
   },
   {
    "duration": 12,
    "start_time": "2023-02-16T11:34:29.391Z"
   },
   {
    "duration": 95,
    "start_time": "2023-02-16T11:34:31.925Z"
   },
   {
    "duration": 102,
    "start_time": "2023-02-16T11:34:33.937Z"
   },
   {
    "duration": 14,
    "start_time": "2023-02-16T11:34:36.413Z"
   },
   {
    "duration": 108,
    "start_time": "2023-02-16T11:34:38.276Z"
   },
   {
    "duration": 166,
    "start_time": "2023-02-16T11:34:41.031Z"
   },
   {
    "duration": 13,
    "start_time": "2023-02-16T11:34:42.948Z"
   },
   {
    "duration": 80,
    "start_time": "2023-02-16T11:34:45.479Z"
   },
   {
    "duration": 84,
    "start_time": "2023-02-16T11:34:47.547Z"
   },
   {
    "duration": 12,
    "start_time": "2023-02-16T11:34:50.259Z"
   },
   {
    "duration": 4,
    "start_time": "2023-02-16T11:34:53.983Z"
   },
   {
    "duration": 12,
    "start_time": "2023-02-16T11:34:57.750Z"
   },
   {
    "duration": 13,
    "start_time": "2023-02-16T11:34:59.685Z"
   },
   {
    "duration": 13,
    "start_time": "2023-02-16T11:35:02.174Z"
   },
   {
    "duration": 12,
    "start_time": "2023-02-16T11:35:06.441Z"
   },
   {
    "duration": 5,
    "start_time": "2023-02-16T11:35:14.269Z"
   },
   {
    "duration": 11,
    "start_time": "2023-02-16T11:35:17.521Z"
   },
   {
    "duration": 14,
    "start_time": "2023-02-16T11:38:19.675Z"
   },
   {
    "duration": 11,
    "start_time": "2023-02-16T11:40:40.744Z"
   },
   {
    "duration": 14,
    "start_time": "2023-02-16T11:45:29.088Z"
   },
   {
    "duration": 16,
    "start_time": "2023-02-16T11:46:05.926Z"
   },
   {
    "duration": 4,
    "start_time": "2023-02-16T11:47:24.657Z"
   },
   {
    "duration": 11,
    "start_time": "2023-02-16T11:47:39.564Z"
   },
   {
    "duration": 3,
    "start_time": "2023-02-16T11:47:51.036Z"
   },
   {
    "duration": 9,
    "start_time": "2023-02-16T11:49:17.422Z"
   },
   {
    "duration": 212,
    "start_time": "2023-02-16T11:50:28.091Z"
   },
   {
    "duration": 13,
    "start_time": "2023-02-16T11:50:43.731Z"
   },
   {
    "duration": 94,
    "start_time": "2023-02-16T11:50:53.167Z"
   },
   {
    "duration": 151,
    "start_time": "2023-02-16T11:51:02.990Z"
   },
   {
    "duration": 10,
    "start_time": "2023-02-16T11:51:31.014Z"
   },
   {
    "duration": 139,
    "start_time": "2023-02-16T11:52:18.234Z"
   },
   {
    "duration": 9,
    "start_time": "2023-02-16T11:52:27.608Z"
   },
   {
    "duration": 169,
    "start_time": "2023-02-16T11:52:42.408Z"
   },
   {
    "duration": 173,
    "start_time": "2023-02-16T11:53:25.360Z"
   },
   {
    "duration": 10,
    "start_time": "2023-02-16T11:56:08.886Z"
   },
   {
    "duration": 50,
    "start_time": "2023-02-17T10:31:28.630Z"
   },
   {
    "duration": 6,
    "start_time": "2023-02-17T10:31:38.336Z"
   },
   {
    "duration": 864,
    "start_time": "2023-02-17T10:31:43.247Z"
   },
   {
    "duration": 220,
    "start_time": "2023-02-17T10:31:45.957Z"
   },
   {
    "duration": 12,
    "start_time": "2023-02-17T10:31:48.819Z"
   },
   {
    "duration": 15,
    "start_time": "2023-02-17T10:31:51.064Z"
   },
   {
    "duration": 29,
    "start_time": "2023-02-17T10:31:54.155Z"
   },
   {
    "duration": 11,
    "start_time": "2023-02-17T10:31:56.376Z"
   },
   {
    "duration": 12,
    "start_time": "2023-02-17T10:32:00.116Z"
   },
   {
    "duration": 12,
    "start_time": "2023-02-17T10:32:03.107Z"
   },
   {
    "duration": 9,
    "start_time": "2023-02-17T10:32:06.943Z"
   },
   {
    "duration": 13,
    "start_time": "2023-02-17T10:32:10.857Z"
   },
   {
    "duration": 13,
    "start_time": "2023-02-17T10:32:17.601Z"
   },
   {
    "duration": 9,
    "start_time": "2023-02-17T10:32:20.104Z"
   },
   {
    "duration": 10,
    "start_time": "2023-02-17T10:32:22.495Z"
   },
   {
    "duration": 9,
    "start_time": "2023-02-17T10:32:24.650Z"
   },
   {
    "duration": 115,
    "start_time": "2023-02-17T10:32:27.158Z"
   },
   {
    "duration": 14,
    "start_time": "2023-02-17T10:32:29.382Z"
   },
   {
    "duration": 98,
    "start_time": "2023-02-17T10:32:34.213Z"
   },
   {
    "duration": 111,
    "start_time": "2023-02-17T10:32:36.886Z"
   },
   {
    "duration": 13,
    "start_time": "2023-02-17T10:32:39.321Z"
   },
   {
    "duration": 120,
    "start_time": "2023-02-17T10:32:42.080Z"
   },
   {
    "duration": 169,
    "start_time": "2023-02-17T10:32:44.113Z"
   },
   {
    "duration": 15,
    "start_time": "2023-02-17T10:32:47.158Z"
   },
   {
    "duration": 103,
    "start_time": "2023-02-17T10:32:49.898Z"
   },
   {
    "duration": 108,
    "start_time": "2023-02-17T10:32:52.025Z"
   },
   {
    "duration": 18,
    "start_time": "2023-02-17T10:32:55.254Z"
   },
   {
    "duration": 5,
    "start_time": "2023-02-17T10:32:59.968Z"
   },
   {
    "duration": 24,
    "start_time": "2023-02-17T10:33:02.559Z"
   },
   {
    "duration": 14,
    "start_time": "2023-02-17T10:33:04.871Z"
   },
   {
    "duration": 14,
    "start_time": "2023-02-17T10:33:07.052Z"
   },
   {
    "duration": 12,
    "start_time": "2023-02-17T10:33:09.422Z"
   },
   {
    "duration": 5,
    "start_time": "2023-02-17T10:33:12.652Z"
   },
   {
    "duration": 12,
    "start_time": "2023-02-17T10:33:15.853Z"
   },
   {
    "duration": 12,
    "start_time": "2023-02-17T10:33:19.257Z"
   },
   {
    "duration": 8,
    "start_time": "2023-02-17T10:33:21.383Z"
   },
   {
    "duration": 8,
    "start_time": "2023-02-17T10:33:24.283Z"
   },
   {
    "duration": 8,
    "start_time": "2023-02-17T10:33:25.431Z"
   },
   {
    "duration": 14,
    "start_time": "2023-02-17T10:33:46.777Z"
   },
   {
    "duration": 13,
    "start_time": "2023-02-17T10:34:55.023Z"
   },
   {
    "duration": 12,
    "start_time": "2023-02-17T10:35:42.282Z"
   },
   {
    "duration": 13,
    "start_time": "2023-02-17T10:36:42.961Z"
   },
   {
    "duration": 16,
    "start_time": "2023-02-17T10:37:03.255Z"
   },
   {
    "duration": 19,
    "start_time": "2023-02-17T10:37:45.834Z"
   },
   {
    "duration": 37,
    "start_time": "2023-02-17T11:40:17.351Z"
   },
   {
    "duration": 25,
    "start_time": "2023-02-17T11:40:30.563Z"
   },
   {
    "duration": 19,
    "start_time": "2023-02-17T11:40:56.013Z"
   },
   {
    "duration": 23,
    "start_time": "2023-02-17T11:43:01.481Z"
   },
   {
    "duration": 804,
    "start_time": "2023-02-18T10:19:37.258Z"
   },
   {
    "duration": 223,
    "start_time": "2023-02-18T10:19:39.874Z"
   },
   {
    "duration": 16,
    "start_time": "2023-02-18T10:19:46.745Z"
   },
   {
    "duration": 15,
    "start_time": "2023-02-18T10:19:49.853Z"
   },
   {
    "duration": 42,
    "start_time": "2023-02-18T10:19:51.422Z"
   },
   {
    "duration": 12,
    "start_time": "2023-02-18T10:19:52.988Z"
   },
   {
    "duration": 10,
    "start_time": "2023-02-18T10:19:54.653Z"
   },
   {
    "duration": 17,
    "start_time": "2023-02-18T10:19:56.451Z"
   },
   {
    "duration": 11,
    "start_time": "2023-02-18T10:19:58.369Z"
   },
   {
    "duration": 16,
    "start_time": "2023-02-18T10:20:00.088Z"
   },
   {
    "duration": 13,
    "start_time": "2023-02-18T10:20:03.575Z"
   },
   {
    "duration": 11,
    "start_time": "2023-02-18T10:20:06.379Z"
   },
   {
    "duration": 15,
    "start_time": "2023-02-18T10:20:08.106Z"
   },
   {
    "duration": 13,
    "start_time": "2023-02-18T10:20:09.617Z"
   },
   {
    "duration": 136,
    "start_time": "2023-02-18T10:20:11.256Z"
   },
   {
    "duration": 13,
    "start_time": "2023-02-18T10:20:12.919Z"
   },
   {
    "duration": 119,
    "start_time": "2023-02-18T10:20:15.048Z"
   },
   {
    "duration": 125,
    "start_time": "2023-02-18T10:20:16.401Z"
   },
   {
    "duration": 15,
    "start_time": "2023-02-18T10:20:17.996Z"
   },
   {
    "duration": 109,
    "start_time": "2023-02-18T10:20:21.982Z"
   },
   {
    "duration": 150,
    "start_time": "2023-02-18T10:20:24.882Z"
   },
   {
    "duration": 14,
    "start_time": "2023-02-18T10:20:27.323Z"
   },
   {
    "duration": 95,
    "start_time": "2023-02-18T10:20:30.322Z"
   },
   {
    "duration": 90,
    "start_time": "2023-02-18T10:20:33.175Z"
   },
   {
    "duration": 14,
    "start_time": "2023-02-18T10:20:34.500Z"
   },
   {
    "duration": 6,
    "start_time": "2023-02-18T10:20:36.397Z"
   },
   {
    "duration": 14,
    "start_time": "2023-02-18T10:20:44.516Z"
   },
   {
    "duration": 14,
    "start_time": "2023-02-18T10:20:46.965Z"
   },
   {
    "duration": 13,
    "start_time": "2023-02-18T10:20:49.014Z"
   },
   {
    "duration": 12,
    "start_time": "2023-02-18T10:20:50.933Z"
   },
   {
    "duration": 6,
    "start_time": "2023-02-18T10:20:53.130Z"
   },
   {
    "duration": 17,
    "start_time": "2023-02-18T10:20:55.270Z"
   },
   {
    "duration": 14,
    "start_time": "2023-02-18T10:20:57.517Z"
   },
   {
    "duration": 10,
    "start_time": "2023-02-18T10:20:59.548Z"
   },
   {
    "duration": 21,
    "start_time": "2023-02-18T10:21:01.619Z"
   },
   {
    "duration": 21,
    "start_time": "2023-02-18T10:21:03.574Z"
   },
   {
    "duration": 21,
    "start_time": "2023-02-18T10:21:05.720Z"
   },
   {
    "duration": 13,
    "start_time": "2023-02-18T11:14:09.663Z"
   },
   {
    "duration": 117,
    "start_time": "2023-02-18T11:21:25.732Z"
   },
   {
    "duration": 24,
    "start_time": "2023-02-18T11:21:42.012Z"
   },
   {
    "duration": 6,
    "start_time": "2023-02-18T11:23:11.256Z"
   },
   {
    "duration": 19,
    "start_time": "2023-02-18T11:24:38.381Z"
   },
   {
    "duration": 10,
    "start_time": "2023-02-18T11:25:20.529Z"
   },
   {
    "duration": 16,
    "start_time": "2023-02-18T11:28:04.715Z"
   },
   {
    "duration": 14,
    "start_time": "2023-02-18T11:28:15.036Z"
   },
   {
    "duration": 15,
    "start_time": "2023-02-18T11:28:25.579Z"
   },
   {
    "duration": 9,
    "start_time": "2023-02-18T12:04:58.880Z"
   },
   {
    "duration": 12,
    "start_time": "2023-02-18T12:06:10.755Z"
   },
   {
    "duration": 13,
    "start_time": "2023-02-18T12:06:34.037Z"
   },
   {
    "duration": 9,
    "start_time": "2023-02-18T12:18:43.741Z"
   },
   {
    "duration": 493,
    "start_time": "2023-02-18T12:19:01.020Z"
   },
   {
    "duration": 12,
    "start_time": "2023-02-18T12:19:33.770Z"
   },
   {
    "duration": 13,
    "start_time": "2023-02-18T12:20:35.179Z"
   },
   {
    "duration": 12,
    "start_time": "2023-02-18T12:20:54.321Z"
   },
   {
    "duration": 6,
    "start_time": "2023-02-18T12:21:03.175Z"
   },
   {
    "duration": 11,
    "start_time": "2023-02-18T12:22:45.087Z"
   },
   {
    "duration": 5,
    "start_time": "2023-02-18T12:22:49.325Z"
   },
   {
    "duration": 12,
    "start_time": "2023-02-18T12:27:51.534Z"
   },
   {
    "duration": 79,
    "start_time": "2023-02-18T12:29:07.502Z"
   },
   {
    "duration": 5,
    "start_time": "2023-02-18T12:29:16.221Z"
   },
   {
    "duration": 901,
    "start_time": "2023-02-19T06:42:53.052Z"
   },
   {
    "duration": 142,
    "start_time": "2023-02-19T06:42:53.955Z"
   },
   {
    "duration": 33,
    "start_time": "2023-02-19T06:42:54.099Z"
   },
   {
    "duration": 30,
    "start_time": "2023-02-19T06:42:54.134Z"
   },
   {
    "duration": 33,
    "start_time": "2023-02-19T06:42:54.166Z"
   },
   {
    "duration": 27,
    "start_time": "2023-02-19T06:42:54.201Z"
   },
   {
    "duration": 26,
    "start_time": "2023-02-19T06:42:54.230Z"
   },
   {
    "duration": 15,
    "start_time": "2023-02-19T06:42:54.258Z"
   },
   {
    "duration": 20,
    "start_time": "2023-02-19T06:42:54.275Z"
   },
   {
    "duration": 58,
    "start_time": "2023-02-19T06:42:54.299Z"
   },
   {
    "duration": 15,
    "start_time": "2023-02-19T06:42:54.359Z"
   },
   {
    "duration": 11,
    "start_time": "2023-02-19T06:42:54.377Z"
   },
   {
    "duration": 32,
    "start_time": "2023-02-19T06:42:54.391Z"
   },
   {
    "duration": 25,
    "start_time": "2023-02-19T06:42:54.431Z"
   },
   {
    "duration": 136,
    "start_time": "2023-02-19T06:42:54.457Z"
   },
   {
    "duration": 27,
    "start_time": "2023-02-19T06:42:54.595Z"
   },
   {
    "duration": 122,
    "start_time": "2023-02-19T06:42:54.625Z"
   },
   {
    "duration": 126,
    "start_time": "2023-02-19T06:42:54.749Z"
   },
   {
    "duration": 14,
    "start_time": "2023-02-19T06:42:54.876Z"
   },
   {
    "duration": 141,
    "start_time": "2023-02-19T06:42:54.903Z"
   },
   {
    "duration": 169,
    "start_time": "2023-02-19T06:42:55.046Z"
   },
   {
    "duration": 16,
    "start_time": "2023-02-19T06:42:55.217Z"
   },
   {
    "duration": 123,
    "start_time": "2023-02-19T06:42:55.235Z"
   },
   {
    "duration": 105,
    "start_time": "2023-02-19T06:42:55.360Z"
   },
   {
    "duration": 11,
    "start_time": "2023-02-19T06:42:55.467Z"
   },
   {
    "duration": 27,
    "start_time": "2023-02-19T06:42:55.480Z"
   },
   {
    "duration": 29,
    "start_time": "2023-02-19T06:42:55.509Z"
   },
   {
    "duration": 13,
    "start_time": "2023-02-19T06:42:55.541Z"
   },
   {
    "duration": 15,
    "start_time": "2023-02-19T06:42:55.556Z"
   },
   {
    "duration": 12,
    "start_time": "2023-02-19T06:42:55.572Z"
   },
   {
    "duration": 37,
    "start_time": "2023-02-19T06:42:55.586Z"
   },
   {
    "duration": 21,
    "start_time": "2023-02-19T06:42:55.625Z"
   },
   {
    "duration": 16,
    "start_time": "2023-02-19T06:42:55.648Z"
   },
   {
    "duration": 9,
    "start_time": "2023-02-19T06:42:55.666Z"
   },
   {
    "duration": 33,
    "start_time": "2023-02-19T06:42:55.676Z"
   },
   {
    "duration": 22,
    "start_time": "2023-02-19T06:42:55.711Z"
   },
   {
    "duration": 22,
    "start_time": "2023-02-19T06:42:55.736Z"
   },
   {
    "duration": 11,
    "start_time": "2023-02-19T06:42:55.759Z"
   },
   {
    "duration": 470,
    "start_time": "2023-02-19T06:42:55.771Z"
   },
   {
    "duration": 12,
    "start_time": "2023-02-19T06:42:56.243Z"
   },
   {
    "duration": 5,
    "start_time": "2023-02-19T06:42:56.256Z"
   },
   {
    "duration": 4,
    "start_time": "2023-02-19T07:14:22.936Z"
   },
   {
    "duration": 83,
    "start_time": "2023-02-19T07:14:22.942Z"
   },
   {
    "duration": 16,
    "start_time": "2023-02-19T07:14:23.031Z"
   },
   {
    "duration": 27,
    "start_time": "2023-02-19T07:14:23.049Z"
   },
   {
    "duration": 28,
    "start_time": "2023-02-19T07:14:23.078Z"
   },
   {
    "duration": 9,
    "start_time": "2023-02-19T07:14:23.108Z"
   },
   {
    "duration": 48,
    "start_time": "2023-02-19T07:14:23.118Z"
   },
   {
    "duration": 14,
    "start_time": "2023-02-19T07:14:23.168Z"
   },
   {
    "duration": 13,
    "start_time": "2023-02-19T07:14:28.527Z"
   },
   {
    "duration": 45,
    "start_time": "2023-02-19T07:14:34.083Z"
   },
   {
    "duration": 763,
    "start_time": "2023-02-19T10:43:55.016Z"
   },
   {
    "duration": 200,
    "start_time": "2023-02-19T10:43:56.630Z"
   },
   {
    "duration": 12,
    "start_time": "2023-02-19T10:44:00.625Z"
   },
   {
    "duration": 14,
    "start_time": "2023-02-19T10:44:02.675Z"
   },
   {
    "duration": 29,
    "start_time": "2023-02-19T10:44:04.490Z"
   },
   {
    "duration": 9,
    "start_time": "2023-02-19T10:44:06.667Z"
   },
   {
    "duration": 9,
    "start_time": "2023-02-19T10:44:08.714Z"
   },
   {
    "duration": 12,
    "start_time": "2023-02-19T10:44:11.452Z"
   },
   {
    "duration": 8,
    "start_time": "2023-02-19T10:44:13.668Z"
   },
   {
    "duration": 232,
    "start_time": "2023-02-19T10:50:16.335Z"
   },
   {
    "duration": 278,
    "start_time": "2023-02-19T10:50:39.796Z"
   },
   {
    "duration": 314,
    "start_time": "2023-02-19T10:51:10.419Z"
   },
   {
    "duration": 92,
    "start_time": "2023-02-19T11:11:41.040Z"
   },
   {
    "duration": 8,
    "start_time": "2023-02-19T11:11:59.112Z"
   },
   {
    "duration": 59,
    "start_time": "2023-02-19T11:12:00.545Z"
   },
   {
    "duration": 12,
    "start_time": "2023-02-19T11:13:41.627Z"
   },
   {
    "duration": 22,
    "start_time": "2023-02-19T11:13:45.719Z"
   },
   {
    "duration": 26,
    "start_time": "2023-02-19T11:13:49.343Z"
   },
   {
    "duration": 9,
    "start_time": "2023-02-19T11:13:52.772Z"
   },
   {
    "duration": 13,
    "start_time": "2023-02-19T11:13:59.377Z"
   },
   {
    "duration": 8,
    "start_time": "2023-02-19T11:14:17.152Z"
   },
   {
    "duration": 9,
    "start_time": "2023-02-19T11:14:22.775Z"
   },
   {
    "duration": 299,
    "start_time": "2023-02-19T11:14:28.344Z"
   },
   {
    "duration": 15,
    "start_time": "2023-02-19T11:14:39.723Z"
   },
   {
    "duration": 10,
    "start_time": "2023-02-19T11:14:51.628Z"
   },
   {
    "duration": 13,
    "start_time": "2023-02-19T11:14:55.217Z"
   },
   {
    "duration": 9,
    "start_time": "2023-02-19T11:14:59.148Z"
   },
   {
    "duration": 11,
    "start_time": "2023-02-19T11:16:33.140Z"
   },
   {
    "duration": 109,
    "start_time": "2023-02-19T11:17:27.458Z"
   },
   {
    "duration": 20,
    "start_time": "2023-02-19T11:18:08.009Z"
   },
   {
    "duration": 120,
    "start_time": "2023-02-19T11:18:17.548Z"
   },
   {
    "duration": 124,
    "start_time": "2023-02-19T11:18:20.462Z"
   },
   {
    "duration": 17,
    "start_time": "2023-02-19T11:18:22.620Z"
   },
   {
    "duration": 120,
    "start_time": "2023-02-19T11:18:25.162Z"
   },
   {
    "duration": 112,
    "start_time": "2023-02-19T11:18:28.481Z"
   },
   {
    "duration": 18,
    "start_time": "2023-02-19T11:18:31.498Z"
   },
   {
    "duration": 113,
    "start_time": "2023-02-19T11:18:34.372Z"
   },
   {
    "duration": 124,
    "start_time": "2023-02-19T11:18:36.967Z"
   },
   {
    "duration": 89,
    "start_time": "2023-02-19T11:18:38.982Z"
   },
   {
    "duration": 307,
    "start_time": "2023-02-19T11:18:44.016Z"
   },
   {
    "duration": 17,
    "start_time": "2023-02-19T11:19:05.323Z"
   },
   {
    "duration": 15,
    "start_time": "2023-02-19T11:19:08.065Z"
   },
   {
    "duration": 13,
    "start_time": "2023-02-19T11:19:10.427Z"
   },
   {
    "duration": 15,
    "start_time": "2023-02-19T11:19:13.229Z"
   },
   {
    "duration": 284,
    "start_time": "2023-02-19T11:19:44.396Z"
   },
   {
    "duration": 12,
    "start_time": "2023-02-19T11:19:53.850Z"
   },
   {
    "duration": 12,
    "start_time": "2023-02-19T11:19:57.455Z"
   },
   {
    "duration": 10,
    "start_time": "2023-02-19T11:20:00.527Z"
   },
   {
    "duration": 20,
    "start_time": "2023-02-19T11:20:04.334Z"
   },
   {
    "duration": 21,
    "start_time": "2023-02-19T11:20:07.359Z"
   },
   {
    "duration": 20,
    "start_time": "2023-02-19T11:20:10.687Z"
   },
   {
    "duration": 13,
    "start_time": "2023-02-19T11:20:16.943Z"
   },
   {
    "duration": 480,
    "start_time": "2023-02-19T11:20:19.768Z"
   },
   {
    "duration": 13,
    "start_time": "2023-02-19T11:20:39.632Z"
   },
   {
    "duration": 6,
    "start_time": "2023-02-19T11:20:51.566Z"
   },
   {
    "duration": 12,
    "start_time": "2023-02-19T11:26:33.929Z"
   },
   {
    "duration": 12,
    "start_time": "2023-02-19T11:28:14.989Z"
   },
   {
    "duration": 847,
    "start_time": "2023-02-19T19:10:09.502Z"
   },
   {
    "duration": 109,
    "start_time": "2023-02-19T19:10:10.352Z"
   },
   {
    "duration": 12,
    "start_time": "2023-02-19T19:10:10.462Z"
   },
   {
    "duration": 17,
    "start_time": "2023-02-19T19:10:10.477Z"
   },
   {
    "duration": 26,
    "start_time": "2023-02-19T19:10:10.495Z"
   },
   {
    "duration": 10,
    "start_time": "2023-02-19T19:10:10.522Z"
   },
   {
    "duration": 10,
    "start_time": "2023-02-19T19:10:10.534Z"
   },
   {
    "duration": 7,
    "start_time": "2023-02-19T19:10:10.546Z"
   },
   {
    "duration": 9,
    "start_time": "2023-02-19T19:10:10.555Z"
   },
   {
    "duration": 408,
    "start_time": "2023-02-19T19:10:10.566Z"
   },
   {
    "duration": 13,
    "start_time": "2023-02-19T19:10:10.975Z"
   },
   {
    "duration": 3,
    "start_time": "2023-02-19T19:10:38.587Z"
   },
   {
    "duration": 65,
    "start_time": "2023-02-19T19:10:38.594Z"
   },
   {
    "duration": 16,
    "start_time": "2023-02-19T19:10:38.661Z"
   },
   {
    "duration": 21,
    "start_time": "2023-02-19T19:10:38.680Z"
   },
   {
    "duration": 38,
    "start_time": "2023-02-19T19:10:38.704Z"
   },
   {
    "duration": 12,
    "start_time": "2023-02-19T19:10:38.744Z"
   },
   {
    "duration": 45,
    "start_time": "2023-02-19T19:10:38.758Z"
   },
   {
    "duration": 11,
    "start_time": "2023-02-19T19:10:38.805Z"
   },
   {
    "duration": 10,
    "start_time": "2023-02-19T19:10:38.818Z"
   },
   {
    "duration": 373,
    "start_time": "2023-02-19T19:10:38.829Z"
   },
   {
    "duration": 15,
    "start_time": "2023-02-19T19:10:39.206Z"
   },
   {
    "duration": 14,
    "start_time": "2023-02-19T19:10:39.223Z"
   },
   {
    "duration": 121,
    "start_time": "2023-02-19T19:10:39.239Z"
   },
   {
    "duration": 14,
    "start_time": "2023-02-19T19:10:39.361Z"
   },
   {
    "duration": 128,
    "start_time": "2023-02-19T19:10:39.377Z"
   },
   {
    "duration": 115,
    "start_time": "2023-02-19T19:10:39.507Z"
   },
   {
    "duration": 18,
    "start_time": "2023-02-19T19:10:39.624Z"
   },
   {
    "duration": 143,
    "start_time": "2023-02-19T19:10:39.644Z"
   },
   {
    "duration": 132,
    "start_time": "2023-02-19T19:10:39.799Z"
   },
   {
    "duration": 16,
    "start_time": "2023-02-19T19:10:39.933Z"
   },
   {
    "duration": 119,
    "start_time": "2023-02-19T19:10:39.951Z"
   },
   {
    "duration": 103,
    "start_time": "2023-02-19T19:10:40.071Z"
   },
   {
    "duration": 30,
    "start_time": "2023-02-19T19:10:40.176Z"
   },
   {
    "duration": 310,
    "start_time": "2023-02-19T19:10:40.208Z"
   },
   {
    "duration": 20,
    "start_time": "2023-02-19T19:10:40.520Z"
   },
   {
    "duration": 20,
    "start_time": "2023-02-19T19:10:40.543Z"
   },
   {
    "duration": 36,
    "start_time": "2023-02-19T19:10:40.565Z"
   },
   {
    "duration": 18,
    "start_time": "2023-02-19T19:10:40.603Z"
   },
   {
    "duration": 300,
    "start_time": "2023-02-19T19:10:40.625Z"
   },
   {
    "duration": 14,
    "start_time": "2023-02-19T19:10:40.926Z"
   },
   {
    "duration": 15,
    "start_time": "2023-02-19T19:10:40.941Z"
   },
   {
    "duration": 10,
    "start_time": "2023-02-19T19:10:40.958Z"
   },
   {
    "duration": 103,
    "start_time": "2023-02-19T19:10:40.998Z"
   },
   {
    "duration": 21,
    "start_time": "2023-02-19T19:10:41.102Z"
   },
   {
    "duration": 21,
    "start_time": "2023-02-19T19:10:41.125Z"
   },
   {
    "duration": 13,
    "start_time": "2023-02-19T19:10:41.148Z"
   },
   {
    "duration": 438,
    "start_time": "2023-02-19T19:10:41.163Z"
   },
   {
    "duration": 13,
    "start_time": "2023-02-19T19:10:41.603Z"
   },
   {
    "duration": 7,
    "start_time": "2023-02-19T19:10:41.618Z"
   },
   {
    "duration": 67,
    "start_time": "2023-02-19T19:52:13.613Z"
   },
   {
    "duration": 934,
    "start_time": "2023-02-20T07:56:06.413Z"
   },
   {
    "duration": 102,
    "start_time": "2023-02-20T07:56:08.649Z"
   },
   {
    "duration": 11,
    "start_time": "2023-02-20T07:56:12.590Z"
   },
   {
    "duration": 15,
    "start_time": "2023-02-20T07:56:15.294Z"
   },
   {
    "duration": 27,
    "start_time": "2023-02-20T07:56:17.692Z"
   },
   {
    "duration": 9,
    "start_time": "2023-02-20T07:56:19.956Z"
   },
   {
    "duration": 10,
    "start_time": "2023-02-20T07:56:22.181Z"
   },
   {
    "duration": 8,
    "start_time": "2023-02-20T07:56:24.446Z"
   },
   {
    "duration": 8,
    "start_time": "2023-02-20T07:56:27.151Z"
   },
   {
    "duration": 326,
    "start_time": "2023-02-20T07:56:29.754Z"
   },
   {
    "duration": 14,
    "start_time": "2023-02-20T07:56:33.917Z"
   },
   {
    "duration": 11,
    "start_time": "2023-02-20T07:56:38.268Z"
   },
   {
    "duration": 174,
    "start_time": "2023-02-20T07:56:41.389Z"
   },
   {
    "duration": 127,
    "start_time": "2023-02-20T07:58:40.820Z"
   },
   {
    "duration": 141,
    "start_time": "2023-02-20T08:04:20.889Z"
   },
   {
    "duration": 5,
    "start_time": "2023-02-20T08:12:41.012Z"
   },
   {
    "duration": 11,
    "start_time": "2023-02-20T08:18:42.217Z"
   },
   {
    "duration": 42,
    "start_time": "2023-02-20T11:00:29.468Z"
   },
   {
    "duration": 740,
    "start_time": "2023-02-20T11:05:41.892Z"
   },
   {
    "duration": 208,
    "start_time": "2023-02-20T11:05:43.253Z"
   },
   {
    "duration": 11,
    "start_time": "2023-02-20T11:05:46.919Z"
   },
   {
    "duration": 14,
    "start_time": "2023-02-20T11:05:48.867Z"
   },
   {
    "duration": 27,
    "start_time": "2023-02-20T11:05:50.504Z"
   },
   {
    "duration": 10,
    "start_time": "2023-02-20T11:05:52.595Z"
   },
   {
    "duration": 9,
    "start_time": "2023-02-20T11:05:56.528Z"
   },
   {
    "duration": 7,
    "start_time": "2023-02-20T11:05:58.142Z"
   },
   {
    "duration": 8,
    "start_time": "2023-02-20T11:05:59.658Z"
   },
   {
    "duration": 342,
    "start_time": "2023-02-20T11:06:03.331Z"
   },
   {
    "duration": 12,
    "start_time": "2023-02-20T11:06:07.615Z"
   },
   {
    "duration": 11,
    "start_time": "2023-02-20T11:06:10.659Z"
   },
   {
    "duration": 40,
    "start_time": "2023-02-20T11:06:16.047Z"
   },
   {
    "duration": 13,
    "start_time": "2023-02-20T11:06:48.975Z"
   },
   {
    "duration": 14,
    "start_time": "2023-02-20T11:08:42.555Z"
   },
   {
    "duration": 5,
    "start_time": "2023-02-20T11:12:32.668Z"
   },
   {
    "duration": 10,
    "start_time": "2023-02-20T11:12:54.008Z"
   },
   {
    "duration": 7,
    "start_time": "2023-02-20T11:13:07.044Z"
   },
   {
    "duration": 7,
    "start_time": "2023-02-20T11:13:40.991Z"
   },
   {
    "duration": 8,
    "start_time": "2023-02-20T11:13:59.731Z"
   },
   {
    "duration": 7,
    "start_time": "2023-02-20T11:16:02.131Z"
   },
   {
    "duration": 11,
    "start_time": "2023-02-20T11:16:17.880Z"
   },
   {
    "duration": 22,
    "start_time": "2023-02-20T11:19:02.001Z"
   },
   {
    "duration": 24,
    "start_time": "2023-02-20T11:19:24.130Z"
   },
   {
    "duration": 23,
    "start_time": "2023-02-20T11:19:46.136Z"
   },
   {
    "duration": 27,
    "start_time": "2023-02-20T11:20:08.073Z"
   },
   {
    "duration": 11,
    "start_time": "2023-02-20T11:20:55.185Z"
   },
   {
    "duration": 13,
    "start_time": "2023-02-20T11:22:53.129Z"
   },
   {
    "duration": 12,
    "start_time": "2023-02-20T11:23:17.063Z"
   },
   {
    "duration": 19,
    "start_time": "2023-02-20T11:23:42.657Z"
   },
   {
    "duration": 14,
    "start_time": "2023-02-20T11:23:46.255Z"
   },
   {
    "duration": 18,
    "start_time": "2023-02-20T11:28:07.750Z"
   },
   {
    "duration": 100,
    "start_time": "2023-02-20T11:28:27.087Z"
   },
   {
    "duration": 11,
    "start_time": "2023-02-20T11:29:36.554Z"
   },
   {
    "duration": 13,
    "start_time": "2023-02-20T11:31:23.929Z"
   },
   {
    "duration": 11,
    "start_time": "2023-02-20T11:31:30.985Z"
   },
   {
    "duration": 111,
    "start_time": "2023-02-20T11:36:40.478Z"
   },
   {
    "duration": 77,
    "start_time": "2023-02-20T11:36:53.379Z"
   },
   {
    "duration": 11,
    "start_time": "2023-02-20T11:37:12.973Z"
   },
   {
    "duration": 113,
    "start_time": "2023-02-20T11:38:03.391Z"
   },
   {
    "duration": 167,
    "start_time": "2023-02-20T11:39:25.361Z"
   },
   {
    "duration": 106,
    "start_time": "2023-02-20T11:39:37.376Z"
   },
   {
    "duration": 121,
    "start_time": "2023-02-20T11:39:44.743Z"
   },
   {
    "duration": 114,
    "start_time": "2023-02-20T11:42:45.950Z"
   },
   {
    "duration": 97,
    "start_time": "2023-02-20T11:42:48.889Z"
   },
   {
    "duration": 120,
    "start_time": "2023-02-20T11:42:51.379Z"
   },
   {
    "duration": 110,
    "start_time": "2023-02-20T11:42:54.353Z"
   },
   {
    "duration": 107,
    "start_time": "2023-02-20T11:42:56.441Z"
   },
   {
    "duration": 110,
    "start_time": "2023-02-20T11:42:58.784Z"
   },
   {
    "duration": 109,
    "start_time": "2023-02-20T11:43:01.433Z"
   },
   {
    "duration": 154,
    "start_time": "2023-02-20T11:43:04.390Z"
   },
   {
    "duration": 13,
    "start_time": "2023-02-20T11:44:12.412Z"
   },
   {
    "duration": 184,
    "start_time": "2023-02-20T11:44:18.757Z"
   },
   {
    "duration": 106,
    "start_time": "2023-02-20T11:44:23.592Z"
   },
   {
    "duration": 13,
    "start_time": "2023-02-20T11:44:26.905Z"
   },
   {
    "duration": 103,
    "start_time": "2023-02-20T11:44:52.814Z"
   },
   {
    "duration": 103,
    "start_time": "2023-02-20T11:44:55.204Z"
   },
   {
    "duration": 19,
    "start_time": "2023-02-20T11:44:57.962Z"
   },
   {
    "duration": 92,
    "start_time": "2023-02-20T11:45:00.798Z"
   },
   {
    "duration": 96,
    "start_time": "2023-02-20T11:45:02.811Z"
   },
   {
    "duration": 13,
    "start_time": "2023-02-20T11:45:05.682Z"
   },
   {
    "duration": 280,
    "start_time": "2023-02-20T11:45:09.711Z"
   },
   {
    "duration": 23,
    "start_time": "2023-02-20T11:54:03.080Z"
   },
   {
    "duration": 5,
    "start_time": "2023-02-20T11:55:26.219Z"
   },
   {
    "duration": 5,
    "start_time": "2023-02-20T11:55:27.456Z"
   },
   {
    "duration": 1506,
    "start_time": "2023-02-20T11:56:14.037Z"
   },
   {
    "duration": 12,
    "start_time": "2023-02-20T11:56:36.823Z"
   },
   {
    "duration": 263,
    "start_time": "2023-02-20T11:57:10.184Z"
   },
   {
    "duration": 13,
    "start_time": "2023-02-20T11:57:45.621Z"
   },
   {
    "duration": 13,
    "start_time": "2023-02-20T11:57:48.294Z"
   },
   {
    "duration": 12,
    "start_time": "2023-02-20T11:57:50.710Z"
   },
   {
    "duration": 11,
    "start_time": "2023-02-20T11:57:53.614Z"
   },
   {
    "duration": 299,
    "start_time": "2023-02-20T11:58:20.639Z"
   },
   {
    "duration": 275,
    "start_time": "2023-02-20T11:59:01.148Z"
   },
   {
    "duration": 13,
    "start_time": "2023-02-20T11:59:42.351Z"
   },
   {
    "duration": 16,
    "start_time": "2023-02-20T12:20:45.628Z"
   },
   {
    "duration": 12,
    "start_time": "2023-02-20T12:21:45.360Z"
   },
   {
    "duration": 15,
    "start_time": "2023-02-20T12:30:34.785Z"
   },
   {
    "duration": 19,
    "start_time": "2023-02-20T12:31:29.728Z"
   },
   {
    "duration": 29,
    "start_time": "2023-02-20T12:31:58.737Z"
   },
   {
    "duration": 27,
    "start_time": "2023-02-20T12:32:43.137Z"
   },
   {
    "duration": 19,
    "start_time": "2023-02-20T12:32:53.599Z"
   },
   {
    "duration": 29,
    "start_time": "2023-02-20T12:33:03.862Z"
   },
   {
    "duration": 23,
    "start_time": "2023-02-20T12:33:38.820Z"
   },
   {
    "duration": 30,
    "start_time": "2023-02-20T12:38:46.456Z"
   },
   {
    "duration": 22,
    "start_time": "2023-02-20T12:39:01.943Z"
   },
   {
    "duration": 170,
    "start_time": "2023-02-20T12:39:16.886Z"
   },
   {
    "duration": 20,
    "start_time": "2023-02-20T12:39:25.250Z"
   },
   {
    "duration": 20,
    "start_time": "2023-02-20T12:39:42.123Z"
   },
   {
    "duration": 746,
    "start_time": "2023-02-20T19:36:32.722Z"
   },
   {
    "duration": 105,
    "start_time": "2023-02-20T19:36:33.470Z"
   },
   {
    "duration": 12,
    "start_time": "2023-02-20T19:36:33.577Z"
   },
   {
    "duration": 21,
    "start_time": "2023-02-20T19:36:33.590Z"
   },
   {
    "duration": 25,
    "start_time": "2023-02-20T19:36:33.612Z"
   },
   {
    "duration": 8,
    "start_time": "2023-02-20T19:36:33.639Z"
   },
   {
    "duration": 9,
    "start_time": "2023-02-20T19:36:33.649Z"
   },
   {
    "duration": 15,
    "start_time": "2023-02-20T19:36:33.659Z"
   },
   {
    "duration": 28,
    "start_time": "2023-02-20T19:36:33.675Z"
   },
   {
    "duration": 436,
    "start_time": "2023-02-20T19:36:33.705Z"
   },
   {
    "duration": 15,
    "start_time": "2023-02-20T19:36:34.143Z"
   },
   {
    "duration": 24,
    "start_time": "2023-02-20T19:36:34.159Z"
   },
   {
    "duration": 75,
    "start_time": "2023-02-20T19:38:37.812Z"
   },
   {
    "duration": 15,
    "start_time": "2023-02-20T19:38:48.740Z"
   },
   {
    "duration": 24,
    "start_time": "2023-02-20T19:40:23.233Z"
   },
   {
    "duration": 12,
    "start_time": "2023-02-20T19:40:42.596Z"
   },
   {
    "duration": 12,
    "start_time": "2023-02-20T19:40:57.735Z"
   },
   {
    "duration": 11,
    "start_time": "2023-02-20T19:41:16.552Z"
   },
   {
    "duration": 11,
    "start_time": "2023-02-20T19:41:25.011Z"
   },
   {
    "duration": 13,
    "start_time": "2023-02-20T19:41:35.776Z"
   },
   {
    "duration": 11,
    "start_time": "2023-02-20T19:41:39.869Z"
   },
   {
    "duration": 12,
    "start_time": "2023-02-20T19:41:45.404Z"
   },
   {
    "duration": 3,
    "start_time": "2023-02-20T19:42:26.620Z"
   },
   {
    "duration": 67,
    "start_time": "2023-02-20T19:42:26.628Z"
   },
   {
    "duration": 13,
    "start_time": "2023-02-20T19:42:26.697Z"
   },
   {
    "duration": 19,
    "start_time": "2023-02-20T19:42:26.712Z"
   },
   {
    "duration": 30,
    "start_time": "2023-02-20T19:42:26.734Z"
   },
   {
    "duration": 38,
    "start_time": "2023-02-20T19:42:26.766Z"
   },
   {
    "duration": 12,
    "start_time": "2023-02-20T19:42:26.806Z"
   },
   {
    "duration": 9,
    "start_time": "2023-02-20T19:42:26.820Z"
   },
   {
    "duration": 10,
    "start_time": "2023-02-20T19:42:26.831Z"
   },
   {
    "duration": 424,
    "start_time": "2023-02-20T19:42:26.843Z"
   },
   {
    "duration": 14,
    "start_time": "2023-02-20T19:42:27.269Z"
   },
   {
    "duration": 31,
    "start_time": "2023-02-20T19:42:27.285Z"
   },
   {
    "duration": 12,
    "start_time": "2023-02-20T19:42:27.318Z"
   },
   {
    "duration": 15,
    "start_time": "2023-02-20T19:42:27.332Z"
   },
   {
    "duration": 12,
    "start_time": "2023-02-20T19:42:27.349Z"
   },
   {
    "duration": 155,
    "start_time": "2023-02-20T19:42:27.363Z"
   },
   {
    "duration": 118,
    "start_time": "2023-02-20T19:42:27.519Z"
   },
   {
    "duration": 113,
    "start_time": "2023-02-20T19:42:27.638Z"
   },
   {
    "duration": 113,
    "start_time": "2023-02-20T19:42:27.753Z"
   },
   {
    "duration": 115,
    "start_time": "2023-02-20T19:42:27.867Z"
   },
   {
    "duration": 127,
    "start_time": "2023-02-20T19:42:27.984Z"
   },
   {
    "duration": 109,
    "start_time": "2023-02-20T19:42:28.113Z"
   },
   {
    "duration": 130,
    "start_time": "2023-02-20T19:42:28.224Z"
   },
   {
    "duration": 130,
    "start_time": "2023-02-20T19:42:28.356Z"
   },
   {
    "duration": 152,
    "start_time": "2023-02-20T19:42:28.488Z"
   },
   {
    "duration": 13,
    "start_time": "2023-02-20T19:42:28.641Z"
   },
   {
    "duration": 179,
    "start_time": "2023-02-20T19:42:28.656Z"
   },
   {
    "duration": 121,
    "start_time": "2023-02-20T19:42:28.836Z"
   },
   {
    "duration": 20,
    "start_time": "2023-02-20T19:42:28.962Z"
   },
   {
    "duration": 129,
    "start_time": "2023-02-20T19:42:28.984Z"
   },
   {
    "duration": 126,
    "start_time": "2023-02-20T19:42:29.115Z"
   },
   {
    "duration": 15,
    "start_time": "2023-02-20T19:42:29.242Z"
   },
   {
    "duration": 155,
    "start_time": "2023-02-20T19:42:29.259Z"
   },
   {
    "duration": 111,
    "start_time": "2023-02-20T19:42:29.416Z"
   },
   {
    "duration": 329,
    "start_time": "2023-02-20T19:42:29.529Z"
   },
   {
    "duration": 17,
    "start_time": "2023-02-20T19:42:29.860Z"
   },
   {
    "duration": 34,
    "start_time": "2023-02-20T19:42:29.879Z"
   },
   {
    "duration": 16,
    "start_time": "2023-02-20T19:42:29.914Z"
   },
   {
    "duration": 313,
    "start_time": "2023-02-20T19:42:29.932Z"
   },
   {
    "duration": 11,
    "start_time": "2023-02-20T19:42:30.246Z"
   },
   {
    "duration": 67,
    "start_time": "2023-02-20T19:42:30.259Z"
   },
   {
    "duration": 64,
    "start_time": "2023-02-20T19:42:30.328Z"
   },
   {
    "duration": 73,
    "start_time": "2023-02-20T19:42:30.394Z"
   },
   {
    "duration": 31,
    "start_time": "2023-02-20T19:42:30.469Z"
   },
   {
    "duration": 0,
    "start_time": "2023-02-20T19:42:30.502Z"
   },
   {
    "duration": 0,
    "start_time": "2023-02-20T19:42:30.504Z"
   },
   {
    "duration": 0,
    "start_time": "2023-02-20T19:42:30.505Z"
   },
   {
    "duration": 19,
    "start_time": "2023-02-20T19:47:01.265Z"
   },
   {
    "duration": 17,
    "start_time": "2023-02-20T19:47:09.853Z"
   },
   {
    "duration": 519,
    "start_time": "2023-02-20T19:47:21.288Z"
   },
   {
    "duration": 36,
    "start_time": "2023-02-20T19:47:23.419Z"
   },
   {
    "duration": 14,
    "start_time": "2023-02-20T19:47:56.668Z"
   },
   {
    "duration": 7,
    "start_time": "2023-02-20T19:48:04.114Z"
   },
   {
    "duration": 14,
    "start_time": "2023-02-20T19:48:18.082Z"
   },
   {
    "duration": 5,
    "start_time": "2023-02-20T19:48:24.732Z"
   },
   {
    "duration": 9,
    "start_time": "2023-02-20T19:48:45.551Z"
   },
   {
    "duration": 7,
    "start_time": "2023-02-20T19:49:03.116Z"
   },
   {
    "duration": 8,
    "start_time": "2023-02-20T19:49:18.612Z"
   },
   {
    "duration": 8,
    "start_time": "2023-02-20T19:49:33.727Z"
   }
  ],
  "kernelspec": {
   "display_name": "Python 3 (ipykernel)",
   "language": "python",
   "name": "python3"
  },
  "language_info": {
   "codemirror_mode": {
    "name": "ipython",
    "version": 3
   },
   "file_extension": ".py",
   "mimetype": "text/x-python",
   "name": "python",
   "nbconvert_exporter": "python",
   "pygments_lexer": "ipython3",
   "version": "3.10.9"
  },
  "toc": {
   "base_numbering": 1,
   "nav_menu": {},
   "number_sections": true,
   "sideBar": true,
   "skip_h1_title": true,
   "title_cell": "Table of Contents",
   "title_sidebar": "Contents",
   "toc_cell": false,
   "toc_position": {
    "height": "calc(100% - 180px)",
    "left": "10px",
    "top": "150px",
    "width": "165px"
   },
   "toc_section_display": true,
   "toc_window_display": false
  }
 },
 "nbformat": 4,
 "nbformat_minor": 2
}
