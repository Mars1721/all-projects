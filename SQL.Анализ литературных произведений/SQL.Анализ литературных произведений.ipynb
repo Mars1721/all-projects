{
 "cells": [
  {
   "cell_type": "markdown",
   "metadata": {},
   "source": [
    "# Цели исследования: \n",
    "\n",
    "Проанализировать таблицы и ответить на следующие вопросы:\n",
    "\n",
    "1) Посчитайте, сколько книг вышло после 1 января 2000 года;\n",
    "\n",
    "2) Для каждой книги посчитайте количество обзоров и среднюю оценку;\n",
    "\n",
    "3) Определите издательство, которое выпустило наибольшее число книг толще\n",
    "50 страниц — так вы исключите из анализа брошюры;\n",
    "\n",
    "4) Определите автора с самой высокой средней оценкой книг — учитывайте\n",
    "только книги с 50 и более оценками;\n",
    "\n",
    "5) Посчитайте среднее количество обзоров от пользователей, которые поставили\n",
    "больше 48 оценок."
   ]
  },
  {
   "cell_type": "code",
   "execution_count": 94,
   "metadata": {},
   "outputs": [],
   "source": [
    "#Подключение библиотек\n",
    "\n",
    "import pandas as pd\n",
    "from sqlalchemy import text, create_engine"
   ]
  },
  {
   "cell_type": "code",
   "execution_count": 95,
   "metadata": {},
   "outputs": [],
   "source": [
    "db_config = {'user': 'praktikum_student', # имя пользователя\n",
    "    'pwd': 'Sdf4$2;d-d30pp', # пароль\n",
    "    'host': 'rc1b-wcoijxj3yxfsf3fs.mdb.yandexcloud.net',\n",
    "    'port': 6432, # порт подключения\n",
    "    'db': 'data-analyst-final-project-db'} # название базы данных\n",
    "connection_string = 'postgresql://{user}:{pwd}@{host}:{port}/{db}'.format(**db_config)"
   ]
  },
  {
   "cell_type": "code",
   "execution_count": 96,
   "metadata": {},
   "outputs": [],
   "source": [
    "# сохраняем коннектор\n",
    "engine = create_engine(connection_string, connect_args={'sslmode':'require'})"
   ]
  },
  {
   "cell_type": "markdown",
   "metadata": {},
   "source": [
    "# Открытие таблицы books"
   ]
  },
  {
   "cell_type": "code",
   "execution_count": 97,
   "metadata": {},
   "outputs": [],
   "source": [
    "# чтобы выполнить SQL-запрос, используем Pandas\n",
    "query_books = '''SELECT * FROM books'''"
   ]
  },
  {
   "cell_type": "code",
   "execution_count": 98,
   "metadata": {},
   "outputs": [],
   "source": [
    "con = engine.connect()"
   ]
  },
  {
   "cell_type": "code",
   "execution_count": 99,
   "metadata": {},
   "outputs": [
    {
     "data": {
      "text/html": [
       "<div>\n",
       "<style scoped>\n",
       "    .dataframe tbody tr th:only-of-type {\n",
       "        vertical-align: middle;\n",
       "    }\n",
       "\n",
       "    .dataframe tbody tr th {\n",
       "        vertical-align: top;\n",
       "    }\n",
       "\n",
       "    .dataframe thead th {\n",
       "        text-align: right;\n",
       "    }\n",
       "</style>\n",
       "<table border=\"1\" class=\"dataframe\">\n",
       "  <thead>\n",
       "    <tr style=\"text-align: right;\">\n",
       "      <th></th>\n",
       "      <th>book_id</th>\n",
       "      <th>author_id</th>\n",
       "      <th>title</th>\n",
       "      <th>num_pages</th>\n",
       "      <th>publication_date</th>\n",
       "      <th>publisher_id</th>\n",
       "    </tr>\n",
       "  </thead>\n",
       "  <tbody>\n",
       "    <tr>\n",
       "      <th>0</th>\n",
       "      <td>1</td>\n",
       "      <td>546</td>\n",
       "      <td>'Salem's Lot</td>\n",
       "      <td>594</td>\n",
       "      <td>2005-11-01</td>\n",
       "      <td>93</td>\n",
       "    </tr>\n",
       "    <tr>\n",
       "      <th>1</th>\n",
       "      <td>2</td>\n",
       "      <td>465</td>\n",
       "      <td>1 000 Places to See Before You Die</td>\n",
       "      <td>992</td>\n",
       "      <td>2003-05-22</td>\n",
       "      <td>336</td>\n",
       "    </tr>\n",
       "    <tr>\n",
       "      <th>2</th>\n",
       "      <td>3</td>\n",
       "      <td>407</td>\n",
       "      <td>13 Little Blue Envelopes (Little Blue Envelope...</td>\n",
       "      <td>322</td>\n",
       "      <td>2010-12-21</td>\n",
       "      <td>135</td>\n",
       "    </tr>\n",
       "    <tr>\n",
       "      <th>3</th>\n",
       "      <td>4</td>\n",
       "      <td>82</td>\n",
       "      <td>1491: New Revelations of the Americas Before C...</td>\n",
       "      <td>541</td>\n",
       "      <td>2006-10-10</td>\n",
       "      <td>309</td>\n",
       "    </tr>\n",
       "    <tr>\n",
       "      <th>4</th>\n",
       "      <td>5</td>\n",
       "      <td>125</td>\n",
       "      <td>1776</td>\n",
       "      <td>386</td>\n",
       "      <td>2006-07-04</td>\n",
       "      <td>268</td>\n",
       "    </tr>\n",
       "    <tr>\n",
       "      <th>...</th>\n",
       "      <td>...</td>\n",
       "      <td>...</td>\n",
       "      <td>...</td>\n",
       "      <td>...</td>\n",
       "      <td>...</td>\n",
       "      <td>...</td>\n",
       "    </tr>\n",
       "    <tr>\n",
       "      <th>995</th>\n",
       "      <td>996</td>\n",
       "      <td>571</td>\n",
       "      <td>Wyrd Sisters (Discworld  #6; Witches #2)</td>\n",
       "      <td>265</td>\n",
       "      <td>2001-02-06</td>\n",
       "      <td>147</td>\n",
       "    </tr>\n",
       "    <tr>\n",
       "      <th>996</th>\n",
       "      <td>997</td>\n",
       "      <td>454</td>\n",
       "      <td>Xenocide (Ender's Saga  #3)</td>\n",
       "      <td>592</td>\n",
       "      <td>1996-07-15</td>\n",
       "      <td>297</td>\n",
       "    </tr>\n",
       "    <tr>\n",
       "      <th>997</th>\n",
       "      <td>998</td>\n",
       "      <td>201</td>\n",
       "      <td>Year of Wonders</td>\n",
       "      <td>358</td>\n",
       "      <td>2002-04-30</td>\n",
       "      <td>212</td>\n",
       "    </tr>\n",
       "    <tr>\n",
       "      <th>998</th>\n",
       "      <td>999</td>\n",
       "      <td>94</td>\n",
       "      <td>You Suck (A Love Story  #2)</td>\n",
       "      <td>328</td>\n",
       "      <td>2007-01-16</td>\n",
       "      <td>331</td>\n",
       "    </tr>\n",
       "    <tr>\n",
       "      <th>999</th>\n",
       "      <td>1000</td>\n",
       "      <td>509</td>\n",
       "      <td>Zen and the Art of Motorcycle Maintenance: An ...</td>\n",
       "      <td>540</td>\n",
       "      <td>2006-04-25</td>\n",
       "      <td>143</td>\n",
       "    </tr>\n",
       "  </tbody>\n",
       "</table>\n",
       "<p>1000 rows × 6 columns</p>\n",
       "</div>"
      ],
      "text/plain": [
       "     book_id  author_id                                              title  \\\n",
       "0          1        546                                       'Salem's Lot   \n",
       "1          2        465                 1 000 Places to See Before You Die   \n",
       "2          3        407  13 Little Blue Envelopes (Little Blue Envelope...   \n",
       "3          4         82  1491: New Revelations of the Americas Before C...   \n",
       "4          5        125                                               1776   \n",
       "..       ...        ...                                                ...   \n",
       "995      996        571           Wyrd Sisters (Discworld  #6; Witches #2)   \n",
       "996      997        454                        Xenocide (Ender's Saga  #3)   \n",
       "997      998        201                                    Year of Wonders   \n",
       "998      999         94                        You Suck (A Love Story  #2)   \n",
       "999     1000        509  Zen and the Art of Motorcycle Maintenance: An ...   \n",
       "\n",
       "     num_pages publication_date  publisher_id  \n",
       "0          594       2005-11-01            93  \n",
       "1          992       2003-05-22           336  \n",
       "2          322       2010-12-21           135  \n",
       "3          541       2006-10-10           309  \n",
       "4          386       2006-07-04           268  \n",
       "..         ...              ...           ...  \n",
       "995        265       2001-02-06           147  \n",
       "996        592       1996-07-15           297  \n",
       "997        358       2002-04-30           212  \n",
       "998        328       2007-01-16           331  \n",
       "999        540       2006-04-25           143  \n",
       "\n",
       "[1000 rows x 6 columns]"
      ]
     },
     "execution_count": 99,
     "metadata": {},
     "output_type": "execute_result"
    }
   ],
   "source": [
    "pd.io.sql.read_sql(sql=text(query_books), con = con)"
   ]
  },
  {
   "cell_type": "markdown",
   "metadata": {},
   "source": [
    "# Открытие таблицы authors"
   ]
  },
  {
   "cell_type": "code",
   "execution_count": 100,
   "metadata": {},
   "outputs": [],
   "source": [
    "# чтобы выполнить SQL-запрос, используем Pandas\n",
    "query_authors = '''SELECT * FROM authors LIMIT 5'''"
   ]
  },
  {
   "cell_type": "code",
   "execution_count": 101,
   "metadata": {},
   "outputs": [
    {
     "data": {
      "text/html": [
       "<div>\n",
       "<style scoped>\n",
       "    .dataframe tbody tr th:only-of-type {\n",
       "        vertical-align: middle;\n",
       "    }\n",
       "\n",
       "    .dataframe tbody tr th {\n",
       "        vertical-align: top;\n",
       "    }\n",
       "\n",
       "    .dataframe thead th {\n",
       "        text-align: right;\n",
       "    }\n",
       "</style>\n",
       "<table border=\"1\" class=\"dataframe\">\n",
       "  <thead>\n",
       "    <tr style=\"text-align: right;\">\n",
       "      <th></th>\n",
       "      <th>author_id</th>\n",
       "      <th>author</th>\n",
       "    </tr>\n",
       "  </thead>\n",
       "  <tbody>\n",
       "    <tr>\n",
       "      <th>0</th>\n",
       "      <td>1</td>\n",
       "      <td>A.S. Byatt</td>\n",
       "    </tr>\n",
       "    <tr>\n",
       "      <th>1</th>\n",
       "      <td>2</td>\n",
       "      <td>Aesop/Laura Harris/Laura Gibbs</td>\n",
       "    </tr>\n",
       "    <tr>\n",
       "      <th>2</th>\n",
       "      <td>3</td>\n",
       "      <td>Agatha Christie</td>\n",
       "    </tr>\n",
       "    <tr>\n",
       "      <th>3</th>\n",
       "      <td>4</td>\n",
       "      <td>Alan Brennert</td>\n",
       "    </tr>\n",
       "    <tr>\n",
       "      <th>4</th>\n",
       "      <td>5</td>\n",
       "      <td>Alan Moore/David   Lloyd</td>\n",
       "    </tr>\n",
       "  </tbody>\n",
       "</table>\n",
       "</div>"
      ],
      "text/plain": [
       "   author_id                          author\n",
       "0          1                      A.S. Byatt\n",
       "1          2  Aesop/Laura Harris/Laura Gibbs\n",
       "2          3                 Agatha Christie\n",
       "3          4                   Alan Brennert\n",
       "4          5        Alan Moore/David   Lloyd"
      ]
     },
     "execution_count": 101,
     "metadata": {},
     "output_type": "execute_result"
    }
   ],
   "source": [
    "pd.io.sql.read_sql(sql=text(query_authors), con = con)"
   ]
  },
  {
   "cell_type": "markdown",
   "metadata": {},
   "source": [
    "# Открытие таблицы publishers"
   ]
  },
  {
   "cell_type": "code",
   "execution_count": 102,
   "metadata": {},
   "outputs": [],
   "source": [
    "# чтобы выполнить SQL-запрос, используем Pandas\n",
    "query_publishers = '''SELECT * FROM publishers LIMIT 5'''"
   ]
  },
  {
   "cell_type": "code",
   "execution_count": 103,
   "metadata": {},
   "outputs": [
    {
     "data": {
      "text/html": [
       "<div>\n",
       "<style scoped>\n",
       "    .dataframe tbody tr th:only-of-type {\n",
       "        vertical-align: middle;\n",
       "    }\n",
       "\n",
       "    .dataframe tbody tr th {\n",
       "        vertical-align: top;\n",
       "    }\n",
       "\n",
       "    .dataframe thead th {\n",
       "        text-align: right;\n",
       "    }\n",
       "</style>\n",
       "<table border=\"1\" class=\"dataframe\">\n",
       "  <thead>\n",
       "    <tr style=\"text-align: right;\">\n",
       "      <th></th>\n",
       "      <th>publisher_id</th>\n",
       "      <th>publisher</th>\n",
       "    </tr>\n",
       "  </thead>\n",
       "  <tbody>\n",
       "    <tr>\n",
       "      <th>0</th>\n",
       "      <td>1</td>\n",
       "      <td>Ace</td>\n",
       "    </tr>\n",
       "    <tr>\n",
       "      <th>1</th>\n",
       "      <td>2</td>\n",
       "      <td>Ace Book</td>\n",
       "    </tr>\n",
       "    <tr>\n",
       "      <th>2</th>\n",
       "      <td>3</td>\n",
       "      <td>Ace Books</td>\n",
       "    </tr>\n",
       "    <tr>\n",
       "      <th>3</th>\n",
       "      <td>4</td>\n",
       "      <td>Ace Hardcover</td>\n",
       "    </tr>\n",
       "    <tr>\n",
       "      <th>4</th>\n",
       "      <td>5</td>\n",
       "      <td>Addison Wesley Publishing Company</td>\n",
       "    </tr>\n",
       "  </tbody>\n",
       "</table>\n",
       "</div>"
      ],
      "text/plain": [
       "   publisher_id                          publisher\n",
       "0             1                                Ace\n",
       "1             2                           Ace Book\n",
       "2             3                          Ace Books\n",
       "3             4                      Ace Hardcover\n",
       "4             5  Addison Wesley Publishing Company"
      ]
     },
     "execution_count": 103,
     "metadata": {},
     "output_type": "execute_result"
    }
   ],
   "source": [
    "pd.io.sql.read_sql(sql=text(query_publishers), con = con)"
   ]
  },
  {
   "cell_type": "markdown",
   "metadata": {},
   "source": [
    "# Открытие таблицы ratings"
   ]
  },
  {
   "cell_type": "code",
   "execution_count": 104,
   "metadata": {},
   "outputs": [],
   "source": [
    "# чтобы выполнить SQL-запрос, используем Pandas\n",
    "query_ratings = '''SELECT * FROM ratings LIMIT 5'''"
   ]
  },
  {
   "cell_type": "code",
   "execution_count": 105,
   "metadata": {},
   "outputs": [
    {
     "data": {
      "text/html": [
       "<div>\n",
       "<style scoped>\n",
       "    .dataframe tbody tr th:only-of-type {\n",
       "        vertical-align: middle;\n",
       "    }\n",
       "\n",
       "    .dataframe tbody tr th {\n",
       "        vertical-align: top;\n",
       "    }\n",
       "\n",
       "    .dataframe thead th {\n",
       "        text-align: right;\n",
       "    }\n",
       "</style>\n",
       "<table border=\"1\" class=\"dataframe\">\n",
       "  <thead>\n",
       "    <tr style=\"text-align: right;\">\n",
       "      <th></th>\n",
       "      <th>rating_id</th>\n",
       "      <th>book_id</th>\n",
       "      <th>username</th>\n",
       "      <th>rating</th>\n",
       "    </tr>\n",
       "  </thead>\n",
       "  <tbody>\n",
       "    <tr>\n",
       "      <th>0</th>\n",
       "      <td>1</td>\n",
       "      <td>1</td>\n",
       "      <td>ryanfranco</td>\n",
       "      <td>4</td>\n",
       "    </tr>\n",
       "    <tr>\n",
       "      <th>1</th>\n",
       "      <td>2</td>\n",
       "      <td>1</td>\n",
       "      <td>grantpatricia</td>\n",
       "      <td>2</td>\n",
       "    </tr>\n",
       "    <tr>\n",
       "      <th>2</th>\n",
       "      <td>3</td>\n",
       "      <td>1</td>\n",
       "      <td>brandtandrea</td>\n",
       "      <td>5</td>\n",
       "    </tr>\n",
       "    <tr>\n",
       "      <th>3</th>\n",
       "      <td>4</td>\n",
       "      <td>2</td>\n",
       "      <td>lorichen</td>\n",
       "      <td>3</td>\n",
       "    </tr>\n",
       "    <tr>\n",
       "      <th>4</th>\n",
       "      <td>5</td>\n",
       "      <td>2</td>\n",
       "      <td>mariokeller</td>\n",
       "      <td>2</td>\n",
       "    </tr>\n",
       "  </tbody>\n",
       "</table>\n",
       "</div>"
      ],
      "text/plain": [
       "   rating_id  book_id       username  rating\n",
       "0          1        1     ryanfranco       4\n",
       "1          2        1  grantpatricia       2\n",
       "2          3        1   brandtandrea       5\n",
       "3          4        2       lorichen       3\n",
       "4          5        2    mariokeller       2"
      ]
     },
     "execution_count": 105,
     "metadata": {},
     "output_type": "execute_result"
    }
   ],
   "source": [
    "pd.io.sql.read_sql(sql=text(query_ratings), con = con)"
   ]
  },
  {
   "cell_type": "markdown",
   "metadata": {},
   "source": [
    "# Открытие таблицы reviews"
   ]
  },
  {
   "cell_type": "code",
   "execution_count": 106,
   "metadata": {},
   "outputs": [],
   "source": [
    "# чтобы выполнить SQL-запрос, используем Pandas\n",
    "query_reviews = '''SELECT * FROM reviews LIMIT 5'''"
   ]
  },
  {
   "cell_type": "code",
   "execution_count": 107,
   "metadata": {},
   "outputs": [
    {
     "data": {
      "text/html": [
       "<div>\n",
       "<style scoped>\n",
       "    .dataframe tbody tr th:only-of-type {\n",
       "        vertical-align: middle;\n",
       "    }\n",
       "\n",
       "    .dataframe tbody tr th {\n",
       "        vertical-align: top;\n",
       "    }\n",
       "\n",
       "    .dataframe thead th {\n",
       "        text-align: right;\n",
       "    }\n",
       "</style>\n",
       "<table border=\"1\" class=\"dataframe\">\n",
       "  <thead>\n",
       "    <tr style=\"text-align: right;\">\n",
       "      <th></th>\n",
       "      <th>review_id</th>\n",
       "      <th>book_id</th>\n",
       "      <th>username</th>\n",
       "      <th>text</th>\n",
       "    </tr>\n",
       "  </thead>\n",
       "  <tbody>\n",
       "    <tr>\n",
       "      <th>0</th>\n",
       "      <td>1</td>\n",
       "      <td>1</td>\n",
       "      <td>brandtandrea</td>\n",
       "      <td>Mention society tell send professor analysis. ...</td>\n",
       "    </tr>\n",
       "    <tr>\n",
       "      <th>1</th>\n",
       "      <td>2</td>\n",
       "      <td>1</td>\n",
       "      <td>ryanfranco</td>\n",
       "      <td>Foot glass pretty audience hit themselves. Amo...</td>\n",
       "    </tr>\n",
       "    <tr>\n",
       "      <th>2</th>\n",
       "      <td>3</td>\n",
       "      <td>2</td>\n",
       "      <td>lorichen</td>\n",
       "      <td>Listen treat keep worry. Miss husband tax but ...</td>\n",
       "    </tr>\n",
       "    <tr>\n",
       "      <th>3</th>\n",
       "      <td>4</td>\n",
       "      <td>3</td>\n",
       "      <td>johnsonamanda</td>\n",
       "      <td>Finally month interesting blue could nature cu...</td>\n",
       "    </tr>\n",
       "    <tr>\n",
       "      <th>4</th>\n",
       "      <td>5</td>\n",
       "      <td>3</td>\n",
       "      <td>scotttamara</td>\n",
       "      <td>Nation purpose heavy give wait song will. List...</td>\n",
       "    </tr>\n",
       "  </tbody>\n",
       "</table>\n",
       "</div>"
      ],
      "text/plain": [
       "   review_id  book_id       username  \\\n",
       "0          1        1   brandtandrea   \n",
       "1          2        1     ryanfranco   \n",
       "2          3        2       lorichen   \n",
       "3          4        3  johnsonamanda   \n",
       "4          5        3    scotttamara   \n",
       "\n",
       "                                                text  \n",
       "0  Mention society tell send professor analysis. ...  \n",
       "1  Foot glass pretty audience hit themselves. Amo...  \n",
       "2  Listen treat keep worry. Miss husband tax but ...  \n",
       "3  Finally month interesting blue could nature cu...  \n",
       "4  Nation purpose heavy give wait song will. List...  "
      ]
     },
     "execution_count": 107,
     "metadata": {},
     "output_type": "execute_result"
    }
   ],
   "source": [
    "pd.io.sql.read_sql(sql=text(query_reviews), con = con)"
   ]
  },
  {
   "cell_type": "markdown",
   "metadata": {},
   "source": [
    "# Первый запрос"
   ]
  },
  {
   "cell_type": "markdown",
   "metadata": {},
   "source": [
    "## В первом запросе требуется посчитать сколько книг вышло после 01.01.2000 года"
   ]
  },
  {
   "cell_type": "code",
   "execution_count": 108,
   "metadata": {},
   "outputs": [],
   "source": [
    "quest_one = '''SELECT COUNT(book_id) \n",
    "            FROM books\n",
    "            WHERE publication_date >= '2000-01-01' '''"
   ]
  },
  {
   "cell_type": "code",
   "execution_count": 109,
   "metadata": {},
   "outputs": [
    {
     "data": {
      "text/html": [
       "<div>\n",
       "<style scoped>\n",
       "    .dataframe tbody tr th:only-of-type {\n",
       "        vertical-align: middle;\n",
       "    }\n",
       "\n",
       "    .dataframe tbody tr th {\n",
       "        vertical-align: top;\n",
       "    }\n",
       "\n",
       "    .dataframe thead th {\n",
       "        text-align: right;\n",
       "    }\n",
       "</style>\n",
       "<table border=\"1\" class=\"dataframe\">\n",
       "  <thead>\n",
       "    <tr style=\"text-align: right;\">\n",
       "      <th></th>\n",
       "      <th>count</th>\n",
       "    </tr>\n",
       "  </thead>\n",
       "  <tbody>\n",
       "    <tr>\n",
       "      <th>0</th>\n",
       "      <td>821</td>\n",
       "    </tr>\n",
       "  </tbody>\n",
       "</table>\n",
       "</div>"
      ],
      "text/plain": [
       "   count\n",
       "0    821"
      ]
     },
     "execution_count": 109,
     "metadata": {},
     "output_type": "execute_result"
    }
   ],
   "source": [
    "pd.io.sql.read_sql(sql=text(quest_one), con = con)"
   ]
  },
  {
   "cell_type": "markdown",
   "metadata": {},
   "source": [
    "821 книга вышла после 2000 года"
   ]
  },
  {
   "cell_type": "markdown",
   "metadata": {},
   "source": [
    "# Второй запрос"
   ]
  },
  {
   "cell_type": "markdown",
   "metadata": {},
   "source": [
    "## Требуется посчитать количество обзоров и среднюю оценку для каждой книги"
   ]
  },
  {
   "cell_type": "code",
   "execution_count": 201,
   "metadata": {},
   "outputs": [],
   "source": [
    "quest_two = '''SELECT \n",
    "                b.book_id,\n",
    "                b.title,\n",
    "                COUNT(DISTINCT r.review_id) AS count_of_reviews,\n",
    "                AVG(rat.rating) AS mean_rating\n",
    "            FROM books AS b\n",
    "            LEFT JOIN ratings AS rat ON b.book_id = rat.book_id\n",
    "            LEFT JOIN reviews AS r ON b.book_id = r.book_id\n",
    "            GROUP BY b.book_id'''"
   ]
  },
  {
   "cell_type": "code",
   "execution_count": 202,
   "metadata": {},
   "outputs": [
    {
     "data": {
      "text/html": [
       "<div>\n",
       "<style scoped>\n",
       "    .dataframe tbody tr th:only-of-type {\n",
       "        vertical-align: middle;\n",
       "    }\n",
       "\n",
       "    .dataframe tbody tr th {\n",
       "        vertical-align: top;\n",
       "    }\n",
       "\n",
       "    .dataframe thead th {\n",
       "        text-align: right;\n",
       "    }\n",
       "</style>\n",
       "<table border=\"1\" class=\"dataframe\">\n",
       "  <thead>\n",
       "    <tr style=\"text-align: right;\">\n",
       "      <th></th>\n",
       "      <th>book_id</th>\n",
       "      <th>title</th>\n",
       "      <th>count_of_reviews</th>\n",
       "      <th>mean_rating</th>\n",
       "    </tr>\n",
       "  </thead>\n",
       "  <tbody>\n",
       "    <tr>\n",
       "      <th>0</th>\n",
       "      <td>1</td>\n",
       "      <td>'Salem's Lot</td>\n",
       "      <td>2</td>\n",
       "      <td>3.666667</td>\n",
       "    </tr>\n",
       "    <tr>\n",
       "      <th>1</th>\n",
       "      <td>2</td>\n",
       "      <td>1 000 Places to See Before You Die</td>\n",
       "      <td>1</td>\n",
       "      <td>2.500000</td>\n",
       "    </tr>\n",
       "    <tr>\n",
       "      <th>2</th>\n",
       "      <td>3</td>\n",
       "      <td>13 Little Blue Envelopes (Little Blue Envelope...</td>\n",
       "      <td>3</td>\n",
       "      <td>4.666667</td>\n",
       "    </tr>\n",
       "    <tr>\n",
       "      <th>3</th>\n",
       "      <td>4</td>\n",
       "      <td>1491: New Revelations of the Americas Before C...</td>\n",
       "      <td>2</td>\n",
       "      <td>4.500000</td>\n",
       "    </tr>\n",
       "    <tr>\n",
       "      <th>4</th>\n",
       "      <td>5</td>\n",
       "      <td>1776</td>\n",
       "      <td>4</td>\n",
       "      <td>4.000000</td>\n",
       "    </tr>\n",
       "    <tr>\n",
       "      <th>...</th>\n",
       "      <td>...</td>\n",
       "      <td>...</td>\n",
       "      <td>...</td>\n",
       "      <td>...</td>\n",
       "    </tr>\n",
       "    <tr>\n",
       "      <th>995</th>\n",
       "      <td>996</td>\n",
       "      <td>Wyrd Sisters (Discworld  #6; Witches #2)</td>\n",
       "      <td>3</td>\n",
       "      <td>3.666667</td>\n",
       "    </tr>\n",
       "    <tr>\n",
       "      <th>996</th>\n",
       "      <td>997</td>\n",
       "      <td>Xenocide (Ender's Saga  #3)</td>\n",
       "      <td>3</td>\n",
       "      <td>3.400000</td>\n",
       "    </tr>\n",
       "    <tr>\n",
       "      <th>997</th>\n",
       "      <td>998</td>\n",
       "      <td>Year of Wonders</td>\n",
       "      <td>4</td>\n",
       "      <td>3.200000</td>\n",
       "    </tr>\n",
       "    <tr>\n",
       "      <th>998</th>\n",
       "      <td>999</td>\n",
       "      <td>You Suck (A Love Story  #2)</td>\n",
       "      <td>2</td>\n",
       "      <td>4.500000</td>\n",
       "    </tr>\n",
       "    <tr>\n",
       "      <th>999</th>\n",
       "      <td>1000</td>\n",
       "      <td>Zen and the Art of Motorcycle Maintenance: An ...</td>\n",
       "      <td>4</td>\n",
       "      <td>3.833333</td>\n",
       "    </tr>\n",
       "  </tbody>\n",
       "</table>\n",
       "<p>1000 rows × 4 columns</p>\n",
       "</div>"
      ],
      "text/plain": [
       "     book_id                                              title  \\\n",
       "0          1                                       'Salem's Lot   \n",
       "1          2                 1 000 Places to See Before You Die   \n",
       "2          3  13 Little Blue Envelopes (Little Blue Envelope...   \n",
       "3          4  1491: New Revelations of the Americas Before C...   \n",
       "4          5                                               1776   \n",
       "..       ...                                                ...   \n",
       "995      996           Wyrd Sisters (Discworld  #6; Witches #2)   \n",
       "996      997                        Xenocide (Ender's Saga  #3)   \n",
       "997      998                                    Year of Wonders   \n",
       "998      999                        You Suck (A Love Story  #2)   \n",
       "999     1000  Zen and the Art of Motorcycle Maintenance: An ...   \n",
       "\n",
       "     count_of_reviews  mean_rating  \n",
       "0                   2     3.666667  \n",
       "1                   1     2.500000  \n",
       "2                   3     4.666667  \n",
       "3                   2     4.500000  \n",
       "4                   4     4.000000  \n",
       "..                ...          ...  \n",
       "995                 3     3.666667  \n",
       "996                 3     3.400000  \n",
       "997                 4     3.200000  \n",
       "998                 2     4.500000  \n",
       "999                 4     3.833333  \n",
       "\n",
       "[1000 rows x 4 columns]"
      ]
     },
     "execution_count": 202,
     "metadata": {},
     "output_type": "execute_result"
    }
   ],
   "source": [
    "pd.io.sql.read_sql(sql=text(quest_two), con = con)"
   ]
  },
  {
   "cell_type": "markdown",
   "metadata": {},
   "source": [
    "# Третий запрос"
   ]
  },
  {
   "cell_type": "markdown",
   "metadata": {},
   "source": [
    "## Требуется определить издательство, которое выпустило наибольшее число книг толще 50 страниц"
   ]
  },
  {
   "cell_type": "code",
   "execution_count": 112,
   "metadata": {},
   "outputs": [],
   "source": [
    "quest_three = '''SELECT p.publisher,\n",
    "                COUNT(b.book_id) AS count_of_books\n",
    "            FROM books AS b\n",
    "            INNER JOIN publishers AS p ON b.publisher_id = p.publisher_id\n",
    "            WHERE b.num_pages > 50\n",
    "            GROUP BY publisher\n",
    "            ORDER BY count_of_books DESC\n",
    "            LIMIT 1'''"
   ]
  },
  {
   "cell_type": "code",
   "execution_count": 113,
   "metadata": {},
   "outputs": [
    {
     "data": {
      "text/html": [
       "<div>\n",
       "<style scoped>\n",
       "    .dataframe tbody tr th:only-of-type {\n",
       "        vertical-align: middle;\n",
       "    }\n",
       "\n",
       "    .dataframe tbody tr th {\n",
       "        vertical-align: top;\n",
       "    }\n",
       "\n",
       "    .dataframe thead th {\n",
       "        text-align: right;\n",
       "    }\n",
       "</style>\n",
       "<table border=\"1\" class=\"dataframe\">\n",
       "  <thead>\n",
       "    <tr style=\"text-align: right;\">\n",
       "      <th></th>\n",
       "      <th>publisher</th>\n",
       "      <th>count_of_books</th>\n",
       "    </tr>\n",
       "  </thead>\n",
       "  <tbody>\n",
       "    <tr>\n",
       "      <th>0</th>\n",
       "      <td>Penguin Books</td>\n",
       "      <td>42</td>\n",
       "    </tr>\n",
       "  </tbody>\n",
       "</table>\n",
       "</div>"
      ],
      "text/plain": [
       "       publisher  count_of_books\n",
       "0  Penguin Books              42"
      ]
     },
     "execution_count": 113,
     "metadata": {},
     "output_type": "execute_result"
    }
   ],
   "source": [
    "pd.io.sql.read_sql(sql=text(quest_three), con = con)"
   ]
  },
  {
   "cell_type": "markdown",
   "metadata": {},
   "source": [
    "Penguin Books - издательство, которое выпустило наибольшее число книг толще 50 страниц."
   ]
  },
  {
   "cell_type": "markdown",
   "metadata": {},
   "source": [
    "# Четвёртый запрос"
   ]
  },
  {
   "cell_type": "markdown",
   "metadata": {},
   "source": [
    "## Нужно определить автора с самой высокой средней оценкой книг, у которых более 50 оценок"
   ]
  },
  {
   "cell_type": "code",
   "execution_count": 203,
   "metadata": {},
   "outputs": [],
   "source": [
    "quest_four = '''SELECT a.author,\n",
    "                COUNT(rat.rating) AS c_ratings,\n",
    "                AVG(rat.rating) AS avg\n",
    "            FROM authors AS a\n",
    "            INNER JOIN books AS b ON a.author_id = b.author_id\n",
    "            INNER JOIN ratings AS rat ON rat.book_id = b.book_id\n",
    "            WHERE b.book_id IN\n",
    "                (SELECT b.book_id\n",
    "                 FROM books AS b\n",
    "                 INNER JOIN ratings AS rat ON b.book_id = rat.book_id\n",
    "                 GROUP BY b.book_id\n",
    "                 HAVING COUNT(rat.rating_id) >= 50)\n",
    "            GROUP BY author\n",
    "            ORDER BY c_ratings DESC\n",
    "            LIMIT 1'''"
   ]
  },
  {
   "cell_type": "code",
   "execution_count": 204,
   "metadata": {},
   "outputs": [
    {
     "data": {
      "text/html": [
       "<div>\n",
       "<style scoped>\n",
       "    .dataframe tbody tr th:only-of-type {\n",
       "        vertical-align: middle;\n",
       "    }\n",
       "\n",
       "    .dataframe tbody tr th {\n",
       "        vertical-align: top;\n",
       "    }\n",
       "\n",
       "    .dataframe thead th {\n",
       "        text-align: right;\n",
       "    }\n",
       "</style>\n",
       "<table border=\"1\" class=\"dataframe\">\n",
       "  <thead>\n",
       "    <tr style=\"text-align: right;\">\n",
       "      <th></th>\n",
       "      <th>author</th>\n",
       "      <th>c_ratings</th>\n",
       "      <th>avg</th>\n",
       "    </tr>\n",
       "  </thead>\n",
       "  <tbody>\n",
       "    <tr>\n",
       "      <th>0</th>\n",
       "      <td>J.K. Rowling/Mary GrandPré</td>\n",
       "      <td>310</td>\n",
       "      <td>4.287097</td>\n",
       "    </tr>\n",
       "  </tbody>\n",
       "</table>\n",
       "</div>"
      ],
      "text/plain": [
       "                       author  c_ratings       avg\n",
       "0  J.K. Rowling/Mary GrandPré        310  4.287097"
      ]
     },
     "execution_count": 204,
     "metadata": {},
     "output_type": "execute_result"
    }
   ],
   "source": [
    "pd.io.sql.read_sql(sql=text(quest_four), con = con)"
   ]
  },
  {
   "cell_type": "markdown",
   "metadata": {},
   "source": [
    "J.K. Rowling/Mary GrandPré - автора с самой высокой средней оценкой книг, у которых более 50 оценок."
   ]
  },
  {
   "cell_type": "markdown",
   "metadata": {},
   "source": [
    "# Пятый запрос"
   ]
  },
  {
   "cell_type": "markdown",
   "metadata": {},
   "source": [
    "## Требуется посчитать среднее количество обзоров от пользователей, которые поставили больше 48 оценок"
   ]
  },
  {
   "cell_type": "code",
   "execution_count": 171,
   "metadata": {},
   "outputs": [],
   "source": [
    "quest_five = '''WITH a as\n",
    "    (SELECT username,\n",
    "    COUNT(review_id) as cri\n",
    "     FROM reviews\n",
    "     WHERE username in \n",
    "                    (SELECT username\n",
    "                    FROM ratings\n",
    "                    GROUP BY username\n",
    "                    HAVING COUNT(rating) > 48)\n",
    "                    GROUP BY username)\n",
    "    \n",
    "    SELECT AVG(cri)\n",
    "    FROM a'''"
   ]
  },
  {
   "cell_type": "code",
   "execution_count": 172,
   "metadata": {},
   "outputs": [
    {
     "data": {
      "text/html": [
       "<div>\n",
       "<style scoped>\n",
       "    .dataframe tbody tr th:only-of-type {\n",
       "        vertical-align: middle;\n",
       "    }\n",
       "\n",
       "    .dataframe tbody tr th {\n",
       "        vertical-align: top;\n",
       "    }\n",
       "\n",
       "    .dataframe thead th {\n",
       "        text-align: right;\n",
       "    }\n",
       "</style>\n",
       "<table border=\"1\" class=\"dataframe\">\n",
       "  <thead>\n",
       "    <tr style=\"text-align: right;\">\n",
       "      <th></th>\n",
       "      <th>avg</th>\n",
       "    </tr>\n",
       "  </thead>\n",
       "  <tbody>\n",
       "    <tr>\n",
       "      <th>0</th>\n",
       "      <td>24.0</td>\n",
       "    </tr>\n",
       "  </tbody>\n",
       "</table>\n",
       "</div>"
      ],
      "text/plain": [
       "    avg\n",
       "0  24.0"
      ]
     },
     "execution_count": 172,
     "metadata": {},
     "output_type": "execute_result"
    }
   ],
   "source": [
    "pd.io.sql.read_sql(sql=text(quest_five), con = con)"
   ]
  },
  {
   "cell_type": "markdown",
   "metadata": {},
   "source": [
    "Среднее количество обзоров от пользователей, которые поставили больше 48 оценок - 24"
   ]
  },
  {
   "cell_type": "markdown",
   "metadata": {},
   "source": [
    "# Общий вывод: в ходе исследования были проанализированы 5 таблиц, среди которых:\n",
    "1) books - содержит инфрормацию о книгах;\n",
    "\n",
    "2) authors - содержит данные об авторах;\n",
    "\n",
    "3) publishers - содержит данные об издательствах;\n",
    "\n",
    "4) ratings - содержит данные о пользовательских оценках книг;\n",
    "\n",
    "5) reviews - содержит данные о пользовательских обзорах на книги.\n",
    "\n",
    "В процессе исследования было выявлено:\n",
    "    после начала 2000 года вышла 821 книга;\n",
    "    для каждой книги нашли среднюю оценку и количество обзоров;\n",
    "    Penguin Books - издательство, которое выпустило наибольшее число книг толще 50 страниц - 42;\n",
    "    автор с самой высокой средней оценкой книг, у которых более 50 оценок - J.K. Rowling/Mary GrandPré;\n",
    "    среднее количество обзоров от пользователей, которые поставили больше 48 оценок - 24.0"
   ]
  }
 ],
 "metadata": {
  "ExecuteTimeLog": [
   {
    "duration": 555,
    "start_time": "2023-07-15T08:30:33.612Z"
   },
   {
    "duration": 3,
    "start_time": "2023-07-15T08:30:35.620Z"
   },
   {
    "duration": 13297,
    "start_time": "2023-07-15T08:30:37.053Z"
   },
   {
    "duration": 2,
    "start_time": "2023-07-15T08:31:43.577Z"
   },
   {
    "duration": 3,
    "start_time": "2023-07-15T08:31:46.445Z"
   },
   {
    "duration": 36,
    "start_time": "2023-07-15T08:31:48.004Z"
   },
   {
    "duration": 21,
    "start_time": "2023-07-15T08:31:49.512Z"
   },
   {
    "duration": 3,
    "start_time": "2023-07-15T08:34:22.044Z"
   },
   {
    "duration": 12,
    "start_time": "2023-07-15T08:34:23.168Z"
   },
   {
    "duration": 2,
    "start_time": "2023-07-15T08:34:26.502Z"
   },
   {
    "duration": 11,
    "start_time": "2023-07-15T08:34:28.101Z"
   },
   {
    "duration": 3,
    "start_time": "2023-07-15T08:34:30.772Z"
   },
   {
    "duration": 12,
    "start_time": "2023-07-15T08:34:32.696Z"
   },
   {
    "duration": 3,
    "start_time": "2023-07-15T08:34:35.519Z"
   },
   {
    "duration": 3,
    "start_time": "2023-07-15T08:34:36.990Z"
   },
   {
    "duration": 13,
    "start_time": "2023-07-15T08:34:38.558Z"
   },
   {
    "duration": 2,
    "start_time": "2023-07-15T08:36:06.784Z"
   },
   {
    "duration": 10,
    "start_time": "2023-07-15T08:36:07.849Z"
   },
   {
    "duration": 3,
    "start_time": "2023-07-15T08:37:48.610Z"
   },
   {
    "duration": 31,
    "start_time": "2023-07-15T08:37:50.479Z"
   },
   {
    "duration": 2,
    "start_time": "2023-07-15T08:38:05.089Z"
   },
   {
    "duration": 12,
    "start_time": "2023-07-15T08:38:06.688Z"
   },
   {
    "duration": 3,
    "start_time": "2023-07-15T08:40:28.757Z"
   },
   {
    "duration": 16,
    "start_time": "2023-07-15T08:40:30.516Z"
   },
   {
    "duration": 3,
    "start_time": "2023-07-15T08:40:36.856Z"
   },
   {
    "duration": 19,
    "start_time": "2023-07-15T08:40:38.158Z"
   },
   {
    "duration": 492,
    "start_time": "2023-07-15T15:16:09.019Z"
   },
   {
    "duration": 4,
    "start_time": "2023-07-15T15:16:10.765Z"
   },
   {
    "duration": 8315,
    "start_time": "2023-07-15T15:16:12.911Z"
   },
   {
    "duration": 6,
    "start_time": "2023-07-15T15:16:26.191Z"
   },
   {
    "duration": 29,
    "start_time": "2023-07-15T15:16:29.022Z"
   },
   {
    "duration": 103,
    "start_time": "2023-07-15T15:16:30.280Z"
   },
   {
    "duration": 3,
    "start_time": "2023-07-15T15:16:35.108Z"
   },
   {
    "duration": 42,
    "start_time": "2023-07-15T15:16:36.587Z"
   },
   {
    "duration": 2,
    "start_time": "2023-07-15T15:16:54.905Z"
   },
   {
    "duration": 13,
    "start_time": "2023-07-15T15:16:56.554Z"
   },
   {
    "duration": 5,
    "start_time": "2023-07-15T15:18:27.481Z"
   },
   {
    "duration": 34,
    "start_time": "2023-07-15T15:18:29.091Z"
   },
   {
    "duration": 17,
    "start_time": "2023-07-15T15:18:30.313Z"
   },
   {
    "duration": 3,
    "start_time": "2023-07-15T15:18:32.008Z"
   },
   {
    "duration": 9,
    "start_time": "2023-07-15T15:18:33.197Z"
   },
   {
    "duration": 2,
    "start_time": "2023-07-15T15:18:34.819Z"
   },
   {
    "duration": 12,
    "start_time": "2023-07-15T15:18:35.847Z"
   },
   {
    "duration": 3,
    "start_time": "2023-07-15T15:18:38.051Z"
   },
   {
    "duration": 30,
    "start_time": "2023-07-15T15:18:39.060Z"
   },
   {
    "duration": 3,
    "start_time": "2023-07-15T15:18:40.817Z"
   },
   {
    "duration": 13,
    "start_time": "2023-07-15T15:18:42.251Z"
   },
   {
    "duration": 9,
    "start_time": "2023-07-15T15:18:44.179Z"
   },
   {
    "duration": 9,
    "start_time": "2023-07-15T15:18:45.396Z"
   },
   {
    "duration": 3,
    "start_time": "2023-07-15T15:18:48.222Z"
   },
   {
    "duration": 33,
    "start_time": "2023-07-15T15:18:52.164Z"
   },
   {
    "duration": 4,
    "start_time": "2023-07-15T15:18:58.610Z"
   },
   {
    "duration": 19,
    "start_time": "2023-07-15T15:19:00.122Z"
   },
   {
    "duration": 3,
    "start_time": "2023-07-15T15:19:11.701Z"
   },
   {
    "duration": 26,
    "start_time": "2023-07-15T15:19:13.353Z"
   },
   {
    "duration": 2,
    "start_time": "2023-07-15T15:19:25.447Z"
   },
   {
    "duration": 30,
    "start_time": "2023-07-15T15:19:26.816Z"
   },
   {
    "duration": 4,
    "start_time": "2023-07-15T15:19:31.594Z"
   },
   {
    "duration": 25,
    "start_time": "2023-07-15T15:19:32.898Z"
   },
   {
    "duration": 7,
    "start_time": "2023-07-15T15:20:31.767Z"
   },
   {
    "duration": 50,
    "start_time": "2023-07-15T15:20:32.986Z"
   },
   {
    "duration": 9,
    "start_time": "2023-07-15T15:22:06.885Z"
   },
   {
    "duration": 24,
    "start_time": "2023-07-15T15:22:08.106Z"
   },
   {
    "duration": 3,
    "start_time": "2023-07-15T15:22:42.513Z"
   },
   {
    "duration": 47,
    "start_time": "2023-07-15T15:22:43.933Z"
   },
   {
    "duration": 6,
    "start_time": "2023-07-15T15:22:56.191Z"
   },
   {
    "duration": 23,
    "start_time": "2023-07-15T15:22:57.358Z"
   },
   {
    "duration": 3,
    "start_time": "2023-07-15T15:23:58.409Z"
   },
   {
    "duration": 2,
    "start_time": "2023-07-15T15:24:08.762Z"
   },
   {
    "duration": 44,
    "start_time": "2023-07-15T15:24:09.963Z"
   },
   {
    "duration": 2,
    "start_time": "2023-07-15T15:24:27.537Z"
   },
   {
    "duration": 23,
    "start_time": "2023-07-15T15:24:28.609Z"
   },
   {
    "duration": 3,
    "start_time": "2023-07-15T15:24:39.115Z"
   },
   {
    "duration": 24,
    "start_time": "2023-07-15T15:24:40.184Z"
   },
   {
    "duration": 2,
    "start_time": "2023-07-15T15:24:49.709Z"
   },
   {
    "duration": 24,
    "start_time": "2023-07-15T15:24:50.820Z"
   },
   {
    "duration": 2,
    "start_time": "2023-07-15T15:24:56.397Z"
   },
   {
    "duration": 32,
    "start_time": "2023-07-15T15:24:57.450Z"
   },
   {
    "duration": 3,
    "start_time": "2023-07-15T15:26:00.141Z"
   },
   {
    "duration": 13,
    "start_time": "2023-07-15T15:26:01.193Z"
   },
   {
    "duration": 3,
    "start_time": "2023-07-15T15:26:12.941Z"
   },
   {
    "duration": 14,
    "start_time": "2023-07-15T15:26:14.715Z"
   },
   {
    "duration": 3,
    "start_time": "2023-07-15T15:29:52.727Z"
   },
   {
    "duration": 40,
    "start_time": "2023-07-15T15:29:53.894Z"
   },
   {
    "duration": 5,
    "start_time": "2023-07-15T15:30:09.687Z"
   },
   {
    "duration": 29,
    "start_time": "2023-07-15T15:30:10.949Z"
   },
   {
    "duration": 18,
    "start_time": "2023-07-15T15:31:08.344Z"
   },
   {
    "duration": 2,
    "start_time": "2023-07-15T15:33:18.864Z"
   },
   {
    "duration": 15,
    "start_time": "2023-07-15T15:33:20.125Z"
   },
   {
    "duration": 4,
    "start_time": "2023-07-15T15:33:52.985Z"
   },
   {
    "duration": 18,
    "start_time": "2023-07-15T15:33:58.539Z"
   },
   {
    "duration": 3,
    "start_time": "2023-07-15T15:39:20.562Z"
   },
   {
    "duration": 33,
    "start_time": "2023-07-15T15:39:21.897Z"
   },
   {
    "duration": 11,
    "start_time": "2023-07-15T15:39:31.491Z"
   },
   {
    "duration": 25,
    "start_time": "2023-07-15T15:39:32.707Z"
   },
   {
    "duration": 2,
    "start_time": "2023-07-15T15:39:46.487Z"
   },
   {
    "duration": 26,
    "start_time": "2023-07-15T15:39:47.626Z"
   },
   {
    "duration": 3,
    "start_time": "2023-07-15T15:39:51.008Z"
   },
   {
    "duration": 24,
    "start_time": "2023-07-15T15:39:52.712Z"
   },
   {
    "duration": 10,
    "start_time": "2023-07-15T15:40:26.895Z"
   },
   {
    "duration": 25,
    "start_time": "2023-07-15T15:40:27.913Z"
   },
   {
    "duration": 6,
    "start_time": "2023-07-15T15:50:20.100Z"
   },
   {
    "duration": 13,
    "start_time": "2023-07-15T15:50:22.352Z"
   },
   {
    "duration": 2,
    "start_time": "2023-07-15T15:51:01.237Z"
   },
   {
    "duration": 20,
    "start_time": "2023-07-15T15:51:02.329Z"
   },
   {
    "duration": 3,
    "start_time": "2023-07-15T15:51:40.452Z"
   },
   {
    "duration": 35,
    "start_time": "2023-07-15T15:51:41.800Z"
   },
   {
    "duration": 3,
    "start_time": "2023-07-15T15:51:52.159Z"
   },
   {
    "duration": 11,
    "start_time": "2023-07-15T15:51:54.144Z"
   },
   {
    "duration": 2,
    "start_time": "2023-07-15T16:01:53.054Z"
   },
   {
    "duration": 9,
    "start_time": "2023-07-15T16:01:54.309Z"
   },
   {
    "duration": 3,
    "start_time": "2023-07-15T16:02:19.459Z"
   },
   {
    "duration": 20,
    "start_time": "2023-07-15T16:02:20.924Z"
   },
   {
    "duration": 3,
    "start_time": "2023-07-15T16:02:36.887Z"
   },
   {
    "duration": 22,
    "start_time": "2023-07-15T16:02:38.532Z"
   },
   {
    "duration": 3,
    "start_time": "2023-07-15T16:03:21.049Z"
   },
   {
    "duration": 27,
    "start_time": "2023-07-15T16:03:22.660Z"
   },
   {
    "duration": 2,
    "start_time": "2023-07-15T16:04:27.857Z"
   },
   {
    "duration": 19,
    "start_time": "2023-07-15T16:04:29.221Z"
   },
   {
    "duration": 4,
    "start_time": "2023-07-15T16:05:08.488Z"
   },
   {
    "duration": 3,
    "start_time": "2023-07-15T16:05:09.458Z"
   },
   {
    "duration": 3,
    "start_time": "2023-07-15T16:05:10.761Z"
   },
   {
    "duration": 3,
    "start_time": "2023-07-15T16:05:11.993Z"
   },
   {
    "duration": 66,
    "start_time": "2023-07-15T16:05:12.871Z"
   },
   {
    "duration": 28,
    "start_time": "2023-07-15T16:05:13.847Z"
   },
   {
    "duration": 2,
    "start_time": "2023-07-15T16:05:16.154Z"
   },
   {
    "duration": 11,
    "start_time": "2023-07-15T16:05:17.052Z"
   },
   {
    "duration": 2,
    "start_time": "2023-07-15T16:05:18.428Z"
   },
   {
    "duration": 11,
    "start_time": "2023-07-15T16:05:19.332Z"
   },
   {
    "duration": 3,
    "start_time": "2023-07-15T16:05:20.833Z"
   },
   {
    "duration": 10,
    "start_time": "2023-07-15T16:05:22.556Z"
   },
   {
    "duration": 2,
    "start_time": "2023-07-15T16:05:23.840Z"
   },
   {
    "duration": 11,
    "start_time": "2023-07-15T16:05:25.423Z"
   },
   {
    "duration": 6,
    "start_time": "2023-07-15T16:05:27.102Z"
   },
   {
    "duration": 37,
    "start_time": "2023-07-15T16:05:27.983Z"
   },
   {
    "duration": 11,
    "start_time": "2023-07-15T16:05:29.687Z"
   },
   {
    "duration": 48,
    "start_time": "2023-07-15T16:05:31.104Z"
   },
   {
    "duration": 6,
    "start_time": "2023-07-15T16:05:33.390Z"
   },
   {
    "duration": 16,
    "start_time": "2023-07-15T16:05:34.332Z"
   },
   {
    "duration": 3,
    "start_time": "2023-07-15T16:05:35.892Z"
   },
   {
    "duration": 25,
    "start_time": "2023-07-15T16:05:37.257Z"
   },
   {
    "duration": 3,
    "start_time": "2023-07-15T16:05:38.922Z"
   },
   {
    "duration": 63,
    "start_time": "2023-07-15T16:05:40.321Z"
   },
   {
    "duration": 22,
    "start_time": "2023-07-15T16:05:45.312Z"
   },
   {
    "duration": 3,
    "start_time": "2023-07-15T16:06:36.620Z"
   },
   {
    "duration": 26,
    "start_time": "2023-07-15T16:06:38.394Z"
   },
   {
    "duration": 18,
    "start_time": "2023-07-15T16:10:11.604Z"
   },
   {
    "duration": 2,
    "start_time": "2023-07-15T16:11:27.425Z"
   },
   {
    "duration": 19,
    "start_time": "2023-07-15T16:11:28.934Z"
   },
   {
    "duration": 3,
    "start_time": "2023-07-15T16:14:50.792Z"
   },
   {
    "duration": 20,
    "start_time": "2023-07-15T16:14:58.031Z"
   },
   {
    "duration": 4,
    "start_time": "2023-07-15T16:19:57.245Z"
   },
   {
    "duration": 20,
    "start_time": "2023-07-15T16:19:58.936Z"
   },
   {
    "duration": 5,
    "start_time": "2023-07-15T16:21:07.791Z"
   },
   {
    "duration": 14,
    "start_time": "2023-07-15T16:21:09.345Z"
   },
   {
    "duration": 10,
    "start_time": "2023-07-15T16:22:10.381Z"
   },
   {
    "duration": 20,
    "start_time": "2023-07-15T16:22:11.925Z"
   },
   {
    "duration": 3,
    "start_time": "2023-07-15T16:22:17.923Z"
   },
   {
    "duration": 16,
    "start_time": "2023-07-15T16:22:19.443Z"
   },
   {
    "duration": 4,
    "start_time": "2023-07-15T16:23:24.183Z"
   },
   {
    "duration": 19,
    "start_time": "2023-07-15T16:23:26.286Z"
   },
   {
    "duration": 4,
    "start_time": "2023-07-15T16:23:33.482Z"
   },
   {
    "duration": 19,
    "start_time": "2023-07-15T16:23:35.918Z"
   },
   {
    "duration": 3,
    "start_time": "2023-07-15T16:39:34.058Z"
   },
   {
    "duration": 19,
    "start_time": "2023-07-15T16:39:36.003Z"
   },
   {
    "duration": 3,
    "start_time": "2023-07-15T16:39:45.353Z"
   },
   {
    "duration": 26,
    "start_time": "2023-07-15T16:39:46.958Z"
   },
   {
    "duration": 3,
    "start_time": "2023-07-15T16:40:03.117Z"
   },
   {
    "duration": 12,
    "start_time": "2023-07-15T16:40:04.513Z"
   },
   {
    "duration": 2,
    "start_time": "2023-07-15T16:46:03.152Z"
   },
   {
    "duration": 12,
    "start_time": "2023-07-15T16:46:09.302Z"
   },
   {
    "duration": 2,
    "start_time": "2023-07-15T16:47:33.893Z"
   },
   {
    "duration": 12,
    "start_time": "2023-07-15T16:47:46.068Z"
   },
   {
    "duration": 3,
    "start_time": "2023-07-15T16:48:17.469Z"
   },
   {
    "duration": 18,
    "start_time": "2023-07-15T16:48:19.010Z"
   },
   {
    "duration": 3,
    "start_time": "2023-07-15T16:48:54.423Z"
   },
   {
    "duration": 14,
    "start_time": "2023-07-15T16:48:55.773Z"
   },
   {
    "duration": 3,
    "start_time": "2023-07-15T16:49:07.319Z"
   },
   {
    "duration": 12,
    "start_time": "2023-07-15T16:49:08.454Z"
   },
   {
    "duration": 4,
    "start_time": "2023-07-15T16:58:17.655Z"
   },
   {
    "duration": 2,
    "start_time": "2023-07-15T16:58:35.153Z"
   },
   {
    "duration": 21,
    "start_time": "2023-07-15T16:58:48.293Z"
   },
   {
    "duration": 3,
    "start_time": "2023-07-15T17:10:41.790Z"
   },
   {
    "duration": 3,
    "start_time": "2023-07-15T17:10:58.810Z"
   },
   {
    "duration": 19,
    "start_time": "2023-07-15T17:11:02.156Z"
   },
   {
    "duration": 3,
    "start_time": "2023-07-15T17:17:12.628Z"
   },
   {
    "duration": 13,
    "start_time": "2023-07-15T17:17:14.652Z"
   },
   {
    "duration": 3,
    "start_time": "2023-07-15T17:17:57.740Z"
   },
   {
    "duration": 14,
    "start_time": "2023-07-15T17:18:00.436Z"
   },
   {
    "duration": 3,
    "start_time": "2023-07-15T17:23:37.343Z"
   },
   {
    "duration": 13,
    "start_time": "2023-07-15T17:23:38.818Z"
   },
   {
    "duration": 3,
    "start_time": "2023-07-15T17:26:14.375Z"
   },
   {
    "duration": 18,
    "start_time": "2023-07-15T17:26:15.991Z"
   },
   {
    "duration": 2,
    "start_time": "2023-07-15T17:26:31.144Z"
   },
   {
    "duration": 23,
    "start_time": "2023-07-15T17:26:32.327Z"
   },
   {
    "duration": 2,
    "start_time": "2023-07-15T17:26:38.887Z"
   },
   {
    "duration": 13,
    "start_time": "2023-07-15T17:26:39.958Z"
   },
   {
    "duration": 3,
    "start_time": "2023-07-15T17:28:36.258Z"
   },
   {
    "duration": 25,
    "start_time": "2023-07-15T17:28:37.493Z"
   },
   {
    "duration": 2,
    "start_time": "2023-07-15T17:29:05.130Z"
   },
   {
    "duration": 27,
    "start_time": "2023-07-15T17:29:06.315Z"
   },
   {
    "duration": 3,
    "start_time": "2023-07-15T17:29:24.797Z"
   },
   {
    "duration": 19,
    "start_time": "2023-07-15T17:29:26.696Z"
   },
   {
    "duration": 3,
    "start_time": "2023-07-15T17:29:35.558Z"
   },
   {
    "duration": 21,
    "start_time": "2023-07-15T17:29:36.692Z"
   },
   {
    "duration": 3,
    "start_time": "2023-07-15T17:29:58.857Z"
   },
   {
    "duration": 25,
    "start_time": "2023-07-15T17:30:00.251Z"
   },
   {
    "duration": 3,
    "start_time": "2023-07-15T17:30:44.511Z"
   },
   {
    "duration": 33,
    "start_time": "2023-07-15T17:30:45.790Z"
   },
   {
    "duration": 3,
    "start_time": "2023-07-15T17:31:36.153Z"
   },
   {
    "duration": 25,
    "start_time": "2023-07-15T17:31:37.584Z"
   },
   {
    "duration": 3,
    "start_time": "2023-07-15T17:32:35.884Z"
   },
   {
    "duration": 19,
    "start_time": "2023-07-15T17:32:36.966Z"
   },
   {
    "duration": 2,
    "start_time": "2023-07-15T17:32:44.616Z"
   },
   {
    "duration": 20,
    "start_time": "2023-07-15T17:32:45.995Z"
   },
   {
    "duration": 3,
    "start_time": "2023-07-15T17:33:20.471Z"
   },
   {
    "duration": 44,
    "start_time": "2023-07-15T17:33:21.827Z"
   },
   {
    "duration": 2,
    "start_time": "2023-07-15T17:33:56.719Z"
   },
   {
    "duration": 147,
    "start_time": "2023-07-15T17:33:57.811Z"
   },
   {
    "duration": 3,
    "start_time": "2023-07-15T17:34:10.345Z"
   },
   {
    "duration": 25,
    "start_time": "2023-07-15T17:34:11.489Z"
   },
   {
    "duration": 3,
    "start_time": "2023-07-15T17:34:17.348Z"
   },
   {
    "duration": 35,
    "start_time": "2023-07-15T17:34:19.164Z"
   },
   {
    "duration": 3,
    "start_time": "2023-07-15T17:34:42.927Z"
   },
   {
    "duration": 26,
    "start_time": "2023-07-15T17:34:44.201Z"
   },
   {
    "duration": 3,
    "start_time": "2023-07-15T17:35:05.665Z"
   },
   {
    "duration": 27,
    "start_time": "2023-07-15T17:35:06.750Z"
   },
   {
    "duration": 3,
    "start_time": "2023-07-15T17:37:09.308Z"
   },
   {
    "duration": 19,
    "start_time": "2023-07-15T17:37:10.919Z"
   }
  ],
  "kernelspec": {
   "display_name": "Python 3 (ipykernel)",
   "language": "python",
   "name": "python3"
  },
  "language_info": {
   "codemirror_mode": {
    "name": "ipython",
    "version": 3
   },
   "file_extension": ".py",
   "mimetype": "text/x-python",
   "name": "python",
   "nbconvert_exporter": "python",
   "pygments_lexer": "ipython3",
   "version": "3.10.9"
  },
  "toc": {
   "base_numbering": 1,
   "nav_menu": {},
   "number_sections": true,
   "sideBar": true,
   "skip_h1_title": true,
   "title_cell": "Table of Contents",
   "title_sidebar": "Contents",
   "toc_cell": false,
   "toc_position": {},
   "toc_section_display": true,
   "toc_window_display": false
  }
 },
 "nbformat": 4,
 "nbformat_minor": 2
}
