{
 "cells": [
  {
   "cell_type": "markdown",
   "metadata": {},
   "source": [
    "# Исследование объявлений о продаже квартир\n",
    "\n",
    "В вашем распоряжении данные сервиса Яндекс.Недвижимость — архив объявлений о продаже квартир в Санкт-Петербурге и соседних населённых пунктов за несколько лет. Нужно научиться определять рыночную стоимость объектов недвижимости. Ваша задача — установить параметры. Это позволит построить автоматизированную систему: она отследит аномалии и мошенническую деятельность. \n",
    "\n",
    "По каждой квартире на продажу доступны два вида данных. Первые вписаны пользователем, вторые — получены автоматически на основе картографических данных. Например, расстояние до центра, аэропорта, ближайшего парка и водоёма. "
   ]
  },
  {
   "cell_type": "markdown",
   "metadata": {},
   "source": [
    "### Откройте файл с данными и изучите общую информацию. "
   ]
  },
  {
   "cell_type": "code",
   "execution_count": 2,
   "metadata": {},
   "outputs": [],
   "source": [
    "import matplotlib.pyplot as plt\n",
    "import pandas as pd"
   ]
  },
  {
   "cell_type": "code",
   "execution_count": 3,
   "metadata": {
    "scrolled": false
   },
   "outputs": [
    {
     "name": "stderr",
     "output_type": "stream",
     "text": [
      "C:\\Users\\User\\AppData\\Local\\Temp\\ipykernel_31856\\1077404222.py:1: FutureWarning: In a future version of pandas all arguments of read_csv except for the argument 'filepath_or_buffer' will be keyword-only.\n",
      "  data = pd.read_csv('real_estate_data.csv', '\\t')\n"
     ]
    },
    {
     "name": "stdout",
     "output_type": "stream",
     "text": [
      "    total_images  last_price  total_area first_day_exposition  rooms  \\\n",
      "0             20  13000000.0      108.00  2019-03-07T00:00:00      3   \n",
      "1              7   3350000.0       40.40  2018-12-04T00:00:00      1   \n",
      "2             10   5196000.0       56.00  2015-08-20T00:00:00      2   \n",
      "3              0  64900000.0      159.00  2015-07-24T00:00:00      3   \n",
      "4              2  10000000.0      100.00  2018-06-19T00:00:00      2   \n",
      "5             10   2890000.0       30.40  2018-09-10T00:00:00      1   \n",
      "6              6   3700000.0       37.30  2017-11-02T00:00:00      1   \n",
      "7              5   7915000.0       71.60  2019-04-18T00:00:00      2   \n",
      "8             20   2900000.0       33.16  2018-05-23T00:00:00      1   \n",
      "9             18   5400000.0       61.00  2017-02-26T00:00:00      3   \n",
      "10             5   5050000.0       39.60  2017-11-16T00:00:00      1   \n",
      "11             9   3300000.0       44.00  2018-08-27T00:00:00      2   \n",
      "12            10   3890000.0       54.00  2016-06-30T00:00:00      2   \n",
      "13            20   3550000.0       42.80  2017-07-01T00:00:00      2   \n",
      "14             1   4400000.0       36.00  2016-06-23T00:00:00      1   \n",
      "\n",
      "    ceiling_height  floors_total  living_area  floor is_apartment  ...  \\\n",
      "0             2.70          16.0        51.00      8          NaN  ...   \n",
      "1              NaN          11.0        18.60      1          NaN  ...   \n",
      "2              NaN           5.0        34.30      4          NaN  ...   \n",
      "3              NaN          14.0          NaN      9          NaN  ...   \n",
      "4             3.03          14.0        32.00     13          NaN  ...   \n",
      "5              NaN          12.0        14.40      5          NaN  ...   \n",
      "6              NaN          26.0        10.60      6          NaN  ...   \n",
      "7              NaN          24.0          NaN     22          NaN  ...   \n",
      "8              NaN          27.0        15.43     26          NaN  ...   \n",
      "9             2.50           9.0        43.60      7          NaN  ...   \n",
      "10            2.67          12.0        20.30      3          NaN  ...   \n",
      "11             NaN           5.0        31.00      4        False  ...   \n",
      "12             NaN           5.0        30.00      5          NaN  ...   \n",
      "13            2.56           5.0        27.00      5          NaN  ...   \n",
      "14             NaN           6.0        17.00      1          NaN  ...   \n",
      "\n",
      "    kitchen_area  balcony              locality_name  airports_nearest  \\\n",
      "0          25.00      NaN            Санкт-Петербург           18863.0   \n",
      "1          11.00      2.0             посёлок Шушары           12817.0   \n",
      "2           8.30      0.0            Санкт-Петербург           21741.0   \n",
      "3            NaN      0.0            Санкт-Петербург           28098.0   \n",
      "4          41.00      NaN            Санкт-Петербург           31856.0   \n",
      "5           9.10      NaN  городской посёлок Янино-1               NaN   \n",
      "6          14.40      1.0          посёлок Парголово           52996.0   \n",
      "7          18.90      2.0            Санкт-Петербург           23982.0   \n",
      "8           8.81      NaN             посёлок Мурино               NaN   \n",
      "9           6.50      2.0            Санкт-Петербург           50898.0   \n",
      "10          8.50      NaN            Санкт-Петербург           38357.0   \n",
      "11          6.00      1.0                  Ломоносов           48252.0   \n",
      "12          9.00      0.0                  Сертолово               NaN   \n",
      "13          5.20      1.0                   Петергоф           37868.0   \n",
      "14          8.00      0.0                     Пушкин           20782.0   \n",
      "\n",
      "   cityCenters_nearest  parks_around3000  parks_nearest  ponds_around3000  \\\n",
      "0              16028.0               1.0          482.0               2.0   \n",
      "1              18603.0               0.0            NaN               0.0   \n",
      "2              13933.0               1.0           90.0               2.0   \n",
      "3               6800.0               2.0           84.0               3.0   \n",
      "4               8098.0               2.0          112.0               1.0   \n",
      "5                  NaN               NaN            NaN               NaN   \n",
      "6              19143.0               0.0            NaN               0.0   \n",
      "7              11634.0               0.0            NaN               0.0   \n",
      "8                  NaN               NaN            NaN               NaN   \n",
      "9              15008.0               0.0            NaN               0.0   \n",
      "10             13878.0               1.0          310.0               2.0   \n",
      "11             51677.0               0.0            NaN               0.0   \n",
      "12                 NaN               NaN            NaN               NaN   \n",
      "13             33058.0               1.0          294.0               3.0   \n",
      "14             30759.0               0.0            NaN               1.0   \n",
      "\n",
      "    ponds_nearest  days_exposition  \n",
      "0           755.0              NaN  \n",
      "1             NaN             81.0  \n",
      "2           574.0            558.0  \n",
      "3           234.0            424.0  \n",
      "4            48.0            121.0  \n",
      "5             NaN             55.0  \n",
      "6             NaN            155.0  \n",
      "7             NaN              NaN  \n",
      "8             NaN            189.0  \n",
      "9             NaN            289.0  \n",
      "10          553.0            137.0  \n",
      "11            NaN              7.0  \n",
      "12            NaN             90.0  \n",
      "13          298.0            366.0  \n",
      "14           96.0            203.0  \n",
      "\n",
      "[15 rows x 22 columns]\n"
     ]
    },
    {
     "data": {
      "text/plain": [
       "array([[<Axes: title={'center': 'total_images'}>,\n",
       "        <Axes: title={'center': 'last_price'}>,\n",
       "        <Axes: title={'center': 'total_area'}>,\n",
       "        <Axes: title={'center': 'rooms'}>],\n",
       "       [<Axes: title={'center': 'ceiling_height'}>,\n",
       "        <Axes: title={'center': 'floors_total'}>,\n",
       "        <Axes: title={'center': 'living_area'}>,\n",
       "        <Axes: title={'center': 'floor'}>],\n",
       "       [<Axes: title={'center': 'kitchen_area'}>,\n",
       "        <Axes: title={'center': 'balcony'}>,\n",
       "        <Axes: title={'center': 'airports_nearest'}>,\n",
       "        <Axes: title={'center': 'cityCenters_nearest'}>],\n",
       "       [<Axes: title={'center': 'parks_around3000'}>,\n",
       "        <Axes: title={'center': 'parks_nearest'}>,\n",
       "        <Axes: title={'center': 'ponds_around3000'}>,\n",
       "        <Axes: title={'center': 'ponds_nearest'}>],\n",
       "       [<Axes: title={'center': 'days_exposition'}>, <Axes: >, <Axes: >,\n",
       "        <Axes: >]], dtype=object)"
      ]
     },
     "execution_count": 3,
     "metadata": {},
     "output_type": "execute_result"
    },
    {
     "data": {
      "image/png": "[encoded data removed]",
      "text/plain": [
       "<Figure size 1500x2000 with 20 Axes>"
      ]
     },
     "metadata": {},
     "output_type": "display_data"
    }
   ],
   "source": [
    "data = pd.read_csv('real_estate_data.csv', '\\t')\n",
    "print(data.head(15))\n",
    "\n",
    "data.hist(figsize=(15, 20))"
   ]
  },
  {
   "cell_type": "markdown",
   "metadata": {},
   "source": [
    "### Предобработка данных"
   ]
  },
  {
   "cell_type": "code",
   "execution_count": 4,
   "metadata": {},
   "outputs": [
    {
     "data": {
      "text/plain": [
       "total_images                0\n",
       "last_price                  0\n",
       "total_area                  0\n",
       "first_day_exposition        0\n",
       "rooms                       0\n",
       "ceiling_height           9195\n",
       "floors_total               86\n",
       "living_area              1903\n",
       "floor                       0\n",
       "is_apartment            20924\n",
       "studio                      0\n",
       "open_plan                   0\n",
       "kitchen_area             2278\n",
       "balcony                 11519\n",
       "locality_name              49\n",
       "airports_nearest         5542\n",
       "cityCenters_nearest      5519\n",
       "parks_around3000         5518\n",
       "parks_nearest           15620\n",
       "ponds_around3000         5518\n",
       "ponds_nearest           14589\n",
       "days_exposition          3181\n",
       "dtype: int64"
      ]
     },
     "execution_count": 4,
     "metadata": {},
     "output_type": "execute_result"
    }
   ],
   "source": [
    "data.isna().sum()"
   ]
  },
  {
   "cell_type": "code",
   "execution_count": 3,
   "metadata": {},
   "outputs": [
    {
     "name": "stdout",
     "output_type": "stream",
     "text": [
      "   total_images  last_price  total_area first_day_exposition  rooms  \\\n",
      "0            20  13000000.0      108.00  2019-03-07T00:00:00      3   \n",
      "1             7   3350000.0       40.40  2018-12-04T00:00:00      1   \n",
      "2            10   5196000.0       56.00  2015-08-20T00:00:00      2   \n",
      "3             0  64900000.0      159.00  2015-07-24T00:00:00      3   \n",
      "4             2  10000000.0      100.00  2018-06-19T00:00:00      2   \n",
      "5            10   2890000.0       30.40  2018-09-10T00:00:00      1   \n",
      "6             6   3700000.0       37.30  2017-11-02T00:00:00      1   \n",
      "7             5   7915000.0       71.60  2019-04-18T00:00:00      2   \n",
      "8            20   2900000.0       33.16  2018-05-23T00:00:00      1   \n",
      "9            18   5400000.0       61.00  2017-02-26T00:00:00      3   \n",
      "\n",
      "   ceiling_height  floors_total  living_area  floor is_apartment  ...  \\\n",
      "0            2.70          16.0        51.00      8          NaN  ...   \n",
      "1            2.65          11.0        18.60      1          NaN  ...   \n",
      "2            2.65           5.0        34.30      4          NaN  ...   \n",
      "3            2.65          14.0        30.00      9          NaN  ...   \n",
      "4            3.03          14.0        32.00     13          NaN  ...   \n",
      "5            2.65          12.0        14.40      5          NaN  ...   \n",
      "6            2.65          26.0        10.60      6          NaN  ...   \n",
      "7            2.65          24.0        30.00     22          NaN  ...   \n",
      "8            2.65          27.0        15.43     26          NaN  ...   \n",
      "9            2.50           9.0        43.60      7          NaN  ...   \n",
      "\n",
      "   kitchen_area  balcony              locality_name  airports_nearest  \\\n",
      "0         25.00      0.0            Санкт-Петербург      18863.000000   \n",
      "1         11.00      2.0             посёлок Шушары      12817.000000   \n",
      "2          8.30      0.0            Санкт-Петербург      21741.000000   \n",
      "3          9.10      0.0            Санкт-Петербург      28098.000000   \n",
      "4         41.00      0.0            Санкт-Петербург      31856.000000   \n",
      "5          9.10      0.0  городской посёлок Янино-1      28793.672193   \n",
      "6         14.40      1.0          посёлок Парголово      52996.000000   \n",
      "7         18.90      2.0            Санкт-Петербург      23982.000000   \n",
      "8          8.81      0.0             посёлок Мурино      28793.672193   \n",
      "9          6.50      2.0            Санкт-Петербург      50898.000000   \n",
      "\n",
      "  cityCenters_nearest  parks_around3000  parks_nearest  ponds_around3000  \\\n",
      "0        16028.000000               1.0          482.0               2.0   \n",
      "1        18603.000000               0.0          455.0               0.0   \n",
      "2        13933.000000               1.0           90.0               2.0   \n",
      "3         6800.000000               2.0           84.0               3.0   \n",
      "4         8098.000000               2.0          112.0               1.0   \n",
      "5        14191.277833               0.0          455.0               1.0   \n",
      "6        19143.000000               0.0          455.0               0.0   \n",
      "7        11634.000000               0.0          455.0               0.0   \n",
      "8        14191.277833               0.0          455.0               1.0   \n",
      "9        15008.000000               0.0          455.0               0.0   \n",
      "\n",
      "   ponds_nearest  days_exposition  \n",
      "0          755.0             95.0  \n",
      "1          455.0             81.0  \n",
      "2          574.0            558.0  \n",
      "3          234.0            424.0  \n",
      "4           48.0            121.0  \n",
      "5          455.0             55.0  \n",
      "6          455.0            155.0  \n",
      "7          455.0             95.0  \n",
      "8          455.0            189.0  \n",
      "9          455.0            289.0  \n",
      "\n",
      "[10 rows x 22 columns]\n"
     ]
    }
   ],
   "source": [
    "data['floors_total'] = data['floors_total'].fillna(1)\n",
    "\n",
    "med_livarea = data['living_area'].median()\n",
    "data['living_area'] = data['living_area'].fillna(med_livarea)\n",
    "\n",
    "med_kitarea = data['kitchen_area'].median()\n",
    "data['kitchen_area'] = data['kitchen_area'].fillna(med_kitarea)\n",
    "\n",
    "med_height = data['ceiling_height'].median()\n",
    "data['ceiling_height'] = data['ceiling_height'].fillna(med_height)\n",
    "\n",
    "data['balcony'] = data['balcony'].fillna(0)\n",
    "\n",
    "mean_airports = data['airports_nearest'].mean()\n",
    "data['airports_nearest'] = data['airports_nearest'].fillna(mean_airports)\n",
    "\n",
    "mean_cityCenters = data['cityCenters_nearest'].mean()\n",
    "data['cityCenters_nearest'] = data['cityCenters_nearest'].fillna(mean_cityCenters)\n",
    "\n",
    "data['parks_around3000'] = data['parks_around3000'].fillna(0)\n",
    "\n",
    "median_parks = data['parks_nearest'].median()\n",
    "data['parks_nearest'] = data['parks_nearest'].fillna(median_parks)\n",
    "\n",
    "median_ponds = data['ponds_around3000'].median()\n",
    "data['ponds_around3000'] = data['ponds_around3000'].fillna(median_ponds)\n",
    "\n",
    "median_ponds_nearest = data['parks_nearest'].median()\n",
    "data['ponds_nearest'] = data['ponds_nearest'].fillna(median_ponds_nearest)\n",
    "\n",
    "median_days = data['days_exposition'].median()\n",
    "data['days_exposition'] = data['days_exposition'].fillna(median_days)\n",
    "\n",
    "print(data.head(10))"
   ]
  },
  {
   "cell_type": "markdown",
   "metadata": {},
   "source": [
    "#укажите причины, которые могли привести к пропускам в данных.\n",
    "\n",
    "#Ответ: Пропущенные значения имеются в столбце ,,balcony,, что значит, что в квартире нет балкона\n",
    "#Пропуски в столбце ,,days_exposition,, могут означать, что объявление о продаже квартиры ещё не снято.\n",
    "\n",
    "Заменил пропуски в столбце этажности на 1."
   ]
  },
  {
   "cell_type": "code",
   "execution_count": 4,
   "metadata": {},
   "outputs": [
    {
     "name": "stdout",
     "output_type": "stream",
     "text": [
      "<class 'pandas.core.frame.DataFrame'>\n",
      "RangeIndex: 23699 entries, 0 to 23698\n",
      "Data columns (total 22 columns):\n",
      " #   Column                Non-Null Count  Dtype         \n",
      "---  ------                --------------  -----         \n",
      " 0   total_images          23699 non-null  int64         \n",
      " 1   last_price            23699 non-null  int64         \n",
      " 2   total_area            23699 non-null  float64       \n",
      " 3   first_day_exposition  23699 non-null  datetime64[ns]\n",
      " 4   rooms                 23699 non-null  int64         \n",
      " 5   ceiling_height        23699 non-null  float64       \n",
      " 6   floors_total          23699 non-null  int64         \n",
      " 7   living_area           23699 non-null  float64       \n",
      " 8   floor                 23699 non-null  int64         \n",
      " 9   is_apartment          23699 non-null  bool          \n",
      " 10  studio                23699 non-null  bool          \n",
      " 11  open_plan             23699 non-null  bool          \n",
      " 12  kitchen_area          23699 non-null  float64       \n",
      " 13  balcony               23699 non-null  int64         \n",
      " 14  locality_name         23650 non-null  object        \n",
      " 15  airports_nearest      23699 non-null  float64       \n",
      " 16  cityCenters_nearest   23699 non-null  float64       \n",
      " 17  parks_around3000      23699 non-null  float64       \n",
      " 18  parks_nearest         23699 non-null  float64       \n",
      " 19  ponds_around3000      23699 non-null  float64       \n",
      " 20  ponds_nearest         23699 non-null  float64       \n",
      " 21  days_exposition       23699 non-null  float64       \n",
      "dtypes: bool(3), datetime64[ns](1), float64(11), int64(6), object(1)\n",
      "memory usage: 3.5+ MB\n"
     ]
    }
   ],
   "source": [
    "data['first_day_exposition'] = pd.to_datetime(data['first_day_exposition'], format='%Y-%m-%dT%H:%M:%S')\n",
    "data['ceiling_height'] = pd.to_numeric(data['ceiling_height'],errors='coerce')  \n",
    "data['floors_total'] = data['floors_total'].astype('int')\n",
    "data['is_apartment'] = data['is_apartment'].astype('bool')\n",
    "data['balcony'] = data['balcony'].astype('int')\n",
    "data['last_price'] = data['last_price'].astype('int')\n",
    "\n",
    "data.info()"
   ]
  },
  {
   "cell_type": "markdown",
   "metadata": {},
   "source": [
    "#поясните, почему нужно изменить тип данных.\n",
    "\n",
    "#Ответ: тип данных был изменён в столбцах 'first_day_exposition', 'ceiling_height',  'floors_total', 'is_apartment', 'balcony' \n",
    "#так как их типы не соответствовали данным таблицы, например, этажность здания была строковой, хотя должна быть числовой.\n",
    "\n",
    "Да, с копейками не продают), не заметил, теперь исправил)"
   ]
  },
  {
   "cell_type": "code",
   "execution_count": 5,
   "metadata": {},
   "outputs": [],
   "source": [
    "dup_mur = ['посёлок Мурино', 'поселок Мурино']\n",
    "name_mur = 'Мурино'\n",
    "\n",
    "dup_pav = ['городской посёлок Павлово', 'посёлок городского типа Павлово']\n",
    "name_pav = 'село Павлово'\n",
    "\n",
    "dup_ryb = ['поселок Рябово', 'поселок городского типа Рябово', 'посёлок городского типа Рябово']\n",
    "name_ryb = 'посёлок Рябово'\n",
    "\n",
    "dup_ros = ['поселок городского типа Рощино', 'городской посёлок Рощино']\n",
    "name_ros = 'посёлок городского типа Рощино'\n",
    "\n",
    "data['locality_name'] = data['locality_name'].replace(dup_mur, name_mur)\n",
    "data['locality_name'] = data['locality_name'].replace('поселок Новый Свет', 'посёлок Новый Свет')\n",
    "data['locality_name'] = data['locality_name'].replace('деревня Кудрово', 'Кудрово')\n",
    "data['locality_name'] = data['locality_name'].replace('поселок Бугры', 'посёлок Бугры')\n",
    "data['locality_name'] = data['locality_name'].replace('поселок городского типа Красный Бор', 'посёлок городского типа Красный Бор')\n",
    "data['locality_name'] = data['locality_name'].replace('поселок городского типа Кузьмоловский', 'посёлок городского типа Кузьмоловский')\n",
    "data['locality_name'] = data['locality_name'].replace(dup_pav, name_pav)\n",
    "data['locality_name'] = data['locality_name'].replace('поселок городского типа Вырица', 'посёлок городского типа Вырица')\n",
    "data['locality_name'] = data['locality_name'].replace('поселок Аннино', 'посёлок Аннино')\n",
    "data['locality_name'] = data['locality_name'].replace(dup_ryb, name_ryb)\n",
    "data['locality_name'] = data['locality_name'].replace('городской поселок Янино-1', 'городской посёлок Янино-1')\n",
    "data['locality_name'] = data['locality_name'].replace('поселок Лисий Нос', 'посёлок Лисий Нос')\n",
    "data['locality_name'] = data['locality_name'].replace(dup_ros, name_ros)\n",
    "data['locality_name'] = data['locality_name'].replace('поселок городского типа Лесогорский', 'городской посёлок Лесогорский')\n",
    "data['locality_name'] = data['locality_name'].replace('поселок городского типа Токсово', 'посёлок городского типа Токсово')\n",
    "data['locality_name'] = data['locality_name'].replace('поселок Кобралово', 'посёлок Кобралово')\n",
    "data['locality_name'] = data['locality_name'].replace('поселок Любань', 'Любань')\n",
    "data['locality_name'] = data['locality_name'].replace('поселок Усть-Луга', 'посёлок Усть-Луга')\n",
    "data['locality_name'] = data['locality_name'].replace('поселок Тельмана', 'посёлок Тельмана')"
   ]
  },
  {
   "cell_type": "code",
   "execution_count": 6,
   "metadata": {
    "scrolled": false
   },
   "outputs": [
    {
     "name": "stdout",
     "output_type": "stream",
     "text": [
      "count    23699.000000\n",
      "mean         2.724358\n",
      "std          0.988298\n",
      "min          1.000000\n",
      "25%          2.600000\n",
      "50%          2.650000\n",
      "75%          2.700000\n",
      "max        100.000000\n",
      "Name: ceiling_height, dtype: float64\n",
      "       total_images  last_price  total_area first_day_exposition  rooms  \\\n",
      "22869             0    15000000        25.0           2018-07-25      1   \n",
      "3148             14     2900000        75.0           2018-11-12      3   \n",
      "22336            19     9999000        92.4           2019-04-05      2   \n",
      "21377            19     4900000        42.0           2017-04-18      1   \n",
      "4876              7     3000000        25.0           2017-09-27      0   \n",
      "17857             1     3900000        56.0           2017-12-22      3   \n",
      "5246              0     2500000        54.0           2017-10-13      2   \n",
      "20478            11     8000000        45.0           2017-07-18      1   \n",
      "22938            14     4000000        98.0           2018-03-15      4   \n",
      "5807             17     8150000        80.0           2019-01-09      2   \n",
      "\n",
      "       ceiling_height  floors_total  living_area  floor  is_apartment  ...  \\\n",
      "22869           100.0             5         14.0      5          True  ...   \n",
      "3148             32.0             3         53.0      2          True  ...   \n",
      "22336            32.0             6         55.5      5         False  ...   \n",
      "21377            27.5            24         37.7     19         False  ...   \n",
      "4876             27.0            25         17.0     17          True  ...   \n",
      "17857            27.0             5         33.0      4         False  ...   \n",
      "5246             27.0             5         30.0      3          True  ...   \n",
      "20478            27.0             4         22.0      2          True  ...   \n",
      "22938            27.0             2         73.0      2          True  ...   \n",
      "5807             27.0            36         41.0     13          True  ...   \n",
      "\n",
      "       kitchen_area  balcony    locality_name  airports_nearest  \\\n",
      "22869          11.0        5  Санкт-Петербург      34963.000000   \n",
      "3148            8.0        0           Волхов      28793.672193   \n",
      "22336          16.5        4  Санкт-Петербург      18838.000000   \n",
      "21377          11.0        2  Санкт-Петербург      42742.000000   \n",
      "4876            9.1        2           Мурино      28793.672193   \n",
      "17857           9.1        0  Санкт-Петербург      41030.000000   \n",
      "5246            9.0        2     деревня Мины      28793.672193   \n",
      "20478          10.0        1  Санкт-Петербург      18975.000000   \n",
      "22938           9.0        1   деревня Нижняя      28793.672193   \n",
      "5807           12.0        5  Санкт-Петербург      18732.000000   \n",
      "\n",
      "      cityCenters_nearest  parks_around3000  parks_nearest  ponds_around3000  \\\n",
      "22869         8283.000000               1.0          223.0               3.0   \n",
      "3148         14191.277833               0.0          455.0               1.0   \n",
      "22336         3506.000000               0.0          455.0               3.0   \n",
      "21377         9760.000000               0.0          455.0               0.0   \n",
      "4876         14191.277833               0.0          455.0               1.0   \n",
      "17857        15543.000000               0.0          455.0               0.0   \n",
      "5246         14191.277833               0.0          455.0               1.0   \n",
      "20478         3246.000000               0.0          455.0               3.0   \n",
      "22938        14191.277833               0.0          455.0               1.0   \n",
      "5807         20444.000000               0.0          455.0               3.0   \n",
      "\n",
      "       ponds_nearest  days_exposition  \n",
      "22869           30.0             19.0  \n",
      "3148           455.0             95.0  \n",
      "22336          511.0             95.0  \n",
      "21377          455.0             61.0  \n",
      "4876           455.0             28.0  \n",
      "17857          455.0             73.0  \n",
      "5246           455.0            540.0  \n",
      "20478          449.0            429.0  \n",
      "22938          455.0             27.0  \n",
      "5807            80.0             38.0  \n",
      "\n",
      "[10 rows x 22 columns]\n",
      "       total_images  last_price  total_area first_day_exposition  rooms  \\\n",
      "22336            19     9999000        92.4           2019-04-05      2   \n",
      "3148             14     2900000        75.0           2018-11-12      3   \n",
      "21377            19     4900000        42.0           2017-04-18      1   \n",
      "10773             8     3800000        58.0           2017-10-13      2   \n",
      "4876              7     3000000        25.0           2017-09-27      0   \n",
      "5807             17     8150000        80.0           2019-01-09      2   \n",
      "5246              0     2500000        54.0           2017-10-13      2   \n",
      "22938            14     4000000        98.0           2018-03-15      4   \n",
      "17857             1     3900000        56.0           2017-12-22      3   \n",
      "21824            20     2450000        44.0           2019-02-12      2   \n",
      "\n",
      "       ceiling_height  floors_total  living_area  floor  is_apartment  ...  \\\n",
      "22336            32.0             6         55.5      5         False  ...   \n",
      "3148             32.0             3         53.0      2          True  ...   \n",
      "21377            27.5            24         37.7     19         False  ...   \n",
      "10773            27.0            10         30.1      3         False  ...   \n",
      "4876             27.0            25         17.0     17          True  ...   \n",
      "5807             27.0            36         41.0     13          True  ...   \n",
      "5246             27.0             5         30.0      3          True  ...   \n",
      "22938            27.0             2         73.0      2          True  ...   \n",
      "17857            27.0             5         33.0      4         False  ...   \n",
      "21824            27.0             2         38.0      2         False  ...   \n",
      "\n",
      "       kitchen_area  balcony                    locality_name  \\\n",
      "22336          16.5        4                  Санкт-Петербург   \n",
      "3148            8.0        0                           Волхов   \n",
      "21377          11.0        2                  Санкт-Петербург   \n",
      "10773           8.1        2                           Мурино   \n",
      "4876            9.1        2                           Мурино   \n",
      "5807           12.0        5                  Санкт-Петербург   \n",
      "5246            9.0        2                     деревня Мины   \n",
      "22938           9.0        1                   деревня Нижняя   \n",
      "17857           9.1        0                  Санкт-Петербург   \n",
      "21824           8.6        2  городской поселок Большая Ижора   \n",
      "\n",
      "       airports_nearest cityCenters_nearest  parks_around3000  parks_nearest  \\\n",
      "22336      18838.000000         3506.000000               0.0          455.0   \n",
      "3148       28793.672193        14191.277833               0.0          455.0   \n",
      "21377      42742.000000         9760.000000               0.0          455.0   \n",
      "10773      28793.672193        14191.277833               0.0          455.0   \n",
      "4876       28793.672193        14191.277833               0.0          455.0   \n",
      "5807       18732.000000        20444.000000               0.0          455.0   \n",
      "5246       28793.672193        14191.277833               0.0          455.0   \n",
      "22938      28793.672193        14191.277833               0.0          455.0   \n",
      "17857      41030.000000        15543.000000               0.0          455.0   \n",
      "21824      28793.672193        14191.277833               0.0          455.0   \n",
      "\n",
      "       ponds_around3000  ponds_nearest  days_exposition  \n",
      "22336               3.0          511.0             95.0  \n",
      "3148                1.0          455.0             95.0  \n",
      "21377               0.0          455.0             61.0  \n",
      "10773               1.0          455.0             71.0  \n",
      "4876                1.0          455.0             28.0  \n",
      "5807                3.0           80.0             38.0  \n",
      "5246                1.0          455.0            540.0  \n",
      "22938               1.0          455.0             27.0  \n",
      "17857               0.0          455.0             73.0  \n",
      "21824               1.0          455.0             95.0  \n",
      "\n",
      "[10 rows x 22 columns]\n"
     ]
    },
    {
     "data": {
      "image/png": "[encoded data removed]",
      "text/plain": [
       "<Figure size 432x288 with 1 Axes>"
      ]
     },
     "metadata": {
      "needs_background": "light"
     },
     "output_type": "display_data"
    }
   ],
   "source": [
    "#Проверяем иначальные данные столбца 'ceiling_height', строим диаграмму размаха \n",
    "\n",
    "print(data['ceiling_height'].describe())\n",
    "data.boxplot('ceiling_height')\n",
    "print(data.sort_values('ceiling_height', ascending = False).head(10))\n",
    "print(data.query('ceiling_height < 100 and ceiling_height >= 2.5').sort_values('ceiling_height', ascending = False).head(10))"
   ]
  },
  {
   "cell_type": "code",
   "execution_count": 7,
   "metadata": {},
   "outputs": [
    {
     "name": "stdout",
     "output_type": "stream",
     "text": [
      "count    23699.000000\n",
      "mean     28793.672193\n",
      "std      11055.741355\n",
      "min          0.000000\n",
      "25%      21183.000000\n",
      "50%      28793.672193\n",
      "75%      34327.000000\n",
      "max      84869.000000\n",
      "Name: airports_nearest, dtype: float64\n",
      "       total_images  last_price  total_area first_day_exposition  rooms  \\\n",
      "9640              8     4200000        51.4           2014-12-10      2   \n",
      "5340             19     3600000        50.6           2019-03-19      2   \n",
      "577               7     4000000        59.0           2017-07-23      3   \n",
      "20746             1     3300000        43.5           2016-02-16      2   \n",
      "5218             15     3650000        53.8           2018-09-24      3   \n",
      "18884            15     3600000        57.6           2019-02-08      3   \n",
      "2974             13     3200000        46.3           2018-03-31      2   \n",
      "4441              6     2300000        31.0           2016-05-26      1   \n",
      "939              17     3015000        31.2           2019-04-16      1   \n",
      "376              18     8400000        84.0           2018-06-26      2   \n",
      "\n",
      "       ceiling_height  floors_total  living_area  floor  is_apartment  ...  \\\n",
      "9640             2.55             5         31.0      2          True  ...   \n",
      "5340             2.50             5         29.9      4          True  ...   \n",
      "577              2.50             5         37.0      1         False  ...   \n",
      "20746            2.55             4         27.2      2          True  ...   \n",
      "5218             2.50             4         36.9      3          True  ...   \n",
      "18884            2.55             3         41.3      2          True  ...   \n",
      "2974             2.50             3         29.2      2          True  ...   \n",
      "4441             2.65             3         12.0      1          True  ...   \n",
      "939              2.50             3         17.5      1          True  ...   \n",
      "376              2.75             3         41.0      1          True  ...   \n",
      "\n",
      "       kitchen_area  balcony       locality_name  airports_nearest  \\\n",
      "9640            6.0        1  посёлок Молодёжное           84869.0   \n",
      "5340            7.0        1  посёлок Молодёжное           84853.0   \n",
      "577             7.0        0  посёлок Молодёжное           84665.0   \n",
      "20746           5.0        1  посёлок Молодёжное           84006.0   \n",
      "5218            5.2        0  посёлок Молодёжное           83758.0   \n",
      "18884           6.5        1         Зеленогорск           81607.0   \n",
      "2974            7.0        1         Зеленогорск           81355.0   \n",
      "4441            9.0        0         Зеленогорск           78527.0   \n",
      "939             5.8        0         Зеленогорск           75646.0   \n",
      "376            13.0        0         Зеленогорск           73827.0   \n",
      "\n",
      "      cityCenters_nearest  parks_around3000  parks_nearest  ponds_around3000  \\\n",
      "9640              65968.0               0.0          455.0               0.0   \n",
      "5340              65952.0               0.0          455.0               0.0   \n",
      "577               65764.0               0.0          455.0               0.0   \n",
      "20746             65105.0               0.0          455.0               0.0   \n",
      "5218              64857.0               0.0          455.0               0.0   \n",
      "18884             62706.0               0.0          455.0               0.0   \n",
      "2974              62454.0               0.0          455.0               0.0   \n",
      "4441              59626.0               0.0          455.0               0.0   \n",
      "939               56745.0               0.0          455.0               1.0   \n",
      "376               54926.0               0.0          455.0               0.0   \n",
      "\n",
      "       ponds_nearest  days_exposition  \n",
      "9640           455.0           1194.0  \n",
      "5340           455.0             95.0  \n",
      "577            455.0             95.0  \n",
      "20746          455.0           1043.0  \n",
      "5218           455.0            121.0  \n",
      "18884          455.0             13.0  \n",
      "2974           455.0            205.0  \n",
      "4441           455.0            232.0  \n",
      "939            347.0             95.0  \n",
      "376            455.0            201.0  \n",
      "\n",
      "[10 rows x 22 columns]\n"
     ]
    },
    {
     "data": {
      "image/png": "[encoded data removed]",
      "text/plain": [
       "<Figure size 432x288 with 1 Axes>"
      ]
     },
     "metadata": {
      "needs_background": "light"
     },
     "output_type": "display_data"
    }
   ],
   "source": [
    "#Группируем датафрейм по убыванию стостолбца 'airports_nearest', строим диаграмму размаха\n",
    "#По моему мнению значения этого столбца не аномальны, максимальное значение = 84 км с копейками вполне возможно в качестве расстояния до аэропорта Пулково  \n",
    "\n",
    "print(data['airports_nearest'].describe())\n",
    "data.boxplot('airports_nearest')\n",
    "print(data.sort_values('airports_nearest', ascending = False).head(10))"
   ]
  },
  {
   "cell_type": "code",
   "execution_count": 8,
   "metadata": {},
   "outputs": [
    {
     "name": "stdout",
     "output_type": "stream",
     "text": [
      "count    23699.000000\n",
      "mean         0.591080\n",
      "std          0.959298\n",
      "min          0.000000\n",
      "25%          0.000000\n",
      "50%          0.000000\n",
      "75%          1.000000\n",
      "max          5.000000\n",
      "Name: balcony, dtype: float64\n",
      "       total_images  last_price  total_area first_day_exposition  rooms  \\\n",
      "15152             9    10200000       70.60           2018-11-14      2   \n",
      "19525            17     8370000       64.40           2019-02-19      2   \n",
      "3344             27    23500000      134.00           2017-11-10      4   \n",
      "17526            13    11000000       73.90           2019-03-31      2   \n",
      "3335             12     6700000       73.40           2017-10-19      3   \n",
      "16196            13     6925000       67.20           2017-03-25      2   \n",
      "17520            12    11500000       95.00           2017-02-14      1   \n",
      "17519             6    16471698      133.40           2018-08-23      3   \n",
      "19504            13     4600000       59.00           2018-08-10      3   \n",
      "17515             6    20345000      151.17           2019-04-24      3   \n",
      "\n",
      "       ceiling_height  floors_total  living_area  floor  is_apartment  ...  \\\n",
      "15152            3.10            17         42.3      7          True  ...   \n",
      "19525            2.80            23         30.1      4          True  ...   \n",
      "3344             2.65            16         59.0     14          True  ...   \n",
      "17526            2.80            25         39.9     22         False  ...   \n",
      "3335             2.50             9         44.3      5          True  ...   \n",
      "16196            2.65            16         34.6     11          True  ...   \n",
      "17520            2.75            16         60.0     13          True  ...   \n",
      "17519            3.00             4         30.0      4          True  ...   \n",
      "19504            2.50             9         39.5      2          True  ...   \n",
      "17515            3.10            16         30.0      9          True  ...   \n",
      "\n",
      "       kitchen_area  balcony    locality_name  airports_nearest  \\\n",
      "15152         11.60        5  Санкт-Петербург            9273.0   \n",
      "19525         13.00        5  Санкт-Петербург           32447.0   \n",
      "3344          37.00        5  Санкт-Петербург           31344.0   \n",
      "17526         15.20        5  Санкт-Петербург           36575.0   \n",
      "3335           8.90        5  Санкт-Петербург           51571.0   \n",
      "16196         10.50        5  Санкт-Петербург           30153.0   \n",
      "17520         12.00        5  Санкт-Петербург           36525.0   \n",
      "17519         17.06        5  Санкт-Петербург           46089.0   \n",
      "19504          6.30        5  Санкт-Петербург           31167.0   \n",
      "17515         22.60        5  Санкт-Петербург           37434.0   \n",
      "\n",
      "      cityCenters_nearest  parks_around3000  parks_nearest  ponds_around3000  \\\n",
      "15152             11391.0               1.0          531.0               1.0   \n",
      "19525             13064.0               0.0          455.0               0.0   \n",
      "3344               6673.0               1.0          545.0               1.0   \n",
      "17526             12097.0               1.0          610.0               1.0   \n",
      "3335              16814.0               0.0          455.0               0.0   \n",
      "16196             11285.0               1.0          485.0               1.0   \n",
      "17520             12107.0               2.0          561.0               2.0   \n",
      "17519             22021.0               1.0          586.0               2.0   \n",
      "19504             12455.0               0.0          455.0               0.0   \n",
      "17515              8460.0               1.0          441.0               2.0   \n",
      "\n",
      "       ponds_nearest  days_exposition  \n",
      "15152          935.0            103.0  \n",
      "19525          455.0             95.0  \n",
      "3344           198.0             90.0  \n",
      "17526          654.0             95.0  \n",
      "3335           455.0            453.0  \n",
      "16196          405.0            340.0  \n",
      "17520          612.0             47.0  \n",
      "17519          251.0             95.0  \n",
      "19504          455.0            212.0  \n",
      "17515          427.0             95.0  \n",
      "\n",
      "[10 rows x 22 columns]\n",
      "       total_images  last_price  total_area first_day_exposition  rooms  \\\n",
      "10223             0     2980000        25.0           2017-03-04      1   \n",
      "17450            10    10880100        70.5           2018-06-09      2   \n",
      "9519             18     4170000        51.8           2017-06-10      2   \n",
      "17458             5     3320000        38.0           2018-02-26      1   \n",
      "3627              0     7400000        66.0           2018-04-20      2   \n",
      "17457            15     3850000        45.9           2017-10-05      2   \n",
      "3625              5     3000000        37.6           2017-08-30      1   \n",
      "9526              4     2650000        35.0           2018-02-17      1   \n",
      "9535              6     4500000        45.5           2018-02-01      2   \n",
      "3632              8     6600000        60.0           2017-05-20      1   \n",
      "\n",
      "       ceiling_height  floors_total  living_area  floor  is_apartment  ...  \\\n",
      "10223            2.50             9         12.5      8          True  ...   \n",
      "17450            2.80             9         30.0      7          True  ...   \n",
      "9519             2.50             9         28.7      6          True  ...   \n",
      "17458            2.75             5         16.0      1         False  ...   \n",
      "3627             2.75            22         40.0      3          True  ...   \n",
      "17457            2.50             9         29.5      3         False  ...   \n",
      "3625             2.55            10         17.0      3          True  ...   \n",
      "9526             2.65            16         20.5     12          True  ...   \n",
      "9535             2.55             9         28.5      7          True  ...   \n",
      "3632             2.80            17         15.0     13         False  ...   \n",
      "\n",
      "       kitchen_area  balcony    locality_name  airports_nearest  \\\n",
      "10223           4.7        2  Санкт-Петербург      11237.000000   \n",
      "17450          14.2        2  Санкт-Петербург      27643.000000   \n",
      "9519            7.0        2  Санкт-Петербург      19816.000000   \n",
      "17458          12.0        2  Санкт-Петербург      47039.000000   \n",
      "3627           11.7        2  Санкт-Петербург      36553.000000   \n",
      "17457           8.0        2  Санкт-Петербург      47677.000000   \n",
      "3625            8.6        2  Санкт-Петербург      20830.000000   \n",
      "9526            7.2        2       Всеволожск      28793.672193   \n",
      "9535            7.0        2  Санкт-Петербург      44558.000000   \n",
      "3632           26.0        2  Санкт-Петербург      33827.000000   \n",
      "\n",
      "      cityCenters_nearest  parks_around3000  parks_nearest  ponds_around3000  \\\n",
      "10223        13801.000000               0.0          455.0               1.0   \n",
      "17450         6346.000000               2.0          458.0               3.0   \n",
      "9519         11347.000000               0.0          455.0               0.0   \n",
      "17458        25599.000000               1.0          126.0               1.0   \n",
      "3627         14693.000000               0.0          455.0               0.0   \n",
      "17457        16136.000000               0.0          455.0               0.0   \n",
      "3625         17112.000000               0.0          455.0               1.0   \n",
      "9526         14191.277833               0.0          455.0               1.0   \n",
      "9535         13963.000000               1.0           61.0               0.0   \n",
      "3632         12489.000000               0.0          455.0               0.0   \n",
      "\n",
      "       ponds_nearest  days_exposition  \n",
      "10223          796.0            338.0  \n",
      "17450          365.0            179.0  \n",
      "9519           455.0             67.0  \n",
      "17458          979.0            151.0  \n",
      "3627           455.0             60.0  \n",
      "17457          455.0             81.0  \n",
      "3625           202.0            105.0  \n",
      "9526           455.0             40.0  \n",
      "9535           455.0             32.0  \n",
      "3632           455.0            314.0  \n",
      "\n",
      "[10 rows x 22 columns]\n"
     ]
    },
    {
     "data": {
      "image/png": "[encoded data removed]",
      "text/plain": [
       "<Figure size 432x288 with 1 Axes>"
      ]
     },
     "metadata": {
      "needs_background": "light"
     },
     "output_type": "display_data"
    }
   ],
   "source": [
    "#Проверяем иначальные данные столбца 'balcony', строим диаграмму размаха\n",
    "\n",
    "print(data['balcony'].describe())\n",
    "data.boxplot('balcony')\n",
    "print(data.sort_values('balcony', ascending = False).head(10))\n",
    "print(data.query('balcony < 3').sort_values('balcony', ascending = False).head(10))"
   ]
  },
  {
   "cell_type": "code",
   "execution_count": 9,
   "metadata": {},
   "outputs": [
    {
     "name": "stdout",
     "output_type": "stream",
     "text": [
      "count    23699.000000\n",
      "mean     14191.277833\n",
      "std       7539.644870\n",
      "min        181.000000\n",
      "25%      10927.000000\n",
      "50%      14191.277833\n",
      "75%      15248.500000\n",
      "max      65968.000000\n",
      "Name: cityCenters_nearest, dtype: float64\n",
      "       total_images  last_price  total_area first_day_exposition  rooms  \\\n",
      "9640              8     4200000        51.4           2014-12-10      2   \n",
      "5340             19     3600000        50.6           2019-03-19      2   \n",
      "577               7     4000000        59.0           2017-07-23      3   \n",
      "20746             1     3300000        43.5           2016-02-16      2   \n",
      "5218             15     3650000        53.8           2018-09-24      3   \n",
      "18884            15     3600000        57.6           2019-02-08      3   \n",
      "2974             13     3200000        46.3           2018-03-31      2   \n",
      "16569            13     3200000        52.8           2017-06-20      2   \n",
      "23123             0     1800000        32.0           2018-07-17      1   \n",
      "4441              6     2300000        31.0           2016-05-26      1   \n",
      "11244             8     4250000        32.0           2018-02-04      1   \n",
      "939              17     3015000        31.2           2019-04-16      1   \n",
      "376              18     8400000        84.0           2018-06-26      2   \n",
      "6247              8     9600000       180.1           2017-03-07      4   \n",
      "22941             8    10965000        69.3           2019-01-10      1   \n",
      "22855            16     2950000        31.0           2018-03-07      1   \n",
      "18096             2     6177600        70.2           2015-11-10      3   \n",
      "8862             11     5000000        40.0           2018-06-29      1   \n",
      "17683             8     3700000        40.8           2018-10-10      2   \n",
      "20191             6     3100000        30.0           2017-11-23      1   \n",
      "\n",
      "       ceiling_height  floors_total  living_area  floor  is_apartment  ...  \\\n",
      "9640             2.55             5         31.0      2          True  ...   \n",
      "5340             2.50             5         29.9      4          True  ...   \n",
      "577              2.50             5         37.0      1         False  ...   \n",
      "20746            2.55             4         27.2      2          True  ...   \n",
      "5218             2.50             4         36.9      3          True  ...   \n",
      "18884            2.55             3         41.3      2          True  ...   \n",
      "2974             2.50             3         29.2      2          True  ...   \n",
      "16569            2.55             5         29.9      3          True  ...   \n",
      "23123            2.65             2         17.0      1          True  ...   \n",
      "4441             2.65             3         12.0      1          True  ...   \n",
      "11244            2.65             2         20.0      2          True  ...   \n",
      "939              2.50             3         17.5      1          True  ...   \n",
      "376              2.75             3         41.0      1          True  ...   \n",
      "6247             2.75             2        100.0      2          True  ...   \n",
      "22941            3.00             4         48.9      4          True  ...   \n",
      "22855            2.70             1         16.4      1          True  ...   \n",
      "18096            2.65             4         43.7      4         False  ...   \n",
      "8862             2.70             4         16.0      1         False  ...   \n",
      "17683            2.50             3         27.2      2          True  ...   \n",
      "20191            2.55             9         12.0      1          True  ...   \n",
      "\n",
      "       kitchen_area  balcony       locality_name  airports_nearest  \\\n",
      "9640            6.0        1  посёлок Молодёжное           84869.0   \n",
      "5340            7.0        1  посёлок Молодёжное           84853.0   \n",
      "577             7.0        0  посёлок Молодёжное           84665.0   \n",
      "20746           5.0        1  посёлок Молодёжное           84006.0   \n",
      "5218            5.2        0  посёлок Молодёжное           83758.0   \n",
      "18884           6.5        1         Зеленогорск           81607.0   \n",
      "2974            7.0        1         Зеленогорск           81355.0   \n",
      "16569           8.3        0           Ломоносов           53042.0   \n",
      "23123           6.0        0           Ломоносов           56896.0   \n",
      "4441            9.0        0         Зеленогорск           78527.0   \n",
      "11244           7.0        0         Зеленогорск           72713.0   \n",
      "939             5.8        0         Зеленогорск           75646.0   \n",
      "376            13.0        0         Зеленогорск           73827.0   \n",
      "6247           19.5        1         Зеленогорск           73547.0   \n",
      "22941           9.1        2         Зеленогорск           73391.0   \n",
      "22855           5.6        0         Зеленогорск           73115.0   \n",
      "18096           9.4        0         Зеленогорск           72469.0   \n",
      "8862           11.5        0         Зеленогорск           72469.0   \n",
      "17683           4.9        1         Зеленогорск           72284.0   \n",
      "20191           7.5        0         Зеленогорск           72280.0   \n",
      "\n",
      "      cityCenters_nearest  parks_around3000  parks_nearest  ponds_around3000  \\\n",
      "9640              65968.0               0.0          455.0               0.0   \n",
      "5340              65952.0               0.0          455.0               0.0   \n",
      "577               65764.0               0.0          455.0               0.0   \n",
      "20746             65105.0               0.0          455.0               0.0   \n",
      "5218              64857.0               0.0          455.0               0.0   \n",
      "18884             62706.0               0.0          455.0               0.0   \n",
      "2974              62454.0               0.0          455.0               0.0   \n",
      "16569             61495.0               2.0          223.0               0.0   \n",
      "23123             60223.0               1.0           17.0               0.0   \n",
      "4441              59626.0               0.0          455.0               0.0   \n",
      "11244             59052.0               3.0          148.0               1.0   \n",
      "939               56745.0               0.0          455.0               1.0   \n",
      "376               54926.0               0.0          455.0               0.0   \n",
      "6247              54646.0               0.0          455.0               1.0   \n",
      "22941             54490.0               3.0            4.0               1.0   \n",
      "22855             54214.0               3.0          188.0               1.0   \n",
      "18096             53568.0               2.0          574.0               1.0   \n",
      "8862              53568.0               2.0          574.0               1.0   \n",
      "17683             53383.0               3.0          305.0               1.0   \n",
      "20191             53379.0               3.0          147.0               1.0   \n",
      "\n",
      "       ponds_nearest  days_exposition  \n",
      "9640           455.0           1194.0  \n",
      "5340           455.0             95.0  \n",
      "577            455.0             95.0  \n",
      "20746          455.0           1043.0  \n",
      "5218           455.0            121.0  \n",
      "18884          455.0             13.0  \n",
      "2974           455.0            205.0  \n",
      "16569          455.0            240.0  \n",
      "23123          455.0            147.0  \n",
      "4441           455.0            232.0  \n",
      "11244          671.0             24.0  \n",
      "939            347.0             95.0  \n",
      "376            455.0            201.0  \n",
      "6247          1037.0            496.0  \n",
      "22941          217.0            110.0  \n",
      "22855          269.0            328.0  \n",
      "18096          507.0            259.0  \n",
      "8862           507.0            165.0  \n",
      "17683           55.0             27.0  \n",
      "20191          101.0             95.0  \n",
      "\n",
      "[20 rows x 22 columns]\n"
     ]
    },
    {
     "data": {
      "image/png": "[encoded data removed]",
      "text/plain": [
       "<Figure size 432x288 with 1 Axes>"
      ]
     },
     "metadata": {
      "needs_background": "light"
     },
     "output_type": "display_data"
    }
   ],
   "source": [
    "print(data['cityCenters_nearest'].describe())\n",
    "data.boxplot('cityCenters_nearest')\n",
    "print(data.sort_values('cityCenters_nearest', ascending = False).head(20))"
   ]
  },
  {
   "cell_type": "code",
   "execution_count": 10,
   "metadata": {},
   "outputs": [
    {
     "name": "stdout",
     "output_type": "stream",
     "text": [
      "count    23699.000000\n",
      "mean         5.892358\n",
      "std          4.885249\n",
      "min          1.000000\n",
      "25%          2.000000\n",
      "50%          4.000000\n",
      "75%          8.000000\n",
      "max         33.000000\n",
      "Name: floor, dtype: float64\n",
      "       total_images  last_price  total_area first_day_exposition  rooms  \\\n",
      "18218             4     9900000      101.00           2018-09-27      3   \n",
      "11575             9     9900000      101.00           2016-04-28      3   \n",
      "18629            20     5700000       54.00           2017-12-08      1   \n",
      "1917             13    10150000       74.00           2017-11-17      2   \n",
      "11079            16     9200000       75.00           2019-02-22      2   \n",
      "397              15     5990000       54.00           2018-03-22      2   \n",
      "8496             20     7500000       73.30           2017-05-18      3   \n",
      "16644             2     4538000       57.37           2018-02-28      2   \n",
      "12888             7     7600000       70.00           2016-11-18      3   \n",
      "6157              9     2990000       33.30           2017-07-19      1   \n",
      "2629             20     3150021       36.61           2018-02-20      1   \n",
      "7711             12     4799000       60.00           2017-04-18      2   \n",
      "4091              4     3900000       37.00           2017-12-06      1   \n",
      "13276             0     4450000       38.00           2017-12-10      1   \n",
      "23292             6     2980000       36.02           2018-07-26      1   \n",
      "113               8     5750000       78.00           2016-05-19      3   \n",
      "23428            15     4750000       57.60           2016-12-15      2   \n",
      "22693             8     7400000       82.40           2017-07-25      2   \n",
      "18183             9     3750000       40.50           2018-09-24      1   \n",
      "4724              1     4800000       70.00           2017-05-07      3   \n",
      "\n",
      "       ceiling_height  floors_total  living_area  floor  is_apartment  ...  \\\n",
      "18218            2.65            35        53.40     33          True  ...   \n",
      "11575            2.65            33        53.00     32         False  ...   \n",
      "18629            2.65            35        21.00     31          True  ...   \n",
      "1917             2.80            35        34.40     30          True  ...   \n",
      "11079            2.70            36        40.00     29          True  ...   \n",
      "397              2.65            36        21.40     28          True  ...   \n",
      "8496             2.65            35        28.00     27          True  ...   \n",
      "16644            2.65            27        33.60     27          True  ...   \n",
      "12888            2.70            35        36.50     27          True  ...   \n",
      "6157             2.65            27        15.30     27          True  ...   \n",
      "2629             2.55            27        17.71     27         False  ...   \n",
      "7711             2.50            28        31.00     27         False  ...   \n",
      "4091             2.65            27        13.00     27          True  ...   \n",
      "13276            2.65            27        30.00     27          True  ...   \n",
      "23292            2.65            27        30.00     27          True  ...   \n",
      "113              2.65            27        45.40     27          True  ...   \n",
      "23428            2.65            27        30.80     26          True  ...   \n",
      "22693            2.80            26        57.40     26          True  ...   \n",
      "18183            2.60            28        16.20     26          True  ...   \n",
      "4724             2.65            27        39.00     26          True  ...   \n",
      "\n",
      "       kitchen_area  balcony      locality_name  airports_nearest  \\\n",
      "18218         13.70        2    Санкт-Петербург      18737.000000   \n",
      "11575         21.00        0    Санкт-Петербург      18732.000000   \n",
      "18629         18.00        0    Санкт-Петербург      18732.000000   \n",
      "1917          13.00        0    Санкт-Петербург      18732.000000   \n",
      "11079         12.00        2    Санкт-Петербург      18732.000000   \n",
      "397           18.70        1    Санкт-Петербург      18732.000000   \n",
      "8496          23.10        0    Санкт-Петербург      18732.000000   \n",
      "16644          9.72        0             Мурино      28793.672193   \n",
      "12888         23.10        2    Санкт-Петербург      18732.000000   \n",
      "6157           9.70        1             Мурино      28793.672193   \n",
      "2629           9.68        0             Мурино      28793.672193   \n",
      "7711          10.00        2  посёлок Парголово      53734.000000   \n",
      "4091          12.00        0  посёлок Парголово      52783.000000   \n",
      "13276          9.10        0  посёлок Парголово      52480.000000   \n",
      "23292          9.26        1             Мурино      28793.672193   \n",
      "113           10.80        2  посёлок Парголово      53134.000000   \n",
      "23428         10.20        0  посёлок Парголово      52726.000000   \n",
      "22693         25.00        5    Санкт-Петербург      40648.000000   \n",
      "18183         12.00        2  посёлок Парголово      53511.000000   \n",
      "4724          11.70        0             Мурино      28793.672193   \n",
      "\n",
      "      cityCenters_nearest  parks_around3000  parks_nearest  ponds_around3000  \\\n",
      "18218        20450.000000               0.0          455.0               3.0   \n",
      "11575        20444.000000               0.0          455.0               3.0   \n",
      "18629        20444.000000               0.0          455.0               3.0   \n",
      "1917         20444.000000               0.0          455.0               3.0   \n",
      "11079        20444.000000               0.0          455.0               3.0   \n",
      "397          20444.000000               0.0          455.0               3.0   \n",
      "8496         20444.000000               0.0          455.0               3.0   \n",
      "16644        14191.277833               0.0          455.0               1.0   \n",
      "12888        20444.000000               0.0          455.0               3.0   \n",
      "6157         14191.277833               0.0          455.0               1.0   \n",
      "2629         14191.277833               0.0          455.0               1.0   \n",
      "7711         19942.000000               0.0          455.0               0.0   \n",
      "4091         18957.000000               0.0          455.0               0.0   \n",
      "13276        18657.000000               0.0          455.0               0.0   \n",
      "23292        14191.277833               0.0          455.0               1.0   \n",
      "113          19311.000000               0.0          455.0               0.0   \n",
      "23428        18900.000000               0.0          455.0               0.0   \n",
      "22693         9888.000000               1.0         1248.0               0.0   \n",
      "18183        19687.000000               0.0          455.0               0.0   \n",
      "4724         14191.277833               0.0          455.0               1.0   \n",
      "\n",
      "       ponds_nearest  days_exposition  \n",
      "18218           72.0              7.0  \n",
      "11575           80.0             53.0  \n",
      "18629           80.0            128.0  \n",
      "1917            80.0             95.0  \n",
      "11079           80.0             95.0  \n",
      "397             80.0             11.0  \n",
      "8496            80.0            250.0  \n",
      "16644          455.0            258.0  \n",
      "12888           80.0            413.0  \n",
      "6157           455.0            383.0  \n",
      "2629           455.0            176.0  \n",
      "7711           455.0             87.0  \n",
      "4091           455.0             35.0  \n",
      "13276          455.0             76.0  \n",
      "23292          455.0             72.0  \n",
      "113            455.0            426.0  \n",
      "23428          455.0            506.0  \n",
      "22693          455.0            482.0  \n",
      "18183          455.0             16.0  \n",
      "4724           455.0            116.0  \n",
      "\n",
      "[20 rows x 22 columns]\n"
     ]
    },
    {
     "data": {
      "image/png": "[encoded data removed]",
      "text/plain": [
       "<Figure size 432x288 with 1 Axes>"
      ]
     },
     "metadata": {
      "needs_background": "light"
     },
     "output_type": "display_data"
    }
   ],
   "source": [
    "print(data['floor'].describe())\n",
    "data.boxplot('floor')\n",
    "print(data.sort_values('floor', ascending = False).head(20))\n",
    "\n",
    "#Значения в этом столбце выгледят правдиво, так как в Санкт-Петербурге есть дома с этажностью > 30 этажей"
   ]
  },
  {
   "cell_type": "code",
   "execution_count": 11,
   "metadata": {},
   "outputs": [
    {
     "name": "stdout",
     "output_type": "stream",
     "text": [
      "count    23699.000000\n",
      "mean        10.638719\n",
      "std          6.610834\n",
      "min          1.000000\n",
      "25%          5.000000\n",
      "50%          9.000000\n",
      "75%         16.000000\n",
      "max         60.000000\n",
      "Name: floors_total, dtype: float64\n",
      "       total_images  last_price  total_area first_day_exposition  rooms  \\\n",
      "2253             12     3800000        45.5           2018-06-28      2   \n",
      "16731             9     3978000        40.0           2018-09-24      1   \n",
      "16934             5     4100000        40.0           2017-10-17      1   \n",
      "11079            16     9200000        75.0           2019-02-22      2   \n",
      "5807             17     8150000        80.0           2019-01-09      2   \n",
      "397              15     5990000        54.0           2018-03-22      2   \n",
      "22946            14     7690000        75.0           2018-03-27      2   \n",
      "20938            18     9900000       100.9           2019-04-08      3   \n",
      "2966              9     4300000        37.0           2017-08-08      1   \n",
      "1060             10     5200000        50.0           2015-11-06      2   \n",
      "15982             1     5900000        62.0           2015-03-01      2   \n",
      "9370             12     7390000        70.0           2017-02-21      2   \n",
      "18629            20     5700000        54.0           2017-12-08      1   \n",
      "18617             8     7350000        68.5           2017-10-09      2   \n",
      "13975            19     6990000        65.0           2018-10-06      2   \n",
      "1917             13    10150000        74.0           2017-11-17      2   \n",
      "8496             20     7500000        73.3           2017-05-18      3   \n",
      "4855             12     5500000        50.0           2017-06-22      1   \n",
      "9186              7     6500000        49.1           2019-04-12      1   \n",
      "5808             12     4590000        43.0           2018-10-19      1   \n",
      "\n",
      "       ceiling_height  floors_total  living_area  floor  is_apartment  ...  \\\n",
      "2253             2.88            60         27.4      4          True  ...   \n",
      "16731            2.65            52         10.5     18          True  ...   \n",
      "16934            1.75            37         17.4      5          True  ...   \n",
      "11079            2.70            36         40.0     29          True  ...   \n",
      "5807            27.00            36         41.0     13          True  ...   \n",
      "397              2.65            36         21.4     28          True  ...   \n",
      "22946            2.65            35         40.0      8          True  ...   \n",
      "20938            2.65            35         53.4     22          True  ...   \n",
      "2966             2.65            35         14.0     15          True  ...   \n",
      "1060             2.65            35         39.0     15         False  ...   \n",
      "15982            2.65            35         34.0      9         False  ...   \n",
      "9370             2.70            35         28.0      3         False  ...   \n",
      "18629            2.65            35         21.0     31          True  ...   \n",
      "18617            2.65            35         27.0      3          True  ...   \n",
      "13975            2.65            35         32.1     23          True  ...   \n",
      "1917             2.80            35         34.4     30          True  ...   \n",
      "8496             2.65            35         28.0     27          True  ...   \n",
      "4855             2.80            35         22.0      4          True  ...   \n",
      "9186             2.50            35         31.0      3          True  ...   \n",
      "5808             2.65            35         14.0     11          True  ...   \n",
      "\n",
      "       kitchen_area  balcony    locality_name  airports_nearest  \\\n",
      "2253           7.40        0        Кронштадт           67763.0   \n",
      "16731         14.00        0  Санкт-Петербург           20728.0   \n",
      "16934          8.34        0  Санкт-Петербург           18732.0   \n",
      "11079         12.00        2  Санкт-Петербург           18732.0   \n",
      "5807          12.00        5  Санкт-Петербург           18732.0   \n",
      "397           18.70        1  Санкт-Петербург           18732.0   \n",
      "22946         15.00        0  Санкт-Петербург           18732.0   \n",
      "20938         13.40        0  Санкт-Петербург           18732.0   \n",
      "2966          10.40        0  Санкт-Петербург           18732.0   \n",
      "1060          20.50        2  Санкт-Петербург           18732.0   \n",
      "15982         10.00        1  Санкт-Петербург           18732.0   \n",
      "9370          23.00        2  Санкт-Петербург           18732.0   \n",
      "18629         18.00        0  Санкт-Петербург           18732.0   \n",
      "18617         23.00        1  Санкт-Петербург           18627.0   \n",
      "13975          8.90        0  Санкт-Петербург           18732.0   \n",
      "1917          13.00        0  Санкт-Петербург           18732.0   \n",
      "8496          23.10        0  Санкт-Петербург           18732.0   \n",
      "4855          13.00        0  Санкт-Петербург           18627.0   \n",
      "9186           7.00        0  Санкт-Петербург           18732.0   \n",
      "5808          15.00        0  Санкт-Петербург           18732.0   \n",
      "\n",
      "      cityCenters_nearest  parks_around3000  parks_nearest  ponds_around3000  \\\n",
      "2253              49488.0               2.0          342.0               3.0   \n",
      "16731             12978.0               1.0          793.0               0.0   \n",
      "16934             20444.0               0.0          455.0               3.0   \n",
      "11079             20444.0               0.0          455.0               3.0   \n",
      "5807              20444.0               0.0          455.0               3.0   \n",
      "397               20444.0               0.0          455.0               3.0   \n",
      "22946             20444.0               0.0          455.0               3.0   \n",
      "20938             20444.0               0.0          455.0               3.0   \n",
      "2966              20444.0               0.0          455.0               3.0   \n",
      "1060              20444.0               0.0          455.0               3.0   \n",
      "15982             20444.0               0.0          455.0               3.0   \n",
      "9370              20444.0               0.0          455.0               3.0   \n",
      "18629             20444.0               0.0          455.0               3.0   \n",
      "18617             20339.0               1.0          609.0               3.0   \n",
      "13975             20444.0               0.0          455.0               3.0   \n",
      "1917              20444.0               0.0          455.0               3.0   \n",
      "8496              20444.0               0.0          455.0               3.0   \n",
      "4855              20339.0               1.0          609.0               3.0   \n",
      "9186              20444.0               0.0          455.0               3.0   \n",
      "5808              20444.0               0.0          455.0               3.0   \n",
      "\n",
      "       ponds_nearest  days_exposition  \n",
      "2253           614.0            166.0  \n",
      "16731          455.0             45.0  \n",
      "16934           80.0             71.0  \n",
      "11079           80.0             95.0  \n",
      "5807            80.0             38.0  \n",
      "397             80.0             11.0  \n",
      "22946           80.0             95.0  \n",
      "20938           80.0             95.0  \n",
      "2966            80.0             50.0  \n",
      "1060            80.0            281.0  \n",
      "15982           80.0            547.0  \n",
      "9370            80.0            236.0  \n",
      "18629           80.0            128.0  \n",
      "18617          145.0             41.0  \n",
      "13975           80.0             89.0  \n",
      "1917            80.0             95.0  \n",
      "8496            80.0            250.0  \n",
      "4855           145.0            537.0  \n",
      "9186            80.0              3.0  \n",
      "5808            80.0             82.0  \n",
      "\n",
      "[20 rows x 22 columns]\n",
      "       total_images  last_price  total_area first_day_exposition  rooms  \\\n",
      "21599            12     6200000        51.0           2017-08-27      2   \n",
      "15982             1     5900000        62.0           2015-03-01      2   \n",
      "9579              9     3450000        24.8           2019-02-01      0   \n",
      "1060             10     5200000        50.0           2015-11-06      2   \n",
      "871              14     7777777        75.0           2017-11-16      2   \n",
      "9370             12     7390000        70.0           2017-02-21      2   \n",
      "8496             20     7500000        73.3           2017-05-18      3   \n",
      "21809            20    10600000        77.0           2019-04-16      2   \n",
      "4855             12     5500000        50.0           2017-06-22      1   \n",
      "12960            20     6140000        54.0           2018-10-09      2   \n",
      "\n",
      "       ceiling_height  floors_total  living_area  floor  is_apartment  ...  \\\n",
      "21599            2.65            35         27.0     13          True  ...   \n",
      "15982            2.65            35         34.0      9         False  ...   \n",
      "9579             2.68            35         16.0     17          True  ...   \n",
      "1060             2.65            35         39.0     15         False  ...   \n",
      "871              2.65            35         40.5     23          True  ...   \n",
      "9370             2.70            35         28.0      3         False  ...   \n",
      "8496             2.65            35         28.0     27          True  ...   \n",
      "21809            2.65            35         39.0     11          True  ...   \n",
      "4855             2.80            35         22.0      4          True  ...   \n",
      "12960            2.70            35         26.6     13          True  ...   \n",
      "\n",
      "       kitchen_area  balcony    locality_name  airports_nearest  \\\n",
      "21599          19.0        0  Санкт-Петербург           18732.0   \n",
      "15982          10.0        1  Санкт-Петербург           18732.0   \n",
      "9579            9.1        2  Санкт-Петербург           18732.0   \n",
      "1060           20.5        2  Санкт-Петербург           18732.0   \n",
      "871            11.7        0  Санкт-Петербург           18732.0   \n",
      "9370           23.0        2  Санкт-Петербург           18732.0   \n",
      "8496           23.1        0  Санкт-Петербург           18732.0   \n",
      "21809          14.0        2  Санкт-Петербург           18732.0   \n",
      "4855           13.0        0  Санкт-Петербург           18627.0   \n",
      "12960          19.1        2  Санкт-Петербург           18732.0   \n",
      "\n",
      "      cityCenters_nearest  parks_around3000  parks_nearest  ponds_around3000  \\\n",
      "21599             20444.0               0.0          455.0               3.0   \n",
      "15982             20444.0               0.0          455.0               3.0   \n",
      "9579              20444.0               0.0          455.0               3.0   \n",
      "1060              20444.0               0.0          455.0               3.0   \n",
      "871               20444.0               0.0          455.0               3.0   \n",
      "9370              20444.0               0.0          455.0               3.0   \n",
      "8496              20444.0               0.0          455.0               3.0   \n",
      "21809             20444.0               0.0          455.0               3.0   \n",
      "4855              20339.0               1.0          609.0               3.0   \n",
      "12960             20444.0               0.0          455.0               3.0   \n",
      "\n",
      "       ponds_nearest  days_exposition  \n",
      "21599           80.0             95.0  \n",
      "15982           80.0            547.0  \n",
      "9579            80.0             45.0  \n",
      "1060            80.0            281.0  \n",
      "871             80.0            169.0  \n",
      "9370            80.0            236.0  \n",
      "8496            80.0            250.0  \n",
      "21809           80.0             95.0  \n",
      "4855           145.0            537.0  \n",
      "12960           80.0            155.0  \n",
      "\n",
      "[10 rows x 22 columns]\n"
     ]
    },
    {
     "data": {
      "image/png": "[encoded data removed]",
      "text/plain": [
       "<Figure size 432x288 with 1 Axes>"
      ]
     },
     "metadata": {
      "needs_background": "light"
     },
     "output_type": "display_data"
    }
   ],
   "source": [
    "print(data['floors_total'].describe())\n",
    "data.boxplot('floors_total')\n",
    "print(data.sort_values('floors_total', ascending = False).head(20))\n",
    "print(data.query('floors_total < 36').sort_values('floors_total', ascending = False).head(10))\n",
    "\n",
    "#Удалим значения в столбце, которые > 35 этажей"
   ]
  },
  {
   "cell_type": "code",
   "execution_count": 12,
   "metadata": {},
   "outputs": [
    {
     "name": "stdout",
     "output_type": "stream",
     "text": [
      "count    23699.000000\n",
      "mean        34.099892\n",
      "std         21.162096\n",
      "min          2.000000\n",
      "25%         19.000000\n",
      "50%         30.000000\n",
      "75%         41.100000\n",
      "max        409.700000\n",
      "Name: living_area, dtype: float64\n",
      "       total_images  last_price  total_area first_day_exposition  rooms  \\\n",
      "19540             8   420000000       900.0           2017-12-06     12   \n",
      "5358             20    65000000       590.0           2019-02-14     15   \n",
      "12401            20    91500000       495.0           2017-06-19      7   \n",
      "4237              1    50000000       517.0           2017-10-14      7   \n",
      "12859            20   140000000       631.2           2019-04-09      7   \n",
      "660               3    49950000       483.9           2017-10-04      7   \n",
      "8018             20    84000000       507.0           2015-12-17      5   \n",
      "14088             8    51000000       402.0           2017-02-07      6   \n",
      "20273            12    20000000       460.8           2019-03-20      6   \n",
      "22494             7    91075000       491.0           2017-05-27      5   \n",
      "14498             6    32250000       374.6           2018-06-09     19   \n",
      "19865            20   180000000       347.0           2015-01-21      8   \n",
      "15651            20   300000000       618.0           2017-12-18      7   \n",
      "1085             16    75000000       323.0           2017-07-10      5   \n",
      "1494             10    65000000       364.0           2018-11-27      7   \n",
      "15151            15    88000000       400.0           2019-03-27      9   \n",
      "793              20   135000000       310.0           2018-05-22      4   \n",
      "15701            12    83000000       293.6           2017-11-10      4   \n",
      "12971            19   763000000       400.0           2017-09-30      7   \n",
      "6221              8    34000000       470.3           2018-01-14      4   \n",
      "\n",
      "       ceiling_height  floors_total  living_area  floor  is_apartment  ...  \\\n",
      "19540            2.80            25        409.7     25          True  ...   \n",
      "5358             3.50             6        409.0      3          True  ...   \n",
      "12401            4.65             7        347.5      7          True  ...   \n",
      "4237             2.65             4        332.0      3          True  ...   \n",
      "12859            3.90             4        322.3      4          True  ...   \n",
      "660              3.20             6        312.5      4          True  ...   \n",
      "8018             4.45             7        301.5      7          True  ...   \n",
      "14088            3.15             8        300.0      6          True  ...   \n",
      "20273            3.10             3        279.6      1          True  ...   \n",
      "22494            4.20             9        274.0      9          True  ...   \n",
      "14498            2.65             5        264.5      2          True  ...   \n",
      "19865            3.90             6        260.0      3          True  ...   \n",
      "15651            3.40             7        258.0      5          True  ...   \n",
      "1085             4.00             5        255.7      4          True  ...   \n",
      "1494             3.90             6        250.0      3          True  ...   \n",
      "15151            2.50             2        250.0      1          True  ...   \n",
      "793              3.30             5        250.0      2          True  ...   \n",
      "15701            2.65             9        250.0      7          True  ...   \n",
      "12971            2.65            10        250.0     10          True  ...   \n",
      "6221             2.65             3        248.7      3          True  ...   \n",
      "\n",
      "       kitchen_area  balcony    locality_name  airports_nearest  \\\n",
      "19540         112.0        0  Санкт-Петербург      30706.000000   \n",
      "5358          100.0        0  Санкт-Петербург      24447.000000   \n",
      "12401          25.0        0  Санкт-Петербург      28793.672193   \n",
      "4237           22.0        0  Санкт-Петербург      22835.000000   \n",
      "12859          19.5        1  Санкт-Петербург      25707.000000   \n",
      "660            26.4        0  Санкт-Петербург      23079.000000   \n",
      "8018           45.5        1  Санкт-Петербург      28793.672193   \n",
      "14088          56.0        2  Санкт-Петербург      24484.000000   \n",
      "20273          55.5        0  Санкт-Петербург      43756.000000   \n",
      "22494          45.0        0  Санкт-Петербург      25525.000000   \n",
      "14498          27.6        0  Санкт-Петербург      19497.000000   \n",
      "19865          45.0        0  Санкт-Петербург      23962.000000   \n",
      "15651          70.0        0  Санкт-Петербург      32440.000000   \n",
      "1085           66.0        0  Санкт-Петербург      23713.000000   \n",
      "1494           20.0        0  Санкт-Петербург      21988.000000   \n",
      "15151          50.0        0  Санкт-Петербург      24395.000000   \n",
      "793            50.0        0  Санкт-Петербург      34159.000000   \n",
      "15701          35.0        0  Санкт-Петербург      25593.000000   \n",
      "12971           9.1        2  Санкт-Петербург      25108.000000   \n",
      "6221           40.0        0  Санкт-Петербург      43756.000000   \n",
      "\n",
      "      cityCenters_nearest  parks_around3000  parks_nearest  ponds_around3000  \\\n",
      "19540              7877.0               0.0          455.0               2.0   \n",
      "5358               4666.0               1.0          767.0               0.0   \n",
      "12401              5735.0               2.0          110.0               0.0   \n",
      "4237               1847.0               2.0          477.0               2.0   \n",
      "12859              4972.0               0.0          455.0               2.0   \n",
      "660                 945.0               3.0          461.0               3.0   \n",
      "8018               5735.0               2.0          110.0               0.0   \n",
      "14088              5052.0               1.0          253.0               0.0   \n",
      "20273             15459.0               1.0          852.0               3.0   \n",
      "22494              5845.0               2.0          116.0               0.0   \n",
      "14498              3574.0               0.0          455.0               2.0   \n",
      "19865              3794.0               2.0          537.0               3.0   \n",
      "15651              5297.0               0.0          455.0               2.0   \n",
      "1085                594.0               3.0          398.0               2.0   \n",
      "1494               3254.0               0.0          455.0               1.0   \n",
      "15151              2725.0               2.0          315.0               1.0   \n",
      "793                7251.0               2.0          295.0               3.0   \n",
      "15701              5913.0               2.0          164.0               0.0   \n",
      "12971              3956.0               1.0          530.0               3.0   \n",
      "6221              15459.0               1.0          852.0               3.0   \n",
      "\n",
      "       ponds_nearest  days_exposition  \n",
      "19540          318.0            106.0  \n",
      "5358           455.0             14.0  \n",
      "12401          455.0             14.0  \n",
      "4237           540.0             95.0  \n",
      "12859          210.0             95.0  \n",
      "660             22.0            391.0  \n",
      "8018           455.0           1078.0  \n",
      "14088          455.0             32.0  \n",
      "20273          122.0             21.0  \n",
      "22494          455.0            115.0  \n",
      "14498          548.0            114.0  \n",
      "19865          501.0            834.0  \n",
      "15651          198.0            111.0  \n",
      "1085           515.0            259.0  \n",
      "1494           689.0             46.0  \n",
      "15151          578.0             95.0  \n",
      "793            190.0            342.0  \n",
      "15701          455.0             95.0  \n",
      "12971          756.0             33.0  \n",
      "6221           122.0            179.0  \n",
      "\n",
      "[20 rows x 22 columns]\n",
      "       total_images  last_price  total_area first_day_exposition  rooms  \\\n",
      "8574             19    25000000       230.0           2015-01-21      5   \n",
      "12067             5    14500000       259.6           2015-09-28      5   \n",
      "9783             13    37900000       220.0           2017-10-23      6   \n",
      "13864            20   130000000       231.0           2015-08-13      6   \n",
      "11800             1    20295200       192.3           2018-02-13      6   \n",
      "6460             20    82000000       235.0           2017-07-10      7   \n",
      "20264            17   119000000       187.6           2017-07-10      4   \n",
      "11438            26    34979000       198.0           2017-11-23      5   \n",
      "4149              6    23000000       272.6           2018-01-11     10   \n",
      "20754             2    23900000       213.0           2016-04-05      6   \n",
      "\n",
      "       ceiling_height  floors_total  living_area  floor  is_apartment  ...  \\\n",
      "8574             3.30             5        149.4      3          True  ...   \n",
      "12067            2.81            17        148.6     16          True  ...   \n",
      "9783             4.50             5        148.0      5          True  ...   \n",
      "13864            3.60             6        148.0      4          True  ...   \n",
      "11800            2.95             2        147.2      1         False  ...   \n",
      "6460             3.33             7        147.2      5          True  ...   \n",
      "20264            6.00             7        147.0      7          True  ...   \n",
      "11438            2.65             5        147.0      3          True  ...   \n",
      "4149             3.14             7        145.9      7          True  ...   \n",
      "20754            2.65             5        145.5      3          True  ...   \n",
      "\n",
      "       kitchen_area  balcony    locality_name  airports_nearest  \\\n",
      "8574           19.2        0  Санкт-Петербург      21480.000000   \n",
      "12067          15.4        0  Санкт-Петербург      39408.000000   \n",
      "9783           21.0        1  Санкт-Петербург      32534.000000   \n",
      "13864          12.0        0  Санкт-Петербург      22992.000000   \n",
      "11800          17.8        0      деревня Бор      28793.672193   \n",
      "6460           28.4        0  Санкт-Петербург      22992.000000   \n",
      "20264          15.6        0  Санкт-Петербург      26902.000000   \n",
      "11438          16.0        0  Санкт-Петербург      20767.000000   \n",
      "4149           18.8        1  Санкт-Петербург      10726.000000   \n",
      "20754           9.1        0  Санкт-Петербург      24246.000000   \n",
      "\n",
      "      cityCenters_nearest  parks_around3000  parks_nearest  ponds_around3000  \\\n",
      "8574          2453.000000               3.0           75.0               1.0   \n",
      "12067        11111.000000               0.0          455.0               0.0   \n",
      "9783          4725.000000               0.0          455.0               2.0   \n",
      "13864         1280.000000               3.0          395.0               3.0   \n",
      "11800        14191.277833               0.0          455.0               1.0   \n",
      "6460          1280.000000               3.0          395.0               3.0   \n",
      "20264         5605.000000               3.0          484.0               1.0   \n",
      "11438         1085.000000               3.0          542.0               2.0   \n",
      "4149         12169.000000               1.0          191.0               1.0   \n",
      "20754         4814.000000               1.0          378.0               1.0   \n",
      "\n",
      "       ponds_nearest  days_exposition  \n",
      "8574           795.0            719.0  \n",
      "12067          455.0           1232.0  \n",
      "9783           594.0            364.0  \n",
      "13864          170.0            467.0  \n",
      "11800          455.0            162.0  \n",
      "6460           170.0            197.0  \n",
      "20264          305.0            259.0  \n",
      "11438          126.0             90.0  \n",
      "4149           531.0             95.0  \n",
      "20754          966.0            349.0  \n",
      "\n",
      "[10 rows x 22 columns]\n"
     ]
    },
    {
     "data": {
      "image/png": "[encoded data removed]",
      "text/plain": [
       "<Figure size 432x288 with 1 Axes>"
      ]
     },
     "metadata": {
      "needs_background": "light"
     },
     "output_type": "display_data"
    }
   ],
   "source": [
    "print(data['living_area'].describe())\n",
    "data.boxplot('living_area')\n",
    "print(data.sort_values('living_area', ascending = False).head(20))\n",
    "print(data.query('living_area < 150 and living_area > 25').sort_values('living_area', ascending = False).head(10))"
   ]
  },
  {
   "cell_type": "code",
   "execution_count": 13,
   "metadata": {},
   "outputs": [
    {
     "name": "stdout",
     "output_type": "stream",
     "text": [
      "count    23699.000000\n",
      "mean        10.428526\n",
      "std          5.631126\n",
      "min          1.300000\n",
      "25%          7.400000\n",
      "50%          9.100000\n",
      "75%         11.440000\n",
      "max        112.000000\n",
      "Name: kitchen_area, dtype: float64\n",
      "       total_images  last_price  total_area first_day_exposition  rooms  \\\n",
      "19540             8   420000000       900.0           2017-12-06     12   \n",
      "20215             2    85000000       249.7           2018-02-01      3   \n",
      "2489              9    12500000       255.0           2017-04-21      3   \n",
      "5358             20    65000000       590.0           2019-02-14     15   \n",
      "16239             5    82400000       181.1           2017-05-24      3   \n",
      "16797             9    65850000       146.0           2017-07-14      2   \n",
      "10867             1    56844500       177.9           2015-01-15      3   \n",
      "492              18    95000000       216.0           2017-12-05      4   \n",
      "4394             20    57000000       174.0           2015-11-09      3   \n",
      "14644            17    47000000       150.0           2017-02-28      4   \n",
      "16647            15   122000000       145.0           2017-04-25      3   \n",
      "6193             19    24300000       230.0           2016-06-03      4   \n",
      "15651            20   300000000       618.0           2017-12-18      7   \n",
      "1085             16    75000000       323.0           2017-07-10      5   \n",
      "22980            19    24500000       155.4           2017-10-10      3   \n",
      "18447            17    21800000       187.0           2018-01-14      5   \n",
      "15780             9    12990000       119.6           2017-03-13      3   \n",
      "19499            10     8000000       118.0           2017-08-31      3   \n",
      "17912            17   135000000       166.0           2019-02-07      3   \n",
      "7543             20   130000000       307.8           2016-04-24      5   \n",
      "\n",
      "       ceiling_height  floors_total  living_area  floor  is_apartment  ...  \\\n",
      "19540            2.80            25        409.7     25          True  ...   \n",
      "20215            2.65            10         72.0      9          True  ...   \n",
      "2489             2.65             2        153.9      2          True  ...   \n",
      "5358             3.50             6        409.0      3          True  ...   \n",
      "16239            3.90             9         58.2      4         False  ...   \n",
      "16797            2.65             9         40.0      3          True  ...   \n",
      "10867            2.65             6         87.2      5          True  ...   \n",
      "492              3.00             5         86.0      4          True  ...   \n",
      "4394             3.20            10         95.0      6          True  ...   \n",
      "14644            3.70             6         58.0      5          True  ...   \n",
      "16647            3.30             6         36.0      2          True  ...   \n",
      "6193             2.65             3         90.0      2         False  ...   \n",
      "15651            3.40             7        258.0      5          True  ...   \n",
      "1085             4.00             5        255.7      4          True  ...   \n",
      "22980            3.00             4         72.0      2          True  ...   \n",
      "18447            2.65             4        120.0      4          True  ...   \n",
      "15780            3.00             5         36.4      4         False  ...   \n",
      "19499            3.00             5         36.0      4         False  ...   \n",
      "17912            3.30             7         52.0      1          True  ...   \n",
      "7543             2.65             4        187.9      3          True  ...   \n",
      "\n",
      "       kitchen_area  balcony    locality_name  airports_nearest  \\\n",
      "19540         112.0        0  Санкт-Петербург           30706.0   \n",
      "20215         107.0        4  Санкт-Петербург           31532.0   \n",
      "2489          100.7        0  Санкт-Петербург           29544.0   \n",
      "5358          100.0        0  Санкт-Петербург           24447.0   \n",
      "16239          93.2        0  Санкт-Петербург           25525.0   \n",
      "16797          93.0        0  Санкт-Петербург           25525.0   \n",
      "10867          87.2        0  Санкт-Петербург           21860.0   \n",
      "492            77.0        0  Санкт-Петербург           21740.0   \n",
      "4394           77.0        0  Санкт-Петербург           31706.0   \n",
      "14644          75.0        1  Санкт-Петербург           16085.0   \n",
      "16647          72.0        0  Санкт-Петербург           33931.0   \n",
      "6193           70.0        0  Санкт-Петербург           39422.0   \n",
      "15651          70.0        0  Санкт-Петербург           32440.0   \n",
      "1085           66.0        0  Санкт-Петербург           23713.0   \n",
      "22980          65.0        0  Санкт-Петербург           43758.0   \n",
      "18447          65.0        0  Санкт-Петербург           43758.0   \n",
      "15780          64.0        4           Пушкин           18616.0   \n",
      "19499          64.0        4           Пушкин           18616.0   \n",
      "17912          64.0        0  Санкт-Петербург           32863.0   \n",
      "7543           63.4        0  Санкт-Петербург           24899.0   \n",
      "\n",
      "      cityCenters_nearest  parks_around3000  parks_nearest  ponds_around3000  \\\n",
      "19540              7877.0               0.0          455.0               2.0   \n",
      "20215              4624.0               1.0         2218.0               2.0   \n",
      "2489               6916.0               0.0          455.0               3.0   \n",
      "5358               4666.0               1.0          767.0               0.0   \n",
      "16239              5845.0               2.0          116.0               0.0   \n",
      "16797              5845.0               2.0          116.0               0.0   \n",
      "10867               318.0               2.0          160.0               3.0   \n",
      "492                 436.0               2.0          138.0               3.0   \n",
      "4394               4166.0               1.0          193.0               3.0   \n",
      "14644              7616.0               0.0          455.0               0.0   \n",
      "16647              7023.0               2.0          478.0               3.0   \n",
      "6193              15354.0               0.0          455.0               1.0   \n",
      "15651              5297.0               0.0          455.0               2.0   \n",
      "1085                594.0               3.0          398.0               2.0   \n",
      "22980             15461.0               1.0          756.0               2.0   \n",
      "18447             15461.0               1.0          756.0               2.0   \n",
      "15780             30770.0               1.0          569.0               0.0   \n",
      "19499             30770.0               1.0          569.0               0.0   \n",
      "17912              5955.0               2.0          230.0               3.0   \n",
      "7543               4785.0               0.0          455.0               1.0   \n",
      "\n",
      "       ponds_nearest  days_exposition  \n",
      "19540          318.0            106.0  \n",
      "20215           99.0             26.0  \n",
      "2489           198.0            102.0  \n",
      "5358           455.0             14.0  \n",
      "16239          455.0            501.0  \n",
      "16797          455.0             77.0  \n",
      "10867          569.0             95.0  \n",
      "492            620.0             14.0  \n",
      "4394           199.0           1039.0  \n",
      "14644          455.0            507.0  \n",
      "16647          250.0            335.0  \n",
      "6193           345.0            397.0  \n",
      "15651          198.0            111.0  \n",
      "1085           515.0            259.0  \n",
      "22980          278.0            325.0  \n",
      "18447          278.0             95.0  \n",
      "15780          455.0             95.0  \n",
      "19499          455.0              7.0  \n",
      "17912          215.0             95.0  \n",
      "7543           603.0           1094.0  \n",
      "\n",
      "[20 rows x 22 columns]\n",
      "       total_images  last_price  total_area first_day_exposition  rooms  \\\n",
      "8059              1     9753380       93.20           2017-05-22      2   \n",
      "16965             1     8055000       89.51           2016-02-25      3   \n",
      "14376            20    10788000       75.00           2018-02-01      2   \n",
      "8111              1     6150000       70.20           2018-01-20      3   \n",
      "2044             20    29000000      108.70           2018-08-20      3   \n",
      "14549            14     8600000       69.20           2018-09-11      2   \n",
      "17534             6    21000000      154.00           2018-12-18      6   \n",
      "7821             19    16990000       98.60           2018-11-28      3   \n",
      "20931            14    11700000       75.00           2016-09-13      2   \n",
      "15037             9    23000000       71.00           2017-05-15      2   \n",
      "\n",
      "       ceiling_height  floors_total  living_area  floor  is_apartment  ...  \\\n",
      "8059             2.65            12        48.40      9          True  ...   \n",
      "16965            2.70            20        35.17      2          True  ...   \n",
      "14376            2.70            24        30.00     20          True  ...   \n",
      "8111             2.65            21        30.00     16          True  ...   \n",
      "2044             3.00            15        55.70     14          True  ...   \n",
      "14549            2.80             5        29.80      5          True  ...   \n",
      "17534            3.51             5        99.10      1          True  ...   \n",
      "7821             2.80            21        47.90     18          True  ...   \n",
      "20931            3.20             5        27.40      4          True  ...   \n",
      "15037            3.30             4        31.00      2         False  ...   \n",
      "\n",
      "       kitchen_area  balcony    locality_name  airports_nearest  \\\n",
      "8059          24.90        1  Санкт-Петербург      32746.000000   \n",
      "16965         24.89        0  Санкт-Петербург      18490.000000   \n",
      "14376         24.80        2  Санкт-Петербург      12747.000000   \n",
      "8111          24.70        2          Кудрово      28793.672193   \n",
      "2044          24.70        1  Санкт-Петербург      33175.000000   \n",
      "14549         24.70        1  Санкт-Петербург      38498.000000   \n",
      "17534         24.70        0  Санкт-Петербург      20215.000000   \n",
      "7821          24.70        4  Санкт-Петербург      34967.000000   \n",
      "20931         24.60        0  Санкт-Петербург      24720.000000   \n",
      "15037         24.50        2      Зеленогорск      70016.000000   \n",
      "\n",
      "      cityCenters_nearest  parks_around3000  parks_nearest  ponds_around3000  \\\n",
      "8059         13845.000000               0.0          455.0               1.0   \n",
      "16965        17492.000000               0.0          455.0               2.0   \n",
      "14376        12998.000000               1.0          152.0               1.0   \n",
      "8111         14191.277833               0.0          455.0               1.0   \n",
      "2044          4714.000000               1.0          194.0               0.0   \n",
      "14549        13395.000000               0.0          455.0               1.0   \n",
      "17534         1658.000000               3.0          328.0               3.0   \n",
      "7821         14640.000000               0.0          455.0               1.0   \n",
      "20931         4287.000000               0.0          455.0               3.0   \n",
      "15037        51115.000000               0.0          455.0               0.0   \n",
      "\n",
      "       ponds_nearest  days_exposition  \n",
      "8059           516.0            217.0  \n",
      "16965          113.0            138.0  \n",
      "14376          791.0             54.0  \n",
      "8111           455.0             60.0  \n",
      "2044           455.0             95.0  \n",
      "14549          564.0            107.0  \n",
      "17534          132.0            116.0  \n",
      "7821           564.0             95.0  \n",
      "20931          681.0            402.0  \n",
      "15037          455.0             90.0  \n",
      "\n",
      "[10 rows x 22 columns]\n"
     ]
    },
    {
     "data": {
      "image/png": "[encoded data removed]",
      "text/plain": [
       "<Figure size 432x288 with 1 Axes>"
      ]
     },
     "metadata": {
      "needs_background": "light"
     },
     "output_type": "display_data"
    }
   ],
   "source": [
    "print(data['kitchen_area'].describe())\n",
    "data.boxplot('kitchen_area')\n",
    "print(data.sort_values('kitchen_area', ascending = False).head(20))\n",
    "print(data.query('kitchen_area < 25 and kitchen_area > 3').sort_values('kitchen_area', ascending = False).head(10))"
   ]
  },
  {
   "cell_type": "code",
   "execution_count": 14,
   "metadata": {},
   "outputs": [
    {
     "name": "stdout",
     "output_type": "stream",
     "text": [
      "count    23699.000000\n",
      "mean         0.469049\n",
      "std          0.748534\n",
      "min          0.000000\n",
      "25%          0.000000\n",
      "50%          0.000000\n",
      "75%          1.000000\n",
      "max          3.000000\n",
      "Name: parks_around3000, dtype: float64\n",
      "       total_images  last_price  total_area first_day_exposition  rooms  \\\n",
      "18443            19     9500000       97.00           2017-08-31      2   \n",
      "16654            18     4700000       40.00           2018-03-01      1   \n",
      "5979              0     2490000       34.00           2018-02-08      1   \n",
      "16539             0     2600000       31.00           2016-05-26      1   \n",
      "16543            15    26750000      107.00           2017-02-02      3   \n",
      "16559            16     8350000       75.68           2017-12-29      3   \n",
      "8010             20    27600000      130.00           2017-01-25      3   \n",
      "857              14     8260000       91.00           2018-03-29      4   \n",
      "2744              5    10000000      100.40           2018-07-10      3   \n",
      "16625            17     6900000       53.40           2018-01-09      1   \n",
      "11004            12    10400000       47.00           2018-05-23      2   \n",
      "8054             10     9000000      121.80           2017-11-01      5   \n",
      "2720             10     3900000       68.00           2018-03-13      3   \n",
      "885               9     8200000       96.00           2018-07-23      3   \n",
      "890               3    17000000      149.20           2017-12-19      5   \n",
      "16766            10     8500000       64.00           2018-10-10      2   \n",
      "10978             3    14990000      108.80           2015-04-02      3   \n",
      "21270            17     5450000       48.20           2019-02-11      1   \n",
      "2705             19    28570000      130.00           2017-10-02      4   \n",
      "10974             8     2890000       42.00           2017-09-10      2   \n",
      "\n",
      "       ceiling_height  floors_total  living_area  floor  is_apartment  ...  \\\n",
      "18443            3.07             4        46.75      2          True  ...   \n",
      "16654            2.50            16        18.00     16         False  ...   \n",
      "5979             2.50             5        17.50      3          True  ...   \n",
      "16539            2.60             5        18.00      1         False  ...   \n",
      "16543            3.10            10        55.00     10          True  ...   \n",
      "16559            3.20             7        50.30      5          True  ...   \n",
      "8010             3.12            10        70.70      7          True  ...   \n",
      "857              3.30             4        66.50      2          True  ...   \n",
      "2744             3.50             4        55.00      4          True  ...   \n",
      "16625            2.75            23        24.40     21          True  ...   \n",
      "11004            2.50             5        24.00      3          True  ...   \n",
      "8054             3.20             6        92.60      5          True  ...   \n",
      "2720             4.00             2        57.00      1          True  ...   \n",
      "885              3.62             3        61.60      3          True  ...   \n",
      "890              3.00             6       104.20      1          True  ...   \n",
      "16766            2.80            25        40.20      4          True  ...   \n",
      "10978            2.90             8        61.80      2          True  ...   \n",
      "21270            2.65             5        19.80      5          True  ...   \n",
      "2705             2.65             4        92.80      2          True  ...   \n",
      "10974            2.65             3        27.00      2          True  ...   \n",
      "\n",
      "       kitchen_area  balcony    locality_name  airports_nearest  \\\n",
      "18443         14.80        0  Санкт-Петербург           24079.0   \n",
      "16654         10.20        1  Санкт-Петербург           50268.0   \n",
      "5979           6.90        2        Кронштадт           68482.0   \n",
      "16539          5.50        0         Петергоф           39738.0   \n",
      "16543         14.51        0  Санкт-Петербург           26226.0   \n",
      "16559          9.31        0  Санкт-Петербург           19505.0   \n",
      "8010          17.30        0  Санкт-Петербург           26084.0   \n",
      "857            8.00        0  Санкт-Петербург           25763.0   \n",
      "2744          15.00        0  Санкт-Петербург           20802.0   \n",
      "16625         13.90        0       Сестрорецк           57482.0   \n",
      "11004          8.00        0  Санкт-Петербург           23099.0   \n",
      "8054           9.00        4  Санкт-Петербург           18875.0   \n",
      "2720           9.10        0        Кронштадт           68341.0   \n",
      "885            8.50        0        Кронштадт           69690.0   \n",
      "890           17.80        0  Санкт-Петербург           20123.0   \n",
      "16766          9.60        0  Санкт-Петербург           40584.0   \n",
      "10978         13.00        0  Санкт-Петербург           24796.0   \n",
      "21270          9.40        0  Санкт-Петербург           20296.0   \n",
      "2705          12.50        0  Санкт-Петербург           20250.0   \n",
      "10974          5.50        1          Колпино           25396.0   \n",
      "\n",
      "      cityCenters_nearest  parks_around3000  parks_nearest  ponds_around3000  \\\n",
      "18443              3646.0               3.0          427.0               3.0   \n",
      "16654             13538.0               3.0          618.0               1.0   \n",
      "5979              50208.0               3.0          172.0               2.0   \n",
      "16539             32724.0               3.0          508.0               3.0   \n",
      "16543              4928.0               3.0          280.0               1.0   \n",
      "16559             14770.0               3.0          149.0               2.0   \n",
      "8010               5807.0               3.0          411.0               1.0   \n",
      "857                4338.0               3.0          258.0               1.0   \n",
      "2744                801.0               3.0          480.0               2.0   \n",
      "16625             34412.0               3.0           77.0               3.0   \n",
      "11004              2144.0               3.0          371.0               1.0   \n",
      "8054              14956.0               3.0          258.0               2.0   \n",
      "2720              50067.0               3.0          286.0               3.0   \n",
      "885               51415.0               3.0           87.0               3.0   \n",
      "890                1852.0               3.0          510.0               3.0   \n",
      "16766             12398.0               3.0          447.0               0.0   \n",
      "10978              3371.0               3.0          528.0               2.0   \n",
      "21270              3412.0               3.0          312.0               1.0   \n",
      "2705               1637.0               3.0          226.0               3.0   \n",
      "10974             31182.0               3.0          158.0               3.0   \n",
      "\n",
      "       ponds_nearest  days_exposition  \n",
      "18443          207.0            271.0  \n",
      "16654          411.0            336.0  \n",
      "5979           148.0             32.0  \n",
      "16539          558.0             45.0  \n",
      "16543          348.0            355.0  \n",
      "16559          319.0             54.0  \n",
      "8010           478.0            233.0  \n",
      "857            662.0            206.0  \n",
      "2744           145.0            268.0  \n",
      "16625          297.0            439.0  \n",
      "11004          297.0            127.0  \n",
      "8054           386.0             82.0  \n",
      "2720           153.0            264.0  \n",
      "885            412.0             95.0  \n",
      "890            417.0            354.0  \n",
      "16766          455.0             62.0  \n",
      "10978          383.0            584.0  \n",
      "21270          712.0             67.0  \n",
      "2705            60.0            501.0  \n",
      "10974          368.0              3.0  \n",
      "\n",
      "[20 rows x 22 columns]\n"
     ]
    },
    {
     "data": {
      "image/png": "[encoded data removed]",
      "text/plain": [
       "<Figure size 432x288 with 1 Axes>"
      ]
     },
     "metadata": {
      "needs_background": "light"
     },
     "output_type": "display_data"
    }
   ],
   "source": [
    "print(data['parks_around3000'].describe())\n",
    "data.boxplot('parks_around3000')\n",
    "print(data.sort_values('parks_around3000', ascending = False).head(20))"
   ]
  },
  {
   "cell_type": "code",
   "execution_count": 15,
   "metadata": {},
   "outputs": [
    {
     "name": "stdout",
     "output_type": "stream",
     "text": [
      "count    23699.000000\n",
      "mean       467.205789\n",
      "std        200.579309\n",
      "min          1.000000\n",
      "25%        455.000000\n",
      "50%        455.000000\n",
      "75%        455.000000\n",
      "max       3190.000000\n",
      "Name: parks_nearest, dtype: float64\n",
      "       total_images  last_price  total_area first_day_exposition  rooms  \\\n",
      "19430             9     3900000       30.50           2018-02-22      1   \n",
      "10959             9     3000000       31.10           2017-03-21      1   \n",
      "1590              3     7500000       70.00           2017-07-11      2   \n",
      "19208            17    14950000      187.00           2017-10-12      5   \n",
      "23080            15     4650000       44.50           2018-02-20      2   \n",
      "2659              9    19150000      104.90           2017-08-28      3   \n",
      "1860             19     3500000       45.00           2016-12-05      2   \n",
      "7855             16     5200000       44.90           2019-03-04      2   \n",
      "3865             20    11900000       91.20           2018-10-04      3   \n",
      "22003             9    14166000       78.70           2019-04-04      2   \n",
      "7316              5     7100000       74.50           2016-04-19      3   \n",
      "5923              6     6698000       60.00           2018-07-18      2   \n",
      "1804             20    13800000      114.00           2018-10-29      3   \n",
      "6625              7     5000000       36.60           2018-02-07      1   \n",
      "18327            18     6100000       54.50           2018-06-24      2   \n",
      "18685            11     6700000       65.60           2017-05-02      3   \n",
      "17173             4    14073620       75.44           2017-11-28      2   \n",
      "10364             7    14900000      120.00           2014-11-27      2   \n",
      "23466            15    11900000       80.00           2017-08-16      2   \n",
      "15456             6    12665000       72.00           2017-08-28      2   \n",
      "\n",
      "       ceiling_height  floors_total  living_area  floor  is_apartment  ...  \\\n",
      "19430            2.60             5         16.5      1          True  ...   \n",
      "10959            2.65             5         17.7      2          True  ...   \n",
      "1590             2.65            18         37.0     13          True  ...   \n",
      "19208            3.00             2         80.0      2          True  ...   \n",
      "23080            2.65             5         25.2      2          True  ...   \n",
      "2659             3.00             5         61.5      4          True  ...   \n",
      "1860             2.65             5         29.1      3          True  ...   \n",
      "7855             2.53             5         29.0      3          True  ...   \n",
      "3865             3.10             4         62.0      3          True  ...   \n",
      "22003            2.95             5         38.0      2          True  ...   \n",
      "7316             3.00             4         49.0      3          True  ...   \n",
      "5923             3.15             3         32.4      2          True  ...   \n",
      "1804             3.40             5         51.0      2          True  ...   \n",
      "6625             2.50            14         21.2      9          True  ...   \n",
      "18327            2.65             3         32.6      3          True  ...   \n",
      "18685            2.75             3         48.6      2         False  ...   \n",
      "17173            3.04             5         30.0      2          True  ...   \n",
      "10364            2.65             5         53.0      4          True  ...   \n",
      "23466            2.65             5         30.0      3          True  ...   \n",
      "15456            2.90             5         36.0      4          True  ...   \n",
      "\n",
      "       kitchen_area  balcony    locality_name  airports_nearest  \\\n",
      "19430           5.5        0  Санкт-Петербург           14821.0   \n",
      "10959           5.5        0  Санкт-Петербург           14821.0   \n",
      "1590           10.0        0  Санкт-Петербург           14878.0   \n",
      "19208          17.0        1  Санкт-Петербург           36805.0   \n",
      "23080           5.5        1  Санкт-Петербург           14965.0   \n",
      "2659           13.5        1  Санкт-Петербург           36850.0   \n",
      "1860            6.0        1  Санкт-Петербург           15070.0   \n",
      "7855            5.5        1  Санкт-Петербург           15059.0   \n",
      "3865           10.6        0  Санкт-Петербург           36781.0   \n",
      "22003          18.1        1  Санкт-Петербург           37028.0   \n",
      "7316            8.0        1  Санкт-Петербург           36721.0   \n",
      "5923            7.6        0  Санкт-Петербург           36790.0   \n",
      "1804           41.0        1  Санкт-Петербург           36460.0   \n",
      "6625            7.5        2  Санкт-Петербург           15211.0   \n",
      "18327           9.4        0  Санкт-Петербург           36270.0   \n",
      "18685           6.6        0  Санкт-Петербург           36900.0   \n",
      "17173          21.6        0  Санкт-Петербург           36406.0   \n",
      "10364          14.0        0  Санкт-Петербург           36813.0   \n",
      "23466           9.1        0  Санкт-Петербург           36813.0   \n",
      "15456          14.0        0  Санкт-Петербург           36813.0   \n",
      "\n",
      "      cityCenters_nearest  parks_around3000  parks_nearest  ponds_around3000  \\\n",
      "19430              9734.0               0.0         3190.0               1.0   \n",
      "10959              9734.0               0.0         3190.0               1.0   \n",
      "1590               9791.0               0.0         3064.0               1.0   \n",
      "19208              8656.0               0.0         3013.0               3.0   \n",
      "23080              9877.0               1.0         2984.0               1.0   \n",
      "2659               9016.0               1.0         2905.0               3.0   \n",
      "1860               9983.0               1.0         2888.0               1.0   \n",
      "7855               9972.0               1.0         2880.0               1.0   \n",
      "3865               8791.0               1.0         2847.0               3.0   \n",
      "22003              8879.0               1.0         2768.0               3.0   \n",
      "7316               8679.0               2.0         2747.0               3.0   \n",
      "5923               8729.0               1.0         2711.0               3.0   \n",
      "1804               9271.0               2.0         2665.0               3.0   \n",
      "6625              10124.0               1.0         2633.0               1.0   \n",
      "18327              9082.0               1.0         2555.0               3.0   \n",
      "18685              8751.0               1.0         2532.0               3.0   \n",
      "17173              8972.0               1.0         2489.0               3.0   \n",
      "10364              8572.0               1.0         2467.0               3.0   \n",
      "23466              8572.0               1.0         2467.0               3.0   \n",
      "15456              8572.0               1.0         2467.0               3.0   \n",
      "\n",
      "       ponds_nearest  days_exposition  \n",
      "19430          431.0            176.0  \n",
      "10959          431.0            234.0  \n",
      "1590           264.0              4.0  \n",
      "19208          537.0             49.0  \n",
      "23080          284.0            152.0  \n",
      "2659           137.0             91.0  \n",
      "1860           409.0            473.0  \n",
      "7855           357.0             95.0  \n",
      "3865           370.0             95.0  \n",
      "22003          487.0              9.0  \n",
      "7316           420.0            119.0  \n",
      "5923           371.0             45.0  \n",
      "1804           282.0             95.0  \n",
      "6625           391.0            246.0  \n",
      "18327           73.0            108.0  \n",
      "18685          346.0            108.0  \n",
      "17173          409.0             90.0  \n",
      "10364          214.0           1391.0  \n",
      "23466          214.0            116.0  \n",
      "15456          214.0             95.0  \n",
      "\n",
      "[20 rows x 22 columns]\n"
     ]
    },
    {
     "data": {
      "image/png": "[encoded data removed]",
      "text/plain": [
       "<Figure size 432x288 with 1 Axes>"
      ]
     },
     "metadata": {
      "needs_background": "light"
     },
     "output_type": "display_data"
    }
   ],
   "source": [
    "print(data['parks_nearest'].describe())\n",
    "data.boxplot('parks_nearest')\n",
    "print(data.sort_values('parks_nearest', ascending = False).head(20))"
   ]
  },
  {
   "cell_type": "code",
   "execution_count": 16,
   "metadata": {},
   "outputs": [
    {
     "name": "stdout",
     "output_type": "stream",
     "text": [
      "count    23699.000000\n",
      "mean         0.823748\n",
      "std          0.827588\n",
      "min          0.000000\n",
      "25%          0.000000\n",
      "50%          1.000000\n",
      "75%          1.000000\n",
      "max          3.000000\n",
      "Name: ponds_around3000, dtype: float64\n",
      "       total_images  last_price  total_area first_day_exposition  rooms  \\\n",
      "11849             8     3700000       55.80           2017-03-03      3   \n",
      "1697             11     3550000       28.00           2018-02-08      1   \n",
      "12840            11     5650000       66.00           2015-11-18      2   \n",
      "12841             4     5150000       41.00           2017-05-04      1   \n",
      "1719             12     4200000       38.00           2018-02-12      1   \n",
      "12846             5     4300000       80.60           2016-04-07      3   \n",
      "12865            19    75000000      189.00           2017-12-14      4   \n",
      "12871            20     9100000       72.00           2018-09-15      3   \n",
      "12877            10     5700000       50.20           2018-01-22      1   \n",
      "12888             7     7600000       70.00           2016-11-18      3   \n",
      "1707             14     4600000       52.70           2017-12-27      2   \n",
      "12900            20    10800000       76.60           2018-08-22      2   \n",
      "12916             6    39990000       67.70           2015-06-25      3   \n",
      "12920             3     9800000       95.00           2015-11-20      2   \n",
      "12929             3    12000000       71.41           2017-11-14      2   \n",
      "12960            20     6140000       54.00           2018-10-09      2   \n",
      "1732             11     8250000       69.70           2017-07-05      3   \n",
      "12962             3     9847530       69.30           2015-10-02      2   \n",
      "12971            19   763000000      400.00           2017-09-30      7   \n",
      "12990            10     9300000       86.00           2017-12-16      4   \n",
      "\n",
      "       ceiling_height  floors_total  living_area  floor  is_apartment  ...  \\\n",
      "11849            2.65             5        41.10      1          True  ...   \n",
      "1697             2.65            34        18.00     23          True  ...   \n",
      "12840            2.65             4        35.90      2          True  ...   \n",
      "12841            2.65             6        17.00      2         False  ...   \n",
      "1719             2.70             4        17.00      3          True  ...   \n",
      "12846            3.55             3        48.80      2         False  ...   \n",
      "12865            4.00             6       116.00      3          True  ...   \n",
      "12871            3.00             6        43.00      5          True  ...   \n",
      "12877            2.75            10        25.60      2          True  ...   \n",
      "12888            2.70            35        36.50     27          True  ...   \n",
      "1707             3.00             5        37.10      2          True  ...   \n",
      "12900            4.00            17        60.00     11          True  ...   \n",
      "12916            3.10             7        42.90      6          True  ...   \n",
      "12920            2.65             6        52.00      2          True  ...   \n",
      "12929            2.65            20        40.32      6          True  ...   \n",
      "12960            2.70            35        26.60     13          True  ...   \n",
      "1732             3.00             5        48.40      1          True  ...   \n",
      "12962            2.73            20        33.63     10         False  ...   \n",
      "12971            2.65            10       250.00     10          True  ...   \n",
      "12990            3.50             6        63.50      5          True  ...   \n",
      "\n",
      "       kitchen_area  balcony    locality_name  airports_nearest  \\\n",
      "11849          5.30        0         Петергоф           37498.0   \n",
      "1697           9.10        0  Санкт-Петербург           18732.0   \n",
      "12840          6.20        0  Санкт-Петербург           23375.0   \n",
      "12841         15.00        0  Санкт-Петербург           20235.0   \n",
      "1719           9.00        1           Пушкин           14982.0   \n",
      "12846         10.30        0        Кронштадт           69410.0   \n",
      "12865         22.20        0  Санкт-Петербург           24703.0   \n",
      "12871         10.00        0  Санкт-Петербург           27144.0   \n",
      "12877         11.60        0       Сестрорецк           57413.0   \n",
      "12888         23.10        2  Санкт-Петербург           18732.0   \n",
      "1707           6.70        0  Санкт-Петербург           19547.0   \n",
      "12900         15.00        0  Санкт-Петербург           34939.0   \n",
      "12916          9.00        0  Санкт-Петербург           25685.0   \n",
      "12920          9.10        0  Санкт-Петербург           24703.0   \n",
      "12929         11.35        2  Санкт-Петербург           39140.0   \n",
      "12960         19.10        2  Санкт-Петербург           18732.0   \n",
      "1732           8.80        0  Санкт-Петербург           12126.0   \n",
      "12962         15.30        0  Санкт-Петербург           39140.0   \n",
      "12971          9.10        2  Санкт-Петербург           25108.0   \n",
      "12990         10.40        0  Санкт-Петербург           24772.0   \n",
      "\n",
      "      cityCenters_nearest  parks_around3000  parks_nearest  ponds_around3000  \\\n",
      "11849             32687.0               2.0          136.0               3.0   \n",
      "1697              20444.0               0.0          455.0               3.0   \n",
      "12840              2917.0               0.0          455.0               3.0   \n",
      "12841              2479.0               2.0          343.0               3.0   \n",
      "1719              27136.0               3.0          311.0               3.0   \n",
      "12846             51136.0               3.0          337.0               3.0   \n",
      "12865              2378.0               3.0          318.0               3.0   \n",
      "12871              7085.0               1.0          509.0               3.0   \n",
      "12877             34342.0               3.0          170.0               3.0   \n",
      "12888             20444.0               0.0          455.0               3.0   \n",
      "1707               3816.0               0.0          455.0               3.0   \n",
      "12900             10841.0               0.0          455.0               3.0   \n",
      "12916              2136.0               1.0           72.0               3.0   \n",
      "12920              2378.0               3.0          318.0               3.0   \n",
      "12929             10364.0               2.0          173.0               3.0   \n",
      "12960             20444.0               0.0          455.0               3.0   \n",
      "1732               8164.0               1.0          474.0               3.0   \n",
      "12962             10364.0               2.0          173.0               3.0   \n",
      "12971              3956.0               1.0          530.0               3.0   \n",
      "12990              4338.0               1.0          122.0               3.0   \n",
      "\n",
      "       ponds_nearest  days_exposition  \n",
      "11849          146.0            220.0  \n",
      "1697            80.0            410.0  \n",
      "12840          324.0            330.0  \n",
      "12841           65.0            481.0  \n",
      "1719           557.0            162.0  \n",
      "12846          167.0            173.0  \n",
      "12865          397.0             95.0  \n",
      "12871          340.0            110.0  \n",
      "12877          342.0             25.0  \n",
      "12888           80.0            413.0  \n",
      "1707           319.0            187.0  \n",
      "12900          616.0             95.0  \n",
      "12916          202.0             95.0  \n",
      "12920          397.0            484.0  \n",
      "12929          196.0             95.0  \n",
      "12960           80.0            155.0  \n",
      "1732           468.0            280.0  \n",
      "12962          196.0           1048.0  \n",
      "12971          756.0             33.0  \n",
      "12990           87.0            181.0  \n",
      "\n",
      "[20 rows x 22 columns]\n"
     ]
    },
    {
     "data": {
      "image/png": "[encoded data removed]",
      "text/plain": [
       "<Figure size 432x288 with 1 Axes>"
      ]
     },
     "metadata": {
      "needs_background": "light"
     },
     "output_type": "display_data"
    }
   ],
   "source": [
    "print(data['ponds_around3000'].describe())\n",
    "data.boxplot('ponds_around3000')\n",
    "print(data.sort_values('ponds_around3000', ascending = False).head(20))"
   ]
  },
  {
   "cell_type": "code",
   "execution_count": 17,
   "metadata": {},
   "outputs": [
    {
     "name": "stdout",
     "output_type": "stream",
     "text": [
      "count    23699.000000\n",
      "mean       479.210135\n",
      "std        174.886577\n",
      "min         13.000000\n",
      "25%        455.000000\n",
      "50%        455.000000\n",
      "75%        455.000000\n",
      "max       1344.000000\n",
      "Name: ponds_nearest, dtype: float64\n",
      "       total_images  last_price  total_area first_day_exposition  rooms  \\\n",
      "20726             7     3250000        35.0           2018-08-30      1   \n",
      "19138            20     4200000        39.9           2017-10-27      1   \n",
      "19924            20     4300000        64.7           2016-08-21      2   \n",
      "1476              4     6950000        66.7           2018-11-14      3   \n",
      "12054            16     8800000        89.0           2018-10-11      3   \n",
      "18396             4     3650000        40.0           2017-11-10      1   \n",
      "21454            15    20300000       130.0           2017-12-07      3   \n",
      "14927            14     4150000        44.4           2016-08-16      2   \n",
      "20509             4     3350000        44.0           2016-03-29      2   \n",
      "4122              0     7250000        79.0           2015-12-22      2   \n",
      "14184             0     3450000        38.0           2018-06-21      1   \n",
      "20825            11     3550000        38.1           2018-04-04      1   \n",
      "21395            20     3640000        39.0           2015-04-22      1   \n",
      "11847            12    25800000       185.8           2017-11-10      5   \n",
      "1375             19    10990000        86.0           2016-09-14      3   \n",
      "9021             16     7700000        61.0           2017-09-29      2   \n",
      "8008              9     6500000        54.0           2018-04-04      1   \n",
      "6212             15    17000000       100.0           2017-09-25      4   \n",
      "14658             7     4750000        63.0           2017-07-14      2   \n",
      "14316             8     4300000        37.2           2019-04-03      1   \n",
      "\n",
      "       ceiling_height  floors_total  living_area  floor  is_apartment  ...  \\\n",
      "20726            2.55             7         16.4      1          True  ...   \n",
      "19138            2.70             6         18.0      6          True  ...   \n",
      "19924            2.65             6         42.2      1          True  ...   \n",
      "1476             2.65             9         42.5      5          True  ...   \n",
      "12054            3.00             5         63.9      2          True  ...   \n",
      "18396            2.65            16         18.0     16          True  ...   \n",
      "21454            3.70             4         30.0      3          True  ...   \n",
      "14927            2.65             5         27.5      2          True  ...   \n",
      "20509            2.50             5         29.5      3          True  ...   \n",
      "4122             2.65             6         40.0      5         False  ...   \n",
      "14184            2.50            18         16.0     11          True  ...   \n",
      "20825            2.65            18         16.3     15          True  ...   \n",
      "21395            2.65            18         19.0      9          True  ...   \n",
      "11847            2.65             7        117.4      3          True  ...   \n",
      "1375             3.00             5         50.0      1          True  ...   \n",
      "9021             2.80            22         30.0     18          True  ...   \n",
      "8008             2.80            22         18.0     20          True  ...   \n",
      "6212             2.80            22         58.0      5          True  ...   \n",
      "14658            2.85             5         33.0      1          True  ...   \n",
      "14316            2.64             5         15.0      3          True  ...   \n",
      "\n",
      "       kitchen_area  balcony     locality_name  airports_nearest  \\\n",
      "20726           7.8        0  посёлок Стрельна           28377.0   \n",
      "19138          12.0        1  посёлок Стрельна           28317.0   \n",
      "19924           8.8        0  посёлок Стрельна           28317.0   \n",
      "1476            8.5        0   Санкт-Петербург           50988.0   \n",
      "12054           9.2        0   Санкт-Петербург           36488.0   \n",
      "18396          10.0        2   Санкт-Петербург           34966.0   \n",
      "21454           9.1        0   Санкт-Петербург           23655.0   \n",
      "14927           7.1        1   Санкт-Петербург           35809.0   \n",
      "20509           7.0        0   Санкт-Петербург           35809.0   \n",
      "4122           12.0        2  посёлок Стрельна           28195.0   \n",
      "14184          14.0        0   Санкт-Петербург           42462.0   \n",
      "20825          13.7        0   Санкт-Петербург           42462.0   \n",
      "21395          10.0        1   Санкт-Петербург           42462.0   \n",
      "11847          19.2        0   Санкт-Петербург           24123.0   \n",
      "1375           19.0        0   Санкт-Петербург           39905.0   \n",
      "9021           11.4        2   Санкт-Петербург           15248.0   \n",
      "8008           19.0        2   Санкт-Петербург           15248.0   \n",
      "6212           12.5        0   Санкт-Петербург           15248.0   \n",
      "14658          14.7        0   Санкт-Петербург           47156.0   \n",
      "14316          13.0        0   Санкт-Петербург           47156.0   \n",
      "\n",
      "      cityCenters_nearest  parks_around3000  parks_nearest  ponds_around3000  \\\n",
      "20726             23562.0               1.0         1073.0               1.0   \n",
      "19138             23506.0               1.0         1069.0               1.0   \n",
      "19924             23506.0               1.0         1069.0               1.0   \n",
      "1476              16316.0               0.0          455.0               1.0   \n",
      "12054              9283.0               0.0          455.0               1.0   \n",
      "18396             14103.0               0.0          455.0               1.0   \n",
      "21454              4148.0               1.0          660.0               1.0   \n",
      "14927             10716.0               0.0          455.0               1.0   \n",
      "20509             10716.0               0.0          455.0               1.0   \n",
      "4122              23384.0               1.0          979.0               1.0   \n",
      "14184             21778.0               0.0          455.0               1.0   \n",
      "20825             21778.0               0.0          455.0               1.0   \n",
      "21395             21778.0               0.0          455.0               1.0   \n",
      "11847              4386.0               0.0          455.0               1.0   \n",
      "1375              15189.0               0.0          455.0               1.0   \n",
      "9021              13357.0               0.0          455.0               1.0   \n",
      "8008              13357.0               0.0          455.0               1.0   \n",
      "6212              13357.0               0.0          455.0               1.0   \n",
      "14658             25503.0               1.0          306.0               1.0   \n",
      "14316             25503.0               1.0          306.0               1.0   \n",
      "\n",
      "       ponds_nearest  days_exposition  \n",
      "20726         1344.0             81.0  \n",
      "19138         1341.0            524.0  \n",
      "19924         1341.0            544.0  \n",
      "1476          1337.0             89.0  \n",
      "12054         1313.0            152.0  \n",
      "18396         1299.0              5.0  \n",
      "21454         1293.0             90.0  \n",
      "14927         1278.0            982.0  \n",
      "20509         1278.0            461.0  \n",
      "4122          1275.0            260.0  \n",
      "14184         1271.0             54.0  \n",
      "20825         1271.0            100.0  \n",
      "21395         1271.0             95.0  \n",
      "11847         1270.0             90.0  \n",
      "1375          1268.0            918.0  \n",
      "9021          1258.0            324.0  \n",
      "8008          1258.0             14.0  \n",
      "6212          1258.0            191.0  \n",
      "14658         1255.0            275.0  \n",
      "14316         1255.0              6.0  \n",
      "\n",
      "[20 rows x 22 columns]\n"
     ]
    },
    {
     "data": {
      "image/png": "[encoded data removed]",
      "text/plain": [
       "<Figure size 432x288 with 1 Axes>"
      ]
     },
     "metadata": {
      "needs_background": "light"
     },
     "output_type": "display_data"
    }
   ],
   "source": [
    "print(data['ponds_nearest'].describe())\n",
    "data.boxplot('ponds_nearest')\n",
    "print(data.sort_values('ponds_nearest', ascending = False).head(20))"
   ]
  },
  {
   "cell_type": "code",
   "execution_count": 18,
   "metadata": {},
   "outputs": [
    {
     "name": "stdout",
     "output_type": "stream",
     "text": [
      "count    23699.000000\n",
      "mean         2.070636\n",
      "std          1.078405\n",
      "min          0.000000\n",
      "25%          1.000000\n",
      "50%          2.000000\n",
      "75%          3.000000\n",
      "max         19.000000\n",
      "Name: rooms, dtype: float64\n",
      "       total_images  last_price  total_area first_day_exposition  rooms  \\\n",
      "14498             6    32250000       374.6           2018-06-09     19   \n",
      "18848             6    28500000       270.0           2015-03-02     16   \n",
      "5358             20    65000000       590.0           2019-02-14     15   \n",
      "20829             6    28659000       245.4           2016-03-31     14   \n",
      "866               5    25000000       363.0           2017-12-23     14   \n",
      "19540             8   420000000       900.0           2017-12-06     12   \n",
      "9688              8    33000000       194.1           2017-02-07     11   \n",
      "648               3    17500000       183.7           2018-07-01     11   \n",
      "18119             4    15500000       216.1           2016-07-04     10   \n",
      "4149              6    23000000       272.6           2018-01-11     10   \n",
      "18891            11    40000000       290.0           2016-06-21     10   \n",
      "13397            14    19500000       309.7           2016-02-03      9   \n",
      "20791             0    24000000       250.0           2019-04-23      9   \n",
      "9550             10    23500000       313.0           2017-02-13      9   \n",
      "8822             14    49968900       398.0           2017-07-12      9   \n",
      "8860             12    17000000       235.0           2018-07-14      9   \n",
      "13019             0    22250000       249.9           2019-04-23      9   \n",
      "15151            15    88000000       400.0           2019-03-27      9   \n",
      "16915            14    29000000       292.2           2017-01-12      9   \n",
      "18945             4    15800000       236.4           2015-02-19      8   \n",
      "\n",
      "       ceiling_height  floors_total  living_area  floor  is_apartment  ...  \\\n",
      "14498            2.65             5        264.5      2          True  ...   \n",
      "18848            3.00             4        180.0      4          True  ...   \n",
      "5358             3.50             6        409.0      3          True  ...   \n",
      "20829            2.65             4        168.3      2          True  ...   \n",
      "866              3.16             5        222.0      4          True  ...   \n",
      "19540            2.80            25        409.7     25          True  ...   \n",
      "9688             3.43             5        129.0      2          True  ...   \n",
      "648              3.40             7        138.8      7          True  ...   \n",
      "18119            3.15             5        161.4      2          True  ...   \n",
      "4149             3.14             7        145.9      7          True  ...   \n",
      "18891            3.50             6        189.4      6          True  ...   \n",
      "13397            2.65             5        199.0      5          True  ...   \n",
      "20791            3.20             5        160.6      3          True  ...   \n",
      "9550             3.20             6        179.2      5          True  ...   \n",
      "8822             3.00             2        160.1      1         False  ...   \n",
      "8860             3.00             6         30.0      3          True  ...   \n",
      "13019            3.20             5        157.0      5          True  ...   \n",
      "15151            2.50             2        250.0      1          True  ...   \n",
      "16915            3.35             5        225.9      4          True  ...   \n",
      "18945            2.65             6        176.6      6          True  ...   \n",
      "\n",
      "       kitchen_area  balcony    locality_name  airports_nearest  \\\n",
      "14498          27.6        0  Санкт-Петербург           19497.0   \n",
      "18848          13.0        1  Санкт-Петербург           23575.0   \n",
      "5358          100.0        0  Санкт-Петербург           24447.0   \n",
      "20829          25.9        0  Санкт-Петербург           21104.0   \n",
      "866            16.6        0  Санкт-Петербург           38076.0   \n",
      "19540         112.0        0  Санкт-Петербург           30706.0   \n",
      "9688           11.9        0  Санкт-Петербург           21469.0   \n",
      "648            13.3        0  Санкт-Петербург           23606.0   \n",
      "18119          19.8        0  Санкт-Петербург           24353.0   \n",
      "4149           18.8        1  Санкт-Петербург           10726.0   \n",
      "18891          30.0        1  Санкт-Петербург           26229.0   \n",
      "13397          14.3        0  Санкт-Петербург           10328.0   \n",
      "20791          11.7        0  Санкт-Петербург           10328.0   \n",
      "9550           13.2        0  Санкт-Петербург           38435.0   \n",
      "8822           41.0        0  Санкт-Петербург           17720.0   \n",
      "8860            9.1        0  Санкт-Петербург           24466.0   \n",
      "13019          12.4        0  Санкт-Петербург           10328.0   \n",
      "15151          50.0        0  Санкт-Петербург           24395.0   \n",
      "16915          32.9        1  Санкт-Петербург           24892.0   \n",
      "18945          22.6        0  Санкт-Петербург           20221.0   \n",
      "\n",
      "      cityCenters_nearest  parks_around3000  parks_nearest  ponds_around3000  \\\n",
      "14498              3574.0               0.0          455.0               2.0   \n",
      "18848              4142.0               1.0          516.0               0.0   \n",
      "5358               4666.0               1.0          767.0               0.0   \n",
      "20829              2054.0               3.0          541.0               2.0   \n",
      "866                7950.0               0.0          455.0               2.0   \n",
      "19540              7877.0               0.0          455.0               2.0   \n",
      "9688               1015.0               1.0          686.0               2.0   \n",
      "648                3148.0               0.0          455.0               0.0   \n",
      "18119              4921.0               1.0          368.0               0.0   \n",
      "4149              12169.0               1.0          191.0               1.0   \n",
      "18891              4932.0               3.0          316.0               1.0   \n",
      "13397              9987.0               2.0          352.0               0.0   \n",
      "20791              9987.0               2.0          352.0               0.0   \n",
      "9550              10138.0               1.0          146.0               0.0   \n",
      "8822              16722.0               3.0          471.0               2.0   \n",
      "8860               5034.0               1.0          346.0               0.0   \n",
      "13019              9987.0               2.0          352.0               0.0   \n",
      "15151              2725.0               2.0          315.0               1.0   \n",
      "16915              5162.0               2.0          263.0               0.0   \n",
      "18945              1802.0               3.0          571.0               3.0   \n",
      "\n",
      "       ponds_nearest  days_exposition  \n",
      "14498          548.0            114.0  \n",
      "18848          455.0           1365.0  \n",
      "5358           455.0             14.0  \n",
      "20829          118.0             95.0  \n",
      "866            435.0            418.0  \n",
      "19540          318.0            106.0  \n",
      "9688            66.0            813.0  \n",
      "648            455.0             95.0  \n",
      "18119          455.0             11.0  \n",
      "4149           531.0             95.0  \n",
      "18891          227.0             77.0  \n",
      "13397          455.0            468.0  \n",
      "20791          455.0             95.0  \n",
      "9550           455.0             95.0  \n",
      "8822           440.0            471.0  \n",
      "8860           455.0             90.0  \n",
      "13019          455.0             95.0  \n",
      "15151          578.0             95.0  \n",
      "16915          455.0            825.0  \n",
      "18945          441.0            921.0  \n",
      "\n",
      "[20 rows x 22 columns]\n",
      "       total_images  last_price  total_area first_day_exposition  rooms  \\\n",
      "14740            11     5490000       104.6           2018-02-06      4   \n",
      "2151              1     5430000        93.5           2016-01-23      4   \n",
      "9162             15    14800000       141.4           2017-11-10      4   \n",
      "6269              7    14900000       132.0           2015-12-25      4   \n",
      "21424            13    21000000       118.9           2017-11-27      4   \n",
      "4217             16     3700000        48.7           2017-11-07      4   \n",
      "12274            16     4600000        50.0           2018-06-21      4   \n",
      "12273             6     5850000        83.2           2017-10-10      4   \n",
      "21433            14     5800000        74.0           2017-10-20      4   \n",
      "21434            20     8865000       104.5           2018-05-17      4   \n",
      "\n",
      "       ceiling_height  floors_total  living_area  floor  is_apartment  ...  \\\n",
      "14740            2.55             5         43.6      5          True  ...   \n",
      "2151             2.65            19         63.1     18         False  ...   \n",
      "9162             2.65            16         82.8      3          True  ...   \n",
      "6269             4.00             5         90.0      2         False  ...   \n",
      "21424            3.40             6         82.4      2          True  ...   \n",
      "4217             2.50             5         36.9      4          True  ...   \n",
      "12274            2.65             5         37.4      4          True  ...   \n",
      "12273            2.65             5         51.6      2         False  ...   \n",
      "21433            2.65             9         54.0      1          True  ...   \n",
      "21434            3.00             5         72.2      3          True  ...   \n",
      "\n",
      "       kitchen_area  balcony    locality_name  airports_nearest  \\\n",
      "14740           9.4        2        Ломоносов           48599.0   \n",
      "2151           12.6        0  Санкт-Петербург           42114.0   \n",
      "9162           17.0        2  Санкт-Петербург           35265.0   \n",
      "6269           11.0        1  Санкт-Петербург           21643.0   \n",
      "21424          11.5        0  Санкт-Петербург           26248.0   \n",
      "4217            5.3        0  Санкт-Петербург           12488.0   \n",
      "12274           6.0        0  Санкт-Петербург           10923.0   \n",
      "12273          12.1        0  Санкт-Петербург           31088.0   \n",
      "21433           7.0        0  Санкт-Петербург           19166.0   \n",
      "21434           9.4        0  Санкт-Петербург           43263.0   \n",
      "\n",
      "      cityCenters_nearest  parks_around3000  parks_nearest  ponds_around3000  \\\n",
      "14740             52024.0               0.0          455.0               0.0   \n",
      "2151              21430.0               0.0          455.0               1.0   \n",
      "9162              11242.0               0.0          455.0               0.0   \n",
      "6269               1200.0               1.0          527.0               2.0   \n",
      "21424              4950.0               3.0          330.0               1.0   \n",
      "4217              13028.0               1.0          283.0               1.0   \n",
      "12274             12863.0               0.0          455.0               0.0   \n",
      "12273              4273.0               1.0          420.0               1.0   \n",
      "21433             12730.0               0.0          455.0               0.0   \n",
      "21434              8390.0               2.0          566.0               0.0   \n",
      "\n",
      "       ponds_nearest  days_exposition  \n",
      "14740          455.0            365.0  \n",
      "2151           456.0            281.0  \n",
      "9162           455.0             89.0  \n",
      "6269           116.0            232.0  \n",
      "21424          181.0             13.0  \n",
      "4217           936.0             30.0  \n",
      "12274          455.0             70.0  \n",
      "12273          507.0            198.0  \n",
      "21433          455.0            379.0  \n",
      "21434          455.0            169.0  \n",
      "\n",
      "[10 rows x 22 columns]\n"
     ]
    },
    {
     "data": {
      "image/png": "[encoded data removed]",
      "text/plain": [
       "<Figure size 432x288 with 1 Axes>"
      ]
     },
     "metadata": {
      "needs_background": "light"
     },
     "output_type": "display_data"
    }
   ],
   "source": [
    "print(data['rooms'].describe())\n",
    "data.boxplot('rooms')\n",
    "print(data.sort_values('rooms', ascending = False).head(20))\n",
    "print(data.query('rooms < 5 and rooms > 0').sort_values('rooms', ascending = False).head(10))"
   ]
  },
  {
   "cell_type": "code",
   "execution_count": 19,
   "metadata": {},
   "outputs": [
    {
     "name": "stdout",
     "output_type": "stream",
     "text": [
      "count    23699.000000\n",
      "mean        60.348651\n",
      "std         35.654083\n",
      "min         12.000000\n",
      "25%         40.000000\n",
      "50%         52.000000\n",
      "75%         69.900000\n",
      "max        900.000000\n",
      "Name: total_area, dtype: float64\n",
      "       total_images  last_price  total_area first_day_exposition  rooms  \\\n",
      "19540             8   420000000      900.00           2017-12-06     12   \n",
      "12859            20   140000000      631.20           2019-04-09      7   \n",
      "3117             19   140000000      631.00           2019-03-30      7   \n",
      "15651            20   300000000      618.00           2017-12-18      7   \n",
      "5358             20    65000000      590.00           2019-02-14     15   \n",
      "4237              1    50000000      517.00           2017-10-14      7   \n",
      "8018             20    84000000      507.00           2015-12-17      5   \n",
      "5893              3   230000000      500.00           2017-05-31      6   \n",
      "15016             8   150000000      500.00           2016-01-13      4   \n",
      "12401            20    91500000      495.00           2017-06-19      7   \n",
      "9826              1    43185328      494.10           2017-05-12      1   \n",
      "22494             7    91075000      491.00           2017-05-27      5   \n",
      "6621             20    99000000      488.00           2017-04-09      5   \n",
      "660               3    49950000      483.90           2017-10-04      7   \n",
      "6221              8    34000000      470.30           2018-01-14      4   \n",
      "20273            12    20000000      460.80           2019-03-20      6   \n",
      "3676             12    28789000      441.98           2019-01-23      4   \n",
      "21955            19   130000000      431.00           2017-10-02      7   \n",
      "22131            14    27000000      422.20           2018-10-18      5   \n",
      "14991            19    45000000      413.50           2018-09-20      7   \n",
      "\n",
      "       ceiling_height  floors_total  living_area  floor  is_apartment  ...  \\\n",
      "19540            2.80            25        409.7     25          True  ...   \n",
      "12859            3.90             4        322.3      4          True  ...   \n",
      "3117             2.65             5         30.0      5          True  ...   \n",
      "15651            3.40             7        258.0      5          True  ...   \n",
      "5358             3.50             6        409.0      3          True  ...   \n",
      "4237             2.65             4        332.0      3          True  ...   \n",
      "8018             4.45             7        301.5      7          True  ...   \n",
      "5893             2.65             7         30.0      7          True  ...   \n",
      "15016            3.20             7         30.0      7          True  ...   \n",
      "12401            4.65             7        347.5      7          True  ...   \n",
      "9826             2.85            12         30.0      3          True  ...   \n",
      "22494            4.20             9        274.0      9          True  ...   \n",
      "6621             2.95            20        216.0     17          True  ...   \n",
      "660              3.20             6        312.5      4          True  ...   \n",
      "6221             2.65             3        248.7      3          True  ...   \n",
      "20273            3.10             3        279.6      1          True  ...   \n",
      "3676             2.65             6         30.0      6          True  ...   \n",
      "21955            3.70             8        220.0      5          True  ...   \n",
      "22131            2.70            13         30.0     11          True  ...   \n",
      "14991            2.65            20         74.2     18          True  ...   \n",
      "\n",
      "       kitchen_area  balcony    locality_name  airports_nearest  \\\n",
      "19540        112.00        0  Санкт-Петербург      30706.000000   \n",
      "12859         19.50        1  Санкт-Петербург      25707.000000   \n",
      "3117          60.00        0  Санкт-Петербург      25707.000000   \n",
      "15651         70.00        0  Санкт-Петербург      32440.000000   \n",
      "5358         100.00        0  Санкт-Петербург      24447.000000   \n",
      "4237          22.00        0  Санкт-Петербург      22835.000000   \n",
      "8018          45.50        1  Санкт-Петербург      28793.672193   \n",
      "5893          40.00        0  Санкт-Петербург      32440.000000   \n",
      "15016          9.10        0  Санкт-Петербург      33058.000000   \n",
      "12401         25.00        0  Санкт-Петербург      28793.672193   \n",
      "9826           9.10        0  Санкт-Петербург      28529.000000   \n",
      "22494         45.00        0  Санкт-Петербург      25525.000000   \n",
      "6621          50.00        0  Санкт-Петербург      27641.000000   \n",
      "660           26.40        0  Санкт-Петербург      23079.000000   \n",
      "6221          40.00        0  Санкт-Петербург      43756.000000   \n",
      "20273         55.50        0  Санкт-Петербург      43756.000000   \n",
      "3676          35.05        0  Санкт-Петербург      20552.000000   \n",
      "21955         20.00        5  Санкт-Петербург      28793.672193   \n",
      "22131          9.10        0  Санкт-Петербург      46625.000000   \n",
      "14991         13.90        0  Санкт-Петербург      18748.000000   \n",
      "\n",
      "      cityCenters_nearest  parks_around3000  parks_nearest  ponds_around3000  \\\n",
      "19540         7877.000000               0.0          455.0               2.0   \n",
      "12859         4972.000000               0.0          455.0               2.0   \n",
      "3117          4972.000000               0.0          455.0               2.0   \n",
      "15651         5297.000000               0.0          455.0               2.0   \n",
      "5358          4666.000000               1.0          767.0               0.0   \n",
      "4237          1847.000000               2.0          477.0               2.0   \n",
      "8018          5735.000000               2.0          110.0               0.0   \n",
      "5893          5297.000000               0.0          455.0               2.0   \n",
      "15016         6150.000000               3.0          209.0               3.0   \n",
      "12401         5735.000000               2.0          110.0               0.0   \n",
      "9826          6832.000000               1.0          592.0               0.0   \n",
      "22494         5845.000000               2.0          116.0               0.0   \n",
      "6621          4598.000000               1.0          646.0               1.0   \n",
      "660            945.000000               3.0          461.0               3.0   \n",
      "6221         15459.000000               1.0          852.0               3.0   \n",
      "20273        15459.000000               1.0          852.0               3.0   \n",
      "3676          5181.000000               0.0          455.0               0.0   \n",
      "21955        14191.277833               0.0          455.0               1.0   \n",
      "22131        16554.000000               0.0          455.0               0.0   \n",
      "14991         4341.000000               0.0          455.0               0.0   \n",
      "\n",
      "       ponds_nearest  days_exposition  \n",
      "19540          318.0            106.0  \n",
      "12859          210.0             95.0  \n",
      "3117           210.0             95.0  \n",
      "15651          198.0            111.0  \n",
      "5358           455.0             14.0  \n",
      "4237           540.0             95.0  \n",
      "8018           455.0           1078.0  \n",
      "5893           198.0             50.0  \n",
      "15016          531.0            303.0  \n",
      "12401          455.0             14.0  \n",
      "9826           455.0              5.0  \n",
      "22494          455.0            115.0  \n",
      "6621           368.0            351.0  \n",
      "660             22.0            391.0  \n",
      "6221           122.0            179.0  \n",
      "20273          122.0             21.0  \n",
      "3676           455.0             95.0  \n",
      "21955          455.0            161.0  \n",
      "22131          455.0             95.0  \n",
      "14991          455.0            182.0  \n",
      "\n",
      "[20 rows x 22 columns]\n",
      "       total_images  last_price  total_area first_day_exposition  rooms  \\\n",
      "177               3    21042018      154.90           2017-09-10      4   \n",
      "10132             2    16137000      154.76           2014-11-27      4   \n",
      "20020             8    23500000      154.70           2019-02-13      5   \n",
      "3545              6    13700000      154.40           2017-02-02      7   \n",
      "10763             4    13000000      154.10           2018-02-06      6   \n",
      "17534             6    21000000      154.00           2018-12-18      6   \n",
      "10412             4    11990000      154.00           2015-11-12      4   \n",
      "19267            20    74000000      153.60           2019-04-29      3   \n",
      "7045             17    18500000      153.30           2018-02-19      5   \n",
      "19438            15    40000000      153.30           2017-03-04      5   \n",
      "\n",
      "       ceiling_height  floors_total  living_area  floor  is_apartment  ...  \\\n",
      "177              3.30            16        89.11      3          True  ...   \n",
      "10132            2.70            20        67.81     20          True  ...   \n",
      "20020            3.15             5       112.00      4          True  ...   \n",
      "3545             3.70             5       117.40      5          True  ...   \n",
      "10763            2.65             5        30.00      2          True  ...   \n",
      "17534            3.51             5        99.10      1          True  ...   \n",
      "10412            3.00             5       102.00      3          True  ...   \n",
      "19267            3.30             8        56.00      6          True  ...   \n",
      "7045             3.30             5        85.10      4          True  ...   \n",
      "19438            3.20             7        95.10      4          True  ...   \n",
      "\n",
      "       kitchen_area  balcony    locality_name  airports_nearest  \\\n",
      "177           21.30        0  Санкт-Петербург      37434.000000   \n",
      "10132         32.55        0  Санкт-Петербург      18490.000000   \n",
      "20020         21.50        0  Санкт-Петербург      24431.000000   \n",
      "3545          17.40        0  Санкт-Петербург      25881.000000   \n",
      "10763          9.10        0  Санкт-Петербург      22861.000000   \n",
      "17534         24.70        0  Санкт-Петербург      20215.000000   \n",
      "10412         11.00        0  Санкт-Петербург      24783.000000   \n",
      "19267         50.00        0  Санкт-Петербург      28793.672193   \n",
      "7045          12.90        0  Санкт-Петербург      24015.000000   \n",
      "19438         20.70        0  Санкт-Петербург      22897.000000   \n",
      "\n",
      "      cityCenters_nearest  parks_around3000  parks_nearest  ponds_around3000  \\\n",
      "177           8460.000000               1.0          441.0               2.0   \n",
      "10132        17492.000000               0.0          455.0               2.0   \n",
      "20020         4263.000000               2.0          366.0               3.0   \n",
      "3545          4456.000000               1.0          480.0               0.0   \n",
      "10763         1806.000000               2.0          461.0               2.0   \n",
      "17534         1658.000000               3.0          328.0               3.0   \n",
      "10412         4350.000000               1.0          330.0               3.0   \n",
      "19267        14191.277833               0.0          455.0               1.0   \n",
      "7045          3847.000000               0.0          455.0               0.0   \n",
      "19438         4388.000000               0.0          455.0               1.0   \n",
      "\n",
      "       ponds_nearest  days_exposition  \n",
      "177            427.0            563.0  \n",
      "10132          113.0            573.0  \n",
      "20020          329.0             95.0  \n",
      "3545           455.0            727.0  \n",
      "10763          641.0             90.0  \n",
      "17534          132.0            116.0  \n",
      "10412          233.0            407.0  \n",
      "19267          455.0             95.0  \n",
      "7045           455.0            110.0  \n",
      "19438          735.0            292.0  \n",
      "\n",
      "[10 rows x 22 columns]\n"
     ]
    },
    {
     "data": {
      "image/png": "[encoded data removed]",
      "text/plain": [
       "<Figure size 432x288 with 1 Axes>"
      ]
     },
     "metadata": {
      "needs_background": "light"
     },
     "output_type": "display_data"
    }
   ],
   "source": [
    "print(data['total_area'].describe())\n",
    "data.boxplot('total_area')\n",
    "print(data.sort_values('total_area', ascending = False).head(20))\n",
    "print(data.query('total_area < 155 and total_area > 30').sort_values('total_area', ascending = False).head(10))"
   ]
  },
  {
   "cell_type": "code",
   "execution_count": 20,
   "metadata": {},
   "outputs": [
    {
     "name": "stdout",
     "output_type": "stream",
     "text": [
      "count    23699.000000\n",
      "mean         9.858475\n",
      "std          5.682529\n",
      "min          0.000000\n",
      "25%          6.000000\n",
      "50%          9.000000\n",
      "75%         14.000000\n",
      "max         50.000000\n",
      "Name: total_images, dtype: float64\n",
      "       total_images  last_price  total_area first_day_exposition  rooms  \\\n",
      "12667            50    20500000        76.0           2017-12-10      3   \n",
      "9778             50    11000000        87.0           2017-10-25      2   \n",
      "17396            50    14500000       119.7           2017-12-02      4   \n",
      "15157            42    17998000       138.6           2017-09-27      4   \n",
      "1058             39     1900000        63.0           2017-09-29      3   \n",
      "21199            37    11500000        65.7           2018-02-01      2   \n",
      "10523            35    17000000        90.0           2017-11-10      3   \n",
      "308              35     5700000        83.9           2018-02-01      3   \n",
      "99               32     9600000        90.0           2017-09-26      4   \n",
      "21076            32     8300000        84.7           2017-11-11      3   \n",
      "7393             32     8290000       113.2           2017-04-28      4   \n",
      "7938             32    17000000       150.0           2017-09-26      3   \n",
      "5349             31    11990000        92.5           2017-12-07      3   \n",
      "22517            31     9000000        82.6           2018-02-22      3   \n",
      "20280            30     8800000        97.0           2017-10-05      3   \n",
      "3455             30     3570000        38.3           2017-11-10      1   \n",
      "11359            29     9000000       107.0           2018-02-01      3   \n",
      "7899             29     5100000        61.6           2018-02-01      3   \n",
      "20465            29     2400000        36.0           2017-06-20      1   \n",
      "4692             28     8880000        71.0           2017-10-16      3   \n",
      "\n",
      "       ceiling_height  floors_total  living_area  floor  is_apartment  ...  \\\n",
      "12667            2.65            20         47.0     16          True  ...   \n",
      "9778             2.65            25         32.5     11          True  ...   \n",
      "17396            4.00             4         87.5      3          True  ...   \n",
      "15157            2.65            18         93.1     17          True  ...   \n",
      "1058             2.65             5         44.2      5          True  ...   \n",
      "21199            2.65            25         23.0     10          True  ...   \n",
      "10523            2.65            16         52.0      6          True  ...   \n",
      "308              2.60             5         51.8      2          True  ...   \n",
      "99               2.65             5         67.0      2          True  ...   \n",
      "21076            2.65            14         49.9      3          True  ...   \n",
      "7393             2.65             6         70.4      4          True  ...   \n",
      "7938             3.50             6         99.3      4          True  ...   \n",
      "5349             2.65            25         51.4     22          True  ...   \n",
      "22517            3.00             5         52.7      5          True  ...   \n",
      "20280            2.65            22         47.4      9          True  ...   \n",
      "3455             2.65            12         20.0      4          True  ...   \n",
      "11359            2.65             3         50.6      2          True  ...   \n",
      "7899             2.65             9         41.5      1          True  ...   \n",
      "20465            2.65             9         17.1      8          True  ...   \n",
      "4692             2.70            25         45.0     11          True  ...   \n",
      "\n",
      "       kitchen_area  balcony      locality_name  airports_nearest  \\\n",
      "12667          29.0        0    Санкт-Петербург      50812.000000   \n",
      "9778           31.0        5    Санкт-Петербург       9586.000000   \n",
      "17396          13.5        0    Санкт-Петербург      24375.000000   \n",
      "15157          16.0        2    Санкт-Петербург      34991.000000   \n",
      "1058            6.3        1  деревня Лопухинка      28793.672193   \n",
      "21199          21.0        2    Санкт-Петербург      10663.000000   \n",
      "10523          14.0        4    Санкт-Петербург      30215.000000   \n",
      "308             9.6        0       Красное Село      27245.000000   \n",
      "99              8.0        0    Санкт-Петербург      23277.000000   \n",
      "21076          11.3        2            Кудрово      28793.672193   \n",
      "7393           10.4        0    Санкт-Петербург      24177.000000   \n",
      "7938           16.0        0    Санкт-Петербург      24980.000000   \n",
      "5349           15.0        1    Санкт-Петербург      30546.000000   \n",
      "22517           9.0        0    Санкт-Петербург      28576.000000   \n",
      "20280          17.0        0    Санкт-Петербург      21928.000000   \n",
      "3455           10.0        0    Санкт-Петербург      15606.000000   \n",
      "11359          22.9        0       деревня Юкки      28793.672193   \n",
      "7899            7.0        0    Санкт-Петербург      18996.000000   \n",
      "20465           8.3        1            Гатчина      28793.672193   \n",
      "4692           15.0        2    Санкт-Петербург      46530.000000   \n",
      "\n",
      "      cityCenters_nearest  parks_around3000  parks_nearest  ponds_around3000  \\\n",
      "12667        16141.000000               0.0          455.0               0.0   \n",
      "9778         11649.000000               0.0          455.0               0.0   \n",
      "17396         2410.000000               1.0          551.0               2.0   \n",
      "15157        11920.000000               0.0          455.0               0.0   \n",
      "1058         14191.277833               0.0          455.0               1.0   \n",
      "21199        12738.000000               0.0          455.0               0.0   \n",
      "10523         6255.000000               0.0          455.0               1.0   \n",
      "308          30670.000000               0.0          455.0               0.0   \n",
      "99            2818.000000               0.0          455.0               0.0   \n",
      "21076        14191.277833               0.0          455.0               1.0   \n",
      "7393          2342.000000               2.0          356.0               3.0   \n",
      "7938          3555.000000               0.0          455.0               0.0   \n",
      "5349         11209.000000               1.0          433.0               1.0   \n",
      "22517         7121.000000               2.0           91.0               1.0   \n",
      "20280        17501.000000               0.0          455.0               1.0   \n",
      "3455         14402.000000               1.0          413.0               0.0   \n",
      "11359        14191.277833               0.0          455.0               1.0   \n",
      "7899         13062.000000               0.0          455.0               0.0   \n",
      "20465        14191.277833               0.0          455.0               1.0   \n",
      "4692         15541.000000               0.0          455.0               0.0   \n",
      "\n",
      "       ponds_nearest  days_exposition  \n",
      "12667          455.0              5.0  \n",
      "9778           455.0              3.0  \n",
      "17396          617.0            106.0  \n",
      "15157          455.0            172.0  \n",
      "1058           455.0            106.0  \n",
      "21199          455.0             64.0  \n",
      "10523          113.0             35.0  \n",
      "308            455.0             47.0  \n",
      "99             455.0            104.0  \n",
      "21076          455.0             60.0  \n",
      "7393           457.0            225.0  \n",
      "7938           455.0            165.0  \n",
      "5349           700.0             47.0  \n",
      "22517          691.0             95.0  \n",
      "20280          390.0             11.0  \n",
      "3455           455.0             74.0  \n",
      "11359          455.0             47.0  \n",
      "7899           455.0             47.0  \n",
      "20465          455.0            217.0  \n",
      "4692           455.0              9.0  \n",
      "\n",
      "[20 rows x 22 columns]\n",
      "       total_images  last_price  total_area first_day_exposition  rooms  \\\n",
      "6888             14     4000000        47.0           2017-11-09      2   \n",
      "15598            14     3750000        46.0           2017-10-22      2   \n",
      "15610            14     4300000        64.0           2018-02-20      3   \n",
      "7488             14     6700000        71.8           2019-02-20      3   \n",
      "7493             14     2950000        50.0           2019-03-03      2   \n",
      "7494             14     4450000        45.1           2019-02-04      2   \n",
      "7495             14     6900000        75.6           2017-12-05      2   \n",
      "7514             14     7800000        58.0           2018-03-06      2   \n",
      "7517             14     3450000        34.0           2017-03-28      1   \n",
      "1354             14     7300000        54.5           2018-08-20      2   \n",
      "\n",
      "       ceiling_height  floors_total  living_area  floor  is_apartment  ...  \\\n",
      "6888             2.65             9         30.5      1          True  ...   \n",
      "15598            2.56             9         28.0      7          True  ...   \n",
      "15610            2.65             5         38.0      3          True  ...   \n",
      "7488             2.60            10         43.6      5          True  ...   \n",
      "7493             2.55             5         30.0      4          True  ...   \n",
      "7494             2.50             9         28.2      5          True  ...   \n",
      "7495             3.00             5         41.9      4         False  ...   \n",
      "7514             2.65             4         41.0      3          True  ...   \n",
      "7517             2.65            26         11.0     24          True  ...   \n",
      "1354             2.65            16         38.0     12          True  ...   \n",
      "\n",
      "       kitchen_area  balcony                      locality_name  \\\n",
      "6888            7.0        2                            Колпино   \n",
      "15598           7.0        0                    Санкт-Петербург   \n",
      "15610           8.0        1  посёлок городского типа Форносово   \n",
      "7488            9.1        1                    Санкт-Петербург   \n",
      "7493            9.0        0                  поселок Романовка   \n",
      "7494            7.0        0                    Санкт-Петербург   \n",
      "7495           19.7        0                    Санкт-Петербург   \n",
      "7514            7.0        0                    Санкт-Петербург   \n",
      "7517           13.0        1                  посёлок Парголово   \n",
      "1354           19.0        2                    Санкт-Петербург   \n",
      "\n",
      "       airports_nearest cityCenters_nearest  parks_around3000  parks_nearest  \\\n",
      "6888       26535.000000        32321.000000               0.0          455.0   \n",
      "15598      32858.000000        12451.000000               0.0          455.0   \n",
      "15610      28793.672193        14191.277833               0.0          455.0   \n",
      "7488       20958.000000        22670.000000               0.0          455.0   \n",
      "7493       28793.672193        14191.277833               0.0          455.0   \n",
      "7494       33306.000000        11616.000000               0.0          455.0   \n",
      "7495       21537.000000         2803.000000               1.0          157.0   \n",
      "7514       24595.000000         5894.000000               0.0          455.0   \n",
      "7517       53115.000000        19292.000000               0.0          455.0   \n",
      "1354       51030.000000        14721.000000               0.0          455.0   \n",
      "\n",
      "       ponds_around3000  ponds_nearest  days_exposition  \n",
      "6888                0.0          455.0              3.0  \n",
      "15598               0.0          455.0             52.0  \n",
      "15610               1.0          455.0             95.0  \n",
      "7488                2.0          565.0             65.0  \n",
      "7493                1.0          455.0             95.0  \n",
      "7494                0.0          455.0             95.0  \n",
      "7495                1.0          870.0            121.0  \n",
      "7514                0.0          455.0            159.0  \n",
      "7517                0.0          455.0            336.0  \n",
      "1354                0.0          455.0             95.0  \n",
      "\n",
      "[10 rows x 22 columns]\n"
     ]
    },
    {
     "data": {
      "image/png": "[encoded data removed]",
      "text/plain": [
       "<Figure size 432x288 with 1 Axes>"
      ]
     },
     "metadata": {
      "needs_background": "light"
     },
     "output_type": "display_data"
    }
   ],
   "source": [
    "print(data['total_images'].describe())\n",
    "data.boxplot('total_images')\n",
    "print(data.sort_values('total_images', ascending = False).head(20))\n",
    "print(data.query('total_images < 15 and total_images > 0').sort_values('total_images', ascending = False).head(10))"
   ]
  },
  {
   "cell_type": "code",
   "execution_count": 21,
   "metadata": {},
   "outputs": [
    {
     "data": {
      "text/plain": [
       "array([  2.7 ,   2.65,   3.03,   2.5 ,   2.67,   2.56,   3.05,   2.75,\n",
       "         2.6 ,   2.9 ,   2.8 ,   2.55,   3.  ,   3.2 ,   2.61,   3.25,\n",
       "         3.45,   2.77,   2.85,   2.64,   2.57,   4.15,   3.5 ,   3.3 ,\n",
       "         2.71,   4.  ,   2.47,   2.73,   2.84,   3.1 ,   2.34,   3.4 ,\n",
       "         3.06,   2.72,   2.54,   2.51,   2.78,   2.76,  25.  ,   2.58,\n",
       "         3.7 ,   2.52,   5.2 ,   2.87,   2.66,   2.59,   2.  ,   2.45,\n",
       "         3.6 ,   2.92,   3.11,   3.13,   3.8 ,   3.15,   3.55,   3.16,\n",
       "         3.62,   3.12,   2.53,   2.74,   2.96,   2.46,   5.3 ,   5.  ,\n",
       "         2.79,   2.95,   4.06,   2.94,   3.82,   3.54,   3.53,   2.83,\n",
       "         4.7 ,   2.4 ,   3.38,   3.01,   5.6 ,   3.65,   3.9 ,   3.18,\n",
       "         3.35,   2.3 ,   3.57,   2.48,   2.62,   2.82,   3.98,   2.63,\n",
       "         3.83,   3.52,   3.95,   3.75,   2.88,   3.67,   3.87,   3.66,\n",
       "         3.85,   3.86,   4.19,   3.24,   4.8 ,   4.5 ,   4.2 ,   3.36,\n",
       "        32.  ,   3.08,   3.68,   3.07,   3.37,   3.09,   8.  ,   3.26,\n",
       "         3.34,   2.81,   3.44,   2.97,   3.14,   4.37,   2.68,   3.22,\n",
       "         3.27,  27.  ,   4.1 ,   2.93,   3.46,  24.  ,   3.47,   3.33,\n",
       "         3.63,   3.32,  26.  ,   1.2 ,   8.3 ,   2.98,   2.86,   3.17,\n",
       "         4.4 ,   3.28,   3.04,   4.45,   5.5 ,   3.84,   3.23,   3.02,\n",
       "         3.21,   3.43,   3.78,   4.3 ,   3.39,   2.69,   3.31,   4.65,\n",
       "         3.56,   2.2 ,   3.51,   3.93,   3.42,   2.99,   3.49,  14.  ,\n",
       "         4.14,   2.91,   3.88,   1.75,   4.25,   3.29,  20.  ,   2.25,\n",
       "         3.76,   3.69,   6.  ,  22.6 ,   2.89,   3.58,   5.8 ,  27.5 ,\n",
       "         2.49,   4.9 ,   3.48,  10.3 ,   1.  , 100.  ,   3.59])"
      ]
     },
     "execution_count": 21,
     "metadata": {},
     "output_type": "execute_result"
    }
   ],
   "source": [
    "data['ceiling_height'].unique()"
   ]
  },
  {
   "cell_type": "code",
   "execution_count": 22,
   "metadata": {},
   "outputs": [
    {
     "name": "stdout",
     "output_type": "stream",
     "text": [
      "0    3.2\n",
      "1    3.2\n",
      "2    3.2\n",
      "3    3.2\n",
      "4    3.2\n",
      "5    3.2\n",
      "6    3.2\n",
      "7    3.2\n",
      "8    3.2\n",
      "9    3.2\n",
      "Name: ceiling_height, dtype: float64\n"
     ]
    }
   ],
   "source": [
    "for i in data['ceiling_height']:\n",
    "    if i > 25:\n",
    "        data['ceiling_height'] = i / 10\n",
    "\n",
    "print(data['ceiling_height'].head(10))        "
   ]
  },
  {
   "cell_type": "markdown",
   "metadata": {},
   "source": [
    "Добавил проверку на высоту потолков"
   ]
  },
  {
   "cell_type": "code",
   "execution_count": 23,
   "metadata": {},
   "outputs": [
    {
     "name": "stdout",
     "output_type": "stream",
     "text": [
      "0\n"
     ]
    }
   ],
   "source": [
    "print(data.duplicated().sum()) "
   ]
  },
  {
   "cell_type": "markdown",
   "metadata": {},
   "source": [
    "В этом раделе я сделал предобработку данных: изучил пропущенные значения в столбцах, рассмотрел типы данных в каждом столбце, в некоторых столбцах тип данных был изменён, например в столбце с датой и временем. Далее я нашёл уникальные значения в столбце с названиями и устранил неявные дубликаты."
   ]
  },
  {
   "cell_type": "markdown",
   "metadata": {},
   "source": [
    "### Посчитайте и добавьте в таблицу новые столбцы"
   ]
  },
  {
   "cell_type": "code",
   "execution_count": 24,
   "metadata": {},
   "outputs": [],
   "source": [
    "data['price'] = data['last_price'] / data['total_area']\n",
    "data['day'] = pd.to_datetime(data['first_day_exposition']).dt.day\n",
    "data['month'] = pd.to_datetime(data['first_day_exposition']).dt.month\n",
    "data['year'] = pd.to_datetime(data['first_day_exposition']).dt.year\n",
    "data['distance'] = data['cityCenters_nearest'] / 1000\n",
    "data['distance'] = data['distance'].round()\n",
    "data['sr_km'] = data['last_price'] / data['distance']\n",
    "\n",
    "data.loc[data['floor'] == 1, 'floor_o'] = 'первый'\n",
    "data.loc[(data['floor'] == data['floors_total']) & (data['floor'] != 1), 'floor_o'] = 'последний'\n",
    "data.loc[data['floor_o'].isna(), 'floor_o'] = 'другой'"
   ]
  },
  {
   "cell_type": "markdown",
   "metadata": {},
   "source": [
    "### Проведите исследовательский анализ данных"
   ]
  },
  {
   "cell_type": "code",
   "execution_count": 25,
   "metadata": {},
   "outputs": [
    {
     "data": {
      "image/png": "[encoded data removed]",
      "text/plain": [
       "<Figure size 432x288 with 1 Axes>"
      ]
     },
     "metadata": {
      "needs_background": "light"
     },
     "output_type": "display_data"
    }
   ],
   "source": [
    "data['total_area'].hist(range=(0, 200))\n",
    "plt.show()"
   ]
  },
  {
   "cell_type": "code",
   "execution_count": 27,
   "metadata": {},
   "outputs": [
    {
     "data": {
      "image/png": "[encoded data removed]",
      "text/plain": [
       "<Figure size 432x288 with 1 Axes>"
      ]
     },
     "metadata": {
      "needs_background": "light"
     },
     "output_type": "display_data"
    }
   ],
   "source": [
    "data['living_area'].hist(range=(0, 200))\n",
    "plt.show()"
   ]
  },
  {
   "cell_type": "code",
   "execution_count": 28,
   "metadata": {},
   "outputs": [
    {
     "data": {
      "image/png": "[encoded data removed]",
      "text/plain": [
       "<Figure size 432x288 with 1 Axes>"
      ]
     },
     "metadata": {
      "needs_background": "light"
     },
     "output_type": "display_data"
    }
   ],
   "source": [
    "data['kitchen_area'].hist(range=(0, 60))\n",
    "plt.show()"
   ]
  },
  {
   "cell_type": "code",
   "execution_count": 29,
   "metadata": {},
   "outputs": [
    {
     "data": {
      "image/png": "[encoded data removed]",
      "text/plain": [
       "<Figure size 432x288 with 1 Axes>"
      ]
     },
     "metadata": {
      "needs_background": "light"
     },
     "output_type": "display_data"
    }
   ],
   "source": [
    "data['last_price'].hist(bins=10)\n",
    "plt.show()"
   ]
  },
  {
   "cell_type": "code",
   "execution_count": 30,
   "metadata": {},
   "outputs": [
    {
     "data": {
      "image/png": "[encoded data removed]",
      "text/plain": [
       "<Figure size 432x288 with 1 Axes>"
      ]
     },
     "metadata": {
      "needs_background": "light"
     },
     "output_type": "display_data"
    }
   ],
   "source": [
    "data['rooms'].hist(range=(0, 20))\n",
    "plt.show()"
   ]
  },
  {
   "cell_type": "code",
   "execution_count": 31,
   "metadata": {},
   "outputs": [
    {
     "data": {
      "image/png": "[encoded data removed]",
      "text/plain": [
       "<Figure size 432x288 with 1 Axes>"
      ]
     },
     "metadata": {
      "needs_background": "light"
     },
     "output_type": "display_data"
    }
   ],
   "source": [
    "data['ceiling_height'].hist(range=(0, 20))\n",
    "plt.show()"
   ]
  },
  {
   "cell_type": "code",
   "execution_count": 32,
   "metadata": {},
   "outputs": [
    {
     "data": {
      "image/png": "[encoded data removed]",
      "text/plain": [
       "<Figure size 432x288 with 1 Axes>"
      ]
     },
     "metadata": {
      "needs_background": "light"
     },
     "output_type": "display_data"
    }
   ],
   "source": [
    "data['floor'].hist()\n",
    "plt.show()"
   ]
  },
  {
   "cell_type": "code",
   "execution_count": 33,
   "metadata": {},
   "outputs": [
    {
     "data": {
      "image/png": "[encoded data removed]",
      "text/plain": [
       "<Figure size 432x288 with 1 Axes>"
      ]
     },
     "metadata": {
      "needs_background": "light"
     },
     "output_type": "display_data"
    }
   ],
   "source": [
    "data['floors_total'].hist()\n",
    "plt.show()"
   ]
  },
  {
   "cell_type": "code",
   "execution_count": 34,
   "metadata": {},
   "outputs": [
    {
     "data": {
      "image/png": "[encoded data removed]",
      "text/plain": [
       "<Figure size 432x288 with 1 Axes>"
      ]
     },
     "metadata": {
      "needs_background": "light"
     },
     "output_type": "display_data"
    }
   ],
   "source": [
    "data['cityCenters_nearest'].hist()\n",
    "plt.show()"
   ]
  },
  {
   "cell_type": "code",
   "execution_count": 35,
   "metadata": {},
   "outputs": [
    {
     "data": {
      "image/png": "[encoded data removed]",
      "text/plain": [
       "<Figure size 432x288 with 1 Axes>"
      ]
     },
     "metadata": {
      "needs_background": "light"
     },
     "output_type": "display_data"
    }
   ],
   "source": [
    "data['airports_nearest'].hist()\n",
    "plt.show()"
   ]
  },
  {
   "cell_type": "code",
   "execution_count": 36,
   "metadata": {},
   "outputs": [
    {
     "data": {
      "image/png": "[encoded data removed]",
      "text/plain": [
       "<Figure size 432x288 with 1 Axes>"
      ]
     },
     "metadata": {
      "needs_background": "light"
     },
     "output_type": "display_data"
    }
   ],
   "source": [
    "data['parks_nearest'].hist()\n",
    "plt.show()"
   ]
  },
  {
   "cell_type": "code",
   "execution_count": 37,
   "metadata": {},
   "outputs": [
    {
     "data": {
      "image/png": "[encoded data removed]",
      "text/plain": [
       "<Figure size 432x288 with 1 Axes>"
      ]
     },
     "metadata": {
      "needs_background": "light"
     },
     "output_type": "display_data"
    }
   ],
   "source": [
    "data['day'].hist(bins=31, range=(0, 31))\n",
    "plt.show()"
   ]
  },
  {
   "cell_type": "code",
   "execution_count": 37,
   "metadata": {},
   "outputs": [
    {
     "data": {
      "image/png": "[encoded data removed]",
      "text/plain": [
       "<Figure size 432x288 with 1 Axes>"
      ]
     },
     "metadata": {
      "needs_background": "light"
     },
     "output_type": "display_data"
    }
   ],
   "source": [
    "data['month'].hist(bins=13, range=(0, 12))\n",
    "plt.show()"
   ]
  },
  {
   "cell_type": "code",
   "execution_count": 38,
   "metadata": {},
   "outputs": [
    {
     "data": {
      "image/png": "[encoded data removed]",
      "text/plain": [
       "<Figure size 432x288 with 1 Axes>"
      ]
     },
     "metadata": {
      "needs_background": "light"
     },
     "output_type": "display_data"
    }
   ],
   "source": [
    "data['floor_o'].hist()\n",
    "plt.show()"
   ]
  },
  {
   "cell_type": "code",
   "execution_count": 39,
   "metadata": {},
   "outputs": [
    {
     "data": {
      "text/plain": [
       "count    23699.000000\n",
       "mean       169.360226\n",
       "std        206.535633\n",
       "min          1.000000\n",
       "25%         45.000000\n",
       "50%         95.000000\n",
       "75%        199.000000\n",
       "max       1580.000000\n",
       "Name: days_exposition, dtype: float64"
      ]
     },
     "execution_count": 39,
     "metadata": {},
     "output_type": "execute_result"
    }
   ],
   "source": [
    "data['days_exposition'].describe()"
   ]
  },
  {
   "cell_type": "markdown",
   "metadata": {},
   "source": [
    "#Опишите все ваши наблюдения\n",
    "#Cудя по гистрамме общей площади квартиры, можно сделать вывод, что больше половины квартир имеют площадь 50 кв м\n",
    "#По гистограмме жилой площади можно заметить, что большинство квартир имеют жилую площадь от 25 до 50 кв м \n",
    "#Самая распространённая площадь кухонь в датасете - 10 кв м\n",
    "#Cамая распространённая высота потолков - 2,5 м\n",
    "#Квартиры в массе своей продаются на нижних этажах, возможно это потому, что квартиры продающиеся на нижних этажах дешевее, чем на верхнем, от этого высок спрос на квартиры, расположенные на нижних этажах    \n",
    "#большинство зданий, в которых продаются квартиры по этажности не превышают 20 этажей, можно увидеть зависимость - чем больше этажей в здании, тем меньше таких зданий  \n",
    "#Большиство продаваемых квартир продавались в пределах до 20 км от центра города, это может говорить о том, что Большиство продаваемых квартир находится в санкт-петербурге\n",
    "#Большиство продаваемых квартир имеют в пешей доступности парки - 500 м\n",
    "\n",
    "#Чаще всего продажа квартиры занимала до 200 дней"
   ]
  },
  {
   "cell_type": "code",
   "execution_count": 40,
   "metadata": {},
   "outputs": [
    {
     "name": "stdout",
     "output_type": "stream",
     "text": [
      "Медиана = 95.0\n",
      "Среднее = 169.36022616988058\n"
     ]
    },
    {
     "data": {
      "text/plain": [
       "<AxesSubplot:>"
      ]
     },
     "execution_count": 40,
     "metadata": {},
     "output_type": "execute_result"
    },
    {
     "data": {
      "image/png": "[encoded data removed]",
      "text/plain": [
       "<Figure size 432x288 with 1 Axes>"
      ]
     },
     "metadata": {
      "needs_background": "light"
     },
     "output_type": "display_data"
    }
   ],
   "source": [
    "days_med = data['days_exposition'].median()\n",
    "days_mean = data['days_exposition'].mean()\n",
    "print('Медиана =', days_med)\n",
    "print('Среднее =', days_mean)\n",
    "\n",
    "data['days_exposition'].hist()"
   ]
  },
  {
   "cell_type": "code",
   "execution_count": 41,
   "metadata": {},
   "outputs": [
    {
     "name": "stdout",
     "output_type": "stream",
     "text": [
      "              last_price\n",
      "total_area              \n",
      "30.10       2.461450e+06\n",
      "30.11       2.500000e+06\n",
      "30.12       3.405000e+06\n",
      "30.20       2.686353e+06\n",
      "30.26       2.930000e+06\n",
      "30.30       2.887174e+06\n",
      "30.34       2.800000e+06\n",
      "30.35       3.200000e+06\n",
      "30.40       2.650792e+06\n",
      "30.43       3.100000e+06\n",
      "30.50       2.821853e+06\n",
      "30.53       3.000000e+06\n",
      "30.60       2.845870e+06\n",
      "30.61       3.000000e+06\n",
      "30.64       2.595358e+06\n",
      "-------------\n",
      "0.6536750579657242\n"
     ]
    },
    {
     "data": {
      "image/png": "[encoded data removed]",
      "text/plain": [
       "<Figure size 432x288 with 1 Axes>"
      ]
     },
     "metadata": {
      "needs_background": "light"
     },
     "output_type": "display_data"
    }
   ],
   "source": [
    "new_table_a = data.query('total_area < 155 and total_area > 30').pivot_table(index='total_area', values = 'last_price')\n",
    "print(new_table_a.head(15))\n",
    "data.plot(x='total_area', y='last_price', kind='scatter', grid=True)\n",
    "\n",
    "print('-------------')\n",
    "print(data['total_area'].corr(data['last_price']))"
   ]
  },
  {
   "cell_type": "markdown",
   "metadata": {},
   "source": [
    "Зависимость между общей площадью и ценой квартиры достаточно высока и равна 0,65"
   ]
  },
  {
   "cell_type": "code",
   "execution_count": 42,
   "metadata": {},
   "outputs": [
    {
     "name": "stdout",
     "output_type": "stream",
     "text": [
      "               last_price\n",
      "living_area              \n",
      "25.100000    1.462500e+07\n",
      "25.200000    4.457556e+06\n",
      "25.300000    4.399311e+06\n",
      "25.380000    4.540000e+06\n",
      "25.400000    4.541111e+06\n",
      "25.410000    3.950000e+06\n",
      "25.440000    1.509300e+07\n",
      "25.500000    4.850474e+06\n",
      "25.600000    5.851111e+06\n",
      "25.700000    3.526556e+06\n",
      "25.800000    3.368842e+06\n",
      "25.810000    4.600000e+06\n",
      "25.900000    3.766250e+06\n",
      "25.900002    2.401200e+06\n",
      "25.950000    4.128115e+06\n",
      "-------------\n",
      "0.5406588415034878\n"
     ]
    },
    {
     "data": {
      "image/png": "[encoded data removed]",
      "text/plain": [
       "<Figure size 432x288 with 1 Axes>"
      ]
     },
     "metadata": {
      "needs_background": "light"
     },
     "output_type": "display_data"
    }
   ],
   "source": [
    "new_table_b = data.query('living_area < 150 and living_area > 25').pivot_table(index='living_area', values = 'last_price')\n",
    "print(new_table_b.head(15))\n",
    "data.plot(x='living_area', y='last_price', kind='scatter', grid=True)\n",
    "\n",
    "print('-------------')\n",
    "print(data['living_area'].corr(data['last_price']))"
   ]
  },
  {
   "cell_type": "markdown",
   "metadata": {},
   "source": [
    "Корреляция равна 0,54. Это значит, что зависимость между данными есть, но она небольшая."
   ]
  },
  {
   "cell_type": "code",
   "execution_count": 43,
   "metadata": {},
   "outputs": [
    {
     "name": "stdout",
     "output_type": "stream",
     "text": [
      "                last_price\n",
      "kitchen_area              \n",
      "3.2           6.000000e+06\n",
      "3.3           3.900000e+06\n",
      "3.4           3.700000e+06\n",
      "3.5           4.431250e+06\n",
      "3.7           1.494800e+07\n",
      "3.8           2.663333e+06\n",
      "4.0           3.334760e+06\n",
      "4.1           3.336667e+06\n",
      "4.2           2.762667e+06\n",
      "4.3           2.400000e+06\n",
      "4.4           1.800000e+06\n",
      "4.5           2.980000e+06\n",
      "4.6           2.252500e+06\n",
      "4.7           2.525000e+06\n",
      "4.8           3.381818e+06\n",
      "-------------\n",
      "0.44031561243446554\n"
     ]
    },
    {
     "data": {
      "image/png": "[encoded data removed]",
      "text/plain": [
       "<Figure size 432x288 with 1 Axes>"
      ]
     },
     "metadata": {
      "needs_background": "light"
     },
     "output_type": "display_data"
    }
   ],
   "source": [
    "new_table_c = data.query('kitchen_area < 25 and kitchen_area > 3').pivot_table(index='kitchen_area', values = 'last_price')\n",
    "print(new_table_c.head(15))\n",
    "data.plot(x='kitchen_area', y='last_price', kind='scatter', grid=True)\n",
    "\n",
    "print('-------------')\n",
    "print(data['kitchen_area'].corr(data['last_price']))"
   ]
  },
  {
   "cell_type": "markdown",
   "metadata": {},
   "source": [
    "Корреляция равна 0,44. Это значит, что зависимость между данными есть, но она небольшая."
   ]
  },
  {
   "cell_type": "code",
   "execution_count": 44,
   "metadata": {},
   "outputs": [
    {
     "name": "stdout",
     "output_type": "stream",
     "text": [
      "         last_price\n",
      "rooms              \n",
      "1      3.835362e+06\n",
      "2      5.591605e+06\n",
      "3      8.179119e+06\n",
      "4      1.342350e+07\n"
     ]
    },
    {
     "data": {
      "text/plain": [
       "<AxesSubplot:xlabel='rooms', ylabel='last_price'>"
      ]
     },
     "execution_count": 44,
     "metadata": {},
     "output_type": "execute_result"
    },
    {
     "data": {
      "image/png": "[encoded data removed]",
      "text/plain": [
       "<Figure size 432x288 with 1 Axes>"
      ]
     },
     "metadata": {
      "needs_background": "light"
     },
     "output_type": "display_data"
    }
   ],
   "source": [
    "new_table_d = data.query('rooms < 5 and rooms > 0').pivot_table(index='rooms', values = 'last_price')\n",
    "print(new_table_d.head(15))\n",
    "data.plot(x='rooms', y='last_price', kind='scatter', grid=True)\n"
   ]
  },
  {
   "cell_type": "code",
   "execution_count": 45,
   "metadata": {},
   "outputs": [
    {
     "name": "stdout",
     "output_type": "stream",
     "text": [
      "         last_price\n",
      "floor              \n",
      "1      4.803560e+06\n",
      "2      6.162038e+06\n",
      "3      6.731822e+06\n",
      "4      7.136267e+06\n",
      "5      6.617043e+06\n",
      "6      7.547030e+06\n",
      "7      7.909067e+06\n",
      "8      6.824281e+06\n",
      "9      6.310004e+06\n",
      "10     7.674086e+06\n",
      "11     6.489882e+06\n",
      "12     6.692638e+06\n",
      "13     6.407637e+06\n",
      "14     6.218935e+06\n",
      "15     6.428969e+06\n"
     ]
    },
    {
     "data": {
      "text/plain": [
       "<AxesSubplot:xlabel='floor', ylabel='last_price'>"
      ]
     },
     "execution_count": 45,
     "metadata": {},
     "output_type": "execute_result"
    },
    {
     "data": {
      "image/png": "[encoded data removed]",
      "text/plain": [
       "<Figure size 432x288 with 1 Axes>"
      ]
     },
     "metadata": {
      "needs_background": "light"
     },
     "output_type": "display_data"
    }
   ],
   "source": [
    "new_table_e = data.pivot_table(index='floor', values = 'last_price')\n",
    "print(new_table_e.head(15))\n",
    "data.plot(x='floor', y='last_price', kind='scatter', grid=True)\n"
   ]
  },
  {
   "cell_type": "code",
   "execution_count": 46,
   "metadata": {},
   "outputs": [
    {
     "name": "stdout",
     "output_type": "stream",
     "text": [
      "                        last_price\n",
      "first_day_exposition              \n",
      "2014-11-27            1.396084e+07\n",
      "2014-11-29            5.500000e+06\n",
      "2014-12-04            3.960875e+06\n",
      "2014-12-05            1.300000e+06\n",
      "2014-12-08            6.978625e+06\n",
      "2014-12-09            1.892943e+07\n",
      "2014-12-10            9.319542e+06\n",
      "2014-12-11            1.495945e+07\n",
      "2014-12-12            7.475000e+06\n",
      "2014-12-13            6.500000e+06\n",
      "2014-12-14            5.957500e+06\n",
      "2014-12-15            8.441667e+06\n",
      "2014-12-16            6.800000e+06\n",
      "2014-12-17            1.200000e+07\n",
      "2014-12-18            7.500000e+06\n"
     ]
    },
    {
     "data": {
      "text/plain": [
       "<AxesSubplot:xlabel='first_day_exposition', ylabel='last_price'>"
      ]
     },
     "execution_count": 46,
     "metadata": {},
     "output_type": "execute_result"
    },
    {
     "data": {
      "image/png": "[encoded data removed]",
      "text/plain": [
       "<Figure size 432x288 with 1 Axes>"
      ]
     },
     "metadata": {
      "needs_background": "light"
     },
     "output_type": "display_data"
    }
   ],
   "source": [
    "new_table_f = data.pivot_table(index='first_day_exposition', values = 'last_price')\n",
    "print(new_table_f.head(15))\n",
    "data.plot(x='first_day_exposition', y='last_price', kind='scatter', grid=True)\n"
   ]
  },
  {
   "cell_type": "code",
   "execution_count": 47,
   "metadata": {},
   "outputs": [
    {
     "name": "stdout",
     "output_type": "stream",
     "text": [
      "             last_price\n",
      "floor_o                \n",
      "другой     6.675444e+06\n",
      "первый     4.803560e+06\n",
      "последний  7.361025e+06\n"
     ]
    },
    {
     "data": {
      "text/plain": [
       "<AxesSubplot:xlabel='floor_o', ylabel='last_price'>"
      ]
     },
     "execution_count": 47,
     "metadata": {},
     "output_type": "execute_result"
    },
    {
     "data": {
      "image/png": "[encoded data removed]",
      "text/plain": [
       "<Figure size 432x288 with 1 Axes>"
      ]
     },
     "metadata": {
      "needs_background": "light"
     },
     "output_type": "display_data"
    }
   ],
   "source": [
    "new_table_g = data.pivot_table(index='floor_o', values = 'last_price')\n",
    "print(new_table_g.head(15))\n",
    "data.plot(x='floor_o', y='last_price', kind='scatter', grid=True)"
   ]
  },
  {
   "cell_type": "code",
   "execution_count": 48,
   "metadata": {},
   "outputs": [
    {
     "name": "stdout",
     "output_type": "stream",
     "text": [
      "       last_price\n",
      "day              \n",
      "1    6.355796e+06\n",
      "2    6.369449e+06\n",
      "3    5.866715e+06\n",
      "4    7.250837e+06\n",
      "5    5.812075e+06\n",
      "6    6.208446e+06\n",
      "7    6.183733e+06\n",
      "8    6.029106e+06\n",
      "9    7.228031e+06\n",
      "10   7.268153e+06\n",
      "11   6.264008e+06\n",
      "12   6.734095e+06\n",
      "13   6.467086e+06\n",
      "14   6.148403e+06\n",
      "15   6.108656e+06\n"
     ]
    },
    {
     "data": {
      "text/plain": [
       "<AxesSubplot:xlabel='day', ylabel='last_price'>"
      ]
     },
     "execution_count": 48,
     "metadata": {},
     "output_type": "execute_result"
    },
    {
     "data": {
      "image/png": "[encoded data removed]",
      "text/plain": [
       "<Figure size 432x288 with 1 Axes>"
      ]
     },
     "metadata": {
      "needs_background": "light"
     },
     "output_type": "display_data"
    }
   ],
   "source": [
    "new_table_h = data.pivot_table(index='day', values = 'last_price')\n",
    "print(new_table_h.head(15))\n",
    "data.plot(x='day', y='last_price', kind='scatter', grid=True)\n"
   ]
  },
  {
   "cell_type": "code",
   "execution_count": 49,
   "metadata": {},
   "outputs": [
    {
     "name": "stdout",
     "output_type": "stream",
     "text": [
      "         last_price\n",
      "month              \n",
      "1      6.668233e+06\n",
      "2      6.468500e+06\n",
      "3      6.359275e+06\n",
      "4      6.737198e+06\n",
      "5      6.600435e+06\n",
      "6      6.310269e+06\n",
      "7      6.649337e+06\n",
      "8      6.350233e+06\n",
      "9      6.825470e+06\n",
      "10     6.235013e+06\n",
      "11     6.461363e+06\n",
      "12     7.011731e+06\n"
     ]
    },
    {
     "data": {
      "text/plain": [
       "<AxesSubplot:xlabel='month', ylabel='last_price'>"
      ]
     },
     "execution_count": 49,
     "metadata": {},
     "output_type": "execute_result"
    },
    {
     "data": {
      "image/png": "[encoded data removed]",
      "text/plain": [
       "<Figure size 432x288 with 1 Axes>"
      ]
     },
     "metadata": {
      "needs_background": "light"
     },
     "output_type": "display_data"
    }
   ],
   "source": [
    "new_table_i = data.pivot_table(index='month', values = 'last_price')\n",
    "print(new_table_i.head(15))\n",
    "data.plot(x='month', y='last_price', kind='scatter', grid=True)\n"
   ]
  },
  {
   "cell_type": "code",
   "execution_count": 50,
   "metadata": {},
   "outputs": [
    {
     "name": "stdout",
     "output_type": "stream",
     "text": [
      "        last_price\n",
      "year              \n",
      "2014  1.208714e+07\n",
      "2015  8.572833e+06\n",
      "2016  6.827912e+06\n",
      "2017  6.585729e+06\n",
      "2018  5.950966e+06\n",
      "2019  6.782388e+06\n"
     ]
    },
    {
     "data": {
      "text/plain": [
       "<AxesSubplot:xlabel='year', ylabel='last_price'>"
      ]
     },
     "execution_count": 50,
     "metadata": {},
     "output_type": "execute_result"
    },
    {
     "data": {
      "image/png": "[encoded data removed]",
      "text/plain": [
       "<Figure size 432x288 with 1 Axes>"
      ]
     },
     "metadata": {
      "needs_background": "light"
     },
     "output_type": "display_data"
    }
   ],
   "source": [
    "new_table_j = data.pivot_table(index='year', values = 'last_price')\n",
    "print(new_table_j.head(15))\n",
    "data.plot(x='year', y='last_price', kind='scatter', grid=True)\n"
   ]
  },
  {
   "cell_type": "code",
   "execution_count": 73,
   "metadata": {},
   "outputs": [
    {
     "name": "stdout",
     "output_type": "stream",
     "text": [
      "                   total_area  last_price\n",
      "locality_name                            \n",
      "Санкт-Петербург         15721   5500000.0\n",
      "Мурино                    590   3400000.0\n",
      "Кудрово                   472   3890000.0\n",
      "посёлок Шушары            440   3950000.0\n",
      "Всеволожск                398   3450000.0\n",
      "Пушкин                    369   5180000.0\n",
      "Колпино                   338   3600000.0\n",
      "посёлок Парголово         327   4100000.0\n",
      "Гатчина                   307   3100000.0\n",
      "Выборг                    237   2897000.0\n"
     ]
    }
   ],
   "source": [
    "data_new = data.groupby('locality_name').agg({'total_area':'count', 'last_price':'median'}).sort_values(by='total_area', ascending=False).head(10)\n",
    "print(data_new)"
   ]
  },
  {
   "cell_type": "code",
   "execution_count": 63,
   "metadata": {},
   "outputs": [
    {
     "name": "stdout",
     "output_type": "stream",
     "text": [
      "                distance\n",
      "sr_km                   \n",
      "1354.444444     9.000000\n",
      "83333.333333   27.000000\n",
      "84482.758621   29.000000\n",
      "87500.000000   16.000000\n",
      "90434.782609   23.000000\n",
      "91260.869565   23.000000\n",
      "94670.111111   18.000000\n",
      "96428.571429   14.000000\n",
      "96875.000000   16.000000\n",
      "97434.782609   23.000000\n",
      "100000.000000  20.666667\n",
      "102173.913043  23.000000\n",
      "102272.727273  22.000000\n",
      "104800.000000  25.000000\n",
      "107000.000000  24.000000\n"
     ]
    },
    {
     "data": {
      "text/plain": [
       "array([[<AxesSubplot:title={'center':'distance'}>]], dtype=object)"
      ]
     },
     "execution_count": 63,
     "metadata": {},
     "output_type": "execute_result"
    },
    {
     "data": {
      "image/png": "[encoded data removed]",
      "text/plain": [
       "<Figure size 432x288 with 1 Axes>"
      ]
     },
     "metadata": {
      "needs_background": "light"
     },
     "output_type": "display_data"
    }
   ],
   "source": [
    "new_table_u = data.query('locality_name == \"Санкт-Петербург\"').pivot_table(index='sr_km', values = 'distance')\n",
    "print(new_table_u.head(15))\n",
    "new_table_u.hist()"
   ]
  },
  {
   "cell_type": "markdown",
   "metadata": {},
   "source": [
    "### Общий вывод"
   ]
  },
  {
   "cell_type": "markdown",
   "metadata": {},
   "source": [
    "В данном проекте был проведён анализ продажи недвижимости в С-Пб и его пригородов. Были отредактиованы пропуски в некоторых столбцах, где-то вместо пропусков были медианные значения, где то нули. Далее были исправлены дубликаты в названиях нп. Судя по построенным гистограммам я могу сделать вывод, что большинство квартир продаются не больше чем через 200 дней, что говорит о высоком спросе людей на покупку недвижимости. Цена, судя по диаграммам рассеяности, зависит от общей площади квартиры, от жилой площади, от количества комнат и этажа зависимость слабая. Также, есть наблюдение, что в первой десятке по количеству объявлений находятся пригороды Санкт-Петербурга, а цена за 1 кв метр зависит от отдалённости квартиры от С-Пб, чем дальше от центра, тем дешевле квартира."
   ]
  }
 ],
 "metadata": {
  "ExecuteTimeLog": [
   {
    "duration": 800,
    "start_time": "2023-01-28T15:17:10.182Z"
   },
   {
    "duration": 92,
    "start_time": "2023-01-28T15:26:50.588Z"
   },
   {
    "duration": 111,
    "start_time": "2023-01-28T15:32:07.477Z"
   },
   {
    "duration": 2752,
    "start_time": "2023-01-29T10:31:22.371Z"
   },
   {
    "duration": 1972,
    "start_time": "2023-01-29T10:32:27.480Z"
   },
   {
    "duration": 1750,
    "start_time": "2023-01-29T10:33:17.656Z"
   },
   {
    "duration": 24,
    "start_time": "2023-01-29T10:36:58.461Z"
   },
   {
    "duration": 9,
    "start_time": "2023-01-29T10:37:19.046Z"
   },
   {
    "duration": 10,
    "start_time": "2023-01-29T11:26:32.999Z"
   },
   {
    "duration": 9,
    "start_time": "2023-01-29T11:26:34.918Z"
   },
   {
    "duration": 10,
    "start_time": "2023-01-29T11:27:24.792Z"
   },
   {
    "duration": 72,
    "start_time": "2023-01-29T11:45:03.572Z"
   },
   {
    "duration": 12,
    "start_time": "2023-01-29T11:45:09.666Z"
   },
   {
    "duration": 14,
    "start_time": "2023-01-29T11:45:10.986Z"
   },
   {
    "duration": 13,
    "start_time": "2023-01-29T11:45:12.053Z"
   },
   {
    "duration": 13,
    "start_time": "2023-01-29T11:45:52.335Z"
   },
   {
    "duration": 4,
    "start_time": "2023-01-29T11:46:57.041Z"
   },
   {
    "duration": 5,
    "start_time": "2023-01-29T11:47:31.351Z"
   },
   {
    "duration": 6,
    "start_time": "2023-01-29T11:49:04.475Z"
   },
   {
    "duration": 7,
    "start_time": "2023-01-29T11:49:23.114Z"
   },
   {
    "duration": 10,
    "start_time": "2023-01-29T11:52:51.917Z"
   },
   {
    "duration": 22,
    "start_time": "2023-01-29T11:58:39.743Z"
   },
   {
    "duration": 12,
    "start_time": "2023-01-29T12:00:21.333Z"
   },
   {
    "duration": 43,
    "start_time": "2023-01-29T12:53:44.393Z"
   },
   {
    "duration": 55,
    "start_time": "2023-01-29T13:32:21.254Z"
   },
   {
    "duration": 48,
    "start_time": "2023-01-29T13:32:32.568Z"
   },
   {
    "duration": 79,
    "start_time": "2023-01-29T14:44:05.403Z"
   },
   {
    "duration": 57,
    "start_time": "2023-01-29T14:58:22.077Z"
   },
   {
    "duration": 374,
    "start_time": "2023-01-29T14:58:46.967Z"
   },
   {
    "duration": 397,
    "start_time": "2023-01-29T15:02:18.586Z"
   },
   {
    "duration": 383,
    "start_time": "2023-01-29T15:07:18.335Z"
   },
   {
    "duration": 232,
    "start_time": "2023-01-29T15:09:19.990Z"
   },
   {
    "duration": 232,
    "start_time": "2023-01-29T15:12:00.577Z"
   },
   {
    "duration": 64,
    "start_time": "2023-01-29T15:13:54.403Z"
   },
   {
    "duration": 248,
    "start_time": "2023-01-29T15:21:27.920Z"
   },
   {
    "duration": 59,
    "start_time": "2023-01-29T15:21:59.642Z"
   },
   {
    "duration": 60,
    "start_time": "2023-01-29T17:05:18.612Z"
   },
   {
    "duration": 65,
    "start_time": "2023-01-29T17:12:06.650Z"
   },
   {
    "duration": 61,
    "start_time": "2023-01-29T17:16:47.241Z"
   },
   {
    "duration": 63,
    "start_time": "2023-01-29T17:27:08.131Z"
   },
   {
    "duration": 65,
    "start_time": "2023-01-29T18:45:57.482Z"
   },
   {
    "duration": 79,
    "start_time": "2023-01-29T19:25:36.758Z"
   },
   {
    "duration": 70,
    "start_time": "2023-01-29T19:43:26.504Z"
   },
   {
    "duration": 66,
    "start_time": "2023-01-29T19:45:40.853Z"
   },
   {
    "duration": 219,
    "start_time": "2023-01-29T19:46:03.573Z"
   },
   {
    "duration": 208,
    "start_time": "2023-01-29T19:48:32.258Z"
   },
   {
    "duration": 206,
    "start_time": "2023-01-29T19:49:26.971Z"
   },
   {
    "duration": 262,
    "start_time": "2023-01-29T19:51:13.409Z"
   },
   {
    "duration": 303,
    "start_time": "2023-01-29T19:52:24.844Z"
   },
   {
    "duration": 55,
    "start_time": "2023-02-06T17:01:47.969Z"
   },
   {
    "duration": 17,
    "start_time": "2023-02-06T17:02:46.306Z"
   },
   {
    "duration": 17,
    "start_time": "2023-02-06T17:03:30.876Z"
   },
   {
    "duration": 10,
    "start_time": "2023-02-06T17:04:56.707Z"
   },
   {
    "duration": 2858,
    "start_time": "2023-02-06T17:05:21.135Z"
   },
   {
    "duration": 64,
    "start_time": "2023-02-06T17:05:29.201Z"
   },
   {
    "duration": 96,
    "start_time": "2023-02-06T17:22:32.590Z"
   },
   {
    "duration": 100,
    "start_time": "2023-02-06T17:23:27.722Z"
   },
   {
    "duration": 60,
    "start_time": "2023-02-06T19:02:22.922Z"
   },
   {
    "duration": 132,
    "start_time": "2023-02-06T19:02:27.831Z"
   },
   {
    "duration": 3074,
    "start_time": "2023-02-06T19:02:29.242Z"
   },
   {
    "duration": 89,
    "start_time": "2023-02-06T19:02:35.090Z"
   },
   {
    "duration": 97,
    "start_time": "2023-02-06T19:05:59.509Z"
   },
   {
    "duration": 94,
    "start_time": "2023-02-06T19:08:17.411Z"
   },
   {
    "duration": 102,
    "start_time": "2023-02-06T19:09:44.330Z"
   },
   {
    "duration": 169,
    "start_time": "2023-02-06T19:11:14.198Z"
   },
   {
    "duration": 86,
    "start_time": "2023-02-06T19:12:23.525Z"
   },
   {
    "duration": 666,
    "start_time": "2023-02-06T19:20:27.737Z"
   },
   {
    "duration": 91,
    "start_time": "2023-02-06T19:21:04.331Z"
   },
   {
    "duration": 181,
    "start_time": "2023-02-06T19:21:40.801Z"
   },
   {
    "duration": 259,
    "start_time": "2023-02-06T19:22:09.533Z"
   },
   {
    "duration": 178,
    "start_time": "2023-02-06T19:41:33.081Z"
   },
   {
    "duration": 175,
    "start_time": "2023-02-06T19:41:49.192Z"
   },
   {
    "duration": 203,
    "start_time": "2023-02-06T20:00:59.273Z"
   },
   {
    "duration": 191,
    "start_time": "2023-02-06T20:03:44.850Z"
   },
   {
    "duration": 239,
    "start_time": "2023-02-06T20:04:58.068Z"
   },
   {
    "duration": 183,
    "start_time": "2023-02-06T20:05:10.415Z"
   },
   {
    "duration": 187,
    "start_time": "2023-02-06T20:12:11.582Z"
   },
   {
    "duration": 149,
    "start_time": "2023-02-06T20:19:20.068Z"
   },
   {
    "duration": 211,
    "start_time": "2023-02-06T20:19:34.323Z"
   },
   {
    "duration": 96,
    "start_time": "2023-02-07T15:42:16.810Z"
   },
   {
    "duration": 3490,
    "start_time": "2023-02-07T15:42:20.994Z"
   },
   {
    "duration": 298,
    "start_time": "2023-02-07T15:42:27.290Z"
   },
   {
    "duration": 383,
    "start_time": "2023-02-07T15:43:43.555Z"
   },
   {
    "duration": 386,
    "start_time": "2023-02-07T15:45:18.853Z"
   },
   {
    "duration": 473,
    "start_time": "2023-02-07T15:47:16.340Z"
   },
   {
    "duration": 377,
    "start_time": "2023-02-07T15:47:31.984Z"
   },
   {
    "duration": 432,
    "start_time": "2023-02-07T15:48:45.225Z"
   },
   {
    "duration": 122,
    "start_time": "2023-02-07T15:54:29.980Z"
   },
   {
    "duration": 122,
    "start_time": "2023-02-07T15:55:00.343Z"
   },
   {
    "duration": 200,
    "start_time": "2023-02-07T15:56:21.779Z"
   },
   {
    "duration": 196,
    "start_time": "2023-02-07T15:57:40.652Z"
   },
   {
    "duration": 286,
    "start_time": "2023-02-07T16:03:17.260Z"
   },
   {
    "duration": 201,
    "start_time": "2023-02-07T16:09:04.267Z"
   },
   {
    "duration": 297,
    "start_time": "2023-02-07T17:28:19.568Z"
   },
   {
    "duration": 243,
    "start_time": "2023-02-07T17:32:30.233Z"
   },
   {
    "duration": 225,
    "start_time": "2023-02-07T17:41:31.349Z"
   },
   {
    "duration": 60,
    "start_time": "2023-02-07T20:27:53.868Z"
   },
   {
    "duration": 3225,
    "start_time": "2023-02-07T20:27:58.595Z"
   },
   {
    "duration": 190,
    "start_time": "2023-02-07T20:28:06.586Z"
   },
   {
    "duration": 216,
    "start_time": "2023-02-07T20:34:47.189Z"
   },
   {
    "duration": 189,
    "start_time": "2023-02-07T20:36:29.976Z"
   },
   {
    "duration": 276,
    "start_time": "2023-02-07T20:38:10.840Z"
   },
   {
    "duration": 212,
    "start_time": "2023-02-07T20:39:46.382Z"
   },
   {
    "duration": 3217,
    "start_time": "2023-02-08T14:56:22.710Z"
   },
   {
    "duration": 222,
    "start_time": "2023-02-08T14:56:29.460Z"
   },
   {
    "duration": 199,
    "start_time": "2023-02-08T14:58:55.394Z"
   },
   {
    "duration": 210,
    "start_time": "2023-02-08T15:02:27.402Z"
   },
   {
    "duration": 260,
    "start_time": "2023-02-08T15:06:19.755Z"
   },
   {
    "duration": 2928,
    "start_time": "2023-02-09T11:08:16.457Z"
   },
   {
    "duration": 66,
    "start_time": "2023-02-09T11:08:21.426Z"
   },
   {
    "duration": 70,
    "start_time": "2023-02-09T11:30:45.799Z"
   },
   {
    "duration": 24,
    "start_time": "2023-02-09T11:33:46.045Z"
   },
   {
    "duration": 5,
    "start_time": "2023-02-09T11:39:31.745Z"
   },
   {
    "duration": 3275,
    "start_time": "2023-02-10T10:28:32.465Z"
   },
   {
    "duration": 70,
    "start_time": "2023-02-10T10:28:37.667Z"
   },
   {
    "duration": 1245,
    "start_time": "2023-02-10T10:32:45.600Z"
   },
   {
    "duration": 85,
    "start_time": "2023-02-10T10:36:29.860Z"
   },
   {
    "duration": 142,
    "start_time": "2023-02-10T10:48:18.900Z"
   },
   {
    "duration": 203,
    "start_time": "2023-02-10T10:48:40.598Z"
   },
   {
    "duration": 110,
    "start_time": "2023-02-10T10:49:05.579Z"
   },
   {
    "duration": 115,
    "start_time": "2023-02-10T10:49:13.280Z"
   },
   {
    "duration": 122,
    "start_time": "2023-02-10T10:49:45.018Z"
   },
   {
    "duration": 147,
    "start_time": "2023-02-10T10:50:40.688Z"
   },
   {
    "duration": 252,
    "start_time": "2023-02-10T10:54:16.362Z"
   },
   {
    "duration": 159,
    "start_time": "2023-02-10T10:54:29.674Z"
   },
   {
    "duration": 163,
    "start_time": "2023-02-10T10:54:36.895Z"
   },
   {
    "duration": 266,
    "start_time": "2023-02-10T10:54:50.820Z"
   },
   {
    "duration": 348,
    "start_time": "2023-02-10T10:55:04.053Z"
   },
   {
    "duration": 280,
    "start_time": "2023-02-10T10:55:13.626Z"
   },
   {
    "duration": 282,
    "start_time": "2023-02-10T10:55:23.535Z"
   },
   {
    "duration": 268,
    "start_time": "2023-02-10T10:55:33.862Z"
   },
   {
    "duration": 351,
    "start_time": "2023-02-10T10:56:09.465Z"
   },
   {
    "duration": 550,
    "start_time": "2023-02-10T10:56:25.052Z"
   },
   {
    "duration": 199,
    "start_time": "2023-02-10T10:57:47.668Z"
   },
   {
    "duration": 164,
    "start_time": "2023-02-10T10:58:06.624Z"
   },
   {
    "duration": 524,
    "start_time": "2023-02-10T10:58:12.169Z"
   },
   {
    "duration": 2766,
    "start_time": "2023-02-10T11:02:47.487Z"
   },
   {
    "duration": 36,
    "start_time": "2023-02-10T11:03:48.770Z"
   },
   {
    "duration": 1840,
    "start_time": "2023-02-10T11:03:50.503Z"
   },
   {
    "duration": 1978,
    "start_time": "2023-02-10T11:04:38.479Z"
   },
   {
    "duration": 1774,
    "start_time": "2023-02-10T11:05:02.627Z"
   },
   {
    "duration": 48,
    "start_time": "2023-02-10T14:32:17.112Z"
   },
   {
    "duration": 3115,
    "start_time": "2023-02-10T14:32:21.484Z"
   },
   {
    "duration": 1099,
    "start_time": "2023-02-10T14:32:27.997Z"
   },
   {
    "duration": 113,
    "start_time": "2023-02-10T14:32:32.816Z"
   },
   {
    "duration": 1910,
    "start_time": "2023-02-10T14:32:34.612Z"
   },
   {
    "duration": 1749,
    "start_time": "2023-02-10T14:32:56.165Z"
   },
   {
    "duration": 1837,
    "start_time": "2023-02-10T14:33:36.333Z"
   },
   {
    "duration": 1945,
    "start_time": "2023-02-10T14:34:05.715Z"
   },
   {
    "duration": 1808,
    "start_time": "2023-02-10T14:34:36.965Z"
   },
   {
    "duration": 1839,
    "start_time": "2023-02-10T14:35:05.417Z"
   },
   {
    "duration": 1859,
    "start_time": "2023-02-10T14:35:32.459Z"
   },
   {
    "duration": 1767,
    "start_time": "2023-02-10T14:35:57.617Z"
   },
   {
    "duration": 1685,
    "start_time": "2023-02-10T14:36:28.359Z"
   },
   {
    "duration": 2957,
    "start_time": "2023-02-10T18:44:40.896Z"
   },
   {
    "duration": 1135,
    "start_time": "2023-02-10T18:44:47.047Z"
   },
   {
    "duration": 107,
    "start_time": "2023-02-10T18:44:54.937Z"
   },
   {
    "duration": 1693,
    "start_time": "2023-02-10T18:44:56.215Z"
   },
   {
    "duration": 1612,
    "start_time": "2023-02-10T19:28:16.328Z"
   },
   {
    "duration": 1706,
    "start_time": "2023-02-10T19:29:26.176Z"
   },
   {
    "duration": 1939,
    "start_time": "2023-02-10T20:42:23.394Z"
   },
   {
    "duration": 1844,
    "start_time": "2023-02-10T20:43:29.114Z"
   },
   {
    "duration": 1190,
    "start_time": "2023-02-10T20:44:56.092Z"
   },
   {
    "duration": 35,
    "start_time": "2023-02-10T20:45:01.053Z"
   },
   {
    "duration": 1743,
    "start_time": "2023-02-10T20:45:02.818Z"
   },
   {
    "duration": 1846,
    "start_time": "2023-02-10T20:45:22.408Z"
   },
   {
    "duration": 1144,
    "start_time": "2023-02-10T20:46:16.935Z"
   },
   {
    "duration": 1949,
    "start_time": "2023-02-10T20:48:20.797Z"
   },
   {
    "duration": 1224,
    "start_time": "2023-02-10T20:48:35.314Z"
   },
   {
    "duration": 34,
    "start_time": "2023-02-10T20:48:57.518Z"
   },
   {
    "duration": 1893,
    "start_time": "2023-02-10T20:49:01.535Z"
   },
   {
    "duration": 1890,
    "start_time": "2023-02-10T20:51:37.332Z"
   },
   {
    "duration": 120,
    "start_time": "2023-02-11T10:13:47.579Z"
   },
   {
    "duration": 2831,
    "start_time": "2023-02-11T10:13:50.111Z"
   },
   {
    "duration": 1149,
    "start_time": "2023-02-11T10:13:56.309Z"
   },
   {
    "duration": 107,
    "start_time": "2023-02-11T10:14:01.382Z"
   },
   {
    "duration": 2155,
    "start_time": "2023-02-11T10:14:04.136Z"
   },
   {
    "duration": 30,
    "start_time": "2023-02-11T10:35:08.167Z"
   },
   {
    "duration": 19,
    "start_time": "2023-02-11T10:35:28.398Z"
   },
   {
    "duration": 19,
    "start_time": "2023-02-11T10:37:20.806Z"
   },
   {
    "duration": 28,
    "start_time": "2023-02-11T10:39:09.116Z"
   },
   {
    "duration": 2235,
    "start_time": "2023-02-11T10:43:46.281Z"
   },
   {
    "duration": 232,
    "start_time": "2023-02-11T10:44:31.732Z"
   },
   {
    "duration": 2026,
    "start_time": "2023-02-11T10:45:28.979Z"
   },
   {
    "duration": 699,
    "start_time": "2023-02-11T10:48:24.093Z"
   },
   {
    "duration": 749,
    "start_time": "2023-02-11T10:49:01.938Z"
   },
   {
    "duration": 2150,
    "start_time": "2023-02-11T10:57:29.225Z"
   },
   {
    "duration": 1287,
    "start_time": "2023-02-11T10:57:35.456Z"
   },
   {
    "duration": 47,
    "start_time": "2023-02-11T10:57:43.368Z"
   },
   {
    "duration": 853,
    "start_time": "2023-02-11T10:57:45.130Z"
   },
   {
    "duration": 1373,
    "start_time": "2023-02-11T10:59:11.371Z"
   },
   {
    "duration": 54,
    "start_time": "2023-02-11T15:31:28.728Z"
   },
   {
    "duration": 2853,
    "start_time": "2023-02-11T15:31:32.671Z"
   },
   {
    "duration": 1135,
    "start_time": "2023-02-11T15:31:38.926Z"
   },
   {
    "duration": 100,
    "start_time": "2023-02-11T15:31:43.945Z"
   },
   {
    "duration": 1284,
    "start_time": "2023-02-11T15:31:45.480Z"
   },
   {
    "duration": 1210,
    "start_time": "2023-02-11T15:46:59.668Z"
   },
   {
    "duration": 1934,
    "start_time": "2023-02-11T16:39:57.026Z"
   },
   {
    "duration": 1057,
    "start_time": "2023-02-11T16:40:09.706Z"
   },
   {
    "duration": 1888,
    "start_time": "2023-02-11T16:41:27.100Z"
   },
   {
    "duration": 1101,
    "start_time": "2023-02-11T16:41:31.903Z"
   },
   {
    "duration": 132,
    "start_time": "2023-02-11T16:41:37.117Z"
   },
   {
    "duration": 1150,
    "start_time": "2023-02-11T16:41:45.200Z"
   },
   {
    "duration": 196,
    "start_time": "2023-02-11T16:44:10.388Z"
   },
   {
    "duration": 113,
    "start_time": "2023-02-11T16:45:06.782Z"
   },
   {
    "duration": 60,
    "start_time": "2023-02-11T16:46:01.125Z"
   },
   {
    "duration": 56,
    "start_time": "2023-02-11T16:47:01.133Z"
   },
   {
    "duration": 165,
    "start_time": "2023-02-11T16:47:22.759Z"
   },
   {
    "duration": 59,
    "start_time": "2023-02-11T16:50:18.906Z"
   },
   {
    "duration": 53,
    "start_time": "2023-02-11T16:51:09.687Z"
   },
   {
    "duration": 58,
    "start_time": "2023-02-11T16:51:23.346Z"
   },
   {
    "duration": 86,
    "start_time": "2023-02-11T16:58:30.309Z"
   },
   {
    "duration": 3002,
    "start_time": "2023-02-11T20:38:09.653Z"
   },
   {
    "duration": 1105,
    "start_time": "2023-02-11T20:38:15.035Z"
   },
   {
    "duration": 131,
    "start_time": "2023-02-11T20:38:20.223Z"
   },
   {
    "duration": 92,
    "start_time": "2023-02-11T20:38:22.229Z"
   },
   {
    "duration": 3326,
    "start_time": "2023-02-11T20:57:14.929Z"
   },
   {
    "duration": 44,
    "start_time": "2023-02-12T10:50:59.868Z"
   },
   {
    "duration": 3039,
    "start_time": "2023-02-12T10:51:04.266Z"
   },
   {
    "duration": 9,
    "start_time": "2023-02-12T10:51:09.960Z"
   },
   {
    "duration": 9,
    "start_time": "2023-02-12T10:51:55.158Z"
   },
   {
    "duration": 44,
    "start_time": "2023-02-12T12:08:42.531Z"
   },
   {
    "duration": 38,
    "start_time": "2023-02-12T12:11:58.469Z"
   },
   {
    "duration": 31,
    "start_time": "2023-02-12T12:14:39.948Z"
   },
   {
    "duration": 35,
    "start_time": "2023-02-12T12:17:14.007Z"
   },
   {
    "duration": 157,
    "start_time": "2023-02-12T12:21:22.239Z"
   },
   {
    "duration": 111,
    "start_time": "2023-02-12T12:21:25.010Z"
   },
   {
    "duration": 146,
    "start_time": "2023-02-12T12:23:19.791Z"
   },
   {
    "duration": 147,
    "start_time": "2023-02-12T12:23:35.354Z"
   },
   {
    "duration": 45,
    "start_time": "2023-02-12T12:30:49.364Z"
   },
   {
    "duration": 12,
    "start_time": "2023-02-12T12:32:47.487Z"
   },
   {
    "duration": 239,
    "start_time": "2023-02-12T12:33:01.130Z"
   },
   {
    "duration": 61,
    "start_time": "2023-02-12T12:59:27.704Z"
   },
   {
    "duration": 55,
    "start_time": "2023-02-12T12:59:35.650Z"
   },
   {
    "duration": 3034,
    "start_time": "2023-02-12T12:59:40.889Z"
   },
   {
    "duration": 15,
    "start_time": "2023-02-12T12:59:43.925Z"
   },
   {
    "duration": 61,
    "start_time": "2023-02-12T12:59:43.942Z"
   },
   {
    "duration": 28,
    "start_time": "2023-02-12T12:59:44.006Z"
   },
   {
    "duration": 64,
    "start_time": "2023-02-12T12:59:44.036Z"
   },
   {
    "duration": 188,
    "start_time": "2023-02-12T12:59:44.102Z"
   },
   {
    "duration": 149,
    "start_time": "2023-02-12T12:59:44.292Z"
   },
   {
    "duration": 188,
    "start_time": "2023-02-12T12:59:44.442Z"
   },
   {
    "duration": 216,
    "start_time": "2023-02-12T12:59:44.633Z"
   },
   {
    "duration": 219,
    "start_time": "2023-02-12T12:59:44.853Z"
   },
   {
    "duration": 209,
    "start_time": "2023-02-12T12:59:45.074Z"
   },
   {
    "duration": 298,
    "start_time": "2023-02-12T12:59:45.285Z"
   },
   {
    "duration": 166,
    "start_time": "2023-02-12T12:59:45.585Z"
   },
   {
    "duration": 157,
    "start_time": "2023-02-12T12:59:45.753Z"
   },
   {
    "duration": 176,
    "start_time": "2023-02-12T12:59:45.913Z"
   },
   {
    "duration": 179,
    "start_time": "2023-02-12T12:59:46.091Z"
   },
   {
    "duration": 177,
    "start_time": "2023-02-12T12:59:46.272Z"
   },
   {
    "duration": 199,
    "start_time": "2023-02-12T12:59:46.451Z"
   },
   {
    "duration": 221,
    "start_time": "2023-02-12T12:59:46.651Z"
   },
   {
    "duration": 231,
    "start_time": "2023-02-12T12:59:46.874Z"
   },
   {
    "duration": 137,
    "start_time": "2023-02-12T12:59:47.108Z"
   },
   {
    "duration": 209,
    "start_time": "2023-02-12T12:59:47.248Z"
   },
   {
    "duration": 214,
    "start_time": "2023-02-12T12:59:47.458Z"
   },
   {
    "duration": 393,
    "start_time": "2023-02-12T12:59:47.674Z"
   },
   {
    "duration": 401,
    "start_time": "2023-02-12T12:59:48.069Z"
   },
   {
    "duration": 312,
    "start_time": "2023-02-12T12:59:48.472Z"
   },
   {
    "duration": 319,
    "start_time": "2023-02-12T12:59:48.786Z"
   },
   {
    "duration": 379,
    "start_time": "2023-02-12T12:59:49.111Z"
   },
   {
    "duration": 316,
    "start_time": "2023-02-12T12:59:49.492Z"
   },
   {
    "duration": 402,
    "start_time": "2023-02-12T12:59:49.811Z"
   },
   {
    "duration": 183,
    "start_time": "2023-02-12T12:59:50.215Z"
   },
   {
    "duration": 276,
    "start_time": "2023-02-12T12:59:50.400Z"
   },
   {
    "duration": 147,
    "start_time": "2023-02-12T12:59:50.684Z"
   },
   {
    "duration": 155,
    "start_time": "2023-02-12T12:59:50.833Z"
   },
   {
    "duration": 226,
    "start_time": "2023-02-12T12:59:50.995Z"
   },
   {
    "duration": 6,
    "start_time": "2023-02-12T12:59:51.223Z"
   },
   {
    "duration": 250,
    "start_time": "2023-02-12T12:59:51.231Z"
   },
   {
    "duration": 290,
    "start_time": "2023-02-12T12:59:51.486Z"
   },
   {
    "duration": 212,
    "start_time": "2023-02-12T12:59:51.780Z"
   },
   {
    "duration": 293,
    "start_time": "2023-02-12T12:59:51.994Z"
   },
   {
    "duration": 217,
    "start_time": "2023-02-12T12:59:52.289Z"
   },
   {
    "duration": 395,
    "start_time": "2023-02-12T12:59:52.508Z"
   },
   {
    "duration": 10,
    "start_time": "2023-02-12T12:59:52.905Z"
   },
   {
    "duration": 18,
    "start_time": "2023-02-12T12:59:52.916Z"
   },
   {
    "duration": 8,
    "start_time": "2023-02-12T12:59:52.936Z"
   },
   {
    "duration": 27,
    "start_time": "2023-02-12T12:59:52.947Z"
   },
   {
    "duration": 50,
    "start_time": "2023-02-12T12:59:52.976Z"
   },
   {
    "duration": 19,
    "start_time": "2023-02-12T12:59:53.028Z"
   },
   {
    "duration": 56,
    "start_time": "2023-02-12T12:59:53.048Z"
   },
   {
    "duration": 22,
    "start_time": "2023-02-12T12:59:53.107Z"
   },
   {
    "duration": 16,
    "start_time": "2023-02-12T12:59:53.131Z"
   },
   {
    "duration": 23,
    "start_time": "2023-02-12T12:59:53.149Z"
   },
   {
    "duration": 45,
    "start_time": "2023-02-12T12:59:53.176Z"
   },
   {
    "duration": 27,
    "start_time": "2023-02-12T13:02:02.158Z"
   },
   {
    "duration": 5,
    "start_time": "2023-02-12T13:02:14.122Z"
   },
   {
    "duration": 9,
    "start_time": "2023-02-12T13:02:17.913Z"
   },
   {
    "duration": 50,
    "start_time": "2023-02-12T15:50:53.584Z"
   },
   {
    "duration": 3061,
    "start_time": "2023-02-12T15:51:00.242Z"
   },
   {
    "duration": 10,
    "start_time": "2023-02-12T15:51:04.944Z"
   },
   {
    "duration": 32,
    "start_time": "2023-02-12T15:51:08.708Z"
   },
   {
    "duration": 28,
    "start_time": "2023-02-12T15:52:51.323Z"
   },
   {
    "duration": 1642,
    "start_time": "2023-02-12T15:53:39.675Z"
   },
   {
    "duration": 1709,
    "start_time": "2023-02-12T15:53:51.462Z"
   },
   {
    "duration": 2337,
    "start_time": "2023-02-12T15:54:06.657Z"
   },
   {
    "duration": 11,
    "start_time": "2023-02-12T15:54:12.994Z"
   },
   {
    "duration": 32,
    "start_time": "2023-02-12T15:54:23.104Z"
   },
   {
    "duration": 1571,
    "start_time": "2023-02-12T15:54:37.598Z"
   },
   {
    "duration": 34,
    "start_time": "2023-02-12T15:55:02.066Z"
   },
   {
    "duration": 153,
    "start_time": "2023-02-12T16:08:13.259Z"
   },
   {
    "duration": 122,
    "start_time": "2023-02-12T16:08:26.720Z"
   },
   {
    "duration": 153,
    "start_time": "2023-02-12T16:08:39.330Z"
   },
   {
    "duration": 224,
    "start_time": "2023-02-12T16:08:43.294Z"
   },
   {
    "duration": 133,
    "start_time": "2023-02-12T16:08:45.529Z"
   },
   {
    "duration": 158,
    "start_time": "2023-02-12T16:08:48.218Z"
   },
   {
    "duration": 167,
    "start_time": "2023-02-12T16:08:50.597Z"
   },
   {
    "duration": 156,
    "start_time": "2023-02-12T16:08:53.122Z"
   },
   {
    "duration": 139,
    "start_time": "2023-02-12T16:08:55.122Z"
   },
   {
    "duration": 137,
    "start_time": "2023-02-12T16:08:57.271Z"
   },
   {
    "duration": 130,
    "start_time": "2023-02-12T16:08:59.223Z"
   },
   {
    "duration": 152,
    "start_time": "2023-02-12T16:09:01.947Z"
   },
   {
    "duration": 152,
    "start_time": "2023-02-12T16:09:04.314Z"
   },
   {
    "duration": 145,
    "start_time": "2023-02-12T16:09:06.583Z"
   },
   {
    "duration": 141,
    "start_time": "2023-02-12T16:09:09.430Z"
   },
   {
    "duration": 6,
    "start_time": "2023-02-12T16:09:12.991Z"
   },
   {
    "duration": 11,
    "start_time": "2023-02-12T16:09:24.805Z"
   },
   {
    "duration": 15,
    "start_time": "2023-02-12T16:10:00.182Z"
   },
   {
    "duration": 9,
    "start_time": "2023-02-12T16:10:08.713Z"
   },
   {
    "duration": 9,
    "start_time": "2023-02-12T16:10:30.484Z"
   },
   {
    "duration": 9,
    "start_time": "2023-02-12T16:12:57.895Z"
   },
   {
    "duration": 7,
    "start_time": "2023-02-12T16:13:08.198Z"
   },
   {
    "duration": 19,
    "start_time": "2023-02-12T16:18:36.456Z"
   },
   {
    "duration": 135,
    "start_time": "2023-02-12T16:19:31.660Z"
   },
   {
    "duration": 162,
    "start_time": "2023-02-12T16:49:05.278Z"
   },
   {
    "duration": 9,
    "start_time": "2023-02-12T16:51:34.416Z"
   },
   {
    "duration": 265,
    "start_time": "2023-02-12T16:54:50.262Z"
   },
   {
    "duration": 3390,
    "start_time": "2023-02-12T17:59:08.844Z"
   },
   {
    "duration": 10,
    "start_time": "2023-02-12T17:59:12.236Z"
   },
   {
    "duration": 64,
    "start_time": "2023-02-12T17:59:12.248Z"
   },
   {
    "duration": 39,
    "start_time": "2023-02-12T17:59:12.314Z"
   },
   {
    "duration": 41,
    "start_time": "2023-02-12T17:59:12.355Z"
   },
   {
    "duration": 181,
    "start_time": "2023-02-12T17:59:12.398Z"
   },
   {
    "duration": 151,
    "start_time": "2023-02-12T17:59:12.581Z"
   },
   {
    "duration": 183,
    "start_time": "2023-02-12T17:59:12.733Z"
   },
   {
    "duration": 175,
    "start_time": "2023-02-12T17:59:12.918Z"
   },
   {
    "duration": 153,
    "start_time": "2023-02-12T17:59:13.096Z"
   },
   {
    "duration": 198,
    "start_time": "2023-02-12T17:59:13.251Z"
   },
   {
    "duration": 335,
    "start_time": "2023-02-12T17:59:13.452Z"
   },
   {
    "duration": 213,
    "start_time": "2023-02-12T17:59:13.793Z"
   },
   {
    "duration": 149,
    "start_time": "2023-02-12T17:59:14.009Z"
   },
   {
    "duration": 182,
    "start_time": "2023-02-12T17:59:14.159Z"
   },
   {
    "duration": 191,
    "start_time": "2023-02-12T17:59:14.343Z"
   },
   {
    "duration": 198,
    "start_time": "2023-02-12T17:59:14.536Z"
   },
   {
    "duration": 218,
    "start_time": "2023-02-12T17:59:14.736Z"
   },
   {
    "duration": 221,
    "start_time": "2023-02-12T17:59:14.957Z"
   },
   {
    "duration": 225,
    "start_time": "2023-02-12T17:59:15.184Z"
   },
   {
    "duration": 10,
    "start_time": "2023-02-12T17:59:15.412Z"
   },
   {
    "duration": 29,
    "start_time": "2023-02-12T17:59:15.424Z"
   },
   {
    "duration": 31,
    "start_time": "2023-02-12T17:59:15.455Z"
   },
   {
    "duration": 289,
    "start_time": "2023-02-12T17:59:15.489Z"
   },
   {
    "duration": 0,
    "start_time": "2023-02-12T17:59:15.781Z"
   },
   {
    "duration": 0,
    "start_time": "2023-02-12T17:59:15.781Z"
   },
   {
    "duration": 0,
    "start_time": "2023-02-12T17:59:15.782Z"
   },
   {
    "duration": 0,
    "start_time": "2023-02-12T17:59:15.783Z"
   },
   {
    "duration": 0,
    "start_time": "2023-02-12T17:59:15.784Z"
   },
   {
    "duration": 0,
    "start_time": "2023-02-12T17:59:15.785Z"
   },
   {
    "duration": 0,
    "start_time": "2023-02-12T17:59:15.786Z"
   },
   {
    "duration": 0,
    "start_time": "2023-02-12T17:59:15.787Z"
   },
   {
    "duration": 0,
    "start_time": "2023-02-12T17:59:15.787Z"
   },
   {
    "duration": 0,
    "start_time": "2023-02-12T17:59:15.788Z"
   },
   {
    "duration": 0,
    "start_time": "2023-02-12T17:59:15.789Z"
   },
   {
    "duration": 0,
    "start_time": "2023-02-12T17:59:15.790Z"
   },
   {
    "duration": 0,
    "start_time": "2023-02-12T17:59:15.791Z"
   },
   {
    "duration": 0,
    "start_time": "2023-02-12T17:59:15.792Z"
   },
   {
    "duration": 0,
    "start_time": "2023-02-12T17:59:15.792Z"
   },
   {
    "duration": 0,
    "start_time": "2023-02-12T17:59:15.794Z"
   },
   {
    "duration": 0,
    "start_time": "2023-02-12T17:59:15.795Z"
   },
   {
    "duration": 0,
    "start_time": "2023-02-12T17:59:15.796Z"
   },
   {
    "duration": 0,
    "start_time": "2023-02-12T17:59:15.797Z"
   },
   {
    "duration": 0,
    "start_time": "2023-02-12T17:59:15.798Z"
   },
   {
    "duration": 0,
    "start_time": "2023-02-12T17:59:15.799Z"
   },
   {
    "duration": 0,
    "start_time": "2023-02-12T17:59:15.799Z"
   },
   {
    "duration": 0,
    "start_time": "2023-02-12T17:59:15.800Z"
   },
   {
    "duration": 3110,
    "start_time": "2023-02-12T19:05:40.173Z"
   },
   {
    "duration": 10,
    "start_time": "2023-02-12T19:05:48.693Z"
   },
   {
    "duration": 31,
    "start_time": "2023-02-12T19:05:53.311Z"
   },
   {
    "duration": 25,
    "start_time": "2023-02-12T19:05:57.069Z"
   },
   {
    "duration": 32,
    "start_time": "2023-02-12T19:05:59.308Z"
   },
   {
    "duration": 153,
    "start_time": "2023-02-12T19:06:02.347Z"
   },
   {
    "duration": 131,
    "start_time": "2023-02-12T19:06:10.460Z"
   },
   {
    "duration": 151,
    "start_time": "2023-02-12T19:06:13.899Z"
   },
   {
    "duration": 129,
    "start_time": "2023-02-12T19:06:16.193Z"
   },
   {
    "duration": 143,
    "start_time": "2023-02-12T19:06:18.195Z"
   },
   {
    "duration": 145,
    "start_time": "2023-02-12T19:06:20.696Z"
   },
   {
    "duration": 229,
    "start_time": "2023-02-12T19:06:23.173Z"
   },
   {
    "duration": 164,
    "start_time": "2023-02-12T19:06:24.975Z"
   },
   {
    "duration": 137,
    "start_time": "2023-02-12T19:06:26.650Z"
   },
   {
    "duration": 131,
    "start_time": "2023-02-12T19:06:27.066Z"
   },
   {
    "duration": 148,
    "start_time": "2023-02-12T19:06:39.774Z"
   },
   {
    "duration": 140,
    "start_time": "2023-02-12T19:06:42.590Z"
   },
   {
    "duration": 162,
    "start_time": "2023-02-12T19:06:45.172Z"
   },
   {
    "duration": 154,
    "start_time": "2023-02-12T19:06:47.062Z"
   },
   {
    "duration": 157,
    "start_time": "2023-02-12T19:06:48.830Z"
   },
   {
    "duration": 6,
    "start_time": "2023-02-12T19:06:53.336Z"
   },
   {
    "duration": 8,
    "start_time": "2023-02-12T19:06:56.025Z"
   },
   {
    "duration": 16,
    "start_time": "2023-02-12T19:07:00.403Z"
   },
   {
    "duration": 187,
    "start_time": "2023-02-12T19:10:53.339Z"
   },
   {
    "duration": 34,
    "start_time": "2023-02-12T19:22:37.674Z"
   },
   {
    "duration": 36,
    "start_time": "2023-02-12T19:24:56.212Z"
   },
   {
    "duration": 35,
    "start_time": "2023-02-12T19:24:57.265Z"
   },
   {
    "duration": 94,
    "start_time": "2023-02-12T19:24:58.423Z"
   },
   {
    "duration": 33,
    "start_time": "2023-02-12T19:26:15.739Z"
   },
   {
    "duration": 36,
    "start_time": "2023-02-12T19:26:20.985Z"
   },
   {
    "duration": 102,
    "start_time": "2023-02-12T19:26:22.765Z"
   },
   {
    "duration": 35,
    "start_time": "2023-02-12T19:26:51.272Z"
   },
   {
    "duration": 33,
    "start_time": "2023-02-12T19:26:52.732Z"
   },
   {
    "duration": 90,
    "start_time": "2023-02-12T19:26:53.667Z"
   },
   {
    "duration": 32,
    "start_time": "2023-02-12T19:26:54.790Z"
   },
   {
    "duration": 32,
    "start_time": "2023-02-12T19:27:14.429Z"
   },
   {
    "duration": 133,
    "start_time": "2023-02-12T19:27:41.915Z"
   },
   {
    "duration": 116,
    "start_time": "2023-02-12T19:28:01.328Z"
   },
   {
    "duration": 168,
    "start_time": "2023-02-12T19:28:14.240Z"
   },
   {
    "duration": 131,
    "start_time": "2023-02-12T19:28:24.939Z"
   },
   {
    "duration": 130,
    "start_time": "2023-02-12T19:28:27.252Z"
   },
   {
    "duration": 131,
    "start_time": "2023-02-12T19:28:29.428Z"
   },
   {
    "duration": 142,
    "start_time": "2023-02-12T19:28:30.913Z"
   },
   {
    "duration": 128,
    "start_time": "2023-02-12T19:28:32.316Z"
   },
   {
    "duration": 126,
    "start_time": "2023-02-12T19:28:33.733Z"
   },
   {
    "duration": 117,
    "start_time": "2023-02-12T19:28:35.455Z"
   },
   {
    "duration": 127,
    "start_time": "2023-02-12T19:28:36.940Z"
   },
   {
    "duration": 102,
    "start_time": "2023-02-12T19:28:38.628Z"
   },
   {
    "duration": 131,
    "start_time": "2023-02-12T19:28:40.051Z"
   },
   {
    "duration": 133,
    "start_time": "2023-02-12T19:28:41.354Z"
   },
   {
    "duration": 204,
    "start_time": "2023-02-12T19:28:42.840Z"
   },
   {
    "duration": 8,
    "start_time": "2023-02-12T19:28:44.835Z"
   },
   {
    "duration": 2920,
    "start_time": "2023-02-12T21:29:28.326Z"
   },
   {
    "duration": 10,
    "start_time": "2023-02-12T21:29:31.250Z"
   },
   {
    "duration": 51,
    "start_time": "2023-02-12T21:29:31.262Z"
   },
   {
    "duration": 42,
    "start_time": "2023-02-12T21:29:31.315Z"
   },
   {
    "duration": 34,
    "start_time": "2023-02-12T21:29:31.359Z"
   },
   {
    "duration": 194,
    "start_time": "2023-02-12T21:29:31.395Z"
   },
   {
    "duration": 157,
    "start_time": "2023-02-12T21:29:31.591Z"
   },
   {
    "duration": 244,
    "start_time": "2023-02-12T21:29:31.751Z"
   },
   {
    "duration": 204,
    "start_time": "2023-02-12T21:29:31.997Z"
   },
   {
    "duration": 183,
    "start_time": "2023-02-12T21:29:32.205Z"
   },
   {
    "duration": 194,
    "start_time": "2023-02-12T21:29:32.391Z"
   },
   {
    "duration": 278,
    "start_time": "2023-02-12T21:29:32.587Z"
   },
   {
    "duration": 171,
    "start_time": "2023-02-12T21:29:32.867Z"
   },
   {
    "duration": 150,
    "start_time": "2023-02-12T21:29:33.040Z"
   },
   {
    "duration": 192,
    "start_time": "2023-02-12T21:29:33.192Z"
   },
   {
    "duration": 162,
    "start_time": "2023-02-12T21:29:33.387Z"
   },
   {
    "duration": 165,
    "start_time": "2023-02-12T21:29:33.550Z"
   },
   {
    "duration": 181,
    "start_time": "2023-02-12T21:29:33.717Z"
   },
   {
    "duration": 182,
    "start_time": "2023-02-12T21:29:33.900Z"
   },
   {
    "duration": 183,
    "start_time": "2023-02-12T21:29:34.084Z"
   },
   {
    "duration": 7,
    "start_time": "2023-02-12T21:29:34.269Z"
   },
   {
    "duration": 12,
    "start_time": "2023-02-12T21:29:34.277Z"
   },
   {
    "duration": 48,
    "start_time": "2023-02-12T21:29:34.290Z"
   },
   {
    "duration": 163,
    "start_time": "2023-02-12T21:29:34.340Z"
   },
   {
    "duration": 137,
    "start_time": "2023-02-12T21:29:34.505Z"
   },
   {
    "duration": 144,
    "start_time": "2023-02-12T21:29:34.645Z"
   },
   {
    "duration": 159,
    "start_time": "2023-02-12T21:29:34.791Z"
   },
   {
    "duration": 151,
    "start_time": "2023-02-12T21:29:34.955Z"
   },
   {
    "duration": 161,
    "start_time": "2023-02-12T21:29:35.108Z"
   },
   {
    "duration": 159,
    "start_time": "2023-02-12T21:29:35.271Z"
   },
   {
    "duration": 156,
    "start_time": "2023-02-12T21:29:35.433Z"
   },
   {
    "duration": 135,
    "start_time": "2023-02-12T21:29:35.591Z"
   },
   {
    "duration": 160,
    "start_time": "2023-02-12T21:29:35.729Z"
   },
   {
    "duration": 127,
    "start_time": "2023-02-12T21:29:35.892Z"
   },
   {
    "duration": 158,
    "start_time": "2023-02-12T21:29:36.020Z"
   },
   {
    "duration": 176,
    "start_time": "2023-02-12T21:29:36.180Z"
   },
   {
    "duration": 253,
    "start_time": "2023-02-12T21:29:36.357Z"
   },
   {
    "duration": 11,
    "start_time": "2023-02-12T21:29:36.613Z"
   },
   {
    "duration": 6,
    "start_time": "2023-02-12T21:29:36.637Z"
   },
   {
    "duration": 227,
    "start_time": "2023-02-12T21:29:36.645Z"
   },
   {
    "duration": 278,
    "start_time": "2023-02-12T21:29:36.874Z"
   },
   {
    "duration": 247,
    "start_time": "2023-02-12T21:29:37.153Z"
   },
   {
    "duration": 228,
    "start_time": "2023-02-12T21:29:37.402Z"
   },
   {
    "duration": 213,
    "start_time": "2023-02-12T21:29:37.636Z"
   },
   {
    "duration": 482,
    "start_time": "2023-02-12T21:29:37.851Z"
   },
   {
    "duration": 0,
    "start_time": "2023-02-12T21:29:38.336Z"
   },
   {
    "duration": 0,
    "start_time": "2023-02-12T21:29:38.338Z"
   },
   {
    "duration": 315,
    "start_time": "2023-02-12T21:35:28.968Z"
   },
   {
    "duration": 8,
    "start_time": "2023-02-12T21:35:32.053Z"
   },
   {
    "duration": 25,
    "start_time": "2023-02-12T21:35:32.213Z"
   },
   {
    "duration": 3318,
    "start_time": "2023-02-13T09:46:54.631Z"
   },
   {
    "duration": 13,
    "start_time": "2023-02-13T09:47:02.874Z"
   },
   {
    "duration": 31,
    "start_time": "2023-02-13T09:47:07.365Z"
   },
   {
    "duration": 39,
    "start_time": "2023-02-13T09:47:12.155Z"
   },
   {
    "duration": 35,
    "start_time": "2023-02-13T09:47:15.117Z"
   },
   {
    "duration": 188,
    "start_time": "2023-02-13T09:47:19.259Z"
   },
   {
    "duration": 130,
    "start_time": "2023-02-13T09:47:22.932Z"
   },
   {
    "duration": 144,
    "start_time": "2023-02-13T09:47:26.755Z"
   },
   {
    "duration": 146,
    "start_time": "2023-02-13T09:47:28.991Z"
   },
   {
    "duration": 148,
    "start_time": "2023-02-13T09:47:31.436Z"
   },
   {
    "duration": 163,
    "start_time": "2023-02-13T09:47:33.587Z"
   },
   {
    "duration": 311,
    "start_time": "2023-02-13T09:47:36.019Z"
   },
   {
    "duration": 161,
    "start_time": "2023-02-13T09:47:38.739Z"
   },
   {
    "duration": 135,
    "start_time": "2023-02-13T09:47:41.747Z"
   },
   {
    "duration": 161,
    "start_time": "2023-02-13T09:47:44.020Z"
   },
   {
    "duration": 188,
    "start_time": "2023-02-13T09:47:45.987Z"
   },
   {
    "duration": 149,
    "start_time": "2023-02-13T09:47:48.611Z"
   },
   {
    "duration": 157,
    "start_time": "2023-02-13T09:47:50.770Z"
   },
   {
    "duration": 153,
    "start_time": "2023-02-13T09:47:52.946Z"
   },
   {
    "duration": 155,
    "start_time": "2023-02-13T09:47:54.996Z"
   },
   {
    "duration": 7,
    "start_time": "2023-02-13T09:47:57.914Z"
   },
   {
    "duration": 12,
    "start_time": "2023-02-13T09:47:59.771Z"
   },
   {
    "duration": 28,
    "start_time": "2023-02-13T09:48:03.426Z"
   },
   {
    "duration": 145,
    "start_time": "2023-02-13T09:48:06.533Z"
   },
   {
    "duration": 150,
    "start_time": "2023-02-13T09:48:11.467Z"
   },
   {
    "duration": 142,
    "start_time": "2023-02-13T09:48:25.011Z"
   },
   {
    "duration": 145,
    "start_time": "2023-02-13T09:48:27.652Z"
   },
   {
    "duration": 134,
    "start_time": "2023-02-13T09:48:29.458Z"
   },
   {
    "duration": 176,
    "start_time": "2023-02-13T09:48:31.611Z"
   },
   {
    "duration": 137,
    "start_time": "2023-02-13T09:48:33.980Z"
   },
   {
    "duration": 135,
    "start_time": "2023-02-13T09:48:35.634Z"
   },
   {
    "duration": 123,
    "start_time": "2023-02-13T09:48:38.066Z"
   },
   {
    "duration": 141,
    "start_time": "2023-02-13T09:48:40.586Z"
   },
   {
    "duration": 114,
    "start_time": "2023-02-13T09:48:42.579Z"
   },
   {
    "duration": 145,
    "start_time": "2023-02-13T09:48:44.597Z"
   },
   {
    "duration": 154,
    "start_time": "2023-02-13T09:48:46.635Z"
   },
   {
    "duration": 242,
    "start_time": "2023-02-13T09:48:48.603Z"
   },
   {
    "duration": 12,
    "start_time": "2023-02-13T09:48:52.595Z"
   },
   {
    "duration": 6,
    "start_time": "2023-02-13T09:49:05.715Z"
   },
   {
    "duration": 217,
    "start_time": "2023-02-13T09:49:08.068Z"
   },
   {
    "duration": 255,
    "start_time": "2023-02-13T09:50:25.795Z"
   },
   {
    "duration": 208,
    "start_time": "2023-02-13T09:50:29.836Z"
   },
   {
    "duration": 259,
    "start_time": "2023-02-13T09:50:33.285Z"
   },
   {
    "duration": 282,
    "start_time": "2023-02-13T09:50:36.212Z"
   },
   {
    "duration": 421,
    "start_time": "2023-02-13T09:50:39.619Z"
   },
   {
    "duration": 283,
    "start_time": "2023-02-13T09:51:03.877Z"
   },
   {
    "duration": 133,
    "start_time": "2023-02-13T09:58:04.310Z"
   },
   {
    "duration": 52,
    "start_time": "2023-02-13T09:59:55.758Z"
   },
   {
    "duration": 45,
    "start_time": "2023-02-13T10:00:24.111Z"
   },
   {
    "duration": 129,
    "start_time": "2023-02-13T10:02:35.264Z"
   },
   {
    "duration": 58,
    "start_time": "2023-02-13T10:03:13.472Z"
   },
   {
    "duration": 14,
    "start_time": "2023-02-13T10:03:47.256Z"
   },
   {
    "duration": 9,
    "start_time": "2023-02-13T10:04:20.928Z"
   },
   {
    "duration": 10,
    "start_time": "2023-02-13T10:19:49.641Z"
   },
   {
    "duration": 2754,
    "start_time": "2023-02-13T12:10:19.484Z"
   },
   {
    "duration": 10,
    "start_time": "2023-02-13T12:10:22.241Z"
   },
   {
    "duration": 82,
    "start_time": "2023-02-13T12:10:22.253Z"
   },
   {
    "duration": 53,
    "start_time": "2023-02-13T12:10:22.337Z"
   },
   {
    "duration": 42,
    "start_time": "2023-02-13T12:10:22.392Z"
   },
   {
    "duration": 214,
    "start_time": "2023-02-13T12:10:22.436Z"
   },
   {
    "duration": 156,
    "start_time": "2023-02-13T12:10:22.652Z"
   },
   {
    "duration": 179,
    "start_time": "2023-02-13T12:10:22.810Z"
   },
   {
    "duration": 173,
    "start_time": "2023-02-13T12:10:22.991Z"
   },
   {
    "duration": 155,
    "start_time": "2023-02-13T12:10:23.168Z"
   },
   {
    "duration": 179,
    "start_time": "2023-02-13T12:10:23.325Z"
   },
   {
    "duration": 262,
    "start_time": "2023-02-13T12:10:23.506Z"
   },
   {
    "duration": 169,
    "start_time": "2023-02-13T12:10:23.770Z"
   },
   {
    "duration": 147,
    "start_time": "2023-02-13T12:10:23.942Z"
   },
   {
    "duration": 165,
    "start_time": "2023-02-13T12:10:24.091Z"
   },
   {
    "duration": 158,
    "start_time": "2023-02-13T12:10:24.257Z"
   },
   {
    "duration": 159,
    "start_time": "2023-02-13T12:10:24.416Z"
   },
   {
    "duration": 171,
    "start_time": "2023-02-13T12:10:24.577Z"
   },
   {
    "duration": 156,
    "start_time": "2023-02-13T12:10:24.749Z"
   },
   {
    "duration": 163,
    "start_time": "2023-02-13T12:10:24.907Z"
   },
   {
    "duration": 6,
    "start_time": "2023-02-13T12:10:25.072Z"
   },
   {
    "duration": 18,
    "start_time": "2023-02-13T12:10:25.080Z"
   },
   {
    "duration": 55,
    "start_time": "2023-02-13T12:10:25.100Z"
   },
   {
    "duration": 200,
    "start_time": "2023-02-13T12:10:25.157Z"
   },
   {
    "duration": 0,
    "start_time": "2023-02-13T12:10:25.360Z"
   },
   {
    "duration": 0,
    "start_time": "2023-02-13T12:10:25.361Z"
   },
   {
    "duration": 0,
    "start_time": "2023-02-13T12:10:25.363Z"
   },
   {
    "duration": 0,
    "start_time": "2023-02-13T12:10:25.364Z"
   },
   {
    "duration": 0,
    "start_time": "2023-02-13T12:10:25.365Z"
   },
   {
    "duration": 0,
    "start_time": "2023-02-13T12:10:25.366Z"
   },
   {
    "duration": 0,
    "start_time": "2023-02-13T12:10:25.367Z"
   },
   {
    "duration": 0,
    "start_time": "2023-02-13T12:10:25.368Z"
   },
   {
    "duration": 0,
    "start_time": "2023-02-13T12:10:25.370Z"
   },
   {
    "duration": 0,
    "start_time": "2023-02-13T12:10:25.371Z"
   },
   {
    "duration": 0,
    "start_time": "2023-02-13T12:10:25.372Z"
   },
   {
    "duration": 0,
    "start_time": "2023-02-13T12:10:25.373Z"
   },
   {
    "duration": 0,
    "start_time": "2023-02-13T12:10:25.374Z"
   },
   {
    "duration": 0,
    "start_time": "2023-02-13T12:10:25.375Z"
   },
   {
    "duration": 0,
    "start_time": "2023-02-13T12:10:25.376Z"
   },
   {
    "duration": 0,
    "start_time": "2023-02-13T12:10:25.377Z"
   },
   {
    "duration": 0,
    "start_time": "2023-02-13T12:10:25.377Z"
   },
   {
    "duration": 0,
    "start_time": "2023-02-13T12:10:25.379Z"
   },
   {
    "duration": 0,
    "start_time": "2023-02-13T12:10:25.380Z"
   },
   {
    "duration": 0,
    "start_time": "2023-02-13T12:10:25.381Z"
   },
   {
    "duration": 0,
    "start_time": "2023-02-13T12:10:25.382Z"
   },
   {
    "duration": 0,
    "start_time": "2023-02-13T12:10:25.385Z"
   },
   {
    "duration": 0,
    "start_time": "2023-02-13T12:10:25.386Z"
   },
   {
    "duration": 0,
    "start_time": "2023-02-13T12:10:25.438Z"
   },
   {
    "duration": 0,
    "start_time": "2023-02-13T12:10:25.440Z"
   },
   {
    "duration": 0,
    "start_time": "2023-02-13T12:10:25.442Z"
   },
   {
    "duration": 0,
    "start_time": "2023-02-13T12:10:25.443Z"
   },
   {
    "duration": 0,
    "start_time": "2023-02-13T12:10:25.445Z"
   },
   {
    "duration": 0,
    "start_time": "2023-02-13T12:10:25.446Z"
   },
   {
    "duration": 0,
    "start_time": "2023-02-13T12:10:25.447Z"
   },
   {
    "duration": 0,
    "start_time": "2023-02-13T12:10:25.448Z"
   },
   {
    "duration": 0,
    "start_time": "2023-02-13T12:10:25.450Z"
   },
   {
    "duration": 0,
    "start_time": "2023-02-13T12:10:25.452Z"
   },
   {
    "duration": 3519,
    "start_time": "2023-02-13T12:11:06.671Z"
   },
   {
    "duration": 9,
    "start_time": "2023-02-13T12:11:10.192Z"
   },
   {
    "duration": 45,
    "start_time": "2023-02-13T12:11:10.203Z"
   },
   {
    "duration": 25,
    "start_time": "2023-02-13T12:11:10.249Z"
   },
   {
    "duration": 31,
    "start_time": "2023-02-13T12:11:10.277Z"
   },
   {
    "duration": 181,
    "start_time": "2023-02-13T12:11:10.310Z"
   },
   {
    "duration": 144,
    "start_time": "2023-02-13T12:11:10.493Z"
   },
   {
    "duration": 157,
    "start_time": "2023-02-13T12:11:10.639Z"
   },
   {
    "duration": 173,
    "start_time": "2023-02-13T12:11:10.798Z"
   },
   {
    "duration": 147,
    "start_time": "2023-02-13T12:11:10.972Z"
   },
   {
    "duration": 156,
    "start_time": "2023-02-13T12:11:11.121Z"
   },
   {
    "duration": 245,
    "start_time": "2023-02-13T12:11:11.279Z"
   },
   {
    "duration": 164,
    "start_time": "2023-02-13T12:11:11.526Z"
   },
   {
    "duration": 156,
    "start_time": "2023-02-13T12:11:11.694Z"
   },
   {
    "duration": 159,
    "start_time": "2023-02-13T12:11:11.852Z"
   },
   {
    "duration": 163,
    "start_time": "2023-02-13T12:11:12.013Z"
   },
   {
    "duration": 171,
    "start_time": "2023-02-13T12:11:12.178Z"
   },
   {
    "duration": 222,
    "start_time": "2023-02-13T12:11:12.351Z"
   },
   {
    "duration": 203,
    "start_time": "2023-02-13T12:11:12.574Z"
   },
   {
    "duration": 172,
    "start_time": "2023-02-13T12:11:12.778Z"
   },
   {
    "duration": 6,
    "start_time": "2023-02-13T12:11:12.952Z"
   },
   {
    "duration": 23,
    "start_time": "2023-02-13T12:11:12.959Z"
   },
   {
    "duration": 22,
    "start_time": "2023-02-13T12:11:12.983Z"
   },
   {
    "duration": 188,
    "start_time": "2023-02-13T12:11:13.007Z"
   },
   {
    "duration": 0,
    "start_time": "2023-02-13T12:11:13.197Z"
   },
   {
    "duration": 0,
    "start_time": "2023-02-13T12:11:13.199Z"
   },
   {
    "duration": 0,
    "start_time": "2023-02-13T12:11:13.200Z"
   },
   {
    "duration": 0,
    "start_time": "2023-02-13T12:11:13.201Z"
   },
   {
    "duration": 0,
    "start_time": "2023-02-13T12:11:13.202Z"
   },
   {
    "duration": 0,
    "start_time": "2023-02-13T12:11:13.203Z"
   },
   {
    "duration": 0,
    "start_time": "2023-02-13T12:11:13.204Z"
   },
   {
    "duration": 0,
    "start_time": "2023-02-13T12:11:13.205Z"
   },
   {
    "duration": 0,
    "start_time": "2023-02-13T12:11:13.206Z"
   },
   {
    "duration": 1,
    "start_time": "2023-02-13T12:11:13.206Z"
   },
   {
    "duration": 1,
    "start_time": "2023-02-13T12:11:13.207Z"
   },
   {
    "duration": 0,
    "start_time": "2023-02-13T12:11:13.209Z"
   },
   {
    "duration": 0,
    "start_time": "2023-02-13T12:11:13.210Z"
   },
   {
    "duration": 0,
    "start_time": "2023-02-13T12:11:13.238Z"
   },
   {
    "duration": 0,
    "start_time": "2023-02-13T12:11:13.239Z"
   },
   {
    "duration": 0,
    "start_time": "2023-02-13T12:11:13.240Z"
   },
   {
    "duration": 0,
    "start_time": "2023-02-13T12:11:13.242Z"
   },
   {
    "duration": 0,
    "start_time": "2023-02-13T12:11:13.242Z"
   },
   {
    "duration": 0,
    "start_time": "2023-02-13T12:11:13.243Z"
   },
   {
    "duration": 0,
    "start_time": "2023-02-13T12:11:13.244Z"
   },
   {
    "duration": 0,
    "start_time": "2023-02-13T12:11:13.245Z"
   },
   {
    "duration": 1,
    "start_time": "2023-02-13T12:11:13.246Z"
   },
   {
    "duration": 0,
    "start_time": "2023-02-13T12:11:13.248Z"
   },
   {
    "duration": 0,
    "start_time": "2023-02-13T12:11:13.249Z"
   },
   {
    "duration": 0,
    "start_time": "2023-02-13T12:11:13.250Z"
   },
   {
    "duration": 0,
    "start_time": "2023-02-13T12:11:13.251Z"
   },
   {
    "duration": 0,
    "start_time": "2023-02-13T12:11:13.252Z"
   },
   {
    "duration": 0,
    "start_time": "2023-02-13T12:11:13.253Z"
   },
   {
    "duration": 0,
    "start_time": "2023-02-13T12:11:13.255Z"
   },
   {
    "duration": 0,
    "start_time": "2023-02-13T12:11:13.255Z"
   },
   {
    "duration": 1,
    "start_time": "2023-02-13T12:11:13.256Z"
   },
   {
    "duration": 0,
    "start_time": "2023-02-13T12:11:13.258Z"
   },
   {
    "duration": 0,
    "start_time": "2023-02-13T12:11:13.259Z"
   },
   {
    "duration": 2789,
    "start_time": "2023-02-13T15:52:33.341Z"
   },
   {
    "duration": 14,
    "start_time": "2023-02-13T15:52:36.132Z"
   },
   {
    "duration": 33,
    "start_time": "2023-02-13T15:52:36.147Z"
   },
   {
    "duration": 29,
    "start_time": "2023-02-13T15:52:36.183Z"
   },
   {
    "duration": 36,
    "start_time": "2023-02-13T15:52:36.237Z"
   },
   {
    "duration": 182,
    "start_time": "2023-02-13T15:52:36.275Z"
   },
   {
    "duration": 157,
    "start_time": "2023-02-13T15:52:36.459Z"
   },
   {
    "duration": 188,
    "start_time": "2023-02-13T15:52:36.617Z"
   },
   {
    "duration": 166,
    "start_time": "2023-02-13T15:52:36.807Z"
   },
   {
    "duration": 148,
    "start_time": "2023-02-13T15:52:36.977Z"
   },
   {
    "duration": 173,
    "start_time": "2023-02-13T15:52:37.137Z"
   },
   {
    "duration": 280,
    "start_time": "2023-02-13T15:52:37.312Z"
   },
   {
    "duration": 180,
    "start_time": "2023-02-13T15:52:37.594Z"
   },
   {
    "duration": 152,
    "start_time": "2023-02-13T15:52:37.776Z"
   },
   {
    "duration": 166,
    "start_time": "2023-02-13T15:52:37.937Z"
   },
   {
    "duration": 177,
    "start_time": "2023-02-13T15:52:38.105Z"
   },
   {
    "duration": 167,
    "start_time": "2023-02-13T15:52:38.284Z"
   },
   {
    "duration": 173,
    "start_time": "2023-02-13T15:52:38.453Z"
   },
   {
    "duration": 165,
    "start_time": "2023-02-13T15:52:38.638Z"
   },
   {
    "duration": 170,
    "start_time": "2023-02-13T15:52:38.805Z"
   },
   {
    "duration": 6,
    "start_time": "2023-02-13T15:52:38.977Z"
   },
   {
    "duration": 37,
    "start_time": "2023-02-13T15:52:38.985Z"
   },
   {
    "duration": 45,
    "start_time": "2023-02-13T15:52:39.023Z"
   },
   {
    "duration": 131,
    "start_time": "2023-02-13T15:52:39.070Z"
   },
   {
    "duration": 136,
    "start_time": "2023-02-13T15:52:39.203Z"
   },
   {
    "duration": 153,
    "start_time": "2023-02-13T15:52:39.340Z"
   },
   {
    "duration": 148,
    "start_time": "2023-02-13T15:52:39.495Z"
   },
   {
    "duration": 133,
    "start_time": "2023-02-13T15:52:39.647Z"
   },
   {
    "duration": 162,
    "start_time": "2023-02-13T15:52:39.782Z"
   },
   {
    "duration": 137,
    "start_time": "2023-02-13T15:52:39.946Z"
   },
   {
    "duration": 142,
    "start_time": "2023-02-13T15:52:40.085Z"
   },
   {
    "duration": 125,
    "start_time": "2023-02-13T15:52:40.229Z"
   },
   {
    "duration": 132,
    "start_time": "2023-02-13T15:52:40.356Z"
   },
   {
    "duration": 118,
    "start_time": "2023-02-13T15:52:40.490Z"
   },
   {
    "duration": 147,
    "start_time": "2023-02-13T15:52:40.610Z"
   },
   {
    "duration": 178,
    "start_time": "2023-02-13T15:52:40.760Z"
   },
   {
    "duration": 235,
    "start_time": "2023-02-13T15:52:40.939Z"
   },
   {
    "duration": 131,
    "start_time": "2023-02-13T15:52:41.176Z"
   },
   {
    "duration": 9,
    "start_time": "2023-02-13T15:52:41.308Z"
   },
   {
    "duration": 188,
    "start_time": "2023-02-13T15:52:41.318Z"
   },
   {
    "duration": 225,
    "start_time": "2023-02-13T15:52:41.508Z"
   },
   {
    "duration": 45,
    "start_time": "2023-02-13T15:52:41.737Z"
   },
   {
    "duration": 0,
    "start_time": "2023-02-13T15:52:41.783Z"
   },
   {
    "duration": 0,
    "start_time": "2023-02-13T15:52:41.785Z"
   },
   {
    "duration": 0,
    "start_time": "2023-02-13T15:52:41.786Z"
   },
   {
    "duration": 0,
    "start_time": "2023-02-13T15:52:41.787Z"
   },
   {
    "duration": 0,
    "start_time": "2023-02-13T15:52:41.788Z"
   },
   {
    "duration": 0,
    "start_time": "2023-02-13T15:52:41.789Z"
   },
   {
    "duration": 0,
    "start_time": "2023-02-13T15:52:41.790Z"
   },
   {
    "duration": 0,
    "start_time": "2023-02-13T15:52:41.791Z"
   },
   {
    "duration": 0,
    "start_time": "2023-02-13T15:52:41.793Z"
   },
   {
    "duration": 0,
    "start_time": "2023-02-13T15:52:41.794Z"
   },
   {
    "duration": 0,
    "start_time": "2023-02-13T15:52:41.795Z"
   },
   {
    "duration": 0,
    "start_time": "2023-02-13T15:52:41.796Z"
   },
   {
    "duration": 0,
    "start_time": "2023-02-13T15:52:41.797Z"
   },
   {
    "duration": 0,
    "start_time": "2023-02-13T15:52:41.798Z"
   },
   {
    "duration": 45,
    "start_time": "2023-02-13T15:52:53.001Z"
   },
   {
    "duration": 59,
    "start_time": "2023-02-13T15:52:55.359Z"
   },
   {
    "duration": 2973,
    "start_time": "2023-02-13T15:53:06.301Z"
   },
   {
    "duration": 10,
    "start_time": "2023-02-13T15:53:09.276Z"
   },
   {
    "duration": 50,
    "start_time": "2023-02-13T15:53:09.288Z"
   },
   {
    "duration": 28,
    "start_time": "2023-02-13T15:53:09.340Z"
   },
   {
    "duration": 35,
    "start_time": "2023-02-13T15:53:09.370Z"
   },
   {
    "duration": 190,
    "start_time": "2023-02-13T15:53:09.407Z"
   },
   {
    "duration": 159,
    "start_time": "2023-02-13T15:53:09.599Z"
   },
   {
    "duration": 179,
    "start_time": "2023-02-13T15:53:09.760Z"
   },
   {
    "duration": 160,
    "start_time": "2023-02-13T15:53:09.941Z"
   },
   {
    "duration": 169,
    "start_time": "2023-02-13T15:53:10.104Z"
   },
   {
    "duration": 182,
    "start_time": "2023-02-13T15:53:10.275Z"
   },
   {
    "duration": 259,
    "start_time": "2023-02-13T15:53:10.459Z"
   },
   {
    "duration": 176,
    "start_time": "2023-02-13T15:53:10.720Z"
   },
   {
    "duration": 147,
    "start_time": "2023-02-13T15:53:10.898Z"
   },
   {
    "duration": 159,
    "start_time": "2023-02-13T15:53:11.047Z"
   },
   {
    "duration": 165,
    "start_time": "2023-02-13T15:53:11.207Z"
   },
   {
    "duration": 184,
    "start_time": "2023-02-13T15:53:11.373Z"
   },
   {
    "duration": 211,
    "start_time": "2023-02-13T15:53:11.559Z"
   },
   {
    "duration": 211,
    "start_time": "2023-02-13T15:53:11.772Z"
   },
   {
    "duration": 198,
    "start_time": "2023-02-13T15:53:11.985Z"
   },
   {
    "duration": 7,
    "start_time": "2023-02-13T15:53:12.185Z"
   },
   {
    "duration": 11,
    "start_time": "2023-02-13T15:53:12.195Z"
   },
   {
    "duration": 42,
    "start_time": "2023-02-13T15:53:12.208Z"
   },
   {
    "duration": 153,
    "start_time": "2023-02-13T15:53:12.252Z"
   },
   {
    "duration": 185,
    "start_time": "2023-02-13T15:53:12.408Z"
   },
   {
    "duration": 158,
    "start_time": "2023-02-13T15:53:12.595Z"
   },
   {
    "duration": 168,
    "start_time": "2023-02-13T15:53:12.755Z"
   },
   {
    "duration": 155,
    "start_time": "2023-02-13T15:53:12.927Z"
   },
   {
    "duration": 163,
    "start_time": "2023-02-13T15:53:13.084Z"
   },
   {
    "duration": 150,
    "start_time": "2023-02-13T15:53:13.249Z"
   },
   {
    "duration": 151,
    "start_time": "2023-02-13T15:53:13.401Z"
   },
   {
    "duration": 154,
    "start_time": "2023-02-13T15:53:13.554Z"
   },
   {
    "duration": 147,
    "start_time": "2023-02-13T15:53:13.710Z"
   },
   {
    "duration": 139,
    "start_time": "2023-02-13T15:53:13.859Z"
   },
   {
    "duration": 153,
    "start_time": "2023-02-13T15:53:14.000Z"
   },
   {
    "duration": 168,
    "start_time": "2023-02-13T15:53:14.155Z"
   },
   {
    "duration": 256,
    "start_time": "2023-02-13T15:53:14.324Z"
   },
   {
    "duration": 153,
    "start_time": "2023-02-13T15:53:14.582Z"
   },
   {
    "duration": 11,
    "start_time": "2023-02-13T15:53:14.738Z"
   },
   {
    "duration": 201,
    "start_time": "2023-02-13T15:53:14.751Z"
   },
   {
    "duration": 232,
    "start_time": "2023-02-13T15:53:14.954Z"
   },
   {
    "duration": 89,
    "start_time": "2023-02-13T15:53:15.189Z"
   },
   {
    "duration": 0,
    "start_time": "2023-02-13T15:53:15.280Z"
   },
   {
    "duration": 0,
    "start_time": "2023-02-13T15:53:15.281Z"
   },
   {
    "duration": 0,
    "start_time": "2023-02-13T15:53:15.283Z"
   },
   {
    "duration": 0,
    "start_time": "2023-02-13T15:53:15.284Z"
   },
   {
    "duration": 1,
    "start_time": "2023-02-13T15:53:15.286Z"
   },
   {
    "duration": 0,
    "start_time": "2023-02-13T15:53:15.288Z"
   },
   {
    "duration": 0,
    "start_time": "2023-02-13T15:53:15.290Z"
   },
   {
    "duration": 0,
    "start_time": "2023-02-13T15:53:15.291Z"
   },
   {
    "duration": 0,
    "start_time": "2023-02-13T15:53:15.293Z"
   },
   {
    "duration": 0,
    "start_time": "2023-02-13T15:53:15.295Z"
   },
   {
    "duration": 0,
    "start_time": "2023-02-13T15:53:15.296Z"
   },
   {
    "duration": 0,
    "start_time": "2023-02-13T15:53:15.298Z"
   },
   {
    "duration": 3781,
    "start_time": "2023-02-13T15:54:02.137Z"
   },
   {
    "duration": 18,
    "start_time": "2023-02-13T15:54:05.920Z"
   },
   {
    "duration": 38,
    "start_time": "2023-02-13T15:54:05.940Z"
   },
   {
    "duration": 32,
    "start_time": "2023-02-13T15:54:05.981Z"
   },
   {
    "duration": 36,
    "start_time": "2023-02-13T15:54:06.038Z"
   },
   {
    "duration": 193,
    "start_time": "2023-02-13T15:54:06.076Z"
   },
   {
    "duration": 143,
    "start_time": "2023-02-13T15:54:06.271Z"
   },
   {
    "duration": 163,
    "start_time": "2023-02-13T15:54:06.416Z"
   },
   {
    "duration": 172,
    "start_time": "2023-02-13T15:54:06.581Z"
   },
   {
    "duration": 150,
    "start_time": "2023-02-13T15:54:06.756Z"
   },
   {
    "duration": 175,
    "start_time": "2023-02-13T15:54:06.907Z"
   },
   {
    "duration": 247,
    "start_time": "2023-02-13T15:54:07.083Z"
   },
   {
    "duration": 166,
    "start_time": "2023-02-13T15:54:07.337Z"
   },
   {
    "duration": 162,
    "start_time": "2023-02-13T15:54:07.505Z"
   },
   {
    "duration": 168,
    "start_time": "2023-02-13T15:54:07.670Z"
   },
   {
    "duration": 149,
    "start_time": "2023-02-13T15:54:07.840Z"
   },
   {
    "duration": 199,
    "start_time": "2023-02-13T15:54:07.991Z"
   },
   {
    "duration": 189,
    "start_time": "2023-02-13T15:54:08.193Z"
   },
   {
    "duration": 187,
    "start_time": "2023-02-13T15:54:08.384Z"
   },
   {
    "duration": 159,
    "start_time": "2023-02-13T15:54:08.572Z"
   },
   {
    "duration": 6,
    "start_time": "2023-02-13T15:54:08.737Z"
   },
   {
    "duration": 16,
    "start_time": "2023-02-13T15:54:08.745Z"
   },
   {
    "duration": 24,
    "start_time": "2023-02-13T15:54:08.763Z"
   },
   {
    "duration": 136,
    "start_time": "2023-02-13T15:54:08.789Z"
   },
   {
    "duration": 153,
    "start_time": "2023-02-13T15:54:08.927Z"
   },
   {
    "duration": 148,
    "start_time": "2023-02-13T15:54:09.082Z"
   },
   {
    "duration": 151,
    "start_time": "2023-02-13T15:54:09.231Z"
   },
   {
    "duration": 154,
    "start_time": "2023-02-13T15:54:09.386Z"
   },
   {
    "duration": 165,
    "start_time": "2023-02-13T15:54:09.542Z"
   },
   {
    "duration": 152,
    "start_time": "2023-02-13T15:54:09.709Z"
   },
   {
    "duration": 138,
    "start_time": "2023-02-13T15:54:09.863Z"
   },
   {
    "duration": 135,
    "start_time": "2023-02-13T15:54:10.003Z"
   },
   {
    "duration": 144,
    "start_time": "2023-02-13T15:54:10.139Z"
   },
   {
    "duration": 125,
    "start_time": "2023-02-13T15:54:10.284Z"
   },
   {
    "duration": 151,
    "start_time": "2023-02-13T15:54:10.410Z"
   },
   {
    "duration": 175,
    "start_time": "2023-02-13T15:54:10.563Z"
   },
   {
    "duration": 240,
    "start_time": "2023-02-13T15:54:10.739Z"
   },
   {
    "duration": 134,
    "start_time": "2023-02-13T15:54:10.981Z"
   },
   {
    "duration": 20,
    "start_time": "2023-02-13T15:54:11.117Z"
   },
   {
    "duration": 212,
    "start_time": "2023-02-13T15:54:11.139Z"
   },
   {
    "duration": 227,
    "start_time": "2023-02-13T15:54:11.353Z"
   },
   {
    "duration": 257,
    "start_time": "2023-02-13T15:54:11.582Z"
   },
   {
    "duration": 236,
    "start_time": "2023-02-13T15:54:11.841Z"
   },
   {
    "duration": 273,
    "start_time": "2023-02-13T15:54:12.078Z"
   },
   {
    "duration": 280,
    "start_time": "2023-02-13T15:54:12.353Z"
   },
   {
    "duration": 381,
    "start_time": "2023-02-13T15:54:12.635Z"
   },
   {
    "duration": 202,
    "start_time": "2023-02-13T15:54:13.018Z"
   },
   {
    "duration": 242,
    "start_time": "2023-02-13T15:54:13.223Z"
   },
   {
    "duration": 230,
    "start_time": "2023-02-13T15:54:13.467Z"
   },
   {
    "duration": 330,
    "start_time": "2023-02-13T15:54:13.699Z"
   },
   {
    "duration": 10,
    "start_time": "2023-02-13T15:54:14.031Z"
   },
   {
    "duration": 50,
    "start_time": "2023-02-13T15:54:14.043Z"
   },
   {
    "duration": 16,
    "start_time": "2023-02-13T15:54:14.095Z"
   },
   {
    "duration": 3168,
    "start_time": "2023-02-13T16:09:44.325Z"
   },
   {
    "duration": 11,
    "start_time": "2023-02-13T16:09:49.793Z"
   },
   {
    "duration": 31,
    "start_time": "2023-02-13T16:09:52.504Z"
   },
   {
    "duration": 32,
    "start_time": "2023-02-13T16:09:56.283Z"
   },
   {
    "duration": 34,
    "start_time": "2023-02-13T16:09:58.911Z"
   },
   {
    "duration": 184,
    "start_time": "2023-02-13T16:10:00.906Z"
   },
   {
    "duration": 130,
    "start_time": "2023-02-13T16:10:04.213Z"
   },
   {
    "duration": 164,
    "start_time": "2023-02-13T16:10:08.022Z"
   },
   {
    "duration": 171,
    "start_time": "2023-02-13T16:10:10.843Z"
   },
   {
    "duration": 132,
    "start_time": "2023-02-13T16:10:12.792Z"
   },
   {
    "duration": 165,
    "start_time": "2023-02-13T16:10:14.505Z"
   },
   {
    "duration": 260,
    "start_time": "2023-02-13T16:10:16.178Z"
   },
   {
    "duration": 184,
    "start_time": "2023-02-13T16:10:17.998Z"
   },
   {
    "duration": 147,
    "start_time": "2023-02-13T16:10:20.152Z"
   },
   {
    "duration": 161,
    "start_time": "2023-02-13T16:10:21.489Z"
   },
   {
    "duration": 135,
    "start_time": "2023-02-13T16:10:22.897Z"
   },
   {
    "duration": 159,
    "start_time": "2023-02-13T16:10:24.838Z"
   },
   {
    "duration": 202,
    "start_time": "2023-02-13T16:10:28.325Z"
   },
   {
    "duration": 155,
    "start_time": "2023-02-13T16:10:30.682Z"
   },
   {
    "duration": 155,
    "start_time": "2023-02-13T16:10:32.207Z"
   },
   {
    "duration": 10,
    "start_time": "2023-02-13T16:10:34.749Z"
   },
   {
    "duration": 8,
    "start_time": "2023-02-13T16:10:36.511Z"
   },
   {
    "duration": 19,
    "start_time": "2023-02-13T16:10:38.704Z"
   },
   {
    "duration": 145,
    "start_time": "2023-02-13T16:10:40.614Z"
   },
   {
    "duration": 126,
    "start_time": "2023-02-13T16:10:44.091Z"
   },
   {
    "duration": 142,
    "start_time": "2023-02-13T16:10:46.988Z"
   },
   {
    "duration": 149,
    "start_time": "2023-02-13T16:10:47.374Z"
   },
   {
    "duration": 138,
    "start_time": "2023-02-13T16:10:49.173Z"
   },
   {
    "duration": 138,
    "start_time": "2023-02-13T16:10:50.982Z"
   },
   {
    "duration": 161,
    "start_time": "2023-02-13T16:10:52.418Z"
   },
   {
    "duration": 129,
    "start_time": "2023-02-13T16:10:53.981Z"
   },
   {
    "duration": 136,
    "start_time": "2023-02-13T16:10:55.481Z"
   },
   {
    "duration": 122,
    "start_time": "2023-02-13T16:10:56.882Z"
   },
   {
    "duration": 149,
    "start_time": "2023-02-13T16:10:58.277Z"
   },
   {
    "duration": 130,
    "start_time": "2023-02-13T16:10:59.432Z"
   },
   {
    "duration": 150,
    "start_time": "2023-02-13T16:11:01.216Z"
   },
   {
    "duration": 263,
    "start_time": "2023-02-13T16:11:02.850Z"
   },
   {
    "duration": 124,
    "start_time": "2023-02-13T16:11:04.279Z"
   },
   {
    "duration": 9,
    "start_time": "2023-02-13T16:11:08.579Z"
   },
   {
    "duration": 175,
    "start_time": "2023-02-13T16:11:17.707Z"
   },
   {
    "duration": 218,
    "start_time": "2023-02-13T16:11:21.076Z"
   },
   {
    "duration": 226,
    "start_time": "2023-02-13T16:11:26.078Z"
   },
   {
    "duration": 241,
    "start_time": "2023-02-13T16:11:29.824Z"
   },
   {
    "duration": 253,
    "start_time": "2023-02-13T16:11:33.574Z"
   },
   {
    "duration": 223,
    "start_time": "2023-02-13T16:11:35.664Z"
   },
   {
    "duration": 370,
    "start_time": "2023-02-13T16:11:37.878Z"
   },
   {
    "duration": 209,
    "start_time": "2023-02-13T16:11:40.979Z"
   },
   {
    "duration": 211,
    "start_time": "2023-02-13T16:11:48.602Z"
   },
   {
    "duration": 302,
    "start_time": "2023-02-13T16:11:52.612Z"
   },
   {
    "duration": 248,
    "start_time": "2023-02-13T16:11:55.415Z"
   },
   {
    "duration": 7,
    "start_time": "2023-02-13T16:12:16.714Z"
   },
   {
    "duration": 18,
    "start_time": "2023-02-13T16:12:18.778Z"
   },
   {
    "duration": 16,
    "start_time": "2023-02-13T16:12:32.534Z"
   },
   {
    "duration": 22,
    "start_time": "2023-02-13T16:13:42.280Z"
   },
   {
    "duration": 17,
    "start_time": "2023-02-13T16:16:49.067Z"
   },
   {
    "duration": 16,
    "start_time": "2023-02-13T16:17:29.111Z"
   },
   {
    "duration": 12,
    "start_time": "2023-02-13T16:33:18.821Z"
   },
   {
    "duration": 15,
    "start_time": "2023-02-13T16:33:34.002Z"
   },
   {
    "duration": 9,
    "start_time": "2023-02-13T16:35:41.704Z"
   },
   {
    "duration": 12,
    "start_time": "2023-02-13T16:36:06.287Z"
   },
   {
    "duration": 32,
    "start_time": "2023-02-13T16:36:29.490Z"
   },
   {
    "duration": 15,
    "start_time": "2023-02-13T16:36:55.688Z"
   },
   {
    "duration": 144,
    "start_time": "2023-02-13T16:40:53.849Z"
   },
   {
    "duration": 15,
    "start_time": "2023-02-13T16:43:24.129Z"
   },
   {
    "duration": 16,
    "start_time": "2023-02-13T16:44:05.191Z"
   },
   {
    "duration": 19,
    "start_time": "2023-02-13T16:44:25.780Z"
   },
   {
    "duration": 14,
    "start_time": "2023-02-13T16:44:50.731Z"
   },
   {
    "duration": 14,
    "start_time": "2023-02-13T16:45:19.043Z"
   },
   {
    "duration": 11,
    "start_time": "2023-02-13T16:46:07.807Z"
   },
   {
    "duration": 14,
    "start_time": "2023-02-13T16:48:06.230Z"
   },
   {
    "duration": 11,
    "start_time": "2023-02-13T16:50:11.496Z"
   },
   {
    "duration": 9,
    "start_time": "2023-02-13T16:50:13.291Z"
   },
   {
    "duration": 11,
    "start_time": "2023-02-13T16:50:23.674Z"
   }
  ],
  "kernelspec": {
   "display_name": "Python 3 (ipykernel)",
   "language": "python",
   "name": "python3"
  },
  "language_info": {
   "codemirror_mode": {
    "name": "ipython",
    "version": 3
   },
   "file_extension": ".py",
   "mimetype": "text/x-python",
   "name": "python",
   "nbconvert_exporter": "python",
   "pygments_lexer": "ipython3",
   "version": "3.10.9"
  },
  "toc": {
   "base_numbering": 1,
   "nav_menu": {},
   "number_sections": true,
   "sideBar": true,
   "skip_h1_title": true,
   "title_cell": "Table of Contents",
   "title_sidebar": "Contents",
   "toc_cell": false,
   "toc_position": {},
   "toc_section_display": true,
   "toc_window_display": false
  }
 },
 "nbformat": 4,
 "nbformat_minor": 2
}
