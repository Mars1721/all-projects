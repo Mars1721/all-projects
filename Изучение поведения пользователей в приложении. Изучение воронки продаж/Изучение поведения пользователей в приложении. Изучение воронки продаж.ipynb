{
 "cells": [
  {
   "cell_type": "code",
   "execution_count": 1,
   "metadata": {},
   "outputs": [],
   "source": [
    "import pandas as pd\n",
    "import matplotlib\n",
    "import matplotlib.pyplot as plt\n",
    "from scipy import stats as st\n",
    "import numpy as np\n",
    "import math as mth"
   ]
  },
  {
   "cell_type": "markdown",
   "metadata": {},
   "source": [
    "# ШАГ 1. Общая информация"
   ]
  },
  {
   "cell_type": "code",
   "execution_count": 2,
   "metadata": {},
   "outputs": [
    {
     "data": {
      "text/html": [
       "<div>\n",
       "<style scoped>\n",
       "    .dataframe tbody tr th:only-of-type {\n",
       "        vertical-align: middle;\n",
       "    }\n",
       "\n",
       "    .dataframe tbody tr th {\n",
       "        vertical-align: top;\n",
       "    }\n",
       "\n",
       "    .dataframe thead th {\n",
       "        text-align: right;\n",
       "    }\n",
       "</style>\n",
       "<table border=\"1\" class=\"dataframe\">\n",
       "  <thead>\n",
       "    <tr style=\"text-align: right;\">\n",
       "      <th></th>\n",
       "      <th>EventName</th>\n",
       "      <th>DeviceIDHash</th>\n",
       "      <th>EventTimestamp</th>\n",
       "      <th>ExpId</th>\n",
       "    </tr>\n",
       "  </thead>\n",
       "  <tbody>\n",
       "    <tr>\n",
       "      <th>0</th>\n",
       "      <td>MainScreenAppear</td>\n",
       "      <td>4575588528974610257</td>\n",
       "      <td>1564029816</td>\n",
       "      <td>246</td>\n",
       "    </tr>\n",
       "    <tr>\n",
       "      <th>1</th>\n",
       "      <td>MainScreenAppear</td>\n",
       "      <td>7416695313311560658</td>\n",
       "      <td>1564053102</td>\n",
       "      <td>246</td>\n",
       "    </tr>\n",
       "    <tr>\n",
       "      <th>2</th>\n",
       "      <td>PaymentScreenSuccessful</td>\n",
       "      <td>3518123091307005509</td>\n",
       "      <td>1564054127</td>\n",
       "      <td>248</td>\n",
       "    </tr>\n",
       "    <tr>\n",
       "      <th>3</th>\n",
       "      <td>CartScreenAppear</td>\n",
       "      <td>3518123091307005509</td>\n",
       "      <td>1564054127</td>\n",
       "      <td>248</td>\n",
       "    </tr>\n",
       "    <tr>\n",
       "      <th>4</th>\n",
       "      <td>PaymentScreenSuccessful</td>\n",
       "      <td>6217807653094995999</td>\n",
       "      <td>1564055322</td>\n",
       "      <td>248</td>\n",
       "    </tr>\n",
       "  </tbody>\n",
       "</table>\n",
       "</div>"
      ],
      "text/plain": [
       "                 EventName         DeviceIDHash  EventTimestamp  ExpId\n",
       "0         MainScreenAppear  4575588528974610257      1564029816    246\n",
       "1         MainScreenAppear  7416695313311560658      1564053102    246\n",
       "2  PaymentScreenSuccessful  3518123091307005509      1564054127    248\n",
       "3         CartScreenAppear  3518123091307005509      1564054127    248\n",
       "4  PaymentScreenSuccessful  6217807653094995999      1564055322    248"
      ]
     },
     "execution_count": 2,
     "metadata": {},
     "output_type": "execute_result"
    }
   ],
   "source": [
    "#Откроем датасет\n",
    "data = pd.read_csv('logs_exp.csv', sep='\\t')\n",
    "data.head()"
   ]
  },
  {
   "cell_type": "code",
   "execution_count": 19,
   "metadata": {},
   "outputs": [
    {
     "name": "stdout",
     "output_type": "stream",
     "text": [
      "<class 'pandas.core.frame.DataFrame'>\n",
      "RangeIndex: 244126 entries, 0 to 244125\n",
      "Data columns (total 4 columns):\n",
      " #   Column          Non-Null Count   Dtype \n",
      "---  ------          --------------   ----- \n",
      " 0   EventName       244126 non-null  object\n",
      " 1   DeviceIDHash    244126 non-null  int64 \n",
      " 2   EventTimestamp  244126 non-null  int64 \n",
      " 3   ExpId           244126 non-null  int64 \n",
      "dtypes: int64(3), object(1)\n",
      "memory usage: 7.5+ MB\n"
     ]
    }
   ],
   "source": [
    "#Проверим типы данных\n",
    "data.info()"
   ]
  },
  {
   "cell_type": "markdown",
   "metadata": {},
   "source": [
    "Вывод: Столбец EventTimestamp, который содержит дату, представлен в числовом виде, приведём его к типу дата."
   ]
  },
  {
   "cell_type": "markdown",
   "metadata": {},
   "source": [
    "# ШАГ 2. Готовим данные"
   ]
  },
  {
   "cell_type": "code",
   "execution_count": 20,
   "metadata": {},
   "outputs": [
    {
     "data": {
      "text/html": [
       "<div>\n",
       "<style scoped>\n",
       "    .dataframe tbody tr th:only-of-type {\n",
       "        vertical-align: middle;\n",
       "    }\n",
       "\n",
       "    .dataframe tbody tr th {\n",
       "        vertical-align: top;\n",
       "    }\n",
       "\n",
       "    .dataframe thead th {\n",
       "        text-align: right;\n",
       "    }\n",
       "</style>\n",
       "<table border=\"1\" class=\"dataframe\">\n",
       "  <thead>\n",
       "    <tr style=\"text-align: right;\">\n",
       "      <th></th>\n",
       "      <th>name</th>\n",
       "      <th>user</th>\n",
       "      <th>time</th>\n",
       "      <th>exp</th>\n",
       "      <th>date</th>\n",
       "    </tr>\n",
       "  </thead>\n",
       "  <tbody>\n",
       "    <tr>\n",
       "      <th>0</th>\n",
       "      <td>MainScreenAppear</td>\n",
       "      <td>4575588528974610257</td>\n",
       "      <td>2019-07-25 04:43:36</td>\n",
       "      <td>246</td>\n",
       "      <td>2019-07-25</td>\n",
       "    </tr>\n",
       "    <tr>\n",
       "      <th>1</th>\n",
       "      <td>MainScreenAppear</td>\n",
       "      <td>7416695313311560658</td>\n",
       "      <td>2019-07-25 11:11:42</td>\n",
       "      <td>246</td>\n",
       "      <td>2019-07-25</td>\n",
       "    </tr>\n",
       "    <tr>\n",
       "      <th>2</th>\n",
       "      <td>PaymentScreenSuccessful</td>\n",
       "      <td>3518123091307005509</td>\n",
       "      <td>2019-07-25 11:28:47</td>\n",
       "      <td>248</td>\n",
       "      <td>2019-07-25</td>\n",
       "    </tr>\n",
       "    <tr>\n",
       "      <th>3</th>\n",
       "      <td>CartScreenAppear</td>\n",
       "      <td>3518123091307005509</td>\n",
       "      <td>2019-07-25 11:28:47</td>\n",
       "      <td>248</td>\n",
       "      <td>2019-07-25</td>\n",
       "    </tr>\n",
       "    <tr>\n",
       "      <th>4</th>\n",
       "      <td>PaymentScreenSuccessful</td>\n",
       "      <td>6217807653094995999</td>\n",
       "      <td>2019-07-25 11:48:42</td>\n",
       "      <td>248</td>\n",
       "      <td>2019-07-25</td>\n",
       "    </tr>\n",
       "  </tbody>\n",
       "</table>\n",
       "</div>"
      ],
      "text/plain": [
       "                      name                 user                time  exp  \\\n",
       "0         MainScreenAppear  4575588528974610257 2019-07-25 04:43:36  246   \n",
       "1         MainScreenAppear  7416695313311560658 2019-07-25 11:11:42  246   \n",
       "2  PaymentScreenSuccessful  3518123091307005509 2019-07-25 11:28:47  248   \n",
       "3         CartScreenAppear  3518123091307005509 2019-07-25 11:28:47  248   \n",
       "4  PaymentScreenSuccessful  6217807653094995999 2019-07-25 11:48:42  248   \n",
       "\n",
       "        date  \n",
       "0 2019-07-25  \n",
       "1 2019-07-25  \n",
       "2 2019-07-25  \n",
       "3 2019-07-25  \n",
       "4 2019-07-25  "
      ]
     },
     "execution_count": 20,
     "metadata": {},
     "output_type": "execute_result"
    }
   ],
   "source": [
    "#Меняем названия столбцов\n",
    "data.columns = ['name', 'user', 'time', 'exp']\n",
    "\n",
    "#Меняем тип данных столбца на дату\n",
    "data['time'] = pd.to_datetime(data['time'], unit='s')\n",
    "\n",
    "#Добавляем новый столбец с датой\n",
    "data['date'] = data['time'].dt.strftime('%Y-%m-%d')\n",
    "data['date'] = pd.to_datetime(data['date'], format='%Y-%m-%d')\n",
    "\n",
    "data.head()"
   ]
  },
  {
   "cell_type": "code",
   "execution_count": 6,
   "metadata": {},
   "outputs": [
    {
     "name": "stdout",
     "output_type": "stream",
     "text": [
      "<class 'pandas.core.frame.DataFrame'>\n",
      "RangeIndex: 244126 entries, 0 to 244125\n",
      "Data columns (total 5 columns):\n",
      " #   Column  Non-Null Count   Dtype         \n",
      "---  ------  --------------   -----         \n",
      " 0   name    244126 non-null  object        \n",
      " 1   user    244126 non-null  int64         \n",
      " 2   time    244126 non-null  datetime64[ns]\n",
      " 3   exp     244126 non-null  int64         \n",
      " 4   date    244126 non-null  datetime64[ns]\n",
      "dtypes: datetime64[ns](2), int64(2), object(1)\n",
      "memory usage: 9.3+ MB\n"
     ]
    }
   ],
   "source": [
    "data.info()"
   ]
  },
  {
   "cell_type": "code",
   "execution_count": 7,
   "metadata": {},
   "outputs": [
    {
     "data": {
      "text/plain": [
       "name    0\n",
       "user    0\n",
       "time    0\n",
       "exp     0\n",
       "date    0\n",
       "dtype: int64"
      ]
     },
     "execution_count": 7,
     "metadata": {},
     "output_type": "execute_result"
    }
   ],
   "source": [
    "#Посмотрим количество пропусков\n",
    "data.isna().sum()"
   ]
  },
  {
   "cell_type": "code",
   "execution_count": 8,
   "metadata": {},
   "outputs": [
    {
     "name": "stdout",
     "output_type": "stream",
     "text": [
      "Всего дубликатов: 413\n",
      "Доля дубликатов от общего объёма: 0.17 %\n"
     ]
    }
   ],
   "source": [
    "#Посмотрим количество дубликатов\n",
    "print('Всего дубликатов:', data.duplicated().sum())\n",
    "\n",
    "#Записей всего - 244126\n",
    "entries = 244126\n",
    "\n",
    "#Найдём долю\n",
    "print('Доля дубликатов от общего объёма:', round(data.duplicated().sum() / entries * 100, 2),'%')"
   ]
  },
  {
   "cell_type": "code",
   "execution_count": 9,
   "metadata": {
    "scrolled": true
   },
   "outputs": [
    {
     "data": {
      "text/html": [
       "<div>\n",
       "<style scoped>\n",
       "    .dataframe tbody tr th:only-of-type {\n",
       "        vertical-align: middle;\n",
       "    }\n",
       "\n",
       "    .dataframe tbody tr th {\n",
       "        vertical-align: top;\n",
       "    }\n",
       "\n",
       "    .dataframe thead th {\n",
       "        text-align: right;\n",
       "    }\n",
       "</style>\n",
       "<table border=\"1\" class=\"dataframe\">\n",
       "  <thead>\n",
       "    <tr style=\"text-align: right;\">\n",
       "      <th></th>\n",
       "      <th>user</th>\n",
       "      <th>exp</th>\n",
       "    </tr>\n",
       "  </thead>\n",
       "  <tbody>\n",
       "  </tbody>\n",
       "</table>\n",
       "</div>"
      ],
      "text/plain": [
       "Empty DataFrame\n",
       "Columns: [user, exp]\n",
       "Index: []"
      ]
     },
     "execution_count": 9,
     "metadata": {},
     "output_type": "execute_result"
    }
   ],
   "source": [
    "#Проверим отсутствие пересечения пользователей в группах\n",
    "duple = data.groupby('user').agg({'exp':'nunique'}).query('exp > 1').reset_index()\n",
    "duple"
   ]
  },
  {
   "cell_type": "markdown",
   "metadata": {},
   "source": [
    "Вывод: 1) Заменили названия столбцов, \n",
    "2) поменяли тип данных для столбца с датой;\n",
    "3) удалили дубликаты;\n",
    "4) Сделали проверку, что пересечения пользователей в группах нет."
   ]
  },
  {
   "cell_type": "markdown",
   "metadata": {},
   "source": [
    "# ШАГ 3. Проверка данных"
   ]
  },
  {
   "cell_type": "code",
   "execution_count": 10,
   "metadata": {},
   "outputs": [
    {
     "name": "stdout",
     "output_type": "stream",
     "text": [
      "Количество событий: 244126\n"
     ]
    }
   ],
   "source": [
    "#Посчитаем количество событий\n",
    "ent = data['user'].count()\n",
    "print('Количество событий:', ent)"
   ]
  },
  {
   "cell_type": "code",
   "execution_count": 11,
   "metadata": {},
   "outputs": [
    {
     "name": "stdout",
     "output_type": "stream",
     "text": [
      "Количество пользователей: 7551\n"
     ]
    }
   ],
   "source": [
    "#Посчитаем количество пользователей\n",
    "pol = data['user'].nunique()\n",
    "print('Количество пользователей:', pol)"
   ]
  },
  {
   "cell_type": "code",
   "execution_count": 12,
   "metadata": {},
   "outputs": [
    {
     "name": "stdout",
     "output_type": "stream",
     "text": [
      "В среднем событий приходится на пользователя:  20.0\n"
     ]
    }
   ],
   "source": [
    "#Посчитаем какое количество событий в среднем приходится на пользователя\n",
    "med = data.groupby('user')['name'].agg('count').median()\n",
    "print('В среднем событий приходится на пользователя: ', med)"
   ]
  },
  {
   "cell_type": "code",
   "execution_count": 13,
   "metadata": {},
   "outputs": [
    {
     "name": "stdout",
     "output_type": "stream",
     "text": [
      "Дата начала исследования 2019-07-25 04:43:36\n",
      "Дата конца исследования 2019-08-07 21:15:17\n"
     ]
    }
   ],
   "source": [
    "minq = data['time'].min()\n",
    "maxq = data['time'].max()\n",
    "print('Дата начала исследования', minq)\n",
    "print('Дата конца исследования', maxq)"
   ]
  },
  {
   "cell_type": "markdown",
   "metadata": {},
   "source": [
    "### Постройте гистограмму по дате и времени."
   ]
  },
  {
   "cell_type": "code",
   "execution_count": 13,
   "metadata": {
    "scrolled": true
   },
   "outputs": [
    {
     "data": {
      "text/plain": [
       "Text(0.5, 0, 'Дата')"
      ]
     },
     "execution_count": 13,
     "metadata": {},
     "output_type": "execute_result"
    },
    {
     "data": {
      "image/png": "[encoded data removed]",
      "text/plain": [
       "<Figure size 1512x360 with 1 Axes>"
      ]
     },
     "metadata": {
      "needs_background": "light"
     },
     "output_type": "display_data"
    }
   ],
   "source": [
    "fig, axes = plt.subplots(1, 1, figsize=(21, 5))\n",
    "axes.hist(data['time'], bins= 100)\n",
    "axes.set_title('Гистограмма зависимости количества действий от даты')\n",
    "axes.set_ylabel('Количество действий')\n",
    "axes.set_xlabel('Дата')"
   ]
  },
  {
   "cell_type": "markdown",
   "metadata": {},
   "source": [
    "Вывод: Логи за период с 2019-07-25 по 2019-08-07. Всего событий в логе 244126, а пользователей 7551. В среднем на пользователя приходится 20 событий. По графику можно увидеть, что полные данные начинаются примерно с середины исследования, будем считать дату полных исследований 1 августа."
   ]
  },
  {
   "cell_type": "code",
   "execution_count": 14,
   "metadata": {},
   "outputs": [],
   "source": [
    "#Отбросим неполные данные\n",
    "data = data['2019-08-01 00:00' <= data['time']]"
   ]
  },
  {
   "cell_type": "code",
   "execution_count": 15,
   "metadata": {},
   "outputs": [
    {
     "name": "stdout",
     "output_type": "stream",
     "text": [
      "Всего событий за новый период: 241298\n"
     ]
    }
   ],
   "source": [
    "ent_new = data['user'].count()\n",
    "print('Всего событий за новый период:', ent_new)"
   ]
  },
  {
   "cell_type": "code",
   "execution_count": 16,
   "metadata": {},
   "outputs": [
    {
     "name": "stdout",
     "output_type": "stream",
     "text": [
      "Пользователей в логе за новый период: 7534\n"
     ]
    }
   ],
   "source": [
    "pol_new = data['user'].nunique()\n",
    "print('Пользователей в логе за новый период:', pol_new)"
   ]
  },
  {
   "cell_type": "code",
   "execution_count": 17,
   "metadata": {},
   "outputs": [
    {
     "name": "stdout",
     "output_type": "stream",
     "text": [
      "В среднем событий приходится на пользователя за новый период:  19.0\n"
     ]
    }
   ],
   "source": [
    "med_new = data.groupby('user')['name'].agg('count').median()\n",
    "print('В среднем событий приходится на пользователя за новый период: ', med_new)"
   ]
  },
  {
   "cell_type": "code",
   "execution_count": 18,
   "metadata": {},
   "outputs": [
    {
     "name": "stdout",
     "output_type": "stream",
     "text": [
      "Событий потеряно: 2828\n",
      "Доля потерянных событий: 1.16 %\n",
      "Пользователей потеряно: 17\n",
      "Доля потерянных пользователей: 0.23 %\n"
     ]
    }
   ],
   "source": [
    "#Посчитаем абсолютные значения и доли тех кого мы потеряли\n",
    "print('Событий потеряно:', ent - ent_new)\n",
    "print('Доля потерянных событий:', round((ent - ent_new) / ent * 100, 2), '%')\n",
    "print('Пользователей потеряно:', pol - pol_new)\n",
    "print('Доля потерянных пользователей:', round((pol - pol_new) / pol * 100, 2), '%')"
   ]
  },
  {
   "cell_type": "code",
   "execution_count": 19,
   "metadata": {},
   "outputs": [
    {
     "data": {
      "text/html": [
       "<div>\n",
       "<style scoped>\n",
       "    .dataframe tbody tr th:only-of-type {\n",
       "        vertical-align: middle;\n",
       "    }\n",
       "\n",
       "    .dataframe tbody tr th {\n",
       "        vertical-align: top;\n",
       "    }\n",
       "\n",
       "    .dataframe thead th {\n",
       "        text-align: right;\n",
       "    }\n",
       "</style>\n",
       "<table border=\"1\" class=\"dataframe\">\n",
       "  <thead>\n",
       "    <tr style=\"text-align: right;\">\n",
       "      <th></th>\n",
       "      <th>name</th>\n",
       "      <th>user</th>\n",
       "      <th>time</th>\n",
       "      <th>exp</th>\n",
       "      <th>date</th>\n",
       "    </tr>\n",
       "  </thead>\n",
       "  <tbody>\n",
       "    <tr>\n",
       "      <th>2828</th>\n",
       "      <td>Tutorial</td>\n",
       "      <td>3737462046622621720</td>\n",
       "      <td>2019-08-01 00:07:28</td>\n",
       "      <td>246</td>\n",
       "      <td>2019-08-01</td>\n",
       "    </tr>\n",
       "    <tr>\n",
       "      <th>2829</th>\n",
       "      <td>MainScreenAppear</td>\n",
       "      <td>3737462046622621720</td>\n",
       "      <td>2019-08-01 00:08:00</td>\n",
       "      <td>246</td>\n",
       "      <td>2019-08-01</td>\n",
       "    </tr>\n",
       "    <tr>\n",
       "      <th>2830</th>\n",
       "      <td>MainScreenAppear</td>\n",
       "      <td>3737462046622621720</td>\n",
       "      <td>2019-08-01 00:08:55</td>\n",
       "      <td>246</td>\n",
       "      <td>2019-08-01</td>\n",
       "    </tr>\n",
       "    <tr>\n",
       "      <th>2831</th>\n",
       "      <td>OffersScreenAppear</td>\n",
       "      <td>3737462046622621720</td>\n",
       "      <td>2019-08-01 00:08:58</td>\n",
       "      <td>246</td>\n",
       "      <td>2019-08-01</td>\n",
       "    </tr>\n",
       "    <tr>\n",
       "      <th>2834</th>\n",
       "      <td>OffersScreenAppear</td>\n",
       "      <td>3737462046622621720</td>\n",
       "      <td>2019-08-01 00:10:26</td>\n",
       "      <td>246</td>\n",
       "      <td>2019-08-01</td>\n",
       "    </tr>\n",
       "  </tbody>\n",
       "</table>\n",
       "</div>"
      ],
      "text/plain": [
       "                    name                 user                time  exp  \\\n",
       "2828            Tutorial  3737462046622621720 2019-08-01 00:07:28  246   \n",
       "2829    MainScreenAppear  3737462046622621720 2019-08-01 00:08:00  246   \n",
       "2830    MainScreenAppear  3737462046622621720 2019-08-01 00:08:55  246   \n",
       "2831  OffersScreenAppear  3737462046622621720 2019-08-01 00:08:58  246   \n",
       "2834  OffersScreenAppear  3737462046622621720 2019-08-01 00:10:26  246   \n",
       "\n",
       "           date  \n",
       "2828 2019-08-01  \n",
       "2829 2019-08-01  \n",
       "2830 2019-08-01  \n",
       "2831 2019-08-01  \n",
       "2834 2019-08-01  "
      ]
     },
     "execution_count": 19,
     "metadata": {},
     "output_type": "execute_result"
    }
   ],
   "source": [
    "data_246 = data.query('exp == 246')\n",
    "data_246.head()"
   ]
  },
  {
   "cell_type": "code",
   "execution_count": 20,
   "metadata": {},
   "outputs": [
    {
     "data": {
      "text/html": [
       "<div>\n",
       "<style scoped>\n",
       "    .dataframe tbody tr th:only-of-type {\n",
       "        vertical-align: middle;\n",
       "    }\n",
       "\n",
       "    .dataframe tbody tr th {\n",
       "        vertical-align: top;\n",
       "    }\n",
       "\n",
       "    .dataframe thead th {\n",
       "        text-align: right;\n",
       "    }\n",
       "</style>\n",
       "<table border=\"1\" class=\"dataframe\">\n",
       "  <thead>\n",
       "    <tr style=\"text-align: right;\">\n",
       "      <th></th>\n",
       "      <th>name</th>\n",
       "      <th>user</th>\n",
       "      <th>time</th>\n",
       "      <th>exp</th>\n",
       "      <th>date</th>\n",
       "    </tr>\n",
       "  </thead>\n",
       "  <tbody>\n",
       "    <tr>\n",
       "      <th>2832</th>\n",
       "      <td>MainScreenAppear</td>\n",
       "      <td>1433840883824088890</td>\n",
       "      <td>2019-08-01 00:08:59</td>\n",
       "      <td>247</td>\n",
       "      <td>2019-08-01</td>\n",
       "    </tr>\n",
       "    <tr>\n",
       "      <th>2833</th>\n",
       "      <td>MainScreenAppear</td>\n",
       "      <td>4899590676214355127</td>\n",
       "      <td>2019-08-01 00:10:15</td>\n",
       "      <td>247</td>\n",
       "      <td>2019-08-01</td>\n",
       "    </tr>\n",
       "    <tr>\n",
       "      <th>2838</th>\n",
       "      <td>MainScreenAppear</td>\n",
       "      <td>4899590676214355127</td>\n",
       "      <td>2019-08-01 00:11:28</td>\n",
       "      <td>247</td>\n",
       "      <td>2019-08-01</td>\n",
       "    </tr>\n",
       "    <tr>\n",
       "      <th>2839</th>\n",
       "      <td>OffersScreenAppear</td>\n",
       "      <td>4899590676214355127</td>\n",
       "      <td>2019-08-01 00:11:30</td>\n",
       "      <td>247</td>\n",
       "      <td>2019-08-01</td>\n",
       "    </tr>\n",
       "    <tr>\n",
       "      <th>2843</th>\n",
       "      <td>OffersScreenAppear</td>\n",
       "      <td>4899590676214355127</td>\n",
       "      <td>2019-08-01 00:12:36</td>\n",
       "      <td>247</td>\n",
       "      <td>2019-08-01</td>\n",
       "    </tr>\n",
       "  </tbody>\n",
       "</table>\n",
       "</div>"
      ],
      "text/plain": [
       "                    name                 user                time  exp  \\\n",
       "2832    MainScreenAppear  1433840883824088890 2019-08-01 00:08:59  247   \n",
       "2833    MainScreenAppear  4899590676214355127 2019-08-01 00:10:15  247   \n",
       "2838    MainScreenAppear  4899590676214355127 2019-08-01 00:11:28  247   \n",
       "2839  OffersScreenAppear  4899590676214355127 2019-08-01 00:11:30  247   \n",
       "2843  OffersScreenAppear  4899590676214355127 2019-08-01 00:12:36  247   \n",
       "\n",
       "           date  \n",
       "2832 2019-08-01  \n",
       "2833 2019-08-01  \n",
       "2838 2019-08-01  \n",
       "2839 2019-08-01  \n",
       "2843 2019-08-01  "
      ]
     },
     "execution_count": 20,
     "metadata": {},
     "output_type": "execute_result"
    }
   ],
   "source": [
    "data_247 = data.query('exp == 247')\n",
    "data_247.head()"
   ]
  },
  {
   "cell_type": "code",
   "execution_count": 21,
   "metadata": {},
   "outputs": [
    {
     "data": {
      "text/html": [
       "<div>\n",
       "<style scoped>\n",
       "    .dataframe tbody tr th:only-of-type {\n",
       "        vertical-align: middle;\n",
       "    }\n",
       "\n",
       "    .dataframe tbody tr th {\n",
       "        vertical-align: top;\n",
       "    }\n",
       "\n",
       "    .dataframe thead th {\n",
       "        text-align: right;\n",
       "    }\n",
       "</style>\n",
       "<table border=\"1\" class=\"dataframe\">\n",
       "  <thead>\n",
       "    <tr style=\"text-align: right;\">\n",
       "      <th></th>\n",
       "      <th>name</th>\n",
       "      <th>user</th>\n",
       "      <th>time</th>\n",
       "      <th>exp</th>\n",
       "      <th>date</th>\n",
       "    </tr>\n",
       "  </thead>\n",
       "  <tbody>\n",
       "    <tr>\n",
       "      <th>2844</th>\n",
       "      <td>MainScreenAppear</td>\n",
       "      <td>4613461174774205834</td>\n",
       "      <td>2019-08-01 00:14:31</td>\n",
       "      <td>248</td>\n",
       "      <td>2019-08-01</td>\n",
       "    </tr>\n",
       "    <tr>\n",
       "      <th>2845</th>\n",
       "      <td>MainScreenAppear</td>\n",
       "      <td>4613461174774205834</td>\n",
       "      <td>2019-08-01 00:14:34</td>\n",
       "      <td>248</td>\n",
       "      <td>2019-08-01</td>\n",
       "    </tr>\n",
       "    <tr>\n",
       "      <th>2846</th>\n",
       "      <td>CartScreenAppear</td>\n",
       "      <td>4613461174774205834</td>\n",
       "      <td>2019-08-01 00:14:34</td>\n",
       "      <td>248</td>\n",
       "      <td>2019-08-01</td>\n",
       "    </tr>\n",
       "    <tr>\n",
       "      <th>2847</th>\n",
       "      <td>PaymentScreenSuccessful</td>\n",
       "      <td>4613461174774205834</td>\n",
       "      <td>2019-08-01 00:14:43</td>\n",
       "      <td>248</td>\n",
       "      <td>2019-08-01</td>\n",
       "    </tr>\n",
       "    <tr>\n",
       "      <th>2848</th>\n",
       "      <td>OffersScreenAppear</td>\n",
       "      <td>4613461174774205834</td>\n",
       "      <td>2019-08-01 00:14:51</td>\n",
       "      <td>248</td>\n",
       "      <td>2019-08-01</td>\n",
       "    </tr>\n",
       "  </tbody>\n",
       "</table>\n",
       "</div>"
      ],
      "text/plain": [
       "                         name                 user                time  exp  \\\n",
       "2844         MainScreenAppear  4613461174774205834 2019-08-01 00:14:31  248   \n",
       "2845         MainScreenAppear  4613461174774205834 2019-08-01 00:14:34  248   \n",
       "2846         CartScreenAppear  4613461174774205834 2019-08-01 00:14:34  248   \n",
       "2847  PaymentScreenSuccessful  4613461174774205834 2019-08-01 00:14:43  248   \n",
       "2848       OffersScreenAppear  4613461174774205834 2019-08-01 00:14:51  248   \n",
       "\n",
       "           date  \n",
       "2844 2019-08-01  \n",
       "2845 2019-08-01  \n",
       "2846 2019-08-01  \n",
       "2847 2019-08-01  \n",
       "2848 2019-08-01  "
      ]
     },
     "execution_count": 21,
     "metadata": {},
     "output_type": "execute_result"
    }
   ],
   "source": [
    "data_248 = data.query('exp == 248')\n",
    "data_248.head()"
   ]
  },
  {
   "cell_type": "markdown",
   "metadata": {},
   "source": [
    "Вывод: Отбросив неполные данные было потеряно 2828 событий или 1.16%, пользователей было потеряно 17 или 0.23%, удостоверилиь, что во всех группах есть пользователи."
   ]
  },
  {
   "cell_type": "markdown",
   "metadata": {},
   "source": [
    "# Шаг 4. Изучим воронку событий"
   ]
  },
  {
   "cell_type": "markdown",
   "metadata": {},
   "source": [
    "### 1. Посмотрим, какие события есть в логах, как часто они встречаются. Отсортируем события по частоте."
   ]
  },
  {
   "cell_type": "code",
   "execution_count": 22,
   "metadata": {},
   "outputs": [
    {
     "data": {
      "text/html": [
       "<div>\n",
       "<style scoped>\n",
       "    .dataframe tbody tr th:only-of-type {\n",
       "        vertical-align: middle;\n",
       "    }\n",
       "\n",
       "    .dataframe tbody tr th {\n",
       "        vertical-align: top;\n",
       "    }\n",
       "\n",
       "    .dataframe thead th {\n",
       "        text-align: right;\n",
       "    }\n",
       "</style>\n",
       "<table border=\"1\" class=\"dataframe\">\n",
       "  <thead>\n",
       "    <tr style=\"text-align: right;\">\n",
       "      <th></th>\n",
       "      <th>name</th>\n",
       "      <th>count_of_exp</th>\n",
       "      <th>nun_us</th>\n",
       "      <th>%</th>\n",
       "    </tr>\n",
       "  </thead>\n",
       "  <tbody>\n",
       "    <tr>\n",
       "      <th>1</th>\n",
       "      <td>MainScreenAppear</td>\n",
       "      <td>117431</td>\n",
       "      <td>7419</td>\n",
       "      <td>98.47</td>\n",
       "    </tr>\n",
       "    <tr>\n",
       "      <th>2</th>\n",
       "      <td>OffersScreenAppear</td>\n",
       "      <td>46350</td>\n",
       "      <td>4593</td>\n",
       "      <td>60.96</td>\n",
       "    </tr>\n",
       "    <tr>\n",
       "      <th>0</th>\n",
       "      <td>CartScreenAppear</td>\n",
       "      <td>42365</td>\n",
       "      <td>3734</td>\n",
       "      <td>49.56</td>\n",
       "    </tr>\n",
       "    <tr>\n",
       "      <th>3</th>\n",
       "      <td>PaymentScreenSuccessful</td>\n",
       "      <td>34113</td>\n",
       "      <td>3539</td>\n",
       "      <td>46.97</td>\n",
       "    </tr>\n",
       "    <tr>\n",
       "      <th>4</th>\n",
       "      <td>Tutorial</td>\n",
       "      <td>1039</td>\n",
       "      <td>840</td>\n",
       "      <td>11.15</td>\n",
       "    </tr>\n",
       "  </tbody>\n",
       "</table>\n",
       "</div>"
      ],
      "text/plain": [
       "                      name  count_of_exp  nun_us      %\n",
       "1         MainScreenAppear        117431    7419  98.47\n",
       "2       OffersScreenAppear         46350    4593  60.96\n",
       "0         CartScreenAppear         42365    3734  49.56\n",
       "3  PaymentScreenSuccessful         34113    3539  46.97\n",
       "4                 Tutorial          1039     840  11.15"
      ]
     },
     "execution_count": 22,
     "metadata": {},
     "output_type": "execute_result"
    }
   ],
   "source": [
    "ev_frequency = data.groupby('name')['user'].agg(['count', 'nunique']).reset_index().sort_values(by='count', ascending=False)\n",
    "ev_frequency.columns = ['name', 'count_of_exp', 'nun_us']\n",
    "ev_frequency['%'] = round(ev_frequency['nun_us'] / pol_new * 100, 2)\n",
    "ev_frequency"
   ]
  },
  {
   "cell_type": "markdown",
   "metadata": {},
   "source": [
    "Вывод: Самое частое событие это MainScreenAppear случалось 117431 раз. Второе по популярности событие это OffersScreenAppear случалось 46350 раз. За ним следует CartScreenAppear - оно случалось 42365 раза. Четвёртое событие PaymentScreenSuccessful - 34113 раз. Пятое событие - Tutorial - случалось 1039 раз."
   ]
  },
  {
   "cell_type": "markdown",
   "metadata": {},
   "source": [
    "### 2. Посчитаем, сколько пользователей совершали каждое из этих событий. Отсортируем события по числу пользователей. Посчитаем долю пользователей, которые хоть раз совершали событие."
   ]
  },
  {
   "cell_type": "code",
   "execution_count": 15,
   "metadata": {},
   "outputs": [
    {
     "data": {
      "text/html": [
       "<div>\n",
       "<style scoped>\n",
       "    .dataframe tbody tr th:only-of-type {\n",
       "        vertical-align: middle;\n",
       "    }\n",
       "\n",
       "    .dataframe tbody tr th {\n",
       "        vertical-align: top;\n",
       "    }\n",
       "\n",
       "    .dataframe thead th {\n",
       "        text-align: right;\n",
       "    }\n",
       "</style>\n",
       "<table border=\"1\" class=\"dataframe\">\n",
       "  <thead>\n",
       "    <tr style=\"text-align: right;\">\n",
       "      <th></th>\n",
       "      <th>name</th>\n",
       "      <th>exp</th>\n",
       "      <th>n_events</th>\n",
       "      <th>n_users</th>\n",
       "    </tr>\n",
       "  </thead>\n",
       "  <tbody>\n",
       "    <tr>\n",
       "      <th>0</th>\n",
       "      <td>CartScreenAppear</td>\n",
       "      <td>246</td>\n",
       "      <td>14819</td>\n",
       "      <td>1270</td>\n",
       "    </tr>\n",
       "    <tr>\n",
       "      <th>1</th>\n",
       "      <td>CartScreenAppear</td>\n",
       "      <td>247</td>\n",
       "      <td>12570</td>\n",
       "      <td>1240</td>\n",
       "    </tr>\n",
       "    <tr>\n",
       "      <th>2</th>\n",
       "      <td>CartScreenAppear</td>\n",
       "      <td>248</td>\n",
       "      <td>15342</td>\n",
       "      <td>1239</td>\n",
       "    </tr>\n",
       "    <tr>\n",
       "      <th>3</th>\n",
       "      <td>MainScreenAppear</td>\n",
       "      <td>246</td>\n",
       "      <td>38281</td>\n",
       "      <td>2456</td>\n",
       "    </tr>\n",
       "    <tr>\n",
       "      <th>4</th>\n",
       "      <td>MainScreenAppear</td>\n",
       "      <td>247</td>\n",
       "      <td>39710</td>\n",
       "      <td>2482</td>\n",
       "    </tr>\n",
       "    <tr>\n",
       "      <th>5</th>\n",
       "      <td>MainScreenAppear</td>\n",
       "      <td>248</td>\n",
       "      <td>41214</td>\n",
       "      <td>2501</td>\n",
       "    </tr>\n",
       "    <tr>\n",
       "      <th>6</th>\n",
       "      <td>OffersScreenAppear</td>\n",
       "      <td>246</td>\n",
       "      <td>14910</td>\n",
       "      <td>1545</td>\n",
       "    </tr>\n",
       "    <tr>\n",
       "      <th>7</th>\n",
       "      <td>OffersScreenAppear</td>\n",
       "      <td>247</td>\n",
       "      <td>15344</td>\n",
       "      <td>1530</td>\n",
       "    </tr>\n",
       "    <tr>\n",
       "      <th>8</th>\n",
       "      <td>OffersScreenAppear</td>\n",
       "      <td>248</td>\n",
       "      <td>16571</td>\n",
       "      <td>1538</td>\n",
       "    </tr>\n",
       "    <tr>\n",
       "      <th>9</th>\n",
       "      <td>PaymentScreenSuccessful</td>\n",
       "      <td>246</td>\n",
       "      <td>11970</td>\n",
       "      <td>1202</td>\n",
       "    </tr>\n",
       "    <tr>\n",
       "      <th>10</th>\n",
       "      <td>PaymentScreenSuccessful</td>\n",
       "      <td>247</td>\n",
       "      <td>10101</td>\n",
       "      <td>1160</td>\n",
       "    </tr>\n",
       "    <tr>\n",
       "      <th>11</th>\n",
       "      <td>PaymentScreenSuccessful</td>\n",
       "      <td>248</td>\n",
       "      <td>12242</td>\n",
       "      <td>1185</td>\n",
       "    </tr>\n",
       "    <tr>\n",
       "      <th>12</th>\n",
       "      <td>Tutorial</td>\n",
       "      <td>246</td>\n",
       "      <td>324</td>\n",
       "      <td>279</td>\n",
       "    </tr>\n",
       "    <tr>\n",
       "      <th>13</th>\n",
       "      <td>Tutorial</td>\n",
       "      <td>247</td>\n",
       "      <td>350</td>\n",
       "      <td>286</td>\n",
       "    </tr>\n",
       "    <tr>\n",
       "      <th>14</th>\n",
       "      <td>Tutorial</td>\n",
       "      <td>248</td>\n",
       "      <td>378</td>\n",
       "      <td>282</td>\n",
       "    </tr>\n",
       "  </tbody>\n",
       "</table>\n",
       "</div>"
      ],
      "text/plain": [
       "                       name  exp  n_events  n_users\n",
       "0          CartScreenAppear  246     14819     1270\n",
       "1          CartScreenAppear  247     12570     1240\n",
       "2          CartScreenAppear  248     15342     1239\n",
       "3          MainScreenAppear  246     38281     2456\n",
       "4          MainScreenAppear  247     39710     2482\n",
       "5          MainScreenAppear  248     41214     2501\n",
       "6        OffersScreenAppear  246     14910     1545\n",
       "7        OffersScreenAppear  247     15344     1530\n",
       "8        OffersScreenAppear  248     16571     1538\n",
       "9   PaymentScreenSuccessful  246     11970     1202\n",
       "10  PaymentScreenSuccessful  247     10101     1160\n",
       "11  PaymentScreenSuccessful  248     12242     1185\n",
       "12                 Tutorial  246       324      279\n",
       "13                 Tutorial  247       350      286\n",
       "14                 Tutorial  248       378      282"
      ]
     },
     "execution_count": 15,
     "metadata": {},
     "output_type": "execute_result"
    }
   ],
   "source": [
    "ev_pivot = data.pivot_table(index=['name', 'exp'], values='user', aggfunc=['count', 'nunique']).reset_index()\n",
    "ev_pivot.columns= ['name', 'exp', 'n_events', 'n_users']\n",
    "ev_pivot"
   ]
  },
  {
   "cell_type": "markdown",
   "metadata": {},
   "source": [
    "Вывод: 7419 пользователя хотя бы раз открывали MainScreenAppear это 98.47% пользователей. 4593 пользователей хотя бы раз открывали OffersScreenAppear - 60.96% пользователей. 3734 пользователей хотя бы раз открывали CartScreenAppear это 49.56% всех пользователей. 3539 пользователей хотя бы раз открывали PaymentScreenSuccessful - 46.97% и 840 пользователя открывали Tutorial - 11.15%."
   ]
  },
  {
   "cell_type": "markdown",
   "metadata": {},
   "source": [
    "### 3. Предположим, в каком порядке происходят события."
   ]
  },
  {
   "cell_type": "markdown",
   "metadata": {},
   "source": [
    "Пользователь сначала открывает MainScreenAppear, \n",
    "затем выбирает OffersScreenAppear, \n",
    "кладёт их в корзину(CartScreenAppear),\n",
    "оплачивает(PaymentScreenSuccessful)."
   ]
  },
  {
   "cell_type": "markdown",
   "metadata": {},
   "source": [
    "### 4. Посчитаем, какая доля пользователей проходит на следующий шаг воронки."
   ]
  },
  {
   "cell_type": "markdown",
   "metadata": {},
   "source": [
    "### Воронка событий для 246 группы"
   ]
  },
  {
   "cell_type": "code",
   "execution_count": 24,
   "metadata": {
    "scrolled": true
   },
   "outputs": [
    {
     "data": {
      "text/html": [
       "<div>\n",
       "<style scoped>\n",
       "    .dataframe tbody tr th:only-of-type {\n",
       "        vertical-align: middle;\n",
       "    }\n",
       "\n",
       "    .dataframe tbody tr th {\n",
       "        vertical-align: top;\n",
       "    }\n",
       "\n",
       "    .dataframe thead th {\n",
       "        text-align: right;\n",
       "    }\n",
       "</style>\n",
       "<table border=\"1\" class=\"dataframe\">\n",
       "  <thead>\n",
       "    <tr style=\"text-align: right;\">\n",
       "      <th></th>\n",
       "      <th>name</th>\n",
       "      <th>Пользователей на текущем этапе</th>\n",
       "      <th>Пользователей на следующем этапе</th>\n",
       "      <th>Процент от всех пользователей</th>\n",
       "      <th>Перешло на следующий этап</th>\n",
       "    </tr>\n",
       "  </thead>\n",
       "  <tbody>\n",
       "    <tr>\n",
       "      <th>3</th>\n",
       "      <td>MainScreenAppear</td>\n",
       "      <td>2450</td>\n",
       "      <td>1542.0</td>\n",
       "      <td>100.00</td>\n",
       "      <td>62.94</td>\n",
       "    </tr>\n",
       "    <tr>\n",
       "      <th>6</th>\n",
       "      <td>OffersScreenAppear</td>\n",
       "      <td>1542</td>\n",
       "      <td>1266.0</td>\n",
       "      <td>62.94</td>\n",
       "      <td>82.10</td>\n",
       "    </tr>\n",
       "    <tr>\n",
       "      <th>0</th>\n",
       "      <td>CartScreenAppear</td>\n",
       "      <td>1266</td>\n",
       "      <td>1200.0</td>\n",
       "      <td>51.67</td>\n",
       "      <td>94.79</td>\n",
       "    </tr>\n",
       "    <tr>\n",
       "      <th>9</th>\n",
       "      <td>PaymentScreenSuccessful</td>\n",
       "      <td>1200</td>\n",
       "      <td>NaN</td>\n",
       "      <td>48.98</td>\n",
       "      <td>NaN</td>\n",
       "    </tr>\n",
       "  </tbody>\n",
       "</table>\n",
       "</div>"
      ],
      "text/plain": [
       "                      name  Пользователей на текущем этапе  \\\n",
       "3         MainScreenAppear                            2450   \n",
       "6       OffersScreenAppear                            1542   \n",
       "0         CartScreenAppear                            1266   \n",
       "9  PaymentScreenSuccessful                            1200   \n",
       "\n",
       "   Пользователей на следующем этапе  Процент от всех пользователей  \\\n",
       "3                            1542.0                         100.00   \n",
       "6                            1266.0                          62.94   \n",
       "0                            1200.0                          51.67   \n",
       "9                               NaN                          48.98   \n",
       "\n",
       "   Перешло на следующий этап  \n",
       "3                      62.94  \n",
       "6                      82.10  \n",
       "0                      94.79  \n",
       "9                        NaN  "
      ]
     },
     "execution_count": 24,
     "metadata": {},
     "output_type": "execute_result"
    }
   ],
   "source": [
    "ev_pivot_246 = ev_pivot.query('exp == 246').sort_values(by='n_users', ascending=False).drop(['exp', 'n_events'], axis=1).drop([12])\n",
    "\n",
    "ev_pivot_246.columns = ['name', 'Пользователей на текущем этапе']\n",
    "ev_pivot_246['Пользователей на следующем этапе'] = ev_pivot_246['Пользователей на текущем этапе'].shift(-1)\n",
    "ev_pivot_246['Процент от всех пользователей'] = round(ev_pivot_246['Пользователей на текущем этапе'] / ev_pivot_246['Пользователей на текущем этапе'].max() * 100, 2)\n",
    "ev_pivot_246['Перешло на следующий этап'] = round(ev_pivot_246['Пользователей на следующем этапе'] / ev_pivot_246['Пользователей на текущем этапе'] * 100, 2)\n",
    "\n",
    "ev_pivot_246"
   ]
  },
  {
   "cell_type": "markdown",
   "metadata": {},
   "source": [
    "### Воронка событий для 247 группы"
   ]
  },
  {
   "cell_type": "code",
   "execution_count": 25,
   "metadata": {},
   "outputs": [
    {
     "data": {
      "text/html": [
       "<div>\n",
       "<style scoped>\n",
       "    .dataframe tbody tr th:only-of-type {\n",
       "        vertical-align: middle;\n",
       "    }\n",
       "\n",
       "    .dataframe tbody tr th {\n",
       "        vertical-align: top;\n",
       "    }\n",
       "\n",
       "    .dataframe thead th {\n",
       "        text-align: right;\n",
       "    }\n",
       "</style>\n",
       "<table border=\"1\" class=\"dataframe\">\n",
       "  <thead>\n",
       "    <tr style=\"text-align: right;\">\n",
       "      <th></th>\n",
       "      <th>name</th>\n",
       "      <th>Пользователей на текущем этапе</th>\n",
       "      <th>Пользователей на следующем этапе</th>\n",
       "      <th>Процент от всех пользователей</th>\n",
       "      <th>Перешло на следующий этап</th>\n",
       "    </tr>\n",
       "  </thead>\n",
       "  <tbody>\n",
       "    <tr>\n",
       "      <th>4</th>\n",
       "      <td>MainScreenAppear</td>\n",
       "      <td>2476</td>\n",
       "      <td>1520.0</td>\n",
       "      <td>100.00</td>\n",
       "      <td>61.39</td>\n",
       "    </tr>\n",
       "    <tr>\n",
       "      <th>7</th>\n",
       "      <td>OffersScreenAppear</td>\n",
       "      <td>1520</td>\n",
       "      <td>1238.0</td>\n",
       "      <td>61.39</td>\n",
       "      <td>81.45</td>\n",
       "    </tr>\n",
       "    <tr>\n",
       "      <th>1</th>\n",
       "      <td>CartScreenAppear</td>\n",
       "      <td>1238</td>\n",
       "      <td>1158.0</td>\n",
       "      <td>50.00</td>\n",
       "      <td>93.54</td>\n",
       "    </tr>\n",
       "    <tr>\n",
       "      <th>10</th>\n",
       "      <td>PaymentScreenSuccessful</td>\n",
       "      <td>1158</td>\n",
       "      <td>NaN</td>\n",
       "      <td>46.77</td>\n",
       "      <td>NaN</td>\n",
       "    </tr>\n",
       "  </tbody>\n",
       "</table>\n",
       "</div>"
      ],
      "text/plain": [
       "                       name  Пользователей на текущем этапе  \\\n",
       "4          MainScreenAppear                            2476   \n",
       "7        OffersScreenAppear                            1520   \n",
       "1          CartScreenAppear                            1238   \n",
       "10  PaymentScreenSuccessful                            1158   \n",
       "\n",
       "    Пользователей на следующем этапе  Процент от всех пользователей  \\\n",
       "4                             1520.0                         100.00   \n",
       "7                             1238.0                          61.39   \n",
       "1                             1158.0                          50.00   \n",
       "10                               NaN                          46.77   \n",
       "\n",
       "    Перешло на следующий этап  \n",
       "4                       61.39  \n",
       "7                       81.45  \n",
       "1                       93.54  \n",
       "10                        NaN  "
      ]
     },
     "execution_count": 25,
     "metadata": {},
     "output_type": "execute_result"
    }
   ],
   "source": [
    "ev_pivot_247 = ev_pivot.query('exp == 247').sort_values(by='n_users', ascending=False).drop(['exp', 'n_events'], axis=1).drop([13])\n",
    "\n",
    "ev_pivot_247.columns = ['name', 'Пользователей на текущем этапе']\n",
    "ev_pivot_247['Пользователей на следующем этапе'] = ev_pivot_247['Пользователей на текущем этапе'].shift(-1)\n",
    "ev_pivot_247['Процент от всех пользователей'] = round(ev_pivot_247['Пользователей на текущем этапе'] / ev_pivot_247['Пользователей на текущем этапе'].max() * 100, 2)\n",
    "ev_pivot_247['Перешло на следующий этап'] = round(ev_pivot_247['Пользователей на следующем этапе'] / ev_pivot_247['Пользователей на текущем этапе'] * 100, 2)\n",
    "\n",
    "ev_pivot_247"
   ]
  },
  {
   "cell_type": "markdown",
   "metadata": {},
   "source": [
    "### Воронка событий для 248 группы"
   ]
  },
  {
   "cell_type": "code",
   "execution_count": 26,
   "metadata": {},
   "outputs": [
    {
     "data": {
      "text/html": [
       "<div>\n",
       "<style scoped>\n",
       "    .dataframe tbody tr th:only-of-type {\n",
       "        vertical-align: middle;\n",
       "    }\n",
       "\n",
       "    .dataframe tbody tr th {\n",
       "        vertical-align: top;\n",
       "    }\n",
       "\n",
       "    .dataframe thead th {\n",
       "        text-align: right;\n",
       "    }\n",
       "</style>\n",
       "<table border=\"1\" class=\"dataframe\">\n",
       "  <thead>\n",
       "    <tr style=\"text-align: right;\">\n",
       "      <th></th>\n",
       "      <th>name</th>\n",
       "      <th>Пользователей на текущем этапе</th>\n",
       "      <th>Пользователей на следующем этапе</th>\n",
       "      <th>Процент от всех пользователей</th>\n",
       "      <th>Перешло на следующий этап</th>\n",
       "    </tr>\n",
       "  </thead>\n",
       "  <tbody>\n",
       "    <tr>\n",
       "      <th>5</th>\n",
       "      <td>MainScreenAppear</td>\n",
       "      <td>2493</td>\n",
       "      <td>1531.0</td>\n",
       "      <td>100.00</td>\n",
       "      <td>61.41</td>\n",
       "    </tr>\n",
       "    <tr>\n",
       "      <th>8</th>\n",
       "      <td>OffersScreenAppear</td>\n",
       "      <td>1531</td>\n",
       "      <td>1230.0</td>\n",
       "      <td>61.41</td>\n",
       "      <td>80.34</td>\n",
       "    </tr>\n",
       "    <tr>\n",
       "      <th>2</th>\n",
       "      <td>CartScreenAppear</td>\n",
       "      <td>1230</td>\n",
       "      <td>1181.0</td>\n",
       "      <td>49.34</td>\n",
       "      <td>96.02</td>\n",
       "    </tr>\n",
       "    <tr>\n",
       "      <th>11</th>\n",
       "      <td>PaymentScreenSuccessful</td>\n",
       "      <td>1181</td>\n",
       "      <td>NaN</td>\n",
       "      <td>47.37</td>\n",
       "      <td>NaN</td>\n",
       "    </tr>\n",
       "  </tbody>\n",
       "</table>\n",
       "</div>"
      ],
      "text/plain": [
       "                       name  Пользователей на текущем этапе  \\\n",
       "5          MainScreenAppear                            2493   \n",
       "8        OffersScreenAppear                            1531   \n",
       "2          CartScreenAppear                            1230   \n",
       "11  PaymentScreenSuccessful                            1181   \n",
       "\n",
       "    Пользователей на следующем этапе  Процент от всех пользователей  \\\n",
       "5                             1531.0                         100.00   \n",
       "8                             1230.0                          61.41   \n",
       "2                             1181.0                          49.34   \n",
       "11                               NaN                          47.37   \n",
       "\n",
       "    Перешло на следующий этап  \n",
       "5                       61.41  \n",
       "8                       80.34  \n",
       "2                       96.02  \n",
       "11                        NaN  "
      ]
     },
     "execution_count": 26,
     "metadata": {},
     "output_type": "execute_result"
    }
   ],
   "source": [
    "ev_pivot_248 = ev_pivot.query('exp == 248').sort_values(by='n_users', ascending=False).drop(['exp', 'n_events'], axis=1).drop([14])\n",
    "\n",
    "ev_pivot_248.columns = ['name', 'Пользователей на текущем этапе']\n",
    "ev_pivot_248['Пользователей на следующем этапе'] = ev_pivot_248['Пользователей на текущем этапе'].shift(-1)\n",
    "ev_pivot_248['Процент от всех пользователей'] = round(ev_pivot_248['Пользователей на текущем этапе'] / ev_pivot_248['Пользователей на текущем этапе'].max() * 100, 2)\n",
    "ev_pivot_248['Перешло на следующий этап'] = round(ev_pivot_248['Пользователей на следующем этапе'] / ev_pivot_248['Пользователей на текущем этапе'] * 100, 2)\n",
    "\n",
    "ev_pivot_248"
   ]
  },
  {
   "cell_type": "markdown",
   "metadata": {},
   "source": [
    "Вывод: Видно, что больше всего пользователей - 37.06% для группы 246 и 38.52% для группы 247 и 248) уходят, посмотрев на главный экран без перехода к каталогу товаров(OffersScreenAppear). Это может говорить о том что интерфейс основной страницы неудобен или некорректно отображается на некоторых устройствах.\n",
    "От первого события до оплаты доходит меньше половины пользователей (48.98%/46.77%/47.37% для групп 246/247/248 соответственно.)"
   ]
  },
  {
   "cell_type": "markdown",
   "metadata": {},
   "source": [
    "# Шаг 5. Изучим результаты эксперимента"
   ]
  },
  {
   "cell_type": "markdown",
   "metadata": {},
   "source": [
    "### 1. Сколько пользователей в каждой экспериментальной группе?"
   ]
  },
  {
   "cell_type": "code",
   "execution_count": 27,
   "metadata": {},
   "outputs": [
    {
     "name": "stdout",
     "output_type": "stream",
     "text": [
      "   index  exp  count  users\n",
      "0      0  246  79425   2484\n",
      "-------\n",
      "   index  exp  count  users\n",
      "0      1  247  77147   2513\n",
      "-------\n",
      "   index  exp  count  users\n",
      "0      2  248  84726   2537\n"
     ]
    }
   ],
   "source": [
    "user = data.pivot_table(index=['exp'], values='user', aggfunc=['count', 'nunique']).reset_index()\n",
    "user.columns = ['exp', 'count', 'users']\n",
    "\n",
    "user_246 = user.query('exp == 246').reset_index()\n",
    "print(user_246)\n",
    "print('-------')\n",
    "\n",
    "user_247 = user.query('exp == 247').reset_index()\n",
    "print(user_247)\n",
    "print('-------')\n",
    "\n",
    "user_248 = user.query('exp == 248').reset_index()\n",
    "print(user_248)"
   ]
  },
  {
   "cell_type": "markdown",
   "metadata": {},
   "source": [
    "Вывод: По таблице видно, что в группе 246 - 2484 человека, в 247 - 2513 человек, а в 248 - 2537."
   ]
  },
  {
   "cell_type": "markdown",
   "metadata": {},
   "source": [
    "### 2. Есть 2 контрольные группы для А/А-эксперимента, чтобы проверить корректность всех механизмов и расчётов. Проверьте, находят ли статистические критерии разницу между выборками 246 и 247."
   ]
  },
  {
   "cell_type": "markdown",
   "metadata": {},
   "source": [
    "H0: Между выборками 246 и 247 нет разницы\n",
    "H1: Между выборками 246 и 247 имеется разница"
   ]
  },
  {
   "cell_type": "code",
   "execution_count": 28,
   "metadata": {},
   "outputs": [
    {
     "name": "stdout",
     "output_type": "stream",
     "text": [
      "p-значение:  [0.14363187]\n",
      "Не получилось отвергнуть нулевую гипотезу, нет оснований считать доли разными\n"
     ]
    }
   ],
   "source": [
    "alpha = 0.05\n",
    "\n",
    "p1 = user_246['users'] / user_246['count']\n",
    "p2 = user_247['users'] / user_247['count']\n",
    "pc = (user_246['users'] + user_247['users']) / (user_246['count'] + user_247['count'])\n",
    "\n",
    "dif = p1 - p2 \n",
    "\n",
    "z_value = dif / mth.sqrt(pc * (1 - pc) * (1/user_246['count'] + 1/user_247['count']))\n",
    "distr = st.norm(0, 1)\n",
    "\n",
    "p_value = (1 - distr.cdf(abs(z_value))) * 2\n",
    "\n",
    "print('p-значение: ', p_value)\n",
    "\n",
    "if p_value < alpha:\n",
    "    print('Отвергаем нулевую гипотезу: между долями есть значимая разница')\n",
    "else:\n",
    "    print('Не получилось отвергнуть нулевую гипотезу, нет оснований считать доли разными')"
   ]
  },
  {
   "cell_type": "markdown",
   "metadata": {},
   "source": [
    "### 3. Выберите самое популярное событие."
   ]
  },
  {
   "cell_type": "markdown",
   "metadata": {},
   "source": [
    "MainScreenAppear самое популярное событие.\n",
    "Исходя из прошлых проверок:\n",
    "MainScreenAppear в 246 группе случилось 2450 раз\n",
    "MainScreenAppear в 247 группе случилось 2476 раз\n",
    "MainScreenAppear в 248 группе случилось 2493 раза."
   ]
  },
  {
   "cell_type": "code",
   "execution_count": 29,
   "metadata": {},
   "outputs": [
    {
     "data": {
      "text/html": [
       "<div>\n",
       "<style scoped>\n",
       "    .dataframe tbody tr th:only-of-type {\n",
       "        vertical-align: middle;\n",
       "    }\n",
       "\n",
       "    .dataframe tbody tr th {\n",
       "        vertical-align: top;\n",
       "    }\n",
       "\n",
       "    .dataframe thead th {\n",
       "        text-align: right;\n",
       "    }\n",
       "</style>\n",
       "<table border=\"1\" class=\"dataframe\">\n",
       "  <thead>\n",
       "    <tr style=\"text-align: right;\">\n",
       "      <th></th>\n",
       "      <th>name</th>\n",
       "      <th>exp</th>\n",
       "      <th>n_events</th>\n",
       "      <th>n_users</th>\n",
       "    </tr>\n",
       "  </thead>\n",
       "  <tbody>\n",
       "    <tr>\n",
       "      <th>0</th>\n",
       "      <td>CartScreenAppear</td>\n",
       "      <td>246</td>\n",
       "      <td>14711</td>\n",
       "      <td>1266</td>\n",
       "    </tr>\n",
       "    <tr>\n",
       "      <th>1</th>\n",
       "      <td>CartScreenAppear</td>\n",
       "      <td>247</td>\n",
       "      <td>12456</td>\n",
       "      <td>1238</td>\n",
       "    </tr>\n",
       "    <tr>\n",
       "      <th>2</th>\n",
       "      <td>CartScreenAppear</td>\n",
       "      <td>248</td>\n",
       "      <td>15198</td>\n",
       "      <td>1230</td>\n",
       "    </tr>\n",
       "    <tr>\n",
       "      <th>3</th>\n",
       "      <td>MainScreenAppear</td>\n",
       "      <td>246</td>\n",
       "      <td>37708</td>\n",
       "      <td>2450</td>\n",
       "    </tr>\n",
       "    <tr>\n",
       "      <th>4</th>\n",
       "      <td>MainScreenAppear</td>\n",
       "      <td>247</td>\n",
       "      <td>39123</td>\n",
       "      <td>2476</td>\n",
       "    </tr>\n",
       "    <tr>\n",
       "      <th>5</th>\n",
       "      <td>MainScreenAppear</td>\n",
       "      <td>248</td>\n",
       "      <td>40600</td>\n",
       "      <td>2493</td>\n",
       "    </tr>\n",
       "    <tr>\n",
       "      <th>6</th>\n",
       "      <td>OffersScreenAppear</td>\n",
       "      <td>246</td>\n",
       "      <td>14773</td>\n",
       "      <td>1542</td>\n",
       "    </tr>\n",
       "    <tr>\n",
       "      <th>7</th>\n",
       "      <td>OffersScreenAppear</td>\n",
       "      <td>247</td>\n",
       "      <td>15182</td>\n",
       "      <td>1520</td>\n",
       "    </tr>\n",
       "    <tr>\n",
       "      <th>8</th>\n",
       "      <td>OffersScreenAppear</td>\n",
       "      <td>248</td>\n",
       "      <td>16395</td>\n",
       "      <td>1531</td>\n",
       "    </tr>\n",
       "    <tr>\n",
       "      <th>9</th>\n",
       "      <td>PaymentScreenSuccessful</td>\n",
       "      <td>246</td>\n",
       "      <td>11910</td>\n",
       "      <td>1200</td>\n",
       "    </tr>\n",
       "    <tr>\n",
       "      <th>10</th>\n",
       "      <td>PaymentScreenSuccessful</td>\n",
       "      <td>247</td>\n",
       "      <td>10043</td>\n",
       "      <td>1158</td>\n",
       "    </tr>\n",
       "    <tr>\n",
       "      <th>11</th>\n",
       "      <td>PaymentScreenSuccessful</td>\n",
       "      <td>248</td>\n",
       "      <td>12160</td>\n",
       "      <td>1181</td>\n",
       "    </tr>\n",
       "    <tr>\n",
       "      <th>12</th>\n",
       "      <td>Tutorial</td>\n",
       "      <td>246</td>\n",
       "      <td>323</td>\n",
       "      <td>278</td>\n",
       "    </tr>\n",
       "    <tr>\n",
       "      <th>13</th>\n",
       "      <td>Tutorial</td>\n",
       "      <td>247</td>\n",
       "      <td>343</td>\n",
       "      <td>283</td>\n",
       "    </tr>\n",
       "    <tr>\n",
       "      <th>14</th>\n",
       "      <td>Tutorial</td>\n",
       "      <td>248</td>\n",
       "      <td>373</td>\n",
       "      <td>279</td>\n",
       "    </tr>\n",
       "  </tbody>\n",
       "</table>\n",
       "</div>"
      ],
      "text/plain": [
       "                       name  exp  n_events  n_users\n",
       "0          CartScreenAppear  246     14711     1266\n",
       "1          CartScreenAppear  247     12456     1238\n",
       "2          CartScreenAppear  248     15198     1230\n",
       "3          MainScreenAppear  246     37708     2450\n",
       "4          MainScreenAppear  247     39123     2476\n",
       "5          MainScreenAppear  248     40600     2493\n",
       "6        OffersScreenAppear  246     14773     1542\n",
       "7        OffersScreenAppear  247     15182     1520\n",
       "8        OffersScreenAppear  248     16395     1531\n",
       "9   PaymentScreenSuccessful  246     11910     1200\n",
       "10  PaymentScreenSuccessful  247     10043     1158\n",
       "11  PaymentScreenSuccessful  248     12160     1181\n",
       "12                 Tutorial  246       323      278\n",
       "13                 Tutorial  247       343      283\n",
       "14                 Tutorial  248       373      279"
      ]
     },
     "execution_count": 29,
     "metadata": {},
     "output_type": "execute_result"
    }
   ],
   "source": [
    "ev_pivot"
   ]
  },
  {
   "cell_type": "code",
   "execution_count": 30,
   "metadata": {},
   "outputs": [
    {
     "name": "stdout",
     "output_type": "stream",
     "text": [
      "Пользователей в логе за новый период в группе 246: 2484\n",
      "Пользователей в логе за новый период в группе 247: 2513\n",
      "Пользователей в логе за новый период в группе 248: 2537\n"
     ]
    }
   ],
   "source": [
    "#Посчитаем количество уникальных пользователей в каждой группе\n",
    "nuser_246 = data_246['user'].nunique()\n",
    "print('Пользователей в логе за новый период в группе 246:', nuser_246)\n",
    "\n",
    "nuser_247 = data_247['user'].nunique()\n",
    "print('Пользователей в логе за новый период в группе 247:', nuser_247)\n",
    "\n",
    "nuser_248 = data_248['user'].nunique()\n",
    "print('Пользователей в логе за новый период в группе 248:', nuser_248)"
   ]
  },
  {
   "cell_type": "markdown",
   "metadata": {},
   "source": [
    "### Сравнение MainScreenAppear в 246 и 247"
   ]
  },
  {
   "cell_type": "code",
   "execution_count": 31,
   "metadata": {},
   "outputs": [
    {
     "name": "stdout",
     "output_type": "stream",
     "text": [
      "p-значение:  0.76\n",
      "Не получилось отвергнуть нулевую гипотезу, нет оснований считать доли разными\n"
     ]
    }
   ],
   "source": [
    "alpha = 0.05\n",
    "\n",
    "#Число человек которые прошли этап MainScreenAppear в группе 246 и 247\n",
    "pol_67 = np.array([2450, 2476])\n",
    "\n",
    "#Число совершенных действий на этапе MainScreenAppear в группе 246 и 247\n",
    "count_67 = np.array([2484, 2513])\n",
    "\n",
    "p1 = pol_67[0] / count_67[0]\n",
    "p2 = pol_67[1] / count_67[1]\n",
    "pc = (pol_67[0] + pol_67[1]) / (count_67[0] + count_67[1])\n",
    "\n",
    "dif = p1 - p2\n",
    "\n",
    "z_value = dif / mth.sqrt(pc * (1 - pc) * (1/count_67[0] + 1/count_67[1]))\n",
    "distr = st.norm(0, 1)\n",
    "\n",
    "p_value = (1 - distr.cdf(abs(z_value))) * 2\n",
    "\n",
    "print('p-значение: ', round(p_value, 2))\n",
    "\n",
    "new_alpha = alpha / 16\n",
    "\n",
    "if p_value < new_alpha:\n",
    "    print('Отвергаем нулевую гипотезу: между долями есть значимая разница')\n",
    "else:\n",
    "    print('Не получилось отвергнуть нулевую гипотезу, нет оснований считать доли разными')"
   ]
  },
  {
   "cell_type": "markdown",
   "metadata": {},
   "source": [
    "### Сравнение OffersScreenAppear в 246 и 247"
   ]
  },
  {
   "cell_type": "code",
   "execution_count": 32,
   "metadata": {},
   "outputs": [
    {
     "name": "stdout",
     "output_type": "stream",
     "text": [
      "p-значение:  0.25\n",
      "Не получилось отвергнуть нулевую гипотезу, нет оснований считать доли разными\n"
     ]
    }
   ],
   "source": [
    "alpha = 0.05\n",
    "\n",
    "#Число человек которые прошли этап OffersScreenAppear в группе 246 и 247\n",
    "pol_67 = np.array([1542, 1520])\n",
    "\n",
    "#Число совершенных действий на этапе OffersScreenAppear в группе 246 и 247\n",
    "count_67 = np.array([2484, 2513])\n",
    "\n",
    "p1 = pol_67[0] / count_67[0]\n",
    "p2 = pol_67[1] / count_67[1]\n",
    "pc = (pol_67[0] + pol_67[1]) / (count_67[0] + count_67[1])\n",
    "\n",
    "dif = p1 - p2\n",
    "\n",
    "z_value = dif / mth.sqrt(pc * (1 - pc) * (1/count_67[0] + 1/count_67[1]))\n",
    "distr = st.norm(0, 1)\n",
    "\n",
    "p_value = (1 - distr.cdf(abs(z_value))) * 2\n",
    "\n",
    "print('p-значение: ', round(p_value, 2))\n",
    "\n",
    "new_alpha = alpha / 16\n",
    "\n",
    "if p_value < new_alpha:\n",
    "    print('Отвергаем нулевую гипотезу: между долями есть значимая разница')\n",
    "else:\n",
    "    print('Не получилось отвергнуть нулевую гипотезу, нет оснований считать доли разными')"
   ]
  },
  {
   "cell_type": "markdown",
   "metadata": {},
   "source": [
    "### Сравнение CartScreenAppear в 246 и 247"
   ]
  },
  {
   "cell_type": "code",
   "execution_count": 33,
   "metadata": {},
   "outputs": [
    {
     "name": "stdout",
     "output_type": "stream",
     "text": [
      "p-значение:  0.22883372237997213\n",
      "Не получилось отвергнуть нулевую гипотезу, нет оснований считать доли разными\n"
     ]
    }
   ],
   "source": [
    "alpha = 0.05\n",
    "\n",
    "#Число человек которые прошли этап CartScreenAppear в группе 246 и 247\n",
    "pol_67 = np.array([1266, 1238])\n",
    "\n",
    "#Число совершенных действий на этапе CartScreenAppear в группе 246 и 247\n",
    "count_67 = np.array([2484, 2513])\n",
    "\n",
    "p1 = pol_67[0] / count_67[0]\n",
    "p2 = pol_67[1] / count_67[1]\n",
    "pc = (pol_67[0] + pol_67[1]) / (count_67[0] + count_67[1])\n",
    "\n",
    "dif = p1 - p2\n",
    "\n",
    "z_value = dif / mth.sqrt(pc * (1 - pc) * (1/count_67[0] + 1/count_67[1]))\n",
    "distr = st.norm(0, 1)\n",
    "\n",
    "p_value = (1 - distr.cdf(abs(z_value))) * 2\n",
    "\n",
    "print('p-значение: ', p_value)\n",
    "\n",
    "new_alpha = alpha / 16\n",
    "\n",
    "if p_value < new_alpha:\n",
    "    print('Отвергаем нулевую гипотезу: между долями есть значимая разница')\n",
    "else:\n",
    "    print('Не получилось отвергнуть нулевую гипотезу, нет оснований считать доли разными')"
   ]
  },
  {
   "cell_type": "markdown",
   "metadata": {},
   "source": [
    "### Сравнение PaymentScreenSuccessful в 246 и 247"
   ]
  },
  {
   "cell_type": "code",
   "execution_count": 34,
   "metadata": {},
   "outputs": [
    {
     "name": "stdout",
     "output_type": "stream",
     "text": [
      "p-значение:  0.11456679313141849\n",
      "Не получилось отвергнуть нулевую гипотезу, нет оснований считать доли разными\n"
     ]
    }
   ],
   "source": [
    "alpha = 0.05\n",
    "\n",
    "#Число человек которые прошли этап PaymentScreenAppear в группе 246 и 247\n",
    "pol_67 = np.array([1200, 1158])\n",
    "\n",
    "#Число совершенных действий на этапе PaymentScreenAppear в группе 246 и 247\n",
    "count_67 = np.array([2484, 2513])\n",
    "\n",
    "p1 = pol_67[0] / count_67[0]\n",
    "p2 = pol_67[1] / count_67[1]\n",
    "pc = (pol_67[0] + pol_67[1]) / (count_67[0] + count_67[1])\n",
    "\n",
    "dif = p1 - p2\n",
    "\n",
    "z_value = dif / mth.sqrt(pc * (1 - pc) * (1/count_67[0] + 1/count_67[1]))\n",
    "\n",
    "distr = st.norm(0, 1)\n",
    "\n",
    "p_value = (1 - distr.cdf(abs(z_value))) * 2\n",
    "\n",
    "print('p-значение: ', p_value)\n",
    "\n",
    "new_alpha = alpha / 16\n",
    "\n",
    "if p_value < new_alpha:\n",
    "    print('Отвергаем нулевую гипотезу: между долями есть значимая разница')\n",
    "else:\n",
    "    print('Не получилось отвергнуть нулевую гипотезу, нет оснований считать доли разными')"
   ]
  },
  {
   "cell_type": "markdown",
   "metadata": {},
   "source": [
    "### Сравним результаты с каждой из контрольных групп с группой с изменённым шрифтом в отдельности по каждому событию."
   ]
  },
  {
   "cell_type": "markdown",
   "metadata": {},
   "source": [
    "### Сравнение MainScreenAppear в 246 и 248"
   ]
  },
  {
   "cell_type": "code",
   "execution_count": 35,
   "metadata": {},
   "outputs": [
    {
     "name": "stdout",
     "output_type": "stream",
     "text": [
      "p-значение:  0.2949721933554552\n",
      "Не получилось отвергнуть нулевую гипотезу, нет оснований считать доли разными\n"
     ]
    }
   ],
   "source": [
    "alpha = 0.05\n",
    "\n",
    "#Число человек которые прошли этап MainScreenAppear в группе 246 и 248\n",
    "pol_68 = np.array([2450, 2493])\n",
    "\n",
    "#Число совершенных действий на этапе MainScreenAppear в группе 246 и 248\n",
    "count_68 = np.array([2484, 2537])\n",
    "\n",
    "p1 = pol_68[0] / count_68[0]\n",
    "p2 = pol_68[1] / count_68[1]\n",
    "pc = (pol_68[0] + pol_68[1]) / (count_68[0] + count_68[1])\n",
    "\n",
    "dif = p1 - p2\n",
    "\n",
    "z_value = dif / mth.sqrt(pc * (1 - pc) * (1/count_68[0] + 1/count_68[1]))\n",
    "distr = st.norm(0, 1)\n",
    "\n",
    "p_value = (1 - distr.cdf(abs(z_value))) * 2\n",
    "\n",
    "print('p-значение: ', p_value)\n",
    "\n",
    "new_alpha = alpha / 16\n",
    "\n",
    "if p_value < new_alpha:\n",
    "    print('Отвергаем нулевую гипотезу: между долями есть значимая разница')\n",
    "else:\n",
    "    print('Не получилось отвергнуть нулевую гипотезу, нет оснований считать доли разными')"
   ]
  },
  {
   "cell_type": "markdown",
   "metadata": {},
   "source": [
    "### Сравнение OffersScreenAppear в 246 и 248"
   ]
  },
  {
   "cell_type": "code",
   "execution_count": 36,
   "metadata": {},
   "outputs": [
    {
     "name": "stdout",
     "output_type": "stream",
     "text": [
      "p-значение:  0.20836205402738917\n",
      "Не получилось отвергнуть нулевую гипотезу, нет оснований считать доли разными\n"
     ]
    }
   ],
   "source": [
    "alpha = 0.05\n",
    "\n",
    "#Число человек которые прошли этап OffersScreenAppear в группе 246 и 248\n",
    "pol_68 = np.array([1542, 1531])\n",
    "\n",
    "#Число совершенных действий на этапе OffersScreenAppear в группе 246 и 248\n",
    "count_68 = np.array([2484, 2537])\n",
    "\n",
    "p1 = pol_68[0] / count_68[0]\n",
    "p2 = pol_68[1] / count_68[1]\n",
    "pc = (pol_68[0] + pol_68[1]) / (count_68[0] + count_68[1])\n",
    "\n",
    "dif = p1 - p2\n",
    "\n",
    "z_value = dif / mth.sqrt(pc * (1 - pc) * (1/count_68[0] + 1/count_68[1]))\n",
    "distr = st.norm(0, 1)\n",
    "\n",
    "p_value = (1 - distr.cdf(abs(z_value))) * 2\n",
    "\n",
    "print('p-значение: ', p_value)\n",
    "\n",
    "new_alpha = alpha / 16\n",
    "\n",
    "if p_value < new_alpha:\n",
    "    print('Отвергаем нулевую гипотезу: между долями есть значимая разница')\n",
    "else:\n",
    "    print('Не получилось отвергнуть нулевую гипотезу, нет оснований считать доли разными')"
   ]
  },
  {
   "cell_type": "markdown",
   "metadata": {},
   "source": [
    "### Сравнение CartScreenAppear в 246 и 248"
   ]
  },
  {
   "cell_type": "code",
   "execution_count": 37,
   "metadata": {},
   "outputs": [
    {
     "name": "stdout",
     "output_type": "stream",
     "text": [
      "p-значение:  0.07842923237520116\n",
      "Не получилось отвергнуть нулевую гипотезу, нет оснований считать доли разными\n"
     ]
    }
   ],
   "source": [
    "alpha = 0.05\n",
    "\n",
    "#Число человек которые прошли этап CartScreenAppear в группе 246 и 248\n",
    "pol_68 = np.array([1266, 1230])\n",
    "\n",
    "#Число совершенных действий на этапе CartScreenAppear в группе 246 и 248\n",
    "count_68 = np.array([2484, 2537])\n",
    "\n",
    "p1 = pol_68[0] / count_68[0]\n",
    "p2 = pol_68[1] / count_68[1]\n",
    "pc = (pol_68[0] + pol_68[1]) / (count_68[0] + count_68[1])\n",
    "\n",
    "dif = p1 - p2\n",
    "\n",
    "z_value = dif / mth.sqrt(pc * (1 - pc) * (1/count_68[0] + 1/count_68[1]))\n",
    "distr = st.norm(0, 1)\n",
    "\n",
    "p_value = (1 - distr.cdf(abs(z_value))) * 2\n",
    "\n",
    "print('p-значение: ', p_value)\n",
    "\n",
    "new_alpha = alpha / 16\n",
    "\n",
    "if p_value < new_alpha:\n",
    "    print('Отвергаем нулевую гипотезу: между долями есть значимая разница')\n",
    "else:\n",
    "    print('Не получилось отвергнуть нулевую гипотезу, нет оснований считать доли разными')"
   ]
  },
  {
   "cell_type": "markdown",
   "metadata": {},
   "source": [
    "### Сравнение PaymentScreenSuccessful в 246 и 248"
   ]
  },
  {
   "cell_type": "code",
   "execution_count": 38,
   "metadata": {},
   "outputs": [
    {
     "name": "stdout",
     "output_type": "stream",
     "text": [
      "p-значение:  0.2122553275697796\n",
      "Не получилось отвергнуть нулевую гипотезу, нет оснований считать доли разными\n"
     ]
    }
   ],
   "source": [
    "alpha = 0.05\n",
    "\n",
    "#Число человек которые прошли этап PaymentScreenAppear в группе 246 и 248\n",
    "pol_68 = np.array([1200, 1181])\n",
    "\n",
    "#Число совершенных действий на этапе PaymentScreenAppear в группе 246 и 248\n",
    "count_68 = np.array([2484, 2537])\n",
    "\n",
    "p1 = pol_68[0] / count_68[0]\n",
    "p2 = pol_68[1] / count_68[1]\n",
    "pc = (pol_68[0] + pol_68[1]) / (count_68[0] + count_68[1])\n",
    "\n",
    "dif = p1 - p2\n",
    "\n",
    "z_value = dif / mth.sqrt(pc * (1 - pc) * (1/count_68[0] + 1/count_68[1]))\n",
    "\n",
    "distr = st.norm(0, 1)\n",
    "\n",
    "p_value = (1 - distr.cdf(abs(z_value))) * 2\n",
    "\n",
    "print('p-значение: ', p_value)\n",
    "\n",
    "new_alpha = alpha / 16\n",
    "\n",
    "if p_value < new_alpha:\n",
    "    print('Отвергаем нулевую гипотезу: между долями есть значимая разница')\n",
    "else:\n",
    "    print('Не получилось отвергнуть нулевую гипотезу, нет оснований считать доли разными')"
   ]
  },
  {
   "cell_type": "markdown",
   "metadata": {},
   "source": [
    "### Сравнение MainScreenAppear в 247 и 248"
   ]
  },
  {
   "cell_type": "code",
   "execution_count": 39,
   "metadata": {},
   "outputs": [
    {
     "name": "stdout",
     "output_type": "stream",
     "text": [
      "p-значение:  0.4587053616621515\n",
      "Не получилось отвергнуть нулевую гипотезу, нет оснований считать доли разными\n"
     ]
    }
   ],
   "source": [
    "alpha = 0.05\n",
    "\n",
    "#Число человек которые прошли этап MainScreenAppear в группе 247 и 248\n",
    "pol_78 = np.array([2476, 2493])\n",
    "\n",
    "#Число совершенных действий на этапе MainScreenAppear в группе 247 и 248\n",
    "count_78 = np.array([2513, 2537])\n",
    "\n",
    "p1 = pol_78[0] / count_78[0]\n",
    "p2 = pol_78[1] / count_78[1]\n",
    "pc = (pol_78[0] + pol_78[1]) / (count_78[0] + count_78[1])\n",
    "\n",
    "dif = p1 - p2\n",
    "\n",
    "z_value = dif / mth.sqrt(pc * (1 - pc) * (1/count_78[0] + 1/count_78[1]))\n",
    "distr = st.norm(0, 1)\n",
    "\n",
    "p_value = (1 - distr.cdf(abs(z_value))) * 2\n",
    "\n",
    "print('p-значение: ', p_value)\n",
    "\n",
    "new_alpha = alpha / 16\n",
    "\n",
    "if p_value < new_alpha:\n",
    "    print('Отвергаем нулевую гипотезу: между долями есть значимая разница')\n",
    "else:\n",
    "    print('Не получилось отвергнуть нулевую гипотезу, нет оснований считать доли разными')"
   ]
  },
  {
   "cell_type": "markdown",
   "metadata": {},
   "source": [
    "### Сравнение OffersScreenAppear в 247 и 248"
   ]
  },
  {
   "cell_type": "code",
   "execution_count": 40,
   "metadata": {},
   "outputs": [
    {
     "name": "stdout",
     "output_type": "stream",
     "text": [
      "p-значение:  0.9197817830592261\n",
      "Не получилось отвергнуть нулевую гипотезу, нет оснований считать доли разными\n"
     ]
    }
   ],
   "source": [
    "alpha = 0.05\n",
    "\n",
    "#Число человек которые прошли этап OffersScreenAppear в группе 247 и 248\n",
    "pol_78 = np.array([1520, 1531])\n",
    "\n",
    "#Число совершенных действий на этапе OffersScreenAppear в группе 247 и 248\n",
    "count_78 = np.array([2513, 2537])\n",
    "\n",
    "p1 = pol_78[0] / count_78[0]\n",
    "p2 = pol_78[1] / count_78[1]\n",
    "pc = (pol_78[0] + pol_78[1]) / (count_78[0] + count_78[1])\n",
    "\n",
    "dif = p1 - p2\n",
    "\n",
    "z_value = dif / mth.sqrt(pc * (1 - pc) * (1/count_78[0] + 1/count_78[1]))\n",
    "distr = st.norm(0, 1)\n",
    "\n",
    "p_value = (1 - distr.cdf(abs(z_value))) * 2\n",
    "\n",
    "print('p-значение: ', p_value)\n",
    "\n",
    "new_alpha = alpha / 16\n",
    "\n",
    "if p_value < new_alpha:\n",
    "    print('Отвергаем нулевую гипотезу: между долями есть значимая разница')\n",
    "else:\n",
    "    print('Не получилось отвергнуть нулевую гипотезу, нет оснований считать доли разными')"
   ]
  },
  {
   "cell_type": "markdown",
   "metadata": {},
   "source": [
    "### Сравнение CartScreenAppear в 247 и 248"
   ]
  },
  {
   "cell_type": "code",
   "execution_count": 41,
   "metadata": {},
   "outputs": [
    {
     "name": "stdout",
     "output_type": "stream",
     "text": [
      "p-значение:  0.5786197879539783\n",
      "Не получилось отвергнуть нулевую гипотезу, нет оснований считать доли разными\n"
     ]
    }
   ],
   "source": [
    "alpha = 0.05\n",
    "\n",
    "#Число человек которые прошли этап CartScreenAppear в группе 247 и 248\n",
    "pol_78 = np.array([1238, 1230])\n",
    "\n",
    "#Число совершенных действий на этапе CartScreenAppear в группе 247 и 248\n",
    "count_78 = np.array([2513, 2537])\n",
    "\n",
    "p1 = pol_78[0] / count_78[0]\n",
    "p2 = pol_78[1] / count_78[1]\n",
    "pc = (pol_78[0] + pol_78[1]) / (count_78[0] + count_78[1])\n",
    "\n",
    "dif = p1 - p2\n",
    "\n",
    "z_value = dif / mth.sqrt(pc * (1 - pc) * (1/count_78[0] + 1/count_78[1]))\n",
    "distr = st.norm(0, 1)\n",
    "\n",
    "p_value = (1 - distr.cdf(abs(z_value))) * 2\n",
    "\n",
    "print('p-значение: ', p_value)\n",
    "\n",
    "new_alpha = alpha / 16\n",
    "\n",
    "if p_value < new_alpha:\n",
    "    print('Отвергаем нулевую гипотезу: между долями есть значимая разница')\n",
    "else:\n",
    "    print('Не получилось отвергнуть нулевую гипотезу, нет оснований считать доли разными')"
   ]
  },
  {
   "cell_type": "markdown",
   "metadata": {},
   "source": [
    "### Сравнение PaymentScreenSuccessful в 247 и 248"
   ]
  },
  {
   "cell_type": "code",
   "execution_count": 42,
   "metadata": {},
   "outputs": [
    {
     "name": "stdout",
     "output_type": "stream",
     "text": [
      "p-значение:  0.7373415053803964\n",
      "Не получилось отвергнуть нулевую гипотезу, нет оснований считать доли разными\n"
     ]
    }
   ],
   "source": [
    "alpha = 0.05\n",
    "\n",
    "#Число человек которые прошли этап PaymentScreenAppear в группе 247 и 248\n",
    "pol_78 = np.array([1158, 1181])\n",
    "\n",
    "#Число совершенных действий на этапе PaymentScreenAppear в группе 247 и 248\n",
    "count_78 = np.array([2513, 2537])\n",
    "\n",
    "p1 = pol_78[0] / count_78[0]\n",
    "p2 = pol_78[1] / count_78[1]\n",
    "pc = (pol_78[0] + pol_78[1]) / (count_78[0] + count_78[1])\n",
    "\n",
    "dif = p1 - p2\n",
    "\n",
    "z_value = dif / mth.sqrt(pc * (1 - pc) * (1/count_78[0] + 1/count_78[1]))\n",
    "\n",
    "distr = st.norm(0, 1)\n",
    "\n",
    "p_value = (1 - distr.cdf(abs(z_value))) * 2\n",
    "\n",
    "print('p-значение: ', p_value)\n",
    "\n",
    "new_alpha = alpha / 16\n",
    "\n",
    "if p_value < new_alpha:\n",
    "    print('Отвергаем нулевую гипотезу: между долями есть значимая разница')\n",
    "else:\n",
    "    print('Не получилось отвергнуть нулевую гипотезу, нет оснований считать доли разными')"
   ]
  },
  {
   "cell_type": "markdown",
   "metadata": {},
   "source": [
    "### Сравнение MainScreenAppear в 246+247 и 248"
   ]
  },
  {
   "cell_type": "code",
   "execution_count": 43,
   "metadata": {},
   "outputs": [
    {
     "name": "stdout",
     "output_type": "stream",
     "text": [
      "p-значение:  0.29424526837179577\n",
      "Не получилось отвергнуть нулевую гипотезу, нет оснований считать доли разными\n"
     ]
    }
   ],
   "source": [
    "alpha = 0.05\n",
    "\n",
    "#Число человек которые прошли этап MainScreenAppear в группе 246+247 и 248\n",
    "pol_678 = np.array([4926, 2493])\n",
    "\n",
    "#Число совершенных действий на этапе MainScreenAppear в группе 246+247 и 248\n",
    "count_678 = np.array([4997, 2537])\n",
    "\n",
    "p1 = pol_678[0] / count_678[0]\n",
    "p2 = pol_678[1] / count_678[1]\n",
    "pc = (pol_678[0] + pol_678[1]) / (count_678[0] + count_678[1])\n",
    "\n",
    "dif = p1 - p2\n",
    "\n",
    "z_value = dif / mth.sqrt(pc * (1 - pc) * (1/count_678[0] + 1/count_678[1]))\n",
    "distr = st.norm(0, 1)\n",
    "\n",
    "p_value = (1 - distr.cdf(abs(z_value))) * 2\n",
    "\n",
    "print('p-значение: ', p_value)\n",
    "\n",
    "new_alpha = alpha / 16\n",
    "\n",
    "if p_value < new_alpha:\n",
    "    print('Отвергаем нулевую гипотезу: между долями есть значимая разница')\n",
    "else:\n",
    "    print('Не получилось отвергнуть нулевую гипотезу, нет оснований считать доли разными')"
   ]
  },
  {
   "cell_type": "markdown",
   "metadata": {},
   "source": [
    "### Сравнение OffersScreenAppear в 246+247 и 248"
   ]
  },
  {
   "cell_type": "code",
   "execution_count": 44,
   "metadata": {},
   "outputs": [
    {
     "name": "stdout",
     "output_type": "stream",
     "text": [
      "p-значение:  0.43425549655188256\n",
      "Не получилось отвергнуть нулевую гипотезу, нет оснований считать доли разными\n"
     ]
    }
   ],
   "source": [
    "alpha = 0.05\n",
    "\n",
    "#Число человек которые прошли этап OffersScreenAppear в группе 246+247 и 248\n",
    "pol_678 = np.array([3062, 1531])\n",
    "\n",
    "#Число совершенных действий на этапе OffersScreenAppear в группе 246+247 и 248\n",
    "count_678 = np.array([4997, 2537])\n",
    "\n",
    "p1 = pol_678[0] / count_678[0]\n",
    "p2 = pol_678[1] / count_678[1]\n",
    "pc = (pol_678[0] + pol_678[1]) / (count_678[0] + count_678[1])\n",
    "\n",
    "dif = p1 - p2\n",
    "\n",
    "z_value = dif / mth.sqrt(pc * (1 - pc) * (1/count_678[0] + 1/count_678[1]))\n",
    "distr = st.norm(0, 1)\n",
    "\n",
    "p_value = (1 - distr.cdf(abs(z_value))) * 2\n",
    "\n",
    "print('p-значение: ', p_value)\n",
    "\n",
    "new_alpha = alpha / 16\n",
    "\n",
    "if p_value < new_alpha:\n",
    "    print('Отвергаем нулевую гипотезу: между долями есть значимая разница')\n",
    "else:\n",
    "    print('Не получилось отвергнуть нулевую гипотезу, нет оснований считать доли разными')"
   ]
  },
  {
   "cell_type": "markdown",
   "metadata": {},
   "source": [
    "### Сравнение CartScreenAppear в 246+247 и 248"
   ]
  },
  {
   "cell_type": "code",
   "execution_count": 45,
   "metadata": {},
   "outputs": [
    {
     "name": "stdout",
     "output_type": "stream",
     "text": [
      "p-значение:  0.18175875284404386\n",
      "Не получилось отвергнуть нулевую гипотезу, нет оснований считать доли разными\n"
     ]
    }
   ],
   "source": [
    "alpha = 0.05\n",
    "\n",
    "#Число человек которые прошли этап CartScreenAppear в группе 246+247 и 248\n",
    "pol_678 = np.array([2504, 1230])\n",
    "\n",
    "#Число совершенных действий на этапе CartScreenAppear в группе 246+247 и 248\n",
    "count_678 = np.array([4997, 2537])\n",
    "\n",
    "p1 = pol_678[0] / count_678[0]\n",
    "p2 = pol_678[1] / count_678[1]\n",
    "pc = (pol_678[0] + pol_678[1]) / (count_678[0] + count_678[1])\n",
    "\n",
    "dif = p1 - p2\n",
    "\n",
    "z_value = dif / mth.sqrt(pc * (1 - pc) * (1/count_678[0] + 1/count_678[1]))\n",
    "distr = st.norm(0, 1)\n",
    "\n",
    "p_value = (1 - distr.cdf(abs(z_value))) * 2\n",
    "\n",
    "print('p-значение: ', p_value)\n",
    "\n",
    "new_alpha = alpha / 16\n",
    "\n",
    "if p_value < new_alpha:\n",
    "    print('Отвергаем нулевую гипотезу: между долями есть значимая разница')\n",
    "else:\n",
    "    print('Не получилось отвергнуть нулевую гипотезу, нет оснований считать доли разными')"
   ]
  },
  {
   "cell_type": "markdown",
   "metadata": {},
   "source": [
    "### Сравнение PaymentScreenSuccessful в 246+247 и 248"
   ]
  },
  {
   "cell_type": "code",
   "execution_count": 46,
   "metadata": {},
   "outputs": [
    {
     "name": "stdout",
     "output_type": "stream",
     "text": [
      "p-значение:  0.6004294282308704\n",
      "Не получилось отвергнуть нулевую гипотезу, нет оснований считать доли разными\n"
     ]
    }
   ],
   "source": [
    "alpha = 0.05\n",
    "\n",
    "#Число человек которые прошли этап PaymentScreenAppear в группе 246+247 и 248\n",
    "pol_678 = np.array([2358, 1181])\n",
    "\n",
    "#Число совершенных действий на этапе PaymentScreenAppear в группе 246+247 и 248\n",
    "count_678 = np.array([4997, 2537])\n",
    "\n",
    "p1 = pol_678[0] / count_678[0]\n",
    "p2 = pol_678[1] / count_678[1]\n",
    "pc = (pol_678[0] + pol_678[1]) / (count_678[0] + count_678[1])\n",
    "\n",
    "dif = p1 - p2\n",
    "\n",
    "z_value = dif / mth.sqrt(pc * (1 - pc) * (1/count_678[0] + 1/count_678[1]))\n",
    "\n",
    "distr = st.norm(0, 1)\n",
    "\n",
    "p_value = (1 - distr.cdf(abs(z_value))) * 2\n",
    "\n",
    "print('p-значение: ', p_value)\n",
    "\n",
    "new_alpha = alpha / 16\n",
    "\n",
    "if p_value < new_alpha:\n",
    "    print('Отвергаем нулевую гипотезу: между долями есть значимая разница')\n",
    "else:\n",
    "    print('Не получилось отвергнуть нулевую гипотезу, нет оснований считать доли разными')"
   ]
  },
  {
   "cell_type": "markdown",
   "metadata": {},
   "source": [
    "Тест подтвердил что все контрольные группы сформированны правильно. Между группами нет разницы. В итоге, всего было проведено 16 проверок статистических гипотез."
   ]
  },
  {
   "cell_type": "markdown",
   "metadata": {},
   "source": [
    "# ВЫВОД:\n",
    "Анализируя гистограмму по дате и времени, принял решение отбросить неполные данные и оставить только период с 2019-07-31 21 часа.\n",
    "\n",
    "При исследовании воронки событий мы выяснили, что от первого события до оплаты доходит меньше половины пользователей (49%/46,7%/47,4% для групп 246/247/248 соответственно.)\n",
    "Только 98,5% всех пользователей хотя бы раз открывали главную страницу приложения.\n",
    "Только 4597 пользователей хотя бы раз открывали страницу с каталогом товаров.\n",
    "\n",
    "проведено 16 проверок статистических гипотез с уровнем значимости 0.05.\n",
    "\n",
    "Исходя из результатов данного A/A/B-эксперимента, можно судить, что на поведение пользователей изменение шрифта значимого эффекта не оказало. Что можно считать успехом. Учитывая результаты эксперимента, если изменение шрифта происходит не из за проблем в работе приложения, его можно не менять."
   ]
  }
 ],
 "metadata": {
  "ExecuteTimeLog": [
   {
    "duration": 1545,
    "start_time": "2023-05-06T12:36:04.210Z"
   },
   {
    "duration": 811,
    "start_time": "2023-05-06T12:36:06.701Z"
   },
   {
    "duration": 196,
    "start_time": "2023-05-06T12:36:30.264Z"
   },
   {
    "duration": 19,
    "start_time": "2023-05-06T12:36:51.208Z"
   },
   {
    "duration": 1017,
    "start_time": "2023-05-06T12:44:05.114Z"
   },
   {
    "duration": 79,
    "start_time": "2023-05-06T12:44:33.906Z"
   },
   {
    "duration": 212,
    "start_time": "2023-05-06T12:45:28.714Z"
   },
   {
    "duration": 12,
    "start_time": "2023-05-06T12:45:48.531Z"
   },
   {
    "duration": 145,
    "start_time": "2023-05-06T12:46:07.118Z"
   },
   {
    "duration": 6,
    "start_time": "2023-05-06T12:46:17.028Z"
   },
   {
    "duration": 1006,
    "start_time": "2023-05-06T12:46:33.847Z"
   },
   {
    "duration": 198,
    "start_time": "2023-05-06T12:46:51.487Z"
   },
   {
    "duration": 9,
    "start_time": "2023-05-06T12:46:53.121Z"
   },
   {
    "duration": 191,
    "start_time": "2023-05-06T12:46:57.811Z"
   },
   {
    "duration": 16,
    "start_time": "2023-05-06T12:54:49.199Z"
   },
   {
    "duration": 2299,
    "start_time": "2023-05-06T13:01:14.364Z"
   },
   {
    "duration": 1753,
    "start_time": "2023-05-06T13:01:45.700Z"
   },
   {
    "duration": 1128,
    "start_time": "2023-05-06T13:02:48.597Z"
   },
   {
    "duration": 206,
    "start_time": "2023-05-06T13:02:51.834Z"
   },
   {
    "duration": 15,
    "start_time": "2023-05-06T13:02:53.401Z"
   },
   {
    "duration": 11,
    "start_time": "2023-05-06T13:02:54.901Z"
   },
   {
    "duration": 437,
    "start_time": "2023-05-06T13:03:24.795Z"
   },
   {
    "duration": 15,
    "start_time": "2023-05-06T13:03:28.150Z"
   },
   {
    "duration": 209,
    "start_time": "2023-05-06T13:03:29.916Z"
   },
   {
    "duration": 34,
    "start_time": "2023-05-06T13:03:31.259Z"
   },
   {
    "duration": 1131,
    "start_time": "2023-05-06T13:03:32.736Z"
   },
   {
    "duration": 421,
    "start_time": "2023-05-06T13:03:41.023Z"
   },
   {
    "duration": 15,
    "start_time": "2023-05-06T13:03:44.515Z"
   },
   {
    "duration": 227,
    "start_time": "2023-05-06T13:03:45.588Z"
   },
   {
    "duration": 18,
    "start_time": "2023-05-06T13:03:46.951Z"
   },
   {
    "duration": 1053,
    "start_time": "2023-05-06T13:03:48.114Z"
   },
   {
    "duration": 201,
    "start_time": "2023-05-06T13:03:50.225Z"
   },
   {
    "duration": 27,
    "start_time": "2023-05-06T13:03:51.990Z"
   },
   {
    "duration": 6,
    "start_time": "2023-05-06T13:03:54.011Z"
   },
   {
    "duration": 4,
    "start_time": "2023-05-06T13:05:15.448Z"
   },
   {
    "duration": 4,
    "start_time": "2023-05-06T13:05:21.849Z"
   },
   {
    "duration": 14,
    "start_time": "2023-05-06T13:05:29.395Z"
   },
   {
    "duration": 8,
    "start_time": "2023-05-06T13:05:44.512Z"
   },
   {
    "duration": 4,
    "start_time": "2023-05-06T13:05:48.142Z"
   },
   {
    "duration": 15,
    "start_time": "2023-05-06T13:05:50.746Z"
   },
   {
    "duration": 6,
    "start_time": "2023-05-06T13:08:08.238Z"
   },
   {
    "duration": 144,
    "start_time": "2023-05-06T13:11:49.768Z"
   },
   {
    "duration": 344,
    "start_time": "2023-05-06T13:12:06.314Z"
   },
   {
    "duration": 46,
    "start_time": "2023-05-06T13:12:36.459Z"
   },
   {
    "duration": 29,
    "start_time": "2023-05-06T13:13:17.695Z"
   },
   {
    "duration": 14,
    "start_time": "2023-05-06T13:14:11.748Z"
   },
   {
    "duration": 1041,
    "start_time": "2023-05-06T13:14:53.102Z"
   },
   {
    "duration": 8033,
    "start_time": "2023-05-06T13:15:08.119Z"
   },
   {
    "duration": 7854,
    "start_time": "2023-05-06T13:16:00.738Z"
   },
   {
    "duration": 957,
    "start_time": "2023-05-06T13:16:38.402Z"
   },
   {
    "duration": 7815,
    "start_time": "2023-05-06T13:16:50.197Z"
   },
   {
    "duration": 7975,
    "start_time": "2023-05-06T13:17:04.196Z"
   },
   {
    "duration": 15,
    "start_time": "2023-05-06T13:29:13.987Z"
   },
   {
    "duration": 15,
    "start_time": "2023-05-06T13:30:14.474Z"
   },
   {
    "duration": 7,
    "start_time": "2023-05-06T13:31:07.310Z"
   },
   {
    "duration": 16,
    "start_time": "2023-05-06T13:31:43.609Z"
   },
   {
    "duration": 1133,
    "start_time": "2023-05-06T13:32:26.799Z"
   },
   {
    "duration": 4608,
    "start_time": "2023-05-06T13:32:59.935Z"
   },
   {
    "duration": 14,
    "start_time": "2023-05-06T13:38:09.900Z"
   },
   {
    "duration": 148,
    "start_time": "2023-05-06T13:38:11.115Z"
   },
   {
    "duration": 31,
    "start_time": "2023-05-06T13:38:12.855Z"
   },
   {
    "duration": 966,
    "start_time": "2023-05-06T13:38:14.344Z"
   },
   {
    "duration": 202,
    "start_time": "2023-05-06T13:38:16.594Z"
   },
   {
    "duration": 8,
    "start_time": "2023-05-06T13:38:18.436Z"
   },
   {
    "duration": 5,
    "start_time": "2023-05-06T13:38:19.715Z"
   },
   {
    "duration": 27,
    "start_time": "2023-05-06T13:38:20.975Z"
   },
   {
    "duration": 7,
    "start_time": "2023-05-06T13:38:21.841Z"
   },
   {
    "duration": 41,
    "start_time": "2023-05-06T13:38:22.952Z"
   },
   {
    "duration": 8911,
    "start_time": "2023-05-06T13:38:23.754Z"
   },
   {
    "duration": 18,
    "start_time": "2023-05-06T13:38:52.988Z"
   },
   {
    "duration": 4,
    "start_time": "2023-05-06T13:38:54.437Z"
   },
   {
    "duration": 7,
    "start_time": "2023-05-06T13:38:55.132Z"
   },
   {
    "duration": 18,
    "start_time": "2023-05-06T13:38:56.008Z"
   },
   {
    "duration": 4448,
    "start_time": "2023-05-06T13:38:56.728Z"
   },
   {
    "duration": 50,
    "start_time": "2023-05-06T13:44:54.995Z"
   },
   {
    "duration": 31,
    "start_time": "2023-05-06T13:46:57.028Z"
   },
   {
    "duration": 38,
    "start_time": "2023-05-06T13:47:23.862Z"
   },
   {
    "duration": 33,
    "start_time": "2023-05-06T13:47:54.844Z"
   },
   {
    "duration": 166,
    "start_time": "2023-05-06T13:49:34.625Z"
   },
   {
    "duration": 208,
    "start_time": "2023-05-06T13:50:46.098Z"
   },
   {
    "duration": 15,
    "start_time": "2023-05-06T13:51:10.601Z"
   },
   {
    "duration": 175,
    "start_time": "2023-05-06T13:51:22.514Z"
   },
   {
    "duration": 98,
    "start_time": "2023-05-06T13:52:57.848Z"
   },
   {
    "duration": 16,
    "start_time": "2023-05-06T13:53:41.593Z"
   },
   {
    "duration": 256,
    "start_time": "2023-05-06T13:53:53.155Z"
   },
   {
    "duration": 243,
    "start_time": "2023-05-06T13:54:23.748Z"
   },
   {
    "duration": 119,
    "start_time": "2023-05-06T13:56:40.234Z"
   },
   {
    "duration": 106,
    "start_time": "2023-05-06T14:00:50.364Z"
   },
   {
    "duration": 11,
    "start_time": "2023-05-06T14:11:48.917Z"
   },
   {
    "duration": 11,
    "start_time": "2023-05-06T14:12:57.743Z"
   },
   {
    "duration": 11,
    "start_time": "2023-05-06T14:12:59.299Z"
   },
   {
    "duration": 10,
    "start_time": "2023-05-06T14:13:04.024Z"
   },
   {
    "duration": 10,
    "start_time": "2023-05-06T14:13:08.823Z"
   },
   {
    "duration": 14,
    "start_time": "2023-05-06T14:15:25.699Z"
   },
   {
    "duration": 12,
    "start_time": "2023-05-06T14:15:38.707Z"
   },
   {
    "duration": 38,
    "start_time": "2023-05-06T14:22:29.388Z"
   },
   {
    "duration": 10,
    "start_time": "2023-05-06T14:22:39.139Z"
   },
   {
    "duration": 9,
    "start_time": "2023-05-06T14:24:04.946Z"
   },
   {
    "duration": 11,
    "start_time": "2023-05-06T14:24:19.798Z"
   },
   {
    "duration": 62,
    "start_time": "2023-05-06T14:25:09.552Z"
   },
   {
    "duration": 10,
    "start_time": "2023-05-06T14:25:21.001Z"
   },
   {
    "duration": 612,
    "start_time": "2023-05-06T14:25:55.649Z"
   },
   {
    "duration": 415,
    "start_time": "2023-05-06T14:26:12.932Z"
   },
   {
    "duration": 422,
    "start_time": "2023-05-06T14:26:17.639Z"
   },
   {
    "duration": 9,
    "start_time": "2023-05-06T14:26:28.432Z"
   },
   {
    "duration": 12,
    "start_time": "2023-05-06T14:27:56.518Z"
   },
   {
    "duration": 26,
    "start_time": "2023-05-06T14:28:18.336Z"
   },
   {
    "duration": 82,
    "start_time": "2023-05-06T14:28:43.699Z"
   },
   {
    "duration": 13,
    "start_time": "2023-05-06T14:28:48.621Z"
   },
   {
    "duration": 11,
    "start_time": "2023-05-06T14:28:55.292Z"
   },
   {
    "duration": 10,
    "start_time": "2023-05-06T14:29:26.359Z"
   },
   {
    "duration": 8,
    "start_time": "2023-05-06T14:30:01.312Z"
   },
   {
    "duration": 11,
    "start_time": "2023-05-06T14:30:48.651Z"
   },
   {
    "duration": 50,
    "start_time": "2023-05-06T14:31:26.359Z"
   },
   {
    "duration": 10,
    "start_time": "2023-05-06T14:31:34.709Z"
   },
   {
    "duration": 18,
    "start_time": "2023-05-06T14:32:40.706Z"
   },
   {
    "duration": 17,
    "start_time": "2023-05-06T14:33:00.370Z"
   },
   {
    "duration": 17,
    "start_time": "2023-05-06T14:34:37.295Z"
   },
   {
    "duration": 27,
    "start_time": "2023-05-06T14:34:51.568Z"
   },
   {
    "duration": 15,
    "start_time": "2023-05-06T14:35:01.847Z"
   },
   {
    "duration": 14,
    "start_time": "2023-05-06T14:35:09.185Z"
   },
   {
    "duration": 10,
    "start_time": "2023-05-06T14:35:31.820Z"
   },
   {
    "duration": 15,
    "start_time": "2023-05-06T14:38:16.600Z"
   },
   {
    "duration": 13,
    "start_time": "2023-05-06T14:41:17.549Z"
   },
   {
    "duration": 21,
    "start_time": "2023-05-06T14:41:25.772Z"
   },
   {
    "duration": 21,
    "start_time": "2023-05-06T14:42:06.885Z"
   },
   {
    "duration": 22,
    "start_time": "2023-05-06T14:46:28.265Z"
   },
   {
    "duration": 12,
    "start_time": "2023-05-06T14:48:05.569Z"
   },
   {
    "duration": 2456,
    "start_time": "2023-05-06T14:49:18.741Z"
   },
   {
    "duration": 12,
    "start_time": "2023-05-06T14:50:06.835Z"
   },
   {
    "duration": 11,
    "start_time": "2023-05-06T14:50:32.433Z"
   },
   {
    "duration": 18,
    "start_time": "2023-05-06T14:51:35.188Z"
   },
   {
    "duration": 31,
    "start_time": "2023-05-06T14:52:05.858Z"
   },
   {
    "duration": 16,
    "start_time": "2023-05-06T14:53:46.632Z"
   },
   {
    "duration": 9,
    "start_time": "2023-05-06T14:54:48.596Z"
   },
   {
    "duration": 8,
    "start_time": "2023-05-06T14:54:55.601Z"
   },
   {
    "duration": 13,
    "start_time": "2023-05-06T14:58:13.947Z"
   },
   {
    "duration": 14,
    "start_time": "2023-05-06T14:59:17.518Z"
   },
   {
    "duration": 9,
    "start_time": "2023-05-06T15:01:17.657Z"
   },
   {
    "duration": 15,
    "start_time": "2023-05-06T15:01:36.785Z"
   },
   {
    "duration": 9,
    "start_time": "2023-05-06T15:02:07.996Z"
   },
   {
    "duration": 3,
    "start_time": "2023-05-06T15:02:22.112Z"
   },
   {
    "duration": 8,
    "start_time": "2023-05-06T15:02:53.699Z"
   },
   {
    "duration": 10,
    "start_time": "2023-05-06T15:03:04.771Z"
   },
   {
    "duration": 7,
    "start_time": "2023-05-06T15:03:06.901Z"
   },
   {
    "duration": 9,
    "start_time": "2023-05-06T15:03:21.114Z"
   },
   {
    "duration": 4,
    "start_time": "2023-05-06T15:03:22.596Z"
   },
   {
    "duration": 4,
    "start_time": "2023-05-06T15:03:23.660Z"
   },
   {
    "duration": 11,
    "start_time": "2023-05-06T15:04:52.950Z"
   },
   {
    "duration": 4,
    "start_time": "2023-05-06T15:05:15.102Z"
   },
   {
    "duration": 10,
    "start_time": "2023-05-06T15:06:27.783Z"
   },
   {
    "duration": 4,
    "start_time": "2023-05-06T15:06:52.566Z"
   },
   {
    "duration": 4,
    "start_time": "2023-05-06T15:15:15.019Z"
   },
   {
    "duration": 4,
    "start_time": "2023-05-06T15:16:44.706Z"
   },
   {
    "duration": 4,
    "start_time": "2023-05-06T15:17:56.806Z"
   },
   {
    "duration": 1245,
    "start_time": "2023-05-06T15:19:28.130Z"
   },
   {
    "duration": 1266,
    "start_time": "2023-05-06T15:19:46.719Z"
   },
   {
    "duration": 40,
    "start_time": "2023-05-06T15:27:36.561Z"
   },
   {
    "duration": 41,
    "start_time": "2023-05-06T15:27:48.213Z"
   },
   {
    "duration": 55,
    "start_time": "2023-05-06T15:27:50.170Z"
   },
   {
    "duration": 36,
    "start_time": "2023-05-06T15:27:55.305Z"
   },
   {
    "duration": 24,
    "start_time": "2023-05-06T15:28:58.923Z"
   },
   {
    "duration": 21,
    "start_time": "2023-05-06T15:30:51.518Z"
   },
   {
    "duration": 91,
    "start_time": "2023-05-06T15:31:01.244Z"
   },
   {
    "duration": 44,
    "start_time": "2023-05-06T15:42:51.699Z"
   },
   {
    "duration": 44,
    "start_time": "2023-05-06T15:45:09.853Z"
   },
   {
    "duration": 9,
    "start_time": "2023-05-06T15:53:48.988Z"
   },
   {
    "duration": 35,
    "start_time": "2023-05-06T15:53:53.934Z"
   },
   {
    "duration": 1457,
    "start_time": "2023-05-06T15:54:29.880Z"
   },
   {
    "duration": 1290,
    "start_time": "2023-05-06T15:55:27.213Z"
   },
   {
    "duration": 5,
    "start_time": "2023-05-06T15:55:36.636Z"
   },
   {
    "duration": 7,
    "start_time": "2023-05-06T15:56:05.798Z"
   },
   {
    "duration": 17,
    "start_time": "2023-05-06T15:58:42.323Z"
   },
   {
    "duration": 86,
    "start_time": "2023-05-06T16:01:02.210Z"
   },
   {
    "duration": 121,
    "start_time": "2023-05-06T16:01:24.790Z"
   },
   {
    "duration": 73,
    "start_time": "2023-05-06T16:01:34.717Z"
   },
   {
    "duration": 12,
    "start_time": "2023-05-06T16:01:45.211Z"
   },
   {
    "duration": 27,
    "start_time": "2023-05-06T16:12:23.349Z"
   },
   {
    "duration": 53,
    "start_time": "2023-05-06T16:12:25.170Z"
   },
   {
    "duration": 9,
    "start_time": "2023-05-06T16:12:37.589Z"
   },
   {
    "duration": 5,
    "start_time": "2023-05-06T16:13:00.715Z"
   },
   {
    "duration": 5,
    "start_time": "2023-05-06T16:13:41.060Z"
   },
   {
    "duration": 11,
    "start_time": "2023-05-06T16:14:16.823Z"
   },
   {
    "duration": 10,
    "start_time": "2023-05-06T16:15:34.562Z"
   },
   {
    "duration": 4,
    "start_time": "2023-05-06T16:15:57.627Z"
   },
   {
    "duration": 23,
    "start_time": "2023-05-06T16:15:58.596Z"
   },
   {
    "duration": 4,
    "start_time": "2023-05-06T16:16:09.587Z"
   },
   {
    "duration": 12,
    "start_time": "2023-05-06T16:16:10.772Z"
   },
   {
    "duration": 16,
    "start_time": "2023-05-06T16:20:13.605Z"
   },
   {
    "duration": 149,
    "start_time": "2023-05-06T16:20:23.646Z"
   },
   {
    "duration": 41,
    "start_time": "2023-05-06T16:20:50.342Z"
   },
   {
    "duration": 44,
    "start_time": "2023-05-06T16:20:51.226Z"
   },
   {
    "duration": 46,
    "start_time": "2023-05-06T16:20:56.536Z"
   },
   {
    "duration": 11,
    "start_time": "2023-05-06T16:22:55.773Z"
   },
   {
    "duration": 10,
    "start_time": "2023-05-06T16:23:03.848Z"
   },
   {
    "duration": 13,
    "start_time": "2023-05-06T16:23:13.485Z"
   },
   {
    "duration": 211,
    "start_time": "2023-05-06T16:24:25.153Z"
   },
   {
    "duration": 12,
    "start_time": "2023-05-06T16:25:03.621Z"
   },
   {
    "duration": 160,
    "start_time": "2023-05-06T16:25:33.298Z"
   },
   {
    "duration": 17,
    "start_time": "2023-05-06T16:25:41.292Z"
   },
   {
    "duration": 50,
    "start_time": "2023-05-06T16:26:08.477Z"
   },
   {
    "duration": 12,
    "start_time": "2023-05-06T16:26:23.436Z"
   },
   {
    "duration": 14,
    "start_time": "2023-05-06T16:27:10.680Z"
   },
   {
    "duration": 15,
    "start_time": "2023-05-06T16:27:54.077Z"
   },
   {
    "duration": 11,
    "start_time": "2023-05-06T16:28:43.451Z"
   },
   {
    "duration": 1246,
    "start_time": "2023-05-06T16:30:48.059Z"
   },
   {
    "duration": 15,
    "start_time": "2023-05-06T16:30:56.131Z"
   },
   {
    "duration": 20,
    "start_time": "2023-05-06T16:34:19.854Z"
   },
   {
    "duration": 16,
    "start_time": "2023-05-06T16:35:45.637Z"
   },
   {
    "duration": 13,
    "start_time": "2023-05-06T16:37:08.723Z"
   },
   {
    "duration": 70,
    "start_time": "2023-05-06T16:38:59.006Z"
   },
   {
    "duration": 14,
    "start_time": "2023-05-06T16:40:55.174Z"
   },
   {
    "duration": 15,
    "start_time": "2023-05-06T16:44:43.849Z"
   },
   {
    "duration": 218,
    "start_time": "2023-05-06T16:44:45.525Z"
   },
   {
    "duration": 19,
    "start_time": "2023-05-06T16:44:47.120Z"
   },
   {
    "duration": 951,
    "start_time": "2023-05-06T16:44:48.273Z"
   },
   {
    "duration": 166,
    "start_time": "2023-05-06T16:44:50.769Z"
   },
   {
    "duration": 12,
    "start_time": "2023-05-06T16:44:52.734Z"
   },
   {
    "duration": 8,
    "start_time": "2023-05-06T16:44:54.260Z"
   },
   {
    "duration": 4,
    "start_time": "2023-05-06T16:44:55.604Z"
   },
   {
    "duration": 11,
    "start_time": "2023-05-06T16:44:56.382Z"
   },
   {
    "duration": 18,
    "start_time": "2023-05-06T16:44:57.235Z"
   },
   {
    "duration": 8610,
    "start_time": "2023-05-06T16:44:58.387Z"
   },
   {
    "duration": 12,
    "start_time": "2023-05-06T16:45:11.711Z"
   },
   {
    "duration": 4,
    "start_time": "2023-05-06T16:45:12.510Z"
   },
   {
    "duration": 7,
    "start_time": "2023-05-06T16:45:13.359Z"
   },
   {
    "duration": 20,
    "start_time": "2023-05-06T16:45:15.817Z"
   },
   {
    "duration": 4629,
    "start_time": "2023-05-06T16:45:16.870Z"
   },
   {
    "duration": 72,
    "start_time": "2023-05-06T16:45:24.147Z"
   },
   {
    "duration": 36,
    "start_time": "2023-05-06T16:45:25.326Z"
   },
   {
    "duration": 135,
    "start_time": "2023-05-06T16:45:26.594Z"
   },
   {
    "duration": 96,
    "start_time": "2023-05-06T16:45:28.739Z"
   },
   {
    "duration": 27,
    "start_time": "2023-05-06T16:45:39.764Z"
   },
   {
    "duration": 7,
    "start_time": "2023-05-06T16:45:44.120Z"
   },
   {
    "duration": 16,
    "start_time": "2023-05-06T16:45:45.398Z"
   },
   {
    "duration": 5,
    "start_time": "2023-05-06T16:45:46.811Z"
   },
   {
    "duration": 10,
    "start_time": "2023-05-06T16:45:48.134Z"
   },
   {
    "duration": 5,
    "start_time": "2023-05-06T16:45:49.364Z"
   },
   {
    "duration": 5,
    "start_time": "2023-05-06T16:45:50.623Z"
   },
   {
    "duration": 66,
    "start_time": "2023-05-06T16:45:51.839Z"
   },
   {
    "duration": 41,
    "start_time": "2023-05-06T16:45:52.802Z"
   },
   {
    "duration": 5,
    "start_time": "2023-05-06T16:45:53.601Z"
   },
   {
    "duration": 47,
    "start_time": "2023-05-06T16:45:54.907Z"
   },
   {
    "duration": 5,
    "start_time": "2023-05-06T16:45:56.407Z"
   },
   {
    "duration": 25,
    "start_time": "2023-05-06T16:45:58.066Z"
   },
   {
    "duration": 77,
    "start_time": "2023-05-06T16:45:59.529Z"
   },
   {
    "duration": 16,
    "start_time": "2023-05-06T16:46:00.707Z"
   },
   {
    "duration": 13,
    "start_time": "2023-05-06T16:46:02.240Z"
   },
   {
    "duration": 12,
    "start_time": "2023-05-06T16:46:04.748Z"
   },
   {
    "duration": 11,
    "start_time": "2023-05-06T16:46:06.521Z"
   },
   {
    "duration": 10,
    "start_time": "2023-05-06T16:46:11.518Z"
   },
   {
    "duration": 17,
    "start_time": "2023-05-06T16:46:13.102Z"
   },
   {
    "duration": 3,
    "start_time": "2023-05-06T16:46:34.772Z"
   },
   {
    "duration": 177,
    "start_time": "2023-05-06T16:46:35.768Z"
   },
   {
    "duration": 27,
    "start_time": "2023-05-06T16:46:37.008Z"
   },
   {
    "duration": 1057,
    "start_time": "2023-05-06T16:46:38.060Z"
   },
   {
    "duration": 204,
    "start_time": "2023-05-06T16:46:40.447Z"
   },
   {
    "duration": 28,
    "start_time": "2023-05-06T16:46:41.677Z"
   },
   {
    "duration": 6,
    "start_time": "2023-05-06T16:46:42.851Z"
   },
   {
    "duration": 5,
    "start_time": "2023-05-06T16:46:44.358Z"
   },
   {
    "duration": 10,
    "start_time": "2023-05-06T16:46:45.630Z"
   },
   {
    "duration": 19,
    "start_time": "2023-05-06T16:46:46.346Z"
   },
   {
    "duration": 8187,
    "start_time": "2023-05-06T16:46:47.219Z"
   },
   {
    "duration": 19,
    "start_time": "2023-05-06T16:46:59.270Z"
   },
   {
    "duration": 8,
    "start_time": "2023-05-06T16:47:00.701Z"
   },
   {
    "duration": 8,
    "start_time": "2023-05-06T16:47:01.554Z"
   },
   {
    "duration": 18,
    "start_time": "2023-05-06T16:47:02.216Z"
   },
   {
    "duration": 4953,
    "start_time": "2023-05-06T16:47:02.967Z"
   },
   {
    "duration": 77,
    "start_time": "2023-05-06T16:47:10.920Z"
   },
   {
    "duration": 30,
    "start_time": "2023-05-06T16:47:12.113Z"
   },
   {
    "duration": 98,
    "start_time": "2023-05-06T16:47:13.206Z"
   },
   {
    "duration": 11,
    "start_time": "2023-05-06T16:47:15.112Z"
   },
   {
    "duration": 10,
    "start_time": "2023-05-06T16:47:16.392Z"
   },
   {
    "duration": 13,
    "start_time": "2023-05-06T16:47:17.208Z"
   },
   {
    "duration": 4,
    "start_time": "2023-05-06T16:47:18.347Z"
   },
   {
    "duration": 10,
    "start_time": "2023-05-06T16:47:19.514Z"
   },
   {
    "duration": 4,
    "start_time": "2023-05-06T16:47:20.538Z"
   },
   {
    "duration": 12,
    "start_time": "2023-05-06T16:47:21.597Z"
   },
   {
    "duration": 38,
    "start_time": "2023-05-06T16:47:22.666Z"
   },
   {
    "duration": 39,
    "start_time": "2023-05-06T16:47:23.407Z"
   },
   {
    "duration": 4,
    "start_time": "2023-05-06T16:47:24.703Z"
   },
   {
    "duration": 64,
    "start_time": "2023-05-06T16:47:25.475Z"
   },
   {
    "duration": 6,
    "start_time": "2023-05-06T16:47:26.554Z"
   },
   {
    "duration": 22,
    "start_time": "2023-05-06T16:47:27.770Z"
   },
   {
    "duration": 45,
    "start_time": "2023-05-06T16:47:29.004Z"
   },
   {
    "duration": 11,
    "start_time": "2023-05-06T16:47:30.302Z"
   },
   {
    "duration": 15,
    "start_time": "2023-05-06T16:47:32.026Z"
   },
   {
    "duration": 24,
    "start_time": "2023-05-06T16:47:33.869Z"
   },
   {
    "duration": 19,
    "start_time": "2023-05-06T16:47:35.251Z"
   },
   {
    "duration": 21,
    "start_time": "2023-05-06T16:47:36.981Z"
   },
   {
    "duration": 12,
    "start_time": "2023-05-06T16:47:38.541Z"
   },
   {
    "duration": 18,
    "start_time": "2023-05-06T16:47:40.298Z"
   },
   {
    "duration": 1218,
    "start_time": "2023-05-06T20:13:01.031Z"
   },
   {
    "duration": 174,
    "start_time": "2023-05-06T20:13:02.250Z"
   },
   {
    "duration": 29,
    "start_time": "2023-05-06T20:13:02.426Z"
   },
   {
    "duration": 928,
    "start_time": "2023-05-06T20:13:02.458Z"
   },
   {
    "duration": 229,
    "start_time": "2023-05-06T20:13:03.388Z"
   },
   {
    "duration": 8,
    "start_time": "2023-05-06T20:13:03.618Z"
   },
   {
    "duration": 24,
    "start_time": "2023-05-06T20:13:03.633Z"
   },
   {
    "duration": 13,
    "start_time": "2023-05-06T20:13:03.658Z"
   },
   {
    "duration": 13,
    "start_time": "2023-05-06T20:13:03.673Z"
   },
   {
    "duration": 19,
    "start_time": "2023-05-06T20:13:03.690Z"
   },
   {
    "duration": 8718,
    "start_time": "2023-05-06T20:13:03.711Z"
   },
   {
    "duration": 20,
    "start_time": "2023-05-06T20:13:12.431Z"
   },
   {
    "duration": 4,
    "start_time": "2023-05-06T20:13:12.452Z"
   },
   {
    "duration": 14,
    "start_time": "2023-05-06T20:13:12.457Z"
   },
   {
    "duration": 17,
    "start_time": "2023-05-06T20:13:12.473Z"
   },
   {
    "duration": 5220,
    "start_time": "2023-05-06T20:13:12.492Z"
   },
   {
    "duration": 72,
    "start_time": "2023-05-06T20:13:17.715Z"
   },
   {
    "duration": 31,
    "start_time": "2023-05-06T20:13:17.789Z"
   },
   {
    "duration": 110,
    "start_time": "2023-05-06T20:13:17.836Z"
   },
   {
    "duration": 12,
    "start_time": "2023-05-06T20:13:17.948Z"
   },
   {
    "duration": 12,
    "start_time": "2023-05-06T20:13:17.962Z"
   },
   {
    "duration": 16,
    "start_time": "2023-05-06T20:13:17.975Z"
   },
   {
    "duration": 33,
    "start_time": "2023-05-06T20:13:17.993Z"
   },
   {
    "duration": 36,
    "start_time": "2023-05-06T20:13:18.028Z"
   },
   {
    "duration": 15,
    "start_time": "2023-05-06T20:13:18.067Z"
   },
   {
    "duration": 114,
    "start_time": "2023-05-06T20:13:18.084Z"
   },
   {
    "duration": 0,
    "start_time": "2023-05-06T20:13:18.200Z"
   },
   {
    "duration": 0,
    "start_time": "2023-05-06T20:13:18.202Z"
   },
   {
    "duration": 0,
    "start_time": "2023-05-06T20:13:18.203Z"
   },
   {
    "duration": 0,
    "start_time": "2023-05-06T20:13:18.204Z"
   },
   {
    "duration": 0,
    "start_time": "2023-05-06T20:13:18.205Z"
   },
   {
    "duration": 1,
    "start_time": "2023-05-06T20:13:18.206Z"
   },
   {
    "duration": 0,
    "start_time": "2023-05-06T20:13:18.207Z"
   },
   {
    "duration": 0,
    "start_time": "2023-05-06T20:13:18.209Z"
   },
   {
    "duration": 0,
    "start_time": "2023-05-06T20:13:18.210Z"
   },
   {
    "duration": 0,
    "start_time": "2023-05-06T20:13:18.211Z"
   },
   {
    "duration": 0,
    "start_time": "2023-05-06T20:13:18.212Z"
   },
   {
    "duration": 0,
    "start_time": "2023-05-06T20:13:18.213Z"
   },
   {
    "duration": 0,
    "start_time": "2023-05-06T20:13:18.214Z"
   },
   {
    "duration": 0,
    "start_time": "2023-05-06T20:13:18.215Z"
   },
   {
    "duration": 26,
    "start_time": "2023-05-06T20:13:52.559Z"
   },
   {
    "duration": 35,
    "start_time": "2023-05-06T20:13:54.222Z"
   },
   {
    "duration": 27,
    "start_time": "2023-05-06T20:13:57.247Z"
   },
   {
    "duration": 4,
    "start_time": "2023-05-06T20:13:57.276Z"
   },
   {
    "duration": 70,
    "start_time": "2023-05-06T20:13:57.282Z"
   },
   {
    "duration": 5,
    "start_time": "2023-05-06T20:13:57.354Z"
   },
   {
    "duration": 17,
    "start_time": "2023-05-06T20:13:57.360Z"
   },
   {
    "duration": 69,
    "start_time": "2023-05-06T20:13:57.379Z"
   },
   {
    "duration": 13,
    "start_time": "2023-05-06T20:13:57.450Z"
   },
   {
    "duration": 287,
    "start_time": "2023-05-06T20:13:57.465Z"
   },
   {
    "duration": 13,
    "start_time": "2023-05-06T20:13:57.753Z"
   },
   {
    "duration": 19,
    "start_time": "2023-05-06T20:13:57.769Z"
   },
   {
    "duration": 57,
    "start_time": "2023-05-06T20:13:57.790Z"
   },
   {
    "duration": 21,
    "start_time": "2023-05-06T20:13:57.849Z"
   },
   {
    "duration": 15,
    "start_time": "2023-05-06T20:13:57.872Z"
   },
   {
    "duration": 4,
    "start_time": "2023-05-06T20:29:30.446Z"
   },
   {
    "duration": 6,
    "start_time": "2023-05-06T20:31:24.881Z"
   },
   {
    "duration": 8,
    "start_time": "2023-05-06T20:31:35.621Z"
   },
   {
    "duration": 55,
    "start_time": "2023-05-07T09:32:48.768Z"
   },
   {
    "duration": 915,
    "start_time": "2023-05-07T09:32:51.534Z"
   },
   {
    "duration": 572,
    "start_time": "2023-05-07T09:32:53.177Z"
   },
   {
    "duration": 29,
    "start_time": "2023-05-07T09:35:13.233Z"
   },
   {
    "duration": 1337,
    "start_time": "2023-05-07T09:38:59.316Z"
   },
   {
    "duration": 31,
    "start_time": "2023-05-07T09:40:48.360Z"
   },
   {
    "duration": 93,
    "start_time": "2023-05-07T09:49:59.539Z"
   },
   {
    "duration": 93,
    "start_time": "2023-05-07T09:51:43.905Z"
   },
   {
    "duration": 243,
    "start_time": "2023-05-07T09:57:12.493Z"
   },
   {
    "duration": 186,
    "start_time": "2023-05-07T09:57:44.165Z"
   },
   {
    "duration": 189,
    "start_time": "2023-05-07T09:58:41.310Z"
   },
   {
    "duration": 178,
    "start_time": "2023-05-07T09:58:47.237Z"
   },
   {
    "duration": 176,
    "start_time": "2023-05-07T09:58:57.640Z"
   },
   {
    "duration": 196,
    "start_time": "2023-05-07T09:59:17.842Z"
   },
   {
    "duration": 227,
    "start_time": "2023-05-07T09:59:38.395Z"
   },
   {
    "duration": 271,
    "start_time": "2023-05-07T09:59:42.423Z"
   },
   {
    "duration": 274,
    "start_time": "2023-05-07T09:59:55.249Z"
   },
   {
    "duration": 272,
    "start_time": "2023-05-07T09:59:59.096Z"
   },
   {
    "duration": 189,
    "start_time": "2023-05-07T10:00:24.287Z"
   },
   {
    "duration": 17,
    "start_time": "2023-05-07T10:00:32.521Z"
   },
   {
    "duration": 75,
    "start_time": "2023-05-07T10:12:46.515Z"
   },
   {
    "duration": 209,
    "start_time": "2023-05-07T10:12:51.227Z"
   },
   {
    "duration": 66,
    "start_time": "2023-05-07T10:12:52.806Z"
   },
   {
    "duration": 50,
    "start_time": "2023-05-07T10:13:05.973Z"
   },
   {
    "duration": 51,
    "start_time": "2023-05-07T10:13:07.301Z"
   },
   {
    "duration": 53,
    "start_time": "2023-05-07T10:13:16.496Z"
   },
   {
    "duration": 4,
    "start_time": "2023-05-07T10:13:22.804Z"
   },
   {
    "duration": 211,
    "start_time": "2023-05-07T10:13:25.589Z"
   },
   {
    "duration": 21,
    "start_time": "2023-05-07T10:13:27.060Z"
   },
   {
    "duration": 1046,
    "start_time": "2023-05-07T10:13:28.466Z"
   },
   {
    "duration": 28,
    "start_time": "2023-05-07T10:13:30.871Z"
   },
   {
    "duration": 179,
    "start_time": "2023-05-07T10:13:32.296Z"
   },
   {
    "duration": 46,
    "start_time": "2023-05-07T10:13:33.943Z"
   },
   {
    "duration": 5,
    "start_time": "2023-05-07T10:20:52.767Z"
   },
   {
    "duration": 7,
    "start_time": "2023-05-07T10:23:04.640Z"
   },
   {
    "duration": 9,
    "start_time": "2023-05-07T10:32:01.035Z"
   },
   {
    "duration": 47,
    "start_time": "2023-05-07T10:32:26.954Z"
   },
   {
    "duration": 4,
    "start_time": "2023-05-07T10:32:30.495Z"
   },
   {
    "duration": 12,
    "start_time": "2023-05-07T10:32:32.227Z"
   },
   {
    "duration": 31,
    "start_time": "2023-05-07T10:32:36.215Z"
   },
   {
    "duration": 8,
    "start_time": "2023-05-07T10:32:37.674Z"
   },
   {
    "duration": 285,
    "start_time": "2023-05-07T10:37:09.228Z"
   },
   {
    "duration": 297,
    "start_time": "2023-05-07T10:37:20.480Z"
   },
   {
    "duration": 430,
    "start_time": "2023-05-07T10:37:28.252Z"
   },
   {
    "duration": 1644,
    "start_time": "2023-05-07T10:37:40.149Z"
   },
   {
    "duration": 188,
    "start_time": "2023-05-07T10:38:03.327Z"
   },
   {
    "duration": 193,
    "start_time": "2023-05-07T10:38:09.804Z"
   },
   {
    "duration": 186,
    "start_time": "2023-05-07T10:38:17.466Z"
   },
   {
    "duration": 305,
    "start_time": "2023-05-07T10:45:51.235Z"
   },
   {
    "duration": 309,
    "start_time": "2023-05-07T10:46:06.569Z"
   },
   {
    "duration": 34,
    "start_time": "2023-05-07T10:53:17.223Z"
   },
   {
    "duration": 6,
    "start_time": "2023-05-07T10:54:05.811Z"
   },
   {
    "duration": 10,
    "start_time": "2023-05-07T10:54:43.172Z"
   },
   {
    "duration": 10,
    "start_time": "2023-05-07T10:54:44.698Z"
   },
   {
    "duration": 8,
    "start_time": "2023-05-07T10:55:06.004Z"
   },
   {
    "duration": 8,
    "start_time": "2023-05-07T10:55:07.054Z"
   },
   {
    "duration": 9,
    "start_time": "2023-05-07T10:55:21.166Z"
   },
   {
    "duration": 9,
    "start_time": "2023-05-07T10:55:21.969Z"
   },
   {
    "duration": 2,
    "start_time": "2023-05-07T10:55:29.627Z"
   },
   {
    "duration": 165,
    "start_time": "2023-05-07T10:55:30.796Z"
   },
   {
    "duration": 21,
    "start_time": "2023-05-07T10:55:32.279Z"
   },
   {
    "duration": 949,
    "start_time": "2023-05-07T10:55:34.103Z"
   },
   {
    "duration": 28,
    "start_time": "2023-05-07T10:55:36.184Z"
   },
   {
    "duration": 171,
    "start_time": "2023-05-07T10:55:37.740Z"
   },
   {
    "duration": 44,
    "start_time": "2023-05-07T10:55:39.631Z"
   },
   {
    "duration": 4,
    "start_time": "2023-05-07T10:55:41.498Z"
   },
   {
    "duration": 7,
    "start_time": "2023-05-07T10:55:43.019Z"
   },
   {
    "duration": 19,
    "start_time": "2023-05-07T10:55:44.112Z"
   },
   {
    "duration": 6,
    "start_time": "2023-05-07T10:55:45.373Z"
   },
   {
    "duration": 306,
    "start_time": "2023-05-07T10:55:46.792Z"
   },
   {
    "duration": 26,
    "start_time": "2023-05-07T10:55:48.884Z"
   },
   {
    "duration": 8,
    "start_time": "2023-05-07T10:55:51.186Z"
   },
   {
    "duration": 9,
    "start_time": "2023-05-07T10:55:59.753Z"
   },
   {
    "duration": 8,
    "start_time": "2023-05-07T10:56:01.368Z"
   },
   {
    "duration": 3,
    "start_time": "2023-05-07T10:56:05.255Z"
   },
   {
    "duration": 179,
    "start_time": "2023-05-07T10:56:06.263Z"
   },
   {
    "duration": 21,
    "start_time": "2023-05-07T10:56:07.677Z"
   },
   {
    "duration": 987,
    "start_time": "2023-05-07T10:56:08.969Z"
   },
   {
    "duration": 27,
    "start_time": "2023-05-07T10:56:11.639Z"
   },
   {
    "duration": 152,
    "start_time": "2023-05-07T10:56:12.926Z"
   },
   {
    "duration": 47,
    "start_time": "2023-05-07T10:56:14.251Z"
   },
   {
    "duration": 4,
    "start_time": "2023-05-07T10:56:16.496Z"
   },
   {
    "duration": 7,
    "start_time": "2023-05-07T10:56:17.293Z"
   },
   {
    "duration": 19,
    "start_time": "2023-05-07T10:56:18.821Z"
   },
   {
    "duration": 6,
    "start_time": "2023-05-07T10:56:20.320Z"
   },
   {
    "duration": 438,
    "start_time": "2023-05-07T10:56:21.661Z"
   },
   {
    "duration": 21,
    "start_time": "2023-05-07T10:56:23.673Z"
   },
   {
    "duration": 4,
    "start_time": "2023-05-07T10:56:25.198Z"
   },
   {
    "duration": 5,
    "start_time": "2023-05-07T10:56:35.338Z"
   },
   {
    "duration": 5,
    "start_time": "2023-05-07T10:56:41.273Z"
   },
   {
    "duration": 7,
    "start_time": "2023-05-07T10:57:01.736Z"
   },
   {
    "duration": 11,
    "start_time": "2023-05-07T10:57:24.487Z"
   },
   {
    "duration": 19,
    "start_time": "2023-05-07T10:57:33.665Z"
   },
   {
    "duration": 5,
    "start_time": "2023-05-07T10:59:16.636Z"
   },
   {
    "duration": 5,
    "start_time": "2023-05-07T10:59:37.516Z"
   },
   {
    "duration": 4,
    "start_time": "2023-05-07T10:59:42.292Z"
   },
   {
    "duration": 177,
    "start_time": "2023-05-07T10:59:43.444Z"
   },
   {
    "duration": 23,
    "start_time": "2023-05-07T10:59:45.744Z"
   },
   {
    "duration": 959,
    "start_time": "2023-05-07T10:59:48.234Z"
   },
   {
    "duration": 36,
    "start_time": "2023-05-07T10:59:51.875Z"
   },
   {
    "duration": 140,
    "start_time": "2023-05-07T10:59:54.324Z"
   },
   {
    "duration": 43,
    "start_time": "2023-05-07T11:00:00.216Z"
   },
   {
    "duration": 4,
    "start_time": "2023-05-07T11:00:15.954Z"
   },
   {
    "duration": 8,
    "start_time": "2023-05-07T11:00:30.652Z"
   },
   {
    "duration": 19,
    "start_time": "2023-05-07T11:00:34.622Z"
   },
   {
    "duration": 7,
    "start_time": "2023-05-07T11:00:35.962Z"
   },
   {
    "duration": 287,
    "start_time": "2023-05-07T11:00:37.980Z"
   },
   {
    "duration": 27,
    "start_time": "2023-05-07T11:00:41.422Z"
   },
   {
    "duration": 4,
    "start_time": "2023-05-07T11:00:47.420Z"
   },
   {
    "duration": 7,
    "start_time": "2023-05-07T11:00:54.415Z"
   },
   {
    "duration": 5,
    "start_time": "2023-05-07T11:01:02.942Z"
   },
   {
    "duration": 7,
    "start_time": "2023-05-07T11:01:16.149Z"
   },
   {
    "duration": 19,
    "start_time": "2023-05-07T11:01:27.425Z"
   },
   {
    "duration": 4,
    "start_time": "2023-05-07T11:01:48.048Z"
   },
   {
    "duration": 4,
    "start_time": "2023-05-07T11:02:42.758Z"
   },
   {
    "duration": 4,
    "start_time": "2023-05-07T11:03:46.857Z"
   },
   {
    "duration": 4,
    "start_time": "2023-05-07T11:03:57.403Z"
   },
   {
    "duration": 6,
    "start_time": "2023-05-07T11:04:53.477Z"
   },
   {
    "duration": 11,
    "start_time": "2023-05-07T11:08:10.238Z"
   },
   {
    "duration": 11,
    "start_time": "2023-05-07T11:08:14.418Z"
   },
   {
    "duration": 19,
    "start_time": "2023-05-07T11:08:23.372Z"
   },
   {
    "duration": 17,
    "start_time": "2023-05-07T11:08:53.377Z"
   },
   {
    "duration": 17,
    "start_time": "2023-05-07T11:08:54.761Z"
   },
   {
    "duration": 787,
    "start_time": "2023-05-07T20:09:52.187Z"
   },
   {
    "duration": 514,
    "start_time": "2023-05-07T20:09:55.428Z"
   },
   {
    "duration": 23,
    "start_time": "2023-05-07T20:09:57.252Z"
   },
   {
    "duration": 892,
    "start_time": "2023-05-07T20:09:59.011Z"
   },
   {
    "duration": 22,
    "start_time": "2023-05-07T20:10:01.702Z"
   },
   {
    "duration": 162,
    "start_time": "2023-05-07T20:10:03.704Z"
   },
   {
    "duration": 51,
    "start_time": "2023-05-07T20:10:05.505Z"
   },
   {
    "duration": 5,
    "start_time": "2023-05-07T20:10:07.352Z"
   },
   {
    "duration": 9,
    "start_time": "2023-05-07T20:10:08.806Z"
   },
   {
    "duration": 18,
    "start_time": "2023-05-07T20:10:09.957Z"
   },
   {
    "duration": 5,
    "start_time": "2023-05-07T20:10:11.099Z"
   },
   {
    "duration": 363,
    "start_time": "2023-05-07T20:10:12.543Z"
   },
   {
    "duration": 34,
    "start_time": "2023-05-07T20:10:15.896Z"
   },
   {
    "duration": 5,
    "start_time": "2023-05-07T20:10:17.013Z"
   },
   {
    "duration": 10,
    "start_time": "2023-05-07T20:10:18.319Z"
   },
   {
    "duration": 18,
    "start_time": "2023-05-07T20:10:19.756Z"
   },
   {
    "duration": 7,
    "start_time": "2023-05-07T20:10:23.248Z"
   },
   {
    "duration": 19,
    "start_time": "2023-05-07T20:10:24.507Z"
   },
   {
    "duration": 19,
    "start_time": "2023-05-07T20:10:26.138Z"
   },
   {
    "duration": 20,
    "start_time": "2023-05-07T20:10:27.685Z"
   },
   {
    "duration": 138,
    "start_time": "2023-05-07T20:13:06.849Z"
   },
   {
    "duration": 57,
    "start_time": "2023-05-07T20:13:19.602Z"
   },
   {
    "duration": 57,
    "start_time": "2023-05-07T20:14:06.703Z"
   },
   {
    "duration": 22,
    "start_time": "2023-05-07T20:14:23.669Z"
   },
   {
    "duration": 57,
    "start_time": "2023-05-07T20:14:38.721Z"
   },
   {
    "duration": 50,
    "start_time": "2023-05-07T20:14:49.452Z"
   },
   {
    "duration": 55,
    "start_time": "2023-05-07T20:14:55.240Z"
   },
   {
    "duration": 63,
    "start_time": "2023-05-07T20:16:27.873Z"
   },
   {
    "duration": 16,
    "start_time": "2023-05-07T20:19:55.090Z"
   },
   {
    "duration": 127,
    "start_time": "2023-05-07T20:20:18.928Z"
   },
   {
    "duration": 83,
    "start_time": "2023-05-07T20:24:41.447Z"
   },
   {
    "duration": 132,
    "start_time": "2023-05-07T20:27:01.842Z"
   },
   {
    "duration": 12,
    "start_time": "2023-05-07T20:31:58.162Z"
   },
   {
    "duration": 7,
    "start_time": "2023-05-07T20:33:05.544Z"
   },
   {
    "duration": 7,
    "start_time": "2023-05-07T20:33:06.632Z"
   },
   {
    "duration": 11,
    "start_time": "2023-05-07T20:33:14.364Z"
   },
   {
    "duration": 12,
    "start_time": "2023-05-07T20:36:15.536Z"
   },
   {
    "duration": 11,
    "start_time": "2023-05-07T20:36:40.323Z"
   },
   {
    "duration": 12,
    "start_time": "2023-05-07T20:36:41.637Z"
   },
   {
    "duration": 29,
    "start_time": "2023-05-07T20:36:57.559Z"
   },
   {
    "duration": 13,
    "start_time": "2023-05-07T20:37:09.742Z"
   },
   {
    "duration": 12,
    "start_time": "2023-05-07T20:37:36.328Z"
   },
   {
    "duration": 12,
    "start_time": "2023-05-07T20:38:06.202Z"
   },
   {
    "duration": 4,
    "start_time": "2023-05-07T20:38:09.060Z"
   },
   {
    "duration": 13,
    "start_time": "2023-05-07T20:38:10.684Z"
   },
   {
    "duration": 5,
    "start_time": "2023-05-07T20:38:11.977Z"
   },
   {
    "duration": 11,
    "start_time": "2023-05-07T20:38:19.504Z"
   },
   {
    "duration": 12,
    "start_time": "2023-05-07T20:38:20.828Z"
   },
   {
    "duration": 4,
    "start_time": "2023-05-07T20:38:24.455Z"
   },
   {
    "duration": 14,
    "start_time": "2023-05-07T20:41:52.316Z"
   },
   {
    "duration": 14,
    "start_time": "2023-05-07T20:42:28.138Z"
   },
   {
    "duration": 14,
    "start_time": "2023-05-07T20:42:54.465Z"
   },
   {
    "duration": 17,
    "start_time": "2023-05-07T20:43:10.559Z"
   },
   {
    "duration": 16,
    "start_time": "2023-05-07T20:55:40.827Z"
   },
   {
    "duration": 17,
    "start_time": "2023-05-07T20:55:59.820Z"
   },
   {
    "duration": 16,
    "start_time": "2023-05-07T20:56:29.994Z"
   },
   {
    "duration": 1136,
    "start_time": "2023-05-07T20:58:03.307Z"
   },
   {
    "duration": 17,
    "start_time": "2023-05-07T20:58:30.604Z"
   },
   {
    "duration": 18,
    "start_time": "2023-05-07T20:59:36.358Z"
   },
   {
    "duration": 18,
    "start_time": "2023-05-07T21:00:10.423Z"
   },
   {
    "duration": 19,
    "start_time": "2023-05-07T21:03:59.186Z"
   },
   {
    "duration": 19,
    "start_time": "2023-05-07T21:04:23.660Z"
   },
   {
    "duration": 19,
    "start_time": "2023-05-07T21:04:49.350Z"
   },
   {
    "duration": 1045,
    "start_time": "2023-05-08T09:40:06.059Z"
   },
   {
    "duration": 525,
    "start_time": "2023-05-08T09:40:11.522Z"
   },
   {
    "duration": 24,
    "start_time": "2023-05-08T09:40:17.287Z"
   },
   {
    "duration": 956,
    "start_time": "2023-05-08T09:40:20.274Z"
   },
   {
    "duration": 34,
    "start_time": "2023-05-08T09:40:27.086Z"
   },
   {
    "duration": 172,
    "start_time": "2023-05-08T09:40:28.916Z"
   },
   {
    "duration": 51,
    "start_time": "2023-05-08T09:40:31.319Z"
   },
   {
    "duration": 4,
    "start_time": "2023-05-08T09:40:33.551Z"
   },
   {
    "duration": 10,
    "start_time": "2023-05-08T09:40:35.980Z"
   },
   {
    "duration": 28,
    "start_time": "2023-05-08T09:40:37.505Z"
   },
   {
    "duration": 7,
    "start_time": "2023-05-08T09:40:38.834Z"
   },
   {
    "duration": 391,
    "start_time": "2023-05-08T09:40:40.926Z"
   },
   {
    "duration": 30,
    "start_time": "2023-05-08T09:40:43.276Z"
   },
   {
    "duration": 5,
    "start_time": "2023-05-08T09:40:45.420Z"
   },
   {
    "duration": 10,
    "start_time": "2023-05-08T09:40:47.379Z"
   },
   {
    "duration": 18,
    "start_time": "2023-05-08T09:41:09.658Z"
   },
   {
    "duration": 6,
    "start_time": "2023-05-08T09:41:10.544Z"
   },
   {
    "duration": 18,
    "start_time": "2023-05-08T09:41:11.950Z"
   },
   {
    "duration": 19,
    "start_time": "2023-05-08T09:41:14.204Z"
   },
   {
    "duration": 20,
    "start_time": "2023-05-08T09:41:15.526Z"
   },
   {
    "duration": 87,
    "start_time": "2023-05-08T09:41:17.560Z"
   },
   {
    "duration": 140,
    "start_time": "2023-05-08T09:41:19.115Z"
   },
   {
    "duration": 20,
    "start_time": "2023-05-08T09:41:22.032Z"
   },
   {
    "duration": 26,
    "start_time": "2023-05-08T09:41:39.414Z"
   },
   {
    "duration": 19,
    "start_time": "2023-05-08T09:41:41.363Z"
   },
   {
    "duration": 75,
    "start_time": "2023-05-08T09:41:43.681Z"
   },
   {
    "duration": 59,
    "start_time": "2023-05-08T11:40:05.711Z"
   },
   {
    "duration": 50,
    "start_time": "2023-05-08T11:42:41.378Z"
   },
   {
    "duration": 49,
    "start_time": "2023-05-08T15:46:15.001Z"
   },
   {
    "duration": 842,
    "start_time": "2023-05-08T15:46:25.395Z"
   },
   {
    "duration": 761,
    "start_time": "2023-05-08T15:46:27.183Z"
   },
   {
    "duration": 27,
    "start_time": "2023-05-08T15:46:29.204Z"
   },
   {
    "duration": 977,
    "start_time": "2023-05-08T15:46:31.294Z"
   },
   {
    "duration": 27,
    "start_time": "2023-05-08T15:46:33.702Z"
   },
   {
    "duration": 168,
    "start_time": "2023-05-08T15:46:55.654Z"
   },
   {
    "duration": 48,
    "start_time": "2023-05-08T15:46:58.151Z"
   },
   {
    "duration": 4,
    "start_time": "2023-05-08T15:47:00.184Z"
   },
   {
    "duration": 12,
    "start_time": "2023-05-08T15:47:01.336Z"
   },
   {
    "duration": 21,
    "start_time": "2023-05-08T15:47:02.095Z"
   },
   {
    "duration": 6,
    "start_time": "2023-05-08T15:47:04.171Z"
   },
   {
    "duration": 370,
    "start_time": "2023-05-08T15:47:05.351Z"
   },
   {
    "duration": 30,
    "start_time": "2023-05-08T15:47:07.131Z"
   },
   {
    "duration": 4,
    "start_time": "2023-05-08T15:47:07.983Z"
   },
   {
    "duration": 10,
    "start_time": "2023-05-08T15:47:09.506Z"
   },
   {
    "duration": 19,
    "start_time": "2023-05-08T15:47:11.243Z"
   },
   {
    "duration": 5,
    "start_time": "2023-05-08T15:47:12.054Z"
   },
   {
    "duration": 18,
    "start_time": "2023-05-08T15:47:13.554Z"
   },
   {
    "duration": 19,
    "start_time": "2023-05-08T15:47:15.115Z"
   },
   {
    "duration": 19,
    "start_time": "2023-05-08T15:47:17.106Z"
   },
   {
    "duration": 103,
    "start_time": "2023-05-08T15:47:18.964Z"
   },
   {
    "duration": 128,
    "start_time": "2023-05-08T15:47:20.561Z"
   },
   {
    "duration": 19,
    "start_time": "2023-05-08T15:47:23.648Z"
   },
   {
    "duration": 19,
    "start_time": "2023-05-08T15:47:29.346Z"
   },
   {
    "duration": 19,
    "start_time": "2023-05-08T15:47:31.199Z"
   },
   {
    "duration": 52,
    "start_time": "2023-05-08T15:47:35.854Z"
   },
   {
    "duration": 50,
    "start_time": "2023-05-08T15:47:55.186Z"
   },
   {
    "duration": 60,
    "start_time": "2023-05-08T15:48:31.872Z"
   },
   {
    "duration": 55,
    "start_time": "2023-05-08T15:49:04.750Z"
   },
   {
    "duration": 479,
    "start_time": "2023-05-08T15:54:41.650Z"
   },
   {
    "duration": 52,
    "start_time": "2023-05-08T15:56:23.368Z"
   },
   {
    "duration": 808,
    "start_time": "2023-05-08T15:57:06.546Z"
   },
   {
    "duration": 850,
    "start_time": "2023-05-08T15:57:17.868Z"
   },
   {
    "duration": 51,
    "start_time": "2023-05-08T15:57:38.166Z"
   },
   {
    "duration": 875,
    "start_time": "2023-05-08T15:57:48.521Z"
   },
   {
    "duration": 741,
    "start_time": "2023-05-08T15:58:10.383Z"
   },
   {
    "duration": 46,
    "start_time": "2023-05-08T15:58:39.614Z"
   },
   {
    "duration": 747,
    "start_time": "2023-05-08T16:00:10.776Z"
   },
   {
    "duration": 51,
    "start_time": "2023-05-08T16:00:17.779Z"
   },
   {
    "duration": 46,
    "start_time": "2023-05-08T16:00:27.333Z"
   },
   {
    "duration": 56,
    "start_time": "2023-05-08T16:01:05.307Z"
   },
   {
    "duration": 254,
    "start_time": "2023-05-08T16:08:53.778Z"
   },
   {
    "duration": 73,
    "start_time": "2023-05-08T16:09:05.846Z"
   },
   {
    "duration": 7,
    "start_time": "2023-05-08T16:11:43.872Z"
   },
   {
    "duration": 7,
    "start_time": "2023-05-08T16:11:52.576Z"
   },
   {
    "duration": 7,
    "start_time": "2023-05-08T16:11:57.531Z"
   },
   {
    "duration": 10,
    "start_time": "2023-05-08T16:13:45.108Z"
   },
   {
    "duration": 9,
    "start_time": "2023-05-08T16:14:12.660Z"
   },
   {
    "duration": 6,
    "start_time": "2023-05-08T16:14:50.145Z"
   },
   {
    "duration": 12,
    "start_time": "2023-05-08T16:15:02.044Z"
   },
   {
    "duration": 12,
    "start_time": "2023-05-08T16:16:52.740Z"
   },
   {
    "duration": 12,
    "start_time": "2023-05-08T16:17:00.649Z"
   },
   {
    "duration": 14,
    "start_time": "2023-05-08T16:17:29.108Z"
   },
   {
    "duration": 73,
    "start_time": "2023-05-08T16:17:56.899Z"
   },
   {
    "duration": 259,
    "start_time": "2023-05-08T16:18:05.457Z"
   },
   {
    "duration": 84,
    "start_time": "2023-05-08T16:18:17.322Z"
   },
   {
    "duration": 7,
    "start_time": "2023-05-08T16:20:07.599Z"
   },
   {
    "duration": 6,
    "start_time": "2023-05-08T16:20:20.002Z"
   },
   {
    "duration": 6,
    "start_time": "2023-05-08T16:20:54.622Z"
   },
   {
    "duration": 6,
    "start_time": "2023-05-08T16:21:00.934Z"
   },
   {
    "duration": 80,
    "start_time": "2023-05-08T16:24:17.155Z"
   },
   {
    "duration": 77,
    "start_time": "2023-05-08T16:24:55.929Z"
   },
   {
    "duration": 79,
    "start_time": "2023-05-08T16:25:31.309Z"
   },
   {
    "duration": 74,
    "start_time": "2023-05-08T16:25:52.215Z"
   },
   {
    "duration": 9,
    "start_time": "2023-05-08T16:26:44.644Z"
   },
   {
    "duration": 12,
    "start_time": "2023-05-08T16:30:00.824Z"
   },
   {
    "duration": 11,
    "start_time": "2023-05-08T17:38:16.526Z"
   },
   {
    "duration": 15,
    "start_time": "2023-05-08T17:42:15.347Z"
   },
   {
    "duration": 10,
    "start_time": "2023-05-08T17:42:37.259Z"
   },
   {
    "duration": 10,
    "start_time": "2023-05-08T17:44:30.760Z"
   },
   {
    "duration": 8,
    "start_time": "2023-05-08T17:44:58.347Z"
   },
   {
    "duration": 10,
    "start_time": "2023-05-08T17:45:29.034Z"
   },
   {
    "duration": 9,
    "start_time": "2023-05-08T17:45:30.007Z"
   },
   {
    "duration": 12,
    "start_time": "2023-05-08T17:45:31.009Z"
   },
   {
    "duration": 6,
    "start_time": "2023-05-08T17:48:37.320Z"
   },
   {
    "duration": 7,
    "start_time": "2023-05-08T17:48:43.053Z"
   },
   {
    "duration": 5,
    "start_time": "2023-05-08T17:49:44.822Z"
   },
   {
    "duration": 7,
    "start_time": "2023-05-08T17:50:37.827Z"
   },
   {
    "duration": 10,
    "start_time": "2023-05-08T17:51:06.244Z"
   },
   {
    "duration": 18,
    "start_time": "2023-05-08T17:51:27.910Z"
   },
   {
    "duration": 11,
    "start_time": "2023-05-08T17:51:43.673Z"
   },
   {
    "duration": 10,
    "start_time": "2023-05-08T17:51:50.161Z"
   },
   {
    "duration": 8,
    "start_time": "2023-05-08T17:54:15.713Z"
   },
   {
    "duration": 9,
    "start_time": "2023-05-08T17:56:40.806Z"
   },
   {
    "duration": 9,
    "start_time": "2023-05-08T18:00:31.616Z"
   },
   {
    "duration": 6,
    "start_time": "2023-05-08T18:01:40.151Z"
   },
   {
    "duration": 6,
    "start_time": "2023-05-08T18:01:52.761Z"
   },
   {
    "duration": 8,
    "start_time": "2023-05-08T18:02:36.131Z"
   },
   {
    "duration": 6,
    "start_time": "2023-05-08T18:04:19.819Z"
   },
   {
    "duration": 6,
    "start_time": "2023-05-08T18:04:43.991Z"
   },
   {
    "duration": 8,
    "start_time": "2023-05-08T18:05:24.948Z"
   },
   {
    "duration": 7,
    "start_time": "2023-05-08T18:05:50.014Z"
   },
   {
    "duration": 1526,
    "start_time": "2023-05-08T19:36:51.395Z"
   },
   {
    "duration": 1337,
    "start_time": "2023-05-08T19:36:53.911Z"
   },
   {
    "duration": 24,
    "start_time": "2023-05-08T19:36:57.191Z"
   },
   {
    "duration": 1210,
    "start_time": "2023-05-08T19:36:58.643Z"
   },
   {
    "duration": 26,
    "start_time": "2023-05-08T19:37:01.783Z"
   },
   {
    "duration": 182,
    "start_time": "2023-05-08T19:37:27.907Z"
   },
   {
    "duration": 54,
    "start_time": "2023-05-08T19:37:30.463Z"
   },
   {
    "duration": 4,
    "start_time": "2023-05-08T19:37:32.272Z"
   },
   {
    "duration": 14,
    "start_time": "2023-05-08T19:37:33.591Z"
   },
   {
    "duration": 20,
    "start_time": "2023-05-08T19:37:34.660Z"
   },
   {
    "duration": 10,
    "start_time": "2023-05-08T19:37:35.836Z"
   },
   {
    "duration": 417,
    "start_time": "2023-05-08T19:37:37.377Z"
   },
   {
    "duration": 39,
    "start_time": "2023-05-08T19:37:39.282Z"
   },
   {
    "duration": 8,
    "start_time": "2023-05-08T19:37:40.237Z"
   },
   {
    "duration": 9,
    "start_time": "2023-05-08T19:37:41.155Z"
   },
   {
    "duration": 28,
    "start_time": "2023-05-08T19:37:42.529Z"
   },
   {
    "duration": 11,
    "start_time": "2023-05-08T19:37:43.832Z"
   },
   {
    "duration": 35,
    "start_time": "2023-05-08T19:37:45.499Z"
   },
   {
    "duration": 18,
    "start_time": "2023-05-08T19:37:47.370Z"
   },
   {
    "duration": 20,
    "start_time": "2023-05-08T19:37:49.148Z"
   },
   {
    "duration": 107,
    "start_time": "2023-05-08T19:37:50.838Z"
   },
   {
    "duration": 172,
    "start_time": "2023-05-08T19:37:53.683Z"
   },
   {
    "duration": 20,
    "start_time": "2023-05-08T19:37:56.940Z"
   },
   {
    "duration": 32,
    "start_time": "2023-05-08T19:37:59.695Z"
   },
   {
    "duration": 21,
    "start_time": "2023-05-08T19:38:02.424Z"
   },
   {
    "duration": 77,
    "start_time": "2023-05-08T19:38:04.342Z"
   },
   {
    "duration": 16,
    "start_time": "2023-05-08T19:38:06.536Z"
   },
   {
    "duration": 13,
    "start_time": "2023-05-08T19:38:08.232Z"
   },
   {
    "duration": 18,
    "start_time": "2023-05-08T19:38:10.112Z"
   },
   {
    "duration": 11,
    "start_time": "2023-05-08T19:38:12.377Z"
   },
   {
    "duration": 8,
    "start_time": "2023-05-08T19:38:14.665Z"
   },
   {
    "duration": 9,
    "start_time": "2023-05-08T19:38:21.707Z"
   },
   {
    "duration": 8,
    "start_time": "2023-05-08T19:38:59.931Z"
   },
   {
    "duration": 11,
    "start_time": "2023-05-08T19:39:38.703Z"
   },
   {
    "duration": 10,
    "start_time": "2023-05-08T19:40:03.804Z"
   },
   {
    "duration": 26,
    "start_time": "2023-05-08T19:41:08.303Z"
   },
   {
    "duration": 9,
    "start_time": "2023-05-08T19:41:53.430Z"
   },
   {
    "duration": 7,
    "start_time": "2023-05-08T19:42:16.650Z"
   },
   {
    "duration": 7,
    "start_time": "2023-05-08T19:42:37.402Z"
   },
   {
    "duration": 8,
    "start_time": "2023-05-08T19:42:55.931Z"
   },
   {
    "duration": 8,
    "start_time": "2023-05-08T19:43:02.293Z"
   },
   {
    "duration": 9,
    "start_time": "2023-05-08T19:43:18.658Z"
   },
   {
    "duration": 8,
    "start_time": "2023-05-08T19:49:27.441Z"
   },
   {
    "duration": 7,
    "start_time": "2023-05-08T19:51:54.056Z"
   },
   {
    "duration": 10,
    "start_time": "2023-05-08T19:54:11.950Z"
   },
   {
    "duration": 7,
    "start_time": "2023-05-08T19:56:44.752Z"
   },
   {
    "duration": 1425,
    "start_time": "2023-05-09T13:56:09.431Z"
   },
   {
    "duration": 207,
    "start_time": "2023-05-09T13:56:10.858Z"
   },
   {
    "duration": 43,
    "start_time": "2023-05-09T13:56:11.067Z"
   },
   {
    "duration": 1056,
    "start_time": "2023-05-09T13:56:11.113Z"
   },
   {
    "duration": 40,
    "start_time": "2023-05-09T13:56:12.171Z"
   },
   {
    "duration": 162,
    "start_time": "2023-05-09T13:56:12.213Z"
   },
   {
    "duration": 53,
    "start_time": "2023-05-09T13:56:12.377Z"
   },
   {
    "duration": 4,
    "start_time": "2023-05-09T13:56:12.432Z"
   },
   {
    "duration": 17,
    "start_time": "2023-05-09T13:56:12.438Z"
   },
   {
    "duration": 46,
    "start_time": "2023-05-09T13:56:12.458Z"
   },
   {
    "duration": 6,
    "start_time": "2023-05-09T13:56:12.507Z"
   },
   {
    "duration": 409,
    "start_time": "2023-05-09T13:56:12.516Z"
   },
   {
    "duration": 27,
    "start_time": "2023-05-09T13:56:12.927Z"
   },
   {
    "duration": 5,
    "start_time": "2023-05-09T13:56:12.956Z"
   },
   {
    "duration": 14,
    "start_time": "2023-05-09T13:56:12.982Z"
   },
   {
    "duration": 44,
    "start_time": "2023-05-09T13:56:13.002Z"
   },
   {
    "duration": 6,
    "start_time": "2023-05-09T13:56:13.048Z"
   },
   {
    "duration": 31,
    "start_time": "2023-05-09T13:56:13.055Z"
   },
   {
    "duration": 20,
    "start_time": "2023-05-09T13:56:13.094Z"
   },
   {
    "duration": 25,
    "start_time": "2023-05-09T13:56:13.116Z"
   },
   {
    "duration": 76,
    "start_time": "2023-05-09T13:56:13.143Z"
   },
   {
    "duration": 137,
    "start_time": "2023-05-09T13:56:13.221Z"
   },
   {
    "duration": 26,
    "start_time": "2023-05-09T13:56:13.360Z"
   },
   {
    "duration": 46,
    "start_time": "2023-05-09T13:56:13.390Z"
   },
   {
    "duration": 38,
    "start_time": "2023-05-09T13:56:13.438Z"
   },
   {
    "duration": 90,
    "start_time": "2023-05-09T13:56:13.478Z"
   },
   {
    "duration": 20,
    "start_time": "2023-05-09T13:56:13.570Z"
   },
   {
    "duration": 22,
    "start_time": "2023-05-09T13:56:13.594Z"
   },
   {
    "duration": 9,
    "start_time": "2023-05-09T13:56:13.618Z"
   },
   {
    "duration": 23,
    "start_time": "2023-05-09T13:56:13.628Z"
   },
   {
    "duration": 10,
    "start_time": "2023-05-09T13:56:13.653Z"
   },
   {
    "duration": 28,
    "start_time": "2023-05-09T13:56:13.665Z"
   },
   {
    "duration": 18,
    "start_time": "2023-05-09T13:56:13.694Z"
   },
   {
    "duration": 12,
    "start_time": "2023-05-09T13:56:13.714Z"
   },
   {
    "duration": 11,
    "start_time": "2023-05-09T13:56:13.728Z"
   },
   {
    "duration": 12,
    "start_time": "2023-05-09T13:56:13.741Z"
   },
   {
    "duration": 1597,
    "start_time": "2023-05-10T07:45:25.810Z"
   },
   {
    "duration": 767,
    "start_time": "2023-05-10T07:45:29.946Z"
   },
   {
    "duration": 23,
    "start_time": "2023-05-10T07:45:33.446Z"
   },
   {
    "duration": 1153,
    "start_time": "2023-05-10T07:45:36.702Z"
   },
   {
    "duration": 23,
    "start_time": "2023-05-10T07:45:40.252Z"
   },
   {
    "duration": 224,
    "start_time": "2023-05-10T07:46:00.752Z"
   },
   {
    "duration": 60,
    "start_time": "2023-05-10T07:46:32.512Z"
   },
   {
    "duration": 4,
    "start_time": "2023-05-10T07:46:41.574Z"
   },
   {
    "duration": 14,
    "start_time": "2023-05-10T07:46:43.926Z"
   },
   {
    "duration": 20,
    "start_time": "2023-05-10T07:46:46.287Z"
   },
   {
    "duration": 6,
    "start_time": "2023-05-10T07:46:48.500Z"
   },
   {
    "duration": 398,
    "start_time": "2023-05-10T07:46:51.333Z"
   },
   {
    "duration": 412,
    "start_time": "2023-05-10T07:50:21.933Z"
   },
   {
    "duration": 12,
    "start_time": "2023-05-10T07:55:50.303Z"
   },
   {
    "duration": 11,
    "start_time": "2023-05-10T07:57:22.892Z"
   },
   {
    "duration": 10,
    "start_time": "2023-05-10T07:57:25.123Z"
   },
   {
    "duration": 18,
    "start_time": "2023-05-10T07:57:29.838Z"
   },
   {
    "duration": 4,
    "start_time": "2023-05-10T08:06:16.173Z"
   },
   {
    "duration": 171,
    "start_time": "2023-05-10T08:06:16.595Z"
   },
   {
    "duration": 3,
    "start_time": "2023-05-10T08:07:23.122Z"
   },
   {
    "duration": 161,
    "start_time": "2023-05-10T08:07:24.969Z"
   },
   {
    "duration": 22,
    "start_time": "2023-05-10T08:07:27.752Z"
   },
   {
    "duration": 1253,
    "start_time": "2023-05-10T08:07:29.756Z"
   },
   {
    "duration": 67,
    "start_time": "2023-05-10T08:07:32.602Z"
   },
   {
    "duration": 358,
    "start_time": "2023-05-10T08:07:35.224Z"
   },
   {
    "duration": 46,
    "start_time": "2023-05-10T08:07:38.880Z"
   },
   {
    "duration": 4,
    "start_time": "2023-05-10T08:07:41.704Z"
   },
   {
    "duration": 9,
    "start_time": "2023-05-10T08:07:43.880Z"
   },
   {
    "duration": 22,
    "start_time": "2023-05-10T08:07:46.401Z"
   },
   {
    "duration": 12,
    "start_time": "2023-05-10T08:07:48.233Z"
   },
   {
    "duration": 355,
    "start_time": "2023-05-10T08:11:33.526Z"
   },
   {
    "duration": 339,
    "start_time": "2023-05-10T08:11:57.640Z"
   },
   {
    "duration": 341,
    "start_time": "2023-05-10T08:14:58.436Z"
   },
   {
    "duration": 349,
    "start_time": "2023-05-10T08:16:49.830Z"
   },
   {
    "duration": 363,
    "start_time": "2023-05-10T08:17:26.725Z"
   },
   {
    "duration": 419,
    "start_time": "2023-05-10T08:17:36.141Z"
   },
   {
    "duration": 331,
    "start_time": "2023-05-10T08:17:45.354Z"
   },
   {
    "duration": 5,
    "start_time": "2023-05-10T09:19:06.729Z"
   },
   {
    "duration": 167,
    "start_time": "2023-05-10T09:19:08.756Z"
   },
   {
    "duration": 21,
    "start_time": "2023-05-10T09:19:10.664Z"
   },
   {
    "duration": 1222,
    "start_time": "2023-05-10T09:19:12.784Z"
   },
   {
    "duration": 65,
    "start_time": "2023-05-10T09:19:15.640Z"
   },
   {
    "duration": 302,
    "start_time": "2023-05-10T09:19:17.929Z"
   },
   {
    "duration": 55,
    "start_time": "2023-05-10T09:19:20.424Z"
   },
   {
    "duration": 7,
    "start_time": "2023-05-10T09:19:26.336Z"
   },
   {
    "duration": 14,
    "start_time": "2023-05-10T09:19:28.697Z"
   },
   {
    "duration": 22,
    "start_time": "2023-05-10T09:19:30.761Z"
   },
   {
    "duration": 7,
    "start_time": "2023-05-10T09:19:33.163Z"
   },
   {
    "duration": 9,
    "start_time": "2023-05-10T09:19:34.056Z"
   },
   {
    "duration": 347,
    "start_time": "2023-05-10T09:19:37.001Z"
   },
   {
    "duration": 64,
    "start_time": "2023-05-10T09:24:26.939Z"
   },
   {
    "duration": 5,
    "start_time": "2023-05-10T09:24:29.267Z"
   },
   {
    "duration": 8,
    "start_time": "2023-05-10T09:24:31.555Z"
   },
   {
    "duration": 19,
    "start_time": "2023-05-10T09:24:34.019Z"
   },
   {
    "duration": 7,
    "start_time": "2023-05-10T09:24:35.571Z"
   },
   {
    "duration": 29,
    "start_time": "2023-05-10T09:24:37.616Z"
   },
   {
    "duration": 22,
    "start_time": "2023-05-10T09:24:39.394Z"
   },
   {
    "duration": 31,
    "start_time": "2023-05-10T09:24:41.027Z"
   },
   {
    "duration": 76,
    "start_time": "2023-05-10T09:24:44.452Z"
   },
   {
    "duration": 142,
    "start_time": "2023-05-10T09:24:46.466Z"
   },
   {
    "duration": 23,
    "start_time": "2023-05-10T09:24:49.353Z"
   },
   {
    "duration": 20,
    "start_time": "2023-05-10T09:24:51.372Z"
   },
   {
    "duration": 31,
    "start_time": "2023-05-10T09:24:54.764Z"
   },
   {
    "duration": 80,
    "start_time": "2023-05-10T09:24:56.883Z"
   },
   {
    "duration": 25,
    "start_time": "2023-05-10T09:25:00.028Z"
   },
   {
    "duration": 12,
    "start_time": "2023-05-10T09:25:04.076Z"
   },
   {
    "duration": 10,
    "start_time": "2023-05-10T09:25:18.162Z"
   },
   {
    "duration": 12,
    "start_time": "2023-05-10T09:25:23.762Z"
   },
   {
    "duration": 9,
    "start_time": "2023-05-10T09:25:28.187Z"
   },
   {
    "duration": 15,
    "start_time": "2023-05-10T09:25:45.340Z"
   },
   {
    "duration": 9,
    "start_time": "2023-05-10T09:26:01.708Z"
   },
   {
    "duration": 20,
    "start_time": "2023-05-10T09:26:12.235Z"
   },
   {
    "duration": 9,
    "start_time": "2023-05-10T09:26:30.564Z"
   },
   {
    "duration": 1273,
    "start_time": "2023-05-10T21:18:32.056Z"
   },
   {
    "duration": 200,
    "start_time": "2023-05-10T21:18:33.332Z"
   },
   {
    "duration": 22,
    "start_time": "2023-05-10T21:18:33.534Z"
   },
   {
    "duration": 1108,
    "start_time": "2023-05-10T21:18:33.558Z"
   },
   {
    "duration": 27,
    "start_time": "2023-05-10T21:18:34.669Z"
   },
   {
    "duration": 198,
    "start_time": "2023-05-10T21:18:34.697Z"
   },
   {
    "duration": 67,
    "start_time": "2023-05-10T21:18:34.897Z"
   },
   {
    "duration": 4,
    "start_time": "2023-05-10T21:18:34.966Z"
   },
   {
    "duration": 15,
    "start_time": "2023-05-10T21:18:34.972Z"
   },
   {
    "duration": 48,
    "start_time": "2023-05-10T21:18:34.989Z"
   },
   {
    "duration": 7,
    "start_time": "2023-05-10T21:18:35.039Z"
   },
   {
    "duration": 481,
    "start_time": "2023-05-10T21:18:35.048Z"
   },
   {
    "duration": 31,
    "start_time": "2023-05-10T21:18:35.532Z"
   },
   {
    "duration": 4,
    "start_time": "2023-05-10T21:18:35.567Z"
   },
   {
    "duration": 10,
    "start_time": "2023-05-10T21:18:35.573Z"
   },
   {
    "duration": 51,
    "start_time": "2023-05-10T21:18:35.584Z"
   },
   {
    "duration": 7,
    "start_time": "2023-05-10T21:18:35.637Z"
   },
   {
    "duration": 28,
    "start_time": "2023-05-10T21:18:35.646Z"
   },
   {
    "duration": 18,
    "start_time": "2023-05-10T21:18:35.675Z"
   },
   {
    "duration": 45,
    "start_time": "2023-05-10T21:18:35.695Z"
   },
   {
    "duration": 123,
    "start_time": "2023-05-10T21:18:35.743Z"
   },
   {
    "duration": 170,
    "start_time": "2023-05-10T21:18:35.868Z"
   },
   {
    "duration": 22,
    "start_time": "2023-05-10T21:18:36.040Z"
   },
   {
    "duration": 40,
    "start_time": "2023-05-10T21:18:36.064Z"
   },
   {
    "duration": 20,
    "start_time": "2023-05-10T21:18:36.113Z"
   },
   {
    "duration": 92,
    "start_time": "2023-05-10T21:18:36.135Z"
   },
   {
    "duration": 14,
    "start_time": "2023-05-10T21:18:36.232Z"
   },
   {
    "duration": 11,
    "start_time": "2023-05-10T21:18:36.248Z"
   },
   {
    "duration": 11,
    "start_time": "2023-05-10T21:18:36.261Z"
   },
   {
    "duration": 11,
    "start_time": "2023-05-10T21:18:36.274Z"
   },
   {
    "duration": 29,
    "start_time": "2023-05-10T21:18:36.286Z"
   },
   {
    "duration": 9,
    "start_time": "2023-05-10T21:18:36.325Z"
   },
   {
    "duration": 7,
    "start_time": "2023-05-10T21:18:36.336Z"
   },
   {
    "duration": 8,
    "start_time": "2023-05-10T21:18:36.345Z"
   },
   {
    "duration": 8,
    "start_time": "2023-05-10T21:18:36.355Z"
   },
   {
    "duration": 14,
    "start_time": "2023-05-10T21:18:36.365Z"
   },
   {
    "duration": 1213,
    "start_time": "2023-05-10T21:22:55.558Z"
   },
   {
    "duration": 198,
    "start_time": "2023-05-10T21:22:56.774Z"
   },
   {
    "duration": 25,
    "start_time": "2023-05-10T21:22:56.974Z"
   },
   {
    "duration": 1074,
    "start_time": "2023-05-10T21:22:57.014Z"
   },
   {
    "duration": 44,
    "start_time": "2023-05-10T21:22:58.090Z"
   },
   {
    "duration": 202,
    "start_time": "2023-05-10T21:22:58.136Z"
   },
   {
    "duration": 61,
    "start_time": "2023-05-10T21:22:58.340Z"
   },
   {
    "duration": 5,
    "start_time": "2023-05-10T21:22:58.421Z"
   },
   {
    "duration": 10,
    "start_time": "2023-05-10T21:22:58.428Z"
   },
   {
    "duration": 21,
    "start_time": "2023-05-10T21:22:58.440Z"
   },
   {
    "duration": 6,
    "start_time": "2023-05-10T21:22:58.463Z"
   },
   {
    "duration": 470,
    "start_time": "2023-05-10T21:22:58.471Z"
   },
   {
    "duration": 30,
    "start_time": "2023-05-10T21:22:58.944Z"
   },
   {
    "duration": 4,
    "start_time": "2023-05-10T21:22:58.978Z"
   },
   {
    "duration": 37,
    "start_time": "2023-05-10T21:22:58.984Z"
   },
   {
    "duration": 29,
    "start_time": "2023-05-10T21:22:59.023Z"
   },
   {
    "duration": 6,
    "start_time": "2023-05-10T21:22:59.054Z"
   },
   {
    "duration": 59,
    "start_time": "2023-05-10T21:22:59.063Z"
   },
   {
    "duration": 24,
    "start_time": "2023-05-10T21:22:59.123Z"
   },
   {
    "duration": 22,
    "start_time": "2023-05-10T21:22:59.149Z"
   },
   {
    "duration": 114,
    "start_time": "2023-05-10T21:22:59.173Z"
   },
   {
    "duration": 153,
    "start_time": "2023-05-10T21:22:59.289Z"
   },
   {
    "duration": 28,
    "start_time": "2023-05-10T21:22:59.445Z"
   },
   {
    "duration": 38,
    "start_time": "2023-05-10T21:22:59.475Z"
   },
   {
    "duration": 25,
    "start_time": "2023-05-10T21:22:59.516Z"
   },
   {
    "duration": 86,
    "start_time": "2023-05-10T21:22:59.543Z"
   },
   {
    "duration": 12,
    "start_time": "2023-05-10T21:22:59.631Z"
   },
   {
    "duration": 11,
    "start_time": "2023-05-10T21:22:59.645Z"
   },
   {
    "duration": 12,
    "start_time": "2023-05-10T21:22:59.658Z"
   },
   {
    "duration": 9,
    "start_time": "2023-05-10T21:22:59.672Z"
   },
   {
    "duration": 15,
    "start_time": "2023-05-10T21:22:59.716Z"
   },
   {
    "duration": 9,
    "start_time": "2023-05-10T21:22:59.732Z"
   },
   {
    "duration": 8,
    "start_time": "2023-05-10T21:22:59.743Z"
   },
   {
    "duration": 10,
    "start_time": "2023-05-10T21:22:59.753Z"
   },
   {
    "duration": 11,
    "start_time": "2023-05-10T21:22:59.765Z"
   },
   {
    "duration": 43,
    "start_time": "2023-05-10T21:22:59.778Z"
   },
   {
    "duration": 36,
    "start_time": "2023-05-10T21:24:52.191Z"
   },
   {
    "duration": 1361,
    "start_time": "2023-05-11T09:45:12.703Z"
   },
   {
    "duration": 480,
    "start_time": "2023-05-11T09:45:16.651Z"
   },
   {
    "duration": 20,
    "start_time": "2023-05-11T09:45:18.763Z"
   },
   {
    "duration": 1027,
    "start_time": "2023-05-11T09:45:20.639Z"
   },
   {
    "duration": 23,
    "start_time": "2023-05-11T09:45:24.163Z"
   },
   {
    "duration": 146,
    "start_time": "2023-05-11T09:45:25.767Z"
   },
   {
    "duration": 55,
    "start_time": "2023-05-11T09:45:28.607Z"
   },
   {
    "duration": 3,
    "start_time": "2023-05-11T09:45:30.956Z"
   },
   {
    "duration": 15,
    "start_time": "2023-05-11T09:45:33.503Z"
   },
   {
    "duration": 27,
    "start_time": "2023-05-11T09:45:35.287Z"
   },
   {
    "duration": 5,
    "start_time": "2023-05-11T09:45:36.823Z"
   },
   {
    "duration": 415,
    "start_time": "2023-05-11T09:48:26.736Z"
   },
   {
    "duration": 168,
    "start_time": "2023-05-11T09:48:41.479Z"
   },
   {
    "duration": 173,
    "start_time": "2023-05-11T09:50:57.907Z"
   },
   {
    "duration": 938,
    "start_time": "2023-05-11T09:56:18.587Z"
   },
   {
    "duration": 515,
    "start_time": "2023-05-11T09:56:45.484Z"
   },
   {
    "duration": 3,
    "start_time": "2023-05-11T09:56:58.399Z"
   },
   {
    "duration": 151,
    "start_time": "2023-05-11T09:57:00.227Z"
   },
   {
    "duration": 22,
    "start_time": "2023-05-11T09:57:02.119Z"
   },
   {
    "duration": 990,
    "start_time": "2023-05-11T09:57:07.167Z"
   },
   {
    "duration": 808,
    "start_time": "2023-05-11T09:57:28.940Z"
   },
   {
    "duration": 1007,
    "start_time": "2023-05-11T09:57:31.571Z"
   },
   {
    "duration": 808,
    "start_time": "2023-05-11T09:57:58.059Z"
   },
   {
    "duration": 556,
    "start_time": "2023-05-11T09:58:06.788Z"
   },
   {
    "duration": 3,
    "start_time": "2023-05-11T09:58:11.135Z"
   },
   {
    "duration": 149,
    "start_time": "2023-05-11T09:58:12.607Z"
   },
   {
    "duration": 18,
    "start_time": "2023-05-11T09:58:14.067Z"
   },
   {
    "duration": 983,
    "start_time": "2023-05-11T09:58:16.474Z"
   },
   {
    "duration": 21,
    "start_time": "2023-05-11T09:58:19.079Z"
   },
   {
    "duration": 137,
    "start_time": "2023-05-11T09:58:20.539Z"
   },
   {
    "duration": 41,
    "start_time": "2023-05-11T09:58:22.999Z"
   },
   {
    "duration": 3,
    "start_time": "2023-05-11T09:58:25.808Z"
   },
   {
    "duration": 7,
    "start_time": "2023-05-11T09:58:27.871Z"
   },
   {
    "duration": 17,
    "start_time": "2023-05-11T09:58:29.311Z"
   },
   {
    "duration": 6,
    "start_time": "2023-05-11T09:58:30.707Z"
   },
   {
    "duration": 184,
    "start_time": "2023-05-11T09:58:32.149Z"
   },
   {
    "duration": 27,
    "start_time": "2023-05-11T09:58:38.662Z"
   },
   {
    "duration": 4,
    "start_time": "2023-05-11T09:58:41.268Z"
   },
   {
    "duration": 15,
    "start_time": "2023-05-11T09:59:15.479Z"
   },
   {
    "duration": 4,
    "start_time": "2023-05-11T09:59:17.427Z"
   },
   {
    "duration": 7,
    "start_time": "2023-05-11T09:59:19.763Z"
   },
   {
    "duration": 16,
    "start_time": "2023-05-11T09:59:22.523Z"
   },
   {
    "duration": 5,
    "start_time": "2023-05-11T09:59:24.287Z"
   },
   {
    "duration": 15,
    "start_time": "2023-05-11T09:59:25.904Z"
   },
   {
    "duration": 17,
    "start_time": "2023-05-11T10:01:00.703Z"
   },
   {
    "duration": 4,
    "start_time": "2023-05-11T10:01:02.027Z"
   },
   {
    "duration": 7,
    "start_time": "2023-05-11T10:01:03.563Z"
   },
   {
    "duration": 15,
    "start_time": "2023-05-11T10:01:06.304Z"
   },
   {
    "duration": 5,
    "start_time": "2023-05-11T10:01:07.959Z"
   },
   {
    "duration": 16,
    "start_time": "2023-05-11T10:01:09.659Z"
   },
   {
    "duration": 15,
    "start_time": "2023-05-11T10:01:11.199Z"
   },
   {
    "duration": 15,
    "start_time": "2023-05-11T10:01:13.187Z"
   },
   {
    "duration": 71,
    "start_time": "2023-05-11T10:01:28.127Z"
   },
   {
    "duration": 119,
    "start_time": "2023-05-11T10:01:29.863Z"
   },
   {
    "duration": 16,
    "start_time": "2023-05-11T10:01:39.695Z"
   },
   {
    "duration": 16,
    "start_time": "2023-05-11T10:01:42.615Z"
   },
   {
    "duration": 16,
    "start_time": "2023-05-11T10:01:47.335Z"
   },
   {
    "duration": 56,
    "start_time": "2023-05-11T10:01:50.411Z"
   },
   {
    "duration": 9,
    "start_time": "2023-05-11T10:01:52.967Z"
   },
   {
    "duration": 7,
    "start_time": "2023-05-11T10:01:55.483Z"
   },
   {
    "duration": 7,
    "start_time": "2023-05-11T10:01:58.759Z"
   },
   {
    "duration": 8,
    "start_time": "2023-05-11T10:02:00.603Z"
   },
   {
    "duration": 6,
    "start_time": "2023-05-11T10:02:02.155Z"
   },
   {
    "duration": 7,
    "start_time": "2023-05-11T10:02:04.271Z"
   },
   {
    "duration": 6,
    "start_time": "2023-05-11T10:02:06.736Z"
   },
   {
    "duration": 7,
    "start_time": "2023-05-11T10:02:08.515Z"
   },
   {
    "duration": 8,
    "start_time": "2023-05-11T10:02:10.355Z"
   },
   {
    "duration": 7,
    "start_time": "2023-05-11T10:02:12.115Z"
   },
   {
    "duration": 7,
    "start_time": "2023-05-11T10:07:50.376Z"
   },
   {
    "duration": 9,
    "start_time": "2023-05-11T10:07:53.582Z"
   },
   {
    "duration": 7,
    "start_time": "2023-05-11T10:07:58.651Z"
   },
   {
    "duration": 7,
    "start_time": "2023-05-11T10:07:59.972Z"
   },
   {
    "duration": 8,
    "start_time": "2023-05-11T10:08:00.235Z"
   },
   {
    "duration": 7,
    "start_time": "2023-05-11T10:08:00.415Z"
   },
   {
    "duration": 8,
    "start_time": "2023-05-11T10:08:00.575Z"
   },
   {
    "duration": 7,
    "start_time": "2023-05-11T10:08:28.351Z"
   },
   {
    "duration": 6,
    "start_time": "2023-05-11T10:08:33.923Z"
   },
   {
    "duration": 18,
    "start_time": "2023-05-11T10:08:38.211Z"
   },
   {
    "duration": 8,
    "start_time": "2023-05-11T10:08:57.463Z"
   },
   {
    "duration": 8,
    "start_time": "2023-05-11T10:09:14.608Z"
   },
   {
    "duration": 7,
    "start_time": "2023-05-11T10:13:51.474Z"
   },
   {
    "duration": 6,
    "start_time": "2023-05-11T10:16:13.355Z"
   },
   {
    "duration": 8,
    "start_time": "2023-05-11T10:17:52.219Z"
   },
   {
    "duration": 6,
    "start_time": "2023-05-11T10:18:17.775Z"
   },
   {
    "duration": 7,
    "start_time": "2023-05-11T10:19:23.827Z"
   },
   {
    "duration": 34,
    "start_time": "2023-05-11T10:26:06.111Z"
   },
   {
    "duration": 98,
    "start_time": "2023-05-11T10:26:16.551Z"
   },
   {
    "duration": 31,
    "start_time": "2023-05-11T10:26:33.467Z"
   },
   {
    "duration": 5,
    "start_time": "2023-05-11T10:26:52.311Z"
   },
   {
    "duration": 9,
    "start_time": "2023-05-11T10:27:00.527Z"
   },
   {
    "duration": 10,
    "start_time": "2023-05-11T10:27:18.908Z"
   },
   {
    "duration": 11,
    "start_time": "2023-05-11T10:27:30.423Z"
   },
   {
    "duration": 18,
    "start_time": "2023-05-11T10:30:21.758Z"
   },
   {
    "duration": 19,
    "start_time": "2023-05-11T10:30:52.022Z"
   },
   {
    "duration": 25,
    "start_time": "2023-05-11T10:31:08.955Z"
   },
   {
    "duration": 18,
    "start_time": "2023-05-11T10:31:23.307Z"
   },
   {
    "duration": 19,
    "start_time": "2023-05-11T10:34:16.035Z"
   },
   {
    "duration": 8,
    "start_time": "2023-05-11T10:35:10.135Z"
   },
   {
    "duration": 7,
    "start_time": "2023-05-11T10:36:22.950Z"
   },
   {
    "duration": 8,
    "start_time": "2023-05-11T10:37:38.533Z"
   },
   {
    "duration": 7,
    "start_time": "2023-05-11T10:38:59.545Z"
   },
   {
    "duration": 7,
    "start_time": "2023-05-11T10:39:38.522Z"
   },
   {
    "duration": 3901,
    "start_time": "2023-05-11T10:46:16.838Z"
   },
   {
    "duration": 41,
    "start_time": "2023-05-11T10:46:27.623Z"
   },
   {
    "duration": 21,
    "start_time": "2023-05-11T10:46:59.086Z"
   },
   {
    "duration": 20,
    "start_time": "2023-05-11T10:47:28.715Z"
   },
   {
    "duration": 22,
    "start_time": "2023-05-11T10:47:30.442Z"
   },
   {
    "duration": 21,
    "start_time": "2023-05-11T10:48:21.448Z"
   },
   {
    "duration": 21,
    "start_time": "2023-05-11T10:48:57.839Z"
   },
   {
    "duration": 21,
    "start_time": "2023-05-11T10:48:59.207Z"
   },
   {
    "duration": 20,
    "start_time": "2023-05-11T10:49:05.959Z"
   },
   {
    "duration": 17,
    "start_time": "2023-05-11T10:49:13.739Z"
   },
   {
    "duration": 3,
    "start_time": "2023-05-11T10:53:17.219Z"
   },
   {
    "duration": 156,
    "start_time": "2023-05-11T10:53:18.770Z"
   },
   {
    "duration": 18,
    "start_time": "2023-05-11T10:53:20.654Z"
   },
   {
    "duration": 1066,
    "start_time": "2023-05-11T10:53:23.172Z"
   },
   {
    "duration": 23,
    "start_time": "2023-05-11T10:53:26.023Z"
   },
   {
    "duration": 156,
    "start_time": "2023-05-11T10:53:38.558Z"
   },
   {
    "duration": 136,
    "start_time": "2023-05-11T10:53:46.107Z"
   },
   {
    "duration": 46,
    "start_time": "2023-05-11T10:53:49.960Z"
   },
   {
    "duration": 5,
    "start_time": "2023-05-11T10:53:52.263Z"
   },
   {
    "duration": 9,
    "start_time": "2023-05-11T10:53:55.441Z"
   },
   {
    "duration": 16,
    "start_time": "2023-05-11T10:54:09.266Z"
   },
   {
    "duration": 6,
    "start_time": "2023-05-11T10:54:11.145Z"
   },
   {
    "duration": 177,
    "start_time": "2023-05-11T10:54:20.619Z"
   },
   {
    "duration": 26,
    "start_time": "2023-05-11T10:54:25.531Z"
   },
   {
    "duration": 5,
    "start_time": "2023-05-11T10:54:27.835Z"
   },
   {
    "duration": 8,
    "start_time": "2023-05-11T10:54:29.956Z"
   },
   {
    "duration": 17,
    "start_time": "2023-05-11T11:00:29.928Z"
   },
   {
    "duration": 21,
    "start_time": "2023-05-11T11:00:46.253Z"
   },
   {
    "duration": 21,
    "start_time": "2023-05-11T11:01:04.368Z"
   },
   {
    "duration": 25,
    "start_time": "2023-05-11T11:01:05.454Z"
   },
   {
    "duration": 20,
    "start_time": "2023-05-11T11:01:05.940Z"
   },
   {
    "duration": 23,
    "start_time": "2023-05-11T11:01:17.078Z"
   },
   {
    "duration": 22,
    "start_time": "2023-05-11T11:01:53.062Z"
   },
   {
    "duration": 20,
    "start_time": "2023-05-11T11:02:20.032Z"
   },
   {
    "duration": 22,
    "start_time": "2023-05-11T11:02:41.048Z"
   },
   {
    "duration": 22,
    "start_time": "2023-05-11T11:02:46.169Z"
   },
   {
    "duration": 19,
    "start_time": "2023-05-11T11:02:50.527Z"
   },
   {
    "duration": 7,
    "start_time": "2023-05-11T11:04:32.077Z"
   },
   {
    "duration": 11,
    "start_time": "2023-05-11T11:04:58.416Z"
   },
   {
    "duration": 10,
    "start_time": "2023-05-11T11:05:54.559Z"
   },
   {
    "duration": 11,
    "start_time": "2023-05-11T11:06:03.140Z"
   },
   {
    "duration": 8,
    "start_time": "2023-05-11T11:06:32.235Z"
   },
   {
    "duration": 8,
    "start_time": "2023-05-11T11:06:40.267Z"
   },
   {
    "duration": 11,
    "start_time": "2023-05-11T11:06:57.931Z"
   },
   {
    "duration": 7,
    "start_time": "2023-05-11T11:07:03.279Z"
   },
   {
    "duration": 9,
    "start_time": "2023-05-11T11:07:09.243Z"
   },
   {
    "duration": 10,
    "start_time": "2023-05-11T11:07:22.163Z"
   },
   {
    "duration": 8,
    "start_time": "2023-05-11T11:07:40.743Z"
   },
   {
    "duration": 7,
    "start_time": "2023-05-11T11:08:02.632Z"
   },
   {
    "duration": 10,
    "start_time": "2023-05-11T11:08:13.407Z"
   },
   {
    "duration": 8,
    "start_time": "2023-05-11T11:08:24.587Z"
   },
   {
    "duration": 10,
    "start_time": "2023-05-11T11:08:48.048Z"
   },
   {
    "duration": 10,
    "start_time": "2023-05-11T11:08:59.940Z"
   },
   {
    "duration": 9,
    "start_time": "2023-05-11T11:09:07.343Z"
   },
   {
    "duration": 7,
    "start_time": "2023-05-11T11:09:17.712Z"
   },
   {
    "duration": 797,
    "start_time": "2023-05-11T11:10:32.439Z"
   },
   {
    "duration": 11,
    "start_time": "2023-05-11T11:10:52.139Z"
   },
   {
    "duration": 8,
    "start_time": "2023-05-11T11:12:16.697Z"
   },
   {
    "duration": 10,
    "start_time": "2023-05-11T11:12:25.655Z"
   },
   {
    "duration": 7,
    "start_time": "2023-05-11T11:12:35.934Z"
   },
   {
    "duration": 6,
    "start_time": "2023-05-11T11:12:45.852Z"
   },
   {
    "duration": 1123,
    "start_time": "2023-05-11T21:27:10.217Z"
   },
   {
    "duration": 196,
    "start_time": "2023-05-11T21:27:11.342Z"
   },
   {
    "duration": 22,
    "start_time": "2023-05-11T21:27:11.539Z"
   },
   {
    "duration": 1092,
    "start_time": "2023-05-11T21:27:11.576Z"
   },
   {
    "duration": 46,
    "start_time": "2023-05-11T21:27:12.670Z"
   },
   {
    "duration": 188,
    "start_time": "2023-05-11T21:27:12.718Z"
   },
   {
    "duration": 47,
    "start_time": "2023-05-11T21:27:12.910Z"
   },
   {
    "duration": 4,
    "start_time": "2023-05-11T21:27:12.959Z"
   },
   {
    "duration": 26,
    "start_time": "2023-05-11T21:27:12.965Z"
   },
   {
    "duration": 28,
    "start_time": "2023-05-11T21:27:13.001Z"
   },
   {
    "duration": 8,
    "start_time": "2023-05-11T21:27:13.032Z"
   },
   {
    "duration": 308,
    "start_time": "2023-05-11T21:27:13.042Z"
   },
   {
    "duration": 50,
    "start_time": "2023-05-11T21:27:13.352Z"
   },
   {
    "duration": 5,
    "start_time": "2023-05-11T21:27:13.408Z"
   },
   {
    "duration": 10,
    "start_time": "2023-05-11T21:27:13.414Z"
   },
   {
    "duration": 20,
    "start_time": "2023-05-11T21:27:13.426Z"
   },
   {
    "duration": 17,
    "start_time": "2023-05-11T21:27:13.447Z"
   },
   {
    "duration": 34,
    "start_time": "2023-05-11T21:27:13.466Z"
   },
   {
    "duration": 18,
    "start_time": "2023-05-11T21:27:13.501Z"
   },
   {
    "duration": 19,
    "start_time": "2023-05-11T21:27:13.521Z"
   },
   {
    "duration": 127,
    "start_time": "2023-05-11T21:27:13.542Z"
   },
   {
    "duration": 138,
    "start_time": "2023-05-11T21:27:13.675Z"
   },
   {
    "duration": 16,
    "start_time": "2023-05-11T21:27:13.815Z"
   },
   {
    "duration": 17,
    "start_time": "2023-05-11T21:27:13.833Z"
   },
   {
    "duration": 49,
    "start_time": "2023-05-11T21:27:13.851Z"
   },
   {
    "duration": 82,
    "start_time": "2023-05-11T21:27:13.904Z"
   },
   {
    "duration": 17,
    "start_time": "2023-05-11T21:27:13.987Z"
   },
   {
    "duration": 9,
    "start_time": "2023-05-11T21:27:14.015Z"
   },
   {
    "duration": 13,
    "start_time": "2023-05-11T21:27:14.026Z"
   },
   {
    "duration": 10,
    "start_time": "2023-05-11T21:27:14.041Z"
   },
   {
    "duration": 24,
    "start_time": "2023-05-11T21:27:14.053Z"
   },
   {
    "duration": 10,
    "start_time": "2023-05-11T21:27:14.089Z"
   },
   {
    "duration": 14,
    "start_time": "2023-05-11T21:27:14.101Z"
   },
   {
    "duration": 16,
    "start_time": "2023-05-11T21:27:14.118Z"
   },
   {
    "duration": 9,
    "start_time": "2023-05-11T21:27:14.136Z"
   },
   {
    "duration": 35,
    "start_time": "2023-05-11T21:27:14.147Z"
   },
   {
    "duration": 18,
    "start_time": "2023-05-11T21:27:14.187Z"
   },
   {
    "duration": 11,
    "start_time": "2023-05-11T21:27:14.208Z"
   },
   {
    "duration": 9,
    "start_time": "2023-05-11T21:27:14.221Z"
   },
   {
    "duration": 11,
    "start_time": "2023-05-11T21:27:14.232Z"
   },
   {
    "duration": 10,
    "start_time": "2023-05-11T21:27:14.245Z"
   },
   {
    "duration": 10,
    "start_time": "2023-05-11T21:27:14.288Z"
   },
   {
    "duration": 16,
    "start_time": "2023-05-11T21:27:14.300Z"
   },
   {
    "duration": 9,
    "start_time": "2023-05-11T21:27:14.319Z"
   },
   {
    "duration": 11,
    "start_time": "2023-05-11T21:27:14.330Z"
   },
   {
    "duration": 32,
    "start_time": "2023-05-11T21:30:42.601Z"
   },
   {
    "duration": 21,
    "start_time": "2023-05-11T21:31:13.632Z"
   },
   {
    "duration": 1351,
    "start_time": "2023-05-11T22:46:49.716Z"
   },
   {
    "duration": 557,
    "start_time": "2023-05-11T22:46:54.950Z"
   },
   {
    "duration": 35,
    "start_time": "2023-05-11T22:46:57.548Z"
   },
   {
    "duration": 1060,
    "start_time": "2023-05-11T22:46:59.452Z"
   },
   {
    "duration": 184,
    "start_time": "2023-05-11T22:47:04.772Z"
   },
   {
    "duration": 63,
    "start_time": "2023-05-11T22:47:07.462Z"
   },
   {
    "duration": 5,
    "start_time": "2023-05-11T22:47:10.697Z"
   },
   {
    "duration": 13,
    "start_time": "2023-05-11T22:47:13.145Z"
   },
   {
    "duration": 19,
    "start_time": "2023-05-11T22:47:15.351Z"
   },
   {
    "duration": 7,
    "start_time": "2023-05-11T22:47:17.911Z"
   },
   {
    "duration": 429,
    "start_time": "2023-05-11T22:47:20.255Z"
   },
   {
    "duration": 30,
    "start_time": "2023-05-11T22:47:28.020Z"
   },
   {
    "duration": 5,
    "start_time": "2023-05-11T22:47:30.094Z"
   },
   {
    "duration": 8,
    "start_time": "2023-05-11T22:47:32.956Z"
   },
   {
    "duration": 23,
    "start_time": "2023-05-11T22:47:35.751Z"
   },
   {
    "duration": 7,
    "start_time": "2023-05-11T22:47:37.259Z"
   },
   {
    "duration": 24,
    "start_time": "2023-05-11T22:47:42.370Z"
   },
   {
    "duration": 30,
    "start_time": "2023-05-11T22:47:44.354Z"
   },
   {
    "duration": 88,
    "start_time": "2023-05-11T22:47:46.453Z"
   },
   {
    "duration": 140,
    "start_time": "2023-05-11T22:47:48.416Z"
   },
   {
    "duration": 20,
    "start_time": "2023-05-11T22:47:51.198Z"
   },
   {
    "duration": 28,
    "start_time": "2023-05-11T22:47:53.495Z"
   },
   {
    "duration": 19,
    "start_time": "2023-05-11T22:47:55.590Z"
   },
   {
    "duration": 73,
    "start_time": "2023-05-11T22:47:57.723Z"
   },
   {
    "duration": 11,
    "start_time": "2023-05-11T22:48:02.008Z"
   },
   {
    "duration": 108,
    "start_time": "2023-05-11T22:48:06.549Z"
   },
   {
    "duration": 18,
    "start_time": "2023-05-11T22:48:42.593Z"
   },
   {
    "duration": 28,
    "start_time": "2023-05-11T22:48:45.271Z"
   },
   {
    "duration": 22,
    "start_time": "2023-05-11T22:48:47.158Z"
   },
   {
    "duration": 81,
    "start_time": "2023-05-11T22:48:49.152Z"
   },
   {
    "duration": 144,
    "start_time": "2023-05-11T22:48:51.449Z"
   },
   {
    "duration": 20,
    "start_time": "2023-05-11T22:48:53.791Z"
   },
   {
    "duration": 19,
    "start_time": "2023-05-11T22:48:55.649Z"
   },
   {
    "duration": 19,
    "start_time": "2023-05-11T22:48:58.796Z"
   },
   {
    "duration": 84,
    "start_time": "2023-05-11T22:49:00.542Z"
   },
   {
    "duration": 12,
    "start_time": "2023-05-11T22:49:02.998Z"
   },
   {
    "duration": 8,
    "start_time": "2023-05-11T22:49:06.949Z"
   },
   {
    "duration": 11,
    "start_time": "2023-05-11T22:49:09.197Z"
   },
   {
    "duration": 8,
    "start_time": "2023-05-11T22:49:11.042Z"
   },
   {
    "duration": 8,
    "start_time": "2023-05-11T22:49:12.849Z"
   },
   {
    "duration": 7,
    "start_time": "2023-05-11T22:49:14.910Z"
   },
   {
    "duration": 7,
    "start_time": "2023-05-11T22:49:18.304Z"
   },
   {
    "duration": 8,
    "start_time": "2023-05-11T22:49:21.433Z"
   },
   {
    "duration": 9,
    "start_time": "2023-05-11T22:49:23.549Z"
   },
   {
    "duration": 11,
    "start_time": "2023-05-11T22:49:25.151Z"
   },
   {
    "duration": 13,
    "start_time": "2023-05-11T22:49:27.917Z"
   },
   {
    "duration": 11,
    "start_time": "2023-05-11T22:49:29.895Z"
   },
   {
    "duration": 17,
    "start_time": "2023-05-11T22:49:31.869Z"
   },
   {
    "duration": 11,
    "start_time": "2023-05-11T22:49:33.697Z"
   },
   {
    "duration": 8,
    "start_time": "2023-05-11T22:49:35.414Z"
   },
   {
    "duration": 8,
    "start_time": "2023-05-11T22:49:37.550Z"
   },
   {
    "duration": 10,
    "start_time": "2023-05-11T22:49:39.905Z"
   },
   {
    "duration": 8,
    "start_time": "2023-05-11T22:49:42.353Z"
   },
   {
    "duration": 8,
    "start_time": "2023-05-11T22:49:46.758Z"
   },
   {
    "duration": 39,
    "start_time": "2023-05-11T22:51:04.180Z"
   },
   {
    "duration": 395,
    "start_time": "2023-05-11T22:51:28.620Z"
   },
   {
    "duration": 431,
    "start_time": "2023-05-11T22:51:36.415Z"
   },
   {
    "duration": 341,
    "start_time": "2023-05-11T22:51:56.119Z"
   },
   {
    "duration": 348,
    "start_time": "2023-05-11T22:52:15.949Z"
   },
   {
    "duration": 400,
    "start_time": "2023-05-11T22:56:16.553Z"
   },
   {
    "duration": 403,
    "start_time": "2023-05-11T22:56:24.744Z"
   },
   {
    "duration": 4,
    "start_time": "2023-05-11T22:56:28.890Z"
   },
   {
    "duration": 179,
    "start_time": "2023-05-11T22:56:30.703Z"
   },
   {
    "duration": 29,
    "start_time": "2023-05-11T22:56:35.087Z"
   },
   {
    "duration": 1177,
    "start_time": "2023-05-11T22:56:37.423Z"
   },
   {
    "duration": 338,
    "start_time": "2023-05-11T22:58:59.199Z"
   },
   {
    "duration": 378,
    "start_time": "2023-05-11T23:00:56.522Z"
   },
   {
    "duration": 3,
    "start_time": "2023-05-11T23:01:00.963Z"
   },
   {
    "duration": 184,
    "start_time": "2023-05-11T23:01:02.756Z"
   },
   {
    "duration": 34,
    "start_time": "2023-05-11T23:01:05.086Z"
   },
   {
    "duration": 50,
    "start_time": "2023-05-11T23:01:07.253Z"
   },
   {
    "duration": 34,
    "start_time": "2023-05-11T23:01:18.196Z"
   },
   {
    "duration": 5,
    "start_time": "2023-05-11T23:02:31.016Z"
   },
   {
    "duration": 194,
    "start_time": "2023-05-11T23:02:32.939Z"
   },
   {
    "duration": 20,
    "start_time": "2023-05-11T23:02:35.120Z"
   },
   {
    "duration": 27,
    "start_time": "2023-05-11T23:02:37.016Z"
   },
   {
    "duration": 31,
    "start_time": "2023-05-11T23:02:46.157Z"
   },
   {
    "duration": 3,
    "start_time": "2023-05-11T23:03:01.119Z"
   },
   {
    "duration": 219,
    "start_time": "2023-05-11T23:03:03.059Z"
   },
   {
    "duration": 21,
    "start_time": "2023-05-11T23:03:05.451Z"
   },
   {
    "duration": 1467,
    "start_time": "2023-05-11T23:03:07.358Z"
   },
   {
    "duration": 3,
    "start_time": "2023-05-11T23:03:20.503Z"
   },
   {
    "duration": 184,
    "start_time": "2023-05-11T23:03:22.325Z"
   },
   {
    "duration": 23,
    "start_time": "2023-05-11T23:03:24.081Z"
   },
   {
    "duration": 1234,
    "start_time": "2023-05-11T23:03:25.716Z"
   },
   {
    "duration": 23,
    "start_time": "2023-05-11T23:03:30.347Z"
   },
   {
    "duration": 366,
    "start_time": "2023-05-11T23:14:00.338Z"
   },
   {
    "duration": 349,
    "start_time": "2023-05-11T23:14:10.350Z"
   },
   {
    "duration": 206,
    "start_time": "2023-05-11T23:15:47.933Z"
   },
   {
    "duration": 260,
    "start_time": "2023-05-11T23:16:00.396Z"
   },
   {
    "duration": 1648,
    "start_time": "2023-05-11T23:16:11.576Z"
   },
   {
    "duration": 233,
    "start_time": "2023-05-11T23:16:50.852Z"
   },
   {
    "duration": 442,
    "start_time": "2023-05-11T23:17:36.406Z"
   },
   {
    "duration": 1288,
    "start_time": "2023-05-12T06:52:45.799Z"
   },
   {
    "duration": 492,
    "start_time": "2023-05-12T06:52:47.089Z"
   },
   {
    "duration": 20,
    "start_time": "2023-05-12T06:52:47.583Z"
   },
   {
    "duration": 1001,
    "start_time": "2023-05-12T06:52:47.605Z"
   },
   {
    "duration": 27,
    "start_time": "2023-05-12T06:52:48.608Z"
   },
   {
    "duration": 25,
    "start_time": "2023-05-12T06:52:48.637Z"
   },
   {
    "duration": 142,
    "start_time": "2023-05-12T06:52:48.663Z"
   },
   {
    "duration": 57,
    "start_time": "2023-05-12T06:52:48.807Z"
   },
   {
    "duration": 4,
    "start_time": "2023-05-12T06:52:48.866Z"
   },
   {
    "duration": 35,
    "start_time": "2023-05-12T06:52:48.871Z"
   },
   {
    "duration": 31,
    "start_time": "2023-05-12T06:52:48.908Z"
   },
   {
    "duration": 5,
    "start_time": "2023-05-12T06:52:48.941Z"
   },
   {
    "duration": 378,
    "start_time": "2023-05-12T06:52:48.948Z"
   },
   {
    "duration": 19,
    "start_time": "2023-05-12T06:52:49.329Z"
   },
   {
    "duration": 8,
    "start_time": "2023-05-12T06:52:49.350Z"
   },
   {
    "duration": 21,
    "start_time": "2023-05-12T06:52:49.360Z"
   },
   {
    "duration": 41,
    "start_time": "2023-05-12T06:52:49.384Z"
   },
   {
    "duration": 5,
    "start_time": "2023-05-12T06:52:49.428Z"
   },
   {
    "duration": 32,
    "start_time": "2023-05-12T06:52:49.435Z"
   },
   {
    "duration": 21,
    "start_time": "2023-05-12T06:52:49.469Z"
   },
   {
    "duration": 38,
    "start_time": "2023-05-12T06:52:49.493Z"
   },
   {
    "duration": 104,
    "start_time": "2023-05-12T06:52:49.533Z"
   },
   {
    "duration": 136,
    "start_time": "2023-05-12T06:52:49.639Z"
   },
   {
    "duration": 18,
    "start_time": "2023-05-12T06:52:49.779Z"
   },
   {
    "duration": 32,
    "start_time": "2023-05-12T06:52:49.799Z"
   },
   {
    "duration": 23,
    "start_time": "2023-05-12T06:52:49.833Z"
   },
   {
    "duration": 92,
    "start_time": "2023-05-12T06:52:49.857Z"
   },
   {
    "duration": 9,
    "start_time": "2023-05-12T06:52:49.950Z"
   },
   {
    "duration": 15,
    "start_time": "2023-05-12T06:52:49.961Z"
   },
   {
    "duration": 26,
    "start_time": "2023-05-12T06:52:49.977Z"
   },
   {
    "duration": 11,
    "start_time": "2023-05-12T06:52:50.004Z"
   },
   {
    "duration": 20,
    "start_time": "2023-05-12T06:52:50.017Z"
   },
   {
    "duration": 26,
    "start_time": "2023-05-12T06:52:50.039Z"
   },
   {
    "duration": 31,
    "start_time": "2023-05-12T06:52:50.067Z"
   },
   {
    "duration": 30,
    "start_time": "2023-05-12T06:52:50.100Z"
   },
   {
    "duration": 26,
    "start_time": "2023-05-12T06:52:50.132Z"
   },
   {
    "duration": 33,
    "start_time": "2023-05-12T06:52:50.159Z"
   },
   {
    "duration": 30,
    "start_time": "2023-05-12T06:52:50.193Z"
   },
   {
    "duration": 31,
    "start_time": "2023-05-12T06:52:50.224Z"
   },
   {
    "duration": 26,
    "start_time": "2023-05-12T06:52:50.257Z"
   },
   {
    "duration": 47,
    "start_time": "2023-05-12T06:52:50.286Z"
   },
   {
    "duration": 30,
    "start_time": "2023-05-12T06:52:50.334Z"
   },
   {
    "duration": 29,
    "start_time": "2023-05-12T06:52:50.366Z"
   },
   {
    "duration": 35,
    "start_time": "2023-05-12T06:52:50.398Z"
   },
   {
    "duration": 39,
    "start_time": "2023-05-12T06:52:50.435Z"
   },
   {
    "duration": 17,
    "start_time": "2023-05-12T06:52:50.476Z"
   },
   {
    "duration": 26,
    "start_time": "2023-05-12T06:53:51.916Z"
   },
   {
    "duration": 292,
    "start_time": "2023-05-12T06:54:12.244Z"
   },
   {
    "duration": 2027,
    "start_time": "2023-05-12T09:58:20.200Z"
   },
   {
    "duration": 1005,
    "start_time": "2023-05-12T09:58:22.230Z"
   },
   {
    "duration": 48,
    "start_time": "2023-05-12T09:58:24.579Z"
   },
   {
    "duration": 1854,
    "start_time": "2023-05-12T09:58:26.507Z"
   },
   {
    "duration": 45,
    "start_time": "2023-05-12T09:58:28.845Z"
   },
   {
    "duration": 36,
    "start_time": "2023-05-12T09:58:31.218Z"
   },
   {
    "duration": 188,
    "start_time": "2023-05-12T09:58:33.047Z"
   },
   {
    "duration": 72,
    "start_time": "2023-05-12T09:58:35.293Z"
   },
   {
    "duration": 11,
    "start_time": "2023-05-12T09:58:37.268Z"
   },
   {
    "duration": 23,
    "start_time": "2023-05-12T09:58:39.503Z"
   },
   {
    "duration": 41,
    "start_time": "2023-05-12T09:58:41.051Z"
   },
   {
    "duration": 19,
    "start_time": "2023-05-12T09:58:42.612Z"
   },
   {
    "duration": 628,
    "start_time": "2023-05-12T09:58:44.449Z"
   },
   {
    "duration": 535,
    "start_time": "2023-05-12T11:20:16.264Z"
   },
   {
    "duration": 523,
    "start_time": "2023-05-12T11:21:00.898Z"
   },
   {
    "duration": 620,
    "start_time": "2023-05-12T11:21:20.759Z"
   },
   {
    "duration": 379,
    "start_time": "2023-05-12T11:21:32.845Z"
   },
   {
    "duration": 219,
    "start_time": "2023-05-12T11:28:14.906Z"
   },
   {
    "duration": 768,
    "start_time": "2023-05-12T11:28:34.041Z"
   },
   {
    "duration": 271,
    "start_time": "2023-05-12T11:28:43.344Z"
   },
   {
    "duration": 1320,
    "start_time": "2023-05-12T15:10:07.932Z"
   },
   {
    "duration": 518,
    "start_time": "2023-05-12T15:10:10.553Z"
   },
   {
    "duration": 20,
    "start_time": "2023-05-12T15:10:12.530Z"
   },
   {
    "duration": 885,
    "start_time": "2023-05-12T15:10:14.509Z"
   },
   {
    "duration": 22,
    "start_time": "2023-05-12T15:10:16.585Z"
   },
   {
    "duration": 17,
    "start_time": "2023-05-12T15:10:20.651Z"
   },
   {
    "duration": 125,
    "start_time": "2023-05-12T15:10:21.832Z"
   },
   {
    "duration": 54,
    "start_time": "2023-05-12T15:10:24.066Z"
   },
   {
    "duration": 4,
    "start_time": "2023-05-12T15:10:26.132Z"
   },
   {
    "duration": 11,
    "start_time": "2023-05-12T15:10:28.186Z"
   },
   {
    "duration": 17,
    "start_time": "2023-05-12T15:10:29.830Z"
   },
   {
    "duration": 5,
    "start_time": "2023-05-12T15:10:31.150Z"
   },
   {
    "duration": 1238,
    "start_time": "2023-05-12T15:14:09.214Z"
   },
   {
    "duration": 500,
    "start_time": "2023-05-12T15:14:11.841Z"
   },
   {
    "duration": 20,
    "start_time": "2023-05-12T15:14:13.761Z"
   },
   {
    "duration": 997,
    "start_time": "2023-05-12T15:14:15.506Z"
   },
   {
    "duration": 19,
    "start_time": "2023-05-12T15:14:18.502Z"
   },
   {
    "duration": 16,
    "start_time": "2023-05-12T15:14:20.757Z"
   },
   {
    "duration": 120,
    "start_time": "2023-05-12T15:14:22.314Z"
   },
   {
    "duration": 55,
    "start_time": "2023-05-12T15:14:24.608Z"
   },
   {
    "duration": 4,
    "start_time": "2023-05-12T15:14:26.630Z"
   },
   {
    "duration": 11,
    "start_time": "2023-05-12T15:14:28.386Z"
   },
   {
    "duration": 29,
    "start_time": "2023-05-12T15:14:29.915Z"
   },
   {
    "duration": 7,
    "start_time": "2023-05-12T15:14:31.112Z"
   },
   {
    "duration": 448,
    "start_time": "2023-05-12T15:14:35.994Z"
   },
   {
    "duration": 11,
    "start_time": "2023-05-12T17:28:51.813Z"
   },
   {
    "duration": 152,
    "start_time": "2023-05-12T17:28:53.566Z"
   },
   {
    "duration": 18,
    "start_time": "2023-05-12T17:28:55.618Z"
   },
   {
    "duration": 891,
    "start_time": "2023-05-12T17:28:57.997Z"
   },
   {
    "duration": 20,
    "start_time": "2023-05-12T17:29:00.143Z"
   },
   {
    "duration": 15,
    "start_time": "2023-05-12T17:29:02.279Z"
   },
   {
    "duration": 113,
    "start_time": "2023-05-12T17:29:04.610Z"
   },
   {
    "duration": 39,
    "start_time": "2023-05-12T17:29:07.191Z"
   },
   {
    "duration": 4,
    "start_time": "2023-05-12T17:29:09.109Z"
   },
   {
    "duration": 8,
    "start_time": "2023-05-12T17:29:10.683Z"
   },
   {
    "duration": 19,
    "start_time": "2023-05-12T17:29:12.299Z"
   },
   {
    "duration": 5,
    "start_time": "2023-05-12T17:29:14.434Z"
   },
   {
    "duration": 14,
    "start_time": "2023-05-12T17:34:42.071Z"
   },
   {
    "duration": 1086,
    "start_time": "2023-05-12T17:38:44.770Z"
   },
   {
    "duration": 554,
    "start_time": "2023-05-12T17:38:48.474Z"
   },
   {
    "duration": 20,
    "start_time": "2023-05-12T17:38:50.375Z"
   },
   {
    "duration": 1001,
    "start_time": "2023-05-12T17:38:53.010Z"
   },
   {
    "duration": 20,
    "start_time": "2023-05-12T17:38:56.272Z"
   },
   {
    "duration": 15,
    "start_time": "2023-05-12T17:38:58.475Z"
   },
   {
    "duration": 144,
    "start_time": "2023-05-12T17:39:00.104Z"
   },
   {
    "duration": 50,
    "start_time": "2023-05-12T17:39:08.271Z"
   },
   {
    "duration": 4,
    "start_time": "2023-05-12T17:39:10.541Z"
   },
   {
    "duration": 11,
    "start_time": "2023-05-12T17:39:12.236Z"
   },
   {
    "duration": 17,
    "start_time": "2023-05-12T17:39:13.810Z"
   },
   {
    "duration": 9,
    "start_time": "2023-05-12T17:39:15.501Z"
   },
   {
    "duration": 274,
    "start_time": "2023-05-12T17:41:25.142Z"
   },
   {
    "duration": 206,
    "start_time": "2023-05-12T17:41:43.005Z"
   },
   {
    "duration": 45,
    "start_time": "2023-05-12T17:50:59.084Z"
   },
   {
    "duration": 1113,
    "start_time": "2023-05-12T17:51:08.218Z"
   },
   {
    "duration": 495,
    "start_time": "2023-05-12T17:51:13.606Z"
   },
   {
    "duration": 21,
    "start_time": "2023-05-12T17:51:16.141Z"
   },
   {
    "duration": 972,
    "start_time": "2023-05-12T17:51:17.946Z"
   },
   {
    "duration": 19,
    "start_time": "2023-05-12T17:51:20.644Z"
   },
   {
    "duration": 16,
    "start_time": "2023-05-12T17:51:22.484Z"
   },
   {
    "duration": 117,
    "start_time": "2023-05-12T17:51:23.994Z"
   },
   {
    "duration": 43,
    "start_time": "2023-05-12T17:51:25.986Z"
   },
   {
    "duration": 4,
    "start_time": "2023-05-12T17:51:27.880Z"
   },
   {
    "duration": 9,
    "start_time": "2023-05-12T17:51:29.849Z"
   },
   {
    "duration": 22,
    "start_time": "2023-05-12T17:51:31.416Z"
   },
   {
    "duration": 6,
    "start_time": "2023-05-12T17:51:32.985Z"
   },
   {
    "duration": 350,
    "start_time": "2023-05-12T17:51:34.751Z"
   },
   {
    "duration": 174,
    "start_time": "2023-05-12T17:52:05.983Z"
   },
   {
    "duration": 1311,
    "start_time": "2023-05-12T21:37:10.525Z"
   },
   {
    "duration": 200,
    "start_time": "2023-05-12T21:37:11.841Z"
   },
   {
    "duration": 22,
    "start_time": "2023-05-12T21:37:12.043Z"
   },
   {
    "duration": 1357,
    "start_time": "2023-05-12T21:37:12.067Z"
   },
   {
    "duration": 25,
    "start_time": "2023-05-12T21:37:13.432Z"
   },
   {
    "duration": 15,
    "start_time": "2023-05-12T21:37:13.459Z"
   },
   {
    "duration": 168,
    "start_time": "2023-05-12T21:37:13.476Z"
   },
   {
    "duration": 77,
    "start_time": "2023-05-12T21:37:13.646Z"
   },
   {
    "duration": 6,
    "start_time": "2023-05-12T21:37:13.725Z"
   },
   {
    "duration": 19,
    "start_time": "2023-05-12T21:37:13.732Z"
   },
   {
    "duration": 19,
    "start_time": "2023-05-12T21:37:13.752Z"
   },
   {
    "duration": 7,
    "start_time": "2023-05-12T21:37:13.773Z"
   },
   {
    "duration": 28,
    "start_time": "2023-05-12T21:37:13.789Z"
   },
   {
    "duration": 28,
    "start_time": "2023-05-12T21:37:13.821Z"
   },
   {
    "duration": 5,
    "start_time": "2023-05-12T21:37:13.851Z"
   },
   {
    "duration": 11,
    "start_time": "2023-05-12T21:37:13.858Z"
   },
   {
    "duration": 38,
    "start_time": "2023-05-12T21:37:13.871Z"
   },
   {
    "duration": 17,
    "start_time": "2023-05-12T21:37:13.916Z"
   },
   {
    "duration": 17,
    "start_time": "2023-05-12T21:37:13.936Z"
   },
   {
    "duration": 16,
    "start_time": "2023-05-12T21:37:13.955Z"
   },
   {
    "duration": 62,
    "start_time": "2023-05-12T21:37:13.973Z"
   },
   {
    "duration": 98,
    "start_time": "2023-05-12T21:37:14.036Z"
   },
   {
    "duration": 145,
    "start_time": "2023-05-12T21:37:14.136Z"
   },
   {
    "duration": 34,
    "start_time": "2023-05-12T21:37:14.283Z"
   },
   {
    "duration": 24,
    "start_time": "2023-05-12T21:37:14.319Z"
   },
   {
    "duration": 21,
    "start_time": "2023-05-12T21:37:14.346Z"
   },
   {
    "duration": 100,
    "start_time": "2023-05-12T21:37:14.369Z"
   },
   {
    "duration": 34,
    "start_time": "2023-05-12T21:37:14.471Z"
   },
   {
    "duration": 23,
    "start_time": "2023-05-12T21:37:14.512Z"
   },
   {
    "duration": 13,
    "start_time": "2023-05-12T21:37:14.538Z"
   },
   {
    "duration": 15,
    "start_time": "2023-05-12T21:37:14.553Z"
   },
   {
    "duration": 10,
    "start_time": "2023-05-12T21:37:14.571Z"
   },
   {
    "duration": 19,
    "start_time": "2023-05-12T21:37:14.587Z"
   },
   {
    "duration": 14,
    "start_time": "2023-05-12T21:37:14.608Z"
   },
   {
    "duration": 13,
    "start_time": "2023-05-12T21:37:14.624Z"
   },
   {
    "duration": 11,
    "start_time": "2023-05-12T21:37:14.640Z"
   },
   {
    "duration": 17,
    "start_time": "2023-05-12T21:37:14.653Z"
   },
   {
    "duration": 33,
    "start_time": "2023-05-12T21:37:14.672Z"
   },
   {
    "duration": 25,
    "start_time": "2023-05-12T21:37:14.707Z"
   },
   {
    "duration": 9,
    "start_time": "2023-05-12T21:37:14.736Z"
   },
   {
    "duration": 11,
    "start_time": "2023-05-12T21:37:14.749Z"
   },
   {
    "duration": 11,
    "start_time": "2023-05-12T21:37:14.763Z"
   },
   {
    "duration": 33,
    "start_time": "2023-05-12T21:37:14.776Z"
   },
   {
    "duration": 14,
    "start_time": "2023-05-12T21:37:14.811Z"
   },
   {
    "duration": 13,
    "start_time": "2023-05-12T21:37:14.827Z"
   },
   {
    "duration": 10,
    "start_time": "2023-05-12T21:37:14.842Z"
   },
   {
    "duration": 1350,
    "start_time": "2023-05-12T21:39:39.956Z"
   },
   {
    "duration": 229,
    "start_time": "2023-05-12T21:39:41.312Z"
   },
   {
    "duration": 26,
    "start_time": "2023-05-12T21:39:41.544Z"
   },
   {
    "duration": 1304,
    "start_time": "2023-05-12T21:39:41.572Z"
   },
   {
    "duration": 57,
    "start_time": "2023-05-12T21:39:42.878Z"
   },
   {
    "duration": 27,
    "start_time": "2023-05-12T21:39:42.937Z"
   },
   {
    "duration": 166,
    "start_time": "2023-05-12T21:39:42.966Z"
   },
   {
    "duration": 56,
    "start_time": "2023-05-12T21:39:43.134Z"
   },
   {
    "duration": 6,
    "start_time": "2023-05-12T21:39:43.192Z"
   },
   {
    "duration": 17,
    "start_time": "2023-05-12T21:39:43.204Z"
   },
   {
    "duration": 27,
    "start_time": "2023-05-12T21:39:43.223Z"
   },
   {
    "duration": 6,
    "start_time": "2023-05-12T21:39:43.253Z"
   },
   {
    "duration": 53,
    "start_time": "2023-05-12T21:39:43.260Z"
   },
   {
    "duration": 18,
    "start_time": "2023-05-12T21:39:43.318Z"
   },
   {
    "duration": 5,
    "start_time": "2023-05-12T21:39:43.338Z"
   },
   {
    "duration": 10,
    "start_time": "2023-05-12T21:39:43.344Z"
   },
   {
    "duration": 33,
    "start_time": "2023-05-12T21:39:43.356Z"
   },
   {
    "duration": 14,
    "start_time": "2023-05-12T21:39:43.397Z"
   },
   {
    "duration": 26,
    "start_time": "2023-05-12T21:39:43.413Z"
   },
   {
    "duration": 20,
    "start_time": "2023-05-12T21:39:43.442Z"
   },
   {
    "duration": 50,
    "start_time": "2023-05-12T21:39:43.463Z"
   },
   {
    "duration": 103,
    "start_time": "2023-05-12T21:39:43.520Z"
   },
   {
    "duration": 149,
    "start_time": "2023-05-12T21:39:43.625Z"
   },
   {
    "duration": 27,
    "start_time": "2023-05-12T21:39:43.776Z"
   },
   {
    "duration": 34,
    "start_time": "2023-05-12T21:39:43.805Z"
   },
   {
    "duration": 19,
    "start_time": "2023-05-12T21:39:43.841Z"
   },
   {
    "duration": 116,
    "start_time": "2023-05-12T21:39:43.862Z"
   },
   {
    "duration": 23,
    "start_time": "2023-05-12T21:39:43.982Z"
   },
   {
    "duration": 39,
    "start_time": "2023-05-12T21:39:44.008Z"
   },
   {
    "duration": 22,
    "start_time": "2023-05-12T21:39:44.049Z"
   },
   {
    "duration": 10,
    "start_time": "2023-05-12T21:39:44.073Z"
   },
   {
    "duration": 38,
    "start_time": "2023-05-12T21:39:44.085Z"
   },
   {
    "duration": 23,
    "start_time": "2023-05-12T21:39:44.125Z"
   },
   {
    "duration": 8,
    "start_time": "2023-05-12T21:39:44.150Z"
   },
   {
    "duration": 9,
    "start_time": "2023-05-12T21:39:44.160Z"
   },
   {
    "duration": 10,
    "start_time": "2023-05-12T21:39:44.172Z"
   },
   {
    "duration": 19,
    "start_time": "2023-05-12T21:39:44.185Z"
   },
   {
    "duration": 24,
    "start_time": "2023-05-12T21:39:44.208Z"
   },
   {
    "duration": 11,
    "start_time": "2023-05-12T21:39:44.241Z"
   },
   {
    "duration": 28,
    "start_time": "2023-05-12T21:39:44.254Z"
   },
   {
    "duration": 29,
    "start_time": "2023-05-12T21:39:44.285Z"
   },
   {
    "duration": 17,
    "start_time": "2023-05-12T21:39:44.317Z"
   },
   {
    "duration": 24,
    "start_time": "2023-05-12T21:39:44.344Z"
   },
   {
    "duration": 9,
    "start_time": "2023-05-12T21:39:44.370Z"
   },
   {
    "duration": 29,
    "start_time": "2023-05-12T21:39:44.382Z"
   },
   {
    "duration": 16,
    "start_time": "2023-05-12T21:39:44.413Z"
   },
   {
    "duration": 1291,
    "start_time": "2023-05-13T08:18:51.869Z"
   },
   {
    "duration": 498,
    "start_time": "2023-05-13T08:18:54.678Z"
   },
   {
    "duration": 20,
    "start_time": "2023-05-13T08:18:56.775Z"
   },
   {
    "duration": 1067,
    "start_time": "2023-05-13T08:18:58.555Z"
   },
   {
    "duration": 19,
    "start_time": "2023-05-13T08:19:01.923Z"
   },
   {
    "duration": 14,
    "start_time": "2023-05-13T08:19:03.604Z"
   },
   {
    "duration": 123,
    "start_time": "2023-05-13T08:19:05.311Z"
   },
   {
    "duration": 45,
    "start_time": "2023-05-13T08:19:07.168Z"
   },
   {
    "duration": 4,
    "start_time": "2023-05-13T08:19:09.120Z"
   },
   {
    "duration": 11,
    "start_time": "2023-05-13T08:19:10.805Z"
   },
   {
    "duration": 28,
    "start_time": "2023-05-13T08:19:12.335Z"
   },
   {
    "duration": 5,
    "start_time": "2023-05-13T08:19:13.889Z"
   },
   {
    "duration": 51,
    "start_time": "2023-05-13T08:38:52.662Z"
   },
   {
    "duration": 7,
    "start_time": "2023-05-13T08:40:40.349Z"
   },
   {
    "duration": 1005,
    "start_time": "2023-05-13T08:41:03.585Z"
   },
   {
    "duration": 156,
    "start_time": "2023-05-13T08:42:23.954Z"
   },
   {
    "duration": 223,
    "start_time": "2023-05-13T08:42:48.838Z"
   },
   {
    "duration": 233,
    "start_time": "2023-05-13T08:43:04.050Z"
   },
   {
    "duration": 216,
    "start_time": "2023-05-13T08:43:29.625Z"
   },
   {
    "duration": 220,
    "start_time": "2023-05-13T08:43:55.493Z"
   },
   {
    "duration": 21,
    "start_time": "2023-05-13T08:51:11.171Z"
   },
   {
    "duration": 682,
    "start_time": "2023-05-13T08:51:16.460Z"
   },
   {
    "duration": 508,
    "start_time": "2023-05-13T08:51:18.439Z"
   },
   {
    "duration": 20,
    "start_time": "2023-05-13T08:51:20.364Z"
   },
   {
    "duration": 1093,
    "start_time": "2023-05-13T08:51:21.929Z"
   },
   {
    "duration": 20,
    "start_time": "2023-05-13T08:51:24.890Z"
   },
   {
    "duration": 16,
    "start_time": "2023-05-13T08:51:26.729Z"
   },
   {
    "duration": 134,
    "start_time": "2023-05-13T08:51:28.244Z"
   },
   {
    "duration": 49,
    "start_time": "2023-05-13T08:51:30.199Z"
   },
   {
    "duration": 6,
    "start_time": "2023-05-13T08:51:31.834Z"
   },
   {
    "duration": 11,
    "start_time": "2023-05-13T08:51:33.270Z"
   },
   {
    "duration": 26,
    "start_time": "2023-05-13T08:51:34.614Z"
   },
   {
    "duration": 5,
    "start_time": "2023-05-13T08:51:35.989Z"
   },
   {
    "duration": 685,
    "start_time": "2023-05-13T08:51:37.948Z"
   },
   {
    "duration": 267,
    "start_time": "2023-05-13T08:51:57.103Z"
   },
   {
    "duration": 292,
    "start_time": "2023-05-13T08:52:06.002Z"
   },
   {
    "duration": 197,
    "start_time": "2023-05-13T08:52:25.414Z"
   },
   {
    "duration": 63,
    "start_time": "2023-05-13T08:52:56.094Z"
   },
   {
    "duration": 276,
    "start_time": "2023-05-13T08:53:05.948Z"
   },
   {
    "duration": 196,
    "start_time": "2023-05-13T08:53:20.706Z"
   },
   {
    "duration": 307,
    "start_time": "2023-05-13T08:53:30.763Z"
   },
   {
    "duration": 199,
    "start_time": "2023-05-13T08:54:02.640Z"
   },
   {
    "duration": 3,
    "start_time": "2023-05-13T08:55:46.599Z"
   },
   {
    "duration": 234,
    "start_time": "2023-05-13T08:55:50.203Z"
   },
   {
    "duration": 211,
    "start_time": "2023-05-13T08:55:56.812Z"
   },
   {
    "duration": 284,
    "start_time": "2023-05-13T08:56:12.096Z"
   },
   {
    "duration": 294,
    "start_time": "2023-05-13T08:57:13.210Z"
   },
   {
    "duration": 266,
    "start_time": "2023-05-13T08:57:31.199Z"
   },
   {
    "duration": 370,
    "start_time": "2023-05-13T08:59:47.776Z"
   },
   {
    "duration": 314,
    "start_time": "2023-05-13T09:00:14.208Z"
   },
   {
    "duration": 291,
    "start_time": "2023-05-13T09:00:20.542Z"
   },
   {
    "duration": 262,
    "start_time": "2023-05-13T09:00:26.501Z"
   },
   {
    "duration": 309,
    "start_time": "2023-05-13T09:00:32.915Z"
   },
   {
    "duration": 295,
    "start_time": "2023-05-13T09:00:47.432Z"
   },
   {
    "duration": 376,
    "start_time": "2023-05-13T09:01:33.530Z"
   },
   {
    "duration": 1056,
    "start_time": "2023-05-13T14:13:16.185Z"
   },
   {
    "duration": 177,
    "start_time": "2023-05-13T14:13:17.242Z"
   },
   {
    "duration": 18,
    "start_time": "2023-05-13T14:13:17.420Z"
   },
   {
    "duration": 1180,
    "start_time": "2023-05-13T14:13:17.443Z"
   },
   {
    "duration": 30,
    "start_time": "2023-05-13T14:13:18.625Z"
   },
   {
    "duration": 18,
    "start_time": "2023-05-13T14:13:18.657Z"
   },
   {
    "duration": 141,
    "start_time": "2023-05-13T14:13:18.679Z"
   },
   {
    "duration": 63,
    "start_time": "2023-05-13T14:13:18.822Z"
   },
   {
    "duration": 3,
    "start_time": "2023-05-13T14:13:18.888Z"
   },
   {
    "duration": 34,
    "start_time": "2023-05-13T14:13:18.895Z"
   },
   {
    "duration": 28,
    "start_time": "2023-05-13T14:13:18.931Z"
   },
   {
    "duration": 7,
    "start_time": "2023-05-13T14:13:18.961Z"
   },
   {
    "duration": 433,
    "start_time": "2023-05-13T14:13:18.971Z"
   },
   {
    "duration": 25,
    "start_time": "2023-05-13T14:13:19.406Z"
   },
   {
    "duration": 5,
    "start_time": "2023-05-13T14:13:19.432Z"
   },
   {
    "duration": 9,
    "start_time": "2023-05-13T14:13:19.438Z"
   },
   {
    "duration": 18,
    "start_time": "2023-05-13T14:13:19.448Z"
   },
   {
    "duration": 5,
    "start_time": "2023-05-13T14:13:19.468Z"
   },
   {
    "duration": 55,
    "start_time": "2023-05-13T14:13:19.475Z"
   },
   {
    "duration": 17,
    "start_time": "2023-05-13T14:13:19.532Z"
   },
   {
    "duration": 16,
    "start_time": "2023-05-13T14:13:19.551Z"
   },
   {
    "duration": 106,
    "start_time": "2023-05-13T14:13:19.568Z"
   },
   {
    "duration": 125,
    "start_time": "2023-05-13T14:13:19.675Z"
   },
   {
    "duration": 24,
    "start_time": "2023-05-13T14:13:19.802Z"
   },
   {
    "duration": 26,
    "start_time": "2023-05-13T14:13:19.828Z"
   },
   {
    "duration": 24,
    "start_time": "2023-05-13T14:13:19.855Z"
   },
   {
    "duration": 81,
    "start_time": "2023-05-13T14:13:19.881Z"
   },
   {
    "duration": 9,
    "start_time": "2023-05-13T14:13:19.965Z"
   },
   {
    "duration": 12,
    "start_time": "2023-05-13T14:13:19.976Z"
   },
   {
    "duration": 31,
    "start_time": "2023-05-13T14:13:19.990Z"
   },
   {
    "duration": 15,
    "start_time": "2023-05-13T14:13:20.023Z"
   },
   {
    "duration": 17,
    "start_time": "2023-05-13T14:13:20.040Z"
   },
   {
    "duration": 71,
    "start_time": "2023-05-13T14:13:20.059Z"
   },
   {
    "duration": 40,
    "start_time": "2023-05-13T14:13:20.131Z"
   },
   {
    "duration": 24,
    "start_time": "2023-05-13T14:13:20.173Z"
   },
   {
    "duration": 26,
    "start_time": "2023-05-13T14:13:20.199Z"
   },
   {
    "duration": 10,
    "start_time": "2023-05-13T14:13:20.227Z"
   },
   {
    "duration": 9,
    "start_time": "2023-05-13T14:13:20.238Z"
   },
   {
    "duration": 23,
    "start_time": "2023-05-13T14:13:20.248Z"
   },
   {
    "duration": 17,
    "start_time": "2023-05-13T14:13:20.273Z"
   },
   {
    "duration": 36,
    "start_time": "2023-05-13T14:13:20.291Z"
   },
   {
    "duration": 12,
    "start_time": "2023-05-13T14:13:20.328Z"
   },
   {
    "duration": 11,
    "start_time": "2023-05-13T14:13:20.342Z"
   },
   {
    "duration": 13,
    "start_time": "2023-05-13T14:13:20.354Z"
   },
   {
    "duration": 13,
    "start_time": "2023-05-13T14:13:20.369Z"
   },
   {
    "duration": 18,
    "start_time": "2023-05-13T14:13:20.383Z"
   },
   {
    "duration": 65,
    "start_time": "2023-05-18T17:55:47.918Z"
   },
   {
    "duration": 1153,
    "start_time": "2023-05-18T17:55:55.112Z"
   },
   {
    "duration": 773,
    "start_time": "2023-05-18T17:56:01.001Z"
   },
   {
    "duration": 22,
    "start_time": "2023-05-18T17:56:03.393Z"
   },
   {
    "duration": 1160,
    "start_time": "2023-05-18T17:56:05.182Z"
   },
   {
    "duration": 22,
    "start_time": "2023-05-18T17:56:07.841Z"
   },
   {
    "duration": 14,
    "start_time": "2023-05-18T17:56:09.947Z"
   },
   {
    "duration": 145,
    "start_time": "2023-05-18T17:56:11.353Z"
   },
   {
    "duration": 48,
    "start_time": "2023-05-18T17:56:14.441Z"
   },
   {
    "duration": 4,
    "start_time": "2023-05-18T17:56:16.249Z"
   },
   {
    "duration": 11,
    "start_time": "2023-05-18T17:56:17.798Z"
   },
   {
    "duration": 23,
    "start_time": "2023-05-18T17:56:20.094Z"
   },
   {
    "duration": 6,
    "start_time": "2023-05-18T17:56:22.688Z"
   },
   {
    "duration": 154,
    "start_time": "2023-05-18T17:56:27.989Z"
   },
   {
    "duration": 139,
    "start_time": "2023-05-18T17:58:02.257Z"
   },
   {
    "duration": 70,
    "start_time": "2023-07-12T09:00:39.115Z"
   },
   {
    "duration": 1319,
    "start_time": "2023-07-12T09:00:45.405Z"
   },
   {
    "duration": 753,
    "start_time": "2023-07-12T09:00:49.236Z"
   },
   {
    "duration": 20,
    "start_time": "2023-07-12T09:00:51.347Z"
   },
   {
    "duration": 978,
    "start_time": "2023-07-12T09:00:55.625Z"
   },
   {
    "duration": 349,
    "start_time": "2023-07-12T09:02:00.108Z"
   },
   {
    "duration": 300,
    "start_time": "2023-07-12T09:02:13.814Z"
   },
   {
    "duration": 274,
    "start_time": "2023-07-12T09:02:24.583Z"
   },
   {
    "duration": 2,
    "start_time": "2023-07-12T09:02:36.084Z"
   },
   {
    "duration": 165,
    "start_time": "2023-07-12T09:02:37.806Z"
   },
   {
    "duration": 19,
    "start_time": "2023-07-12T09:02:39.548Z"
   },
   {
    "duration": 4,
    "start_time": "2023-07-12T09:02:41.181Z"
   },
   {
    "duration": 7,
    "start_time": "2023-07-12T09:02:44.483Z"
   },
   {
    "duration": 20,
    "start_time": "2023-07-12T09:02:54.220Z"
   },
   {
    "duration": 1163,
    "start_time": "2023-07-12T09:03:25.442Z"
   },
   {
    "duration": 299,
    "start_time": "2023-07-12T09:05:39.579Z"
   },
   {
    "duration": 3,
    "start_time": "2023-07-12T10:09:45.711Z"
   },
   {
    "duration": 163,
    "start_time": "2023-07-12T10:09:47.698Z"
   },
   {
    "duration": 21,
    "start_time": "2023-07-12T10:09:49.509Z"
   },
   {
    "duration": 1055,
    "start_time": "2023-07-12T10:09:51.647Z"
   }
  ],
  "kernelspec": {
   "display_name": "Python 3 (ipykernel)",
   "language": "python",
   "name": "python3"
  },
  "language_info": {
   "codemirror_mode": {
    "name": "ipython",
    "version": 3
   },
   "file_extension": ".py",
   "mimetype": "text/x-python",
   "name": "python",
   "nbconvert_exporter": "python",
   "pygments_lexer": "ipython3",
   "version": "3.10.9"
  },
  "toc": {
   "base_numbering": 1,
   "nav_menu": {},
   "number_sections": true,
   "sideBar": true,
   "skip_h1_title": true,
   "title_cell": "Table of Contents",
   "title_sidebar": "Contents",
   "toc_cell": false,
   "toc_position": {},
   "toc_section_display": true,
   "toc_window_display": false
  }
 },
 "nbformat": 4,
 "nbformat_minor": 2
}
